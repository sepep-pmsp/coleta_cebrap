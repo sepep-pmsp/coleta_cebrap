{
  "nbformat": 4,
  "nbformat_minor": 0,
  "metadata": {
    "colab": {
      "provenance": []
    },
    "kernelspec": {
      "name": "python3",
      "display_name": "Python 3"
    },
    "language_info": {
      "name": "python"
    }
  },
  "cells": [
    {
      "cell_type": "markdown",
      "source": [
        "Notebook referente a [issue][issue]\n",
        "\n",
        "[issue]: https://github.com/sepep-pmsp/siiau/issues/33"
      ],
      "metadata": {
        "id": "yTGasbsrjx0z"
      }
    },
    {
      "cell_type": "code",
      "execution_count": null,
      "metadata": {
        "id": "SIOjlS-cdmsp"
      },
      "outputs": [],
      "source": [
        "import requests\n",
        "from pathlib import Path\n",
        "import zipfile\n",
        "import pandas as pd\n",
        "import concurrent.futures\n",
        "import geopandas as gpd\n",
        "from shapely import Point\n",
        "from IPython.display import clear_output"
      ]
    },
    {
      "cell_type": "code",
      "source": [
        "!pip install basedosdados==2.0.0b16\n",
        "clear_output()"
      ],
      "metadata": {
        "id": "5Pq22YpyT77I"
      },
      "execution_count": null,
      "outputs": []
    },
    {
      "cell_type": "markdown",
      "source": [
        "# Funçoes"
      ],
      "metadata": {
        "id": "ZKSevQsY7RwH"
      }
    },
    {
      "cell_type": "code",
      "source": [
        "def download_and_zip_extraction(url: str) -> None:\n",
        "\n",
        "    base_path = Path(\"data\")\n",
        "    path_input = base_path / \"input\"\n",
        "\n",
        "    response = requests.get(url, stream=True)\n",
        "    response.raise_for_status()\n",
        "\n",
        "    save_path = path_input / url.split('/')[-1]\n",
        "\n",
        "    path_input.mkdir(parents=True, exist_ok=True)\n",
        "\n",
        "    with open(save_path, \"wb\") as fd:\n",
        "        for chunk in response.iter_content(chunk_size=128):\n",
        "            fd.write(chunk)\n",
        "\n",
        "    with zipfile.ZipFile(save_path) as z:\n",
        "        z.extractall(path_input)"
      ],
      "metadata": {
        "id": "oBFto5IC7TEl"
      },
      "execution_count": null,
      "outputs": []
    },
    {
      "cell_type": "markdown",
      "source": [
        "# Querys e constantes"
      ],
      "metadata": {
        "id": "1kGLx-QoUgD6"
      }
    },
    {
      "cell_type": "code",
      "source": [
        "query_ms_sinasc = \"\"\"\n",
        "SELECT\n",
        "    *\n",
        "FROM `basedosdados.br_ms_sinasc.microdados` AS dados\n",
        "where ano = 2023 and id_municipio_nascimento = '3550308' and codigo_estabelecimento is not null\n",
        "\"\"\"\n",
        "\n",
        "query_ms_sim = \"\"\"\n",
        "SELECT\n",
        "  *\n",
        "FROM `basedosdados.br_ms_sim.microdados` AS dados\n",
        "where ano = 2022 and id_municipio_ocorrencia = '3550308' and codigo_estabelecimento is not null\n",
        "\"\"\"\n",
        "\n",
        "billing_project_id = \"br-fbsp-absp\" # Define o nome do projeto Google que está vinculado ao email do colab"
      ],
      "metadata": {
        "id": "K78ToSJBUN5K"
      },
      "execution_count": null,
      "outputs": []
    },
    {
      "cell_type": "markdown",
      "source": [
        "# Download [CNES][cnes] Estabelecimentos e [Censo][censo] 2020 geometry\n",
        "\n",
        "[cnes]: https://dados.gov.br/dados/conjuntos-dados/cnes-cadastro-nacional-de-estabelecimentos-de-saude\n",
        "[censo]: http://ftp.ibge.gov.br/Censos/Censo_Demografico_2022/Agregados_por_Setores_Censitarios/malha_com_atributos/distritos/shp/UF/SP"
      ],
      "metadata": {
        "id": "LDVH4K-I7Jx3"
      }
    },
    {
      "cell_type": "code",
      "source": [
        "url = 'https://s3.sa-east-1.amazonaws.com/ckan.saude.gov.br/CNES/cnes_estabelecimentos.zip'\n",
        "url_sp_distrito_geo = 'http://ftp.ibge.gov.br/Censos/Censo_Demografico_2022/Agregados_por_Setores_Censitarios/malha_com_atributos/distritos/shp/UF/SP/SP_distritos_CD2022.zip'\n",
        "\n",
        "urls = [url, url_sp_distrito_geo]\n",
        "\n",
        "with concurrent.futures.ThreadPoolExecutor() as executor:\n",
        "  executor.map(download_and_zip_extraction, urls)"
      ],
      "metadata": {
        "id": "edqfI6H-3WJ2"
      },
      "execution_count": null,
      "outputs": []
    },
    {
      "cell_type": "markdown",
      "source": [
        "# Ler [CNES][cnes] estabelecimentos\n",
        "\n",
        "[cnes]: https://dados.gov.br/dados/conjuntos-dados/cnes-cadastro-nacional-de-estabelecimentos-de-saude"
      ],
      "metadata": {
        "id": "xPWoVZuD75yQ"
      }
    },
    {
      "cell_type": "code",
      "source": [
        "cnes_estabelecimentos = pd.read_csv('/content/data/input/cnes_estabelecimentos.csv', dtype=str, sep=';',\n",
        "                                    encoding='latin-1', usecols=['CO_CNES', 'CO_UNIDADE', 'CO_IBGE', 'NU_LATITUDE', 'NU_LONGITUDE'])\n",
        "\n",
        "cnes_estabelecimentos_sp = cnes_estabelecimentos[cnes_estabelecimentos.CO_IBGE == '355030']\n",
        "\n",
        "# Transformar longitue e latitude em Point objeto\n",
        "cnes_estabelecimentos_sp['point'] = cnes_estabelecimentos_sp.apply(lambda row: Point(row.NU_LONGITUDE, row.NU_LATITUDE), axis=1)\n",
        "\n",
        "cnes_estabelecimentos_sp_geo_df = gpd.GeoDataFrame(cnes_estabelecimentos_sp, geometry='point')\n",
        "\n",
        "cnes_estabelecimentos_sp_geo_df.crs = 'EPSG:4674' # igular CRS"
      ],
      "metadata": {
        "id": "gs5Dnwd-8DmM"
      },
      "execution_count": null,
      "outputs": []
    },
    {
      "cell_type": "markdown",
      "source": [
        "# Ler geometry do [Censo 2022][censo]\n",
        "\n",
        "[censo]: http://ftp.ibge.gov.br/Censos/Censo_Demografico_2022/Agregados_por_Setores_Censitarios/malha_com_atributos/distritos/shp/UF/SP"
      ],
      "metadata": {
        "id": "-uKaaTaWJ2F5"
      }
    },
    {
      "cell_type": "code",
      "source": [
        "geo_df_sp = gpd.read_file('/content/data/input/SP_distritos_CD2022.shp', columns=['CD_DIST', 'NM_DIST', 'geometry'])\n",
        "geo_df_sp = geo_df_sp[geo_df_sp.CD_DIST.str.contains(\"3550308\")]"
      ],
      "metadata": {
        "id": "rpzJesFw8NAl"
      },
      "execution_count": null,
      "outputs": []
    },
    {
      "cell_type": "markdown",
      "source": [
        "# Juntas [CENSO][censo] Geometry com Point de [CNES][cnes]\n",
        "\n",
        "[cnes]: https://dados.gov.br/dados/conjuntos-dados/cnes-cadastro-nacional-de-estabelecimentos-de-saude\n",
        "[censo]: http://ftp.ibge.gov.br/Censos/Censo_Demografico_2022/Agregados_por_Setores_Censitarios/malha_com_atributos/distritos/shp/UF/SP"
      ],
      "metadata": {
        "id": "Dm91c7RSPkfI"
      }
    },
    {
      "cell_type": "code",
      "source": [
        "cnes_sp_distrito_geo_df = geo_df_sp.sjoin(cnes_estabelecimentos_sp_geo_df, how='left', predicate='contains')"
      ],
      "metadata": {
        "id": "uroMBeIkMShS"
      },
      "execution_count": null,
      "outputs": []
    },
    {
      "cell_type": "markdown",
      "source": [
        "# Puxar dados [Sinasc][sinasc]\n",
        "\n",
        "[sinasc]: https://basedosdados.org/dataset/48ccef51-8207-40ee-af5b-134c8ac3fb8c?table=80359f9a-8189-4693-bdf7-ebf7be0d2fff"
      ],
      "metadata": {
        "id": "ze_iwVbkUuwB"
      }
    },
    {
      "cell_type": "code",
      "source": [
        "import basedosdados as bd\n",
        "\n",
        "df_ms_sinasc = bd.read_sql(\n",
        "      query_ms_sinasc,\n",
        "      billing_project_id=billing_project_id,\n",
        "  )\n",
        "\n",
        "df_ms_sinasc.codigo_estabelecimento = df_ms_sinasc.codigo_estabelecimento.str.lstrip('0') # Limpando zero a esquerda"
      ],
      "metadata": {
        "colab": {
          "base_uri": "https://localhost:8080/"
        },
        "id": "SxgvrugFUyww",
        "outputId": "ef6308d6-850a-47ad-f3d9-e672ef4dc7d3"
      },
      "execution_count": null,
      "outputs": [
        {
          "output_type": "stream",
          "name": "stdout",
          "text": [
            "Downloading: 100%|\u001b[32m██████████\u001b[0m|\n"
          ]
        }
      ]
    },
    {
      "cell_type": "markdown",
      "source": [
        "# Juntar [SINASC][sinasc] com [CNES][cnes] com distritos\n",
        "\n",
        "[sinasc]: https://basedosdados.org/dataset/48ccef51-8207-40ee-af5b-134c8ac3fb8c?table=80359f9a-8189-4693-bdf7-ebf7be0d2fff\n",
        "[cnes]: https://dados.gov.br/dados/conjuntos-dados/cnes-cadastro-nacional-de-estabelecimentos-de-saude"
      ],
      "metadata": {
        "id": "QPG-AfXMaHWD"
      }
    },
    {
      "cell_type": "code",
      "source": [
        "df_ms_sinasc_with_distritos = df_ms_sinasc.merge(cnes_sp_distrito_geo_df, how='left', left_on='codigo_estabelecimento', right_on='CO_CNES')"
      ],
      "metadata": {
        "id": "mCfrgnntW4jb"
      },
      "execution_count": null,
      "outputs": []
    },
    {
      "cell_type": "markdown",
      "source": [
        "# Indicadores vindo de [SINASC][sinasc]\n",
        "\n",
        "[sinasc]: https://basedosdados.org/dataset/48ccef51-8207-40ee-af5b-134c8ac3fb8c?table=80359f9a-8189-4693-bdf7-ebf7be0d2fff"
      ],
      "metadata": {
        "id": "FtnaPGW1H7ql"
      }
    },
    {
      "cell_type": "markdown",
      "source": [
        "### Proporção de nascidos vivos de mães que fizeram 7 ou mais consultas de pré natal"
      ],
      "metadata": {
        "id": "xOwdN9rCL2Ur"
      }
    },
    {
      "cell_type": "code",
      "source": [
        "df_ms_sinasc_pre_natal = df_ms_sinasc_with_distritos[df_ms_sinasc_with_distritos.pre_natal >= 7]\n",
        "df_ms_sinasc_pre_natal = df_ms_sinasc_pre_natal.groupby('NM_DIST').pre_natal.count()"
      ],
      "metadata": {
        "id": "rq95Yk92JUJb"
      },
      "execution_count": null,
      "outputs": []
    },
    {
      "cell_type": "markdown",
      "source": [
        "### Proporção de bebês nascidos vivos de mães adolescentes (10 a 19 anos)"
      ],
      "metadata": {
        "id": "eK95KzpPMSwT"
      }
    },
    {
      "cell_type": "code",
      "source": [
        "maes_adolescentes_mark = (df_ms_sinasc_with_distritos.idade_mae <= 19) & (df_ms_sinasc_with_distritos.idade_mae >= 10)\n",
        "df_ms_sinasc_maes_adolescentes = df_ms_sinasc_with_distritos[maes_adolescentes_mark]\n",
        "df_ms_sinasc_maes_adolescentes = df_ms_sinasc_maes_adolescentes.groupby('NM_DIST').idade_mae.count()"
      ],
      "metadata": {
        "id": "1XsmQF8nMihB"
      },
      "execution_count": null,
      "outputs": []
    },
    {
      "cell_type": "markdown",
      "source": [
        "### Proporção de bebês com baixo peso ao nascer (menos de 2,5 kg)"
      ],
      "metadata": {
        "id": "ycFgO4bBOO1a"
      }
    },
    {
      "cell_type": "code",
      "source": [
        "bebes_baixo_peso_mark = (df_ms_sinasc_with_distritos.peso <= 2500)\n",
        "df_ms_sinasc_bebes_baixo_peso = df_ms_sinasc_with_distritos[bebes_baixo_peso_mark]\n",
        "df_ms_sinasc_bebes_baixo_peso = df_ms_sinasc_bebes_baixo_peso.groupby('NM_DIST').peso.count()"
      ],
      "metadata": {
        "id": "48yPi_IlOSYr"
      },
      "execution_count": null,
      "outputs": []
    },
    {
      "cell_type": "markdown",
      "source": [
        "# Puxar dados [ms_sim][ms_sim] Microdados\n",
        "\n",
        "[ms_sim]: https://basedosdados.org/dataset/5beeec93-cbf3-43f6-9eea-9bee6a0d1683?table=dea823a5-cad7-4014-b77c-4aa33b3b0541"
      ],
      "metadata": {
        "id": "n95CXG42eZij"
      }
    },
    {
      "cell_type": "code",
      "source": [
        "df_ms_sim = bd.read_sql(\n",
        "      query_ms_sim,\n",
        "      billing_project_id=billing_project_id,\n",
        "  )\n",
        "\n",
        "df_ms_sim.codigo_estabelecimento = df_ms_sim.codigo_estabelecimento.str.rstrip('.0') # Limpando zero a esquerda"
      ],
      "metadata": {
        "colab": {
          "base_uri": "https://localhost:8080/"
        },
        "id": "t9-FtXI7eu5-",
        "outputId": "9db95708-1e4e-4465-b4bc-ebf092278e71"
      },
      "execution_count": null,
      "outputs": [
        {
          "output_type": "stream",
          "name": "stdout",
          "text": [
            "Downloading: 100%|\u001b[32m██████████\u001b[0m|\n"
          ]
        }
      ]
    },
    {
      "cell_type": "markdown",
      "source": [
        "# Juntar [MS_SIM][ms_sim] com [CNES][cnes] com distritos\n",
        "\n",
        "[ms_sim]: https://basedosdados.org/dataset/5beeec93-cbf3-43f6-9eea-9bee6a0d1683?table=dea823a5-cad7-4014-b77c-4aa33b3b0541\n",
        "[cnes]: https://dados.gov.br/dados/conjuntos-dados/cnes-cadastro-nacional-de-estabelecimentos-de-saude"
      ],
      "metadata": {
        "id": "-kucb1dmhw6x"
      }
    },
    {
      "cell_type": "code",
      "source": [
        "df_ms_sim_with_distritos =  df_ms_sim.merge(cnes_sp_distrito_geo_df, how='left', left_on='codigo_estabelecimento', right_on='CO_CNES')"
      ],
      "metadata": {
        "id": "mCM2ZNeshkLX"
      },
      "execution_count": null,
      "outputs": []
    },
    {
      "cell_type": "markdown",
      "source": [
        "# Indicadores vindo de [MS_SIM][ms_sim]\n",
        "\n",
        "[ms_sim]: https://basedosdados.org/dataset/5beeec93-cbf3-43f6-9eea-9bee6a0d1683?table=dea823a5-cad7-4014-b77c-4aa33b3b0541"
      ],
      "metadata": {
        "id": "CbYOPC8KPrUj"
      }
    },
    {
      "cell_type": "markdown",
      "source": [
        "### Mortalidade materna"
      ],
      "metadata": {
        "id": "6lKhpWDsPzpZ"
      }
    },
    {
      "cell_type": "code",
      "source": [
        "df_ms_sim_with_mortalidade_materna = df_ms_sim_with_distritos.groupby('NM_DIST').data_obito.count()"
      ],
      "metadata": {
        "id": "68ekvBXcPwgs"
      },
      "execution_count": null,
      "outputs": []
    },
    {
      "cell_type": "markdown",
      "source": [
        "### Idade média ao morrer"
      ],
      "metadata": {
        "id": "VB0Cpsr5P4MU"
      }
    },
    {
      "cell_type": "code",
      "source": [
        "df_ms_sim_with_idade_media = df_ms_sim_with_distritos.groupby('NM_DIST').idade.mean().round(2)"
      ],
      "metadata": {
        "id": "1Bubgw_QTg8a"
      },
      "execution_count": null,
      "outputs": []
    },
    {
      "cell_type": "markdown",
      "source": [
        "# Juntando indicadores -> [Excel][excel]\n",
        "\n",
        "[excel]: https://docs.google.com/spreadsheets/d/1wDRZC8e1xuYIk99AHdjL5LkIFevf_6HU/edit?usp=sharing&ouid=115854210799010302684&rtpof=true&sd=true\n",
        "\n",
        "\n"
      ],
      "metadata": {
        "id": "NfpKlxicWnwB"
      }
    },
    {
      "cell_type": "code",
      "source": [
        "colunas = [\n",
        "    'Proporção de nascidos vivos de mães que fizeram 7 ou mais consultas de pré natal - SINASC 2023',\n",
        "    'Proporção de bebês nascidos vivos de mães adolescentes (10 a 19 anos) - SINASC 2023',\n",
        "    'Proporção de bebês com baixo peso ao nascer (menos de 2,5 kg) - SINASC 2022',\n",
        "    'Mortalidade materna - SIM 2022',\n",
        "    'Idade média ao morrer - SIM 2022']\n",
        "\n",
        "indicadores_sinasc = [df_ms_sinasc_pre_natal,\n",
        "                      df_ms_sinasc_maes_adolescentes,\n",
        "                      df_ms_sinasc_bebes_baixo_peso,\n",
        "                      df_ms_sim_with_mortalidade_materna,\n",
        "                      df_ms_sim_with_idade_media]\n",
        "\n",
        "indicadores_sinasc = pd.concat(indicadores_sinasc, axis=1)\n",
        "\n",
        "indicadores_sinasc.columns = colunas\n",
        "indicadores_sinasc.index.names = ['Distritos']\n",
        "\n",
        "indicadores_sinasc.to_excel('indicadores_mortalidade.xlsx')"
      ],
      "metadata": {
        "id": "ijlx7MvWVzcr"
      },
      "execution_count": null,
      "outputs": []
    }
  ]
}