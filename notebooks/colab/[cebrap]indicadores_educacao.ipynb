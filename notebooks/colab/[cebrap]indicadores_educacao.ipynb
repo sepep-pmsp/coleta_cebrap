{
  "nbformat": 4,
  "nbformat_minor": 0,
  "metadata": {
    "colab": {
      "provenance": []
    },
    "kernelspec": {
      "name": "python3",
      "display_name": "Python 3"
    },
    "language_info": {
      "name": "python"
    }
  },
  "cells": [
    {
      "cell_type": "code",
      "execution_count": 1,
      "metadata": {
        "id": "efn8nZuNegOZ"
      },
      "outputs": [],
      "source": [
        "import pandas as pd\n",
        "import unicodedata"
      ]
    },
    {
      "cell_type": "markdown",
      "source": [
        "# Funçoes"
      ],
      "metadata": {
        "id": "reQ8Jw1ThgXU"
      }
    },
    {
      "cell_type": "code",
      "source": [
        "def slugify(s: str) -> str:\n",
        "  s = s.strip().lower()\n",
        "  s = unicodedata.normalize(\"NFD\", s)\n",
        "  s = s.encode(\"ascii\", \"ignore\")\n",
        "  s = s.decode(\"utf-8\")\n",
        "  s = s.lower().strip()\n",
        "  return s"
      ],
      "metadata": {
        "id": "oblzX6Lxhhuy"
      },
      "execution_count": 2,
      "outputs": []
    },
    {
      "cell_type": "markdown",
      "source": [
        "# Tratamento"
      ],
      "metadata": {
        "id": "SQbOA4BBh4MZ"
      }
    },
    {
      "cell_type": "code",
      "source": [
        "columns_order_rename = {'NM_DIST': 'distrito',\n",
        "  '0 a 4 anos': '0 a 4 anos - Censo 2022',\n",
        "  '5 a 9 anos': '5 a 9 anos - Censo 2022',\n",
        "  '10 a 14 anos': '10 a 14 anos - Censo 2022',\n",
        "  '15 a 19 anos': '15 a 19 anos - Censo 2022',\n",
        "  '5 a 19 anos': '5 a 19 anos - Censo 2022',\n",
        "  'quantidade_matricula_infantil_creche': 'quantidade_matricula_infantil_creche - INEP 2023',\n",
        "  'quantidade_matricula_educacao_basica': 'quantidade_matricula_educacao_basica - INEP 2023',\n",
        "  'quantidade_matricula_infantil': 'quantidade_matricula_infantil - INEP 2023',\n",
        "  'quantidade_matricula_infantil_pre_escola': 'quantidade_matricula_infantil_pre_escola - INEP 2023',\n",
        "  'quantidade_matricula_fundamental': 'quantidade_matricula_fundamental - INEP 2023',\n",
        "  'quantidade_matricula_medio': 'quantidade_matricula_medio - INEP 2023',\n",
        "  'quantidade_matricula_idade_0_3': 'quantidade_matricula_idade_0_3 - INEP 2023',\n",
        "  'quantidade_matricula_idade_4_5': 'quantidade_matricula_idade_4_5 - INEP 2023',\n",
        "  'quantidade_matricula_idade_6_10': 'quantidade_matricula_idade_6_10 - INEP 2023',\n",
        "  'quantidade_matricula_idade_11_14': 'quantidade_matricula_idade_11_14 - INEP 2023',\n",
        "  'quantidade_matricula_idade_15_17': 'quantidade_matricula_idade_15_17 - INEP 2023',\n",
        "  'quantidade_matricula_idade_18': 'quantidade_matricula_idade_18 - INEP 2023',\n",
        "  'taxa de universalização da educação infantil': 'taxa de universalização da educação infantil - 2023',\n",
        "  'taxa de universalização da educação básica': 'taxa de universalização da educação básica - 2023'\n",
        "  }\n",
        "\n",
        "columns_to_sum = list(columns_order_rename.keys())[6:-2]\n",
        "\n",
        "# Load Tabelas\n",
        "\n",
        "df_escolas = pd.read_parquet('/content/escolas_distritos_geometry.parquet')\n",
        "df_censo_setor = pd.read_parquet('/content/ibge_censo_setor_censitario.parquet')\n",
        "\n",
        "# Preparar Tabela para os indicadores\n",
        "\n",
        "df_indicadores = df_escolas.groupby('nm_distrito_municipal')[columns_to_sum].sum()\n",
        "df_indicadores.index = [slugify(index) for index in df_indicadores.index]\n",
        "\n",
        "# Diminuir o tamanho tabela Censo e preparar para juntar com tabela Indicadores\n",
        "\n",
        "df_censo_setor_to_indicadores = df_censo_setor[['NM_DIST', '0 a 4 anos', '5 a 9 anos', '10 a 14 anos', '15 a 19 anos']]\n",
        "df_censo_setor_to_indicadores['5 a 19 anos'] = df_censo_setor_to_indicadores[['5 a 9 anos', '10 a 14 anos', '15 a 19 anos']].astype(int).sum(axis=1)\n",
        "\n",
        "df_censo_setor_to_indicadores.index = df_censo_setor_to_indicadores.NM_DIST.apply(slugify)\n",
        "\n",
        "# Juntar tabelas\n",
        "\n",
        "df_indicadores = pd.concat([df_indicadores, df_censo_setor_to_indicadores], axis=1)\n",
        "\n",
        "# Criar Indicadores\n",
        "\n",
        "df_indicadores['taxa de universalização da educação infantil'] = ((df_indicadores['quantidade_matricula_infantil_creche'].astype(int) /  df_indicadores['0 a 4 anos'].astype(int)) * 100).round(2)\n",
        "df_indicadores['taxa de universalização da educação básica'] = ((df_indicadores['quantidade_matricula_educacao_basica'].astype(int) /  df_indicadores['5 a 19 anos'].astype(int)) * 100).round(2)\n",
        "\n",
        "# Organizar e mudar nome das colunas\n",
        "\n",
        "df_indicadores.rename(columns=columns_order_rename, inplace=True)\n",
        "df_indicadores = df_indicadores.loc[:, columns_order_rename.values()]\n",
        "\n",
        "# Salve\n",
        "\n",
        "df_indicadores.to_excel(\"indicadores_educação.xlsx\", index=False)"
      ],
      "metadata": {
        "id": "YopaLT4rg1XJ"
      },
      "execution_count": null,
      "outputs": []
    }
  ]
}