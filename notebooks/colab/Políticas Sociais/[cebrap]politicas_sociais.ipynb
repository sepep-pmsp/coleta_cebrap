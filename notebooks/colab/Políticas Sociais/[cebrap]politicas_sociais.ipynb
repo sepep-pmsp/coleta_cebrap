{
  "nbformat": 4,
  "nbformat_minor": 0,
  "metadata": {
    "colab": {
      "provenance": [],
      "collapsed_sections": [
        "IVnoucUo1OFC",
        "pWna0sBzbiAd",
        "fAw8XXUWbhZ9",
        "mJ3ORFUgxaUM",
        "8ekPcHrWzgxd",
        "PF-_gzQ7vhJV",
        "cC1HGL5vzkAI",
        "CsW32Fgy3nZ0",
        "lTz1c2SoQocK",
        "-zASKHo-X2Wx",
        "ZKSevQsY7RwH",
        "FtnaPGW1H7ql",
        "n95CXG42eZij",
        "-kucb1dmhw6x",
        "NfpKlxicWnwB",
        "BWO2obxadLzK",
        "s2XbHHgAkERT",
        "t35tfinnjjxN",
        "G_MXyxiemD8A",
        "HPnrdHObkp3t",
        "ylENxfdGdLzP",
        "qhP1sxmopRDq",
        "5yqjmuxX4Ybi",
        "WBVa8JOs9MNK",
        "DU4iOv0BVmpO",
        "9GsVor_XcTK4",
        "Fq3H4VTleFaE",
        "qSUfKL51eHbF",
        "cBf37L5ein3R",
        "LXtqd5wIjuSQ"
      ]
    },
    "kernelspec": {
      "name": "python3",
      "display_name": "Python 3"
    },
    "language_info": {
      "name": "python"
    }
  },
  "cells": [
    {
      "cell_type": "code",
      "execution_count": 1,
      "metadata": {
        "id": "Ry7c-tpeunMB"
      },
      "outputs": [],
      "source": [
        "from io import BytesIO\n",
        "import tempfile\n",
        "import zipfile\n",
        "import pandas as pd\n",
        "import pyarrow as pa\n",
        "import pyarrow.parquet as pq\n",
        "import requests\n",
        "from tqdm import tqdm\n",
        "from bs4 import BeautifulSoup\n",
        "from pathlib import Path\n",
        "import concurrent.futures\n",
        "from glob import glob\n",
        "import geopandas as gpd\n",
        "from shapely import wkt, Point\n",
        "import pyproj\n",
        "from IPython.display import clear_output\n",
        "import unicodedata\n",
        "import matplotlib.pyplot as plt\n",
        "from shapely.geometry import Polygon\n"
      ]
    },
    {
      "cell_type": "code",
      "source": [
        "!pip install basedosdados==2.0.0b16\n",
        "clear_output()"
      ],
      "metadata": {
        "id": "-5jmt3IJ6wlI"
      },
      "execution_count": 2,
      "outputs": []
    },
    {
      "cell_type": "markdown",
      "source": [
        "# Constantes Globais"
      ],
      "metadata": {
        "id": "mM_8pSG2kYcl"
      }
    },
    {
      "cell_type": "code",
      "source": [
        "billing_project_id = \"br-fbsp-absp\" # Define o nome do projeto Google que está vinculado ao email do colab"
      ],
      "metadata": {
        "id": "6hRO4XeXkaKr"
      },
      "execution_count": 3,
      "outputs": []
    },
    {
      "cell_type": "markdown",
      "source": [
        "# Funçoes Globais"
      ],
      "metadata": {
        "id": "UUY3McLOtM10"
      }
    },
    {
      "cell_type": "code",
      "source": [
        "\n",
        "def slugify(s: str) -> str:\n",
        "  s = s.strip().lower()\n",
        "  s = unicodedata.normalize(\"NFD\", s)\n",
        "  s = s.encode(\"ascii\", \"ignore\")\n",
        "  s = s.decode(\"utf-8\")\n",
        "  s = s.lower().strip()\n",
        "  return s"
      ],
      "metadata": {
        "id": "oGRl8GgVtRer"
      },
      "execution_count": 4,
      "outputs": []
    },
    {
      "cell_type": "markdown",
      "source": [
        "# [Censo][censo-2022]\n",
        "\n",
        "- [x] População total\n",
        "- [x] ~~Mulheres chefes de família e com filhos menores de 15 anos(Não encontrado no Censo)~~\n",
        "- [x] % de pessoas de 65 anos ou mais -> [Codigo][indicadores_8]\n",
        "- [x] Total de pessoas de 65 anos ou mais -> [Codigo][indicadores_8]\n",
        "- [x] ~~% de mães chefes de família, sem fundamental completo e com filho menor de 15 anos de idade(Não encontrado no Censo)~~\n",
        "- [x] % Pessoa responsável pelo domicílio, Sexo feminino, 15 anos ou mais, Morador não sabe ler e escrever -> [Codigo][indicadores_1]\n",
        "- [x] Cor\n",
        "- [x] Proporção de crianças de 0 a 4 anos na população\n",
        "- [x] ~~Proporção de mulheres responsáveis pelo domicílio com menos de 30 anos (Não encontrado no Censo)~~\n",
        "- [x] Proporção de mulheres responsáveis pelo domicílio - Incidência distrital de chefe de família mulher (Sera mesma coisa?)\n",
        "- [X] Incidência distrital de longevidade (pessoas acima de 70 anos).(Parecida com \"% de pessoas de 65 anos ou mais\") -> [Codigo][indicadores_8]\n",
        "- [x] Proporção de pessoas responsáveis de 12 a 24 anos(Proporção de pessoas responsáveis de 10 a 29 anos) ->  [Codigo][indicadores_3]\n",
        "- [x] Proporção de mulheres reponsáveis com menos de 15 a 29 anos -> [Codigo][indicadores_4]\n",
        "- [x] Proporção de pessoas responsáveis não alfabetizadas\n",
        "- [x] % da população que vive em domicílios urbanos com o serviço de coleta de lixo -> [Codigo][indicadores_14]\n",
        "\n",
        "\n",
        "# Notas\n",
        "\n",
        "Indicadores com 'Incidência' talvez tenha faltado a informação de (cada x elementos)\n",
        "\n",
        "\n",
        "[censo-2022]: https://www.ibge.gov.br/estatisticas/sociais/trabalho/22827-censo-demografico-2022.html?=&t=downloads\n",
        "\n",
        "<!-- Mães chefes de família sem fundamental completo e com filho menor de 15 no distrito -->\n",
        "[indicadores_1]: https://colab.research.google.com/drive/14jIloiip7s8xnTffYS55Q0lF8Etwz5W5#scrollTo=asIcppjP882W\n",
        "\n",
        "<!-- Proporção de pessoas responsáveis de 10 a 29 anos -->\n",
        "[indicadores_3]: https://colab.research.google.com/drive/14jIloiip7s8xnTffYS55Q0lF8Etwz5W5#scrollTo=iLHtxICXF1wj\n",
        "\n",
        "<!-- Proporção de mulheres responsáveis pelo domicílio com menos de 30 anos -->\n",
        "[indicadores_4]: https://colab.research.google.com/drive/14jIloiip7s8xnTffYS55Q0lF8Etwz5W5#scrollTo=lTz1c2SoQocK\n",
        "\n",
        "<!-- % de pessoas de 65 anos ou mais -->\n",
        "[indicadores_8]: https://colab.research.google.com/drive/14jIloiip7s8xnTffYS55Q0lF8Etwz5W5#scrollTo=8ekPcHrWzgxd\n",
        "\n",
        "[indicadores_14]: https://colab.research.google.com/drive/14jIloiip7s8xnTffYS55Q0lF8Etwz5W5#scrollTo=j9tKAV8qvaEW"
      ],
      "metadata": {
        "id": "IVnoucUo1OFC"
      }
    },
    {
      "cell_type": "markdown",
      "source": [
        "## Funçoes"
      ],
      "metadata": {
        "id": "pWna0sBzbiAd"
      }
    },
    {
      "cell_type": "code",
      "execution_count": 5,
      "metadata": {
        "id": "t-lsQrF8axI5"
      },
      "outputs": [],
      "source": [
        "def download_files_from_ftp(url: str) -> None:\n",
        "    \"\"\"\n",
        "    Baixa um arquivo do FTP e retorna seu conteúdo em memória.\n",
        "\n",
        "    Parâmetros:\n",
        "    url (str): URL do arquivo a ser baixado.\n",
        "\n",
        "    Retorna:\n",
        "    Arquivo será baixado e extraido na pasta \"data/input\"\n",
        "    \"\"\"\n",
        "    base_path = Path(\"data\")\n",
        "    path_input = base_path / \"input\"\n",
        "\n",
        "    response = requests.get(url, stream=True)\n",
        "    response.raise_for_status()\n",
        "\n",
        "    save_path = path_input / url.split('/')[-1]\n",
        "\n",
        "    path_input.mkdir(parents=True, exist_ok=True)\n",
        "\n",
        "    with open(save_path, \"wb\") as fd:\n",
        "        for chunk in response.iter_content(chunk_size=128):\n",
        "            fd.write(chunk)\n",
        "\n",
        "    with zipfile.ZipFile(save_path) as z:\n",
        "        z.extractall(path_input)\n",
        "\n",
        "def get_sp_distrito_from_csv(path_csv: str) -> pd.DataFrame:\n",
        "\n",
        "  name_file = path_csv.split('/')[-1]\n",
        "\n",
        "  temp_df = pd.read_csv(path_csv, encoding='iso-8859-1', sep=\";\", dtype=str)\n",
        "\n",
        "  df_sp_distritos = temp_df[temp_df.CD_DIST.str.contains(\"3550308\")]\n",
        "\n",
        "  return df_sp_distritos\n",
        "\n",
        "def get_sp_setor_from_csv(path_csv: str, ids_seto: list) -> pd.DataFrame:\n",
        "\n",
        "  name_file = path_csv.split('/')[-1]\n",
        "\n",
        "  temp_df = pd.read_csv(path_csv, encoding='iso-8859-1', sep=\";\", dtype=str)\n",
        "\n",
        "  temp_df.columns = temp_df.columns.str.upper()\n",
        "\n",
        "  df_sp_distritos = temp_df[temp_df.CD_SETOR.isin(ids_seto)]\n",
        "\n",
        "  return df_sp_distritos\n",
        "\n",
        "def excel_sheet_to_df( path_dicionario: str, sheet_name: str) -> pd.DataFrame:\n",
        "\n",
        "  temp_df_sheet = pd.read_excel(path_dicionario, sheet_name=sheet_name)\n",
        "\n",
        "  temp_df_sheet = temp_df_sheet[['Variável', 'Descrição']]\n",
        "\n",
        "  return temp_df_sheet"
      ]
    },
    {
      "cell_type": "markdown",
      "source": [
        "## Download"
      ],
      "metadata": {
        "id": "fAw8XXUWbhZ9"
      }
    },
    {
      "cell_type": "code",
      "source": [
        "url_agregados_por_distrito_csv = 'http://ftp.ibge.gov.br/Censos/Censo_Demografico_2022/Agregados_por_Setores_Censitarios/Agregados_por_Distrito_csv/'\n",
        "url_sp_distrito_geo = 'http://ftp.ibge.gov.br/Censos/Censo_Demografico_2022/Agregados_por_Setores_Censitarios/malha_com_atributos/distritos/shp/UF/SP/SP_distritos_CD2022.zip'\n",
        "url_dicionario_de_dados = 'http://ftp.ibge.gov.br/Censos/Censo_Demografico_2022/Agregados_por_Setores_Censitarios/dicionario_de_dados_agregados_por_setores_censitarios.xlsx'\n",
        "\n",
        "response = requests.get(url_agregados_por_distrito_csv)\n",
        "\n",
        "soup = BeautifulSoup(response.text)\n",
        "\n",
        "links_agregados_por_distrito_csv = [url_agregados_por_distrito_csv + a.get('href') for a in soup.select('td a') if a.get('href').count('zip')] # Coleta o link dos Arquivos\n",
        "\n",
        "links_agregados_por_distrito_csv.extend([url_sp_distrito_geo, url_dicionario_de_dados]) # Adicionando tabela Distrito Geografico e Dicionario a lista de download\n",
        "\n",
        "with concurrent.futures.ThreadPoolExecutor() as executor:\n",
        "  executor.map(download_files_from_ftp, links_agregados_por_distrito_csv)\n",
        "\n"
      ],
      "metadata": {
        "id": "JTiSv7hFcsmc"
      },
      "execution_count": 6,
      "outputs": []
    },
    {
      "cell_type": "markdown",
      "source": [
        "## Preparar DataFrame - [Censo 2022][censo-2022]\n",
        "\n",
        "[censo-2022]: https://www.ibge.gov.br/estatisticas/sociais/trabalho/22827-censo-demografico-2022.html?=&t=downloads"
      ],
      "metadata": {
        "id": "mJ3ORFUgxaUM"
      }
    },
    {
      "cell_type": "code",
      "source": [
        "# Define tabela com as GeoGrafias\n",
        "geo_df_sp = gpd.read_file('/content/data/input/SP_distritos_CD2022.shp', columns=['CD_DIST', 'NM_DIST', 'geometry'])\n",
        "geo_df_sp = geo_df_sp[geo_df_sp.CD_DIST.str.contains(\"3550308\")]\n",
        "\n",
        "# Carrega o Dicionario e Prepara ele para o Rename\n",
        "path_dicionario = '/content/data/input/dicionario_de_dados_agregados_por_setores_censitarios.xlsx'\n",
        "sheet_names = ['Dicionário Básico', 'Dicionário não PCT', 'Dicionário PCT - Indígenas', 'Dicionário PCT - Quilombolas']\n",
        "\n",
        "df_dicionario = pd.concat([excel_sheet_to_df(path_dicionario, sheet_name) for sheet_name in sheet_names])\n",
        "\n",
        "dicionario_to_rename = dict(zip(df_dicionario.Variável, df_dicionario.Descrição))\n",
        "\n",
        "# Carrega e trata tabela final\n",
        "\n",
        "regex_glob = '/content/data/input/*.csv'\n",
        "\n",
        "csv_files = glob(regex_glob)\n",
        "\n",
        "temp_dfs = [get_sp_distrito_from_csv(csv_path) for csv_path in csv_files]\n",
        "\n",
        "temp_dfs.append(geo_df_sp) # Adicionando tabela Distrito Geografico\n",
        "\n",
        "first_temp_df = temp_dfs.pop(0) # Seleciona primeira tabela e remove ela da lista\n",
        "\n",
        "for temp_df in temp_dfs:\n",
        "\n",
        "  temp_df.drop('NM_DIST', axis=1, inplace=True)\n",
        "\n",
        "  first_temp_df = pd.merge(\n",
        "      first_temp_df,\n",
        "      temp_df,\n",
        "      how=\"left\",\n",
        "      on=\"CD_DIST\"\n",
        "  )\n",
        "\n",
        "first_temp_df.columns = first_temp_df.columns.str.upper() # Coloca todas as colunas como Upper para manipulação de nomes\n",
        "\n",
        "# Tratar ordem e nome das colunas\n",
        "columns_to_sorted = first_temp_df.columns[first_temp_df.columns.str.startswith('V')].sort_values().tolist()\n",
        "first_columns = first_temp_df.columns[~first_temp_df.columns.str.startswith('V')].tolist()\n",
        "column_order = first_columns + columns_to_sorted\n",
        "\n",
        "first_temp_df = first_temp_df[column_order]"
      ],
      "metadata": {
        "id": "voaqLrPiiemk"
      },
      "execution_count": 7,
      "outputs": []
    },
    {
      "cell_type": "markdown",
      "source": [
        "## Indicadores - [Censo 2022][censo-2022]\n",
        "\n",
        "[censo-2022]: https://www.ibge.gov.br/estatisticas/sociais/trabalho/22827-censo-demografico-2022.html?=&t=downloads"
      ],
      "metadata": {
        "id": "ned6tcbpG1Qh"
      }
    },
    {
      "cell_type": "markdown",
      "source": [
        "### População total - Censo 2022"
      ],
      "metadata": {
        "id": "sbFys5lzydZt"
      }
    },
    {
      "cell_type": "code",
      "source": [
        "# Selecionando coluna do indicador de 'Total de pessoas' e o nome do distrito.\n",
        "populacao_censo_2022 = first_temp_df[['NM_DIST', 'V0001']]\n",
        "populacao_censo_2022.index = populacao_censo_2022.NM_DIST\n",
        "populacao_censo_2022 = populacao_censo_2022['V0001']"
      ],
      "metadata": {
        "id": "9uUDZKxYxDht"
      },
      "execution_count": 8,
      "outputs": []
    },
    {
      "cell_type": "markdown",
      "source": [
        "### % de pessoas de 65 anos ou mais - Censo 2022\n",
        "Formula:\n",
        "\n",
        "$\\text{%} = \\frac{\\text{Total de Pessoas De 65 Mais}}{\\text{Total De Pessoas}} \\times 100$\n",
        "\n",
        "Indicadores resultante desse codigo:\n",
        "- total de pessoas de 65 anos ou mais - Censo 2022\n",
        "- % de pessoas de 65 anos ou mais - Censo 2022\n",
        "\n",
        "\n",
        "\n"
      ],
      "metadata": {
        "id": "8ekPcHrWzgxd"
      }
    },
    {
      "cell_type": "code",
      "source": [
        "# V0001: Total de pessoas\n",
        "# V00654: 65 a 69 anos\n",
        "# V00655: 70 a 79 anos\n",
        "# V00656: 80 anos ou mais\n",
        "\n",
        "# Colunas que vão ser transformadas em INT\n",
        "columns_str_to_int: list[str] = ['V0001', 'V00654','V00655','V00656']\n",
        "columns_indicadores: list[str] = ['total de pessoas de 65 anos ou mais', '% de pessoas de 65 anos ou mais']\n",
        "\n",
        "# Selecionando coluna do indicador de 'Total de pessoas' e o nome do distrito.\n",
        "pessoas_65_censo_2022 = first_temp_df[['NM_DIST', 'V0001', 'V00654','V00655','V00656']].copy()\n",
        "\n",
        "pessoas_65_censo_2022[columns_str_to_int] = pessoas_65_censo_2022[columns_str_to_int].astype(int)\n",
        "\n",
        "# % = (total de pessoas de 65 anos ou mais ÷ Total de pessoas) x 100\n",
        "pessoas_65_censo_2022['total de pessoas de 65 anos ou mais'] = pessoas_65_censo_2022[['V00654','V00655','V00656']].sum(axis=1)\n",
        "pessoas_65_censo_2022['% de pessoas de 65 anos ou mais'] = (pessoas_65_censo_2022['total de pessoas de 65 anos ou mais'] / pessoas_65_censo_2022['V0001']).round(3)\n",
        "pessoas_65_censo_2022['% de pessoas de 65 anos ou mais'] = pessoas_65_censo_2022['% de pessoas de 65 anos ou mais'] * 100\n",
        "\n",
        "pessoas_65_censo_2022.index = pessoas_65_censo_2022.NM_DIST\n",
        "pessoas_65_censo_2022 = pessoas_65_censo_2022[columns_indicadores]"
      ],
      "metadata": {
        "id": "jBIrJRPRzvMP"
      },
      "execution_count": 9,
      "outputs": []
    },
    {
      "cell_type": "markdown",
      "source": [
        "### Cor\n",
        "\n",
        "Apenas foi feita uma seleção de colunas"
      ],
      "metadata": {
        "id": "PF-_gzQ7vhJV"
      }
    },
    {
      "cell_type": "code",
      "source": [
        "# V01317: Cor ou raça é branca\n",
        "# V01318: Cor ou raça é preta\n",
        "# V01319: Cor ou raça é amarela\n",
        "# V01320: Cor ou raça é parda\n",
        "# V01321 : Cor ou raça é indígena\n",
        "\n",
        "df_cor = first_temp_df[['NM_DIST', 'V01317', 'V01318','V01319','V01320', 'V01321']].copy()\n",
        "\n",
        "df_cor.index = df_cor.NM_DIST\n",
        "df_cor = df_cor.iloc[:, 1:]"
      ],
      "metadata": {
        "id": "fp-DY3NmxIwO"
      },
      "execution_count": 10,
      "outputs": []
    },
    {
      "cell_type": "markdown",
      "source": [
        "### Proporção de crianças de 0 a 4 anos na população\n",
        "\n",
        "Seguinte fórmula:\n",
        "\n",
        "$\\text{Proporção} = \\frac{\\text{Número de crianças de 0 a 5 anos}}{\\text{População total}} \\times 100$\n"
      ],
      "metadata": {
        "id": "cC1HGL5vzkAI"
      }
    },
    {
      "cell_type": "code",
      "source": [
        "# V0001: Total de pessoas\n",
        "# V01031: 0 a 4 anos\n",
        "\n",
        "# Colunas que vão ser transformadas em INT\n",
        "columns_str_to_int: list[str] = ['V0001', 'V01031']\n",
        "\n",
        "# Selecionando coluna do indicador de 'Total de pessoas' e o nome do distrito.\n",
        "crianca_zero_to_five = first_temp_df[['NM_DIST', 'V0001', 'V01031']].copy()\n",
        "\n",
        "crianca_zero_to_five[columns_str_to_int] = crianca_zero_to_five[columns_str_to_int].astype(int)\n",
        "\n",
        "# % = (total de pessoas de 65 anos ou mais ÷ Total de pessoas) x 100\n",
        "crianca_zero_to_five['Proporção de crianças de 0 a 4 anos na população'] = (crianca_zero_to_five['V01031'] / crianca_zero_to_five['V0001']).round(3)\n",
        "crianca_zero_to_five['Proporção de crianças de 0 a 4 anos na população'] = crianca_zero_to_five['Proporção de crianças de 0 a 4 anos na população'] * 100\n",
        "\n",
        "crianca_zero_to_five.index = crianca_zero_to_five.NM_DIST\n",
        "crianca_zero_to_five = crianca_zero_to_five.iloc[:, 1:]"
      ],
      "metadata": {
        "id": "svxfAI05znaW"
      },
      "execution_count": 11,
      "outputs": []
    },
    {
      "cell_type": "markdown",
      "source": [
        "### Proporção de mulheres responsáveis pelo domicílio\n",
        "\n",
        "Seguinte fórmula:\n",
        "\n",
        "$\\text{Proporção de mulheres responsáveis pelo domicílio} = \\frac{\\text{Pessoa responsável pelo domicílio, Sexo feminino}}{\\text{Pessoa responsável pelo domicílio}} \\times 100$\n"
      ],
      "metadata": {
        "id": "CsW32Fgy3nZ0"
      }
    },
    {
      "cell_type": "code",
      "source": [
        "# V01042: Pessoa responsável pelo domicílio\n",
        "# V01063: Pessoa responsável pelo domicílio, Sexo feminino\n",
        "\n",
        "# Colunas que vão ser transformadas em INT\n",
        "columns_str_to_int: list[str] = ['V01042', 'V01063']\n",
        "\n",
        "# Selecionando coluna do indicador de 'Total de pessoas' e o nome do distrito.\n",
        "mulheres_responsaveis = first_temp_df[['NM_DIST', 'V01042', 'V01063']].copy()\n",
        "\n",
        "mulheres_responsaveis[columns_str_to_int] = mulheres_responsaveis[columns_str_to_int].astype(int)\n",
        "\n",
        "# % = (total de pessoas de 65 anos ou mais ÷ Total de pessoas) x 100\n",
        "mulheres_responsaveis['Proporção de mulheres responsáveis pelo domicílio'] = (mulheres_responsaveis['V01063'] / mulheres_responsaveis['V01042']).round(3)\n",
        "mulheres_responsaveis['Proporção de mulheres responsáveis pelo domicílio'] = mulheres_responsaveis['Proporção de mulheres responsáveis pelo domicílio'] * 100\n",
        "\n",
        "mulheres_responsaveis.index = mulheres_responsaveis.NM_DIST\n",
        "mulheres_responsaveis = mulheres_responsaveis.iloc[:, 1:]"
      ],
      "metadata": {
        "id": "DDPwauV93n0X"
      },
      "execution_count": 12,
      "outputs": []
    },
    {
      "cell_type": "markdown",
      "source": [
        "### % Pessoa responsável pelo domicílio, Sexo feminino, 15 anos ou mais, Morador não sabe ler e escrever\n",
        "\n",
        "$\\text{% Pessoa responsável pelo domicílio, Sexo feminino, 15 anos ou mais, Morador não sabe ler e escrever} = \\frac{\\text{ Pessoa responsável pelo domicílio, Sexo feminino, 15 anos ou mais, Morador não sabe ler e escrever}}{\\text{Pessoa responsável pelo domicílio, Sexo feminino}} \\times 100$\n",
        "\n",
        "Indicadores resultante desse codigo:\n",
        "- Pessoa responsável pelo domicílio, Sexo feminino, 15 anos ou mais, Morador não sabe ler e escrever\n",
        "- Pessoa responsável pelo domicílio, Sexo feminino\n",
        "- % Pessoa responsável pelo domicílio, Sexo feminino, 15 anos ou mais, Morador não sabe ler e escrever"
      ],
      "metadata": {
        "id": "asIcppjP882W"
      }
    },
    {
      "cell_type": "code",
      "source": [
        "# V00989: Pessoa responsável pelo domicílio, Sexo feminino, 15 anos ou mais, Morador não sabe ler e escrever\n",
        "# V01063: Pessoa responsável pelo domicílio, Sexo feminino\n",
        "\n",
        "nome_indicador = '% Pessoa responsável pelo domicílio, Sexo feminino, 15 anos ou mais, Morador não sabe ler e escrever'\n",
        "columns_str_to_int: list[str] = ['V00989', 'V01063']\n",
        "\n",
        "responsavel_feminino_ler_escrever = first_temp_df[['NM_DIST', 'V00989', 'V01063']].copy()\n",
        "responsavel_feminino_ler_escrever[columns_str_to_int] = responsavel_feminino_ler_escrever[columns_str_to_int].astype(int)\n",
        "\n",
        "responsavel_feminino_ler_escrever[nome_indicador] = (responsavel_feminino_ler_escrever['V00989'] / responsavel_feminino_ler_escrever['V01063']).round(3)\n",
        "responsavel_feminino_ler_escrever[nome_indicador] = responsavel_feminino_ler_escrever[nome_indicador] * 100\n",
        "\n",
        "responsavel_feminino_ler_escrever.index = responsavel_feminino_ler_escrever.NM_DIST\n",
        "responsavel_feminino_ler_escrever = responsavel_feminino_ler_escrever.iloc[:, 1:]"
      ],
      "metadata": {
        "id": "FnnyLDXy8-CF"
      },
      "execution_count": 13,
      "outputs": []
    },
    {
      "cell_type": "markdown",
      "source": [
        "### Incidência distrital de longevidade (pessoas acima de 70 anos).\n",
        "\n",
        "A fórmula :\n",
        "\n",
        "\n",
        "$\\text{Incidência} = \\frac{\\text{Sexo masculino, 70 anos ou mais}}{\\text{População total}} \\times 100$\n",
        "\n"
      ],
      "metadata": {
        "id": "Bxhdx0SCB0GM"
      }
    },
    {
      "cell_type": "code",
      "source": [
        "# V0001: Total de pessoas\n",
        "# V01019: Sexo masculino, 70 anos ou mais\n",
        "\n",
        "# Colunas que vão ser transformadas em INT\n",
        "columns_str_to_int: list[str] = ['V0001', 'V01019']\n",
        "\n",
        "# Selecionando coluna do indicador de 'Total de pessoas' e o nome do distrito.\n",
        "pessoa_plus_70 = first_temp_df[['NM_DIST', 'V0001', 'V01019']].copy()\n",
        "\n",
        "pessoa_plus_70[columns_str_to_int] = pessoa_plus_70[columns_str_to_int].astype(int)\n",
        "\n",
        "# % = (total de pessoas de 70 anos ou mais ÷ Total de pessoas) x 100\n",
        "pessoa_plus_70['Proporção de pessoas acima de 70 anos na população'] = (pessoa_plus_70['V01019'] / pessoa_plus_70['V0001']).round(3)\n",
        "pessoa_plus_70['Proporção de pessoas acima de 70 anos na população'] = pessoa_plus_70['Proporção de pessoas acima de 70 anos na população'] * 100\n",
        "\n",
        "pessoa_plus_70.index = pessoa_plus_70.NM_DIST\n",
        "pessoa_plus_70 = pessoa_plus_70['Proporção de pessoas acima de 70 anos na população']"
      ],
      "metadata": {
        "id": "pW_k2jK1B01G"
      },
      "execution_count": 14,
      "outputs": []
    },
    {
      "cell_type": "markdown",
      "source": [
        "### Proporção de pessoas responsáveis de 12 a 24 anos\n",
        "\n",
        "A fórmula :\n",
        "\n",
        "\n",
        "$\\text{Proporção de pessoas responsáveis de 12 a 24 anos} = \\frac{\\text{ pessoas responsáveis de 12\n",
        " a 24 anos}}{\\text{Pessoas Responsáveis}} \\times 100$\n",
        "\n",
        "\n",
        " Indicadores resultante desse codigo:\n",
        "- Pessoa responsável pelo domicílio\n",
        "- Pessoa responsável pelo domicílio, 12 a 24 anos\n",
        "- Proporção de pessoas responsáveis de 12 a 24 anos\n",
        "\n"
      ],
      "metadata": {
        "id": "iLHtxICXF1wj"
      }
    },
    {
      "cell_type": "code",
      "source": [
        "# V01042: Pessoa responsável pelo domicílio\n",
        "# V0001: Total de pessoas\n",
        "# V01064: Pessoa responsável pelo domicílio, 12 a 17 anos\n",
        "# V01065: Pessoa responsável pelo domicílio, 18 a 24 anos\n",
        "\n",
        "# Colunas que vão ser transformadas em INT\n",
        "columns_str_to_int: list[str] = ['V0001', 'V01064', 'V01065']\n",
        "\n",
        "# Selecionando coluna do indicador de 'Total de pessoas' e o nome do distrito.\n",
        "pessoas_responsaveis_10_29 = first_temp_df[['NM_DIST', 'V0001', 'V01064', 'V01065']].copy()\n",
        "\n",
        "pessoas_responsaveis_10_29[columns_str_to_int] = pessoas_responsaveis_10_29[columns_str_to_int].astype(int)\n",
        "\n",
        "# Proporção de pessoas responsáveis de 12 a 24 anos = (pessoas responsáveis de 12 a 24 anos ÷ Pessoas Responsáveis) x 100\n",
        "pessoas_responsaveis_10_29['Pessoa responsável pelo domicílio, 12 a 24 anos'] = pessoas_responsaveis_10_29['V01064'] + pessoas_responsaveis_10_29['V01065']\n",
        "pessoas_responsaveis_10_29 = pessoas_responsaveis_10_29[['NM_DIST', 'V0001', 'Pessoa responsável pelo domicílio, 12 a 24 anos']]\n",
        "pessoas_responsaveis_10_29['Proporção de pessoas responsáveis de 12 a 24 anos'] = (pessoas_responsaveis_10_29['Pessoa responsável pelo domicílio, 12 a 24 anos'] / pessoas_responsaveis_10_29['V0001']).round(3)\n",
        "pessoas_responsaveis_10_29['Proporção de pessoas responsáveis de 12 a 24 anos'] = pessoas_responsaveis_10_29['Proporção de pessoas responsáveis de 12 a 24 anos'] * 100\n",
        "\n",
        "pessoas_responsaveis_10_29.index = pessoas_responsaveis_10_29.NM_DIST\n",
        "pessoas_responsaveis_10_29 = pessoas_responsaveis_10_29.iloc[:, 1:]"
      ],
      "metadata": {
        "id": "lFUxMup5F1wm"
      },
      "execution_count": 15,
      "outputs": []
    },
    {
      "cell_type": "markdown",
      "source": [
        "### Proporção de mulheres reponsáveis com menos de 15 a 29 anos\n",
        "\n",
        "A fórmula :\n",
        "\n",
        "\n",
        "$\\text{Proporção de mulheres reponsáveis com menos de 15 a 29 anos} = \\frac{\\text{ mulheres reponsáveis com menos de 15 a 29 anos}}{\\text{Total de pessoas}} \\times 100$\n",
        "\n",
        "\n",
        " Indicadores resultante desse codigo:\n",
        "- Pessoa responsável pelo domicílio, Sexo feminino, 15 a 29 anos\n",
        "- Proporção de mulheres reponsáveis com menos de 15 a 29 anos\n",
        "\n"
      ],
      "metadata": {
        "id": "lTz1c2SoQocK"
      }
    },
    {
      "cell_type": "code",
      "source": [
        "# V0001: Total de pessoas\n",
        "# V01063: Pessoa responsável pelo domicílio, Sexo feminino\n",
        "# V00978: Pessoa responsável pelo domicílio, Sexo feminino, 15 a 29 anos, Morador sabe ler e escrever\n",
        "# V00979: Pessoa responsável pelo domicílio, Sexo feminino, 15 a 29 anos, Morador não sabe ler e escrever\n",
        "\n",
        "# Colunas que vão ser transformadas em INT\n",
        "columns_str_to_int: list[str] = [\n",
        "    \"V0001\", \"V00978\", \"V00979\"\n",
        "    ]\n",
        "\n",
        "columns_to_seleced = ['NM_DIST'] + columns_str_to_int\n",
        "# Selecionando coluna do indicador de 'Total de pessoas' e o nome do distrito.\n",
        "mulheres_reponsaveis_menor_29 = first_temp_df[columns_to_seleced].copy()\n",
        "\n",
        "mulheres_reponsaveis_menor_29[columns_str_to_int] = mulheres_reponsaveis_menor_29[columns_str_to_int].astype(int)\n",
        "mulheres_reponsaveis_menor_29['Pessoa responsável pelo domicílio, Sexo feminino, 15 a 29 anos'] = mulheres_reponsaveis_menor_29[['V00978', 'V00979']].sum(axis=1)\n",
        "# Proporção de pessoas responsáveis de 12 a 24 anos = (pessoas responsáveis de 12 a 24 anos ÷ Pessoas Responsáveis) x 100\n",
        "\n",
        "mulheres_reponsaveis_menor_29 = mulheres_reponsaveis_menor_29[['NM_DIST', 'V0001', 'Pessoa responsável pelo domicílio, Sexo feminino, 15 a 29 anos']]\n",
        "mulheres_reponsaveis_menor_29['Proporção de mulheres reponsáveis com menos de 15 a 29 anos'] = (mulheres_reponsaveis_menor_29['Pessoa responsável pelo domicílio, Sexo feminino, 15 a 29 anos'] / mulheres_reponsaveis_menor_29['V0001']).round(3)\n",
        "mulheres_reponsaveis_menor_29['Proporção de mulheres reponsáveis com menos de 15 a 29 anos'] = mulheres_reponsaveis_menor_29['Proporção de mulheres reponsáveis com menos de 15 a 29 anos'] * 100\n",
        "\n",
        "mulheres_reponsaveis_menor_29.index = mulheres_reponsaveis_menor_29.NM_DIST\n",
        "mulheres_reponsaveis_menor_29 = mulheres_reponsaveis_menor_29.iloc[:, 1:]"
      ],
      "metadata": {
        "id": "zkxQ5RLiQocL"
      },
      "execution_count": 16,
      "outputs": []
    },
    {
      "cell_type": "markdown",
      "source": [
        "### Proporção de pessoas responsáveis não alfabetizadas 15 anos ou mais\n",
        "\n",
        "A fórmula :\n",
        "\n",
        "\n",
        "$\\text{Proporção de pessoas responsáveis não alfabetizadas 15 anos ou mais} = \\frac{\\text{pessoas responsáveis não alfabetizadas 15 anos ou mais}}{\\text{pessoas responsáveis 15 anos ou mais}} \\times 100$\n",
        "\n",
        "\n",
        " Indicadores resultante desse codigo:\n",
        "- Pessoa responsável pelo domicílio, 15 anos ou mais, Morador sabe ler e escrever - Censo 2022\n",
        "- Pessoa responsável pelo domicílio, 15 anos ou mais, Morador não sabe ler e escrever - Censo 2022\n",
        "- Proporção de pessoas responsáveis não alfabetizadas 15 anos ou mais - Censo 2022\n"
      ],
      "metadata": {
        "id": "-zASKHo-X2Wx"
      }
    },
    {
      "cell_type": "code",
      "source": [
        "# V00984: Pessoa responsável pelo domicílio, 15 anos ou mais, Morador sabe ler e escrever\n",
        "# V00985: Pessoa responsável pelo domicílio, 15 anos ou mais, Morador não sabe ler e escrever\n",
        "\n",
        "# Colunas que vão ser transformadas em INT\n",
        "columns_str_to_int: list[str] = [\n",
        "    \"V00984\", \"V00985\"\n",
        "    ]\n",
        "\n",
        "columns_to_seleced = ['NM_DIST'] + columns_str_to_int\n",
        "# Selecionando coluna do indicador de 'Total de pessoas' e o nome do distrito.\n",
        "responsaveis_nao_alfabetizadas_15 = first_temp_df[columns_to_seleced].copy()\n",
        "\n",
        "responsaveis_nao_alfabetizadas_15[columns_str_to_int] = responsaveis_nao_alfabetizadas_15[columns_str_to_int].astype(int)\n",
        "responsaveis_nao_alfabetizadas_15['Pessoa responsável pelo domicílio, 15 anos ou mais'] = responsaveis_nao_alfabetizadas_15[columns_str_to_int].sum(axis=1)\n",
        "\n",
        "# Proporção de pessoas responsáveis de 12 a 24 anos = (pessoas responsáveis de 12 a 24 anos ÷ Pessoas Responsáveis) x 100\n",
        "\n",
        "# mulheres_reponsaveis_menor_29 = mulheres_reponsaveis_menor_29[['NM_DIST', 'V01063', 'Pessoa responsável pelo domicílio, Sexo feminino, 15 a 29 anos']]\n",
        "responsaveis_nao_alfabetizadas_15['Proporção de pessoas responsáveis não alfabetizadas 15 anos ou mais'] = (responsaveis_nao_alfabetizadas_15['V00985'] / responsaveis_nao_alfabetizadas_15['Pessoa responsável pelo domicílio, 15 anos ou mais']).round(3)\n",
        "responsaveis_nao_alfabetizadas_15['Proporção de pessoas responsáveis não alfabetizadas 15 anos ou mais'] = responsaveis_nao_alfabetizadas_15['Proporção de pessoas responsáveis não alfabetizadas 15 anos ou mais'] * 100\n",
        "\n",
        "responsaveis_nao_alfabetizadas_15.index = responsaveis_nao_alfabetizadas_15.NM_DIST\n",
        "responsaveis_nao_alfabetizadas_15 = responsaveis_nao_alfabetizadas_15.iloc[:, 1:]"
      ],
      "metadata": {
        "id": "H7u1MsaFX2W0"
      },
      "execution_count": 17,
      "outputs": []
    },
    {
      "cell_type": "markdown",
      "source": [
        "### % da população que vive em domicílios urbanos com o serviço de coleta de lixo\n",
        "\n",
        "A fórmula :\n",
        "\n",
        "$\\text{% da população que vive em domicílios urbanos com o serviço de coleta de lixo} = \\frac{\\text{população que vive em domicílios urbanos com o serviço de coleta de lixo}}{\\text{Total de pessoas}} \\times 100$\n",
        "\n",
        " Indicadores resultante desse codigo:\n",
        "- Proporção que vive em domicílios urbanos com o serviço de coleta de lixo - Censo 2022\n"
      ],
      "metadata": {
        "id": "j9tKAV8qvaEW"
      }
    },
    {
      "cell_type": "code",
      "source": [
        "# V0001: Total de pessoas\n",
        "\n",
        "# Colunas que vão ser transformadas em INT\n",
        "columns_str_to_int: list[str] = ['V0001', 'V00397']\n",
        "\n",
        "# Selecionando coluna do indicador de 'Total de pessoas' e o nome do distrito.\n",
        "coleta_lixo = first_temp_df[['NM_DIST', 'V0001', 'V00397']].copy()\n",
        "\n",
        "coleta_lixo[columns_str_to_int] = coleta_lixo[columns_str_to_int].astype(int)\n",
        "\n",
        "coleta_lixo['Proporção que vive em domicílios urbanos com o serviço de coleta de lixo'] = (coleta_lixo['V00397'] / coleta_lixo['V0001']).round(3)\n",
        "coleta_lixo['Proporção que vive em domicílios urbanos com o serviço de coleta de lixo'] = coleta_lixo['Proporção que vive em domicílios urbanos com o serviço de coleta de lixo'] * 100\n",
        "\n",
        "coleta_lixo.index = coleta_lixo.NM_DIST\n",
        "coleta_lixo = coleta_lixo.iloc[:, 1:]"
      ],
      "metadata": {
        "id": "gyMIqrScvZav"
      },
      "execution_count": 19,
      "outputs": []
    },
    {
      "cell_type": "markdown",
      "source": [
        "## Juntas Indicadores - [Censo 2022][censo-2022]\n",
        "\n",
        "[censo-2022]: https://www.ibge.gov.br/estatisticas/sociais/trabalho/22827-censo-demografico-2022.html?=&t=downloads"
      ],
      "metadata": {
        "id": "FdRyyStOGvTZ"
      }
    },
    {
      "cell_type": "code",
      "source": [
        "lista_indicadores: list[pd.DataFrame] = [\n",
        "    populacao_censo_2022,\n",
        "    crianca_zero_to_five,\n",
        "    pessoas_65_censo_2022,\n",
        "    pessoa_plus_70,\n",
        "    df_cor,\n",
        "    mulheres_responsaveis,\n",
        "    pessoas_responsaveis_10_29,\n",
        "    mulheres_reponsaveis_menor_29,\n",
        "    responsaveis_nao_alfabetizadas_15,\n",
        "    responsavel_feminino_ler_escrever,\n",
        "    coleta_lixo\n",
        "]\n",
        "\n",
        "censo_2022_políticas_sociais = pd.concat(lista_indicadores, axis=1)\n",
        "censo_2022_políticas_sociais = censo_2022_políticas_sociais.rename(columns=dicionario_to_rename)\n",
        "\n",
        "censo_2022_políticas_sociais = censo_2022_políticas_sociais.loc[:,~censo_2022_políticas_sociais.columns.duplicated()] # Remove Colunas duplicadas.\n",
        "\n",
        "censo_2022_políticas_sociais.columns = [f'{column} - Censo 2022' for column in censo_2022_políticas_sociais.columns]\n",
        "\n",
        "censo_2022_políticas_sociais.index.name = 'Distritos'"
      ],
      "metadata": {
        "id": "rEGgS2SYGyzO"
      },
      "execution_count": 20,
      "outputs": []
    },
    {
      "cell_type": "markdown",
      "source": [
        "# Datasus ( [SIM 2022][ms_sim] e [SINASC 2023][sinasc])\n",
        "\n",
        "- [x] Mortalidade até 1 ano de idade\n",
        "- [x] Mortalidade até 5 anos de idade\n",
        "- [x] Proporção de nascidos vivos de mães que fizeram 7 ou mais consultas de pré natal -> [Codigo][indicadores_6]\n",
        "- [x] Proporção de bebês nascidos vivos de mães adolescentes (10 a 19 anos) ->  [Codigo][indicadores_2]\n",
        "- [x] Proporção de bebês com baixo peso ao nascer (menos de 2,5 kg) -> [Codigo][indicadores_5]\n",
        "- [x] Mortalidade materna -> [Codigo][indicadores_9]\n",
        "- [x] Idade média ao morrer\n",
        "- [x] ~~Taxa padronizada de mortalidade por Covid-19(Não encontrado)~~\n",
        "- [ ] Óbitos Evitáveis (Necessario a extração dos Codigos CID evitaveis)\n",
        "- [x] Taxa de mortalidade infantil (por mil nascidos vivos) - Coeficiente de mortalidade infantil (óbitos por 1.000 nascidos vivos) -> [Codigo][indicadores_10]\n",
        "- [x] Anos Potenciais de Vida Perdidos – APVP\n",
        "- [ ] Internações por causas sensíveis à atenção básica\n",
        "\n",
        "\n",
        "[sinasc]: https://basedosdados.org/dataset/48ccef51-8207-40ee-af5b-134c8ac3fb8c?table=80359f9a-8189-4693-bdf7-ebf7be0d2fff\n",
        "\n",
        "[ms_sim]: https://basedosdados.org/dataset/5beeec93-cbf3-43f6-9eea-9bee6a0d1683?table=dea823a5-cad7-4014-b77c-4aa33b3b0541\n",
        "\n",
        "<!-- Mulheres de 10 a 17 anos que tiveram filhos no distrito -->\n",
        "[indicadores_2]: https://colab.research.google.com/drive/14jIloiip7s8xnTffYS55Q0lF8Etwz5W5#scrollTo=eK95KzpPMSwT\n",
        "\n",
        "<!-- Proporção de bebês com baixo peso ao nascer (menos de 2,5 kg) -->\n",
        "[indicadores_5]: https://colab.research.google.com/drive/14jIloiip7s8xnTffYS55Q0lF8Etwz5W5#scrollTo=ycFgO4bBOO1a\n",
        "\n",
        "<!-- Proporção de nascidos vivos de mães que fizeram 7 ou mais consultas de pré natal -->\n",
        "[indicadores_6]: https://colab.research.google.com/drive/14jIloiip7s8xnTffYS55Q0lF8Etwz5W5#scrollTo=xOwdN9rCL2Ur\n",
        "\n",
        "<!-- Mortalidade materna -->\n",
        "[indicadores_9]: https://colab.research.google.com/drive/14jIloiip7s8xnTffYS55Q0lF8Etwz5W5#scrollTo=6lKhpWDsPzpZ\n",
        "\n",
        "<!-- Mortalidade infantil (óbitos por 1.000 nascidos vivos) -->\n",
        "[indicadores_10]: https://colab.research.google.com/drive/14jIloiip7s8xnTffYS55Q0lF8Etwz5W5#scrollTo=9E8DApdVouZQ"
      ],
      "metadata": {
        "id": "n61vHY7ZSAgy"
      }
    },
    {
      "cell_type": "markdown",
      "source": [
        "## Funçoes - Datasus"
      ],
      "metadata": {
        "id": "ZKSevQsY7RwH"
      }
    },
    {
      "cell_type": "code",
      "source": [
        "def download_and_zip_extraction(url: str) -> None:\n",
        "\n",
        "    base_path = Path(\"data\")\n",
        "    path_input = base_path / \"input\"\n",
        "\n",
        "    response = requests.get(url, stream=True)\n",
        "    response.raise_for_status()\n",
        "\n",
        "    save_path = path_input / url.split('/')[-1]\n",
        "\n",
        "    path_input.mkdir(parents=True, exist_ok=True)\n",
        "\n",
        "    with open(save_path, \"wb\") as fd:\n",
        "        for chunk in response.iter_content(chunk_size=128):\n",
        "            fd.write(chunk)\n",
        "\n",
        "    with zipfile.ZipFile(save_path) as z:\n",
        "        z.extractall(path_input)"
      ],
      "metadata": {
        "id": "oBFto5IC7TEl"
      },
      "execution_count": 21,
      "outputs": []
    },
    {
      "cell_type": "markdown",
      "source": [
        "## Querys e constantes\n",
        "\n",
        "Caso você não tenha um projeto google configurado.\n",
        "\n",
        "Verifique a documentação: [primeiros-passos][primeiros-passos]\n",
        "\n",
        "[primeiros-passos]: https://basedosdados.github.io/sdk/access_data_bq/#primeiros-passos"
      ],
      "metadata": {
        "id": "1kGLx-QoUgD6"
      }
    },
    {
      "cell_type": "code",
      "source": [
        "query_ms_sinasc = \"\"\"\n",
        "SELECT\n",
        "    *\n",
        "FROM `basedosdados.br_ms_sinasc.microdados` AS dados\n",
        "where ano = 2023 and id_municipio_nascimento = '3550308' and codigo_estabelecimento is not null\n",
        "\"\"\"\n",
        "\n",
        "query_ms_sim = \"\"\"\n",
        "SELECT\n",
        "  *\n",
        "FROM `basedosdados.br_ms_sim.microdados` AS dados\n",
        "where ano = 2022 and id_municipio_ocorrencia = '3550308' and codigo_estabelecimento is not null\n",
        "\"\"\""
      ],
      "metadata": {
        "id": "K78ToSJBUN5K"
      },
      "execution_count": 22,
      "outputs": []
    },
    {
      "cell_type": "markdown",
      "source": [
        "## Download [CNES][cnes] Estabelecimentos e [Censo][censo] 2020 geometry\n",
        "\n",
        "[cnes]: https://dados.gov.br/dados/conjuntos-dados/cnes-cadastro-nacional-de-estabelecimentos-de-saude\n",
        "[censo]: http://ftp.ibge.gov.br/Censos/Censo_Demografico_2022/Agregados_por_Setores_Censitarios/malha_com_atributos/distritos/shp/UF/SP"
      ],
      "metadata": {
        "id": "LDVH4K-I7Jx3"
      }
    },
    {
      "cell_type": "code",
      "source": [
        "url = 'https://s3.sa-east-1.amazonaws.com/ckan.saude.gov.br/CNES/cnes_estabelecimentos.zip'\n",
        "url_sp_distrito_geo = 'http://ftp.ibge.gov.br/Censos/Censo_Demografico_2022/Agregados_por_Setores_Censitarios/malha_com_atributos/distritos/shp/UF/SP/SP_distritos_CD2022.zip'\n",
        "\n",
        "urls = [url, url_sp_distrito_geo]\n",
        "\n",
        "with concurrent.futures.ThreadPoolExecutor() as executor:\n",
        "  executor.map(download_and_zip_extraction, urls)"
      ],
      "metadata": {
        "id": "edqfI6H-3WJ2"
      },
      "execution_count": 23,
      "outputs": []
    },
    {
      "cell_type": "markdown",
      "source": [
        "## Ler [CNES][cnes] estabelecimentos\n",
        "\n",
        "[cnes]: https://dados.gov.br/dados/conjuntos-dados/cnes-cadastro-nacional-de-estabelecimentos-de-saude"
      ],
      "metadata": {
        "id": "xPWoVZuD75yQ"
      }
    },
    {
      "cell_type": "code",
      "source": [
        "cnes_estabelecimentos = pd.read_csv('/content/data/input/cnes_estabelecimentos.csv', dtype=str, sep=';',\n",
        "                                    encoding='latin-1', usecols=['CO_CNES', 'CO_UNIDADE', 'CO_IBGE', 'NU_LATITUDE', 'NU_LONGITUDE'])\n",
        "\n",
        "cnes_estabelecimentos_sp = cnes_estabelecimentos[cnes_estabelecimentos.CO_IBGE == '355030']\n",
        "\n",
        "# Transformar longitue e latitude em Point objeto\n",
        "cnes_estabelecimentos_sp['point'] = cnes_estabelecimentos_sp.apply(lambda row: Point(row.NU_LONGITUDE, row.NU_LATITUDE), axis=1)\n",
        "\n",
        "cnes_estabelecimentos_sp_geo_df = gpd.GeoDataFrame(cnes_estabelecimentos_sp, geometry='point')\n",
        "\n",
        "cnes_estabelecimentos_sp_geo_df.crs = 'EPSG:4674' # igular CRS"
      ],
      "metadata": {
        "id": "gs5Dnwd-8DmM",
        "colab": {
          "base_uri": "https://localhost:8080/"
        },
        "outputId": "67a8b1c8-b94f-4e85-f95e-ab2383974f15"
      },
      "execution_count": 24,
      "outputs": [
        {
          "output_type": "stream",
          "name": "stderr",
          "text": [
            "<ipython-input-24-57d3f635c143>:7: SettingWithCopyWarning: \n",
            "A value is trying to be set on a copy of a slice from a DataFrame.\n",
            "Try using .loc[row_indexer,col_indexer] = value instead\n",
            "\n",
            "See the caveats in the documentation: https://pandas.pydata.org/pandas-docs/stable/user_guide/indexing.html#returning-a-view-versus-a-copy\n",
            "  cnes_estabelecimentos_sp['point'] = cnes_estabelecimentos_sp.apply(lambda row: Point(row.NU_LONGITUDE, row.NU_LATITUDE), axis=1)\n"
          ]
        }
      ]
    },
    {
      "cell_type": "markdown",
      "source": [
        "## Ler geometry do [Censo 2022][censo]\n",
        "\n",
        "[censo]: http://ftp.ibge.gov.br/Censos/Censo_Demografico_2022/Agregados_por_Setores_Censitarios/malha_com_atributos/distritos/shp/UF/SP"
      ],
      "metadata": {
        "id": "-uKaaTaWJ2F5"
      }
    },
    {
      "cell_type": "code",
      "source": [
        "geo_df_sp = gpd.read_file('/content/data/input/SP_distritos_CD2022.shp', columns=['CD_DIST', 'NM_DIST', 'geometry'])\n",
        "geo_df_sp = geo_df_sp[geo_df_sp.CD_DIST.str.contains(\"3550308\")]"
      ],
      "metadata": {
        "id": "rpzJesFw8NAl"
      },
      "execution_count": 25,
      "outputs": []
    },
    {
      "cell_type": "markdown",
      "source": [
        "## Juntas [CENSO][censo] Geometry com Point de [CNES][cnes]\n",
        "\n",
        "[cnes]: https://dados.gov.br/dados/conjuntos-dados/cnes-cadastro-nacional-de-estabelecimentos-de-saude\n",
        "[censo]: http://ftp.ibge.gov.br/Censos/Censo_Demografico_2022/Agregados_por_Setores_Censitarios/malha_com_atributos/distritos/shp/UF/SP"
      ],
      "metadata": {
        "id": "Dm91c7RSPkfI"
      }
    },
    {
      "cell_type": "code",
      "source": [
        "cnes_sp_distrito_geo_df = geo_df_sp.sjoin(cnes_estabelecimentos_sp_geo_df, how='left', predicate='contains')"
      ],
      "metadata": {
        "id": "uroMBeIkMShS"
      },
      "execution_count": 26,
      "outputs": []
    },
    {
      "cell_type": "markdown",
      "source": [
        "## Puxar dados [Sinasc][sinasc]\n",
        "\n",
        "[sinasc]: https://basedosdados.org/dataset/48ccef51-8207-40ee-af5b-134c8ac3fb8c?table=80359f9a-8189-4693-bdf7-ebf7be0d2fff"
      ],
      "metadata": {
        "id": "ze_iwVbkUuwB"
      }
    },
    {
      "cell_type": "code",
      "source": [
        "import basedosdados as bd\n",
        "\n",
        "df_ms_sinasc = bd.read_sql(\n",
        "      query_ms_sinasc,\n",
        "      billing_project_id=billing_project_id,\n",
        "  )\n",
        "\n",
        "df_ms_sinasc.codigo_estabelecimento = df_ms_sinasc.codigo_estabelecimento.str.lstrip('0') # Limpando zero a esquerda"
      ],
      "metadata": {
        "colab": {
          "base_uri": "https://localhost:8080/"
        },
        "id": "SxgvrugFUyww",
        "outputId": "0a5e7c02-f81b-46d3-c817-a4cd0d589ec4"
      },
      "execution_count": 27,
      "outputs": [
        {
          "output_type": "stream",
          "name": "stdout",
          "text": [
            "Downloading: 100%|\u001b[32m██████████\u001b[0m|\n"
          ]
        }
      ]
    },
    {
      "cell_type": "markdown",
      "source": [
        "## Juntar [SINASC][sinasc] com [CNES][cnes] com distritos\n",
        "\n",
        "[sinasc]: https://basedosdados.org/dataset/48ccef51-8207-40ee-af5b-134c8ac3fb8c?table=80359f9a-8189-4693-bdf7-ebf7be0d2fff\n",
        "[cnes]: https://dados.gov.br/dados/conjuntos-dados/cnes-cadastro-nacional-de-estabelecimentos-de-saude"
      ],
      "metadata": {
        "id": "QPG-AfXMaHWD"
      }
    },
    {
      "cell_type": "code",
      "source": [
        "df_ms_sinasc_with_distritos = df_ms_sinasc.merge(cnes_sp_distrito_geo_df, how='left', left_on='codigo_estabelecimento', right_on='CO_CNES')"
      ],
      "metadata": {
        "id": "mCfrgnntW4jb"
      },
      "execution_count": 28,
      "outputs": []
    },
    {
      "cell_type": "markdown",
      "source": [
        "## Indicadores vindo de [SINASC][sinasc]\n",
        "\n",
        "[sinasc]: https://basedosdados.org/dataset/48ccef51-8207-40ee-af5b-134c8ac3fb8c?table=80359f9a-8189-4693-bdf7-ebf7be0d2fff"
      ],
      "metadata": {
        "id": "FtnaPGW1H7ql"
      }
    },
    {
      "cell_type": "markdown",
      "source": [
        "### Proporção de nascidos vivos de mães que fizeram 7 ou mais consultas de pré natal\n",
        "\n",
        "Seguinte fórmula:\n",
        "\n",
        "$\\text{\n",
        "Proporção de nascidos vivos de mães que fizeram 7 ou mais consultas de pré natal} = \\frac{\\text{nascidos vivos de mães que fizeram 7 ou mais consultas de pré natal}}{\\text{Total de Nascidos Vivos}} \\times 100$\n",
        "\n",
        "Indicadores resultante desse codigo:\n",
        "- Proporção de nascidos vivos de mães que fizeram 7 ou mais consultas de pré natal - SINASC 2023\n"
      ],
      "metadata": {
        "id": "xOwdN9rCL2Ur"
      }
    },
    {
      "cell_type": "code",
      "source": [
        "indicador_name = 'Proporção de nascidos vivos de mães que fizeram 7 ou mais consultas de pré natal'\n",
        "\n",
        "\n",
        "df_ms_sinasc_pre_natal = df_ms_sinasc_with_distritos[df_ms_sinasc_with_distritos.pre_natal >= 7]\n",
        "total_nascidos_vivos = df_ms_sinasc_with_distritos.groupby('NM_DIST').sequencial_nascimento.count().to_frame('nasceram_vivos')\n",
        "\n",
        "df_ms_sinasc_pre_natal = df_ms_sinasc_pre_natal.groupby('NM_DIST').pre_natal.count()\n",
        "\n",
        "df_ms_sinasc_pre_natal = pd.concat([total_nascidos_vivos, df_ms_sinasc_pre_natal], axis=1)\n",
        "df_ms_sinasc_pre_natal.fillna(0, inplace=True)\n",
        "\n",
        "df_ms_sinasc_pre_natal = ((df_ms_sinasc_pre_natal.pre_natal / df_ms_sinasc_pre_natal.nasceram_vivos) * 100).round(3).to_frame(indicador_name)"
      ],
      "metadata": {
        "id": "rq95Yk92JUJb"
      },
      "execution_count": 29,
      "outputs": []
    },
    {
      "cell_type": "markdown",
      "source": [
        "### Proporção de bebês nascidos vivos de mães adolescentes (10 a 19 anos) | Mulheres de 10 a 17 anos que tiveram filhos no distrito\n",
        "\n",
        "Seguinte fórmula:\n",
        "\n",
        "$\\text{\n",
        "Proporção de bebês nascidos vivos de mães adolescentes (10 a 19 anos)} = \\frac{\\text{Nascidos vivos de mães adolescentes (10 a 19 anos)}}{\\text{Total de Nascidos Vivos}} \\times 100$\n",
        "\n",
        "Indicadores resultante desse codigo:\n",
        "- Nascidos vivos de mães adolescentes (10 a 19 anos)\n",
        "- Total de Nascidos Vivos\n",
        "- Proporção de bebês nascidos vivos de mães adolescentes (10 a 19 anos)"
      ],
      "metadata": {
        "id": "eK95KzpPMSwT"
      }
    },
    {
      "cell_type": "code",
      "source": [
        "indicador_name = 'Proporção de bebês nascidos vivos de mães adolescentes (10 a 19 anos)'\n",
        "\n",
        "\n",
        "maes_adolescentes_mark = (df_ms_sinasc_with_distritos.idade_mae <= 19) & (df_ms_sinasc_with_distritos.idade_mae >= 10)\n",
        "\n",
        "df_ms_sinasc_maes_adolescentes = df_ms_sinasc_with_distritos[maes_adolescentes_mark]\n",
        "df_ms_sinasc_maes_total = df_ms_sinasc_with_distritos\n",
        "\n",
        "df_ms_sinasc_maes_adolescentes = df_ms_sinasc_maes_adolescentes.groupby('NM_DIST').idade_mae.count().to_frame(\"Nascidos vivos de mães adolescentes (10 a 19 anos)\")\n",
        "df_ms_sinasc_maes_total = df_ms_sinasc_maes_total.groupby('NM_DIST').idade_mae.count().to_frame(\"Total de Nascidos Vivos\")\n",
        "\n",
        "\n",
        "df_ms_sinasc_maes_indicadores = pd.concat([df_ms_sinasc_maes_adolescentes, df_ms_sinasc_maes_total], axis=1)\n",
        "\n",
        "df_ms_sinasc_maes_indicadores[indicador_name] = (df_ms_sinasc_maes_indicadores['Nascidos vivos de mães adolescentes (10 a 19 anos)'] / df_ms_sinasc_maes_indicadores['Total de Nascidos Vivos']) * 100\n",
        "df_ms_sinasc_maes_indicadores[indicador_name] = df_ms_sinasc_maes_indicadores[indicador_name].round(3)\n"
      ],
      "metadata": {
        "id": "1XsmQF8nMihB"
      },
      "execution_count": 30,
      "outputs": []
    },
    {
      "cell_type": "markdown",
      "source": [
        "### Proporção de bebês com baixo peso ao nascer (menos de 2,5 kg)\n",
        "\n",
        "Seguinte fórmula:\n",
        "\n",
        "$\\text{\n",
        "Proporção de bebês com baixo peso ao nascer (menos de 2,5 kg)} = \\frac{\\text{bebês com baixo peso ao nascer (menos de 2,5 kg)}}{\\text{Total de Nascidos Vivos}} \\times 100$\n",
        "\n",
        "Indicadores resultante desse codigo:\n",
        "- Proporção de bebês com baixo peso ao nascer (menos de 2,5 kg)\n"
      ],
      "metadata": {
        "id": "ycFgO4bBOO1a"
      }
    },
    {
      "cell_type": "code",
      "source": [
        "indicador_name = 'Proporção de bebês com baixo peso ao nascer (menos de 2,5 kg)'\n",
        "\n",
        "bebes_baixo_peso_mark = (df_ms_sinasc_with_distritos.peso <= 2500)\n",
        "\n",
        "total_nascidos_vivos = df_ms_sinasc_with_distritos.groupby('NM_DIST').sequencial_nascimento.count()\n",
        "df_ms_sinasc_bebes_baixo_peso = df_ms_sinasc_with_distritos[bebes_baixo_peso_mark]\n",
        "\n",
        "df_ms_sinasc_bebes_baixo_peso = df_ms_sinasc_bebes_baixo_peso.groupby('NM_DIST').peso.count()\n",
        "df_ms_sinasc_bebes_baixo_peso = pd.concat([total_nascidos_vivos, df_ms_sinasc_bebes_baixo_peso], axis=1)\n",
        "df_ms_sinasc_bebes_baixo_peso.fillna(0, inplace=True)\n",
        "\n",
        "df_ms_sinasc_bebes_baixo_peso = ((df_ms_sinasc_bebes_baixo_peso.peso / df_ms_sinasc_bebes_baixo_peso.sequencial_nascimento) * 100).round(3).to_frame(indicador_name)"
      ],
      "metadata": {
        "id": "48yPi_IlOSYr"
      },
      "execution_count": 31,
      "outputs": []
    },
    {
      "cell_type": "markdown",
      "source": [
        "## Puxar dados [ms_sim][ms_sim] Microdados\n",
        "\n",
        "[ms_sim]: https://basedosdados.org/dataset/5beeec93-cbf3-43f6-9eea-9bee6a0d1683?table=dea823a5-cad7-4014-b77c-4aa33b3b0541"
      ],
      "metadata": {
        "id": "n95CXG42eZij"
      }
    },
    {
      "cell_type": "code",
      "source": [
        "df_ms_sim = bd.read_sql(\n",
        "      query_ms_sim,\n",
        "      billing_project_id=billing_project_id,\n",
        "  )\n",
        "\n",
        "df_ms_sim.codigo_estabelecimento = df_ms_sim.codigo_estabelecimento.str.rstrip('.0') # Limpando zero a esquerda"
      ],
      "metadata": {
        "colab": {
          "base_uri": "https://localhost:8080/"
        },
        "id": "t9-FtXI7eu5-",
        "outputId": "12a09fcd-c3be-4baa-bc32-572e705011f2"
      },
      "execution_count": 32,
      "outputs": [
        {
          "output_type": "stream",
          "name": "stdout",
          "text": [
            "Downloading: 100%|\u001b[32m██████████\u001b[0m|\n"
          ]
        }
      ]
    },
    {
      "cell_type": "markdown",
      "source": [
        "## Juntar [MS_SIM][ms_sim] com [CNES][cnes] com distritos\n",
        "\n",
        "[ms_sim]: https://basedosdados.org/dataset/5beeec93-cbf3-43f6-9eea-9bee6a0d1683?table=dea823a5-cad7-4014-b77c-4aa33b3b0541\n",
        "[cnes]: https://dados.gov.br/dados/conjuntos-dados/cnes-cadastro-nacional-de-estabelecimentos-de-saude"
      ],
      "metadata": {
        "id": "-kucb1dmhw6x"
      }
    },
    {
      "cell_type": "code",
      "source": [
        "df_ms_sim_with_distritos =  df_ms_sim.merge(cnes_sp_distrito_geo_df, how='left', left_on='codigo_estabelecimento', right_on='CO_CNES')"
      ],
      "metadata": {
        "id": "mCM2ZNeshkLX"
      },
      "execution_count": 33,
      "outputs": []
    },
    {
      "cell_type": "markdown",
      "source": [
        "## Indicadores vindo de [MS_SIM][ms_sim]\n",
        "\n",
        "[ms_sim]: https://basedosdados.org/dataset/5beeec93-cbf3-43f6-9eea-9bee6a0d1683?table=dea823a5-cad7-4014-b77c-4aa33b3b0541"
      ],
      "metadata": {
        "id": "CbYOPC8KPrUj"
      }
    },
    {
      "cell_type": "markdown",
      "source": [
        "### Mortalidade materna\n",
        "\n",
        "Seguinte fórmula:\n",
        "\n",
        "$\\text{\n",
        "Mortalidade materna} = \\frac{\\text{Número de óbitos maternos}}{\\text{Número de óbitos}} \\times 1000$\n",
        "\n",
        "Indicadores resultante desse codigo:\n",
        "- Mortalidade materna - SIM 2022"
      ],
      "metadata": {
        "id": "6lKhpWDsPzpZ"
      }
    },
    {
      "cell_type": "code",
      "source": [
        "indicador_name = 'Mortalidade Materna'\n",
        "selected = (df_ms_sim_with_distritos.sexo == '2') & (df_ms_sim_with_distritos.obito_gravidez.isin(['3.0', '2.0', '1.0']))\n",
        "df_ms_sim_with_mortalidade_materna = df_ms_sim_with_distritos[selected]\n",
        "df_ms_sim_with_mortalidade_materna = df_ms_sim_with_mortalidade_materna.groupby('NM_DIST').data_obito.count().to_frame('morte_maternas')\n",
        "\n",
        "total_mortes = df_ms_sim_with_distritos.groupby('NM_DIST').data_obito.count().to_frame('mortes_totais')\n",
        "\n",
        "df_ms_sim_with_mortalidade_materna = pd.concat([total_mortes, df_ms_sim_with_mortalidade_materna], axis=1)\n",
        "df_ms_sim_with_mortalidade_materna.fillna(0, inplace=True)\n",
        "\n",
        "df_ms_sim_with_mortalidade_materna = ((df_ms_sim_with_mortalidade_materna.morte_maternas / df_ms_sim_with_mortalidade_materna.mortes_totais) * 1000).round(3).to_frame(indicador_name)\n"
      ],
      "metadata": {
        "id": "68ekvBXcPwgs"
      },
      "execution_count": 34,
      "outputs": []
    },
    {
      "cell_type": "markdown",
      "source": [
        "### Idade média ao morrer"
      ],
      "metadata": {
        "id": "VB0Cpsr5P4MU"
      }
    },
    {
      "cell_type": "code",
      "source": [
        "df_ms_sim_with_idade_media = df_ms_sim_with_distritos.groupby('NM_DIST').idade.mean().round(3)"
      ],
      "metadata": {
        "id": "1Bubgw_QTg8a"
      },
      "execution_count": 35,
      "outputs": []
    },
    {
      "cell_type": "markdown",
      "source": [
        "### Mortalidade até 1 ano de idade | Mortalidade infantil (óbitos por 1.000 nascidos vivos)\n",
        "\n",
        "Seguinte fórmula:\n",
        "\n",
        "$\\text{\n",
        "Mortalidade infantil (óbitos por 1.000 nascidos vivos)} = \\frac{\\text{mortes_infantil}}{\\text{mortes_totais}} \\times 1000$\n",
        "\n",
        "Indicadores resultante desse codigo:\n",
        "- Mortalidade até 1 ano de idade - SIM 2022\n",
        "\n"
      ],
      "metadata": {
        "id": "UP6YZdiPlj4o"
      }
    },
    {
      "cell_type": "code",
      "source": [
        "indicador_name = 'Mortalidade infantil (óbitos por 1.000 nascidos vivos)'\n",
        "\n",
        "selected = (df_ms_sim_with_distritos.idade <= 1)\n",
        "df_ms_sim_mortalidade_one_year = df_ms_sim_with_distritos[selected]\n",
        "df_ms_sim_mortalidade_one_year = df_ms_sim_mortalidade_one_year.groupby('NM_DIST').data_obito.count().to_frame('mortes_infantil')\n",
        "\n",
        "total_mortes = df_ms_sim_with_distritos.groupby('NM_DIST').data_obito.count().to_frame('mortes_totais')\n",
        "\n",
        "df_ms_sim_mortalidade_one_year = pd.concat([total_mortes, df_ms_sim_mortalidade_one_year], axis=1)\n",
        "df_ms_sim_mortalidade_one_year.fillna(0, inplace=True)\n",
        "\n",
        "df_ms_sim_mortalidade_one_year = ((df_ms_sim_mortalidade_one_year.mortes_infantil / df_ms_sim_mortalidade_one_year.mortes_totais) * 1000).round(3).to_frame(indicador_name)"
      ],
      "metadata": {
        "id": "mowg4ABnc5ws"
      },
      "execution_count": 36,
      "outputs": []
    },
    {
      "cell_type": "markdown",
      "source": [
        "### Mortalidade até 5 anos de idade"
      ],
      "metadata": {
        "id": "b9eKQhZcmJe_"
      }
    },
    {
      "cell_type": "code",
      "source": [
        "selected = (df_ms_sim_with_distritos.idade <= 5)\n",
        "df_ms_sim_mortalidade_five_year = df_ms_sim_with_distritos[selected]\n",
        "df_ms_sim_mortalidade_five_year = df_ms_sim_mortalidade_five_year.groupby('NM_DIST').data_obito.count()"
      ],
      "metadata": {
        "id": "ar0mKFfOmBbv"
      },
      "execution_count": 37,
      "outputs": []
    },
    {
      "cell_type": "markdown",
      "source": [
        "### Taxa de mortalidade infantil (por mil nascidos vivos)\n",
        "Rode a `Mortalidade até 5 anos de idade` e o Censo 2022 Indicadores antes desse indicador\n",
        "Seguinte fórmula:\n",
        "\n",
        "$\\text{\n",
        "Taxa de mortalidade infantil (por mil nascidos vivos)} = \\frac{\\text{Mortalidade Até 5 anos}}{\\text{População total}} \\times 1000$"
      ],
      "metadata": {
        "id": "9E8DApdVouZQ"
      }
    },
    {
      "cell_type": "code",
      "source": [
        "df_ms_sim_taxa_mortalidade_infantil = pd.concat([populacao_censo_2022, df_ms_sim_mortalidade_five_year], axis=1)\n",
        "df_ms_sim_taxa_mortalidade_infantil.fillna(0, inplace=True)\n",
        "df_ms_sim_taxa_mortalidade_infantil['V0001'] = df_ms_sim_taxa_mortalidade_infantil['V0001'].astype(int)\n",
        "df_ms_sim_taxa_mortalidade_infantil = ((df_ms_sim_taxa_mortalidade_infantil.data_obito / df_ms_sim_taxa_mortalidade_infantil['V0001']) * 1000).round(3)"
      ],
      "metadata": {
        "id": "l-QaBJujoeN5"
      },
      "execution_count": 38,
      "outputs": []
    },
    {
      "cell_type": "markdown",
      "source": [
        "### Anos Potenciais de Vida Perdidos – APVP\n",
        "\n",
        "denominado APVP, cujo conteúdo é o resultado da diferença entre 70 e a idade em anos no momento da morte, quando a idade é menor que 70 anos.\n",
        "\n",
        "Depois foi agrupado todos os apvp por distrito e somados."
      ],
      "metadata": {
        "id": "BGPBsrrmse0J"
      }
    },
    {
      "cell_type": "code",
      "source": [
        "selected = (df_ms_sim_with_distritos.idade < 70)\n",
        "df_ms_sim_apvp = df_ms_sim_with_distritos[selected]\n",
        "df_ms_sim_apvp['apvp'] = 70 - df_ms_sim_apvp.idade\n",
        "df_ms_sim_apvp = df_ms_sim_apvp.groupby('NM_DIST').apvp.sum()"
      ],
      "metadata": {
        "id": "7iSj9dAopGXY"
      },
      "execution_count": 39,
      "outputs": []
    },
    {
      "cell_type": "markdown",
      "source": [
        "## Juntando indicadores -> [Excel][excel]\n",
        "\n",
        "[excel]: https://docs.google.com/spreadsheets/d/1wDRZC8e1xuYIk99AHdjL5LkIFevf_6HU/edit?usp=sharing&ouid=115854210799010302684&rtpof=true&sd=true\n",
        "\n",
        "\n"
      ],
      "metadata": {
        "id": "NfpKlxicWnwB"
      }
    },
    {
      "cell_type": "code",
      "source": [
        "colunas = [\n",
        "    'Proporção de nascidos vivos de mães que fizeram 7 ou mais consultas de pré natal - SINASC 2023',\n",
        "    'Nascidos vivos de mães adolescentes (10 a 19 anos) - SINASC 2023',\n",
        "    'Total de Nascidos Vivos - SINASC 2023',\n",
        "    'Proporção de bebês nascidos vivos de mães adolescentes (10 a 19 anos) - SINASC 2023',\n",
        "    'Proporção de bebês com baixo peso ao nascer (menos de 2,5 kg) - SINASC 2022',\n",
        "    'Mortalidade materna - SIM 2022',\n",
        "    'Idade média ao morrer - SIM 2022',\n",
        "    'Mortalidade até 1 ano de idade - SIM 2022',\n",
        "    'Mortalidade até 5 ano de idade - SIM 2022',\n",
        "    'Mortalidade infantil (óbitos por 1.000 nascidos vivos) - SIM 2022',\n",
        "    'Anos Potenciais de Vida Perdidos(APVP) - SIM 2022']\n",
        "\n",
        "indicadores_sinasc = [df_ms_sinasc_pre_natal,\n",
        "                      df_ms_sinasc_maes_indicadores,\n",
        "                      df_ms_sinasc_bebes_baixo_peso,\n",
        "                      df_ms_sim_with_mortalidade_materna,\n",
        "                      df_ms_sim_with_idade_media,\n",
        "                      df_ms_sim_mortalidade_one_year,\n",
        "                      df_ms_sim_mortalidade_five_year,\n",
        "                      df_ms_sim_taxa_mortalidade_infantil,\n",
        "                      df_ms_sim_apvp]\n",
        "\n",
        "indicadores_sinasc = pd.concat(indicadores_sinasc, axis=1)\n",
        "\n",
        "indicadores_sinasc.columns = colunas\n",
        "indicadores_sinasc.index.names = ['Distritos']\n"
      ],
      "metadata": {
        "id": "ijlx7MvWVzcr"
      },
      "execution_count": 40,
      "outputs": []
    },
    {
      "cell_type": "code",
      "source": [
        "indicadores_sinasc"
      ],
      "metadata": {
        "colab": {
          "base_uri": "https://localhost:8080/",
          "height": 684
        },
        "id": "rxE193TrLfA4",
        "outputId": "cd29d62b-d2a8-4127-b07d-291dd3b50eae"
      },
      "execution_count": 41,
      "outputs": [
        {
          "output_type": "execute_result",
          "data": {
            "text/plain": [
              "              Proporção de nascidos vivos de mães que fizeram 7 ou mais consultas de pré natal - SINASC 2023  \\\n",
              "Distritos                                                                                                      \n",
              "Bela Vista                                               92.654                                                \n",
              "Belém                                                       0.0                                                \n",
              "Brasilândia                                                 0.0                                                \n",
              "Cachoeirinha                                              81.17                                                \n",
              "Campo Grande                                             79.307                                                \n",
              "...                                                         ...                                                \n",
              "Aricanduva                                                 <NA>                                                \n",
              "Barra Funda                                                <NA>                                                \n",
              "Mandaqui                                                   <NA>                                                \n",
              "Perus                                                      <NA>                                                \n",
              "Ponte Rasa                                                 <NA>                                                \n",
              "\n",
              "              Nascidos vivos de mães adolescentes (10 a 19 anos) - SINASC 2023  \\\n",
              "Distritos                                                                        \n",
              "Bela Vista                                                   18                  \n",
              "Belém                                                      <NA>                  \n",
              "Brasilândia                                                   1                  \n",
              "Cachoeirinha                                                332                  \n",
              "Campo Grande                                                122                  \n",
              "...                                                         ...                  \n",
              "Aricanduva                                                 <NA>                  \n",
              "Barra Funda                                                <NA>                  \n",
              "Mandaqui                                                   <NA>                  \n",
              "Perus                                                      <NA>                  \n",
              "Ponte Rasa                                                 <NA>                  \n",
              "\n",
              "              Total de Nascidos Vivos - SINASC 2023  \\\n",
              "Distritos                                             \n",
              "Bela Vista                                     4560   \n",
              "Belém                                             1   \n",
              "Brasilândia                                       1   \n",
              "Cachoeirinha                                   2820   \n",
              "Campo Grande                                   1155   \n",
              "...                                             ...   \n",
              "Aricanduva                                     <NA>   \n",
              "Barra Funda                                    <NA>   \n",
              "Mandaqui                                       <NA>   \n",
              "Perus                                          <NA>   \n",
              "Ponte Rasa                                     <NA>   \n",
              "\n",
              "              Proporção de bebês nascidos vivos de mães adolescentes (10 a 19 anos) - SINASC 2023  \\\n",
              "Distritos                                                                                           \n",
              "Bela Vista                                                0.395                                     \n",
              "Belém                                                      <NA>                                     \n",
              "Brasilândia                                               100.0                                     \n",
              "Cachoeirinha                                             11.773                                     \n",
              "Campo Grande                                             10.563                                     \n",
              "...                                                         ...                                     \n",
              "Aricanduva                                                 <NA>                                     \n",
              "Barra Funda                                                <NA>                                     \n",
              "Mandaqui                                                   <NA>                                     \n",
              "Perus                                                      <NA>                                     \n",
              "Ponte Rasa                                                 <NA>                                     \n",
              "\n",
              "              Proporção de bebês com baixo peso ao nascer (menos de 2,5 kg) - SINASC 2022  \\\n",
              "Distritos                                                                                   \n",
              "Bela Vista                                                10.11                             \n",
              "Belém                                                       0.0                             \n",
              "Brasilândia                                               100.0                             \n",
              "Cachoeirinha                                             12.376                             \n",
              "Campo Grande                                             14.199                             \n",
              "...                                                         ...                             \n",
              "Aricanduva                                                 <NA>                             \n",
              "Barra Funda                                                <NA>                             \n",
              "Mandaqui                                                   <NA>                             \n",
              "Perus                                                      <NA>                             \n",
              "Ponte Rasa                                                 <NA>                             \n",
              "\n",
              "              Mortalidade materna - SIM 2022  \\\n",
              "Distritos                                      \n",
              "Bela Vista                             9.764   \n",
              "Belém                                  5.900   \n",
              "Brasilândia                            0.000   \n",
              "Cachoeirinha                           5.917   \n",
              "Campo Grande                          15.365   \n",
              "...                                      ...   \n",
              "Aricanduva                               NaN   \n",
              "Barra Funda                              NaN   \n",
              "Mandaqui                                 NaN   \n",
              "Perus                                    NaN   \n",
              "Ponte Rasa                               NaN   \n",
              "\n",
              "              Idade média ao morrer - SIM 2022  \\\n",
              "Distritos                                        \n",
              "Bela Vista                              77.489   \n",
              "Belém                                   81.968   \n",
              "Brasilândia                             62.529   \n",
              "Cachoeirinha                            19.172   \n",
              "Campo Grande                            66.816   \n",
              "...                                        ...   \n",
              "Aricanduva                                 NaN   \n",
              "Barra Funda                                NaN   \n",
              "Mandaqui                                   NaN   \n",
              "Perus                                      NaN   \n",
              "Ponte Rasa                                 NaN   \n",
              "\n",
              "              Mortalidade até 1 ano de idade - SIM 2022  \\\n",
              "Distritos                                                 \n",
              "Bela Vista                                       16.680   \n",
              "Belém                                             0.000   \n",
              "Brasilândia                                      20.270   \n",
              "Cachoeirinha                                    366.864   \n",
              "Campo Grande                                     25.608   \n",
              "...                                                 ...   \n",
              "Aricanduva                                          NaN   \n",
              "Barra Funda                                         NaN   \n",
              "Mandaqui                                            NaN   \n",
              "Perus                                               NaN   \n",
              "Ponte Rasa                                          NaN   \n",
              "\n",
              "              Mortalidade até 5 ano de idade - SIM 2022  \\\n",
              "Distritos                                                 \n",
              "Bela Vista                                         53.0   \n",
              "Belém                                               NaN   \n",
              "Brasilândia                                         3.0   \n",
              "Cachoeirinha                                       62.0   \n",
              "Campo Grande                                       43.0   \n",
              "...                                                 ...   \n",
              "Aricanduva                                          NaN   \n",
              "Barra Funda                                         NaN   \n",
              "Mandaqui                                            NaN   \n",
              "Perus                                               NaN   \n",
              "Ponte Rasa                                          NaN   \n",
              "\n",
              "              Mortalidade infantil (óbitos por 1.000 nascidos vivos) - SIM 2022  \\\n",
              "Distritos                                                                         \n",
              "Bela Vista                                                0.883                   \n",
              "Belém                                                     0.000                   \n",
              "Brasilândia                                               0.012                   \n",
              "Cachoeirinha                                              0.432                   \n",
              "Campo Grande                                              0.371                   \n",
              "...                                                         ...                   \n",
              "Aricanduva                                                0.000                   \n",
              "Barra Funda                                               0.000                   \n",
              "Mandaqui                                                  0.000                   \n",
              "Perus                                                     0.000                   \n",
              "Ponte Rasa                                                0.000                   \n",
              "\n",
              "              Anos Potenciais de Vida Perdidos(APVP) - SIM 2022  \n",
              "Distritos                                                        \n",
              "Bela Vista                                             10113.92  \n",
              "Belém                                                    569.00  \n",
              "Brasilândia                                             1722.30  \n",
              "Cachoeirinha                                            5237.43  \n",
              "Campo Grande                                           14061.18  \n",
              "...                                                         ...  \n",
              "Aricanduva                                                  NaN  \n",
              "Barra Funda                                                 NaN  \n",
              "Mandaqui                                                    NaN  \n",
              "Perus                                                       NaN  \n",
              "Ponte Rasa                                                  NaN  \n",
              "\n",
              "[96 rows x 11 columns]"
            ],
            "text/html": [
              "\n",
              "  <div id=\"df-36f54175-75a0-42cd-965f-d32f4a20fe1b\" class=\"colab-df-container\">\n",
              "    <div>\n",
              "<style scoped>\n",
              "    .dataframe tbody tr th:only-of-type {\n",
              "        vertical-align: middle;\n",
              "    }\n",
              "\n",
              "    .dataframe tbody tr th {\n",
              "        vertical-align: top;\n",
              "    }\n",
              "\n",
              "    .dataframe thead th {\n",
              "        text-align: right;\n",
              "    }\n",
              "</style>\n",
              "<table border=\"1\" class=\"dataframe\">\n",
              "  <thead>\n",
              "    <tr style=\"text-align: right;\">\n",
              "      <th></th>\n",
              "      <th>Proporção de nascidos vivos de mães que fizeram 7 ou mais consultas de pré natal - SINASC 2023</th>\n",
              "      <th>Nascidos vivos de mães adolescentes (10 a 19 anos) - SINASC 2023</th>\n",
              "      <th>Total de Nascidos Vivos - SINASC 2023</th>\n",
              "      <th>Proporção de bebês nascidos vivos de mães adolescentes (10 a 19 anos) - SINASC 2023</th>\n",
              "      <th>Proporção de bebês com baixo peso ao nascer (menos de 2,5 kg) - SINASC 2022</th>\n",
              "      <th>Mortalidade materna - SIM 2022</th>\n",
              "      <th>Idade média ao morrer - SIM 2022</th>\n",
              "      <th>Mortalidade até 1 ano de idade - SIM 2022</th>\n",
              "      <th>Mortalidade até 5 ano de idade - SIM 2022</th>\n",
              "      <th>Mortalidade infantil (óbitos por 1.000 nascidos vivos) - SIM 2022</th>\n",
              "      <th>Anos Potenciais de Vida Perdidos(APVP) - SIM 2022</th>\n",
              "    </tr>\n",
              "    <tr>\n",
              "      <th>Distritos</th>\n",
              "      <th></th>\n",
              "      <th></th>\n",
              "      <th></th>\n",
              "      <th></th>\n",
              "      <th></th>\n",
              "      <th></th>\n",
              "      <th></th>\n",
              "      <th></th>\n",
              "      <th></th>\n",
              "      <th></th>\n",
              "      <th></th>\n",
              "    </tr>\n",
              "  </thead>\n",
              "  <tbody>\n",
              "    <tr>\n",
              "      <th>Bela Vista</th>\n",
              "      <td>92.654</td>\n",
              "      <td>18</td>\n",
              "      <td>4560</td>\n",
              "      <td>0.395</td>\n",
              "      <td>10.11</td>\n",
              "      <td>9.764</td>\n",
              "      <td>77.489</td>\n",
              "      <td>16.680</td>\n",
              "      <td>53.0</td>\n",
              "      <td>0.883</td>\n",
              "      <td>10113.92</td>\n",
              "    </tr>\n",
              "    <tr>\n",
              "      <th>Belém</th>\n",
              "      <td>0.0</td>\n",
              "      <td>&lt;NA&gt;</td>\n",
              "      <td>1</td>\n",
              "      <td>&lt;NA&gt;</td>\n",
              "      <td>0.0</td>\n",
              "      <td>5.900</td>\n",
              "      <td>81.968</td>\n",
              "      <td>0.000</td>\n",
              "      <td>NaN</td>\n",
              "      <td>0.000</td>\n",
              "      <td>569.00</td>\n",
              "    </tr>\n",
              "    <tr>\n",
              "      <th>Brasilândia</th>\n",
              "      <td>0.0</td>\n",
              "      <td>1</td>\n",
              "      <td>1</td>\n",
              "      <td>100.0</td>\n",
              "      <td>100.0</td>\n",
              "      <td>0.000</td>\n",
              "      <td>62.529</td>\n",
              "      <td>20.270</td>\n",
              "      <td>3.0</td>\n",
              "      <td>0.012</td>\n",
              "      <td>1722.30</td>\n",
              "    </tr>\n",
              "    <tr>\n",
              "      <th>Cachoeirinha</th>\n",
              "      <td>81.17</td>\n",
              "      <td>332</td>\n",
              "      <td>2820</td>\n",
              "      <td>11.773</td>\n",
              "      <td>12.376</td>\n",
              "      <td>5.917</td>\n",
              "      <td>19.172</td>\n",
              "      <td>366.864</td>\n",
              "      <td>62.0</td>\n",
              "      <td>0.432</td>\n",
              "      <td>5237.43</td>\n",
              "    </tr>\n",
              "    <tr>\n",
              "      <th>Campo Grande</th>\n",
              "      <td>79.307</td>\n",
              "      <td>122</td>\n",
              "      <td>1155</td>\n",
              "      <td>10.563</td>\n",
              "      <td>14.199</td>\n",
              "      <td>15.365</td>\n",
              "      <td>66.816</td>\n",
              "      <td>25.608</td>\n",
              "      <td>43.0</td>\n",
              "      <td>0.371</td>\n",
              "      <td>14061.18</td>\n",
              "    </tr>\n",
              "    <tr>\n",
              "      <th>...</th>\n",
              "      <td>...</td>\n",
              "      <td>...</td>\n",
              "      <td>...</td>\n",
              "      <td>...</td>\n",
              "      <td>...</td>\n",
              "      <td>...</td>\n",
              "      <td>...</td>\n",
              "      <td>...</td>\n",
              "      <td>...</td>\n",
              "      <td>...</td>\n",
              "      <td>...</td>\n",
              "    </tr>\n",
              "    <tr>\n",
              "      <th>Aricanduva</th>\n",
              "      <td>&lt;NA&gt;</td>\n",
              "      <td>&lt;NA&gt;</td>\n",
              "      <td>&lt;NA&gt;</td>\n",
              "      <td>&lt;NA&gt;</td>\n",
              "      <td>&lt;NA&gt;</td>\n",
              "      <td>NaN</td>\n",
              "      <td>NaN</td>\n",
              "      <td>NaN</td>\n",
              "      <td>NaN</td>\n",
              "      <td>0.000</td>\n",
              "      <td>NaN</td>\n",
              "    </tr>\n",
              "    <tr>\n",
              "      <th>Barra Funda</th>\n",
              "      <td>&lt;NA&gt;</td>\n",
              "      <td>&lt;NA&gt;</td>\n",
              "      <td>&lt;NA&gt;</td>\n",
              "      <td>&lt;NA&gt;</td>\n",
              "      <td>&lt;NA&gt;</td>\n",
              "      <td>NaN</td>\n",
              "      <td>NaN</td>\n",
              "      <td>NaN</td>\n",
              "      <td>NaN</td>\n",
              "      <td>0.000</td>\n",
              "      <td>NaN</td>\n",
              "    </tr>\n",
              "    <tr>\n",
              "      <th>Mandaqui</th>\n",
              "      <td>&lt;NA&gt;</td>\n",
              "      <td>&lt;NA&gt;</td>\n",
              "      <td>&lt;NA&gt;</td>\n",
              "      <td>&lt;NA&gt;</td>\n",
              "      <td>&lt;NA&gt;</td>\n",
              "      <td>NaN</td>\n",
              "      <td>NaN</td>\n",
              "      <td>NaN</td>\n",
              "      <td>NaN</td>\n",
              "      <td>0.000</td>\n",
              "      <td>NaN</td>\n",
              "    </tr>\n",
              "    <tr>\n",
              "      <th>Perus</th>\n",
              "      <td>&lt;NA&gt;</td>\n",
              "      <td>&lt;NA&gt;</td>\n",
              "      <td>&lt;NA&gt;</td>\n",
              "      <td>&lt;NA&gt;</td>\n",
              "      <td>&lt;NA&gt;</td>\n",
              "      <td>NaN</td>\n",
              "      <td>NaN</td>\n",
              "      <td>NaN</td>\n",
              "      <td>NaN</td>\n",
              "      <td>0.000</td>\n",
              "      <td>NaN</td>\n",
              "    </tr>\n",
              "    <tr>\n",
              "      <th>Ponte Rasa</th>\n",
              "      <td>&lt;NA&gt;</td>\n",
              "      <td>&lt;NA&gt;</td>\n",
              "      <td>&lt;NA&gt;</td>\n",
              "      <td>&lt;NA&gt;</td>\n",
              "      <td>&lt;NA&gt;</td>\n",
              "      <td>NaN</td>\n",
              "      <td>NaN</td>\n",
              "      <td>NaN</td>\n",
              "      <td>NaN</td>\n",
              "      <td>0.000</td>\n",
              "      <td>NaN</td>\n",
              "    </tr>\n",
              "  </tbody>\n",
              "</table>\n",
              "<p>96 rows × 11 columns</p>\n",
              "</div>\n",
              "    <div class=\"colab-df-buttons\">\n",
              "\n",
              "  <div class=\"colab-df-container\">\n",
              "    <button class=\"colab-df-convert\" onclick=\"convertToInteractive('df-36f54175-75a0-42cd-965f-d32f4a20fe1b')\"\n",
              "            title=\"Convert this dataframe to an interactive table.\"\n",
              "            style=\"display:none;\">\n",
              "\n",
              "  <svg xmlns=\"http://www.w3.org/2000/svg\" height=\"24px\" viewBox=\"0 -960 960 960\">\n",
              "    <path d=\"M120-120v-720h720v720H120Zm60-500h600v-160H180v160Zm220 220h160v-160H400v160Zm0 220h160v-160H400v160ZM180-400h160v-160H180v160Zm440 0h160v-160H620v160ZM180-180h160v-160H180v160Zm440 0h160v-160H620v160Z\"/>\n",
              "  </svg>\n",
              "    </button>\n",
              "\n",
              "  <style>\n",
              "    .colab-df-container {\n",
              "      display:flex;\n",
              "      gap: 12px;\n",
              "    }\n",
              "\n",
              "    .colab-df-convert {\n",
              "      background-color: #E8F0FE;\n",
              "      border: none;\n",
              "      border-radius: 50%;\n",
              "      cursor: pointer;\n",
              "      display: none;\n",
              "      fill: #1967D2;\n",
              "      height: 32px;\n",
              "      padding: 0 0 0 0;\n",
              "      width: 32px;\n",
              "    }\n",
              "\n",
              "    .colab-df-convert:hover {\n",
              "      background-color: #E2EBFA;\n",
              "      box-shadow: 0px 1px 2px rgba(60, 64, 67, 0.3), 0px 1px 3px 1px rgba(60, 64, 67, 0.15);\n",
              "      fill: #174EA6;\n",
              "    }\n",
              "\n",
              "    .colab-df-buttons div {\n",
              "      margin-bottom: 4px;\n",
              "    }\n",
              "\n",
              "    [theme=dark] .colab-df-convert {\n",
              "      background-color: #3B4455;\n",
              "      fill: #D2E3FC;\n",
              "    }\n",
              "\n",
              "    [theme=dark] .colab-df-convert:hover {\n",
              "      background-color: #434B5C;\n",
              "      box-shadow: 0px 1px 3px 1px rgba(0, 0, 0, 0.15);\n",
              "      filter: drop-shadow(0px 1px 2px rgba(0, 0, 0, 0.3));\n",
              "      fill: #FFFFFF;\n",
              "    }\n",
              "  </style>\n",
              "\n",
              "    <script>\n",
              "      const buttonEl =\n",
              "        document.querySelector('#df-36f54175-75a0-42cd-965f-d32f4a20fe1b button.colab-df-convert');\n",
              "      buttonEl.style.display =\n",
              "        google.colab.kernel.accessAllowed ? 'block' : 'none';\n",
              "\n",
              "      async function convertToInteractive(key) {\n",
              "        const element = document.querySelector('#df-36f54175-75a0-42cd-965f-d32f4a20fe1b');\n",
              "        const dataTable =\n",
              "          await google.colab.kernel.invokeFunction('convertToInteractive',\n",
              "                                                    [key], {});\n",
              "        if (!dataTable) return;\n",
              "\n",
              "        const docLinkHtml = 'Like what you see? Visit the ' +\n",
              "          '<a target=\"_blank\" href=https://colab.research.google.com/notebooks/data_table.ipynb>data table notebook</a>'\n",
              "          + ' to learn more about interactive tables.';\n",
              "        element.innerHTML = '';\n",
              "        dataTable['output_type'] = 'display_data';\n",
              "        await google.colab.output.renderOutput(dataTable, element);\n",
              "        const docLink = document.createElement('div');\n",
              "        docLink.innerHTML = docLinkHtml;\n",
              "        element.appendChild(docLink);\n",
              "      }\n",
              "    </script>\n",
              "  </div>\n",
              "\n",
              "\n",
              "<div id=\"df-81c9c28f-3f7c-4a03-b301-b6de17d5e34a\">\n",
              "  <button class=\"colab-df-quickchart\" onclick=\"quickchart('df-81c9c28f-3f7c-4a03-b301-b6de17d5e34a')\"\n",
              "            title=\"Suggest charts\"\n",
              "            style=\"display:none;\">\n",
              "\n",
              "<svg xmlns=\"http://www.w3.org/2000/svg\" height=\"24px\"viewBox=\"0 0 24 24\"\n",
              "     width=\"24px\">\n",
              "    <g>\n",
              "        <path d=\"M19 3H5c-1.1 0-2 .9-2 2v14c0 1.1.9 2 2 2h14c1.1 0 2-.9 2-2V5c0-1.1-.9-2-2-2zM9 17H7v-7h2v7zm4 0h-2V7h2v10zm4 0h-2v-4h2v4z\"/>\n",
              "    </g>\n",
              "</svg>\n",
              "  </button>\n",
              "\n",
              "<style>\n",
              "  .colab-df-quickchart {\n",
              "      --bg-color: #E8F0FE;\n",
              "      --fill-color: #1967D2;\n",
              "      --hover-bg-color: #E2EBFA;\n",
              "      --hover-fill-color: #174EA6;\n",
              "      --disabled-fill-color: #AAA;\n",
              "      --disabled-bg-color: #DDD;\n",
              "  }\n",
              "\n",
              "  [theme=dark] .colab-df-quickchart {\n",
              "      --bg-color: #3B4455;\n",
              "      --fill-color: #D2E3FC;\n",
              "      --hover-bg-color: #434B5C;\n",
              "      --hover-fill-color: #FFFFFF;\n",
              "      --disabled-bg-color: #3B4455;\n",
              "      --disabled-fill-color: #666;\n",
              "  }\n",
              "\n",
              "  .colab-df-quickchart {\n",
              "    background-color: var(--bg-color);\n",
              "    border: none;\n",
              "    border-radius: 50%;\n",
              "    cursor: pointer;\n",
              "    display: none;\n",
              "    fill: var(--fill-color);\n",
              "    height: 32px;\n",
              "    padding: 0;\n",
              "    width: 32px;\n",
              "  }\n",
              "\n",
              "  .colab-df-quickchart:hover {\n",
              "    background-color: var(--hover-bg-color);\n",
              "    box-shadow: 0 1px 2px rgba(60, 64, 67, 0.3), 0 1px 3px 1px rgba(60, 64, 67, 0.15);\n",
              "    fill: var(--button-hover-fill-color);\n",
              "  }\n",
              "\n",
              "  .colab-df-quickchart-complete:disabled,\n",
              "  .colab-df-quickchart-complete:disabled:hover {\n",
              "    background-color: var(--disabled-bg-color);\n",
              "    fill: var(--disabled-fill-color);\n",
              "    box-shadow: none;\n",
              "  }\n",
              "\n",
              "  .colab-df-spinner {\n",
              "    border: 2px solid var(--fill-color);\n",
              "    border-color: transparent;\n",
              "    border-bottom-color: var(--fill-color);\n",
              "    animation:\n",
              "      spin 1s steps(1) infinite;\n",
              "  }\n",
              "\n",
              "  @keyframes spin {\n",
              "    0% {\n",
              "      border-color: transparent;\n",
              "      border-bottom-color: var(--fill-color);\n",
              "      border-left-color: var(--fill-color);\n",
              "    }\n",
              "    20% {\n",
              "      border-color: transparent;\n",
              "      border-left-color: var(--fill-color);\n",
              "      border-top-color: var(--fill-color);\n",
              "    }\n",
              "    30% {\n",
              "      border-color: transparent;\n",
              "      border-left-color: var(--fill-color);\n",
              "      border-top-color: var(--fill-color);\n",
              "      border-right-color: var(--fill-color);\n",
              "    }\n",
              "    40% {\n",
              "      border-color: transparent;\n",
              "      border-right-color: var(--fill-color);\n",
              "      border-top-color: var(--fill-color);\n",
              "    }\n",
              "    60% {\n",
              "      border-color: transparent;\n",
              "      border-right-color: var(--fill-color);\n",
              "    }\n",
              "    80% {\n",
              "      border-color: transparent;\n",
              "      border-right-color: var(--fill-color);\n",
              "      border-bottom-color: var(--fill-color);\n",
              "    }\n",
              "    90% {\n",
              "      border-color: transparent;\n",
              "      border-bottom-color: var(--fill-color);\n",
              "    }\n",
              "  }\n",
              "</style>\n",
              "\n",
              "  <script>\n",
              "    async function quickchart(key) {\n",
              "      const quickchartButtonEl =\n",
              "        document.querySelector('#' + key + ' button');\n",
              "      quickchartButtonEl.disabled = true;  // To prevent multiple clicks.\n",
              "      quickchartButtonEl.classList.add('colab-df-spinner');\n",
              "      try {\n",
              "        const charts = await google.colab.kernel.invokeFunction(\n",
              "            'suggestCharts', [key], {});\n",
              "      } catch (error) {\n",
              "        console.error('Error during call to suggestCharts:', error);\n",
              "      }\n",
              "      quickchartButtonEl.classList.remove('colab-df-spinner');\n",
              "      quickchartButtonEl.classList.add('colab-df-quickchart-complete');\n",
              "    }\n",
              "    (() => {\n",
              "      let quickchartButtonEl =\n",
              "        document.querySelector('#df-81c9c28f-3f7c-4a03-b301-b6de17d5e34a button');\n",
              "      quickchartButtonEl.style.display =\n",
              "        google.colab.kernel.accessAllowed ? 'block' : 'none';\n",
              "    })();\n",
              "  </script>\n",
              "</div>\n",
              "\n",
              "  <div id=\"id_60470676-2e78-4bc4-8023-d43d173985d9\">\n",
              "    <style>\n",
              "      .colab-df-generate {\n",
              "        background-color: #E8F0FE;\n",
              "        border: none;\n",
              "        border-radius: 50%;\n",
              "        cursor: pointer;\n",
              "        display: none;\n",
              "        fill: #1967D2;\n",
              "        height: 32px;\n",
              "        padding: 0 0 0 0;\n",
              "        width: 32px;\n",
              "      }\n",
              "\n",
              "      .colab-df-generate:hover {\n",
              "        background-color: #E2EBFA;\n",
              "        box-shadow: 0px 1px 2px rgba(60, 64, 67, 0.3), 0px 1px 3px 1px rgba(60, 64, 67, 0.15);\n",
              "        fill: #174EA6;\n",
              "      }\n",
              "\n",
              "      [theme=dark] .colab-df-generate {\n",
              "        background-color: #3B4455;\n",
              "        fill: #D2E3FC;\n",
              "      }\n",
              "\n",
              "      [theme=dark] .colab-df-generate:hover {\n",
              "        background-color: #434B5C;\n",
              "        box-shadow: 0px 1px 3px 1px rgba(0, 0, 0, 0.15);\n",
              "        filter: drop-shadow(0px 1px 2px rgba(0, 0, 0, 0.3));\n",
              "        fill: #FFFFFF;\n",
              "      }\n",
              "    </style>\n",
              "    <button class=\"colab-df-generate\" onclick=\"generateWithVariable('indicadores_sinasc')\"\n",
              "            title=\"Generate code using this dataframe.\"\n",
              "            style=\"display:none;\">\n",
              "\n",
              "  <svg xmlns=\"http://www.w3.org/2000/svg\" height=\"24px\"viewBox=\"0 0 24 24\"\n",
              "       width=\"24px\">\n",
              "    <path d=\"M7,19H8.4L18.45,9,17,7.55,7,17.6ZM5,21V16.75L18.45,3.32a2,2,0,0,1,2.83,0l1.4,1.43a1.91,1.91,0,0,1,.58,1.4,1.91,1.91,0,0,1-.58,1.4L9.25,21ZM18.45,9,17,7.55Zm-12,3A5.31,5.31,0,0,0,4.9,8.1,5.31,5.31,0,0,0,1,6.5,5.31,5.31,0,0,0,4.9,4.9,5.31,5.31,0,0,0,6.5,1,5.31,5.31,0,0,0,8.1,4.9,5.31,5.31,0,0,0,12,6.5,5.46,5.46,0,0,0,6.5,12Z\"/>\n",
              "  </svg>\n",
              "    </button>\n",
              "    <script>\n",
              "      (() => {\n",
              "      const buttonEl =\n",
              "        document.querySelector('#id_60470676-2e78-4bc4-8023-d43d173985d9 button.colab-df-generate');\n",
              "      buttonEl.style.display =\n",
              "        google.colab.kernel.accessAllowed ? 'block' : 'none';\n",
              "\n",
              "      buttonEl.onclick = () => {\n",
              "        google.colab.notebook.generateWithVariable('indicadores_sinasc');\n",
              "      }\n",
              "      })();\n",
              "    </script>\n",
              "  </div>\n",
              "\n",
              "    </div>\n",
              "  </div>\n"
            ],
            "application/vnd.google.colaboratory.intrinsic+json": {
              "type": "dataframe",
              "variable_name": "indicadores_sinasc",
              "summary": "{\n  \"name\": \"indicadores_sinasc\",\n  \"rows\": 96,\n  \"fields\": [\n    {\n      \"column\": \"Distritos\",\n      \"properties\": {\n        \"dtype\": \"string\",\n        \"num_unique_values\": 96,\n        \"samples\": [\n          \"Tucuruvi\",\n          \"S\\u00e3o Miguel\",\n          \"Sa\\u00fade\"\n        ],\n        \"semantic_type\": \"\",\n        \"description\": \"\"\n      }\n    },\n    {\n      \"column\": \"Propor\\u00e7\\u00e3o de nascidos vivos de m\\u00e3es que fizeram 7 ou mais consultas de pr\\u00e9 natal - SINASC 2023\",\n      \"properties\": {\n        \"dtype\": \"Float64\",\n        \"num_unique_values\": 26,\n        \"samples\": [\n          75.38,\n          75.809,\n          92.654\n        ],\n        \"semantic_type\": \"\",\n        \"description\": \"\"\n      }\n    },\n    {\n      \"column\": \"Nascidos vivos de m\\u00e3es adolescentes (10 a 19 anos) - SINASC 2023\",\n      \"properties\": {\n        \"dtype\": \"Int64\",\n        \"num_unique_values\": 23,\n        \"samples\": [\n          111,\n          173,\n          18\n        ],\n        \"semantic_type\": \"\",\n        \"description\": \"\"\n      }\n    },\n    {\n      \"column\": \"Total de Nascidos Vivos - SINASC 2023\",\n      \"properties\": {\n        \"dtype\": \"Int64\",\n        \"num_unique_values\": 26,\n        \"samples\": [\n          986,\n          1008,\n          4560\n        ],\n        \"semantic_type\": \"\",\n        \"description\": \"\"\n      }\n    },\n    {\n      \"column\": \"Propor\\u00e7\\u00e3o de beb\\u00eas nascidos vivos de m\\u00e3es adolescentes (10 a 19 anos) - SINASC 2023\",\n      \"properties\": {\n        \"dtype\": \"Float64\",\n        \"num_unique_values\": 25,\n        \"samples\": [\n          7.667,\n          10.99,\n          0.395\n        ],\n        \"semantic_type\": \"\",\n        \"description\": \"\"\n      }\n    },\n    {\n      \"column\": \"Propor\\u00e7\\u00e3o de beb\\u00eas com baixo peso ao nascer (menos de 2,5 kg) - SINASC 2022\",\n      \"properties\": {\n        \"dtype\": \"Float64\",\n        \"num_unique_values\": 25,\n        \"samples\": [\n          12.475,\n          9.524,\n          10.11\n        ],\n        \"semantic_type\": \"\",\n        \"description\": \"\"\n      }\n    },\n    {\n      \"column\": \"Mortalidade materna - SIM 2022\",\n      \"properties\": {\n        \"dtype\": \"number\",\n        \"std\": 14.121313406363283,\n        \"min\": 0.0,\n        \"max\": 107.143,\n        \"num_unique_values\": 45,\n        \"samples\": [\n          38.462,\n          9.259,\n          4.739\n        ],\n        \"semantic_type\": \"\",\n        \"description\": \"\"\n      }\n    },\n    {\n      \"column\": \"Idade m\\u00e9dia ao morrer - SIM 2022\",\n      \"properties\": {\n        \"dtype\": \"number\",\n        \"std\": 13.594462707492843,\n        \"min\": 19.172,\n        \"max\": 94.0,\n        \"num_unique_values\": 87,\n        \"samples\": [\n          85.0,\n          77.489,\n          40.667\n        ],\n        \"semantic_type\": \"\",\n        \"description\": \"\"\n      }\n    },\n    {\n      \"column\": \"Mortalidade at\\u00e9 1 ano de idade - SIM 2022\",\n      \"properties\": {\n        \"dtype\": \"number\",\n        \"std\": 64.07143989898952,\n        \"min\": 0.0,\n        \"max\": 366.864,\n        \"num_unique_values\": 45,\n        \"samples\": [\n          2.857,\n          25.681,\n          58.824\n        ],\n        \"semantic_type\": \"\",\n        \"description\": \"\"\n      }\n    },\n    {\n      \"column\": \"Mortalidade at\\u00e9 5 ano de idade - SIM 2022\",\n      \"properties\": {\n        \"dtype\": \"number\",\n        \"std\": 137.36778767567415,\n        \"min\": 1.0,\n        \"max\": 914.0,\n        \"num_unique_values\": 24,\n        \"samples\": [\n          8.0,\n          132.0,\n          53.0\n        ],\n        \"semantic_type\": \"\",\n        \"description\": \"\"\n      }\n    },\n    {\n      \"column\": \"Mortalidade infantil (\\u00f3bitos por 1.000 nascidos vivos) - SIM 2022\",\n      \"properties\": {\n        \"dtype\": \"number\",\n        \"std\": 3.9138885959002994,\n        \"min\": 0.0,\n        \"max\": 38.352,\n        \"num_unique_values\": 39,\n        \"samples\": [\n          0.168,\n          0.031,\n          0.371\n        ],\n        \"semantic_type\": \"\",\n        \"description\": \"\"\n      }\n    },\n    {\n      \"column\": \"Anos Potenciais de Vida Perdidos(APVP) - SIM 2022\",\n      \"properties\": {\n        \"dtype\": \"number\",\n        \"std\": 32069.51110849269,\n        \"min\": 3.0,\n        \"max\": 280895.51,\n        \"num_unique_values\": 73,\n        \"samples\": [\n          14061.18,\n          243.0,\n          12604.88\n        ],\n        \"semantic_type\": \"\",\n        \"description\": \"\"\n      }\n    }\n  ]\n}"
            }
          },
          "metadata": {},
          "execution_count": 41
        }
      ]
    },
    {
      "cell_type": "markdown",
      "source": [
        "# [Censo Escolar 2023][inep_escola]\n",
        "\n",
        "- [x] % de matrículas no ensino em tempo integral Fundamental / total de matrículas do ensino fundamental -> [Codigo][indicadores_7]\n",
        "\n",
        "[inep_escola]: https://basedosdados.org/dataset/dae21af4-4b6a-42f4-b94a-4c2061ea9de5?table=15e428cb-cce2-41f8-aec5-066d685b5bd5\n",
        "\n",
        "<!-- % de matrículas no ensino em tempo integral Fundamental / total de matrículas do ensino fundamental -->\n",
        "[indicadores_7]: https://colab.research.google.com/drive/14jIloiip7s8xnTffYS55Q0lF8Etwz5W5#scrollTo=ylENxfdGdLzP\n"
      ],
      "metadata": {
        "id": "BWO2obxadLzK"
      }
    },
    {
      "cell_type": "markdown",
      "source": [
        "## Querys e constantes\n",
        "\n",
        "Caso você não tenha um projeto google configurado.\n",
        "\n",
        "Verifique a documentação: [primeiros-passos][primeiros-passos]\n",
        "\n",
        "[primeiros-passos]: https://basedosdados.github.io/sdk/access_data_bq/#primeiros-passos"
      ],
      "metadata": {
        "id": "s2XbHHgAkERT"
      }
    },
    {
      "cell_type": "code",
      "source": [
        "# Camadas de Distritos extraida do GEOSAMPA pelo projeto SLUI\n",
        "url_slui_dev = 'http://geoserver.slui.dev/geoserver/slui/ows?service=WFS&version=1.0.0&request=GetFeature&typeName=slui%3Adistrito_municipal&maxFeatures=100&outputFormat=CSV'\n",
        "\n",
        "# Query para pegar os colegios do datalake BD\n",
        "query = \"\"\"\n",
        "with dados_2023 as (\n",
        "  SELECT\n",
        "    *\n",
        "FROM `basedosdados.br_inep_censo_escolar.escola`\n",
        "where ano=2023 and sigla_uf=\"SP\" and id_municipio=\"3550308\"\n",
        "),\n",
        "localiza as (\n",
        "  SELECT\n",
        "    *\n",
        "FROM `basedosdados.br_bd_diretorios_brasil.escola`\n",
        "), tabela_log_lat as (\n",
        "  select ano, dados_2023.sigla_uf, dados_2023.id_municipio, dados_2023.id_escola, endereco,\n",
        "  quantidade_matricula_fundamental_integral,\n",
        "  quantidade_matricula_fundamental,\n",
        "  quantidade_matricula_parda,\n",
        "  quantidade_matricula_preta,\n",
        "  safe_cast(latitude as float64) as latitude,\n",
        "  safe_cast(longitude as float64) as longitude,\n",
        "  from dados_2023\n",
        "  left join localiza ON dados_2023.id_escola = localiza.id_escola\n",
        ")\n",
        "\n",
        "select *, ST_GEOGPOINT(longitude, latitude) as point from tabela_log_lat\n",
        "\"\"\""
      ],
      "metadata": {
        "id": "X4OTCrnIdLzP"
      },
      "execution_count": 42,
      "outputs": []
    },
    {
      "cell_type": "markdown",
      "source": [
        "## Puxar dados [INEP Censo Escolar 2023][inep_escola]\n",
        "\n",
        "\n",
        "[inep_escola]: https://basedosdados.org/dataset/dae21af4-4b6a-42f4-b94a-4c2061ea9de5?table=15e428cb-cce2-41f8-aec5-066d685b5bd5"
      ],
      "metadata": {
        "id": "t35tfinnjjxN"
      }
    },
    {
      "cell_type": "code",
      "source": [
        "import basedosdados as bd\n",
        "\n",
        "df_escolas = bd.read_sql(\n",
        "      query,\n",
        "      billing_project_id=billing_project_id,\n",
        "  )"
      ],
      "metadata": {
        "colab": {
          "base_uri": "https://localhost:8080/"
        },
        "id": "9ZGmE2Ywi2i1",
        "outputId": "8aa7739a-6fe7-4610-b0e0-a2f23957caf8"
      },
      "execution_count": 43,
      "outputs": [
        {
          "output_type": "stream",
          "name": "stdout",
          "text": [
            "Downloading: 100%|\u001b[32m██████████\u001b[0m|\n"
          ]
        }
      ]
    },
    {
      "cell_type": "markdown",
      "source": [
        "## Juntar [INEP Censo Escolar 2023][inep_escola] e geometry do [GeoSampa][geoSampa]\n",
        "\n",
        "[inep_escola]: https://basedosdados.org/dataset/dae21af4-4b6a-42f4-b94a-4c2061ea9de5?table=15e428cb-cce2-41f8-aec5-066d685b5bd5\n",
        "[geoSampa]: https://geosampa.prefeitura.sp.gov.br/PaginasPublicas/_SBC.aspx"
      ],
      "metadata": {
        "id": "G_MXyxiemD8A"
      }
    },
    {
      "cell_type": "code",
      "source": [
        "# Fazer GeoDataFrame dos distritos\n",
        "distrito_municipal = pd.read_csv(url_slui_dev) # Pegar CSV\n",
        "distrito_municipal['geometry'] = distrito_municipal['geometry'].apply(wkt.loads)\n",
        "geopd_distrito_municipal = gpd.GeoDataFrame(distrito_municipal, geometry='geometry', crs=\"EPSG:31983\")\n",
        "\n",
        "# Transformar de EPSG:31983 para EPSG:4326\n",
        "target_crs = pyproj.CRS.from_epsg(4326)\n",
        "geopd_distrito_municipal = geopd_distrito_municipal.to_crs(target_crs)\n",
        "\n",
        "\n",
        "# Transformar Tabela Escola para o um GeoDataFrame\n",
        "df_escolas.point = df_escolas.point.apply(wkt.loads)\n",
        "geo_df_escolas = gpd.GeoDataFrame(df_escolas, geometry='point', crs=\"EPSG:4326\")\n",
        "\n",
        "escolas_distritos = geopd_distrito_municipal.sjoin(geo_df_escolas, how='left', predicate='contains')\n"
      ],
      "metadata": {
        "id": "TSjKRxkfi3Fd"
      },
      "execution_count": 44,
      "outputs": []
    },
    {
      "cell_type": "markdown",
      "source": [
        "## Indicadores vindo de [INEP Censo Escolar 2023][inep_escola]\n",
        "\n",
        "- [x] % de matrículas no ensino em tempo integral Fundamental / total de matrículas do ensino fundamental -> [Codigo][indicadores_7]\n",
        "- [x] Taxa de matrículas de crianças por raça e cor (pessoas pardas matriculadas / total de pessoas pardas em idade escolar no distrito) -> [Codigo][indicadores_16]\n",
        "- [x] Taxa de matrículas de crianças por raça e cor (pessoas pretas matriculadas / total de pessoas pretas em idade escolar no distrito) -> [Codigo][indicadores_17]\n",
        "\n",
        "[inep_escola]: https://basedosdados.org/dataset/dae21af4-4b6a-42f4-b94a-4c2061ea9de5?table=15e428cb-cce2-41f8-aec5-066d685b5bd5\n",
        "\n",
        "<!-- % de matrículas no ensino em tempo integral Fundamental / total de matrículas do ensino fundamental -->\n",
        "[indicadores_7]: https://colab.research.google.com/drive/14jIloiip7s8xnTffYS55Q0lF8Etwz5W5#scrollTo=ylENxfdGdLzP\n",
        "\n",
        "<!-- Taxa de matrículas de crianças por raça e cor (pessoas pardas matriculadas / total de pessoas pardas em idade escolar no distrito) -->\n",
        "[indicadores_16]: https://colab.research.google.com/drive/14jIloiip7s8xnTffYS55Q0lF8Etwz5W5#scrollTo=VrjAg-3V8WhQ\n",
        "\n",
        "<!-- Taxa de matrículas de crianças por raça e cor (pessoas pretas matriculadas / total de pessoas pretas em idade escolar no distrito) -->\n",
        "[indicadores_17]: https://colab.research.google.com/drive/14jIloiip7s8xnTffYS55Q0lF8Etwz5W5#scrollTo=RApEUj3TDihv"
      ],
      "metadata": {
        "id": "HPnrdHObkp3t"
      }
    },
    {
      "cell_type": "markdown",
      "source": [
        "### % de matrículas no ensino em tempo integral Fundamental / total de matrículas do ensino fundamental\n",
        "\n",
        "Seguinte fórmula:\n",
        "\n",
        "$\\text{proporção de Matrículas no ensino em tempo integral Fundamental} = \\frac{\\text{quantidade_matricula_fundamental_integral}}{\\text{quantidade_matricula_fundamental}} \\times 100$\n",
        "\n",
        "Indicadores resultante desse codigo:\n",
        "- Quantindade de Matricula Fundamental Integral - INEP 2023\n",
        "- Quantidade de Matricula Fundamental - INEP 2023\n",
        "- Proporção De Matrículas no Ensino em Tempo Integral Fundamental - INEP 2023"
      ],
      "metadata": {
        "id": "ylENxfdGdLzP"
      }
    },
    {
      "cell_type": "code",
      "source": [
        "columns_censo_indicadores: list[str] = ['Quantindade de Matricula Fundamental Integral - INEP 2023',\n",
        "                             'Quantidade de Matricula Fundamental - INEP 2023',\n",
        "                             'Proporção De Matrículas no Ensino em Tempo Integral Fundamental - INEP 2023']\n",
        "\n",
        "inep_censo_indicadores = escolas_distritos.groupby('nm_distrito_municipal')[['quantidade_matricula_fundamental_integral', 'quantidade_matricula_fundamental']].sum()\n",
        "inep_censo_indicadores['proporção de Matrículas no ensino em tempo integral Fundamental'] = (inep_censo_indicadores['quantidade_matricula_fundamental_integral'] / inep_censo_indicadores['quantidade_matricula_fundamental']).round(3)\n",
        "inep_censo_indicadores['proporção de Matrículas no ensino em tempo integral Fundamental'] = inep_censo_indicadores['proporção de Matrículas no ensino em tempo integral Fundamental'] * 100\n",
        "inep_censo_indicadores.columns = columns_censo_indicadores"
      ],
      "metadata": {
        "id": "8z8I1qhAmVEk"
      },
      "execution_count": 45,
      "outputs": []
    },
    {
      "cell_type": "markdown",
      "source": [
        "### Taxa de matrículas de crianças por raça e cor (pessoas pardas matriculadas / total de pessoas pardas em idade escolar no distrito)\n",
        "\n",
        "Seguinte fórmula:\n",
        "\n",
        "$\\text{Taxa de matrículas de crianças pardas} = \\frac{\\text{Quantidade Matriculas Parda}}{\\text{0 a 29 anos, Cor ou raça é parda}} \\times 100$\n",
        "\n",
        "Indicadores resultante desse codigo:\n",
        "- Quantidade matriculas Parda - INEP 2023\n",
        "- 0 a 29 anos, Cor ou raça é parda - Censo 2022\n",
        "- Taxa de matrículas de crianças pardas - INEP 2023|Censo 2022\n",
        "\n",
        "\n",
        "> Censo 2022 só disponibiliza duas faixa que podem ser consideradas de idade escola 0 a 14 e 15 a 29. Usei apenas a 0 a 14, porém acabou tendo mais matriculas do que população parda. Adicionei a 15 a 29 para pode fazer o calculo"
      ],
      "metadata": {
        "id": "VrjAg-3V8WhQ"
      }
    },
    {
      "cell_type": "code",
      "source": [
        "# V01375: 0 a 14 anos, Cor ou raça é parda\n",
        "# V01380: 15 a 29 anos, Cor ou raça é parda\n",
        "\n",
        "# Colunas que vão ser transformadas em INT\n",
        "columns_str_to_int: list[str] = ['V01375', 'V01380']\n",
        "columns_indicadores: list[str] = [\n",
        "    'Quantidade matriculas Parda - INEP 2023',\n",
        "    '0 a 29 anos, Cor ou raça é parda - Censo 2022',\n",
        "    'Taxa de matrículas de crianças pardas - INEP 2023/Censo 2022']\n",
        "\n",
        "pardos_idade_escolar = first_temp_df[['NM_DIST', 'V01375', 'V01380']].copy()\n",
        "pardos_idade_escolar.index = pardos_idade_escolar.NM_DIST\n",
        "pardos_idade_escolar[columns_str_to_int] = pardos_idade_escolar[columns_str_to_int].astype(int)\n",
        "pardos_idade_escolar = pardos_idade_escolar[columns_str_to_int].sum(axis=1).to_frame('0 a 29 anos, Cor ou raça é parda')\n",
        "\n",
        "matriculas_pardas = escolas_distritos.groupby('nm_distrito_municipal').quantidade_matricula_parda.sum()\n",
        "\n",
        "for df in [matriculas_pardas, pardos_idade_escolar]:\n",
        "  df.index = [slugify(temp_index) for temp_index in df.index]\n",
        "\n",
        "pardos_idade_escolar = pd.concat([matriculas_pardas, pardos_idade_escolar], axis=1)\n",
        "\n",
        "pardos_idade_escolar['Taxa de matrículas de crianças pardas'] = (pardos_idade_escolar['quantidade_matricula_parda'] / pardos_idade_escolar['0 a 29 anos, Cor ou raça é parda']).round(3)\n",
        "pardos_idade_escolar['Taxa de matrículas de crianças pardas'] = pardos_idade_escolar['Taxa de matrículas de crianças pardas'] * 100\n",
        "pardos_idade_escolar.columns = columns_indicadores"
      ],
      "metadata": {
        "id": "SL1jYBjO8b5h"
      },
      "execution_count": 46,
      "outputs": []
    },
    {
      "cell_type": "markdown",
      "source": [
        "### Taxa de matrículas de crianças por raça e cor (pessoas pretas matriculadas / total de pessoas pretas em idade escolar no distrito)\n",
        "\n",
        "Seguinte fórmula:\n",
        "\n",
        "$\\text{Taxa de matrículas de crianças pardas} = \\frac{\\text{Quantidade Matriculas Parda}}{\\text{0 a 29 anos, Cor ou raça é parda}} \\times 100$\n",
        "\n",
        "Indicadores resultante desse codigo:\n",
        "- Quantidade matriculas preta - INEP 2023\n",
        "- 0 a 29 anos, Cor ou raça é preta - Censo 2022\n",
        "- Taxa de matrículas de crianças pretas - INEP 2023/Censo 2022\n",
        "\n",
        "\n",
        "> Censo 2022 só disponibiliza duas faixa que podem ser consideradas de idade escola 0 a 14 e 15 a 29. Usei apenas a 0 a 14, porém acabou tendo mais matriculas do que população parda. Adicionei a 15 a 29 para pode fazer o calculo"
      ],
      "metadata": {
        "id": "RApEUj3TDihv"
      }
    },
    {
      "cell_type": "code",
      "source": [
        "# V01373: 0 a 14 anos, Cor ou raça é preta\n",
        "# V01378: 15 a 29 anos, Cor ou raça é preta\n",
        "\n",
        "# Colunas que vão ser transformadas em INT\n",
        "columns_str_to_int: list[str] = ['V01375', 'V01380']\n",
        "columns_indicadores: list[str] = [\n",
        "    'Quantidade matriculas preta - INEP 2023',\n",
        "    '0 a 29 anos, Cor ou raça é preta - Censo 2022',\n",
        "    'Taxa de matrículas de crianças pretas - INEP 2023/Censo 2022']\n",
        "\n",
        "pretos_idade_escolar = first_temp_df[['NM_DIST', 'V01375', 'V01380']].copy()\n",
        "pretos_idade_escolar.index = pretos_idade_escolar.NM_DIST\n",
        "pretos_idade_escolar[columns_str_to_int] = pretos_idade_escolar[columns_str_to_int].astype(int)\n",
        "pretos_idade_escolar = pretos_idade_escolar[columns_str_to_int].sum(axis=1).to_frame('0 a 29 anos, Cor ou raça é preta')\n",
        "\n",
        "matriculas_pretas = escolas_distritos.groupby('nm_distrito_municipal').quantidade_matricula_preta.sum()\n",
        "\n",
        "for df in [matriculas_pretas, pretos_idade_escolar]:\n",
        "  df.index = [slugify(temp_index) for temp_index in df.index]\n",
        "\n",
        "pretos_idade_escolar = pd.concat([matriculas_pretas, pretos_idade_escolar], axis=1)\n",
        "\n",
        "pretos_idade_escolar['Taxa de matrículas de crianças pretas'] = (pretos_idade_escolar['quantidade_matricula_preta'] / pretos_idade_escolar['0 a 29 anos, Cor ou raça é preta']).round(3)\n",
        "pretos_idade_escolar['Taxa de matrículas de crianças pretas'] = pretos_idade_escolar['Taxa de matrículas de crianças pretas'] * 100\n",
        "pretos_idade_escolar.columns = columns_indicadores"
      ],
      "metadata": {
        "id": "ypaaBixlDihv"
      },
      "execution_count": 47,
      "outputs": []
    },
    {
      "cell_type": "markdown",
      "source": [
        "# [Mapa Desigualdade São Paulo 2024][mapadesigualdadesaopaulo2024]\n",
        "\n",
        "- [x] Coeficiente de mulheres vítimas de violência\n",
        "- [x] Coeficiente de pessoas vítimas de violência de racismo\n",
        "\n",
        "\n",
        "[mapadesigualdadesaopaulo2024]: https://institutocidadessustentaveis.shinyapps.io/mapadesigualdadesaopaulo2024/\n"
      ],
      "metadata": {
        "id": "qhP1sxmopRDq"
      }
    },
    {
      "cell_type": "markdown",
      "source": [
        "## Indicadores vindo de [Mapa Desigualdade São Paulo 2024][mapadesigualdadesaopaulo2024]\n",
        "\n",
        "\n",
        "[mapadesigualdadesaopaulo2024]: https://institutocidadessustentaveis.shinyapps.io/mapadesigualdadesaopaulo2024/"
      ],
      "metadata": {
        "id": "q37oms4k4FpK"
      }
    },
    {
      "cell_type": "markdown",
      "source": [
        "### Coeficiente de mulheres vítimas de violência"
      ],
      "metadata": {
        "id": "5yqjmuxX4Ybi"
      }
    },
    {
      "cell_type": "code",
      "source": [
        "import csv\n",
        "\n",
        "data = \"\"\"\n",
        "Vila Andrade;132,94\n",
        "Marsilac;157,01\n",
        "Pedreira;172,2\n",
        "Vila Sônia;173,39\n",
        "Saúde;180,26\n",
        "Perdizes;181,44\n",
        "Jaguaré;182,53\n",
        "São Lucas;185,31\n",
        "Anhanguera;187,01\n",
        "Sacomã;198,14\n",
        "Raposo Tavares;201,97\n",
        "São Rafael;202,77\n",
        "Rio Pequeno;204,46\n",
        "Alto de Pinheiros;206,57\n",
        "São Domingos;212,29\n",
        "Jardim Ângela;213,12\n",
        "Campo Limpo;213,51\n",
        "Sapopemba;213,91\n",
        "Jaraguá;214,51\n",
        "Vila Leopoldina;216,22\n",
        "Morumbi;217,23\n",
        "Cidade Ademar;219,71\n",
        "Grajaú;221,46\n",
        "Iguatemi;224,15\n",
        "Carrão;224,32\n",
        "Jabaquara;225,89\n",
        "Cursino;226,97\n",
        "Jardim São Luís;227,19\n",
        "Jardim Helena;228,07\n",
        "Ipiranga;230,28\n",
        "Capão Redondo;232,57\n",
        "Vila Jacuí;232,65\n",
        "Mandaqui;233,29\n",
        "Campo Grande;234,68\n",
        "Cidade Dutra;234,98\n",
        "Vila Mariana;236,72\n",
        "Moema;236,83\n",
        "Jaçanã;238,77\n",
        "Tremembé;238,88\n",
        "Parelheiros;239,55\n",
        "José Bonifácio;242,21\n",
        "Aricanduva;243,39\n",
        "Ermelino Matarazzo;246,49\n",
        "Cidade Tiradentes;247,48\n",
        "Vila Prudente;249,23\n",
        "Vila Maria;250,92\n",
        "Santa Cecília;254,65\n",
        "Cangaíba;254,9\n",
        "Vila Matilde;255,65\n",
        "Perus;255,71\n",
        "Pirituba;256,33\n",
        "Lajeado;258,36\n",
        "Vila Formosa;258,38\n",
        "Campo Belo;258,44\n",
        "Jardim Paulista;260,67\n",
        "Itaim Paulista;262,83\n",
        "Cidade Líder;266,03\n",
        "Ponte Rasa;266,55\n",
        "São Mateus;268,2\n",
        "Cachoeirinha;269,13\n",
        "Água Rasa;269,72\n",
        "Penha;271,44\n",
        "Vila Curuçá;272,1\n",
        "Cambuci;274,59\n",
        "Parque do Carmo;275,26\n",
        "Brasilândia;279,2\n",
        "Vila Medeiros;282,66\n",
        "Itaim Bibi;282,91\n",
        "Tucuruvi;283,49\n",
        "Freguesia do Ó;285,26\n",
        "Artur Alvim;286,36\n",
        "Limão;286,39\n",
        "Belém;306,96\n",
        "Lapa;310,28\n",
        "Santana;311,78\n",
        "Socorro;316,58\n",
        "Itaquera;317,76\n",
        "Casa Verde;320,84\n",
        "Guaianases;326,1\n",
        "São Miguel;330,12\n",
        "Jaguara;332,51\n",
        "Moóca;334,59\n",
        "Vila Guilherme;335,57\n",
        "Liberdade;345\n",
        "Butantã;345,12\n",
        "Tatuapé;352,93\n",
        "Consolação;362,12\n",
        "Santo Amaro;381,98\n",
        "Pinheiros;392,42\n",
        "Bom Retiro;443,72\n",
        "Barra Funda;455,18\n",
        "Bela Vista;476,06\n",
        "República;615,84\n",
        "Brás;631,44\n",
        "Pari;652,09\n",
        "Sé;881,92\n",
        "\"\"\"\n",
        "\n",
        "reader = csv.reader(data.strip().split(\"\\n\"), delimiter=\";\")\n",
        "\n",
        "result = [{\"Distrito\": row[0], \"Valor\": row[1]} for row in reader]\n",
        "\n",
        "mulheres_vitimas_violencia = pd.DataFrame(result)\n",
        "mulheres_vitimas_violencia.index = mulheres_vitimas_violencia.Distrito.values\n",
        "mulheres_vitimas_violencia = mulheres_vitimas_violencia.iloc[:, 1:]\n",
        "mulheres_vitimas_violencia.columns = ['Coeficiente de mulheres vítimas de violência']"
      ],
      "metadata": {
        "id": "Y4_LGm_14EsR"
      },
      "execution_count": 49,
      "outputs": []
    },
    {
      "cell_type": "markdown",
      "source": [
        "### Coeficiente de pessoas vítimas de violência de racismo"
      ],
      "metadata": {
        "id": "WBVa8JOs9MNK"
      }
    },
    {
      "cell_type": "code",
      "source": [
        "import csv\n",
        "\n",
        "data = \"\"\"\n",
        "Campo Limpo;0,36\n",
        "Butantã;0,46\n",
        "Ipiranga;0,49\n",
        "Cidade Ademar;0,53\n",
        "Itaim Paulista;0,54\n",
        "São Miguel;0,54\n",
        "São Rafael;0,56\n",
        "Anhanguera;0,58\n",
        "Sé;0,59\n",
        "Moóca;0,61\n",
        "Lapa;0,62\n",
        "Penha;0,63\n",
        "Perus;0,68\n",
        "Guaianases;0,7\n",
        "Parelheiros;0,73\n",
        "Grajaú;0,74\n",
        "Capão Redondo;0,77\n",
        "Vila Maria;0,79\n",
        "Jardim Ângela;0,79\n",
        "Vila Prudente;0,81\n",
        "Jaçanã;0,83\n",
        "Jaguara;0,84\n",
        "Vila Andrade;0,84\n",
        "Itaquera;0,88\n",
        "Cidade Tiradentes;0,88\n",
        "São Mateus;0,9\n",
        "Ermelino Matarazzo;0,91\n",
        "Brasilândia;0,92\n",
        "Cangaíba;0,94\n",
        "Sapopemba;0,96\n",
        "Jardim São Luís;0,98\n",
        "José Bonifácio;1,02\n",
        "Jardim Helena;1,03\n",
        "Carrão;1,06\n",
        "Cachoeirinha;1,09\n",
        "Sacomã;1,1\n",
        "Vila Mariana;1,1\n",
        "Pedreira;1,11\n",
        "Jaraguá;1,12\n",
        "Iguatemi;1,12\n",
        "Rio Pequeno;1,13\n",
        "Cursino;1,14\n",
        "Aricanduva;1,17\n",
        "Artur Alvim;1,2\n",
        "Vila Sônia;1,22\n",
        "Cidade Dutra;1,23\n",
        "Saúde;1,27\n",
        "Vila Medeiros;1,3\n",
        "Tremembé;1,33\n",
        "Ponte Rasa;1,34\n",
        "Lajeado;1,37\n",
        "Vila Jacuí;1,37\n",
        "São Domingos;1,39\n",
        "Pinheiros;1,43\n",
        "Vila Curuçá;1,43\n",
        "Pirituba;1,46\n",
        "São Lucas;1,47\n",
        "Raposo Tavares;1,57\n",
        "Jabaquara;1,61\n",
        "Jaguaré;1,62\n",
        "Santo Amaro;1,63\n",
        "Mandaqui;1,65\n",
        "Parque do Carmo;1,67\n",
        "Socorro;1,67\n",
        "Limão;1,76\n",
        "Freguesia do Ó;1,86\n",
        "Cidade Líder;1,91\n",
        "Vila Formosa;1,92\n",
        "Campo Grande;1,96\n",
        "Alto de Pinheiros;1,97\n",
        "Perdizes;2,18\n",
        "Cambuci;2,2\n",
        "Bom Retiro;2,3\n",
        "Moema;2,46\n",
        "Campo Belo;2,52\n",
        "Vila Matilde;2,65\n",
        "Água Rasa;2,67\n",
        "Casa Verde;2,91\n",
        "Vila Guilherme;2,97\n",
        "Tucuruvi;3,02\n",
        "Morumbi;3,19\n",
        "Tatuapé;3,22\n",
        "Belém;3,24\n",
        "Liberdade;3,29\n",
        "Jardim Paulista;3,31\n",
        "Marsilac;3,54\n",
        "Vila Leopoldina;3,97\n",
        "Santana;3,99\n",
        "Itaim Bibi;4,01\n",
        "Santa Cecília;4,74\n",
        "Consolação;5,06\n",
        "Bela Vista;5,18\n",
        "Brás;6,61\n",
        "Pari;10,42\n",
        "República;10,49\n",
        "Barra Funda;18,36\n",
        "\"\"\"\n",
        "\n",
        "# Usando csv.reader para ler os dados\n",
        "reader = csv.reader(data.strip().split(\"\\n\"), delimiter=\";\")\n",
        "\n",
        "# Convertendo os dados para lista de dicionários\n",
        "result = [{\"Distrito\": row[0], \"Valor\": row[1]} for row in reader]\n",
        "\n",
        "violencia_racismo = pd.DataFrame(result)\n",
        "violencia_racismo.index = violencia_racismo.Distrito.values\n",
        "violencia_racismo = violencia_racismo.iloc[:, 1:]\n",
        "violencia_racismo.columns = ['Coeficiente de pessoas vítimas de violência de racismo']"
      ],
      "metadata": {
        "id": "0lljWaLR9LJ7"
      },
      "execution_count": 50,
      "outputs": []
    },
    {
      "cell_type": "markdown",
      "source": [
        "## Juntando indicadores [Mapa Desigualdade São Paulo 2024][mapadesigualdadesaopaulo2024]\n",
        "\n",
        "[mapadesigualdadesaopaulo2024]: https://institutocidadessustentaveis.shinyapps.io/mapadesigualdadesaopaulo2024/\n",
        "\n",
        "\n"
      ],
      "metadata": {
        "id": "JuAzPmELAJMt"
      }
    },
    {
      "cell_type": "code",
      "source": [
        "colunas = [\n",
        "    'Coeficiente de mulheres vítimas de violência - Mapa Desigualdade São Paulo 2024',\n",
        "    'Coeficiente de pessoas vítimas de violência de racismo - Mapa Desigualdade São Paulo 2024'\n",
        "    ]\n",
        "\n",
        "indicadores_mapa_desigualdade = [mulheres_vitimas_violencia,\n",
        "                      violencia_racismo,]\n",
        "\n",
        "indicadores_mapa_desigualdade = pd.concat(indicadores_mapa_desigualdade, axis=1)\n",
        "\n",
        "indicadores_mapa_desigualdade.columns = colunas\n",
        "indicadores_mapa_desigualdade.index.names = ['Distritos']\n"
      ],
      "metadata": {
        "id": "CKHWmus0AJMu"
      },
      "execution_count": 51,
      "outputs": []
    },
    {
      "cell_type": "markdown",
      "source": [
        "# Indicadores Espaciais\n",
        "\n",
        "Indicadores:\n",
        "- [x] % da população distrital a até 1 km de uma UBS -> [Codigo][indicadores_12]\n",
        "- [x] % da população distrital a até 5 km de um Hospital -> [Codigo][indicadores_13]\n",
        "\n",
        "<!-- % da população distrital a até 1 km de uma UBS -->\n",
        "[indicadores_12]: https://colab.research.google.com/drive/14jIloiip7s8xnTffYS55Q0lF8Etwz5W5#scrollTo=cBf37L5ein3R\n",
        "\n",
        "<!-- % da população distrital a até 5 km de um Hospital -->\n",
        "[indicadores_13]: https://colab.research.google.com/drive/14jIloiip7s8xnTffYS55Q0lF8Etwz5W5#scrollTo=zuqhT1AXfgcL"
      ],
      "metadata": {
        "id": "DU4iOv0BVmpO"
      }
    },
    {
      "cell_type": "markdown",
      "source": [
        "## Funçoes"
      ],
      "metadata": {
        "id": "9GsVor_XcTK4"
      }
    },
    {
      "cell_type": "code",
      "source": [
        "def overlap_percentage(outer_polygon, inner_polygon) -> float:\n",
        "    \"\"\"Calcula a porcentagem de um polígono que se sobrepõe a outro polígono.\"\"\"\n",
        "\n",
        "    outer_polygon = Polygon(outer_polygon)\n",
        "    inner_polygon = Polygon(inner_polygon)\n",
        "\n",
        "    ratio = outer_polygon.intersection(inner_polygon).area / inner_polygon.area\n",
        "\n",
        "    return round(ratio * 100, 2)"
      ],
      "metadata": {
        "id": "aXH5w2NZcU9l"
      },
      "execution_count": 52,
      "outputs": []
    },
    {
      "cell_type": "markdown",
      "source": [
        "## Download"
      ],
      "metadata": {
        "id": "Fq3H4VTleFaE"
      }
    },
    {
      "cell_type": "code",
      "source": [
        "url_agregados_por_distrito_csv = 'http://ftp.ibge.gov.br/Censos/Censo_Demografico_2022/Agregados_por_Setores_Censitarios/Agregados_por_Setor_csv/'\n",
        "url_sp_distrito_geo_setores = 'http://ftp.ibge.gov.br/Censos/Censo_Demografico_2022/Agregados_por_Setores_Censitarios/malha_com_atributos/setores/shp/UF/SP/SP_setores_CD2022.zip'\n",
        "url_sp_distrito_geo = 'http://ftp.ibge.gov.br/Censos/Censo_Demografico_2022/Agregados_por_Setores_Censitarios/malha_com_atributos/distritos/shp/UF/SP/SP_distritos_CD2022.zip'\n",
        "url_dicionario_de_dados = 'http://ftp.ibge.gov.br/Censos/Censo_Demografico_2022/Agregados_por_Setores_Censitarios/dicionario_de_dados_agregados_por_setores_censitarios.xlsx'\n",
        "url_cnes = 'https://s3.sa-east-1.amazonaws.com/ckan.saude.gov.br/CNES/cnes_estabelecimentos.zip'\n",
        "geosampa_saude = 'https://download.geosampa.prefeitura.sp.gov.br/PaginasPublicas/downloadArquivo.aspx?orig=DownloadCamadas&arq=03_Equipamentos%5C%5CSa%FAde_INTER%5C%5CShapefile%5C%5CSIRGAS_SHP_abrangenciaunidadebasicasaude&arqTipo=Shapefile'\n",
        "\n",
        "response = requests.get(url_agregados_por_distrito_csv)\n",
        "\n",
        "soup = BeautifulSoup(response.text)\n",
        "\n",
        "links_agregados_por_distrito_csv = [url_agregados_por_distrito_csv + a.get('href') for a in soup.select('td a') if a.get('href').count('zip')] # Coleta o link dos Arquivos\n",
        "\n",
        "links_agregados_por_distrito_csv.extend([geosampa_saude, url_cnes, url_sp_distrito_geo_setores, url_sp_distrito_geo, url_dicionario_de_dados]) # Adicionando tabela Distrito Geografico e Dicionario a lista de download\n",
        "\n",
        "with concurrent.futures.ThreadPoolExecutor() as executor:\n",
        "  executor.map(download_files_from_ftp, links_agregados_por_distrito_csv)\n",
        "\n"
      ],
      "metadata": {
        "id": "9aPgOblGQsbt"
      },
      "execution_count": 53,
      "outputs": []
    },
    {
      "cell_type": "markdown",
      "source": [
        "## Censo 2022 Setores"
      ],
      "metadata": {
        "id": "qSUfKL51eHbF"
      }
    },
    {
      "cell_type": "code",
      "source": [
        "# Define tabela com as GeoGrafias\n",
        "geo_df_sp = gpd.read_file('/content/data/input/SP_setores_CD2022.shp', columns=['CD_SETOR', 'CD_DIST', 'NM_DIST', 'geometry'])\n",
        "geo_df_sp = geo_df_sp[geo_df_sp.CD_DIST.str.contains(\"3550308\")]\n",
        "\n",
        "\n",
        "ids_seto_sp = geo_df_sp.CD_SETOR.values.tolist()\n",
        "# Carrega o Dicionario e Prepara ele para o Rename\n",
        "path_dicionario = '/content/data/input/dicionario_de_dados_agregados_por_setores_censitarios.xlsx'\n",
        "sheet_names = ['Dicionário Básico', 'Dicionário não PCT', 'Dicionário PCT - Indígenas', 'Dicionário PCT - Quilombolas']\n",
        "\n",
        "df_dicionario = pd.concat([excel_sheet_to_df(path_dicionario, sheet_name) for sheet_name in sheet_names])\n",
        "\n",
        "dicionario_to_rename = dict(zip(df_dicionario.Variável, df_dicionario.Descrição))\n",
        "\n",
        "# Carrega e trata tabela final\n",
        "\n",
        "regex_glob = '/content/data/input/*.csv'\n",
        "\n",
        "csv_files = glob(regex_glob)\n",
        "\n",
        "temp_df = get_sp_setor_from_csv('/content/data/input/Agregados_por_setores_basico_BR.csv', ids_seto_sp)\n",
        "\n",
        "\n",
        "temp_df.drop('NM_DIST', axis=1, inplace=True)\n",
        "\n",
        "first_temp_df_setores = pd.merge(\n",
        "    geo_df_sp,\n",
        "    temp_df,\n",
        "    how=\"left\",\n",
        "    on=\"CD_SETOR\"\n",
        ")\n",
        "\n",
        "first_temp_df_setores.columns = first_temp_df_setores.columns.str.upper() # Coloca todas as colunas como Upper para manipulação de nomes\n",
        "\n",
        "# Tratar ordem e nome das colunas\n",
        "columns_to_sorted = first_temp_df_setores.columns[first_temp_df_setores.columns.str.startswith('V')].sort_values().tolist()\n",
        "first_columns = first_temp_df_setores.columns[~first_temp_df_setores.columns.str.startswith('V')].tolist()\n",
        "column_order = first_columns + columns_to_sorted\n",
        "\n",
        "first_temp_df_setores = first_temp_df_setores[column_order]\n",
        "\n",
        "first_temp_df_setores.V0001 = first_temp_df_setores.V0001.astype(int)\n",
        "\n",
        "setores_maps = gpd.GeoDataFrame(first_temp_df_setores, geometry='GEOMETRY', crs=4326)"
      ],
      "metadata": {
        "id": "uhHxN3faRQC0"
      },
      "execution_count": 54,
      "outputs": []
    },
    {
      "cell_type": "markdown",
      "source": [
        "## GEOMETRY Distrito"
      ],
      "metadata": {
        "id": "ZcCUleF2Ui1q"
      }
    },
    {
      "cell_type": "code",
      "source": [
        "distritos_sp = gpd.read_file('/content/data/input/SP_distritos_CD2022.shp', columns=['CD_DIST', 'NM_DIST', 'geometry'])\n",
        "distritos_sp = distritos_sp[distritos_sp.CD_DIST.str.contains(\"3550308\")]\n",
        "distritos_sp = distritos_sp.to_crs(4326)"
      ],
      "metadata": {
        "id": "iStet5aOUkuU"
      },
      "execution_count": 55,
      "outputs": []
    },
    {
      "cell_type": "markdown",
      "source": [
        "## Ler [CNES][cnes] estabelecimentos - Indicador UBS\n",
        "\n",
        "> Tipos de unicadade foi retirado da API: https://apidadosabertos.saude.gov.br/cnes/tipounidades\n",
        "\n",
        "[cnes]: https://dados.gov.br/dados/conjuntos-dados/cnes-cadastro-nacional-de-estabelecimentos-de-saude"
      ],
      "metadata": {
        "id": "DJ2c9nOmfpqA"
      }
    },
    {
      "cell_type": "code",
      "source": [
        "cnes_estabelecimentos = pd.read_csv('/content/data/input/cnes_estabelecimentos.csv', dtype=str, sep=';',\n",
        "                                    encoding='latin-1', usecols=['CO_CNES', 'CO_UNIDADE', 'CO_IBGE', 'TP_UNIDADE', 'NU_LATITUDE', 'NU_LONGITUDE'])\n",
        "\n",
        "filter = (cnes_estabelecimentos.CO_IBGE == '355030') & (cnes_estabelecimentos.TP_UNIDADE == '2')\n",
        "cnes_estabelecimentos_sp = cnes_estabelecimentos[filter]\n",
        "\n",
        "# Transformar longitue e latitude em Point objeto\n",
        "cnes_estabelecimentos_sp['point'] = cnes_estabelecimentos_sp.apply(lambda row: Point(row.NU_LONGITUDE, row.NU_LATITUDE), axis=1)\n",
        "\n",
        "cnes_estabelecimentos_sp_geo_df = gpd.GeoDataFrame(cnes_estabelecimentos_sp, geometry='point', crs=4326)\n",
        "\n",
        "cnes_sp_distrito_geo_df = distritos_sp.sjoin(cnes_estabelecimentos_sp_geo_df, how='left', predicate='contains')\n",
        "cnes_sp_distrito_geo_df['point'] = cnes_sp_distrito_geo_df.apply(lambda row: Point(row.NU_LONGITUDE, row.NU_LATITUDE), axis=1)\n"
      ],
      "metadata": {
        "id": "UVqkMPYFfpqB"
      },
      "execution_count": 56,
      "outputs": []
    },
    {
      "cell_type": "markdown",
      "source": [
        "### Aplicar buffer"
      ],
      "metadata": {
        "id": "orsxNeC2tyft"
      }
    },
    {
      "cell_type": "code",
      "source": [
        "cnes_to_buffer = cnes_sp_distrito_geo_df.drop('geometry', axis=1)\n",
        "cnes_without_buffer = gpd.GeoDataFrame(cnes_to_buffer, geometry=\"point\", crs=4326).to_crs(3003)\n",
        "cnes_with_buffer = cnes_without_buffer.copy()\n",
        "cnes_with_buffer.point = cnes_without_buffer.point.buffer(1000)\n",
        "cnes_with_buffer = cnes_with_buffer.to_crs(4326)"
      ],
      "metadata": {
        "id": "wrp5E0HD9ctM"
      },
      "execution_count": 57,
      "outputs": []
    },
    {
      "cell_type": "markdown",
      "source": [
        "### dissolve dos buffer das UBS"
      ],
      "metadata": {
        "id": "R7nxJhOniigg"
      }
    },
    {
      "cell_type": "code",
      "source": [
        "df_to_union = cnes_with_buffer.reset_index()[['point']]\n",
        "uniao_df = df_to_union.sjoin(df_to_union, how='left', predicate='intersects')\n",
        "over_lay_view = uniao_df.dissolve().explode().reset_index(drop=True)"
      ],
      "metadata": {
        "id": "VS1wzXM86hil"
      },
      "execution_count": 58,
      "outputs": []
    },
    {
      "cell_type": "markdown",
      "source": [
        "### Visualizar buffer"
      ],
      "metadata": {
        "id": "P19UiltNZfMv"
      }
    },
    {
      "cell_type": "code",
      "source": [
        "gdf2 = setores_maps.copy()\n",
        "gdf5 = cnes_to_buffer.copy()\n",
        "gdf6 = cnes_with_buffer.copy()\n",
        "over_lay_view_plot = over_lay_view.copy()\n",
        "fig, ax = plt.subplots(figsize=(10, 10))\n",
        "\n",
        "gdf2.GEOMETRY.plot(ax=ax, color='blue', alpha=1, label='Primeira Camada')\n",
        "gdf5.point.plot(ax=ax, color='yellow', alpha=1, label='Segunda Camada')\n",
        "# gdf6.point.plot(ax=ax, color='pink', alpha=0.5, label='Terceira Camada')\n",
        "over_lay_view_plot.plot(ax=ax, color='pink', alpha=0.5, label='Terceira Camada')\n",
        "plt.legend()\n",
        "plt.show()"
      ],
      "metadata": {
        "colab": {
          "base_uri": "https://localhost:8080/",
          "height": 54
        },
        "id": "hLdHKcDXbDxc",
        "outputId": "2d4231ae-f5ab-41f6-99a5-9ca3a657e310"
      },
      "execution_count": 59,
      "outputs": [
        {
          "output_type": "display_data",
          "data": {
            "text/plain": [
              "<Figure size 1000x1000 with 1 Axes>"
            ],
            "image/png": "[encoded data removed]"
          },
          "metadata": {}
        }
      ]
    },
    {
      "cell_type": "markdown",
      "source": [
        "### Criar Indicadores com porcentagem das areas"
      ],
      "metadata": {
        "id": "tzsHKzxNXFKq"
      }
    },
    {
      "cell_type": "code",
      "source": [
        "# Verificação Setores Interceptado\n",
        "\n",
        "populacao_distrital: list = []\n",
        "porcentagem_coberturas: list = []\n",
        "for row in over_lay_view.itertuples():\n",
        "  for row_setores in setores_maps.itertuples():\n",
        "    if row.point.intersects(row_setores.GEOMETRY):\n",
        "      populacao_distrital.append(row_setores)\n",
        "      porcentagem_coberturas.append(overlap_percentage(row.point, row_setores.GEOMETRY))"
      ],
      "metadata": {
        "id": "4nV_P8G32JYC"
      },
      "execution_count": 60,
      "outputs": []
    },
    {
      "cell_type": "markdown",
      "source": [
        "### % da população distrital a até 1 km de uma UBS\n",
        "Seguinte fórmula:\n",
        "\n",
        "$\\text{\n",
        "% da população distrital a até 1 km de uma UBS} = \\frac{\\text{Pessoas dentro de 1km da UBS}}{\\text{Total População}} \\times 100$\n",
        "\n",
        "Indicadores resultante desse codigo:\n",
        "- % da população distrital a até 1 km de um UBS\n"
      ],
      "metadata": {
        "id": "cBf37L5ein3R"
      }
    },
    {
      "cell_type": "code",
      "source": [
        "df_populacao_distrital_porcent = pd.DataFrame(populacao_distrital)\n",
        "df_populacao_distrital_porcent['area_coberta_ubs'] = porcentagem_coberturas\n",
        "df_populacao_distrital_porcent.V0001 = df_populacao_distrital_porcent.V0001.astype(int)\n",
        "\n",
        "indicador_populacao_distrital_final_porcent = df_populacao_distrital_porcent.groupby(['NM_DIST', 'CD_SETOR', 'V0001'], as_index=False).area_coberta_ubs.sum()\n",
        "indicador_populacao_distrital_final_porcent['Pessoas dentro de 1km da UBS'] = (indicador_populacao_distrital_final_porcent['area_coberta_ubs'] / 100) * indicador_populacao_distrital_final_porcent.V0001\n",
        "indicador_populacao_distrital_final_porcent['Pessoas dentro de 1km da UBS'] = indicador_populacao_distrital_final_porcent['Pessoas dentro de 1km da UBS'].round(3)\n",
        "\n",
        "indicador_populacao_distrital_final_porcent = indicador_populacao_distrital_final_porcent.groupby('NM_DIST')['Pessoas dentro de 1km da UBS'].sum().to_frame('Pessoas dentro de 1km da UBS')\n",
        "\n",
        "total_populacao_porcent = setores_maps.groupby('NM_DIST').V0001.sum().to_frame('Total População')\n",
        "\n",
        "indicador_populacao_distrital_final_porcent = pd.concat([indicador_populacao_distrital_final_porcent, total_populacao_porcent], axis=1)\n",
        "indicador_populacao_distrital_final_porcent['% da população distrital a até 1 km de uma UBS'] = ((indicador_populacao_distrital_final_porcent['Pessoas dentro de 1km da UBS'] / indicador_populacao_distrital_final_porcent['Total População']) * 100).round(3)\n"
      ],
      "metadata": {
        "id": "06iDsq82XH5Z"
      },
      "execution_count": 61,
      "outputs": []
    },
    {
      "cell_type": "markdown",
      "source": [
        "## Ler [CNES][cnes] estabelecimentos - Indicador Hospitais\n",
        "\n",
        "> Tipos de unicadade foi retirado da API: https://apidadosabertos.saude.gov.br/cnes/tipounidades\n",
        "\n",
        "[cnes]: https://dados.gov.br/dados/conjuntos-dados/cnes-cadastro-nacional-de-estabelecimentos-de-saude\n",
        "\n"
      ],
      "metadata": {
        "id": "LXtqd5wIjuSQ"
      }
    },
    {
      "cell_type": "code",
      "source": [
        "hospitais_cnes_estabelecimentos = pd.read_csv('/content/data/input/cnes_estabelecimentos.csv', dtype=str, sep=';',\n",
        "                                    encoding='latin-1', usecols=['CO_CNES', 'CO_UNIDADE', 'CO_IBGE', 'TP_UNIDADE', 'NU_LATITUDE', 'NU_LONGITUDE'])\n",
        "\n",
        "hospitais_filter = (hospitais_cnes_estabelecimentos.CO_IBGE == '355030') & (hospitais_cnes_estabelecimentos.TP_UNIDADE.isin(['62', '5', '7']))\n",
        "hospitais_cnes_estabelecimentos_sp = hospitais_cnes_estabelecimentos[hospitais_filter]\n",
        "\n",
        "# Transformar longitue e latitude em Point objeto\n",
        "hospitais_cnes_estabelecimentos_sp['point'] = hospitais_cnes_estabelecimentos_sp.apply(lambda row: Point(row.NU_LONGITUDE, row.NU_LATITUDE), axis=1)\n",
        "\n",
        "hospitais_cnes_estabelecimentos_sp_geo_df = gpd.GeoDataFrame(hospitais_cnes_estabelecimentos_sp, geometry='point', crs=4326)\n",
        "\n",
        "hospitais_cnes_sp_distrito_geo_df = distritos_sp.sjoin(hospitais_cnes_estabelecimentos_sp_geo_df, how='left', predicate='contains')\n",
        "hospitais_cnes_sp_distrito_geo_df['point'] = hospitais_cnes_sp_distrito_geo_df.apply(lambda row: Point(row.NU_LONGITUDE, row.NU_LATITUDE), axis=1)\n"
      ],
      "metadata": {
        "id": "qVuHvBQPjuSR"
      },
      "execution_count": 62,
      "outputs": []
    },
    {
      "cell_type": "markdown",
      "source": [
        "### Aplicar buffer"
      ],
      "metadata": {
        "id": "thd4791NjuSR"
      }
    },
    {
      "cell_type": "code",
      "source": [
        "hospitais_cnes_to_buffer = hospitais_cnes_sp_distrito_geo_df.drop('geometry', axis=1)\n",
        "hospitais_cnes_without_buffer = gpd.GeoDataFrame(hospitais_cnes_to_buffer, geometry=\"point\", crs=4326).to_crs(3003)\n",
        "hospitais_cnes_with_buffer = hospitais_cnes_without_buffer.copy()\n",
        "hospitais_cnes_with_buffer.point = hospitais_cnes_with_buffer.point.buffer(5000) # 5 Quilometros\n",
        "hospitais_cnes_with_buffer = hospitais_cnes_with_buffer.to_crs(4326)"
      ],
      "metadata": {
        "id": "F4Hkg_jAjuSS"
      },
      "execution_count": 63,
      "outputs": []
    },
    {
      "cell_type": "markdown",
      "source": [
        "### dissolve dos buffer das Hospitais"
      ],
      "metadata": {
        "id": "Y1jwmqVkjuST"
      }
    },
    {
      "cell_type": "code",
      "source": [
        "hospitais_df_to_union = hospitais_cnes_with_buffer.reset_index()[['point']]\n",
        "hospitais_uniao_df = hospitais_df_to_union.sjoin(hospitais_df_to_union, how='left', predicate='intersects')\n",
        "hospitais_over_lay_view = hospitais_uniao_df.dissolve().explode().reset_index(drop=True)"
      ],
      "metadata": {
        "id": "jJKtNBHpjuST"
      },
      "execution_count": 64,
      "outputs": []
    },
    {
      "cell_type": "markdown",
      "source": [
        "### Visualizar buffer"
      ],
      "metadata": {
        "id": "5n0kO7fWjuSS"
      }
    },
    {
      "cell_type": "code",
      "source": [
        "gdf2 = setores_maps.copy()\n",
        "gdf5 = hospitais_cnes_to_buffer.copy()\n",
        "gdf6 = hospitais_cnes_with_buffer.copy()\n",
        "over_lay_view_plot = hospitais_over_lay_view.copy()\n",
        "fig, ax = plt.subplots(figsize=(10, 10))\n",
        "\n",
        "gdf2.GEOMETRY.plot(ax=ax, color='blue', alpha=1, label='Primeira Camada')\n",
        "gdf5.point.plot(ax=ax, color='yellow', alpha=1, label='Segunda Camada')\n",
        "# gdf6.point.plot(ax=ax, color='pink', alpha=0.5, label='Terceira Camada')\n",
        "over_lay_view_plot.plot(ax=ax, color='pink', alpha=0.5, label='Terceira Camada')\n",
        "plt.legend()\n",
        "plt.show()"
      ],
      "metadata": {
        "id": "wbW7xShnjuST",
        "colab": {
          "base_uri": "https://localhost:8080/",
          "height": 54
        },
        "outputId": "128786c6-80f4-4eb0-bba0-d9a1e5eaa4a0"
      },
      "execution_count": 65,
      "outputs": [
        {
          "output_type": "display_data",
          "data": {
            "text/plain": [
              "<Figure size 1000x1000 with 1 Axes>"
            ],
            "image/png": "[encoded data removed]"
          },
          "metadata": {}
        }
      ]
    },
    {
      "cell_type": "markdown",
      "source": [
        "### Criar Indicadores com porcentagem das areas"
      ],
      "metadata": {
        "id": "DnWtC8I8juSU"
      }
    },
    {
      "cell_type": "code",
      "source": [
        "# Verificação Setores Interceptado\n",
        "\n",
        "hospitais_populacao_distrital: list = []\n",
        "hospitais_porcentagem_coberturas: list = []\n",
        "for row in hospitais_over_lay_view.itertuples():\n",
        "  for row_setores in setores_maps.itertuples():\n",
        "    if row.point.intersects(row_setores.GEOMETRY):\n",
        "      hospitais_populacao_distrital.append(row_setores)\n",
        "      hospitais_porcentagem_coberturas.append(overlap_percentage(row.point, row_setores.GEOMETRY))"
      ],
      "metadata": {
        "id": "8JbrpkIyjuSV"
      },
      "execution_count": 66,
      "outputs": []
    },
    {
      "cell_type": "markdown",
      "source": [
        "### % da população distrital a até 5 km de um Hospital\n",
        "\n",
        "Seguinte fórmula:\n",
        "\n",
        "$\\text{\n",
        "% da população distrital a até 5 km de um Hospital} = \\frac{\\text{Pessoas dentro de 5km da Hospital}}{\\text{Total População}} \\times 100$\n",
        "\n",
        "Indicadores resultante desse codigo:\n",
        "- % da população distrital a até 5 km de um Hospital\n"
      ],
      "metadata": {
        "id": "zuqhT1AXfgcL"
      }
    },
    {
      "cell_type": "code",
      "source": [
        "hospitais_df_populacao_distrital_porcent = pd.DataFrame(hospitais_populacao_distrital)\n",
        "hospitais_df_populacao_distrital_porcent['area_coberta_hospital'] = hospitais_porcentagem_coberturas\n",
        "hospitais_df_populacao_distrital_porcent.V0001 = hospitais_df_populacao_distrital_porcent.V0001.astype(int)\n",
        "\n",
        "hospitais_indicador_populacao_distrital_final_porcent = hospitais_df_populacao_distrital_porcent.groupby(['NM_DIST', 'CD_SETOR', 'V0001'], as_index=False).area_coberta_hospital.sum()\n",
        "hospitais_indicador_populacao_distrital_final_porcent['Pessoas dentro de 5km da Hospital'] = (hospitais_indicador_populacao_distrital_final_porcent['area_coberta_hospital'] / 100) * hospitais_indicador_populacao_distrital_final_porcent.V0001\n",
        "hospitais_indicador_populacao_distrital_final_porcent['Pessoas dentro de 5km da Hospital'] = hospitais_indicador_populacao_distrital_final_porcent['Pessoas dentro de 5km da Hospital'].round(3)\n",
        "\n",
        "hospitais_indicador_populacao_distrital_final_porcent = hospitais_indicador_populacao_distrital_final_porcent.groupby('NM_DIST')['Pessoas dentro de 5km da Hospital'].sum().to_frame('Pessoas dentro de 5km da Hospital')\n",
        "\n",
        "hospitais_total_populacao_porcent = setores_maps.groupby('NM_DIST').V0001.sum().to_frame('Total População')\n",
        "\n",
        "hospitais_indicador_populacao_distrital_final_porcent = pd.concat([hospitais_indicador_populacao_distrital_final_porcent, hospitais_total_populacao_porcent], axis=1)\n",
        "hospitais_indicador_populacao_distrital_final_porcent['% da população distrital a até 5 km de um Hospital'] = ((hospitais_indicador_populacao_distrital_final_porcent['Pessoas dentro de 5km da Hospital'] / hospitais_indicador_populacao_distrital_final_porcent['Total População']) * 100).round(3)\n"
      ],
      "metadata": {
        "id": "MQWQxgoFjuSW"
      },
      "execution_count": 67,
      "outputs": []
    },
    {
      "cell_type": "markdown",
      "source": [
        "## Juntar indicadores espaciais"
      ],
      "metadata": {
        "id": "DtNqlUJ1jrSX"
      }
    },
    {
      "cell_type": "code",
      "source": [
        "lista_indicadores: list[pd.DataFrame] = [\n",
        "    indicador_populacao_distrital_final_porcent,\n",
        "    hospitais_indicador_populacao_distrital_final_porcent,\n",
        "]\n",
        "\n",
        "indicadores_espaciais = pd.concat(lista_indicadores, axis=1)\n",
        "indicadores_espaciais = indicadores_espaciais.rename(columns=dicionario_to_rename)\n",
        "\n",
        "indicadores_espaciais = indicadores_espaciais.loc[:,~indicadores_espaciais.columns.duplicated()] # Remove Colunas duplicadas.\n",
        "\n",
        "indicadores_espaciais.index.name = 'Distritos'"
      ],
      "metadata": {
        "id": "rta1O2OyjuwH"
      },
      "execution_count": 68,
      "outputs": []
    },
    {
      "cell_type": "markdown",
      "source": [
        "# ObservaSampa\n",
        "\n",
        "- Taxa de distorção idade-série no Ensino Fundamental da Rede Municipal de Ensino (%) -> [Codigo][indicadores_15]\n",
        "\n",
        "<!-- Taxa de distorção idade-série no Ensino Fundamental da Rede Municipal de Ensino (%) -->\n",
        "\n",
        "[indicadores_15]: https://colab.research.google.com/drive/14jIloiip7s8xnTffYS55Q0lF8Etwz5W5#scrollTo=9ri0LAVJ01pX"
      ],
      "metadata": {
        "id": "ft7SFmVp0rsy"
      }
    },
    {
      "cell_type": "markdown",
      "source": [
        "## Taxa de distorção idade-série no Ensino Fundamental da Rede Municipal de Ensino (%)\n",
        "\n",
        "Indicadores resultante desse codigo:\n",
        "- Taxa de distorção idade-série no Ensino Fundamental da Rede Municipal de Ensino (%) - ObservaSampa 2023\n",
        "\n",
        "> Não fico muito claro para mim o que seria esse \"dos anos iniciais do Ensino Fundamental\" e \"dos anos finais do Ensino Fundamental\". Peguei apenas `Taxa de distorção idade-série no Ensino Fundamental da Rede Municipal de Ensino (%)` geral de 2023 para simbolizar o indicador pelo menos\n"
      ],
      "metadata": {
        "id": "9ri0LAVJ01pX"
      }
    },
    {
      "cell_type": "code",
      "source": [
        "url = 'https://observasampa.prefeitura.sp.gov.br/arquivo.php?cd_indicador=84'\n",
        "distorcao_ensino_fundamental = pd.read_csv(url, sep=';')\n",
        "selected_distrito = distorcao_ensino_fundamental.nivel_regional == 'Distrito'\n",
        "distorcao_ensino_fundamental = distorcao_ensino_fundamental[selected_distrito]\n",
        "distorcao_ensino_fundamental.index = distorcao_ensino_fundamental['região']\n",
        "distorcao_ensino_fundamental = distorcao_ensino_fundamental['2023'].to_frame('Taxa de distorção idade-série no Ensino Fundamental da Rede Municipal de Ensino (%) - ObservaSampa 2023')"
      ],
      "metadata": {
        "id": "DDko4SPT0zNg"
      },
      "execution_count": 69,
      "outputs": []
    },
    {
      "cell_type": "markdown",
      "source": [
        "## Taxa de distorção idade-série no Ensino Médio da Rede Municipal de Ensino (%)\n",
        "\n",
        "Indicadores resultante desse codigo:\n",
        "- Taxa de distorção idade-série no Ensino Fundamental da Rede Municipal de Ensino (%) - ObservaSampa 2023"
      ],
      "metadata": {
        "id": "92UpSAleQVzB"
      }
    },
    {
      "cell_type": "code",
      "source": [
        "url = 'https://observasampa.prefeitura.sp.gov.br/arquivo.php?cd_indicador=87'\n",
        "distorcao_ensino_medio = pd.read_csv(url, sep=';')\n",
        "selected_distrito = distorcao_ensino_medio.nivel_regional == 'Distrito'\n",
        "distorcao_ensino_medio = distorcao_ensino_medio[selected_distrito]\n",
        "distorcao_ensino_medio.index = distorcao_ensino_medio['região']\n",
        "distorcao_ensino_medio = distorcao_ensino_medio['2023'].to_frame('Taxa de distorção idade-série no Ensino Medio da Rede Municipal de Ensino (%) - ObservaSampa 2023')"
      ],
      "metadata": {
        "id": "8aiDFTxjQVzC"
      },
      "execution_count": 70,
      "outputs": []
    },
    {
      "cell_type": "markdown",
      "source": [
        "# Junta [Censo 2022][censo-2022], [SIM 2022][ms_sim], [SINASC 2023][sinasc], [INEP Censo Escolar 2023][inep_escola] e [Mapa Desigualdade São Paulo 2024][mapadesigualdadesaopaulo2024]\n",
        "\n",
        "[censo-2022]: https://www.ibge.gov.br/estatisticas/sociais/trabalho/22827-censo-demografico-2022.html?=&t=downloads\n",
        "[sinasc]: https://basedosdados.org/dataset/48ccef51-8207-40ee-af5b-134c8ac3fb8c?table=80359f9a-8189-4693-bdf7-ebf7be0d2fff\n",
        "[ms_sim]: https://basedosdados.org/dataset/5beeec93-cbf3-43f6-9eea-9bee6a0d1683?table=dea823a5-cad7-4014-b77c-4aa33b3b0541\n",
        "[mapadesigualdadesaopaulo2024]: https://institutocidadessustentaveis.shinyapps.io/mapadesigualdadesaopaulo2024/\n",
        "[inep_escola]: https://basedosdados.org/dataset/dae21af4-4b6a-42f4-b94a-4c2061ea9de5?table=15e428cb-cce2-41f8-aec5-066d685b5bd5\n"
      ],
      "metadata": {
        "id": "DZRQsQH232ne"
      }
    },
    {
      "cell_type": "code",
      "source": [
        "dfs_indicadores: list[pd.DataFrame] = [\n",
        "    censo_2022_políticas_sociais,\n",
        "    indicadores_sinasc,\n",
        "    indicadores_mapa_desigualdade,\n",
        "    inep_censo_indicadores,\n",
        "    indicadores_espaciais,\n",
        "    pardos_idade_escolar,\n",
        "    pretos_idade_escolar,\n",
        "    distorcao_ensino_fundamental]\n",
        "\n",
        "for df in dfs_indicadores:\n",
        "  df.index = [slugify(temp_index) for temp_index in df.index]\n",
        "\n",
        "políticas_sociais = pd.concat(dfs_indicadores, axis=1)\n",
        "políticas_sociais.to_excel('políticas_sociais.xlsx')"
      ],
      "metadata": {
        "id": "AojtT0-i380L"
      },
      "execution_count": 73,
      "outputs": []
    },
    {
      "cell_type": "code",
      "source": [
        "políticas_sociais"
      ],
      "metadata": {
        "colab": {
          "base_uri": "https://localhost:8080/",
          "height": 687
        },
        "id": "0xJESZZ4Pvph",
        "outputId": "47b8d726-7ac8-4c2c-eab2-731f9cdec9c1"
      },
      "execution_count": 74,
      "outputs": [
        {
          "output_type": "execute_result",
          "data": {
            "text/plain": [
              "                  Total de pessoas - Censo 2022  0 a 4 anos - Censo 2022  \\\n",
              "agua rasa                                 85788                     3457   \n",
              "alto de pinheiros                         37359                     1260   \n",
              "anhanguera                                75360                     4572   \n",
              "aricanduva                                89574                     4413   \n",
              "artur alvim                               95575                     4333   \n",
              "...                                         ...                      ...   \n",
              "vila medeiros                            114939                     5748   \n",
              "vila prudente                            105690                     4724   \n",
              "vila sonia                               123748                     6314   \n",
              "sao domingos                              88884                     4506   \n",
              "lajeado                                  164391                    10527   \n",
              "\n",
              "                   Proporção de crianças de 0 a 4 anos na população - Censo 2022  \\\n",
              "agua rasa                                                        4.0               \n",
              "alto de pinheiros                                                3.4               \n",
              "anhanguera                                                       6.1               \n",
              "aricanduva                                                       4.9               \n",
              "artur alvim                                                      4.5               \n",
              "...                                                              ...               \n",
              "vila medeiros                                                    5.0               \n",
              "vila prudente                                                    4.5               \n",
              "vila sonia                                                       5.1               \n",
              "sao domingos                                                     5.1               \n",
              "lajeado                                                          6.4               \n",
              "\n",
              "                   total de pessoas de 65 anos ou mais - Censo 2022  \\\n",
              "agua rasa                                                     15366   \n",
              "alto de pinheiros                                              8661   \n",
              "anhanguera                                                     5523   \n",
              "aricanduva                                                    13090   \n",
              "artur alvim                                                   14137   \n",
              "...                                                             ...   \n",
              "vila medeiros                                                 17203   \n",
              "vila prudente                                                 15771   \n",
              "vila sonia                                                    16133   \n",
              "sao domingos                                                  11991   \n",
              "lajeado                                                       13372   \n",
              "\n",
              "                   % de pessoas de 65 anos ou mais - Censo 2022  \\\n",
              "agua rasa                                                  17.9   \n",
              "alto de pinheiros                                          23.2   \n",
              "anhanguera                                                  7.3   \n",
              "aricanduva                                                 14.6   \n",
              "artur alvim                                                14.8   \n",
              "...                                                         ...   \n",
              "vila medeiros                                              15.0   \n",
              "vila prudente                                              14.9   \n",
              "vila sonia                                                 13.0   \n",
              "sao domingos                                               13.5   \n",
              "lajeado                                                     8.1   \n",
              "\n",
              "                   Proporção de pessoas acima de 70 anos na população - Censo 2022  \\\n",
              "agua rasa                                                        4.2                 \n",
              "alto de pinheiros                                                6.4                 \n",
              "anhanguera                                                       1.7                 \n",
              "aricanduva                                                       3.6                 \n",
              "artur alvim                                                      3.5                 \n",
              "...                                                              ...                 \n",
              "vila medeiros                                                    3.5                 \n",
              "vila prudente                                                    3.6                 \n",
              "vila sonia                                                       3.3                 \n",
              "sao domingos                                                     3.4                 \n",
              "lajeado                                                          2.0                 \n",
              "\n",
              "                  Cor ou raça é branca - Censo 2022  \\\n",
              "agua rasa                                     65762   \n",
              "alto de pinheiros                             32214   \n",
              "anhanguera                                    33317   \n",
              "aricanduva                                    54352   \n",
              "artur alvim                                   51199   \n",
              "...                                             ...   \n",
              "vila medeiros                                 64564   \n",
              "vila prudente                                 73454   \n",
              "vila sonia                                    76491   \n",
              "sao domingos                                  53016   \n",
              "lajeado                                       63568   \n",
              "\n",
              "                  Cor ou raça é preta - Censo 2022  \\\n",
              "agua rasa                                     3407   \n",
              "alto de pinheiros                              891   \n",
              "anhanguera                                    8132   \n",
              "aricanduva                                    7720   \n",
              "artur alvim                                  12737   \n",
              "...                                            ...   \n",
              "vila medeiros                                10206   \n",
              "vila prudente                                 5813   \n",
              "vila sonia                                    9669   \n",
              "sao domingos                                  7059   \n",
              "lajeado                                      21881   \n",
              "\n",
              "                  Cor ou raça é amarela - Censo 2022  \\\n",
              "agua rasa                                       2309   \n",
              "alto de pinheiros                               1316   \n",
              "anhanguera                                       202   \n",
              "aricanduva                                      2135   \n",
              "artur alvim                                     1077   \n",
              "...                                              ...   \n",
              "vila medeiros                                   1146   \n",
              "vila prudente                                   2813   \n",
              "vila sonia                                      5268   \n",
              "sao domingos                                    1069   \n",
              "lajeado                                          177   \n",
              "\n",
              "                  Cor ou raça é parda - Censo 2022  ...  \\\n",
              "agua rasa                                    14223  ...   \n",
              "alto de pinheiros                             2847  ...   \n",
              "anhanguera                                   33440  ...   \n",
              "aricanduva                                   25229  ...   \n",
              "artur alvim                                  30335  ...   \n",
              "...                                            ...  ...   \n",
              "vila medeiros                                38704  ...   \n",
              "vila prudente                                23492  ...   \n",
              "vila sonia                                   32108  ...   \n",
              "sao domingos                                 27635  ...   \n",
              "lajeado                                      78461  ...   \n",
              "\n",
              "                  % da população distrital a até 1 km de uma UBS  \\\n",
              "agua rasa                                                 55.754   \n",
              "alto de pinheiros                                         14.258   \n",
              "anhanguera                                                17.513   \n",
              "aricanduva                                                65.247   \n",
              "artur alvim                                               75.210   \n",
              "...                                                          ...   \n",
              "vila medeiros                                             85.795   \n",
              "vila prudente                                             54.494   \n",
              "vila sonia                                                27.404   \n",
              "sao domingos                                              45.350   \n",
              "lajeado                                                   84.069   \n",
              "\n",
              "                   Pessoas dentro de 5km da Hospital  \\\n",
              "agua rasa                                  85788.000   \n",
              "alto de pinheiros                          37359.000   \n",
              "anhanguera                                   114.992   \n",
              "aricanduva                                 89574.000   \n",
              "artur alvim                                95575.000   \n",
              "...                                              ...   \n",
              "vila medeiros                             114939.000   \n",
              "vila prudente                              87495.379   \n",
              "vila sonia                                123394.634   \n",
              "sao domingos                               88884.000   \n",
              "lajeado                                   164391.000   \n",
              "\n",
              "                   % da população distrital a até 5 km de um Hospital  \\\n",
              "agua rasa                                                    100.000    \n",
              "alto de pinheiros                                            100.000    \n",
              "anhanguera                                                     0.153    \n",
              "aricanduva                                                   100.000    \n",
              "artur alvim                                                  100.000    \n",
              "...                                                              ...    \n",
              "vila medeiros                                                100.000    \n",
              "vila prudente                                                 82.785    \n",
              "vila sonia                                                    99.714    \n",
              "sao domingos                                                 100.000    \n",
              "lajeado                                                      100.000    \n",
              "\n",
              "                   Quantidade matriculas Parda - INEP 2023  \\\n",
              "agua rasa                                             2045   \n",
              "alto de pinheiros                                      453   \n",
              "anhanguera                                            4432   \n",
              "aricanduva                                            4330   \n",
              "artur alvim                                           4447   \n",
              "...                                                    ...   \n",
              "vila medeiros                                         6239   \n",
              "vila prudente                                         2869   \n",
              "vila sonia                                            3338   \n",
              "sao domingos                                          3869   \n",
              "lajeado                                              15154   \n",
              "\n",
              "                   0 a 29 anos, Cor ou raça é parda - Censo 2022  \\\n",
              "agua rasa                                                   5217   \n",
              "alto de pinheiros                                            724   \n",
              "anhanguera                                                 15161   \n",
              "aricanduva                                                  9952   \n",
              "artur alvim                                                11680   \n",
              "...                                                          ...   \n",
              "vila medeiros                                              16377   \n",
              "vila prudente                                               9023   \n",
              "vila sonia                                                 14187   \n",
              "sao domingos                                               11662   \n",
              "lajeado                                                    35618   \n",
              "\n",
              "                   Taxa de matrículas de crianças pardas - INEP 2023/Censo 2022  \\\n",
              "agua rasa                                                       39.2              \n",
              "alto de pinheiros                                               62.6              \n",
              "anhanguera                                                      29.2              \n",
              "aricanduva                                                      43.5              \n",
              "artur alvim                                                     38.1              \n",
              "...                                                              ...              \n",
              "vila medeiros                                                   38.1              \n",
              "vila prudente                                                   31.8              \n",
              "vila sonia                                                      23.5              \n",
              "sao domingos                                                    33.2              \n",
              "lajeado                                                         42.5              \n",
              "\n",
              "                   Quantidade matriculas preta - INEP 2023  \\\n",
              "agua rasa                                              249   \n",
              "alto de pinheiros                                      106   \n",
              "anhanguera                                             523   \n",
              "aricanduva                                             522   \n",
              "artur alvim                                            962   \n",
              "...                                                    ...   \n",
              "vila medeiros                                          618   \n",
              "vila prudente                                          335   \n",
              "vila sonia                                             415   \n",
              "sao domingos                                           489   \n",
              "lajeado                                               1360   \n",
              "\n",
              "                   0 a 29 anos, Cor ou raça é preta - Censo 2022  \\\n",
              "agua rasa                                                   5217   \n",
              "alto de pinheiros                                            724   \n",
              "anhanguera                                                 15161   \n",
              "aricanduva                                                  9952   \n",
              "artur alvim                                                11680   \n",
              "...                                                          ...   \n",
              "vila medeiros                                              16377   \n",
              "vila prudente                                               9023   \n",
              "vila sonia                                                 14187   \n",
              "sao domingos                                               11662   \n",
              "lajeado                                                    35618   \n",
              "\n",
              "                   Taxa de matrículas de crianças pretas - INEP 2023/Censo 2022  \\\n",
              "agua rasa                                                        4.8              \n",
              "alto de pinheiros                                               14.6              \n",
              "anhanguera                                                       3.4              \n",
              "aricanduva                                                       5.2              \n",
              "artur alvim                                                      8.2              \n",
              "...                                                              ...              \n",
              "vila medeiros                                                    3.8              \n",
              "vila prudente                                                    3.7              \n",
              "vila sonia                                                       2.9              \n",
              "sao domingos                                                     4.2              \n",
              "lajeado                                                          3.8              \n",
              "\n",
              "                   Taxa de distorção idade-série no Ensino Fundamental da Rede Municipal de Ensino (%) - ObservaSampa 2023  \n",
              "agua rasa                                                     5,5089                                                        \n",
              "alto de pinheiros                                                NaN                                                        \n",
              "anhanguera                                                    2,6527                                                        \n",
              "aricanduva                                                    6,0593                                                        \n",
              "artur alvim                                                   2,8086                                                        \n",
              "...                                                              ...                                                        \n",
              "vila medeiros                                                 7,1066                                                        \n",
              "vila prudente                                                 5,6114                                                        \n",
              "vila sonia                                                    6,1508                                                        \n",
              "sao domingos                                                  5,1045                                                        \n",
              "lajeado                                                       3,8197                                                        \n",
              "\n",
              "[96 rows x 54 columns]"
            ],
            "text/html": [
              "\n",
              "  <div id=\"df-9e4ac785-ab22-4ec2-a173-dfe30df21a9b\" class=\"colab-df-container\">\n",
              "    <div>\n",
              "<style scoped>\n",
              "    .dataframe tbody tr th:only-of-type {\n",
              "        vertical-align: middle;\n",
              "    }\n",
              "\n",
              "    .dataframe tbody tr th {\n",
              "        vertical-align: top;\n",
              "    }\n",
              "\n",
              "    .dataframe thead th {\n",
              "        text-align: right;\n",
              "    }\n",
              "</style>\n",
              "<table border=\"1\" class=\"dataframe\">\n",
              "  <thead>\n",
              "    <tr style=\"text-align: right;\">\n",
              "      <th></th>\n",
              "      <th>Total de pessoas - Censo 2022</th>\n",
              "      <th>0 a 4 anos - Censo 2022</th>\n",
              "      <th>Proporção de crianças de 0 a 4 anos na população - Censo 2022</th>\n",
              "      <th>total de pessoas de 65 anos ou mais - Censo 2022</th>\n",
              "      <th>% de pessoas de 65 anos ou mais - Censo 2022</th>\n",
              "      <th>Proporção de pessoas acima de 70 anos na população - Censo 2022</th>\n",
              "      <th>Cor ou raça é branca - Censo 2022</th>\n",
              "      <th>Cor ou raça é preta - Censo 2022</th>\n",
              "      <th>Cor ou raça é amarela - Censo 2022</th>\n",
              "      <th>Cor ou raça é parda - Censo 2022</th>\n",
              "      <th>...</th>\n",
              "      <th>% da população distrital a até 1 km de uma UBS</th>\n",
              "      <th>Pessoas dentro de 5km da Hospital</th>\n",
              "      <th>% da população distrital a até 5 km de um Hospital</th>\n",
              "      <th>Quantidade matriculas Parda - INEP 2023</th>\n",
              "      <th>0 a 29 anos, Cor ou raça é parda - Censo 2022</th>\n",
              "      <th>Taxa de matrículas de crianças pardas - INEP 2023/Censo 2022</th>\n",
              "      <th>Quantidade matriculas preta - INEP 2023</th>\n",
              "      <th>0 a 29 anos, Cor ou raça é preta - Censo 2022</th>\n",
              "      <th>Taxa de matrículas de crianças pretas - INEP 2023/Censo 2022</th>\n",
              "      <th>Taxa de distorção idade-série no Ensino Fundamental da Rede Municipal de Ensino (%) - ObservaSampa 2023</th>\n",
              "    </tr>\n",
              "  </thead>\n",
              "  <tbody>\n",
              "    <tr>\n",
              "      <th>agua rasa</th>\n",
              "      <td>85788</td>\n",
              "      <td>3457</td>\n",
              "      <td>4.0</td>\n",
              "      <td>15366</td>\n",
              "      <td>17.9</td>\n",
              "      <td>4.2</td>\n",
              "      <td>65762</td>\n",
              "      <td>3407</td>\n",
              "      <td>2309</td>\n",
              "      <td>14223</td>\n",
              "      <td>...</td>\n",
              "      <td>55.754</td>\n",
              "      <td>85788.000</td>\n",
              "      <td>100.000</td>\n",
              "      <td>2045</td>\n",
              "      <td>5217</td>\n",
              "      <td>39.2</td>\n",
              "      <td>249</td>\n",
              "      <td>5217</td>\n",
              "      <td>4.8</td>\n",
              "      <td>5,5089</td>\n",
              "    </tr>\n",
              "    <tr>\n",
              "      <th>alto de pinheiros</th>\n",
              "      <td>37359</td>\n",
              "      <td>1260</td>\n",
              "      <td>3.4</td>\n",
              "      <td>8661</td>\n",
              "      <td>23.2</td>\n",
              "      <td>6.4</td>\n",
              "      <td>32214</td>\n",
              "      <td>891</td>\n",
              "      <td>1316</td>\n",
              "      <td>2847</td>\n",
              "      <td>...</td>\n",
              "      <td>14.258</td>\n",
              "      <td>37359.000</td>\n",
              "      <td>100.000</td>\n",
              "      <td>453</td>\n",
              "      <td>724</td>\n",
              "      <td>62.6</td>\n",
              "      <td>106</td>\n",
              "      <td>724</td>\n",
              "      <td>14.6</td>\n",
              "      <td>NaN</td>\n",
              "    </tr>\n",
              "    <tr>\n",
              "      <th>anhanguera</th>\n",
              "      <td>75360</td>\n",
              "      <td>4572</td>\n",
              "      <td>6.1</td>\n",
              "      <td>5523</td>\n",
              "      <td>7.3</td>\n",
              "      <td>1.7</td>\n",
              "      <td>33317</td>\n",
              "      <td>8132</td>\n",
              "      <td>202</td>\n",
              "      <td>33440</td>\n",
              "      <td>...</td>\n",
              "      <td>17.513</td>\n",
              "      <td>114.992</td>\n",
              "      <td>0.153</td>\n",
              "      <td>4432</td>\n",
              "      <td>15161</td>\n",
              "      <td>29.2</td>\n",
              "      <td>523</td>\n",
              "      <td>15161</td>\n",
              "      <td>3.4</td>\n",
              "      <td>2,6527</td>\n",
              "    </tr>\n",
              "    <tr>\n",
              "      <th>aricanduva</th>\n",
              "      <td>89574</td>\n",
              "      <td>4413</td>\n",
              "      <td>4.9</td>\n",
              "      <td>13090</td>\n",
              "      <td>14.6</td>\n",
              "      <td>3.6</td>\n",
              "      <td>54352</td>\n",
              "      <td>7720</td>\n",
              "      <td>2135</td>\n",
              "      <td>25229</td>\n",
              "      <td>...</td>\n",
              "      <td>65.247</td>\n",
              "      <td>89574.000</td>\n",
              "      <td>100.000</td>\n",
              "      <td>4330</td>\n",
              "      <td>9952</td>\n",
              "      <td>43.5</td>\n",
              "      <td>522</td>\n",
              "      <td>9952</td>\n",
              "      <td>5.2</td>\n",
              "      <td>6,0593</td>\n",
              "    </tr>\n",
              "    <tr>\n",
              "      <th>artur alvim</th>\n",
              "      <td>95575</td>\n",
              "      <td>4333</td>\n",
              "      <td>4.5</td>\n",
              "      <td>14137</td>\n",
              "      <td>14.8</td>\n",
              "      <td>3.5</td>\n",
              "      <td>51199</td>\n",
              "      <td>12737</td>\n",
              "      <td>1077</td>\n",
              "      <td>30335</td>\n",
              "      <td>...</td>\n",
              "      <td>75.210</td>\n",
              "      <td>95575.000</td>\n",
              "      <td>100.000</td>\n",
              "      <td>4447</td>\n",
              "      <td>11680</td>\n",
              "      <td>38.1</td>\n",
              "      <td>962</td>\n",
              "      <td>11680</td>\n",
              "      <td>8.2</td>\n",
              "      <td>2,8086</td>\n",
              "    </tr>\n",
              "    <tr>\n",
              "      <th>...</th>\n",
              "      <td>...</td>\n",
              "      <td>...</td>\n",
              "      <td>...</td>\n",
              "      <td>...</td>\n",
              "      <td>...</td>\n",
              "      <td>...</td>\n",
              "      <td>...</td>\n",
              "      <td>...</td>\n",
              "      <td>...</td>\n",
              "      <td>...</td>\n",
              "      <td>...</td>\n",
              "      <td>...</td>\n",
              "      <td>...</td>\n",
              "      <td>...</td>\n",
              "      <td>...</td>\n",
              "      <td>...</td>\n",
              "      <td>...</td>\n",
              "      <td>...</td>\n",
              "      <td>...</td>\n",
              "      <td>...</td>\n",
              "      <td>...</td>\n",
              "    </tr>\n",
              "    <tr>\n",
              "      <th>vila medeiros</th>\n",
              "      <td>114939</td>\n",
              "      <td>5748</td>\n",
              "      <td>5.0</td>\n",
              "      <td>17203</td>\n",
              "      <td>15.0</td>\n",
              "      <td>3.5</td>\n",
              "      <td>64564</td>\n",
              "      <td>10206</td>\n",
              "      <td>1146</td>\n",
              "      <td>38704</td>\n",
              "      <td>...</td>\n",
              "      <td>85.795</td>\n",
              "      <td>114939.000</td>\n",
              "      <td>100.000</td>\n",
              "      <td>6239</td>\n",
              "      <td>16377</td>\n",
              "      <td>38.1</td>\n",
              "      <td>618</td>\n",
              "      <td>16377</td>\n",
              "      <td>3.8</td>\n",
              "      <td>7,1066</td>\n",
              "    </tr>\n",
              "    <tr>\n",
              "      <th>vila prudente</th>\n",
              "      <td>105690</td>\n",
              "      <td>4724</td>\n",
              "      <td>4.5</td>\n",
              "      <td>15771</td>\n",
              "      <td>14.9</td>\n",
              "      <td>3.6</td>\n",
              "      <td>73454</td>\n",
              "      <td>5813</td>\n",
              "      <td>2813</td>\n",
              "      <td>23492</td>\n",
              "      <td>...</td>\n",
              "      <td>54.494</td>\n",
              "      <td>87495.379</td>\n",
              "      <td>82.785</td>\n",
              "      <td>2869</td>\n",
              "      <td>9023</td>\n",
              "      <td>31.8</td>\n",
              "      <td>335</td>\n",
              "      <td>9023</td>\n",
              "      <td>3.7</td>\n",
              "      <td>5,6114</td>\n",
              "    </tr>\n",
              "    <tr>\n",
              "      <th>vila sonia</th>\n",
              "      <td>123748</td>\n",
              "      <td>6314</td>\n",
              "      <td>5.1</td>\n",
              "      <td>16133</td>\n",
              "      <td>13.0</td>\n",
              "      <td>3.3</td>\n",
              "      <td>76491</td>\n",
              "      <td>9669</td>\n",
              "      <td>5268</td>\n",
              "      <td>32108</td>\n",
              "      <td>...</td>\n",
              "      <td>27.404</td>\n",
              "      <td>123394.634</td>\n",
              "      <td>99.714</td>\n",
              "      <td>3338</td>\n",
              "      <td>14187</td>\n",
              "      <td>23.5</td>\n",
              "      <td>415</td>\n",
              "      <td>14187</td>\n",
              "      <td>2.9</td>\n",
              "      <td>6,1508</td>\n",
              "    </tr>\n",
              "    <tr>\n",
              "      <th>sao domingos</th>\n",
              "      <td>88884</td>\n",
              "      <td>4506</td>\n",
              "      <td>5.1</td>\n",
              "      <td>11991</td>\n",
              "      <td>13.5</td>\n",
              "      <td>3.4</td>\n",
              "      <td>53016</td>\n",
              "      <td>7059</td>\n",
              "      <td>1069</td>\n",
              "      <td>27635</td>\n",
              "      <td>...</td>\n",
              "      <td>45.350</td>\n",
              "      <td>88884.000</td>\n",
              "      <td>100.000</td>\n",
              "      <td>3869</td>\n",
              "      <td>11662</td>\n",
              "      <td>33.2</td>\n",
              "      <td>489</td>\n",
              "      <td>11662</td>\n",
              "      <td>4.2</td>\n",
              "      <td>5,1045</td>\n",
              "    </tr>\n",
              "    <tr>\n",
              "      <th>lajeado</th>\n",
              "      <td>164391</td>\n",
              "      <td>10527</td>\n",
              "      <td>6.4</td>\n",
              "      <td>13372</td>\n",
              "      <td>8.1</td>\n",
              "      <td>2.0</td>\n",
              "      <td>63568</td>\n",
              "      <td>21881</td>\n",
              "      <td>177</td>\n",
              "      <td>78461</td>\n",
              "      <td>...</td>\n",
              "      <td>84.069</td>\n",
              "      <td>164391.000</td>\n",
              "      <td>100.000</td>\n",
              "      <td>15154</td>\n",
              "      <td>35618</td>\n",
              "      <td>42.5</td>\n",
              "      <td>1360</td>\n",
              "      <td>35618</td>\n",
              "      <td>3.8</td>\n",
              "      <td>3,8197</td>\n",
              "    </tr>\n",
              "  </tbody>\n",
              "</table>\n",
              "<p>96 rows × 54 columns</p>\n",
              "</div>\n",
              "    <div class=\"colab-df-buttons\">\n",
              "\n",
              "  <div class=\"colab-df-container\">\n",
              "    <button class=\"colab-df-convert\" onclick=\"convertToInteractive('df-9e4ac785-ab22-4ec2-a173-dfe30df21a9b')\"\n",
              "            title=\"Convert this dataframe to an interactive table.\"\n",
              "            style=\"display:none;\">\n",
              "\n",
              "  <svg xmlns=\"http://www.w3.org/2000/svg\" height=\"24px\" viewBox=\"0 -960 960 960\">\n",
              "    <path d=\"M120-120v-720h720v720H120Zm60-500h600v-160H180v160Zm220 220h160v-160H400v160Zm0 220h160v-160H400v160ZM180-400h160v-160H180v160Zm440 0h160v-160H620v160ZM180-180h160v-160H180v160Zm440 0h160v-160H620v160Z\"/>\n",
              "  </svg>\n",
              "    </button>\n",
              "\n",
              "  <style>\n",
              "    .colab-df-container {\n",
              "      display:flex;\n",
              "      gap: 12px;\n",
              "    }\n",
              "\n",
              "    .colab-df-convert {\n",
              "      background-color: #E8F0FE;\n",
              "      border: none;\n",
              "      border-radius: 50%;\n",
              "      cursor: pointer;\n",
              "      display: none;\n",
              "      fill: #1967D2;\n",
              "      height: 32px;\n",
              "      padding: 0 0 0 0;\n",
              "      width: 32px;\n",
              "    }\n",
              "\n",
              "    .colab-df-convert:hover {\n",
              "      background-color: #E2EBFA;\n",
              "      box-shadow: 0px 1px 2px rgba(60, 64, 67, 0.3), 0px 1px 3px 1px rgba(60, 64, 67, 0.15);\n",
              "      fill: #174EA6;\n",
              "    }\n",
              "\n",
              "    .colab-df-buttons div {\n",
              "      margin-bottom: 4px;\n",
              "    }\n",
              "\n",
              "    [theme=dark] .colab-df-convert {\n",
              "      background-color: #3B4455;\n",
              "      fill: #D2E3FC;\n",
              "    }\n",
              "\n",
              "    [theme=dark] .colab-df-convert:hover {\n",
              "      background-color: #434B5C;\n",
              "      box-shadow: 0px 1px 3px 1px rgba(0, 0, 0, 0.15);\n",
              "      filter: drop-shadow(0px 1px 2px rgba(0, 0, 0, 0.3));\n",
              "      fill: #FFFFFF;\n",
              "    }\n",
              "  </style>\n",
              "\n",
              "    <script>\n",
              "      const buttonEl =\n",
              "        document.querySelector('#df-9e4ac785-ab22-4ec2-a173-dfe30df21a9b button.colab-df-convert');\n",
              "      buttonEl.style.display =\n",
              "        google.colab.kernel.accessAllowed ? 'block' : 'none';\n",
              "\n",
              "      async function convertToInteractive(key) {\n",
              "        const element = document.querySelector('#df-9e4ac785-ab22-4ec2-a173-dfe30df21a9b');\n",
              "        const dataTable =\n",
              "          await google.colab.kernel.invokeFunction('convertToInteractive',\n",
              "                                                    [key], {});\n",
              "        if (!dataTable) return;\n",
              "\n",
              "        const docLinkHtml = 'Like what you see? Visit the ' +\n",
              "          '<a target=\"_blank\" href=https://colab.research.google.com/notebooks/data_table.ipynb>data table notebook</a>'\n",
              "          + ' to learn more about interactive tables.';\n",
              "        element.innerHTML = '';\n",
              "        dataTable['output_type'] = 'display_data';\n",
              "        await google.colab.output.renderOutput(dataTable, element);\n",
              "        const docLink = document.createElement('div');\n",
              "        docLink.innerHTML = docLinkHtml;\n",
              "        element.appendChild(docLink);\n",
              "      }\n",
              "    </script>\n",
              "  </div>\n",
              "\n",
              "\n",
              "<div id=\"df-bddc2110-63c7-4390-b7db-899fb6fe7837\">\n",
              "  <button class=\"colab-df-quickchart\" onclick=\"quickchart('df-bddc2110-63c7-4390-b7db-899fb6fe7837')\"\n",
              "            title=\"Suggest charts\"\n",
              "            style=\"display:none;\">\n",
              "\n",
              "<svg xmlns=\"http://www.w3.org/2000/svg\" height=\"24px\"viewBox=\"0 0 24 24\"\n",
              "     width=\"24px\">\n",
              "    <g>\n",
              "        <path d=\"M19 3H5c-1.1 0-2 .9-2 2v14c0 1.1.9 2 2 2h14c1.1 0 2-.9 2-2V5c0-1.1-.9-2-2-2zM9 17H7v-7h2v7zm4 0h-2V7h2v10zm4 0h-2v-4h2v4z\"/>\n",
              "    </g>\n",
              "</svg>\n",
              "  </button>\n",
              "\n",
              "<style>\n",
              "  .colab-df-quickchart {\n",
              "      --bg-color: #E8F0FE;\n",
              "      --fill-color: #1967D2;\n",
              "      --hover-bg-color: #E2EBFA;\n",
              "      --hover-fill-color: #174EA6;\n",
              "      --disabled-fill-color: #AAA;\n",
              "      --disabled-bg-color: #DDD;\n",
              "  }\n",
              "\n",
              "  [theme=dark] .colab-df-quickchart {\n",
              "      --bg-color: #3B4455;\n",
              "      --fill-color: #D2E3FC;\n",
              "      --hover-bg-color: #434B5C;\n",
              "      --hover-fill-color: #FFFFFF;\n",
              "      --disabled-bg-color: #3B4455;\n",
              "      --disabled-fill-color: #666;\n",
              "  }\n",
              "\n",
              "  .colab-df-quickchart {\n",
              "    background-color: var(--bg-color);\n",
              "    border: none;\n",
              "    border-radius: 50%;\n",
              "    cursor: pointer;\n",
              "    display: none;\n",
              "    fill: var(--fill-color);\n",
              "    height: 32px;\n",
              "    padding: 0;\n",
              "    width: 32px;\n",
              "  }\n",
              "\n",
              "  .colab-df-quickchart:hover {\n",
              "    background-color: var(--hover-bg-color);\n",
              "    box-shadow: 0 1px 2px rgba(60, 64, 67, 0.3), 0 1px 3px 1px rgba(60, 64, 67, 0.15);\n",
              "    fill: var(--button-hover-fill-color);\n",
              "  }\n",
              "\n",
              "  .colab-df-quickchart-complete:disabled,\n",
              "  .colab-df-quickchart-complete:disabled:hover {\n",
              "    background-color: var(--disabled-bg-color);\n",
              "    fill: var(--disabled-fill-color);\n",
              "    box-shadow: none;\n",
              "  }\n",
              "\n",
              "  .colab-df-spinner {\n",
              "    border: 2px solid var(--fill-color);\n",
              "    border-color: transparent;\n",
              "    border-bottom-color: var(--fill-color);\n",
              "    animation:\n",
              "      spin 1s steps(1) infinite;\n",
              "  }\n",
              "\n",
              "  @keyframes spin {\n",
              "    0% {\n",
              "      border-color: transparent;\n",
              "      border-bottom-color: var(--fill-color);\n",
              "      border-left-color: var(--fill-color);\n",
              "    }\n",
              "    20% {\n",
              "      border-color: transparent;\n",
              "      border-left-color: var(--fill-color);\n",
              "      border-top-color: var(--fill-color);\n",
              "    }\n",
              "    30% {\n",
              "      border-color: transparent;\n",
              "      border-left-color: var(--fill-color);\n",
              "      border-top-color: var(--fill-color);\n",
              "      border-right-color: var(--fill-color);\n",
              "    }\n",
              "    40% {\n",
              "      border-color: transparent;\n",
              "      border-right-color: var(--fill-color);\n",
              "      border-top-color: var(--fill-color);\n",
              "    }\n",
              "    60% {\n",
              "      border-color: transparent;\n",
              "      border-right-color: var(--fill-color);\n",
              "    }\n",
              "    80% {\n",
              "      border-color: transparent;\n",
              "      border-right-color: var(--fill-color);\n",
              "      border-bottom-color: var(--fill-color);\n",
              "    }\n",
              "    90% {\n",
              "      border-color: transparent;\n",
              "      border-bottom-color: var(--fill-color);\n",
              "    }\n",
              "  }\n",
              "</style>\n",
              "\n",
              "  <script>\n",
              "    async function quickchart(key) {\n",
              "      const quickchartButtonEl =\n",
              "        document.querySelector('#' + key + ' button');\n",
              "      quickchartButtonEl.disabled = true;  // To prevent multiple clicks.\n",
              "      quickchartButtonEl.classList.add('colab-df-spinner');\n",
              "      try {\n",
              "        const charts = await google.colab.kernel.invokeFunction(\n",
              "            'suggestCharts', [key], {});\n",
              "      } catch (error) {\n",
              "        console.error('Error during call to suggestCharts:', error);\n",
              "      }\n",
              "      quickchartButtonEl.classList.remove('colab-df-spinner');\n",
              "      quickchartButtonEl.classList.add('colab-df-quickchart-complete');\n",
              "    }\n",
              "    (() => {\n",
              "      let quickchartButtonEl =\n",
              "        document.querySelector('#df-bddc2110-63c7-4390-b7db-899fb6fe7837 button');\n",
              "      quickchartButtonEl.style.display =\n",
              "        google.colab.kernel.accessAllowed ? 'block' : 'none';\n",
              "    })();\n",
              "  </script>\n",
              "</div>\n",
              "\n",
              "  <div id=\"id_09b6a076-1f1c-4180-8003-0bb96e42daa4\">\n",
              "    <style>\n",
              "      .colab-df-generate {\n",
              "        background-color: #E8F0FE;\n",
              "        border: none;\n",
              "        border-radius: 50%;\n",
              "        cursor: pointer;\n",
              "        display: none;\n",
              "        fill: #1967D2;\n",
              "        height: 32px;\n",
              "        padding: 0 0 0 0;\n",
              "        width: 32px;\n",
              "      }\n",
              "\n",
              "      .colab-df-generate:hover {\n",
              "        background-color: #E2EBFA;\n",
              "        box-shadow: 0px 1px 2px rgba(60, 64, 67, 0.3), 0px 1px 3px 1px rgba(60, 64, 67, 0.15);\n",
              "        fill: #174EA6;\n",
              "      }\n",
              "\n",
              "      [theme=dark] .colab-df-generate {\n",
              "        background-color: #3B4455;\n",
              "        fill: #D2E3FC;\n",
              "      }\n",
              "\n",
              "      [theme=dark] .colab-df-generate:hover {\n",
              "        background-color: #434B5C;\n",
              "        box-shadow: 0px 1px 3px 1px rgba(0, 0, 0, 0.15);\n",
              "        filter: drop-shadow(0px 1px 2px rgba(0, 0, 0, 0.3));\n",
              "        fill: #FFFFFF;\n",
              "      }\n",
              "    </style>\n",
              "    <button class=\"colab-df-generate\" onclick=\"generateWithVariable('políticas_sociais')\"\n",
              "            title=\"Generate code using this dataframe.\"\n",
              "            style=\"display:none;\">\n",
              "\n",
              "  <svg xmlns=\"http://www.w3.org/2000/svg\" height=\"24px\"viewBox=\"0 0 24 24\"\n",
              "       width=\"24px\">\n",
              "    <path d=\"M7,19H8.4L18.45,9,17,7.55,7,17.6ZM5,21V16.75L18.45,3.32a2,2,0,0,1,2.83,0l1.4,1.43a1.91,1.91,0,0,1,.58,1.4,1.91,1.91,0,0,1-.58,1.4L9.25,21ZM18.45,9,17,7.55Zm-12,3A5.31,5.31,0,0,0,4.9,8.1,5.31,5.31,0,0,0,1,6.5,5.31,5.31,0,0,0,4.9,4.9,5.31,5.31,0,0,0,6.5,1,5.31,5.31,0,0,0,8.1,4.9,5.31,5.31,0,0,0,12,6.5,5.46,5.46,0,0,0,6.5,12Z\"/>\n",
              "  </svg>\n",
              "    </button>\n",
              "    <script>\n",
              "      (() => {\n",
              "      const buttonEl =\n",
              "        document.querySelector('#id_09b6a076-1f1c-4180-8003-0bb96e42daa4 button.colab-df-generate');\n",
              "      buttonEl.style.display =\n",
              "        google.colab.kernel.accessAllowed ? 'block' : 'none';\n",
              "\n",
              "      buttonEl.onclick = () => {\n",
              "        google.colab.notebook.generateWithVariable('políticas_sociais');\n",
              "      }\n",
              "      })();\n",
              "    </script>\n",
              "  </div>\n",
              "\n",
              "    </div>\n",
              "  </div>\n"
            ],
            "application/vnd.google.colaboratory.intrinsic+json": {
              "type": "dataframe",
              "variable_name": "políticas_sociais"
            }
          },
          "metadata": {},
          "execution_count": 74
        }
      ]
    }
  ]
}