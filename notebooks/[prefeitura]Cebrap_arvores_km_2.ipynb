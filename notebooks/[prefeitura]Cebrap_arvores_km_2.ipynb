{
 "cells": [
  {
   "cell_type": "code",
   "execution_count": 1,
   "id": "8c43c901-2636-4b83-8ad9-9e35a42b0be3",
   "metadata": {},
   "outputs": [],
   "source": [
    "import geopandas as gpd\n",
    "from os.path import join\n",
    "\n",
    "from utils import save_parquet"
   ]
  },
  {
   "cell_type": "markdown",
   "id": "61c44bf9-95f8-4cb0-8b7e-81cbf0b7d53c",
   "metadata": {},
   "source": [
    "# Carregar gdf"
   ]
  },
  {
   "cell_type": "markdown",
   "id": "b5bcad15-6855-481b-a8fc-0315f3fa3110",
   "metadata": {},
   "source": [
    "Carregar o gdf anteriormente criado, durante o cálculo de quantidade de árvores no viário"
   ]
  },
  {
   "cell_type": "code",
   "execution_count": 2,
   "id": "1d64e55d-1adc-4536-a93a-f8fcee7e60df",
   "metadata": {},
   "outputs": [],
   "source": [
    "gdf_distrito_arv = gpd.read_parquet(\n",
    "    join(\n",
    "        'data',\n",
    "        'assets',\n",
    "        'arborizacao_viaria', \n",
    "        'distrito_arv_viario.parquet'\n",
    "    )\n",
    ")"
   ]
  },
  {
   "cell_type": "code",
   "execution_count": 3,
   "id": "88f33c49-3940-4bfc-a8dd-372d689f0aa9",
   "metadata": {},
   "outputs": [
    {
     "data": {
      "text/plain": [
       "Index(['CD_REGIAO', 'NM_REGIAO', 'CD_UF', 'NM_UF', 'CD_MUN', 'NM_MUN',\n",
       "       'CD_DIST', 'NM_DIST', 'CD_RGINT', 'NM_RGINT', 'CD_RGI', 'NM_RGI',\n",
       "       'CD_CONCURB', 'NM_CONCURB', 'AREA_KM2', 'total_pop', 'total_dom',\n",
       "       'geometry', 'qtd_arv_viario'],\n",
       "      dtype='object')"
      ]
     },
     "execution_count": 3,
     "metadata": {},
     "output_type": "execute_result"
    }
   ],
   "source": [
    "gdf_distrito_arv.columns"
   ]
  },
  {
   "cell_type": "markdown",
   "id": "8f870857-c3ac-4a1f-801f-41b01899fa25",
   "metadata": {},
   "source": [
    "# Cálculo por km²"
   ]
  },
  {
   "cell_type": "markdown",
   "id": "2cb835d3-4284-4fa6-8ab9-fee1d240c6c5",
   "metadata": {},
   "source": [
    "Para saber quantas árvores no viário há por km², precisamos dividir a quantidade de árvores pela área (qtd de árvores/área em km²):"
   ]
  },
  {
   "cell_type": "code",
   "execution_count": 4,
   "id": "e57e1fe2-a8b5-4993-b294-e0718b7ebaaf",
   "metadata": {},
   "outputs": [],
   "source": [
    "gdf_distrito_arv['arv_km_2'] = (\n",
    "    gdf_distrito_arv['qtd_arv_viario']/gdf_distrito_arv['AREA_KM2']\n",
    ")"
   ]
  },
  {
   "cell_type": "markdown",
   "id": "fe3d6240-1643-4f67-aabf-c56d5d5339c5",
   "metadata": {
    "jp-MarkdownHeadingCollapsed": true
   },
   "source": [
    "Já para ao município inteiro temos:"
   ]
  },
  {
   "cell_type": "code",
   "execution_count": 5,
   "id": "cb8f4055-e0d2-4993-92de-2985dc19b84b",
   "metadata": {},
   "outputs": [],
   "source": [
    "sp_km_2 = sum(gdf_distrito_arv['AREA_KM2'])\n",
    "sp_arv_total = sum(gdf_distrito_arv['qtd_arv_viario'])\n",
    "sp_arv_km_2 = sp_arv_total/sp_km_2"
   ]
  },
  {
   "cell_type": "code",
   "execution_count": 6,
   "id": "9ae0cbe0-9966-42c0-9f92-ea1935e96699",
   "metadata": {},
   "outputs": [
    {
     "name": "stdout",
     "output_type": "stream",
     "text": [
      "São 30000 árvores no viário em São Paulo e, considerando a área de 1521.201587 Km², há aproximadamente 19.7213 árvores por Km²\n"
     ]
    }
   ],
   "source": [
    "print(f'São {sp_arv_total} árvores no viário em São Paulo e, considerando a área de {sp_km_2} Km², há aproximadamente {round(sp_arv_km_2, 4)} árvores por Km²')"
   ]
  },
  {
   "cell_type": "markdown",
   "id": "44aec47b-2abd-4edf-9246-07472fc09db4",
   "metadata": {},
   "source": [
    "# Salvar gdf"
   ]
  },
  {
   "cell_type": "code",
   "execution_count": 7,
   "id": "fb380422-6a03-42c5-8aad-e8913021516e",
   "metadata": {},
   "outputs": [],
   "source": [
    "data_path = join('data', 'assets')"
   ]
  },
  {
   "cell_type": "code",
   "execution_count": 8,
   "id": "6e388826-ee80-44df-b7e6-4ec3b5a56246",
   "metadata": {},
   "outputs": [],
   "source": [
    "save_parquet(\n",
    "    gdf_distrito_arv, \n",
    "    data_path=data_path,\n",
    "    fname= 'dist_arv_km_2',\n",
    "    data_subpath = 'arborizacao_viaria'\n",
    ")"
   ]
  }
 ],
 "metadata": {
  "kernelspec": {
   "display_name": "Python 3 (ipykernel)",
   "language": "python",
   "name": "python3"
  },
  "language_info": {
   "codemirror_mode": {
    "name": "ipython",
    "version": 3
   },
   "file_extension": ".py",
   "mimetype": "text/x-python",
   "name": "python",
   "nbconvert_exporter": "python",
   "pygments_lexer": "ipython3",
   "version": "3.12.4"
  }
 },
 "nbformat": 4,
 "nbformat_minor": 5
}
