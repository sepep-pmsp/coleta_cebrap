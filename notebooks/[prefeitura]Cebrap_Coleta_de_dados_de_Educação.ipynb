{
  "nbformat": 4,
  "nbformat_minor": 0,
  "metadata": {
    "colab": {
      "provenance": []
    },
    "kernelspec": {
      "name": "python3",
      "display_name": "Python 3"
    },
    "language_info": {
      "name": "python"
    }
  },
  "cells": [
    {
      "cell_type": "markdown",
      "source": [
        "# Dependencias"
      ],
      "metadata": {
        "id": "wqQSAaVBGxGX"
      }
    },
    {
      "cell_type": "code",
      "execution_count": 1,
      "metadata": {
        "id": "swRR1xQqBuXt"
      },
      "outputs": [],
      "source": [
        "from IPython.display import clear_output\n",
        "import os\n",
        "import sys\n",
        "\n",
        "import pandas as pd\n",
        "import requests\n",
        "import geopandas as gpd\n",
        "from shapely import wkt, Point\n",
        "import pyproj\n"
      ]
    },
    {
      "cell_type": "code",
      "source": [
        "!pip install basedosdados==2.0.0b16\n",
        "clear_output()"
      ],
      "metadata": {
        "id": "AumtvNqwGwie"
      },
      "execution_count": 2,
      "outputs": []
    },
    {
      "cell_type": "markdown",
      "source": [
        "# Constantes"
      ],
      "metadata": {
        "id": "iRLZydCsG0vm"
      }
    },
    {
      "cell_type": "code",
      "source": [
        "# Camadas de Distritos extraida do GEOSAMPA pelo projeto SLUI\n",
        "url_slui_dev = 'http://geoserver.slui.dev/geoserver/slui/ows?service=WFS&version=1.0.0&request=GetFeature&typeName=slui%3Adistrito_municipal&maxFeatures=100&outputFormat=CSV'\n",
        "\n",
        "billing_project_id = \"br-fbsp-absp\"\n",
        "\n",
        "# Query para pegar os colegios do datalake BD\n",
        "query = \"\"\"\n",
        "with dados_2023 as (\n",
        "  SELECT\n",
        "    *\n",
        "FROM `basedosdados.br_inep_censo_escolar.escola`\n",
        "where ano=2023 and sigla_uf=\"SP\" and id_municipio=\"3550308\"\n",
        "),\n",
        "localiza as (\n",
        "  SELECT\n",
        "    *\n",
        "FROM `basedosdados.br_bd_diretorios_brasil.escola`\n",
        "), tabela_log_lat as (\n",
        "  select ano, dados_2023.sigla_uf, dados_2023.id_municipio, dados_2023.id_escola, endereco,\n",
        "  quantidade_matricula_educacao_basica,\n",
        "  quantidade_matricula_infantil,\n",
        "  quantidade_matricula_infantil_creche,\n",
        "  quantidade_matricula_infantil_pre_escola,\n",
        "  quantidade_matricula_fundamental,\n",
        "  quantidade_matricula_medio,\n",
        "  quantidade_matricula_idade_0_3,\n",
        "  quantidade_matricula_idade_4_5,\n",
        "  quantidade_matricula_idade_6_10,\n",
        "  quantidade_matricula_idade_11_14,\n",
        "  quantidade_matricula_idade_15_17,\n",
        "  quantidade_matricula_idade_18,\n",
        "  safe_cast(latitude as float64) as latitude,\n",
        "  safe_cast(longitude as float64) as longitude,\n",
        "  from dados_2023\n",
        "  left join localiza ON dados_2023.id_escola = localiza.id_escola\n",
        ")\n",
        "\n",
        "select *, ST_GEOGPOINT(longitude, latitude) as point from tabela_log_lat\n",
        "\"\"\""
      ],
      "metadata": {
        "id": "8YLn0gG5G2Oy"
      },
      "execution_count": 7,
      "outputs": []
    },
    {
      "cell_type": "markdown",
      "source": [
        "# Codigos"
      ],
      "metadata": {
        "id": "oXbyh9MiJ_ML"
      }
    },
    {
      "cell_type": "markdown",
      "source": [
        "## Formar Tabela das escolas do Bigquery BD"
      ],
      "metadata": {
        "id": "TkRs2tEXHYQ2"
      }
    },
    {
      "cell_type": "code",
      "source": [
        "import basedosdados as bd\n",
        "\n",
        "df_escolas = bd.read_sql(\n",
        "      query,\n",
        "      billing_project_id=billing_project_id,\n",
        "  )"
      ],
      "metadata": {
        "colab": {
          "base_uri": "https://localhost:8080/"
        },
        "id": "qhqR4legUOL6",
        "outputId": "a61152c6-4692-4882-e304-03f7d62be973"
      },
      "execution_count": 8,
      "outputs": [
        {
          "output_type": "stream",
          "name": "stdout",
          "text": [
            "Downloading: 100%|\u001b[32m██████████\u001b[0m|\n"
          ]
        }
      ]
    },
    {
      "cell_type": "markdown",
      "source": [
        "## Transformar em GeoPandas"
      ],
      "metadata": {
        "id": "AnNaQL9cWufa"
      }
    },
    {
      "cell_type": "code",
      "source": [
        "# Fazer GeoDataFrame dos distritos\n",
        "distrito_municipal = pd.read_csv(url_slui_dev) # Pegar CSV\n",
        "distrito_municipal['geometry'] = distrito_municipal['geometry'].apply(wkt.loads)\n",
        "geopd_distrito_municipal = gpd.GeoDataFrame(distrito_municipal, geometry='geometry', crs=\"EPSG:31983\")\n",
        "\n",
        "# Transformar de EPSG:31983 para EPSG:4326\n",
        "target_crs = pyproj.CRS.from_epsg(4326)\n",
        "geopd_distrito_municipal = geopd_distrito_municipal.to_crs(target_crs)\n",
        "\n",
        "\n",
        "# Transformar Tabela Escola para o um GeoDataFrame\n",
        "df_escolas.point = df_escolas.point.apply(wkt.loads)\n",
        "geo_df_escolas = gpd.GeoDataFrame(df_escolas, geometry='point', crs=\"EPSG:4326\")\n",
        "# geo_df_escolas.point = gdf_point"
      ],
      "metadata": {
        "id": "iL1L6PlQYVQa"
      },
      "execution_count": 9,
      "outputs": []
    },
    {
      "cell_type": "markdown",
      "source": [
        "## Left join entre os distritos e as escolas"
      ],
      "metadata": {
        "id": "Fjo4QHZWJfB_"
      }
    },
    {
      "cell_type": "code",
      "source": [
        "escolas_distritos = geopd_distrito_municipal.sjoin(geo_df_escolas, how='left', predicate='contains')\n",
        "escolas_distritos.to_csv('escolas_distritos_geometry.csv', index=False, encoding='utf-8')\n",
        "escolas_distritos.to_parquet('escolas_distritos_geometry.parquet', index=False)"
      ],
      "metadata": {
        "id": "HHezutH5IEfu"
      },
      "execution_count": 10,
      "outputs": []
    }
  ]
}