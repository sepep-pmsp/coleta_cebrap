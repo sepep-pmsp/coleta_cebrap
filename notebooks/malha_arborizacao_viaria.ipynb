{
 "cells": [
  {
   "cell_type": "code",
   "execution_count": 1,
   "id": "be83ee45-2cb8-4797-a03a-02fce491717b",
   "metadata": {},
   "outputs": [],
   "source": [
    "from os.path import join\n",
    "#from unidecode import unidecode\n",
    "\n",
    "from utils import (\n",
    "#    _prepare_cache, \n",
    "    download_malha_geosampa,\n",
    "    save_csv_parquet,\n",
    ")"
   ]
  },
  {
   "cell_type": "markdown",
   "id": "fb30b4ad-4907-4237-811a-5802ca71e9a7",
   "metadata": {},
   "source": [
    "# Arborização Viária"
   ]
  },
  {
   "cell_type": "markdown",
   "id": "f5a3a59c-4a65-4b3a-b34e-befaa6828484",
   "metadata": {},
   "source": [
    "## Importar dados "
   ]
  },
  {
   "cell_type": "code",
   "execution_count": 2,
   "id": "db810e49-b0b0-4bf7-993c-a68ebd5a4a09",
   "metadata": {},
   "outputs": [],
   "source": [
    "gdf_arvore = download_malha_geosampa('arvore')"
   ]
  },
  {
   "cell_type": "markdown",
   "id": "144d7a11-c42a-4bb6-839b-b4debf503b5f",
   "metadata": {},
   "source": [
    "## Padronizaçã de colunas"
   ]
  },
  {
   "cell_type": "markdown",
   "id": "f119a089-5eda-47c5-992e-e8b7938dcef7",
   "metadata": {},
   "source": [
    "Originalmente, muitas das colunas dos gdfs que serão interseccionados têm nomes repetidos, ou estavam vazias. Para que isso não faça com que a análise das tabelas seja confusa, apagaremos as colunas que julgadas desnecessárias, e renomearemos as necessárias."
   ]
  },
  {
   "cell_type": "code",
   "execution_count": 3,
   "id": "e44fcc3a-30d7-40a7-a227-3211fffe017f",
   "metadata": {},
   "outputs": [],
   "source": [
    "drop_arvore_cols = {\n",
    "    'nm_vulgar_', \n",
    "    'dc_nm_popu', \n",
    "    'cd_especie', \n",
    "    'dc_especie',\n",
    "    'cd_identi0', \n",
    "    'cd_tipo_po', \n",
    "    'dc_tipo_po', \n",
    "    'qt_diametr', \n",
    "    'qt_altura_',\n",
    "    'qt_diamet0', \n",
    "    'cd_tipo_es', \n",
    "    'dc_tipo_es', \n",
    "    'nm_logrado', \n",
    "    'nr_logrado',\n",
    "    'cd_inspeca',\n",
    "    'dt_inspeca',\n",
    "    'dt_atualiz'\n",
    "}\n",
    "\n",
    "gdf_arvore.drop(columns=drop_arvore_cols, axis=1, inplace=True)"
   ]
  },
  {
   "cell_type": "code",
   "execution_count": 4,
   "id": "13a4a0e1-b036-4ad9-81a0-5dc9d3525345",
   "metadata": {},
   "outputs": [],
   "source": [
    "rename_arvore_cols = {\n",
    "    'sg_distrit' : 'sg_dist_arv', \n",
    "    'nm_distrit' : 'nm_dist_arv'\n",
    "}\n",
    "\n",
    "gdf_arvore.rename(rename_arvore_cols, axis=1, inplace=True)"
   ]
  },
  {
   "cell_type": "markdown",
   "id": "82daabc2-6a8f-47a0-813e-80b881d45462",
   "metadata": {},
   "source": [
    "## Salvar GDF"
   ]
  },
  {
   "cell_type": "code",
   "execution_count": 5,
   "id": "4b6e568a-a794-4ce1-bc5a-38925197c44c",
   "metadata": {},
   "outputs": [],
   "source": [
    "data_path = join('data', 'assets')"
   ]
  },
  {
   "cell_type": "code",
   "execution_count": 6,
   "id": "6e388826-ee80-44df-b7e6-4ec3b5a56246",
   "metadata": {},
   "outputs": [],
   "source": [
    "save_csv_parquet(\n",
    "    gdf_arvore, \n",
    "    data_path= data_path,\n",
    "    fname= 'malha_arborizacao_viaria',\n",
    "    data_subpath = 'arborizacao_viaria'\n",
    ")"
   ]
  },
  {
   "cell_type": "code",
   "execution_count": null,
   "id": "d7d6daa9-a604-40a8-9872-0ee339189345",
   "metadata": {},
   "outputs": [],
   "source": []
  }
 ],
 "metadata": {
  "kernelspec": {
   "display_name": "Python 3 (ipykernel)",
   "language": "python",
   "name": "python3"
  },
  "language_info": {
   "codemirror_mode": {
    "name": "ipython",
    "version": 3
   },
   "file_extension": ".py",
   "mimetype": "text/x-python",
   "name": "python",
   "nbconvert_exporter": "python",
   "pygments_lexer": "ipython3",
   "version": "3.12.4"
  }
 },
 "nbformat": 4,
 "nbformat_minor": 5
}
