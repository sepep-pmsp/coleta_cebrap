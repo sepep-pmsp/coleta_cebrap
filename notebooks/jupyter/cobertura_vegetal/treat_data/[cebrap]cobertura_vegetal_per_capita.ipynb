{
 "cells": [
  {
   "cell_type": "code",
   "execution_count": 1,
   "id": "f9fdeda9-45be-4aad-806a-e90052ce2a12",
   "metadata": {},
   "outputs": [
    {
     "name": "stdout",
     "output_type": "stream",
     "text": [
      "O diretorio do seu projeto é coleta_cebrap\n",
      "Caminho absoluto do diretorio encontrado C:\\Users\\x526378\\Desktop\\projetos\\cebrap\\coleta_cebrap\n",
      "Caminho no path.\n"
     ]
    }
   ],
   "source": [
    "from configuracoes_notebooks import set_proj_dir\n",
    "set_proj_dir()"
   ]
  },
  {
   "cell_type": "code",
   "execution_count": 2,
   "id": "4d5d09cb-cc80-430d-a4bf-e457c697279b",
   "metadata": {},
   "outputs": [],
   "source": [
    "import os\n",
    "import geopandas as gpd\n",
    "\n",
    "from notebooks.jupyter import utils\n",
    "from utils import (\n",
    "    get_data_diretorio,\n",
    "    save_parquet_excel\n",
    ")"
   ]
  },
  {
   "cell_type": "markdown",
   "id": "a649e9f8-0249-4c02-af92-6763e55860f7",
   "metadata": {},
   "source": [
    "# Cobertura Vegetal por habitante (m²/hab)"
   ]
  },
  {
   "cell_type": "code",
   "execution_count": 3,
   "id": "db810e49-b0b0-4bf7-993c-a68ebd5a4a09",
   "metadata": {},
   "outputs": [],
   "source": [
    "data_path = get_data_diretorio()"
   ]
  },
  {
   "cell_type": "markdown",
   "id": "63b442ea-1db4-49d1-85a1-8dcf236fb455",
   "metadata": {},
   "source": [
    "# Dependências"
   ]
  },
  {
   "cell_type": "markdown",
   "id": "43407009-0f8b-4c6a-8598-3849596e669b",
   "metadata": {},
   "source": [
    "Este notebook é dependente do asset resultante do notebook '[cebrap]cobertura_vegetal_por_distrito'"
   ]
  },
  {
   "cell_type": "code",
   "execution_count": 4,
   "id": "1d64e55d-1adc-4536-a93a-f8fcee7e60df",
   "metadata": {},
   "outputs": [],
   "source": [
    "dist_cobveg_path = os.path.join(\n",
    "    data_path,\n",
    "    'assets',\n",
    "    'cobertura_vegetal', \n",
    "    'distritos_cobertura_vegetal.parquet'\n",
    ")\n",
    "gdf_dist_cobveg = gpd.read_parquet(\n",
    "    dist_cobveg_path\n",
    ")"
   ]
  },
  {
   "cell_type": "markdown",
   "id": "e5eaeca6-e7d5-4a29-b544-0e51c3b1183b",
   "metadata": {},
   "source": [
    "?? -> o resultado de gdf['geometry'].area é m² mesmo, né?"
   ]
  },
  {
   "cell_type": "markdown",
   "id": "8f870857-c3ac-4a1f-801f-41b01899fa25",
   "metadata": {},
   "source": [
    "# Cálculo per capita (m²/hab)"
   ]
  },
  {
   "cell_type": "code",
   "execution_count": 5,
   "id": "2f480768-804b-4279-934f-fdc97fe0bbb4",
   "metadata": {},
   "outputs": [
    {
     "data": {
      "text/html": [
       "<div>\n",
       "<style scoped>\n",
       "    .dataframe tbody tr th:only-of-type {\n",
       "        vertical-align: middle;\n",
       "    }\n",
       "\n",
       "    .dataframe tbody tr th {\n",
       "        vertical-align: top;\n",
       "    }\n",
       "\n",
       "    .dataframe thead th {\n",
       "        text-align: right;\n",
       "    }\n",
       "</style>\n",
       "<table border=\"1\" class=\"dataframe\">\n",
       "  <thead>\n",
       "    <tr style=\"text-align: right;\">\n",
       "      <th></th>\n",
       "      <th>CD_MUN</th>\n",
       "      <th>NM_MUN</th>\n",
       "      <th>CD_DIST</th>\n",
       "      <th>NM_DIST</th>\n",
       "      <th>CD_RGINT</th>\n",
       "      <th>NM_RGINT</th>\n",
       "      <th>CD_RGI</th>\n",
       "      <th>NM_RGI</th>\n",
       "      <th>CD_CONCURB</th>\n",
       "      <th>NM_CONCURB</th>\n",
       "      <th>AREA_KM2</th>\n",
       "      <th>total_pop</th>\n",
       "      <th>total_dom</th>\n",
       "      <th>geometry</th>\n",
       "      <th>area_dist_cobveg</th>\n",
       "      <th>area_distrito</th>\n",
       "      <th>pct_dist_cobveg</th>\n",
       "    </tr>\n",
       "  </thead>\n",
       "  <tbody>\n",
       "    <tr>\n",
       "      <th>67</th>\n",
       "      <td>3550308</td>\n",
       "      <td>São Paulo</td>\n",
       "      <td>355030868</td>\n",
       "      <td>SACOMA</td>\n",
       "      <td>3501</td>\n",
       "      <td>São Paulo</td>\n",
       "      <td>350001</td>\n",
       "      <td>São Paulo</td>\n",
       "      <td>3550308</td>\n",
       "      <td>São Paulo/SP</td>\n",
       "      <td>14.610797</td>\n",
       "      <td>261436</td>\n",
       "      <td>113894</td>\n",
       "      <td>POLYGON ((338605.158 7385601.06, 338598.678 73...</td>\n",
       "      <td>2.575763e+06</td>\n",
       "      <td>1.460870e+07</td>\n",
       "      <td>0.176317</td>\n",
       "    </tr>\n",
       "    <tr>\n",
       "      <th>26</th>\n",
       "      <td>3550308</td>\n",
       "      <td>São Paulo</td>\n",
       "      <td>355030827</td>\n",
       "      <td>CURSINO</td>\n",
       "      <td>3501</td>\n",
       "      <td>São Paulo</td>\n",
       "      <td>350001</td>\n",
       "      <td>São Paulo</td>\n",
       "      <td>3550308</td>\n",
       "      <td>São Paulo/SP</td>\n",
       "      <td>12.060052</td>\n",
       "      <td>103171</td>\n",
       "      <td>46155</td>\n",
       "      <td>POLYGON ((335822.146 7385759.521, 335833.043 7...</td>\n",
       "      <td>5.062376e+06</td>\n",
       "      <td>1.205855e+07</td>\n",
       "      <td>0.419816</td>\n",
       "    </tr>\n",
       "  </tbody>\n",
       "</table>\n",
       "</div>"
      ],
      "text/plain": [
       "     CD_MUN     NM_MUN    CD_DIST  NM_DIST CD_RGINT   NM_RGINT  CD_RGI  \\\n",
       "67  3550308  São Paulo  355030868   SACOMA     3501  São Paulo  350001   \n",
       "26  3550308  São Paulo  355030827  CURSINO     3501  São Paulo  350001   \n",
       "\n",
       "       NM_RGI CD_CONCURB    NM_CONCURB   AREA_KM2  total_pop total_dom  \\\n",
       "67  São Paulo    3550308  São Paulo/SP  14.610797     261436    113894   \n",
       "26  São Paulo    3550308  São Paulo/SP  12.060052     103171     46155   \n",
       "\n",
       "                                             geometry  area_dist_cobveg  \\\n",
       "67  POLYGON ((338605.158 7385601.06, 338598.678 73...      2.575763e+06   \n",
       "26  POLYGON ((335822.146 7385759.521, 335833.043 7...      5.062376e+06   \n",
       "\n",
       "    area_distrito  pct_dist_cobveg  \n",
       "67   1.460870e+07         0.176317  \n",
       "26   1.205855e+07         0.419816  "
      ]
     },
     "execution_count": 5,
     "metadata": {},
     "output_type": "execute_result"
    }
   ],
   "source": [
    "gdf_dist_cobveg.sample(2)"
   ]
  },
  {
   "cell_type": "code",
   "execution_count": 6,
   "id": "e57e1fe2-a8b5-4993-b294-e0718b7ebaaf",
   "metadata": {},
   "outputs": [],
   "source": [
    "gdf_dist_cobveg['cob_veg_per_capita'] = (\n",
    "    gdf_dist_cobveg['area_dist_cobveg']/gdf_dist_cobveg['total_pop']\n",
    ")"
   ]
  },
  {
   "cell_type": "code",
   "execution_count": 7,
   "id": "2aec7bbf-7440-4417-ac03-45894a6cb8ae",
   "metadata": {},
   "outputs": [
    {
     "data": {
      "text/html": [
       "<div>\n",
       "<style scoped>\n",
       "    .dataframe tbody tr th:only-of-type {\n",
       "        vertical-align: middle;\n",
       "    }\n",
       "\n",
       "    .dataframe tbody tr th {\n",
       "        vertical-align: top;\n",
       "    }\n",
       "\n",
       "    .dataframe thead th {\n",
       "        text-align: right;\n",
       "    }\n",
       "</style>\n",
       "<table border=\"1\" class=\"dataframe\">\n",
       "  <thead>\n",
       "    <tr style=\"text-align: right;\">\n",
       "      <th></th>\n",
       "      <th>CD_MUN</th>\n",
       "      <th>NM_MUN</th>\n",
       "      <th>CD_DIST</th>\n",
       "      <th>NM_DIST</th>\n",
       "      <th>CD_RGINT</th>\n",
       "      <th>NM_RGINT</th>\n",
       "      <th>CD_RGI</th>\n",
       "      <th>NM_RGI</th>\n",
       "      <th>CD_CONCURB</th>\n",
       "      <th>NM_CONCURB</th>\n",
       "      <th>AREA_KM2</th>\n",
       "      <th>total_pop</th>\n",
       "      <th>total_dom</th>\n",
       "      <th>geometry</th>\n",
       "      <th>area_dist_cobveg</th>\n",
       "      <th>area_distrito</th>\n",
       "      <th>pct_dist_cobveg</th>\n",
       "      <th>cob_veg_per_capita</th>\n",
       "    </tr>\n",
       "  </thead>\n",
       "  <tbody>\n",
       "    <tr>\n",
       "      <th>17</th>\n",
       "      <td>3550308</td>\n",
       "      <td>São Paulo</td>\n",
       "      <td>355030818</td>\n",
       "      <td>CANGAIBA</td>\n",
       "      <td>3501</td>\n",
       "      <td>São Paulo</td>\n",
       "      <td>350001</td>\n",
       "      <td>São Paulo</td>\n",
       "      <td>3550308</td>\n",
       "      <td>São Paulo/SP</td>\n",
       "      <td>13.757295</td>\n",
       "      <td>141172</td>\n",
       "      <td>58654</td>\n",
       "      <td>POLYGON ((346119.127 7399284.114, 346111.907 7...</td>\n",
       "      <td>4.631445e+06</td>\n",
       "      <td>1.375446e+07</td>\n",
       "      <td>0.336723</td>\n",
       "      <td>32.807110</td>\n",
       "    </tr>\n",
       "    <tr>\n",
       "      <th>38</th>\n",
       "      <td>3550308</td>\n",
       "      <td>São Paulo</td>\n",
       "      <td>355030839</td>\n",
       "      <td>JACANA</td>\n",
       "      <td>3501</td>\n",
       "      <td>São Paulo</td>\n",
       "      <td>350001</td>\n",
       "      <td>São Paulo</td>\n",
       "      <td>3550308</td>\n",
       "      <td>São Paulo/SP</td>\n",
       "      <td>7.473932</td>\n",
       "      <td>87329</td>\n",
       "      <td>34705</td>\n",
       "      <td>POLYGON ((339057.719 7403206.175, 339043.253 7...</td>\n",
       "      <td>1.542754e+06</td>\n",
       "      <td>7.472732e+06</td>\n",
       "      <td>0.206451</td>\n",
       "      <td>17.666003</td>\n",
       "    </tr>\n",
       "  </tbody>\n",
       "</table>\n",
       "</div>"
      ],
      "text/plain": [
       "     CD_MUN     NM_MUN    CD_DIST   NM_DIST CD_RGINT   NM_RGINT  CD_RGI  \\\n",
       "17  3550308  São Paulo  355030818  CANGAIBA     3501  São Paulo  350001   \n",
       "38  3550308  São Paulo  355030839    JACANA     3501  São Paulo  350001   \n",
       "\n",
       "       NM_RGI CD_CONCURB    NM_CONCURB   AREA_KM2  total_pop total_dom  \\\n",
       "17  São Paulo    3550308  São Paulo/SP  13.757295     141172     58654   \n",
       "38  São Paulo    3550308  São Paulo/SP   7.473932      87329     34705   \n",
       "\n",
       "                                             geometry  area_dist_cobveg  \\\n",
       "17  POLYGON ((346119.127 7399284.114, 346111.907 7...      4.631445e+06   \n",
       "38  POLYGON ((339057.719 7403206.175, 339043.253 7...      1.542754e+06   \n",
       "\n",
       "    area_distrito  pct_dist_cobveg  cob_veg_per_capita  \n",
       "17   1.375446e+07         0.336723           32.807110  \n",
       "38   7.472732e+06         0.206451           17.666003  "
      ]
     },
     "execution_count": 7,
     "metadata": {},
     "output_type": "execute_result"
    }
   ],
   "source": [
    "gdf_dist_cobveg.sample(2)"
   ]
  },
  {
   "cell_type": "code",
   "execution_count": 8,
   "id": "d6fa12f0-562e-4f5a-938d-b58ac3cb7460",
   "metadata": {},
   "outputs": [
    {
     "data": {
      "text/plain": [
       "0"
      ]
     },
     "execution_count": 8,
     "metadata": {},
     "output_type": "execute_result"
    }
   ],
   "source": [
    "sum(gdf_dist_cobveg['cob_veg_per_capita'].isnull())"
   ]
  },
  {
   "cell_type": "markdown",
   "id": "c4eeb5fb-1637-4c86-afba-1747d0292204",
   "metadata": {},
   "source": [
    "Como precisamos saber qual a unidade de medida, vamos confirmar as informações do crs:"
   ]
  },
  {
   "cell_type": "code",
   "execution_count": 9,
   "id": "3a05da3d-c2e2-448e-86aa-bba30d177c2f",
   "metadata": {},
   "outputs": [
    {
     "data": {
      "text/plain": [
       "<Projected CRS: EPSG:31983>\n",
       "Name: SIRGAS 2000 / UTM zone 23S\n",
       "Axis Info [cartesian]:\n",
       "- E[east]: Easting (metre)\n",
       "- N[north]: Northing (metre)\n",
       "Area of Use:\n",
       "- name: Brazil - between 48°W and 42°W, northern and southern hemispheres, onshore and offshore.\n",
       "- bounds: (-48.0, -33.5, -42.0, 5.13)\n",
       "Coordinate Operation:\n",
       "- name: UTM zone 23S\n",
       "- method: Transverse Mercator\n",
       "Datum: Sistema de Referencia Geocentrico para las AmericaS 2000\n",
       "- Ellipsoid: GRS 1980\n",
       "- Prime Meridian: Greenwich"
      ]
     },
     "execution_count": 9,
     "metadata": {},
     "output_type": "execute_result"
    }
   ],
   "source": [
    "gdf_dist_cobveg.crs"
   ]
  },
  {
   "cell_type": "markdown",
   "id": "063be365-d5a7-4359-97dd-c9932000093c",
   "metadata": {},
   "source": [
    "Segundo as informações da projeção, a unidade é em metros e não há a necessidade de alterar."
   ]
  },
  {
   "cell_type": "code",
   "execution_count": 10,
   "id": "dd2ca587-61b7-44f5-bc60-40580895e632",
   "metadata": {},
   "outputs": [
    {
     "name": "stdout",
     "output_type": "stream",
     "text": [
      "MARSILAC é o distrito com a maior área de cobertura vegetal per capita: 17598.75 m²/hab\n"
     ]
    }
   ],
   "source": [
    "max_pct=gdf_dist_cobveg['cob_veg_per_capita'].max()\n",
    "max_name=gdf_dist_cobveg['NM_DIST'].loc[gdf_dist_cobveg['cob_veg_per_capita']==max_pct].iloc[0]\n",
    "print(f'{max_name} é o distrito com a maior área de cobertura vegetal per capita: {round (max_pct, 2)} m²/hab')"
   ]
  },
  {
   "cell_type": "code",
   "execution_count": 11,
   "id": "d73e7481-032f-49f8-b3a5-60d43504caa6",
   "metadata": {},
   "outputs": [
    {
     "name": "stdout",
     "output_type": "stream",
     "text": [
      "REPUBLICA é o distrito com a menor porcentagem de cobertura vegetal: 4.61 m²/hab\n"
     ]
    }
   ],
   "source": [
    "min_pct=gdf_dist_cobveg['cob_veg_per_capita'].min()\n",
    "min_name = gdf_dist_cobveg['NM_DIST'].loc[gdf_dist_cobveg['cob_veg_per_capita']==min_pct].iloc[0]\n",
    "print(f'{min_name} é o distrito com a menor porcentagem de cobertura vegetal: {round(min_pct, 2)} m²/hab')"
   ]
  },
  {
   "cell_type": "markdown",
   "id": "c546da95-82e2-4e04-820a-9d0e978a8995",
   "metadata": {},
   "source": [
    "# Salvar gdf"
   ]
  },
  {
   "cell_type": "code",
   "execution_count": 12,
   "id": "6e388826-ee80-44df-b7e6-4ec3b5a56246",
   "metadata": {},
   "outputs": [],
   "source": [
    "save_parquet_excel(\n",
    "    gdf_dist_cobveg, \n",
    "    fname= 'cobertura_vegetal_per_capita',\n",
    "    data_path = data_path,\n",
    "    data_subpath = os.path.join(\n",
    "        'assets',\n",
    "        'cobertura_vegetal'\n",
    "    )\n",
    ")"
   ]
  }
 ],
 "metadata": {
  "kernelspec": {
   "display_name": "Python 3 (ipykernel)",
   "language": "python",
   "name": "python3"
  },
  "language_info": {
   "codemirror_mode": {
    "name": "ipython",
    "version": 3
   },
   "file_extension": ".py",
   "mimetype": "text/x-python",
   "name": "python",
   "nbconvert_exporter": "python",
   "pygments_lexer": "ipython3",
   "version": "3.12.4"
  }
 },
 "nbformat": 4,
 "nbformat_minor": 5
}
