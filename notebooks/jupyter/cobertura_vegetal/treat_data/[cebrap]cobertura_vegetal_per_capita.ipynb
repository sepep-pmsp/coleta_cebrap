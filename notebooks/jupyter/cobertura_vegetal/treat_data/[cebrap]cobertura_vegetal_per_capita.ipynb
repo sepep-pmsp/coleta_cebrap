{
 "cells": [
  {
   "cell_type": "code",
   "execution_count": 1,
   "id": "4d5d09cb-cc80-430d-a4bf-e457c697279b",
   "metadata": {},
   "outputs": [],
   "source": [
    "from directory_cobveg_treat import definir_diretorio\n",
    "project_path=definir_diretorio()\n",
    "\n",
    "import os\n",
    "import geopandas as gpd\n",
    "\n",
    "from utils import (\n",
    "    get_data_diretorio,\n",
    "    save_parquet_excel\n",
    ")"
   ]
  },
  {
   "cell_type": "markdown",
   "id": "a649e9f8-0249-4c02-af92-6763e55860f7",
   "metadata": {},
   "source": [
    "# Cobertura Vegetal por habitante (m²/hab)"
   ]
  },
  {
   "cell_type": "code",
   "execution_count": 2,
   "id": "db810e49-b0b0-4bf7-993c-a68ebd5a4a09",
   "metadata": {},
   "outputs": [],
   "source": [
    "data_path = get_data_diretorio(project_path)"
   ]
  },
  {
   "cell_type": "markdown",
   "id": "63b442ea-1db4-49d1-85a1-8dcf236fb455",
   "metadata": {},
   "source": [
    "# Dependências"
   ]
  },
  {
   "cell_type": "markdown",
   "id": "43407009-0f8b-4c6a-8598-3849596e669b",
   "metadata": {},
   "source": [
    "Este notebook é dependente do asset resultante do notebook '[cebrap]cobertura_vegetal_por_distrito'"
   ]
  },
  {
   "cell_type": "code",
   "execution_count": 3,
   "id": "1d64e55d-1adc-4536-a93a-f8fcee7e60df",
   "metadata": {},
   "outputs": [],
   "source": [
    "dist_cobveg_path = os.path.join(\n",
    "    data_path,\n",
    "    'assets',\n",
    "    'cobertura_vegetal', \n",
    "    'distritos_cobertura_vegetal.parquet'\n",
    ")\n",
    "gdf_dist_cobveg = gpd.read_parquet(\n",
    "    dist_cobveg_path\n",
    ")"
   ]
  },
  {
   "cell_type": "markdown",
   "id": "e5eaeca6-e7d5-4a29-b544-0e51c3b1183b",
   "metadata": {},
   "source": [
    "?? -> o resultado de gdf['geometry'].area é m² mesmo, né?"
   ]
  },
  {
   "cell_type": "markdown",
   "id": "8f870857-c3ac-4a1f-801f-41b01899fa25",
   "metadata": {},
   "source": [
    "# Cálculo per capita (m²/hab)"
   ]
  },
  {
   "cell_type": "code",
   "execution_count": 4,
   "id": "2f480768-804b-4279-934f-fdc97fe0bbb4",
   "metadata": {},
   "outputs": [
    {
     "data": {
      "text/html": [
       "<div>\n",
       "<style scoped>\n",
       "    .dataframe tbody tr th:only-of-type {\n",
       "        vertical-align: middle;\n",
       "    }\n",
       "\n",
       "    .dataframe tbody tr th {\n",
       "        vertical-align: top;\n",
       "    }\n",
       "\n",
       "    .dataframe thead th {\n",
       "        text-align: right;\n",
       "    }\n",
       "</style>\n",
       "<table border=\"1\" class=\"dataframe\">\n",
       "  <thead>\n",
       "    <tr style=\"text-align: right;\">\n",
       "      <th></th>\n",
       "      <th>CD_REGIAO</th>\n",
       "      <th>NM_REGIAO</th>\n",
       "      <th>CD_UF</th>\n",
       "      <th>NM_UF</th>\n",
       "      <th>CD_MUN</th>\n",
       "      <th>NM_MUN</th>\n",
       "      <th>CD_DIST</th>\n",
       "      <th>NM_DIST</th>\n",
       "      <th>CD_RGINT</th>\n",
       "      <th>NM_RGINT</th>\n",
       "      <th>...</th>\n",
       "      <th>NM_RGI</th>\n",
       "      <th>CD_CONCURB</th>\n",
       "      <th>NM_CONCURB</th>\n",
       "      <th>AREA_KM2</th>\n",
       "      <th>total_pop</th>\n",
       "      <th>total_dom</th>\n",
       "      <th>geometry</th>\n",
       "      <th>area_dist_cobveg</th>\n",
       "      <th>area_distrito</th>\n",
       "      <th>pct_dist_cobveg</th>\n",
       "    </tr>\n",
       "  </thead>\n",
       "  <tbody>\n",
       "    <tr>\n",
       "      <th>25</th>\n",
       "      <td>3</td>\n",
       "      <td>Sudeste</td>\n",
       "      <td>35</td>\n",
       "      <td>São Paulo</td>\n",
       "      <td>3550308</td>\n",
       "      <td>São Paulo</td>\n",
       "      <td>355030826</td>\n",
       "      <td>CONSOLACAO</td>\n",
       "      <td>3501</td>\n",
       "      <td>São Paulo</td>\n",
       "      <td>...</td>\n",
       "      <td>São Paulo</td>\n",
       "      <td>3550308</td>\n",
       "      <td>São Paulo/SP</td>\n",
       "      <td>3.786948</td>\n",
       "      <td>53144</td>\n",
       "      <td>35777</td>\n",
       "      <td>POLYGON ((331116.481 7395552.671, 331137.408 7...</td>\n",
       "      <td>1.049232e+06</td>\n",
       "      <td>3.786605e+06</td>\n",
       "      <td>0.277090</td>\n",
       "    </tr>\n",
       "    <tr>\n",
       "      <th>0</th>\n",
       "      <td>3</td>\n",
       "      <td>Sudeste</td>\n",
       "      <td>35</td>\n",
       "      <td>São Paulo</td>\n",
       "      <td>3550308</td>\n",
       "      <td>São Paulo</td>\n",
       "      <td>355030801</td>\n",
       "      <td>AGUA RASA</td>\n",
       "      <td>3501</td>\n",
       "      <td>São Paulo</td>\n",
       "      <td>...</td>\n",
       "      <td>São Paulo</td>\n",
       "      <td>3550308</td>\n",
       "      <td>São Paulo/SP</td>\n",
       "      <td>7.134883</td>\n",
       "      <td>85788</td>\n",
       "      <td>41161</td>\n",
       "      <td>POLYGON ((339574.362 7391448.736, 339568.669 7...</td>\n",
       "      <td>6.492151e+05</td>\n",
       "      <td>7.133711e+06</td>\n",
       "      <td>0.091007</td>\n",
       "    </tr>\n",
       "  </tbody>\n",
       "</table>\n",
       "<p>2 rows × 21 columns</p>\n",
       "</div>"
      ],
      "text/plain": [
       "   CD_REGIAO NM_REGIAO CD_UF      NM_UF   CD_MUN     NM_MUN    CD_DIST  \\\n",
       "25         3   Sudeste    35  São Paulo  3550308  São Paulo  355030826   \n",
       "0          3   Sudeste    35  São Paulo  3550308  São Paulo  355030801   \n",
       "\n",
       "       NM_DIST CD_RGINT   NM_RGINT  ...     NM_RGI CD_CONCURB    NM_CONCURB  \\\n",
       "25  CONSOLACAO     3501  São Paulo  ...  São Paulo    3550308  São Paulo/SP   \n",
       "0    AGUA RASA     3501  São Paulo  ...  São Paulo    3550308  São Paulo/SP   \n",
       "\n",
       "    AREA_KM2  total_pop  total_dom  \\\n",
       "25  3.786948      53144      35777   \n",
       "0   7.134883      85788      41161   \n",
       "\n",
       "                                             geometry area_dist_cobveg  \\\n",
       "25  POLYGON ((331116.481 7395552.671, 331137.408 7...     1.049232e+06   \n",
       "0   POLYGON ((339574.362 7391448.736, 339568.669 7...     6.492151e+05   \n",
       "\n",
       "    area_distrito  pct_dist_cobveg  \n",
       "25   3.786605e+06         0.277090  \n",
       "0    7.133711e+06         0.091007  \n",
       "\n",
       "[2 rows x 21 columns]"
      ]
     },
     "execution_count": 4,
     "metadata": {},
     "output_type": "execute_result"
    }
   ],
   "source": [
    "gdf_dist_cobveg.sample(2)"
   ]
  },
  {
   "cell_type": "code",
   "execution_count": 5,
   "id": "e57e1fe2-a8b5-4993-b294-e0718b7ebaaf",
   "metadata": {},
   "outputs": [],
   "source": [
    "gdf_dist_cobveg['cob_veg_per_capita'] = (\n",
    "    gdf_dist_cobveg['area_dist_cobveg']/gdf_dist_cobveg['total_pop']\n",
    ")"
   ]
  },
  {
   "cell_type": "code",
   "execution_count": 6,
   "id": "2aec7bbf-7440-4417-ac03-45894a6cb8ae",
   "metadata": {},
   "outputs": [
    {
     "data": {
      "text/html": [
       "<div>\n",
       "<style scoped>\n",
       "    .dataframe tbody tr th:only-of-type {\n",
       "        vertical-align: middle;\n",
       "    }\n",
       "\n",
       "    .dataframe tbody tr th {\n",
       "        vertical-align: top;\n",
       "    }\n",
       "\n",
       "    .dataframe thead th {\n",
       "        text-align: right;\n",
       "    }\n",
       "</style>\n",
       "<table border=\"1\" class=\"dataframe\">\n",
       "  <thead>\n",
       "    <tr style=\"text-align: right;\">\n",
       "      <th></th>\n",
       "      <th>CD_REGIAO</th>\n",
       "      <th>NM_REGIAO</th>\n",
       "      <th>CD_UF</th>\n",
       "      <th>NM_UF</th>\n",
       "      <th>CD_MUN</th>\n",
       "      <th>NM_MUN</th>\n",
       "      <th>CD_DIST</th>\n",
       "      <th>NM_DIST</th>\n",
       "      <th>CD_RGINT</th>\n",
       "      <th>NM_RGINT</th>\n",
       "      <th>...</th>\n",
       "      <th>CD_CONCURB</th>\n",
       "      <th>NM_CONCURB</th>\n",
       "      <th>AREA_KM2</th>\n",
       "      <th>total_pop</th>\n",
       "      <th>total_dom</th>\n",
       "      <th>geometry</th>\n",
       "      <th>area_dist_cobveg</th>\n",
       "      <th>area_distrito</th>\n",
       "      <th>pct_dist_cobveg</th>\n",
       "      <th>cob_veg_per_capita</th>\n",
       "    </tr>\n",
       "  </thead>\n",
       "  <tbody>\n",
       "    <tr>\n",
       "      <th>23</th>\n",
       "      <td>3</td>\n",
       "      <td>Sudeste</td>\n",
       "      <td>35</td>\n",
       "      <td>São Paulo</td>\n",
       "      <td>3550308</td>\n",
       "      <td>São Paulo</td>\n",
       "      <td>355030824</td>\n",
       "      <td>CIDADE LIDER</td>\n",
       "      <td>3501</td>\n",
       "      <td>São Paulo</td>\n",
       "      <td>...</td>\n",
       "      <td>3550308</td>\n",
       "      <td>São Paulo/SP</td>\n",
       "      <td>10.558185</td>\n",
       "      <td>136660</td>\n",
       "      <td>54530</td>\n",
       "      <td>POLYGON ((347490.062 7391594.735, 347468.66 73...</td>\n",
       "      <td>2.272720e+06</td>\n",
       "      <td>1.055578e+07</td>\n",
       "      <td>0.215306</td>\n",
       "      <td>16.630469</td>\n",
       "    </tr>\n",
       "    <tr>\n",
       "      <th>67</th>\n",
       "      <td>3</td>\n",
       "      <td>Sudeste</td>\n",
       "      <td>35</td>\n",
       "      <td>São Paulo</td>\n",
       "      <td>3550308</td>\n",
       "      <td>São Paulo</td>\n",
       "      <td>355030868</td>\n",
       "      <td>SACOMA</td>\n",
       "      <td>3501</td>\n",
       "      <td>São Paulo</td>\n",
       "      <td>...</td>\n",
       "      <td>3550308</td>\n",
       "      <td>São Paulo/SP</td>\n",
       "      <td>14.610797</td>\n",
       "      <td>261436</td>\n",
       "      <td>113894</td>\n",
       "      <td>POLYGON ((338605.158 7385601.06, 338598.678 73...</td>\n",
       "      <td>2.575763e+06</td>\n",
       "      <td>1.460870e+07</td>\n",
       "      <td>0.176317</td>\n",
       "      <td>9.852364</td>\n",
       "    </tr>\n",
       "  </tbody>\n",
       "</table>\n",
       "<p>2 rows × 22 columns</p>\n",
       "</div>"
      ],
      "text/plain": [
       "   CD_REGIAO NM_REGIAO CD_UF      NM_UF   CD_MUN     NM_MUN    CD_DIST  \\\n",
       "23         3   Sudeste    35  São Paulo  3550308  São Paulo  355030824   \n",
       "67         3   Sudeste    35  São Paulo  3550308  São Paulo  355030868   \n",
       "\n",
       "         NM_DIST CD_RGINT   NM_RGINT  ... CD_CONCURB    NM_CONCURB   AREA_KM2  \\\n",
       "23  CIDADE LIDER     3501  São Paulo  ...    3550308  São Paulo/SP  10.558185   \n",
       "67        SACOMA     3501  São Paulo  ...    3550308  São Paulo/SP  14.610797   \n",
       "\n",
       "   total_pop  total_dom                                           geometry  \\\n",
       "23    136660      54530  POLYGON ((347490.062 7391594.735, 347468.66 73...   \n",
       "67    261436     113894  POLYGON ((338605.158 7385601.06, 338598.678 73...   \n",
       "\n",
       "   area_dist_cobveg area_distrito  pct_dist_cobveg  cob_veg_per_capita  \n",
       "23     2.272720e+06  1.055578e+07         0.215306           16.630469  \n",
       "67     2.575763e+06  1.460870e+07         0.176317            9.852364  \n",
       "\n",
       "[2 rows x 22 columns]"
      ]
     },
     "execution_count": 6,
     "metadata": {},
     "output_type": "execute_result"
    }
   ],
   "source": [
    "gdf_dist_cobveg.sample(2)"
   ]
  },
  {
   "cell_type": "code",
   "execution_count": 7,
   "id": "d6fa12f0-562e-4f5a-938d-b58ac3cb7460",
   "metadata": {},
   "outputs": [
    {
     "data": {
      "text/plain": [
       "0"
      ]
     },
     "execution_count": 7,
     "metadata": {},
     "output_type": "execute_result"
    }
   ],
   "source": [
    "sum(gdf_dist_cobveg['cob_veg_per_capita'].isnull())"
   ]
  },
  {
   "cell_type": "markdown",
   "id": "c4eeb5fb-1637-4c86-afba-1747d0292204",
   "metadata": {},
   "source": [
    "Como precisamos saber qual a unidade de medida, vamos confirmar as informações do crs:"
   ]
  },
  {
   "cell_type": "code",
   "execution_count": 8,
   "id": "3a05da3d-c2e2-448e-86aa-bba30d177c2f",
   "metadata": {},
   "outputs": [
    {
     "data": {
      "text/plain": [
       "<Projected CRS: EPSG:31983>\n",
       "Name: SIRGAS 2000 / UTM zone 23S\n",
       "Axis Info [cartesian]:\n",
       "- E[east]: Easting (metre)\n",
       "- N[north]: Northing (metre)\n",
       "Area of Use:\n",
       "- name: Brazil - between 48°W and 42°W, northern and southern hemispheres, onshore and offshore.\n",
       "- bounds: (-48.0, -33.5, -42.0, 5.13)\n",
       "Coordinate Operation:\n",
       "- name: UTM zone 23S\n",
       "- method: Transverse Mercator\n",
       "Datum: Sistema de Referencia Geocentrico para las AmericaS 2000\n",
       "- Ellipsoid: GRS 1980\n",
       "- Prime Meridian: Greenwich"
      ]
     },
     "execution_count": 8,
     "metadata": {},
     "output_type": "execute_result"
    }
   ],
   "source": [
    "gdf_dist_cobveg.crs"
   ]
  },
  {
   "cell_type": "markdown",
   "id": "063be365-d5a7-4359-97dd-c9932000093c",
   "metadata": {},
   "source": [
    "Segundo as informações da projeção, a unidade é em metros e não há a necessidade de alterar."
   ]
  },
  {
   "cell_type": "code",
   "execution_count": 9,
   "id": "dd2ca587-61b7-44f5-bc60-40580895e632",
   "metadata": {},
   "outputs": [
    {
     "name": "stdout",
     "output_type": "stream",
     "text": [
      "MARSILAC é o distrito com a maior área de cobertura vegetal per capita: 17598.75 m²/hab\n"
     ]
    }
   ],
   "source": [
    "max_pct=gdf_dist_cobveg['cob_veg_per_capita'].max()\n",
    "max_name=gdf_dist_cobveg['NM_DIST'].loc[gdf_dist_cobveg['cob_veg_per_capita']==max_pct].iloc[0]\n",
    "print(f'{max_name} é o distrito com a maior área de cobertura vegetal per capita: {round (max_pct, 2)} m²/hab')"
   ]
  },
  {
   "cell_type": "code",
   "execution_count": 10,
   "id": "d73e7481-032f-49f8-b3a5-60d43504caa6",
   "metadata": {},
   "outputs": [
    {
     "name": "stdout",
     "output_type": "stream",
     "text": [
      "REPUBLICA é o distrito com a menor porcentagem de cobertura vegetal: 4.61 m²/hab\n"
     ]
    }
   ],
   "source": [
    "min_pct=gdf_dist_cobveg['cob_veg_per_capita'].min()\n",
    "min_name = gdf_dist_cobveg['NM_DIST'].loc[gdf_dist_cobveg['cob_veg_per_capita']==min_pct].iloc[0]\n",
    "print(f'{min_name} é o distrito com a menor porcentagem de cobertura vegetal: {round(min_pct, 2)} m²/hab')"
   ]
  },
  {
   "cell_type": "markdown",
   "id": "c546da95-82e2-4e04-820a-9d0e978a8995",
   "metadata": {},
   "source": [
    "# Salvar gdf"
   ]
  },
  {
   "cell_type": "code",
   "execution_count": 11,
   "id": "6e388826-ee80-44df-b7e6-4ec3b5a56246",
   "metadata": {},
   "outputs": [],
   "source": [
    "save_parquet_excel(\n",
    "    gdf_dist_cobveg, \n",
    "    fname= 'cobertura_vegetal_per_capita',\n",
    "    data_path = data_path,\n",
    "    data_subpath = os.path.join(\n",
    "        'assets',\n",
    "        'cobertura_vegetal'\n",
    "    )\n",
    ")"
   ]
  }
 ],
 "metadata": {
  "kernelspec": {
   "display_name": "Python 3 (ipykernel)",
   "language": "python",
   "name": "python3"
  },
  "language_info": {
   "codemirror_mode": {
    "name": "ipython",
    "version": 3
   },
   "file_extension": ".py",
   "mimetype": "text/x-python",
   "name": "python",
   "nbconvert_exporter": "python",
   "pygments_lexer": "ipython3",
   "version": "3.12.4"
  }
 },
 "nbformat": 4,
 "nbformat_minor": 5
}
