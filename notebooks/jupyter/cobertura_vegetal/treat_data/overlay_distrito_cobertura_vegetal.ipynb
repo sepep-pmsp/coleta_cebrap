{
 "cells": [
  {
   "cell_type": "code",
   "execution_count": 1,
   "id": "5dc59baf-0280-4ffe-a2d6-cbceafdd8cb5",
   "metadata": {},
   "outputs": [],
   "source": [
    "from directory_cobveg_treat import definir_diretorio\n",
    "project_path = definir_diretorio()\n",
    "\n",
    "import os\n",
    "import geopandas as gpd\n",
    "\n",
    "from utils import (\n",
    "    get_data_diretorio,\n",
    "    save_parquet_excel,\n",
    ")"
   ]
  },
  {
   "cell_type": "markdown",
   "id": "0810be07-e91e-47ea-a084-77a9f6ba57ca",
   "metadata": {},
   "source": [
    "# Overlay Intersection entre área de Cobertura Vegetal e Distritos"
   ]
  },
  {
   "cell_type": "code",
   "execution_count": 2,
   "id": "db810e49-b0b0-4bf7-993c-a68ebd5a4a09",
   "metadata": {},
   "outputs": [],
   "source": [
    "data_path = get_data_diretorio(project_path)"
   ]
  },
  {
   "cell_type": "markdown",
   "id": "63b442ea-1db4-49d1-85a1-8dcf236fb455",
   "metadata": {},
   "source": [
    "# Dependências"
   ]
  },
  {
   "cell_type": "markdown",
   "id": "43407009-0f8b-4c6a-8598-3849596e669b",
   "metadata": {},
   "source": [
    "Este notebook é dependente dos assets resultantes dos notebooks ../../arborizacao_viaria/carregar_dados/malha_distritos e load_data/malha_cobertura_vegetal"
   ]
  },
  {
   "cell_type": "code",
   "execution_count": 3,
   "id": "161c0c9c",
   "metadata": {},
   "outputs": [],
   "source": [
    "cobveg_path = os.path.join(\n",
    "    data_path, \n",
    "    'assets', \n",
    "    'malha_cobertura_vegetal.parquet'\n",
    ")\n",
    "gdf_cobveg = gpd.read_parquet(cobveg_path)"
   ]
  },
  {
   "cell_type": "code",
   "execution_count": 4,
   "id": "4dea64cf-1f08-45d1-9ad1-bf99bb5d6cf5",
   "metadata": {},
   "outputs": [],
   "source": [
    "distritos_path = os.path.join(data_path, 'assets', 'distrito_ibge.parquet')\n",
    "gdf_distritos = gpd.read_parquet(distritos_path)"
   ]
  },
  {
   "cell_type": "markdown",
   "id": "4e77f3f2-1ebe-4754-ba87-e00e6daa24a2",
   "metadata": {},
   "source": [
    "# Orvelay cobertura vegetal por Distrito"
   ]
  },
  {
   "cell_type": "code",
   "execution_count": 5,
   "id": "10c332de-680c-451a-a04a-5d4f442643a7",
   "metadata": {},
   "outputs": [
    {
     "data": {
      "text/html": [
       "<div>\n",
       "<style scoped>\n",
       "    .dataframe tbody tr th:only-of-type {\n",
       "        vertical-align: middle;\n",
       "    }\n",
       "\n",
       "    .dataframe tbody tr th {\n",
       "        vertical-align: top;\n",
       "    }\n",
       "\n",
       "    .dataframe thead th {\n",
       "        text-align: right;\n",
       "    }\n",
       "</style>\n",
       "<table border=\"1\" class=\"dataframe\">\n",
       "  <thead>\n",
       "    <tr style=\"text-align: right;\">\n",
       "      <th></th>\n",
       "      <th>cd_cob_veg</th>\n",
       "      <th>cd_identi0</th>\n",
       "      <th>cd_categor</th>\n",
       "      <th>cd_subcate</th>\n",
       "      <th>cd_subcat0</th>\n",
       "      <th>qt_altura_</th>\n",
       "      <th>geometry</th>\n",
       "    </tr>\n",
       "  </thead>\n",
       "  <tbody>\n",
       "    <tr>\n",
       "      <th>58534</th>\n",
       "      <td>58535.0</td>\n",
       "      <td>58708.0</td>\n",
       "      <td>13.0</td>\n",
       "      <td>0.0</td>\n",
       "      <td>0.0</td>\n",
       "      <td>0.0</td>\n",
       "      <td>POLYGON ((326007.352 7398349.262, 326007.91 73...</td>\n",
       "    </tr>\n",
       "    <tr>\n",
       "      <th>184606</th>\n",
       "      <td>184607.0</td>\n",
       "      <td>185084.0</td>\n",
       "      <td>14.0</td>\n",
       "      <td>0.0</td>\n",
       "      <td>0.0</td>\n",
       "      <td>0.0</td>\n",
       "      <td>POLYGON ((330065.919 7380123.25, 330064.044 73...</td>\n",
       "    </tr>\n",
       "  </tbody>\n",
       "</table>\n",
       "</div>"
      ],
      "text/plain": [
       "        cd_cob_veg  cd_identi0  cd_categor  cd_subcate  cd_subcat0  \\\n",
       "58534      58535.0     58708.0        13.0         0.0         0.0   \n",
       "184606    184607.0    185084.0        14.0         0.0         0.0   \n",
       "\n",
       "        qt_altura_                                           geometry  \n",
       "58534          0.0  POLYGON ((326007.352 7398349.262, 326007.91 73...  \n",
       "184606         0.0  POLYGON ((330065.919 7380123.25, 330064.044 73...  "
      ]
     },
     "execution_count": 5,
     "metadata": {},
     "output_type": "execute_result"
    }
   ],
   "source": [
    "gdf_cobveg.sample(2)"
   ]
  },
  {
   "cell_type": "markdown",
   "id": "a71564bc-eae5-4f02-a232-7cab17eedb41",
   "metadata": {},
   "source": [
    "Como podemos ver na coluna de geometria, as áreas de cobertura vegetal são polígonos. Para calcular corretamente a quantidade de área verde por distritos, precisamos usar uma função chamada 'overlay intersection'."
   ]
  },
  {
   "cell_type": "markdown",
   "id": "ee1fd798-34b2-4286-bd7b-ca5780b32053",
   "metadata": {},
   "source": [
    "Iniciamos registrado valor de cada polígono ANTES do processo de recorte com o overlay."
   ]
  },
  {
   "cell_type": "code",
   "execution_count": 6,
   "id": "f77fef9b-dca1-41c8-b17a-b8d1272750ef",
   "metadata": {},
   "outputs": [],
   "source": [
    "gdf_cobveg['area_cob_veg']=gdf_cobveg['geometry'].area"
   ]
  },
  {
   "cell_type": "markdown",
   "id": "3c663357-5a92-4407-b100-de9480140e0a",
   "metadata": {},
   "source": [
    "Agora utilizaremos a função do overlay:"
   ]
  },
  {
   "cell_type": "code",
   "execution_count": null,
   "id": "0fab57c5-907a-4a5c-a7b6-e554986fa93e",
   "metadata": {},
   "outputs": [],
   "source": [
    "overlay_gdf = gpd.overlay(\n",
    "    gdf_cobveg,\n",
    "    gdf_distritos,\n",
    "    how = 'intersection',\n",
    "    keep_geom_type=True\n",
    ")"
   ]
  },
  {
   "cell_type": "markdown",
   "id": "cd7f1b5b-6c5e-4d27-93e7-145b74958474",
   "metadata": {},
   "source": [
    "Com esta função, caso um polígono de cobertura vegetal esteja dividido entre 2 ou mais distritos, eles serão divididos em diferente polígonos, recortados segundo os limites dos distritos. Mas, como os index (cd_cob_veg) se manterão, ainda poderemos saber quais poligonos correspondem a um poligono de cobertura vegetal anterior ao overlay."
   ]
  },
  {
   "cell_type": "code",
   "execution_count": null,
   "id": "9aa28286-fa82-4aa4-8925-81505af06ca0",
   "metadata": {},
   "outputs": [],
   "source": [
    "overlay_gdf['area_recort'] = overlay_gdf['geometry'].area\n",
    "overlay_gdf['perc_recort'] = overlay_gdf['area_recort']/overlay_gdf['area_cob_veg']"
   ]
  },
  {
   "cell_type": "code",
   "execution_count": null,
   "id": "7b8b1980-cea9-41f5-b7aa-ae487acccb7f",
   "metadata": {},
   "outputs": [],
   "source": [
    "overlay_gdf.sample(2)"
   ]
  },
  {
   "cell_type": "code",
   "execution_count": null,
   "id": "e3d9047e-c5fa-430d-a34f-7a3f1e401d29",
   "metadata": {},
   "outputs": [],
   "source": [
    "gdf_cobveg['cd_cob_veg'].unique().shape"
   ]
  },
  {
   "cell_type": "code",
   "execution_count": null,
   "id": "1e0be0cb-24d1-44a8-9fa2-56906ccbf037",
   "metadata": {},
   "outputs": [],
   "source": [
    "overlay_gdf['cd_cob_veg'].unique().shape"
   ]
  },
  {
   "cell_type": "code",
   "execution_count": null,
   "id": "9b009687-bd31-460e-91d8-7645c02d05be",
   "metadata": {},
   "outputs": [],
   "source": [
    "poligonos_omitidos = gdf_cobveg.loc[~gdf_cobveg['cd_cob_veg'].isin(overlay_gdf['cd_cob_veg'])]"
   ]
  },
  {
   "cell_type": "code",
   "execution_count": null,
   "id": "f68365eb-bd5f-47cb-a898-601474301e30",
   "metadata": {},
   "outputs": [],
   "source": [
    "poligonos_omitidos.shape"
   ]
  },
  {
   "cell_type": "code",
   "execution_count": null,
   "id": "c528c834-9294-4146-be74-08919d7de0f2",
   "metadata": {
    "scrolled": true
   },
   "outputs": [],
   "source": [
    "m = gdf_distritos.explore(color='pink', fillOpacity=0.1)\n",
    "poligonos_omitidos.explore(\n",
    "    m=m,\n",
    "    color='aquamarine'\n",
    ")"
   ]
  },
  {
   "cell_type": "markdown",
   "id": "33638aea-078e-4c61-bde8-922f7e7cd7be",
   "metadata": {},
   "source": [
    "As 465 áreas de cobertura vegetal que foram omitidas estão fora dos limites dos distritos e, portanto, do município. Por conta disos, optamos por não adicioná-los no cálculo, mantendo-os de fora do overlay."
   ]
  },
  {
   "cell_type": "markdown",
   "id": "c546da95-82e2-4e04-820a-9d0e978a8995",
   "metadata": {},
   "source": [
    "# Salvar gdf"
   ]
  },
  {
   "cell_type": "code",
   "execution_count": null,
   "id": "6e388826-ee80-44df-b7e6-4ec3b5a56246",
   "metadata": {},
   "outputs": [],
   "source": [
    "save_parquet_excel(\n",
    "    gdf_distritos, \n",
    "    fname= 'overlay_cobertura_vegetal_distritos',\n",
    "    data_path = data_path,\n",
    "    data_subpath = os.path.join(\n",
    "        'assets',\n",
    "        'cobertura_vegetal'\n",
    "    )\n",
    ")"
   ]
  }
 ],
 "metadata": {
  "kernelspec": {
   "display_name": "Python 3 (ipykernel)",
   "language": "python",
   "name": "python3"
  },
  "language_info": {
   "codemirror_mode": {
    "name": "ipython",
    "version": 3
   },
   "file_extension": ".py",
   "mimetype": "text/x-python",
   "name": "python",
   "nbconvert_exporter": "python",
   "pygments_lexer": "ipython3",
   "version": "3.12.4"
  }
 },
 "nbformat": 4,
 "nbformat_minor": 5
}
