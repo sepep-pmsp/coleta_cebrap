{
 "cells": [
  {
   "cell_type": "code",
   "execution_count": 1,
   "id": "f9fdeda9-45be-4aad-806a-e90052ce2a12",
   "metadata": {},
   "outputs": [
    {
     "name": "stdout",
     "output_type": "stream",
     "text": [
      "O diretorio do seu projeto é coleta_cebrap\n",
      "Caminho absoluto do diretorio encontrado C:\\Users\\x526378\\Desktop\\projetos\\cebrap\\coleta_cebrap\n",
      "Caminho no path.\n"
     ]
    }
   ],
   "source": [
    "from configuracoes_notebooks import set_proj_dir\n",
    "set_proj_dir()"
   ]
  },
  {
   "cell_type": "code",
   "execution_count": 2,
   "id": "5dc59baf-0280-4ffe-a2d6-cbceafdd8cb5",
   "metadata": {},
   "outputs": [],
   "source": [
    "import os\n",
    "import geopandas as gpd\n",
    "\n",
    "from notebooks.jupyter import utils\n",
    "from utils import (\n",
    "    get_data_diretorio,\n",
    "    save_parquet_excel,\n",
    ")"
   ]
  },
  {
   "cell_type": "markdown",
   "id": "a649e9f8-0249-4c02-af92-6763e55860f7",
   "metadata": {},
   "source": [
    "# Porcentagem do distrito com cobertura vegetal"
   ]
  },
  {
   "cell_type": "code",
   "execution_count": 3,
   "id": "db810e49-b0b0-4bf7-993c-a68ebd5a4a09",
   "metadata": {},
   "outputs": [],
   "source": [
    "data_path = get_data_diretorio()"
   ]
  },
  {
   "cell_type": "markdown",
   "id": "63b442ea-1db4-49d1-85a1-8dcf236fb455",
   "metadata": {},
   "source": [
    "# Dependências"
   ]
  },
  {
   "cell_type": "markdown",
   "id": "43407009-0f8b-4c6a-8598-3849596e669b",
   "metadata": {},
   "source": [
    "Este notebook é dependente dos assets resultante dos notebooks 'overlay_distrito_cobertura_vegetal' e '../../arborizacao_viaria/carregar_dados/malha_distritos'"
   ]
  },
  {
   "cell_type": "code",
   "execution_count": 4,
   "id": "161c0c9c",
   "metadata": {},
   "outputs": [],
   "source": [
    "overlay_path = os.path.join(\n",
    "    data_path, \n",
    "    'assets',\n",
    "    'cobertura_vegetal',\n",
    "    'overlay_cobertura_vegetal_distritos.parquet'\n",
    ")\n",
    "overlay_gdf = gpd.read_parquet(overlay_path)"
   ]
  },
  {
   "cell_type": "code",
   "execution_count": 5,
   "id": "9cf87f6c-0776-4153-be45-c23de42c5259",
   "metadata": {},
   "outputs": [
    {
     "data": {
      "text/html": [
       "<div>\n",
       "<style scoped>\n",
       "    .dataframe tbody tr th:only-of-type {\n",
       "        vertical-align: middle;\n",
       "    }\n",
       "\n",
       "    .dataframe tbody tr th {\n",
       "        vertical-align: top;\n",
       "    }\n",
       "\n",
       "    .dataframe thead th {\n",
       "        text-align: right;\n",
       "    }\n",
       "</style>\n",
       "<table border=\"1\" class=\"dataframe\">\n",
       "  <thead>\n",
       "    <tr style=\"text-align: right;\">\n",
       "      <th></th>\n",
       "      <th>cd_cob_veg</th>\n",
       "      <th>cd_identi0</th>\n",
       "      <th>cd_categor</th>\n",
       "      <th>cd_subcate</th>\n",
       "      <th>cd_subcat0</th>\n",
       "      <th>qt_altura_</th>\n",
       "      <th>area_cob_veg</th>\n",
       "      <th>CD_MUN</th>\n",
       "      <th>NM_MUN</th>\n",
       "      <th>CD_DIST</th>\n",
       "      <th>...</th>\n",
       "      <th>CD_RGI</th>\n",
       "      <th>NM_RGI</th>\n",
       "      <th>CD_CONCURB</th>\n",
       "      <th>NM_CONCURB</th>\n",
       "      <th>AREA_KM2</th>\n",
       "      <th>total_pop</th>\n",
       "      <th>total_dom</th>\n",
       "      <th>geometry</th>\n",
       "      <th>area_recort</th>\n",
       "      <th>perc_recort</th>\n",
       "    </tr>\n",
       "  </thead>\n",
       "  <tbody>\n",
       "    <tr>\n",
       "      <th>205815</th>\n",
       "      <td>204013.0</td>\n",
       "      <td>204566.0</td>\n",
       "      <td>13.0</td>\n",
       "      <td>0.0</td>\n",
       "      <td>0.0</td>\n",
       "      <td>0.0</td>\n",
       "      <td>139.368005</td>\n",
       "      <td>3550308</td>\n",
       "      <td>São Paulo</td>\n",
       "      <td>355030837</td>\n",
       "      <td>...</td>\n",
       "      <td>350001</td>\n",
       "      <td>São Paulo</td>\n",
       "      <td>3550308</td>\n",
       "      <td>São Paulo/SP</td>\n",
       "      <td>14.699172</td>\n",
       "      <td>210960</td>\n",
       "      <td>85467</td>\n",
       "      <td>POLYGON ((350518.811 7397160.072, 350519.367 7...</td>\n",
       "      <td>139.368005</td>\n",
       "      <td>1.0</td>\n",
       "    </tr>\n",
       "    <tr>\n",
       "      <th>240792</th>\n",
       "      <td>238829.0</td>\n",
       "      <td>239939.0</td>\n",
       "      <td>11.0</td>\n",
       "      <td>0.0</td>\n",
       "      <td>0.0</td>\n",
       "      <td>0.0</td>\n",
       "      <td>98.716906</td>\n",
       "      <td>3550308</td>\n",
       "      <td>São Paulo</td>\n",
       "      <td>355030820</td>\n",
       "      <td>...</td>\n",
       "      <td>350001</td>\n",
       "      <td>São Paulo</td>\n",
       "      <td>3550308</td>\n",
       "      <td>São Paulo/SP</td>\n",
       "      <td>7.785398</td>\n",
       "      <td>84397</td>\n",
       "      <td>37987</td>\n",
       "      <td>POLYGON ((342003.367 7395421.249, 342006.979 7...</td>\n",
       "      <td>98.716906</td>\n",
       "      <td>1.0</td>\n",
       "    </tr>\n",
       "  </tbody>\n",
       "</table>\n",
       "<p>2 rows × 23 columns</p>\n",
       "</div>"
      ],
      "text/plain": [
       "        cd_cob_veg  cd_identi0  cd_categor  cd_subcate  cd_subcat0  \\\n",
       "205815    204013.0    204566.0        13.0         0.0         0.0   \n",
       "240792    238829.0    239939.0        11.0         0.0         0.0   \n",
       "\n",
       "        qt_altura_  area_cob_veg   CD_MUN     NM_MUN    CD_DIST  ...  CD_RGI  \\\n",
       "205815         0.0    139.368005  3550308  São Paulo  355030837  ...  350001   \n",
       "240792         0.0     98.716906  3550308  São Paulo  355030820  ...  350001   \n",
       "\n",
       "           NM_RGI CD_CONCURB    NM_CONCURB   AREA_KM2 total_pop total_dom  \\\n",
       "205815  São Paulo    3550308  São Paulo/SP  14.699172    210960     85467   \n",
       "240792  São Paulo    3550308  São Paulo/SP   7.785398     84397     37987   \n",
       "\n",
       "                                                 geometry  area_recort  \\\n",
       "205815  POLYGON ((350518.811 7397160.072, 350519.367 7...   139.368005   \n",
       "240792  POLYGON ((342003.367 7395421.249, 342006.979 7...    98.716906   \n",
       "\n",
       "       perc_recort  \n",
       "205815         1.0  \n",
       "240792         1.0  \n",
       "\n",
       "[2 rows x 23 columns]"
      ]
     },
     "execution_count": 5,
     "metadata": {},
     "output_type": "execute_result"
    }
   ],
   "source": [
    "overlay_gdf.sample(2)"
   ]
  },
  {
   "cell_type": "code",
   "execution_count": 6,
   "id": "4dea64cf-1f08-45d1-9ad1-bf99bb5d6cf5",
   "metadata": {},
   "outputs": [],
   "source": [
    "distritos_path = os.path.join(data_path, 'assets', 'distrito_ibge.parquet')\n",
    "gdf_distritos = gpd.read_parquet(distritos_path)"
   ]
  },
  {
   "cell_type": "markdown",
   "id": "568a60de-6222-4b66-930b-4199cdaa74b2",
   "metadata": {},
   "source": [
    "# Merge dos gdfs"
   ]
  },
  {
   "cell_type": "code",
   "execution_count": 7,
   "id": "51aa756a-35fe-481f-9aab-de49542b8066",
   "metadata": {},
   "outputs": [],
   "source": [
    "gdf_dist_cobveg = gdf_distritos.merge(\n",
    "    overlay_gdf[[\n",
    "        'cd_cob_veg',\n",
    "        'area_recort',\n",
    "        'perc_recort',\n",
    "        'CD_DIST'\n",
    "    ]],\n",
    "    on='CD_DIST'\n",
    ")"
   ]
  },
  {
   "cell_type": "code",
   "execution_count": 8,
   "id": "0637c2d4-96f6-426c-9367-996ed713c966",
   "metadata": {},
   "outputs": [
    {
     "data": {
      "text/plain": [
       "(274601, 17)"
      ]
     },
     "execution_count": 8,
     "metadata": {},
     "output_type": "execute_result"
    }
   ],
   "source": [
    "gdf_dist_cobveg.shape"
   ]
  },
  {
   "cell_type": "code",
   "execution_count": 9,
   "id": "02da3e9b-f558-49f5-9dac-5c8c88406f4c",
   "metadata": {},
   "outputs": [
    {
     "data": {
      "text/plain": [
       "(96, 14)"
      ]
     },
     "execution_count": 9,
     "metadata": {},
     "output_type": "execute_result"
    }
   ],
   "source": [
    "gdf_distritos.shape"
   ]
  },
  {
   "cell_type": "markdown",
   "id": "a2b4ae50-34b8-4a45-8476-0af4f06bd293",
   "metadata": {},
   "source": [
    "# Calcular área de cobertura vegetal por distrito"
   ]
  },
  {
   "cell_type": "code",
   "execution_count": 10,
   "id": "e7c350b7-f13e-42b5-99d5-3c72aee11623",
   "metadata": {},
   "outputs": [],
   "source": [
    "for distrito in gdf_distritos['CD_DIST']:\n",
    "    area_cobveg = sum(\n",
    "            gdf_dist_cobveg['area_recort']\n",
    "            .loc[gdf_dist_cobveg['CD_DIST']==distrito]\n",
    "    )\n",
    "    \n",
    "    (gdf_distritos\n",
    "        .loc[\n",
    "            gdf_distritos['CD_DIST']==distrito, \n",
    "            'area_dist_cobveg'\n",
    "        ])= area_cobveg"
   ]
  },
  {
   "cell_type": "code",
   "execution_count": 11,
   "id": "0b99e835-654a-4215-9fb5-bddfeb85db24",
   "metadata": {},
   "outputs": [
    {
     "data": {
      "text/html": [
       "<div>\n",
       "<style scoped>\n",
       "    .dataframe tbody tr th:only-of-type {\n",
       "        vertical-align: middle;\n",
       "    }\n",
       "\n",
       "    .dataframe tbody tr th {\n",
       "        vertical-align: top;\n",
       "    }\n",
       "\n",
       "    .dataframe thead th {\n",
       "        text-align: right;\n",
       "    }\n",
       "</style>\n",
       "<table border=\"1\" class=\"dataframe\">\n",
       "  <thead>\n",
       "    <tr style=\"text-align: right;\">\n",
       "      <th></th>\n",
       "      <th>CD_MUN</th>\n",
       "      <th>NM_MUN</th>\n",
       "      <th>CD_DIST</th>\n",
       "      <th>NM_DIST</th>\n",
       "      <th>CD_RGINT</th>\n",
       "      <th>NM_RGINT</th>\n",
       "      <th>CD_RGI</th>\n",
       "      <th>NM_RGI</th>\n",
       "      <th>CD_CONCURB</th>\n",
       "      <th>NM_CONCURB</th>\n",
       "      <th>AREA_KM2</th>\n",
       "      <th>total_pop</th>\n",
       "      <th>total_dom</th>\n",
       "      <th>geometry</th>\n",
       "      <th>area_dist_cobveg</th>\n",
       "    </tr>\n",
       "  </thead>\n",
       "  <tbody>\n",
       "    <tr>\n",
       "      <th>60</th>\n",
       "      <td>3550308</td>\n",
       "      <td>São Paulo</td>\n",
       "      <td>355030861</td>\n",
       "      <td>PERUS</td>\n",
       "      <td>3501</td>\n",
       "      <td>São Paulo</td>\n",
       "      <td>350001</td>\n",
       "      <td>São Paulo</td>\n",
       "      <td>3550308</td>\n",
       "      <td>São Paulo/SP</td>\n",
       "      <td>23.636765</td>\n",
       "      <td>87716</td>\n",
       "      <td>34379</td>\n",
       "      <td>POLYGON ((321923.417 7412300.951, 321941.7 741...</td>\n",
       "      <td>1.571995e+07</td>\n",
       "    </tr>\n",
       "    <tr>\n",
       "      <th>16</th>\n",
       "      <td>3550308</td>\n",
       "      <td>São Paulo</td>\n",
       "      <td>355030817</td>\n",
       "      <td>CAMPO LIMPO</td>\n",
       "      <td>3501</td>\n",
       "      <td>São Paulo</td>\n",
       "      <td>350001</td>\n",
       "      <td>São Paulo</td>\n",
       "      <td>3550308</td>\n",
       "      <td>São Paulo/SP</td>\n",
       "      <td>12.579836</td>\n",
       "      <td>236162</td>\n",
       "      <td>97934</td>\n",
       "      <td>POLYGON ((322009.936 7384634.641, 322009.855 7...</td>\n",
       "      <td>2.605076e+06</td>\n",
       "    </tr>\n",
       "  </tbody>\n",
       "</table>\n",
       "</div>"
      ],
      "text/plain": [
       "     CD_MUN     NM_MUN    CD_DIST      NM_DIST CD_RGINT   NM_RGINT  CD_RGI  \\\n",
       "60  3550308  São Paulo  355030861        PERUS     3501  São Paulo  350001   \n",
       "16  3550308  São Paulo  355030817  CAMPO LIMPO     3501  São Paulo  350001   \n",
       "\n",
       "       NM_RGI CD_CONCURB    NM_CONCURB   AREA_KM2  total_pop total_dom  \\\n",
       "60  São Paulo    3550308  São Paulo/SP  23.636765      87716     34379   \n",
       "16  São Paulo    3550308  São Paulo/SP  12.579836     236162     97934   \n",
       "\n",
       "                                             geometry  area_dist_cobveg  \n",
       "60  POLYGON ((321923.417 7412300.951, 321941.7 741...      1.571995e+07  \n",
       "16  POLYGON ((322009.936 7384634.641, 322009.855 7...      2.605076e+06  "
      ]
     },
     "execution_count": 11,
     "metadata": {},
     "output_type": "execute_result"
    }
   ],
   "source": [
    "gdf_distritos.sample(2)"
   ]
  },
  {
   "cell_type": "markdown",
   "id": "107c542f-9108-4f94-bb97-bbf1c12f44f0",
   "metadata": {},
   "source": [
    "# Cálculo da porcentagem da área"
   ]
  },
  {
   "cell_type": "markdown",
   "id": "200e199b-d3b9-4c45-92a3-e9edff373093",
   "metadata": {},
   "source": [
    "Antes de tudo, vou confirmar se a coluna 'AREA_KM_2' pode ser usada como base para o cálculo"
   ]
  },
  {
   "cell_type": "code",
   "execution_count": 12,
   "id": "1f73734e-965d-4400-a99a-b19d7f559670",
   "metadata": {},
   "outputs": [
    {
     "name": "stdout",
     "output_type": "stream",
     "text": [
      "90    8896709.007\n",
      "dtype: float64\n"
     ]
    }
   ],
   "source": [
    "x=(\n",
    "    gdf_distritos['geometry']\n",
    "    .area\n",
    "    .loc[gdf_distritos['CD_DIST']=='355030891']\n",
    ")\n",
    "print(x.round(3))"
   ]
  },
  {
   "cell_type": "code",
   "execution_count": 13,
   "id": "17e182d8-e06e-435b-a161-7eaa41e219ff",
   "metadata": {},
   "outputs": [
    {
     "name": "stdout",
     "output_type": "stream",
     "text": [
      "90    8.898548\n",
      "Name: AREA_KM2, dtype: float64\n"
     ]
    }
   ],
   "source": [
    "print(\n",
    "    gdf_distritos['AREA_KM2']\n",
    "    .loc[gdf_distritos['CD_DIST']=='355030891']\n",
    ")"
   ]
  },
  {
   "cell_type": "markdown",
   "id": "df18023f-b467-4d29-aebd-1fdfa586783f",
   "metadata": {},
   "source": [
    "Aparentemente a área proveniente do cálculo da geometria não é em Km², então faremos uma nova coluna para calcular a área do distrito segundo a geometria"
   ]
  },
  {
   "cell_type": "code",
   "execution_count": 14,
   "id": "eb625484-c300-4fd0-aa0d-0c21c077d424",
   "metadata": {},
   "outputs": [],
   "source": [
    "gdf_distritos['area_distrito'] = gdf_distritos['geometry'].area\n"
   ]
  },
  {
   "cell_type": "code",
   "execution_count": 15,
   "id": "838610d5-d3e3-4ebe-8c56-2302ca1ba620",
   "metadata": {},
   "outputs": [
    {
     "data": {
      "text/html": [
       "<div>\n",
       "<style scoped>\n",
       "    .dataframe tbody tr th:only-of-type {\n",
       "        vertical-align: middle;\n",
       "    }\n",
       "\n",
       "    .dataframe tbody tr th {\n",
       "        vertical-align: top;\n",
       "    }\n",
       "\n",
       "    .dataframe thead th {\n",
       "        text-align: right;\n",
       "    }\n",
       "</style>\n",
       "<table border=\"1\" class=\"dataframe\">\n",
       "  <thead>\n",
       "    <tr style=\"text-align: right;\">\n",
       "      <th></th>\n",
       "      <th>CD_MUN</th>\n",
       "      <th>NM_MUN</th>\n",
       "      <th>CD_DIST</th>\n",
       "      <th>NM_DIST</th>\n",
       "      <th>CD_RGINT</th>\n",
       "      <th>NM_RGINT</th>\n",
       "      <th>CD_RGI</th>\n",
       "      <th>NM_RGI</th>\n",
       "      <th>CD_CONCURB</th>\n",
       "      <th>NM_CONCURB</th>\n",
       "      <th>AREA_KM2</th>\n",
       "      <th>total_pop</th>\n",
       "      <th>total_dom</th>\n",
       "      <th>geometry</th>\n",
       "      <th>area_dist_cobveg</th>\n",
       "      <th>area_distrito</th>\n",
       "    </tr>\n",
       "  </thead>\n",
       "  <tbody>\n",
       "    <tr>\n",
       "      <th>95</th>\n",
       "      <td>3550308</td>\n",
       "      <td>São Paulo</td>\n",
       "      <td>355030896</td>\n",
       "      <td>LAJEADO</td>\n",
       "      <td>3501</td>\n",
       "      <td>São Paulo</td>\n",
       "      <td>350001</td>\n",
       "      <td>São Paulo</td>\n",
       "      <td>3550308</td>\n",
       "      <td>São Paulo/SP</td>\n",
       "      <td>8.902602</td>\n",
       "      <td>164391</td>\n",
       "      <td>63066</td>\n",
       "      <td>POLYGON ((356021.63 7395589.489, 356021.497 73...</td>\n",
       "      <td>1.225673e+06</td>\n",
       "      <td>8.900028e+06</td>\n",
       "    </tr>\n",
       "    <tr>\n",
       "      <th>5</th>\n",
       "      <td>3550308</td>\n",
       "      <td>São Paulo</td>\n",
       "      <td>355030806</td>\n",
       "      <td>BARRA FUNDA</td>\n",
       "      <td>3501</td>\n",
       "      <td>São Paulo</td>\n",
       "      <td>350001</td>\n",
       "      <td>São Paulo</td>\n",
       "      <td>3550308</td>\n",
       "      <td>São Paulo/SP</td>\n",
       "      <td>5.884671</td>\n",
       "      <td>33436</td>\n",
       "      <td>16962</td>\n",
       "      <td>POLYGON ((329146.056 7396609.887, 329100.802 7...</td>\n",
       "      <td>1.128738e+06</td>\n",
       "      <td>5.884207e+06</td>\n",
       "    </tr>\n",
       "  </tbody>\n",
       "</table>\n",
       "</div>"
      ],
      "text/plain": [
       "     CD_MUN     NM_MUN    CD_DIST      NM_DIST CD_RGINT   NM_RGINT  CD_RGI  \\\n",
       "95  3550308  São Paulo  355030896      LAJEADO     3501  São Paulo  350001   \n",
       "5   3550308  São Paulo  355030806  BARRA FUNDA     3501  São Paulo  350001   \n",
       "\n",
       "       NM_RGI CD_CONCURB    NM_CONCURB  AREA_KM2  total_pop total_dom  \\\n",
       "95  São Paulo    3550308  São Paulo/SP  8.902602     164391     63066   \n",
       "5   São Paulo    3550308  São Paulo/SP  5.884671      33436     16962   \n",
       "\n",
       "                                             geometry  area_dist_cobveg  \\\n",
       "95  POLYGON ((356021.63 7395589.489, 356021.497 73...      1.225673e+06   \n",
       "5   POLYGON ((329146.056 7396609.887, 329100.802 7...      1.128738e+06   \n",
       "\n",
       "    area_distrito  \n",
       "95   8.900028e+06  \n",
       "5    5.884207e+06  "
      ]
     },
     "execution_count": 15,
     "metadata": {},
     "output_type": "execute_result"
    }
   ],
   "source": [
    "gdf_distritos.sample(2)"
   ]
  },
  {
   "cell_type": "code",
   "execution_count": 16,
   "id": "653c9eac-adeb-48e5-a04a-6135fc80f607",
   "metadata": {},
   "outputs": [],
   "source": [
    "gdf_distritos['pct_dist_cobveg'] = (\n",
    "    gdf_distritos['area_dist_cobveg'] / gdf_distritos['area_distrito']\n",
    ")"
   ]
  },
  {
   "cell_type": "code",
   "execution_count": 17,
   "id": "eb623a9f-54a0-4035-bb7f-a20362e4fda3",
   "metadata": {},
   "outputs": [
    {
     "data": {
      "text/html": [
       "<div>\n",
       "<style scoped>\n",
       "    .dataframe tbody tr th:only-of-type {\n",
       "        vertical-align: middle;\n",
       "    }\n",
       "\n",
       "    .dataframe tbody tr th {\n",
       "        vertical-align: top;\n",
       "    }\n",
       "\n",
       "    .dataframe thead th {\n",
       "        text-align: right;\n",
       "    }\n",
       "</style>\n",
       "<table border=\"1\" class=\"dataframe\">\n",
       "  <thead>\n",
       "    <tr style=\"text-align: right;\">\n",
       "      <th></th>\n",
       "      <th>CD_MUN</th>\n",
       "      <th>NM_MUN</th>\n",
       "      <th>CD_DIST</th>\n",
       "      <th>NM_DIST</th>\n",
       "      <th>CD_RGINT</th>\n",
       "      <th>NM_RGINT</th>\n",
       "      <th>CD_RGI</th>\n",
       "      <th>NM_RGI</th>\n",
       "      <th>CD_CONCURB</th>\n",
       "      <th>NM_CONCURB</th>\n",
       "      <th>AREA_KM2</th>\n",
       "      <th>total_pop</th>\n",
       "      <th>total_dom</th>\n",
       "      <th>geometry</th>\n",
       "      <th>area_dist_cobveg</th>\n",
       "      <th>area_distrito</th>\n",
       "      <th>pct_dist_cobveg</th>\n",
       "    </tr>\n",
       "  </thead>\n",
       "  <tbody>\n",
       "    <tr>\n",
       "      <th>59</th>\n",
       "      <td>3550308</td>\n",
       "      <td>São Paulo</td>\n",
       "      <td>355030860</td>\n",
       "      <td>PERDIZES</td>\n",
       "      <td>3501</td>\n",
       "      <td>São Paulo</td>\n",
       "      <td>350001</td>\n",
       "      <td>São Paulo</td>\n",
       "      <td>3550308</td>\n",
       "      <td>São Paulo/SP</td>\n",
       "      <td>6.315923</td>\n",
       "      <td>102391</td>\n",
       "      <td>54775</td>\n",
       "      <td>POLYGON ((328317.572 7394626.129, 328266.485 7...</td>\n",
       "      <td>1.369631e+06</td>\n",
       "      <td>6.315464e+06</td>\n",
       "      <td>0.216869</td>\n",
       "    </tr>\n",
       "    <tr>\n",
       "      <th>21</th>\n",
       "      <td>3550308</td>\n",
       "      <td>São Paulo</td>\n",
       "      <td>355030822</td>\n",
       "      <td>CIDADE ADEMAR</td>\n",
       "      <td>3501</td>\n",
       "      <td>São Paulo</td>\n",
       "      <td>350001</td>\n",
       "      <td>São Paulo</td>\n",
       "      <td>3550308</td>\n",
       "      <td>São Paulo/SP</td>\n",
       "      <td>12.233190</td>\n",
       "      <td>249218</td>\n",
       "      <td>103713</td>\n",
       "      <td>POLYGON ((333467.739 7379561.767, 333458.192 7...</td>\n",
       "      <td>1.238026e+06</td>\n",
       "      <td>1.223203e+07</td>\n",
       "      <td>0.101212</td>\n",
       "    </tr>\n",
       "  </tbody>\n",
       "</table>\n",
       "</div>"
      ],
      "text/plain": [
       "     CD_MUN     NM_MUN    CD_DIST        NM_DIST CD_RGINT   NM_RGINT  CD_RGI  \\\n",
       "59  3550308  São Paulo  355030860       PERDIZES     3501  São Paulo  350001   \n",
       "21  3550308  São Paulo  355030822  CIDADE ADEMAR     3501  São Paulo  350001   \n",
       "\n",
       "       NM_RGI CD_CONCURB    NM_CONCURB   AREA_KM2  total_pop total_dom  \\\n",
       "59  São Paulo    3550308  São Paulo/SP   6.315923     102391     54775   \n",
       "21  São Paulo    3550308  São Paulo/SP  12.233190     249218    103713   \n",
       "\n",
       "                                             geometry  area_dist_cobveg  \\\n",
       "59  POLYGON ((328317.572 7394626.129, 328266.485 7...      1.369631e+06   \n",
       "21  POLYGON ((333467.739 7379561.767, 333458.192 7...      1.238026e+06   \n",
       "\n",
       "    area_distrito  pct_dist_cobveg  \n",
       "59   6.315464e+06         0.216869  \n",
       "21   1.223203e+07         0.101212  "
      ]
     },
     "execution_count": 17,
     "metadata": {},
     "output_type": "execute_result"
    }
   ],
   "source": [
    "gdf_distritos.sample(2)"
   ]
  },
  {
   "cell_type": "markdown",
   "id": "e22f7f28-d202-41fe-bc91-938d6b2d0b07",
   "metadata": {},
   "source": [
    "# Conferir compatibilidade e consistência"
   ]
  },
  {
   "cell_type": "markdown",
   "id": "40c5836d-1db2-4c1e-9b36-798eda54c8ae",
   "metadata": {},
   "source": [
    "Agora vamos procurar por alguma inconsistência no cálculo da porcentagem. Caso algum valor de 'pct_dist_cobveg' seja maior ou igual a 1, seria como se a totalidade da área do distrito, ou mais do que ela, é de cobertura vegetal"
   ]
  },
  {
   "cell_type": "code",
   "execution_count": 18,
   "id": "2e65026c-aab7-4044-b011-c9f870ca0042",
   "metadata": {},
   "outputs": [
    {
     "data": {
      "text/html": [
       "<div>\n",
       "<style scoped>\n",
       "    .dataframe tbody tr th:only-of-type {\n",
       "        vertical-align: middle;\n",
       "    }\n",
       "\n",
       "    .dataframe tbody tr th {\n",
       "        vertical-align: top;\n",
       "    }\n",
       "\n",
       "    .dataframe thead th {\n",
       "        text-align: right;\n",
       "    }\n",
       "</style>\n",
       "<table border=\"1\" class=\"dataframe\">\n",
       "  <thead>\n",
       "    <tr style=\"text-align: right;\">\n",
       "      <th></th>\n",
       "      <th>CD_MUN</th>\n",
       "      <th>NM_MUN</th>\n",
       "      <th>CD_DIST</th>\n",
       "      <th>NM_DIST</th>\n",
       "      <th>CD_RGINT</th>\n",
       "      <th>NM_RGINT</th>\n",
       "      <th>CD_RGI</th>\n",
       "      <th>NM_RGI</th>\n",
       "      <th>CD_CONCURB</th>\n",
       "      <th>NM_CONCURB</th>\n",
       "      <th>AREA_KM2</th>\n",
       "      <th>total_pop</th>\n",
       "      <th>total_dom</th>\n",
       "      <th>geometry</th>\n",
       "      <th>area_dist_cobveg</th>\n",
       "      <th>area_distrito</th>\n",
       "      <th>pct_dist_cobveg</th>\n",
       "    </tr>\n",
       "  </thead>\n",
       "  <tbody>\n",
       "  </tbody>\n",
       "</table>\n",
       "</div>"
      ],
      "text/plain": [
       "Empty GeoDataFrame\n",
       "Columns: [CD_MUN, NM_MUN, CD_DIST, NM_DIST, CD_RGINT, NM_RGINT, CD_RGI, NM_RGI, CD_CONCURB, NM_CONCURB, AREA_KM2, total_pop, total_dom, geometry, area_dist_cobveg, area_distrito, pct_dist_cobveg]\n",
       "Index: []"
      ]
     },
     "execution_count": 18,
     "metadata": {},
     "output_type": "execute_result"
    }
   ],
   "source": [
    "gdf_distritos[gdf_distritos['pct_dist_cobveg']>=1]"
   ]
  },
  {
   "cell_type": "code",
   "execution_count": 19,
   "id": "d6fa12f0-562e-4f5a-938d-b58ac3cb7460",
   "metadata": {},
   "outputs": [
    {
     "data": {
      "text/plain": [
       "0"
      ]
     },
     "execution_count": 19,
     "metadata": {},
     "output_type": "execute_result"
    }
   ],
   "source": [
    "sum(gdf_distritos['pct_dist_cobveg'].isnull())"
   ]
  },
  {
   "cell_type": "code",
   "execution_count": 20,
   "id": "dd2ca587-61b7-44f5-bc60-40580895e632",
   "metadata": {},
   "outputs": [
    {
     "name": "stdout",
     "output_type": "stream",
     "text": [
      "MARSILAC é o distrito com a maior porcentagem de cobertura vegetal: 97.12%\n"
     ]
    }
   ],
   "source": [
    "max_pct=gdf_distritos['pct_dist_cobveg'].max()\n",
    "max_name=gdf_distritos['NM_DIST'].loc[gdf_distritos['pct_dist_cobveg']==max_pct].iloc[0]\n",
    "print(f'{max_name} é o distrito com a maior porcentagem de cobertura vegetal: {round(max_pct*100, 2)}%')"
   ]
  },
  {
   "cell_type": "code",
   "execution_count": 21,
   "id": "d73e7481-032f-49f8-b3a5-60d43504caa6",
   "metadata": {},
   "outputs": [
    {
     "name": "stdout",
     "output_type": "stream",
     "text": [
      "BRAS é o distrito com a menor porcentagem de cobertura vegetal: 5.57%\n"
     ]
    }
   ],
   "source": [
    "min_pct=gdf_distritos['pct_dist_cobveg'].min()\n",
    "min_name = gdf_distritos['NM_DIST'].loc[gdf_distritos['pct_dist_cobveg']==min_pct].iloc[0]\n",
    "print(f'{min_name} é o distrito com a menor porcentagem de cobertura vegetal: {round(min_pct*100, 2)}%')"
   ]
  },
  {
   "cell_type": "markdown",
   "id": "ea242cb5-634e-46ae-b87a-3bd679c86f06",
   "metadata": {},
   "source": [
    "# Porcentagem do Município de São Paulo"
   ]
  },
  {
   "cell_type": "code",
   "execution_count": 22,
   "id": "38b73269-793f-4ec4-9111-b721d623a5b0",
   "metadata": {},
   "outputs": [
    {
     "data": {
      "text/html": [
       "<div>\n",
       "<style scoped>\n",
       "    .dataframe tbody tr th:only-of-type {\n",
       "        vertical-align: middle;\n",
       "    }\n",
       "\n",
       "    .dataframe tbody tr th {\n",
       "        vertical-align: top;\n",
       "    }\n",
       "\n",
       "    .dataframe thead th {\n",
       "        text-align: right;\n",
       "    }\n",
       "</style>\n",
       "<table border=\"1\" class=\"dataframe\">\n",
       "  <thead>\n",
       "    <tr style=\"text-align: right;\">\n",
       "      <th></th>\n",
       "      <th>CD_MUN</th>\n",
       "      <th>NM_MUN</th>\n",
       "      <th>CD_DIST</th>\n",
       "      <th>NM_DIST</th>\n",
       "      <th>CD_RGINT</th>\n",
       "      <th>NM_RGINT</th>\n",
       "      <th>CD_RGI</th>\n",
       "      <th>NM_RGI</th>\n",
       "      <th>CD_CONCURB</th>\n",
       "      <th>NM_CONCURB</th>\n",
       "      <th>AREA_KM2</th>\n",
       "      <th>total_pop</th>\n",
       "      <th>total_dom</th>\n",
       "      <th>geometry</th>\n",
       "      <th>area_dist_cobveg</th>\n",
       "      <th>area_distrito</th>\n",
       "      <th>pct_dist_cobveg</th>\n",
       "    </tr>\n",
       "  </thead>\n",
       "  <tbody>\n",
       "    <tr>\n",
       "      <th>50</th>\n",
       "      <td>3550308</td>\n",
       "      <td>São Paulo</td>\n",
       "      <td>355030851</td>\n",
       "      <td>MANDAQUI</td>\n",
       "      <td>3501</td>\n",
       "      <td>São Paulo</td>\n",
       "      <td>350001</td>\n",
       "      <td>São Paulo</td>\n",
       "      <td>3550308</td>\n",
       "      <td>São Paulo/SP</td>\n",
       "      <td>13.202709</td>\n",
       "      <td>103665</td>\n",
       "      <td>45143</td>\n",
       "      <td>POLYGON ((332902.165 7405221.112, 332904.48 74...</td>\n",
       "      <td>7.460771e+06</td>\n",
       "      <td>1.320131e+07</td>\n",
       "      <td>0.565154</td>\n",
       "    </tr>\n",
       "    <tr>\n",
       "      <th>29</th>\n",
       "      <td>3550308</td>\n",
       "      <td>São Paulo</td>\n",
       "      <td>355030830</td>\n",
       "      <td>GRAJAU</td>\n",
       "      <td>3501</td>\n",
       "      <td>São Paulo</td>\n",
       "      <td>350001</td>\n",
       "      <td>São Paulo</td>\n",
       "      <td>3550308</td>\n",
       "      <td>São Paulo/SP</td>\n",
       "      <td>92.578049</td>\n",
       "      <td>384873</td>\n",
       "      <td>154205</td>\n",
       "      <td>POLYGON ((327239.195 7362453.213, 327195.452 7...</td>\n",
       "      <td>5.057260e+07</td>\n",
       "      <td>9.257010e+07</td>\n",
       "      <td>0.546317</td>\n",
       "    </tr>\n",
       "  </tbody>\n",
       "</table>\n",
       "</div>"
      ],
      "text/plain": [
       "     CD_MUN     NM_MUN    CD_DIST   NM_DIST CD_RGINT   NM_RGINT  CD_RGI  \\\n",
       "50  3550308  São Paulo  355030851  MANDAQUI     3501  São Paulo  350001   \n",
       "29  3550308  São Paulo  355030830    GRAJAU     3501  São Paulo  350001   \n",
       "\n",
       "       NM_RGI CD_CONCURB    NM_CONCURB   AREA_KM2  total_pop total_dom  \\\n",
       "50  São Paulo    3550308  São Paulo/SP  13.202709     103665     45143   \n",
       "29  São Paulo    3550308  São Paulo/SP  92.578049     384873    154205   \n",
       "\n",
       "                                             geometry  area_dist_cobveg  \\\n",
       "50  POLYGON ((332902.165 7405221.112, 332904.48 74...      7.460771e+06   \n",
       "29  POLYGON ((327239.195 7362453.213, 327195.452 7...      5.057260e+07   \n",
       "\n",
       "    area_distrito  pct_dist_cobveg  \n",
       "50   1.320131e+07         0.565154  \n",
       "29   9.257010e+07         0.546317  "
      ]
     },
     "execution_count": 22,
     "metadata": {},
     "output_type": "execute_result"
    }
   ],
   "source": [
    "gdf_distritos.sample(2)"
   ]
  },
  {
   "cell_type": "code",
   "execution_count": 23,
   "id": "afb33266-0f71-4896-9611-0a5407dec69a",
   "metadata": {},
   "outputs": [
    {
     "name": "stdout",
     "output_type": "stream",
     "text": [
      "47.96% do município de São Paulo é área de cobertura vegetal\n"
     ]
    }
   ],
   "source": [
    "area_sp = sum(gdf_distritos['area_distrito'])\n",
    "area_cobveg_total = sum(gdf_distritos['area_dist_cobveg'])\n",
    "pct_sp = area_cobveg_total / area_sp\n",
    "print(f\"{round(pct_sp*100, 2)}% do município de São Paulo é área de cobertura vegetal\")"
   ]
  },
  {
   "cell_type": "markdown",
   "id": "c546da95-82e2-4e04-820a-9d0e978a8995",
   "metadata": {},
   "source": [
    "# Salvar gdf"
   ]
  },
  {
   "cell_type": "code",
   "execution_count": 24,
   "id": "6e388826-ee80-44df-b7e6-4ec3b5a56246",
   "metadata": {},
   "outputs": [],
   "source": [
    "save_parquet_excel(\n",
    "    gdf_distritos, \n",
    "    fname= 'distritos_cobertura_vegetal',\n",
    "    data_path = data_path,\n",
    "    data_subpath = os.path.join(\n",
    "        'assets',\n",
    "        'cobertura_vegetal'\n",
    "    )\n",
    ")"
   ]
  }
 ],
 "metadata": {
  "kernelspec": {
   "display_name": "Python 3 (ipykernel)",
   "language": "python",
   "name": "python3"
  },
  "language_info": {
   "codemirror_mode": {
    "name": "ipython",
    "version": 3
   },
   "file_extension": ".py",
   "mimetype": "text/x-python",
   "name": "python",
   "nbconvert_exporter": "python",
   "pygments_lexer": "ipython3",
   "version": "3.12.4"
  }
 },
 "nbformat": 4,
 "nbformat_minor": 5
}
