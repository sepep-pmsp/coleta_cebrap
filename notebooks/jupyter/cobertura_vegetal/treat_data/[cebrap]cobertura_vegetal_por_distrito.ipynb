{
 "cells": [
  {
   "cell_type": "code",
   "execution_count": 1,
   "id": "5dc59baf-0280-4ffe-a2d6-cbceafdd8cb5",
   "metadata": {},
   "outputs": [],
   "source": [
    "from directory_cobveg_treat import definir_diretorio\n",
    "project_path = definir_diretorio()\n",
    "\n",
    "import os\n",
    "import geopandas as gpd\n",
    "\n",
    "from utils import (\n",
    "    get_data_diretorio,\n",
    "    save_parquet_excel,\n",
    ")"
   ]
  },
  {
   "cell_type": "markdown",
   "id": "a649e9f8-0249-4c02-af92-6763e55860f7",
   "metadata": {},
   "source": [
    "# Porcentagem do distrito com cobertura vegetal"
   ]
  },
  {
   "cell_type": "code",
   "execution_count": 2,
   "id": "db810e49-b0b0-4bf7-993c-a68ebd5a4a09",
   "metadata": {},
   "outputs": [],
   "source": [
    "data_path = get_data_diretorio(project_path)"
   ]
  },
  {
   "cell_type": "markdown",
   "id": "63b442ea-1db4-49d1-85a1-8dcf236fb455",
   "metadata": {},
   "source": [
    "# Dependências"
   ]
  },
  {
   "cell_type": "markdown",
   "id": "43407009-0f8b-4c6a-8598-3849596e669b",
   "metadata": {},
   "source": [
    "Este notebook é dependente dos assets resultante dos notebooks 'overlay_distrito_cobertura_vegetal' e '../../arborizacao_viaria/carregar_dados/malha_distritos'"
   ]
  },
  {
   "cell_type": "code",
   "execution_count": 3,
   "id": "161c0c9c",
   "metadata": {},
   "outputs": [],
   "source": [
    "overlay_path = os.path.join(\n",
    "    data_path, \n",
    "    'assets',\n",
    "    'cobertura_vegetal',\n",
    "    'overlay_cobertura_vegetal_distritos.parquet'\n",
    ")\n",
    "overlay_gdf = gpd.read_parquet(overlay_path)"
   ]
  },
  {
   "cell_type": "code",
   "execution_count": 4,
   "id": "9cf87f6c-0776-4153-be45-c23de42c5259",
   "metadata": {},
   "outputs": [
    {
     "data": {
      "text/html": [
       "<div>\n",
       "<style scoped>\n",
       "    .dataframe tbody tr th:only-of-type {\n",
       "        vertical-align: middle;\n",
       "    }\n",
       "\n",
       "    .dataframe tbody tr th {\n",
       "        vertical-align: top;\n",
       "    }\n",
       "\n",
       "    .dataframe thead th {\n",
       "        text-align: right;\n",
       "    }\n",
       "</style>\n",
       "<table border=\"1\" class=\"dataframe\">\n",
       "  <thead>\n",
       "    <tr style=\"text-align: right;\">\n",
       "      <th></th>\n",
       "      <th>cd_cob_veg</th>\n",
       "      <th>cd_identi0</th>\n",
       "      <th>cd_categor</th>\n",
       "      <th>cd_subcate</th>\n",
       "      <th>cd_subcat0</th>\n",
       "      <th>qt_altura_</th>\n",
       "      <th>area_cob_veg</th>\n",
       "      <th>CD_REGIAO</th>\n",
       "      <th>NM_REGIAO</th>\n",
       "      <th>CD_UF</th>\n",
       "      <th>...</th>\n",
       "      <th>CD_RGI</th>\n",
       "      <th>NM_RGI</th>\n",
       "      <th>CD_CONCURB</th>\n",
       "      <th>NM_CONCURB</th>\n",
       "      <th>AREA_KM2</th>\n",
       "      <th>total_pop</th>\n",
       "      <th>total_dom</th>\n",
       "      <th>geometry</th>\n",
       "      <th>area_recort</th>\n",
       "      <th>perc_recort</th>\n",
       "    </tr>\n",
       "  </thead>\n",
       "  <tbody>\n",
       "    <tr>\n",
       "      <th>13608</th>\n",
       "      <td>13518.0</td>\n",
       "      <td>13550.0</td>\n",
       "      <td>11.0</td>\n",
       "      <td>0.0</td>\n",
       "      <td>0.0</td>\n",
       "      <td>0.0</td>\n",
       "      <td>143.442482</td>\n",
       "      <td>3</td>\n",
       "      <td>Sudeste</td>\n",
       "      <td>35</td>\n",
       "      <td>...</td>\n",
       "      <td>350001</td>\n",
       "      <td>São Paulo</td>\n",
       "      <td>3550308</td>\n",
       "      <td>São Paulo/SP</td>\n",
       "      <td>4.533105</td>\n",
       "      <td>24730</td>\n",
       "      <td>10783</td>\n",
       "      <td>POLYGON ((321223.417 7398957.164, 321222.755 7...</td>\n",
       "      <td>143.442482</td>\n",
       "      <td>1.0</td>\n",
       "    </tr>\n",
       "    <tr>\n",
       "      <th>38640</th>\n",
       "      <td>38190.0</td>\n",
       "      <td>38316.0</td>\n",
       "      <td>14.0</td>\n",
       "      <td>0.0</td>\n",
       "      <td>0.0</td>\n",
       "      <td>0.0</td>\n",
       "      <td>141.516247</td>\n",
       "      <td>3</td>\n",
       "      <td>Sudeste</td>\n",
       "      <td>35</td>\n",
       "      <td>...</td>\n",
       "      <td>350001</td>\n",
       "      <td>São Paulo</td>\n",
       "      <td>3550308</td>\n",
       "      <td>São Paulo/SP</td>\n",
       "      <td>7.498376</td>\n",
       "      <td>92186</td>\n",
       "      <td>40616</td>\n",
       "      <td>POLYGON ((341509.508 7393649.366, 341510.545 7...</td>\n",
       "      <td>141.516247</td>\n",
       "      <td>1.0</td>\n",
       "    </tr>\n",
       "  </tbody>\n",
       "</table>\n",
       "<p>2 rows × 27 columns</p>\n",
       "</div>"
      ],
      "text/plain": [
       "       cd_cob_veg  cd_identi0  cd_categor  cd_subcate  cd_subcat0  qt_altura_  \\\n",
       "13608     13518.0     13550.0        11.0         0.0         0.0         0.0   \n",
       "38640     38190.0     38316.0        14.0         0.0         0.0         0.0   \n",
       "\n",
       "       area_cob_veg CD_REGIAO NM_REGIAO CD_UF  ...  CD_RGI     NM_RGI  \\\n",
       "13608    143.442482         3   Sudeste    35  ...  350001  São Paulo   \n",
       "38640    141.516247         3   Sudeste    35  ...  350001  São Paulo   \n",
       "\n",
       "      CD_CONCURB    NM_CONCURB  AREA_KM2 total_pop total_dom  \\\n",
       "13608    3550308  São Paulo/SP  4.533105     24730     10783   \n",
       "38640    3550308  São Paulo/SP  7.498376     92186     40616   \n",
       "\n",
       "                                                geometry area_recort  \\\n",
       "13608  POLYGON ((321223.417 7398957.164, 321222.755 7...  143.442482   \n",
       "38640  POLYGON ((341509.508 7393649.366, 341510.545 7...  141.516247   \n",
       "\n",
       "      perc_recort  \n",
       "13608         1.0  \n",
       "38640         1.0  \n",
       "\n",
       "[2 rows x 27 columns]"
      ]
     },
     "execution_count": 4,
     "metadata": {},
     "output_type": "execute_result"
    }
   ],
   "source": [
    "overlay_gdf.sample(2)"
   ]
  },
  {
   "cell_type": "code",
   "execution_count": 5,
   "id": "4dea64cf-1f08-45d1-9ad1-bf99bb5d6cf5",
   "metadata": {},
   "outputs": [],
   "source": [
    "distritos_path = os.path.join(data_path, 'assets', 'distrito_ibge.parquet')\n",
    "gdf_distritos = gpd.read_parquet(distritos_path)"
   ]
  },
  {
   "cell_type": "markdown",
   "id": "568a60de-6222-4b66-930b-4199cdaa74b2",
   "metadata": {},
   "source": [
    "# Merge dos gdfs"
   ]
  },
  {
   "cell_type": "code",
   "execution_count": 6,
   "id": "51aa756a-35fe-481f-9aab-de49542b8066",
   "metadata": {},
   "outputs": [],
   "source": [
    "gdf_dist_cobveg = gdf_distritos.merge(\n",
    "    overlay_gdf[[\n",
    "        'cd_cob_veg',\n",
    "        'area_recort',\n",
    "        'perc_recort',\n",
    "        'CD_DIST'\n",
    "    ]],\n",
    "    on='CD_DIST'\n",
    ")"
   ]
  },
  {
   "cell_type": "code",
   "execution_count": 7,
   "id": "0637c2d4-96f6-426c-9367-996ed713c966",
   "metadata": {},
   "outputs": [
    {
     "data": {
      "text/plain": [
       "(274601, 21)"
      ]
     },
     "execution_count": 7,
     "metadata": {},
     "output_type": "execute_result"
    }
   ],
   "source": [
    "gdf_dist_cobveg.shape"
   ]
  },
  {
   "cell_type": "code",
   "execution_count": 8,
   "id": "02da3e9b-f558-49f5-9dac-5c8c88406f4c",
   "metadata": {},
   "outputs": [
    {
     "data": {
      "text/plain": [
       "(96, 18)"
      ]
     },
     "execution_count": 8,
     "metadata": {},
     "output_type": "execute_result"
    }
   ],
   "source": [
    "gdf_distritos.shape"
   ]
  },
  {
   "cell_type": "markdown",
   "id": "a2b4ae50-34b8-4a45-8476-0af4f06bd293",
   "metadata": {},
   "source": [
    "# Calcular área de cobertura vegetal por distrito"
   ]
  },
  {
   "cell_type": "code",
   "execution_count": 9,
   "id": "e7c350b7-f13e-42b5-99d5-3c72aee11623",
   "metadata": {},
   "outputs": [],
   "source": [
    "for distrito in gdf_distritos['CD_DIST']:\n",
    "    area_cobveg = sum(\n",
    "            gdf_dist_cobveg['area_recort']\n",
    "            .loc[gdf_dist_cobveg['CD_DIST']==distrito]\n",
    "    )\n",
    "    \n",
    "    (gdf_distritos\n",
    "        .loc[\n",
    "            gdf_distritos['CD_DIST']==distrito, \n",
    "            'area_dist_cobveg'\n",
    "        ])= area_cobveg"
   ]
  },
  {
   "cell_type": "code",
   "execution_count": 10,
   "id": "0b99e835-654a-4215-9fb5-bddfeb85db24",
   "metadata": {},
   "outputs": [
    {
     "data": {
      "text/html": [
       "<div>\n",
       "<style scoped>\n",
       "    .dataframe tbody tr th:only-of-type {\n",
       "        vertical-align: middle;\n",
       "    }\n",
       "\n",
       "    .dataframe tbody tr th {\n",
       "        vertical-align: top;\n",
       "    }\n",
       "\n",
       "    .dataframe thead th {\n",
       "        text-align: right;\n",
       "    }\n",
       "</style>\n",
       "<table border=\"1\" class=\"dataframe\">\n",
       "  <thead>\n",
       "    <tr style=\"text-align: right;\">\n",
       "      <th></th>\n",
       "      <th>CD_REGIAO</th>\n",
       "      <th>NM_REGIAO</th>\n",
       "      <th>CD_UF</th>\n",
       "      <th>NM_UF</th>\n",
       "      <th>CD_MUN</th>\n",
       "      <th>NM_MUN</th>\n",
       "      <th>CD_DIST</th>\n",
       "      <th>NM_DIST</th>\n",
       "      <th>CD_RGINT</th>\n",
       "      <th>NM_RGINT</th>\n",
       "      <th>CD_RGI</th>\n",
       "      <th>NM_RGI</th>\n",
       "      <th>CD_CONCURB</th>\n",
       "      <th>NM_CONCURB</th>\n",
       "      <th>AREA_KM2</th>\n",
       "      <th>total_pop</th>\n",
       "      <th>total_dom</th>\n",
       "      <th>geometry</th>\n",
       "      <th>area_dist_cobveg</th>\n",
       "    </tr>\n",
       "  </thead>\n",
       "  <tbody>\n",
       "    <tr>\n",
       "      <th>80</th>\n",
       "      <td>3</td>\n",
       "      <td>Sudeste</td>\n",
       "      <td>35</td>\n",
       "      <td>São Paulo</td>\n",
       "      <td>3550308</td>\n",
       "      <td>São Paulo</td>\n",
       "      <td>355030881</td>\n",
       "      <td>TREMEMBE</td>\n",
       "      <td>3501</td>\n",
       "      <td>São Paulo</td>\n",
       "      <td>350001</td>\n",
       "      <td>São Paulo</td>\n",
       "      <td>3550308</td>\n",
       "      <td>São Paulo/SP</td>\n",
       "      <td>57.709814</td>\n",
       "      <td>196563</td>\n",
       "      <td>78219</td>\n",
       "      <td>POLYGON ((338977.39 7414197.122, 338983.98 741...</td>\n",
       "      <td>4.264705e+07</td>\n",
       "    </tr>\n",
       "    <tr>\n",
       "      <th>39</th>\n",
       "      <td>3</td>\n",
       "      <td>Sudeste</td>\n",
       "      <td>35</td>\n",
       "      <td>São Paulo</td>\n",
       "      <td>3550308</td>\n",
       "      <td>São Paulo</td>\n",
       "      <td>355030840</td>\n",
       "      <td>JAGUARA</td>\n",
       "      <td>3501</td>\n",
       "      <td>São Paulo</td>\n",
       "      <td>350001</td>\n",
       "      <td>São Paulo</td>\n",
       "      <td>3550308</td>\n",
       "      <td>São Paulo/SP</td>\n",
       "      <td>4.533105</td>\n",
       "      <td>24730</td>\n",
       "      <td>10783</td>\n",
       "      <td>POLYGON ((320979.577 7398155.785, 320973.947 7...</td>\n",
       "      <td>9.650457e+05</td>\n",
       "    </tr>\n",
       "  </tbody>\n",
       "</table>\n",
       "</div>"
      ],
      "text/plain": [
       "   CD_REGIAO NM_REGIAO CD_UF      NM_UF   CD_MUN     NM_MUN    CD_DIST  \\\n",
       "80         3   Sudeste    35  São Paulo  3550308  São Paulo  355030881   \n",
       "39         3   Sudeste    35  São Paulo  3550308  São Paulo  355030840   \n",
       "\n",
       "     NM_DIST CD_RGINT   NM_RGINT  CD_RGI     NM_RGI CD_CONCURB    NM_CONCURB  \\\n",
       "80  TREMEMBE     3501  São Paulo  350001  São Paulo    3550308  São Paulo/SP   \n",
       "39   JAGUARA     3501  São Paulo  350001  São Paulo    3550308  São Paulo/SP   \n",
       "\n",
       "     AREA_KM2  total_pop total_dom  \\\n",
       "80  57.709814     196563     78219   \n",
       "39   4.533105      24730     10783   \n",
       "\n",
       "                                             geometry  area_dist_cobveg  \n",
       "80  POLYGON ((338977.39 7414197.122, 338983.98 741...      4.264705e+07  \n",
       "39  POLYGON ((320979.577 7398155.785, 320973.947 7...      9.650457e+05  "
      ]
     },
     "execution_count": 10,
     "metadata": {},
     "output_type": "execute_result"
    }
   ],
   "source": [
    "gdf_distritos.sample(2)"
   ]
  },
  {
   "cell_type": "markdown",
   "id": "107c542f-9108-4f94-bb97-bbf1c12f44f0",
   "metadata": {},
   "source": [
    "# Cálculo da porcentagem da área"
   ]
  },
  {
   "cell_type": "markdown",
   "id": "200e199b-d3b9-4c45-92a3-e9edff373093",
   "metadata": {},
   "source": [
    "Antes de tudo, vou confirmar se a coluna 'AREA_KM_2' pode ser usada como base para o cálculo"
   ]
  },
  {
   "cell_type": "code",
   "execution_count": 11,
   "id": "1f73734e-965d-4400-a99a-b19d7f559670",
   "metadata": {},
   "outputs": [
    {
     "name": "stdout",
     "output_type": "stream",
     "text": [
      "90    8896709.007\n",
      "dtype: float64\n"
     ]
    }
   ],
   "source": [
    "x=(\n",
    "    gdf_distritos['geometry']\n",
    "    .area\n",
    "    .loc[gdf_distritos['CD_DIST']=='355030891']\n",
    ")\n",
    "print(x.round(3))"
   ]
  },
  {
   "cell_type": "code",
   "execution_count": 12,
   "id": "17e182d8-e06e-435b-a161-7eaa41e219ff",
   "metadata": {},
   "outputs": [
    {
     "name": "stdout",
     "output_type": "stream",
     "text": [
      "90    8.898548\n",
      "Name: AREA_KM2, dtype: float64\n"
     ]
    }
   ],
   "source": [
    "print(\n",
    "    gdf_distritos['AREA_KM2']\n",
    "    .loc[gdf_distritos['CD_DIST']=='355030891']\n",
    ")"
   ]
  },
  {
   "cell_type": "markdown",
   "id": "df18023f-b467-4d29-aebd-1fdfa586783f",
   "metadata": {},
   "source": [
    "Aparentemente a área proveniente do cálculo da geometria não é em Km², então faremos uma nova coluna para calcular a área do distrito segundo a geometria"
   ]
  },
  {
   "cell_type": "code",
   "execution_count": 13,
   "id": "eb625484-c300-4fd0-aa0d-0c21c077d424",
   "metadata": {},
   "outputs": [],
   "source": [
    "gdf_distritos['area_distrito'] = gdf_distritos['geometry'].area\n"
   ]
  },
  {
   "cell_type": "code",
   "execution_count": 14,
   "id": "838610d5-d3e3-4ebe-8c56-2302ca1ba620",
   "metadata": {},
   "outputs": [
    {
     "data": {
      "text/html": [
       "<div>\n",
       "<style scoped>\n",
       "    .dataframe tbody tr th:only-of-type {\n",
       "        vertical-align: middle;\n",
       "    }\n",
       "\n",
       "    .dataframe tbody tr th {\n",
       "        vertical-align: top;\n",
       "    }\n",
       "\n",
       "    .dataframe thead th {\n",
       "        text-align: right;\n",
       "    }\n",
       "</style>\n",
       "<table border=\"1\" class=\"dataframe\">\n",
       "  <thead>\n",
       "    <tr style=\"text-align: right;\">\n",
       "      <th></th>\n",
       "      <th>CD_REGIAO</th>\n",
       "      <th>NM_REGIAO</th>\n",
       "      <th>CD_UF</th>\n",
       "      <th>NM_UF</th>\n",
       "      <th>CD_MUN</th>\n",
       "      <th>NM_MUN</th>\n",
       "      <th>CD_DIST</th>\n",
       "      <th>NM_DIST</th>\n",
       "      <th>CD_RGINT</th>\n",
       "      <th>NM_RGINT</th>\n",
       "      <th>CD_RGI</th>\n",
       "      <th>NM_RGI</th>\n",
       "      <th>CD_CONCURB</th>\n",
       "      <th>NM_CONCURB</th>\n",
       "      <th>AREA_KM2</th>\n",
       "      <th>total_pop</th>\n",
       "      <th>total_dom</th>\n",
       "      <th>geometry</th>\n",
       "      <th>area_dist_cobveg</th>\n",
       "      <th>area_distrito</th>\n",
       "    </tr>\n",
       "  </thead>\n",
       "  <tbody>\n",
       "    <tr>\n",
       "      <th>53</th>\n",
       "      <td>3</td>\n",
       "      <td>Sudeste</td>\n",
       "      <td>35</td>\n",
       "      <td>São Paulo</td>\n",
       "      <td>3550308</td>\n",
       "      <td>São Paulo</td>\n",
       "      <td>355030854</td>\n",
       "      <td>MORUMBI</td>\n",
       "      <td>3501</td>\n",
       "      <td>São Paulo</td>\n",
       "      <td>350001</td>\n",
       "      <td>São Paulo</td>\n",
       "      <td>3550308</td>\n",
       "      <td>São Paulo/SP</td>\n",
       "      <td>11.462372</td>\n",
       "      <td>43690</td>\n",
       "      <td>20710</td>\n",
       "      <td>POLYGON ((325192.046 7387331.143, 325166.217 7...</td>\n",
       "      <td>5.102053e+06</td>\n",
       "      <td>1.146180e+07</td>\n",
       "    </tr>\n",
       "    <tr>\n",
       "      <th>64</th>\n",
       "      <td>3</td>\n",
       "      <td>Sudeste</td>\n",
       "      <td>35</td>\n",
       "      <td>São Paulo</td>\n",
       "      <td>3550308</td>\n",
       "      <td>São Paulo</td>\n",
       "      <td>355030865</td>\n",
       "      <td>RAPOSO TAVARES</td>\n",
       "      <td>3501</td>\n",
       "      <td>São Paulo</td>\n",
       "      <td>350001</td>\n",
       "      <td>São Paulo</td>\n",
       "      <td>3550308</td>\n",
       "      <td>São Paulo/SP</td>\n",
       "      <td>12.164313</td>\n",
       "      <td>117738</td>\n",
       "      <td>49006</td>\n",
       "      <td>POLYGON ((319022.919 7388900.499, 318990.285 7...</td>\n",
       "      <td>5.316876e+06</td>\n",
       "      <td>1.216456e+07</td>\n",
       "    </tr>\n",
       "  </tbody>\n",
       "</table>\n",
       "</div>"
      ],
      "text/plain": [
       "   CD_REGIAO NM_REGIAO CD_UF      NM_UF   CD_MUN     NM_MUN    CD_DIST  \\\n",
       "53         3   Sudeste    35  São Paulo  3550308  São Paulo  355030854   \n",
       "64         3   Sudeste    35  São Paulo  3550308  São Paulo  355030865   \n",
       "\n",
       "           NM_DIST CD_RGINT   NM_RGINT  CD_RGI     NM_RGI CD_CONCURB  \\\n",
       "53         MORUMBI     3501  São Paulo  350001  São Paulo    3550308   \n",
       "64  RAPOSO TAVARES     3501  São Paulo  350001  São Paulo    3550308   \n",
       "\n",
       "      NM_CONCURB   AREA_KM2  total_pop total_dom  \\\n",
       "53  São Paulo/SP  11.462372      43690     20710   \n",
       "64  São Paulo/SP  12.164313     117738     49006   \n",
       "\n",
       "                                             geometry  area_dist_cobveg  \\\n",
       "53  POLYGON ((325192.046 7387331.143, 325166.217 7...      5.102053e+06   \n",
       "64  POLYGON ((319022.919 7388900.499, 318990.285 7...      5.316876e+06   \n",
       "\n",
       "    area_distrito  \n",
       "53   1.146180e+07  \n",
       "64   1.216456e+07  "
      ]
     },
     "execution_count": 14,
     "metadata": {},
     "output_type": "execute_result"
    }
   ],
   "source": [
    "gdf_distritos.sample(2)"
   ]
  },
  {
   "cell_type": "code",
   "execution_count": 15,
   "id": "653c9eac-adeb-48e5-a04a-6135fc80f607",
   "metadata": {},
   "outputs": [],
   "source": [
    "gdf_distritos['pct_dist_cobveg'] = (\n",
    "    gdf_distritos['area_dist_cobveg'] / gdf_distritos['area_distrito']\n",
    ")"
   ]
  },
  {
   "cell_type": "code",
   "execution_count": 16,
   "id": "eb623a9f-54a0-4035-bb7f-a20362e4fda3",
   "metadata": {},
   "outputs": [
    {
     "data": {
      "text/html": [
       "<div>\n",
       "<style scoped>\n",
       "    .dataframe tbody tr th:only-of-type {\n",
       "        vertical-align: middle;\n",
       "    }\n",
       "\n",
       "    .dataframe tbody tr th {\n",
       "        vertical-align: top;\n",
       "    }\n",
       "\n",
       "    .dataframe thead th {\n",
       "        text-align: right;\n",
       "    }\n",
       "</style>\n",
       "<table border=\"1\" class=\"dataframe\">\n",
       "  <thead>\n",
       "    <tr style=\"text-align: right;\">\n",
       "      <th></th>\n",
       "      <th>CD_REGIAO</th>\n",
       "      <th>NM_REGIAO</th>\n",
       "      <th>CD_UF</th>\n",
       "      <th>NM_UF</th>\n",
       "      <th>CD_MUN</th>\n",
       "      <th>NM_MUN</th>\n",
       "      <th>CD_DIST</th>\n",
       "      <th>NM_DIST</th>\n",
       "      <th>CD_RGINT</th>\n",
       "      <th>NM_RGINT</th>\n",
       "      <th>...</th>\n",
       "      <th>NM_RGI</th>\n",
       "      <th>CD_CONCURB</th>\n",
       "      <th>NM_CONCURB</th>\n",
       "      <th>AREA_KM2</th>\n",
       "      <th>total_pop</th>\n",
       "      <th>total_dom</th>\n",
       "      <th>geometry</th>\n",
       "      <th>area_dist_cobveg</th>\n",
       "      <th>area_distrito</th>\n",
       "      <th>pct_dist_cobveg</th>\n",
       "    </tr>\n",
       "  </thead>\n",
       "  <tbody>\n",
       "    <tr>\n",
       "      <th>66</th>\n",
       "      <td>3</td>\n",
       "      <td>Sudeste</td>\n",
       "      <td>35</td>\n",
       "      <td>São Paulo</td>\n",
       "      <td>3550308</td>\n",
       "      <td>São Paulo</td>\n",
       "      <td>355030867</td>\n",
       "      <td>RIO PEQUENO</td>\n",
       "      <td>3501</td>\n",
       "      <td>São Paulo</td>\n",
       "      <td>...</td>\n",
       "      <td>São Paulo</td>\n",
       "      <td>3550308</td>\n",
       "      <td>São Paulo/SP</td>\n",
       "      <td>9.755869</td>\n",
       "      <td>131631</td>\n",
       "      <td>54686</td>\n",
       "      <td>POLYGON ((322346.814 7391673.431, 322303.81 73...</td>\n",
       "      <td>2.593782e+06</td>\n",
       "      <td>9.755831e+06</td>\n",
       "      <td>0.265870</td>\n",
       "    </tr>\n",
       "    <tr>\n",
       "      <th>57</th>\n",
       "      <td>3</td>\n",
       "      <td>Sudeste</td>\n",
       "      <td>35</td>\n",
       "      <td>São Paulo</td>\n",
       "      <td>3550308</td>\n",
       "      <td>São Paulo</td>\n",
       "      <td>355030858</td>\n",
       "      <td>PEDREIRA</td>\n",
       "      <td>3501</td>\n",
       "      <td>São Paulo</td>\n",
       "      <td>...</td>\n",
       "      <td>São Paulo</td>\n",
       "      <td>3550308</td>\n",
       "      <td>São Paulo/SP</td>\n",
       "      <td>18.483827</td>\n",
       "      <td>163586</td>\n",
       "      <td>64002</td>\n",
       "      <td>POLYGON ((333773.279 7378335.002, 333775.099 7...</td>\n",
       "      <td>6.284694e+06</td>\n",
       "      <td>1.848196e+07</td>\n",
       "      <td>0.340045</td>\n",
       "    </tr>\n",
       "  </tbody>\n",
       "</table>\n",
       "<p>2 rows × 21 columns</p>\n",
       "</div>"
      ],
      "text/plain": [
       "   CD_REGIAO NM_REGIAO CD_UF      NM_UF   CD_MUN     NM_MUN    CD_DIST  \\\n",
       "66         3   Sudeste    35  São Paulo  3550308  São Paulo  355030867   \n",
       "57         3   Sudeste    35  São Paulo  3550308  São Paulo  355030858   \n",
       "\n",
       "        NM_DIST CD_RGINT   NM_RGINT  ...     NM_RGI CD_CONCURB    NM_CONCURB  \\\n",
       "66  RIO PEQUENO     3501  São Paulo  ...  São Paulo    3550308  São Paulo/SP   \n",
       "57     PEDREIRA     3501  São Paulo  ...  São Paulo    3550308  São Paulo/SP   \n",
       "\n",
       "     AREA_KM2  total_pop  total_dom  \\\n",
       "66   9.755869     131631      54686   \n",
       "57  18.483827     163586      64002   \n",
       "\n",
       "                                             geometry area_dist_cobveg  \\\n",
       "66  POLYGON ((322346.814 7391673.431, 322303.81 73...     2.593782e+06   \n",
       "57  POLYGON ((333773.279 7378335.002, 333775.099 7...     6.284694e+06   \n",
       "\n",
       "    area_distrito  pct_dist_cobveg  \n",
       "66   9.755831e+06         0.265870  \n",
       "57   1.848196e+07         0.340045  \n",
       "\n",
       "[2 rows x 21 columns]"
      ]
     },
     "execution_count": 16,
     "metadata": {},
     "output_type": "execute_result"
    }
   ],
   "source": [
    "gdf_distritos.sample(2)"
   ]
  },
  {
   "cell_type": "markdown",
   "id": "e22f7f28-d202-41fe-bc91-938d6b2d0b07",
   "metadata": {},
   "source": [
    "# Conferir compatibilidade e consistência"
   ]
  },
  {
   "cell_type": "markdown",
   "id": "40c5836d-1db2-4c1e-9b36-798eda54c8ae",
   "metadata": {},
   "source": [
    "Agora vamos procurar por alguma inconsistência no cálculo da porcentagem. Caso algum valor de 'pct_dist_cobveg' seja maior ou igual a 1, seria como se a totalidade da área do distrito, ou mais do que ela, é de cobertura vegetal"
   ]
  },
  {
   "cell_type": "code",
   "execution_count": 17,
   "id": "2e65026c-aab7-4044-b011-c9f870ca0042",
   "metadata": {},
   "outputs": [
    {
     "data": {
      "text/html": [
       "<div>\n",
       "<style scoped>\n",
       "    .dataframe tbody tr th:only-of-type {\n",
       "        vertical-align: middle;\n",
       "    }\n",
       "\n",
       "    .dataframe tbody tr th {\n",
       "        vertical-align: top;\n",
       "    }\n",
       "\n",
       "    .dataframe thead th {\n",
       "        text-align: right;\n",
       "    }\n",
       "</style>\n",
       "<table border=\"1\" class=\"dataframe\">\n",
       "  <thead>\n",
       "    <tr style=\"text-align: right;\">\n",
       "      <th></th>\n",
       "      <th>CD_REGIAO</th>\n",
       "      <th>NM_REGIAO</th>\n",
       "      <th>CD_UF</th>\n",
       "      <th>NM_UF</th>\n",
       "      <th>CD_MUN</th>\n",
       "      <th>NM_MUN</th>\n",
       "      <th>CD_DIST</th>\n",
       "      <th>NM_DIST</th>\n",
       "      <th>CD_RGINT</th>\n",
       "      <th>NM_RGINT</th>\n",
       "      <th>...</th>\n",
       "      <th>NM_RGI</th>\n",
       "      <th>CD_CONCURB</th>\n",
       "      <th>NM_CONCURB</th>\n",
       "      <th>AREA_KM2</th>\n",
       "      <th>total_pop</th>\n",
       "      <th>total_dom</th>\n",
       "      <th>geometry</th>\n",
       "      <th>area_dist_cobveg</th>\n",
       "      <th>area_distrito</th>\n",
       "      <th>pct_dist_cobveg</th>\n",
       "    </tr>\n",
       "  </thead>\n",
       "  <tbody>\n",
       "  </tbody>\n",
       "</table>\n",
       "<p>0 rows × 21 columns</p>\n",
       "</div>"
      ],
      "text/plain": [
       "Empty GeoDataFrame\n",
       "Columns: [CD_REGIAO, NM_REGIAO, CD_UF, NM_UF, CD_MUN, NM_MUN, CD_DIST, NM_DIST, CD_RGINT, NM_RGINT, CD_RGI, NM_RGI, CD_CONCURB, NM_CONCURB, AREA_KM2, total_pop, total_dom, geometry, area_dist_cobveg, area_distrito, pct_dist_cobveg]\n",
       "Index: []\n",
       "\n",
       "[0 rows x 21 columns]"
      ]
     },
     "execution_count": 17,
     "metadata": {},
     "output_type": "execute_result"
    }
   ],
   "source": [
    "gdf_distritos[gdf_distritos['pct_dist_cobveg']>=1]"
   ]
  },
  {
   "cell_type": "code",
   "execution_count": 18,
   "id": "d6fa12f0-562e-4f5a-938d-b58ac3cb7460",
   "metadata": {},
   "outputs": [
    {
     "data": {
      "text/plain": [
       "0"
      ]
     },
     "execution_count": 18,
     "metadata": {},
     "output_type": "execute_result"
    }
   ],
   "source": [
    "sum(gdf_distritos['pct_dist_cobveg'].isnull())"
   ]
  },
  {
   "cell_type": "code",
   "execution_count": 27,
   "id": "dd2ca587-61b7-44f5-bc60-40580895e632",
   "metadata": {},
   "outputs": [
    {
     "name": "stdout",
     "output_type": "stream",
     "text": [
      "MARSILAC é o distrito com a maior porcentagem de cobertura vegetal: 97.12%\n"
     ]
    }
   ],
   "source": [
    "max_pct=gdf_distritos['pct_dist_cobveg'].max()\n",
    "max_name=gdf_distritos['NM_DIST'].loc[gdf_distritos['pct_dist_cobveg']==max_pct].iloc[0]\n",
    "print(f'{max_name} é o distrito com a maior porcentagem de cobertura vegetal: {round(max_pct*100, 2)}%')"
   ]
  },
  {
   "cell_type": "code",
   "execution_count": 29,
   "id": "d73e7481-032f-49f8-b3a5-60d43504caa6",
   "metadata": {},
   "outputs": [
    {
     "name": "stdout",
     "output_type": "stream",
     "text": [
      "BRAS é o distrito com a menor porcentagem de cobertura vegetal: 5.57%\n"
     ]
    }
   ],
   "source": [
    "min_pct=gdf_distritos['pct_dist_cobveg'].min()\n",
    "min_name = gdf_distritos['NM_DIST'].loc[gdf_distritos['pct_dist_cobveg']==min_pct].iloc[0]\n",
    "print(f'{min_name} é o distrito com a menor porcentagem de cobertura vegetal: {round(min_pct*100, 2)}%')"
   ]
  },
  {
   "cell_type": "markdown",
   "id": "ea242cb5-634e-46ae-b87a-3bd679c86f06",
   "metadata": {},
   "source": [
    "# Porcentagem do Município de São Paulo"
   ]
  },
  {
   "cell_type": "code",
   "execution_count": 22,
   "id": "38b73269-793f-4ec4-9111-b721d623a5b0",
   "metadata": {},
   "outputs": [
    {
     "data": {
      "text/html": [
       "<div>\n",
       "<style scoped>\n",
       "    .dataframe tbody tr th:only-of-type {\n",
       "        vertical-align: middle;\n",
       "    }\n",
       "\n",
       "    .dataframe tbody tr th {\n",
       "        vertical-align: top;\n",
       "    }\n",
       "\n",
       "    .dataframe thead th {\n",
       "        text-align: right;\n",
       "    }\n",
       "</style>\n",
       "<table border=\"1\" class=\"dataframe\">\n",
       "  <thead>\n",
       "    <tr style=\"text-align: right;\">\n",
       "      <th></th>\n",
       "      <th>CD_REGIAO</th>\n",
       "      <th>NM_REGIAO</th>\n",
       "      <th>CD_UF</th>\n",
       "      <th>NM_UF</th>\n",
       "      <th>CD_MUN</th>\n",
       "      <th>NM_MUN</th>\n",
       "      <th>CD_DIST</th>\n",
       "      <th>NM_DIST</th>\n",
       "      <th>CD_RGINT</th>\n",
       "      <th>NM_RGINT</th>\n",
       "      <th>...</th>\n",
       "      <th>NM_RGI</th>\n",
       "      <th>CD_CONCURB</th>\n",
       "      <th>NM_CONCURB</th>\n",
       "      <th>AREA_KM2</th>\n",
       "      <th>total_pop</th>\n",
       "      <th>total_dom</th>\n",
       "      <th>geometry</th>\n",
       "      <th>area_dist_cobveg</th>\n",
       "      <th>area_distrito</th>\n",
       "      <th>pct_dist_cobveg</th>\n",
       "    </tr>\n",
       "  </thead>\n",
       "  <tbody>\n",
       "    <tr>\n",
       "      <th>7</th>\n",
       "      <td>3</td>\n",
       "      <td>Sudeste</td>\n",
       "      <td>35</td>\n",
       "      <td>São Paulo</td>\n",
       "      <td>3550308</td>\n",
       "      <td>São Paulo</td>\n",
       "      <td>355030808</td>\n",
       "      <td>BELEM</td>\n",
       "      <td>3501</td>\n",
       "      <td>São Paulo</td>\n",
       "      <td>...</td>\n",
       "      <td>São Paulo</td>\n",
       "      <td>3550308</td>\n",
       "      <td>São Paulo/SP</td>\n",
       "      <td>6.121560</td>\n",
       "      <td>55785</td>\n",
       "      <td>25449</td>\n",
       "      <td>POLYGON ((337329.398 7395388.459, 337268.595 7...</td>\n",
       "      <td>8.928170e+05</td>\n",
       "      <td>6.120671e+06</td>\n",
       "      <td>0.145869</td>\n",
       "    </tr>\n",
       "    <tr>\n",
       "      <th>42</th>\n",
       "      <td>3</td>\n",
       "      <td>Sudeste</td>\n",
       "      <td>35</td>\n",
       "      <td>São Paulo</td>\n",
       "      <td>3550308</td>\n",
       "      <td>São Paulo</td>\n",
       "      <td>355030843</td>\n",
       "      <td>JARDIM ANGELA</td>\n",
       "      <td>3501</td>\n",
       "      <td>São Paulo</td>\n",
       "      <td>...</td>\n",
       "      <td>São Paulo</td>\n",
       "      <td>3550308</td>\n",
       "      <td>São Paulo/SP</td>\n",
       "      <td>36.738281</td>\n",
       "      <td>311432</td>\n",
       "      <td>125669</td>\n",
       "      <td>POLYGON ((318894.224 7372253.527, 318886.412 7...</td>\n",
       "      <td>1.504344e+07</td>\n",
       "      <td>3.673837e+07</td>\n",
       "      <td>0.409475</td>\n",
       "    </tr>\n",
       "  </tbody>\n",
       "</table>\n",
       "<p>2 rows × 21 columns</p>\n",
       "</div>"
      ],
      "text/plain": [
       "   CD_REGIAO NM_REGIAO CD_UF      NM_UF   CD_MUN     NM_MUN    CD_DIST  \\\n",
       "7          3   Sudeste    35  São Paulo  3550308  São Paulo  355030808   \n",
       "42         3   Sudeste    35  São Paulo  3550308  São Paulo  355030843   \n",
       "\n",
       "          NM_DIST CD_RGINT   NM_RGINT  ...     NM_RGI CD_CONCURB  \\\n",
       "7           BELEM     3501  São Paulo  ...  São Paulo    3550308   \n",
       "42  JARDIM ANGELA     3501  São Paulo  ...  São Paulo    3550308   \n",
       "\n",
       "      NM_CONCURB   AREA_KM2  total_pop  total_dom  \\\n",
       "7   São Paulo/SP   6.121560      55785      25449   \n",
       "42  São Paulo/SP  36.738281     311432     125669   \n",
       "\n",
       "                                             geometry area_dist_cobveg  \\\n",
       "7   POLYGON ((337329.398 7395388.459, 337268.595 7...     8.928170e+05   \n",
       "42  POLYGON ((318894.224 7372253.527, 318886.412 7...     1.504344e+07   \n",
       "\n",
       "    area_distrito  pct_dist_cobveg  \n",
       "7    6.120671e+06         0.145869  \n",
       "42   3.673837e+07         0.409475  \n",
       "\n",
       "[2 rows x 21 columns]"
      ]
     },
     "execution_count": 22,
     "metadata": {},
     "output_type": "execute_result"
    }
   ],
   "source": [
    "gdf_distritos.sample(2)"
   ]
  },
  {
   "cell_type": "code",
   "execution_count": 25,
   "id": "afb33266-0f71-4896-9611-0a5407dec69a",
   "metadata": {},
   "outputs": [
    {
     "name": "stdout",
     "output_type": "stream",
     "text": [
      "47.96% do município de São Paulo é área de cobertura vegetal\n"
     ]
    }
   ],
   "source": [
    "area_sp = sum(gdf_distritos['area_distrito'])\n",
    "area_cobveg_total = sum(gdf_distritos['area_dist_cobveg'])\n",
    "pct_sp = area_cobveg_total / area_sp\n",
    "print(f\"{round(pct_sp*100, 2)}% do município de São Paulo é área de cobertura vegetal\")"
   ]
  },
  {
   "cell_type": "markdown",
   "id": "c546da95-82e2-4e04-820a-9d0e978a8995",
   "metadata": {},
   "source": [
    "# Salvar gdf"
   ]
  },
  {
   "cell_type": "code",
   "execution_count": 21,
   "id": "6e388826-ee80-44df-b7e6-4ec3b5a56246",
   "metadata": {},
   "outputs": [],
   "source": [
    "save_parquet_excel(\n",
    "    gdf_distritos, \n",
    "    fname= 'distritos_cobertura_vegetal',\n",
    "    data_path = data_path,\n",
    "    data_subpath = os.path.join(\n",
    "        'assets',\n",
    "        'cobertura_vegetal'\n",
    "    )\n",
    ")"
   ]
  }
 ],
 "metadata": {
  "kernelspec": {
   "display_name": "Python 3 (ipykernel)",
   "language": "python",
   "name": "python3"
  },
  "language_info": {
   "codemirror_mode": {
    "name": "ipython",
    "version": 3
   },
   "file_extension": ".py",
   "mimetype": "text/x-python",
   "name": "python",
   "nbconvert_exporter": "python",
   "pygments_lexer": "ipython3",
   "version": "3.12.4"
  }
 },
 "nbformat": 4,
 "nbformat_minor": 5
}
