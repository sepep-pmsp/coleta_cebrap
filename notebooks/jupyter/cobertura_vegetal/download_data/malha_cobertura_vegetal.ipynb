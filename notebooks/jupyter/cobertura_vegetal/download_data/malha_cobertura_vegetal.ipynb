{
 "cells": [
  {
   "cell_type": "code",
   "execution_count": 1,
   "id": "69533ff0-53cd-4e12-a892-42a2a88cc5d6",
   "metadata": {},
   "outputs": [],
   "source": [
    "from directory_cobveg_load import definir_diretorio \n",
    "project_path = definir_diretorio()\n",
    "\n",
    "import geopandas as gpd\n",
    "import os\n",
    "\n",
    "from utils import(\n",
    "    get_data_diretorio,\n",
    "    check_crs,\n",
    "    save_parquet_excel,\n",
    ")\n",
    "from utils.downloads import(\n",
    "    download_malha_geosampa,\n",
    ")"
   ]
  },
  {
   "cell_type": "markdown",
   "id": "edaaf7b1-ce69-4996-831a-d1cfeaa27ba5",
   "metadata": {},
   "source": [
    "# Cobertura Vegetal 2020 (GeoSampa)"
   ]
  },
  {
   "cell_type": "code",
   "execution_count": 2,
   "id": "db810e49-b0b0-4bf7-993c-a68ebd5a4a09",
   "metadata": {},
   "outputs": [],
   "source": [
    "data_path = get_data_diretorio(project_path)"
   ]
  },
  {
   "cell_type": "markdown",
   "id": "f5a3a59c-4a65-4b3a-b34e-befaa6828484",
   "metadata": {},
   "source": [
    "## Importar dados "
   ]
  },
  {
   "cell_type": "code",
   "execution_count": 3,
   "id": "2dd9e2c6-6cca-425c-a5f0-4fde291c94fa",
   "metadata": {
    "scrolled": true
   },
   "outputs": [
    {
     "name": "stdout",
     "output_type": "stream",
     "text": [
      "Carregando arquivo em cache\n"
     ]
    }
   ],
   "source": [
    "cache_path = os.path.join(\n",
    "    data_path, \n",
    "    'cache'\n",
    ")\n",
    "cache_full_path = os.path.join(\n",
    "        cache_path, \n",
    "        'cobertura_vegetal_concat.parquet'\n",
    "                )\n",
    "if os.path.exists(\n",
    "    cache_full_path\n",
    "):\n",
    "    print('Carregando arquivo em cache')\n",
    "    gdf_cobertura_vegetal = gpd.read_parquet(cache_full_path)\n",
    "else:\n",
    "    gdf_cobertura_vegetal = download_malha_geosampa(\n",
    "        'cobertura_vegetal', \n",
    "        cache_path, \n",
    "        True\n",
    "    )"
   ]
  },
  {
   "cell_type": "code",
   "execution_count": 4,
   "id": "4fef8df3-1037-4488-b1e7-2e61c1d2b1fb",
   "metadata": {},
   "outputs": [
    {
     "data": {
      "text/plain": [
       "(272117, 19)"
      ]
     },
     "execution_count": 4,
     "metadata": {},
     "output_type": "execute_result"
    }
   ],
   "source": [
    "gdf_cobertura_vegetal.shape"
   ]
  },
  {
   "cell_type": "code",
   "execution_count": 5,
   "id": "95984d94-5597-4aa4-a148-ba15dd0338ec",
   "metadata": {},
   "outputs": [
    {
     "data": {
      "text/html": [
       "<div>\n",
       "<style scoped>\n",
       "    .dataframe tbody tr th:only-of-type {\n",
       "        vertical-align: middle;\n",
       "    }\n",
       "\n",
       "    .dataframe tbody tr th {\n",
       "        vertical-align: top;\n",
       "    }\n",
       "\n",
       "    .dataframe thead th {\n",
       "        text-align: right;\n",
       "    }\n",
       "</style>\n",
       "<table border=\"1\" class=\"dataframe\">\n",
       "  <thead>\n",
       "    <tr style=\"text-align: right;\">\n",
       "      <th></th>\n",
       "      <th>cd_identif</th>\n",
       "      <th>cd_identi0</th>\n",
       "      <th>cd_control</th>\n",
       "      <th>tx_datum</th>\n",
       "      <th>cd_coorden</th>\n",
       "      <th>cd_coorde0</th>\n",
       "      <th>cd_categor</th>\n",
       "      <th>cd_subcate</th>\n",
       "      <th>cd_subcat0</th>\n",
       "      <th>tx_descric</th>\n",
       "      <th>qt_area_ve</th>\n",
       "      <th>qt_perimet</th>\n",
       "      <th>qt_altura_</th>\n",
       "      <th>qt_desvio_</th>\n",
       "      <th>tx_data_vo</th>\n",
       "      <th>tx_entrega</th>\n",
       "      <th>tx_lote</th>\n",
       "      <th>tx_lote_ve</th>\n",
       "      <th>geometry</th>\n",
       "    </tr>\n",
       "  </thead>\n",
       "  <tbody>\n",
       "    <tr>\n",
       "      <th>154702</th>\n",
       "      <td>154703.0</td>\n",
       "      <td>155061.0</td>\n",
       "      <td>157291.0</td>\n",
       "      <td>SIRGAS 2000,4 - 23S</td>\n",
       "      <td>323971.17</td>\n",
       "      <td>7388130.07</td>\n",
       "      <td>13.0</td>\n",
       "      <td>0.0</td>\n",
       "      <td>0.0</td>\n",
       "      <td>Média a alta cobertura arbórea, arbóreo-arbust...</td>\n",
       "      <td>127.47164</td>\n",
       "      <td>49.17270</td>\n",
       "      <td>0.0</td>\n",
       "      <td>0.0</td>\n",
       "      <td>2017</td>\n",
       "      <td>09_2018</td>\n",
       "      <td>009</td>\n",
       "      <td>V2</td>\n",
       "      <td>POLYGON ((323961.26 7388133.768, 323965.615 73...</td>\n",
       "    </tr>\n",
       "    <tr>\n",
       "      <th>13802</th>\n",
       "      <td>13803.0</td>\n",
       "      <td>13836.0</td>\n",
       "      <td>16130.0</td>\n",
       "      <td>SIRGAS 2000,4 - 23S</td>\n",
       "      <td>323183.42</td>\n",
       "      <td>7400066.62</td>\n",
       "      <td>13.0</td>\n",
       "      <td>0.0</td>\n",
       "      <td>0.0</td>\n",
       "      <td>Média a alta cobertura arbórea, arbóreo-arbust...</td>\n",
       "      <td>175.34827</td>\n",
       "      <td>76.73162</td>\n",
       "      <td>0.0</td>\n",
       "      <td>0.0</td>\n",
       "      <td>2017</td>\n",
       "      <td>05_2018</td>\n",
       "      <td>002</td>\n",
       "      <td>V1</td>\n",
       "      <td>POLYGON ((323186.026 7400076.143, 323186.365 7...</td>\n",
       "    </tr>\n",
       "    <tr>\n",
       "      <th>221798</th>\n",
       "      <td>221799.0</td>\n",
       "      <td>222651.0</td>\n",
       "      <td>348281.0</td>\n",
       "      <td>SIRGAS 2000,4 - 23S</td>\n",
       "      <td>330679.21</td>\n",
       "      <td>7371131.31</td>\n",
       "      <td>11.0</td>\n",
       "      <td>0.0</td>\n",
       "      <td>0.0</td>\n",
       "      <td>Baixa cobertura arbórea, arbóreo-arbustiva e o...</td>\n",
       "      <td>281.82091</td>\n",
       "      <td>93.80199</td>\n",
       "      <td>0.0</td>\n",
       "      <td>0.0</td>\n",
       "      <td>2017</td>\n",
       "      <td>10_2018</td>\n",
       "      <td>010</td>\n",
       "      <td>V1</td>\n",
       "      <td>POLYGON ((330678.053 7371142.81, 330691.942 73...</td>\n",
       "    </tr>\n",
       "  </tbody>\n",
       "</table>\n",
       "</div>"
      ],
      "text/plain": [
       "        cd_identif  cd_identi0  cd_control             tx_datum  cd_coorden  \\\n",
       "154702    154703.0    155061.0    157291.0  SIRGAS 2000,4 - 23S   323971.17   \n",
       "13802      13803.0     13836.0     16130.0  SIRGAS 2000,4 - 23S   323183.42   \n",
       "221798    221799.0    222651.0    348281.0  SIRGAS 2000,4 - 23S   330679.21   \n",
       "\n",
       "        cd_coorde0  cd_categor  cd_subcate  cd_subcat0  \\\n",
       "154702  7388130.07        13.0         0.0         0.0   \n",
       "13802   7400066.62        13.0         0.0         0.0   \n",
       "221798  7371131.31        11.0         0.0         0.0   \n",
       "\n",
       "                                               tx_descric  qt_area_ve  \\\n",
       "154702  Média a alta cobertura arbórea, arbóreo-arbust...   127.47164   \n",
       "13802   Média a alta cobertura arbórea, arbóreo-arbust...   175.34827   \n",
       "221798  Baixa cobertura arbórea, arbóreo-arbustiva e o...   281.82091   \n",
       "\n",
       "        qt_perimet  qt_altura_  qt_desvio_ tx_data_vo tx_entrega tx_lote  \\\n",
       "154702    49.17270         0.0         0.0       2017    09_2018     009   \n",
       "13802     76.73162         0.0         0.0       2017    05_2018     002   \n",
       "221798    93.80199         0.0         0.0       2017    10_2018     010   \n",
       "\n",
       "       tx_lote_ve                                           geometry  \n",
       "154702         V2  POLYGON ((323961.26 7388133.768, 323965.615 73...  \n",
       "13802          V1  POLYGON ((323186.026 7400076.143, 323186.365 7...  \n",
       "221798         V1  POLYGON ((330678.053 7371142.81, 330691.942 73...  "
      ]
     },
     "execution_count": 5,
     "metadata": {},
     "output_type": "execute_result"
    }
   ],
   "source": [
    "gdf_cobertura_vegetal.sample(3)"
   ]
  },
  {
   "cell_type": "markdown",
   "id": "144d7a11-c42a-4bb6-839b-b4debf503b5f",
   "metadata": {},
   "source": [
    "## Padronizaçã de colunas"
   ]
  },
  {
   "cell_type": "markdown",
   "id": "1900ab9b-f384-4b2d-b454-bd70afa53293",
   "metadata": {},
   "source": [
    "Há uma série de colunas que podem ser importantes ou não. As que eu escolhi apagar são as que constam no dicionário 'drop_cobveg_cols' a seguir:"
   ]
  },
  {
   "cell_type": "code",
   "execution_count": 6,
   "id": "18b62c26-055d-4892-ac23-5d4e967975dc",
   "metadata": {},
   "outputs": [],
   "source": [
    "drop_cobveg_cols ={\n",
    "    'cd_control',\n",
    "    'tx_datum',\n",
    "    'cd_coorden',\n",
    "    'cd_coorde0',\n",
    "    'tx_descric',\n",
    "    'qt_area_ve',\n",
    "    'qt_perimet',\n",
    "    'qt_desvio_',\n",
    "    'tx_data_vo',\n",
    "    'tx_entrega',\n",
    "    'tx_lote',\n",
    "    'tx_lote_ve'    \n",
    "}\n",
    "\n",
    "gdf_cobertura_vegetal.drop(\n",
    "    columns=drop_cobveg_cols,\n",
    "    axis=1,\n",
    "    inplace=True\n",
    ")"
   ]
  },
  {
   "cell_type": "code",
   "execution_count": 7,
   "id": "a9a9b5ff-833f-445d-acdd-dccef95feb2f",
   "metadata": {},
   "outputs": [],
   "source": [
    "rename_cobveg_cols ={\n",
    "    'cd_identif' : 'cd_cob_veg'\n",
    "}\n",
    "\n",
    "gdf_cobertura_vegetal.rename(\n",
    "    rename_cobveg_cols,\n",
    "    axis=1,\n",
    "    inplace=True\n",
    ")"
   ]
  },
  {
   "cell_type": "markdown",
   "id": "cbf2c602-d537-4456-a2d2-9f9bd0e907b4",
   "metadata": {},
   "source": [
    "## Conferir CRS"
   ]
  },
  {
   "cell_type": "code",
   "execution_count": 8,
   "id": "54636e80-788c-4b42-b518-d20dd66b415d",
   "metadata": {},
   "outputs": [],
   "source": [
    "gdf_cobertura_vegetal = check_crs(gdf_cobertura_vegetal)"
   ]
  },
  {
   "cell_type": "markdown",
   "id": "82daabc2-6a8f-47a0-813e-80b881d45462",
   "metadata": {},
   "source": [
    "## Salvar GDF"
   ]
  },
  {
   "cell_type": "code",
   "execution_count": 9,
   "id": "6e388826-ee80-44df-b7e6-4ec3b5a56246",
   "metadata": {},
   "outputs": [],
   "source": [
    "save_parquet_excel(\n",
    "    gdf_cobertura_vegetal, \n",
    "    'malha_cobertura_vegetal',\n",
    "    data_path,\n",
    "    data_subpath='assets' \n",
    ")"
   ]
  },
  {
   "cell_type": "code",
   "execution_count": null,
   "id": "dab1e7c0-6abe-4167-b475-ac06ba38a860",
   "metadata": {},
   "outputs": [],
   "source": []
  }
 ],
 "metadata": {
  "kernelspec": {
   "display_name": "Python 3 (ipykernel)",
   "language": "python",
   "name": "python3"
  },
  "language_info": {
   "codemirror_mode": {
    "name": "ipython",
    "version": 3
   },
   "file_extension": ".py",
   "mimetype": "text/x-python",
   "name": "python",
   "nbconvert_exporter": "python",
   "pygments_lexer": "ipython3",
   "version": "3.12.4"
  }
 },
 "nbformat": 4,
 "nbformat_minor": 5
}
