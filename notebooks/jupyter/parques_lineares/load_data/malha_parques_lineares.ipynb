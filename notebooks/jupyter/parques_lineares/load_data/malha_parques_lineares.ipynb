{
 "cells": [
  {
   "cell_type": "markdown",
   "id": "b38719c4-619a-4da3-9aa2-44f5cbbdcea9",
   "metadata": {},
   "source": [
    "from configuracoes_notebooks import set_proj_dir\n",
    "set_proj_dir()"
   ]
  },
  {
   "cell_type": "code",
   "execution_count": 1,
   "id": "bae02190-4598-4fcf-ba81-e6ba50ddcddb",
   "metadata": {},
   "outputs": [
    {
     "name": "stdout",
     "output_type": "stream",
     "text": [
      "D:\\Documentos_Novo\\ADPPSP\\2024\\cebrap\\teste\\coleta_cebrap\n"
     ]
    }
   ],
   "source": [
    "from teste import diretorio_teste\n",
    "project_path=diretorio_teste()"
   ]
  },
  {
   "cell_type": "code",
   "execution_count": 2,
   "id": "8e147046-40ec-46a3-a534-b61cff0a2805",
   "metadata": {},
   "outputs": [],
   "source": [
    "import os\n",
    "import geopandas as gpd\n",
    "\n",
    "from notebooks.jupyter import utils\n",
    "from utils import (\n",
    "    save_parquet_excel\n",
    ")"
   ]
  },
  {
   "cell_type": "code",
   "execution_count": 3,
   "id": "2957bc2e-db6f-4f38-95ac-bea9c5365e47",
   "metadata": {},
   "outputs": [],
   "source": [
    "data_path = os.path.join(\n",
    "    project_path,\n",
    "    'data'\n",
    ")"
   ]
  },
  {
   "cell_type": "markdown",
   "id": "bd6629c0-4aca-43f2-bc4b-3c5aea73eebc",
   "metadata": {},
   "source": [
    "# Parques Lineares"
   ]
  },
  {
   "cell_type": "markdown",
   "id": "38688702-ff3b-474e-beae-863641ebc0c3",
   "metadata": {},
   "source": [
    "# Dependências"
   ]
  },
  {
   "cell_type": "markdown",
   "id": "a8ab6050-6f72-4ff5-9917-35eaf543d732",
   "metadata": {},
   "source": [
    "Este notebook é dependente dos assets resultante dos notebooks '../../area_verde_publica/download_data/malha_parques_municipais.ipynb'"
   ]
  },
  {
   "cell_type": "code",
   "execution_count": 4,
   "id": "a5e0f73f-7069-47d4-9e7a-585b23969a3d",
   "metadata": {},
   "outputs": [],
   "source": [
    "assets_path = os.path.join(\n",
    "    data_path,\n",
    "    'assets'\n",
    ")"
   ]
  },
  {
   "cell_type": "code",
   "execution_count": 5,
   "id": "1cd56ce6-bcc5-4a6e-9bf7-73e1b1cf597d",
   "metadata": {},
   "outputs": [],
   "source": [
    "gdf_parq_mun = gpd.read_parquet(\n",
    "    os.path.join(\n",
    "        assets_path,\n",
    "        'parques_municipais.parquet'\n",
    "    )\n",
    ")"
   ]
  },
  {
   "cell_type": "markdown",
   "id": "a31979e1-62eb-46ba-bee3-11f5d03b5fe7",
   "metadata": {},
   "source": [
    "# Conferir e Filtrar Parques Lineares"
   ]
  },
  {
   "cell_type": "code",
   "execution_count": 6,
   "id": "1fa7cd7b-bda8-4416-bea3-583b9de78f30",
   "metadata": {},
   "outputs": [
    {
     "data": {
      "text/html": [
       "<div>\n",
       "<style scoped>\n",
       "    .dataframe tbody tr th:only-of-type {\n",
       "        vertical-align: middle;\n",
       "    }\n",
       "\n",
       "    .dataframe tbody tr th {\n",
       "        vertical-align: top;\n",
       "    }\n",
       "\n",
       "    .dataframe thead th {\n",
       "        text-align: right;\n",
       "    }\n",
       "</style>\n",
       "<table border=\"1\" class=\"dataframe\">\n",
       "  <thead>\n",
       "    <tr style=\"text-align: right;\">\n",
       "      <th></th>\n",
       "      <th>cd_parq_mun</th>\n",
       "      <th>nm_parque</th>\n",
       "      <th>tx_tipo_ca</th>\n",
       "      <th>tx_tipo_si</th>\n",
       "      <th>cd_tipo_ca</th>\n",
       "      <th>cd_tipo_si</th>\n",
       "      <th>geometry</th>\n",
       "    </tr>\n",
       "  </thead>\n",
       "  <tbody>\n",
       "    <tr>\n",
       "      <th>226</th>\n",
       "      <td>184</td>\n",
       "      <td>Tenente Brigadeiro Roberto Faria Lima</td>\n",
       "      <td>Parque Urbano</td>\n",
       "      <td>Existente</td>\n",
       "      <td>1</td>\n",
       "      <td>2</td>\n",
       "      <td>POLYGON ((340154.064 7399094.717, 340150.237 7...</td>\n",
       "    </tr>\n",
       "    <tr>\n",
       "      <th>169</th>\n",
       "      <td>257</td>\n",
       "      <td>Jardim das Laranjeiras</td>\n",
       "      <td>Parque Linear</td>\n",
       "      <td>Proposto</td>\n",
       "      <td>5</td>\n",
       "      <td>1</td>\n",
       "      <td>POLYGON ((353535.736 7389374.47, 353404.403 73...</td>\n",
       "    </tr>\n",
       "  </tbody>\n",
       "</table>\n",
       "</div>"
      ],
      "text/plain": [
       "     cd_parq_mun                              nm_parque     tx_tipo_ca  \\\n",
       "226          184  Tenente Brigadeiro Roberto Faria Lima  Parque Urbano   \n",
       "169          257                 Jardim das Laranjeiras  Parque Linear   \n",
       "\n",
       "    tx_tipo_si  cd_tipo_ca  cd_tipo_si  \\\n",
       "226  Existente           1           2   \n",
       "169   Proposto           5           1   \n",
       "\n",
       "                                              geometry  \n",
       "226  POLYGON ((340154.064 7399094.717, 340150.237 7...  \n",
       "169  POLYGON ((353535.736 7389374.47, 353404.403 73...  "
      ]
     },
     "execution_count": 6,
     "metadata": {},
     "output_type": "execute_result"
    }
   ],
   "source": [
    "gdf_parq_mun.sample(2)"
   ]
  },
  {
   "cell_type": "code",
   "execution_count": 7,
   "id": "86ed1fda-0b80-41c4-b7e5-8e20a105f3c9",
   "metadata": {},
   "outputs": [
    {
     "data": {
      "text/plain": [
       "<bound method Series.unique of 0              Parque Urbano\n",
       "1                Parque Orla\n",
       "2      Parque de Conservação\n",
       "3              Parque Urbano\n",
       "4      Parque de Conservação\n",
       "               ...          \n",
       "275            Parque Linear\n",
       "276            Parque Linear\n",
       "277            Parque Urbano\n",
       "278            Parque Linear\n",
       "279            Parque Urbano\n",
       "Name: tx_tipo_ca, Length: 280, dtype: object>"
      ]
     },
     "execution_count": 7,
     "metadata": {},
     "output_type": "execute_result"
    }
   ],
   "source": [
    "gdf_parq_mun['tx_tipo_ca'].unique"
   ]
  },
  {
   "cell_type": "code",
   "execution_count": 8,
   "id": "681867c4-fae0-4530-8a24-6c43b643ea45",
   "metadata": {},
   "outputs": [
    {
     "data": {
      "text/html": [
       "<div>\n",
       "<style scoped>\n",
       "    .dataframe tbody tr th:only-of-type {\n",
       "        vertical-align: middle;\n",
       "    }\n",
       "\n",
       "    .dataframe tbody tr th {\n",
       "        vertical-align: top;\n",
       "    }\n",
       "\n",
       "    .dataframe thead th {\n",
       "        text-align: right;\n",
       "    }\n",
       "</style>\n",
       "<table border=\"1\" class=\"dataframe\">\n",
       "  <thead>\n",
       "    <tr style=\"text-align: right;\">\n",
       "      <th></th>\n",
       "      <th>cd_parq_mun</th>\n",
       "      <th>nm_parque</th>\n",
       "      <th>tx_tipo_ca</th>\n",
       "      <th>tx_tipo_si</th>\n",
       "      <th>cd_tipo_ca</th>\n",
       "      <th>cd_tipo_si</th>\n",
       "      <th>geometry</th>\n",
       "    </tr>\n",
       "  </thead>\n",
       "  <tbody>\n",
       "    <tr>\n",
       "      <th>275</th>\n",
       "      <td>231</td>\n",
       "      <td>Ribeirão Perus</td>\n",
       "      <td>Parque Linear</td>\n",
       "      <td>Proposto</td>\n",
       "      <td>5</td>\n",
       "      <td>1</td>\n",
       "      <td>MULTIPOLYGON (((321559.629 7407763.222, 321559...</td>\n",
       "    </tr>\n",
       "    <tr>\n",
       "      <th>178</th>\n",
       "      <td>93</td>\n",
       "      <td>Varginha</td>\n",
       "      <td>Parque Natural</td>\n",
       "      <td>Proposto</td>\n",
       "      <td>3</td>\n",
       "      <td>1</td>\n",
       "      <td>MULTIPOLYGON (((330316.719 7368290.809, 330316...</td>\n",
       "    </tr>\n",
       "    <tr>\n",
       "      <th>65</th>\n",
       "      <td>112</td>\n",
       "      <td>Itaguacu</td>\n",
       "      <td>Parque Urbano</td>\n",
       "      <td>Proposto</td>\n",
       "      <td>1</td>\n",
       "      <td>1</td>\n",
       "      <td>POLYGON ((329200.256 7405952.275, 329193.63 74...</td>\n",
       "    </tr>\n",
       "  </tbody>\n",
       "</table>\n",
       "</div>"
      ],
      "text/plain": [
       "     cd_parq_mun       nm_parque      tx_tipo_ca tx_tipo_si  cd_tipo_ca  \\\n",
       "275          231  Ribeirão Perus   Parque Linear   Proposto           5   \n",
       "178           93        Varginha  Parque Natural   Proposto           3   \n",
       "65           112        Itaguacu   Parque Urbano   Proposto           1   \n",
       "\n",
       "     cd_tipo_si                                           geometry  \n",
       "275           1  MULTIPOLYGON (((321559.629 7407763.222, 321559...  \n",
       "178           1  MULTIPOLYGON (((330316.719 7368290.809, 330316...  \n",
       "65            1  POLYGON ((329200.256 7405952.275, 329193.63 74...  "
      ]
     },
     "execution_count": 8,
     "metadata": {},
     "output_type": "execute_result"
    }
   ],
   "source": [
    "gdf_parq_mun.sample(3)"
   ]
  },
  {
   "cell_type": "code",
   "execution_count": 9,
   "id": "d8c7be33-1012-45e1-a440-682d99d83de7",
   "metadata": {},
   "outputs": [
    {
     "data": {
      "text/plain": [
       "<bound method Series.unique of 0              Parque Urbano\n",
       "1                Parque Orla\n",
       "2      Parque de Conservação\n",
       "3              Parque Urbano\n",
       "4      Parque de Conservação\n",
       "               ...          \n",
       "275            Parque Linear\n",
       "276            Parque Linear\n",
       "277            Parque Urbano\n",
       "278            Parque Linear\n",
       "279            Parque Urbano\n",
       "Name: tx_tipo_ca, Length: 280, dtype: object>"
      ]
     },
     "execution_count": 9,
     "metadata": {},
     "output_type": "execute_result"
    }
   ],
   "source": [
    "gdf_parq_mun['tx_tipo_ca'].unique"
   ]
  },
  {
   "cell_type": "code",
   "execution_count": 10,
   "id": "307ea7d9-d865-4fac-9517-955ce218faec",
   "metadata": {},
   "outputs": [],
   "source": [
    "parques_lineares=(\n",
    "    gdf_parq_mun\n",
    "    .loc[gdf_parq_mun['tx_tipo_ca']\n",
    "    .str\n",
    "    .contains('inear', case=False)]\n",
    ")"
   ]
  },
  {
   "cell_type": "code",
   "execution_count": 11,
   "id": "d0ef8f5c-bd58-463e-a0f0-270c6f5d29ca",
   "metadata": {},
   "outputs": [
    {
     "data": {
      "text/plain": [
       "<bound method Series.unique of 23     Parque Linear\n",
       "27     Parque Linear\n",
       "35     Parque Linear\n",
       "37     Parque Linear\n",
       "39     Parque Linear\n",
       "           ...      \n",
       "267    Parque Linear\n",
       "268    Parque Linear\n",
       "275    Parque Linear\n",
       "276    Parque Linear\n",
       "278    Parque Linear\n",
       "Name: tx_tipo_ca, Length: 76, dtype: object>"
      ]
     },
     "execution_count": 11,
     "metadata": {},
     "output_type": "execute_result"
    }
   ],
   "source": [
    "parques_lineares['tx_tipo_ca'].unique"
   ]
  },
  {
   "cell_type": "code",
   "execution_count": 12,
   "id": "f3aa02de-3258-4b1c-84dd-0f13e07e7f5d",
   "metadata": {},
   "outputs": [
    {
     "data": {
      "text/plain": [
       "<bound method Series.unique of 23     5\n",
       "27     5\n",
       "35     5\n",
       "37     5\n",
       "39     5\n",
       "      ..\n",
       "267    5\n",
       "268    5\n",
       "275    5\n",
       "276    5\n",
       "278    5\n",
       "Name: cd_tipo_ca, Length: 76, dtype: int32>"
      ]
     },
     "execution_count": 12,
     "metadata": {},
     "output_type": "execute_result"
    }
   ],
   "source": [
    "parques_lineares['cd_tipo_ca'].unique"
   ]
  },
  {
   "cell_type": "code",
   "execution_count": 13,
   "id": "ce0f541e-120c-46b4-8496-a17ae4a9331e",
   "metadata": {},
   "outputs": [
    {
     "data": {
      "text/plain": [
       "<bound method Series.unique of 23     1\n",
       "27     1\n",
       "35     1\n",
       "37     1\n",
       "39     1\n",
       "      ..\n",
       "267    1\n",
       "268    1\n",
       "275    1\n",
       "276    1\n",
       "278    2\n",
       "Name: cd_tipo_si, Length: 76, dtype: int32>"
      ]
     },
     "execution_count": 13,
     "metadata": {},
     "output_type": "execute_result"
    }
   ],
   "source": [
    "parques_lineares['cd_tipo_si'].unique"
   ]
  },
  {
   "cell_type": "code",
   "execution_count": 14,
   "id": "ad0e8b77-49d9-491f-bc88-f00cb03a38c8",
   "metadata": {},
   "outputs": [],
   "source": [
    "parques_lineares =(\n",
    "    gdf_parq_mun\n",
    "    .loc[gdf_parq_mun['cd_tipo_ca']==5]\n",
    ")"
   ]
  },
  {
   "cell_type": "code",
   "execution_count": 15,
   "id": "1a79a165-b25a-477d-bb2b-83a117ddb7e7",
   "metadata": {},
   "outputs": [
    {
     "data": {
      "text/plain": [
       "(76, 7)"
      ]
     },
     "execution_count": 15,
     "metadata": {},
     "output_type": "execute_result"
    }
   ],
   "source": [
    "parques_lineares.shape"
   ]
  },
  {
   "cell_type": "markdown",
   "id": "925ce9a6-4a2f-4dcc-8edc-c038bb862ab1",
   "metadata": {},
   "source": [
    "# Salvar GDF"
   ]
  },
  {
   "cell_type": "code",
   "execution_count": 16,
   "id": "7c18866d-5d22-437c-8a0b-754cd1846a34",
   "metadata": {},
   "outputs": [],
   "source": [
    "save_parquet_excel(\n",
    "    parques_lineares,\n",
    "    fname='parques_lineares',\n",
    "    data_path = data_path,\n",
    "    data_subpath = 'assets'\n",
    ")"
   ]
  }
 ],
 "metadata": {
  "kernelspec": {
   "display_name": "Python 3 (ipykernel)",
   "language": "python",
   "name": "python3"
  },
  "language_info": {
   "codemirror_mode": {
    "name": "ipython",
    "version": 3
   },
   "file_extension": ".py",
   "mimetype": "text/x-python",
   "name": "python",
   "nbconvert_exporter": "python",
   "pygments_lexer": "ipython3",
   "version": "3.12.4"
  }
 },
 "nbformat": 4,
 "nbformat_minor": 5
}
