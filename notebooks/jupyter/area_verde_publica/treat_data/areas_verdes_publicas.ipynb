{
 "cells": [
  {
   "cell_type": "code",
   "execution_count": 1,
   "id": "2be32b0e-d09b-4d03-a120-459e69f96b3b",
   "metadata": {},
   "outputs": [],
   "source": [
    "from directory_area_verde_treat import (\n",
    "    definir_diretorio,\n",
    "    get_data_diretorio\n",
    ")\n",
    "\n",
    "project_path = definir_diretorio()\n",
    "data_path = get_data_diretorio(project_path)"
   ]
  },
  {
   "cell_type": "code",
   "execution_count": 2,
   "id": "3e02b330-d8a9-4d3b-a903-a57e56271602",
   "metadata": {},
   "outputs": [],
   "source": [
    "import geopandas as gpd\n",
    "import pandas as pd\n",
    "import os"
   ]
  },
  {
   "cell_type": "markdown",
   "id": "129f7a72-c2db-45a8-a6e9-f0998b60ca45",
   "metadata": {},
   "source": [
    "# Àreas Verdes Públicas"
   ]
  },
  {
   "cell_type": "markdown",
   "id": "1e44752b-b374-45b0-b04a-20f3a101bc44",
   "metadata": {},
   "source": [
    "As áreas verdes públicas, aqui, são constituídas de:\n",
    "* Parques Municipais\n",
    "* Praças e Canteiros\n",
    "* Terras Indígenas\n",
    "* (Se eu conseguir pegar, parques)"
   ]
  },
  {
   "cell_type": "markdown",
   "id": "63b442ea-1db4-49d1-85a1-8dcf236fb455",
   "metadata": {},
   "source": [
    "# Dependências"
   ]
  },
  {
   "cell_type": "markdown",
   "id": "43407009-0f8b-4c6a-8598-3849596e669b",
   "metadata": {},
   "source": [
    "Este notebook é dependente dos assets resultante dos notebooks '../download_data/malha_parques_municipais', '\"\"/malha_quadra_viaria', '\"\"/malha_terras_indigenas'"
   ]
  },
  {
   "cell_type": "code",
   "execution_count": 3,
   "id": "161c0c9c",
   "metadata": {},
   "outputs": [],
   "source": [
    "assets_path = os.path.join(\n",
    "    data_path, \n",
    "    'assets'\n",
    ")\n",
    "\n",
    "gdf_parq_mun = gpd.read_parquet(\n",
    "    os.path.join(\n",
    "        assets_path, \n",
    "        'parques_municipais.parquet'\n",
    "    )\n",
    ")\n",
    "\n",
    "gdf_quadra = gpd.read_parquet(\n",
    "    os.path.join(\n",
    "        assets_path,\n",
    "        'quadra_viaria_editada.parquet'\n",
    "    )\n",
    ")\n",
    "\n",
    "gdf_t_ind = gpd.read_parquet(\n",
    "    os.path.join(\n",
    "        assets_path,\n",
    "        'terra_indigena.parquet'\n",
    "    )\n",
    ")"
   ]
  },
  {
   "cell_type": "markdown",
   "id": "ae59228b-5923-495f-b689-5c4196b873b9",
   "metadata": {},
   "source": [
    "# Conferir intersecções"
   ]
  },
  {
   "cell_type": "markdown",
   "id": "8e4caf2a-3ef1-4128-ab7b-394f0f4178e8",
   "metadata": {},
   "source": [
    "Vamos confirmar se parece haver intersecções entre os gdf:"
   ]
  },
  {
   "cell_type": "code",
   "execution_count": null,
   "id": "bd357810-973e-44dc-947c-29058de56669",
   "metadata": {
    "scrolled": true
   },
   "outputs": [],
   "source": [
    "m= gdf_parq_mun.explore()\n",
    "\n",
    "gdf_t_ind.explore(m=m, color='orange')\n",
    "\n",
    "gdf_quadra.explore(m=m, color= 'pink')"
   ]
  },
  {
   "cell_type": "markdown",
   "id": "5e2ffc85-f66f-4794-9f79-8fbed5e6c1cb",
   "metadata": {},
   "source": [
    "# Tratar intersecções"
   ]
  },
  {
   "cell_type": "markdown",
   "id": "927bf5e7-acef-46e7-9881-3f95911745db",
   "metadata": {},
   "source": [
    "As intersecções podem causar problemas porque se forem ignoradas, aparecerão como duplicatas. Há mais de uma forma de tratá-las."
   ]
  },
  {
   "cell_type": "markdown",
   "id": "90682ff7-44bf-458e-81d7-1c10554dc96b",
   "metadata": {},
   "source": [
    "Aqui, as intersecções serão unidas todas em uma única geometria, na forma de um multipolígono (função dissolve), então serão separadas por polígonos (função explode). OBSTÁCULO: esse novo gdf não terá as informações respectivas a cada polígono, tudo que saberemos sobre eles é a geometria."
   ]
  },
  {
   "cell_type": "code",
   "execution_count": null,
   "id": "844d7974-bc9d-4ae0-9125-77e27df96476",
   "metadata": {},
   "outputs": [],
   "source": [
    "dataframesList = [\n",
    "    gdf_t_ind[['geometry']],\n",
    "    gdf_quadra[['geometry']],\n",
    "    gdf_parq_mun[['geometry']]\n",
    "]\n",
    "concat_gdf = gpd.GeoDataFrame(\n",
    "    pd.concat(\n",
    "        dataframesList,\n",
    "        ignore_index=True\n",
    "    )\n",
    ")"
   ]
  },
  {
   "cell_type": "code",
   "execution_count": null,
   "id": "72bd0c3a-bbbf-47c0-9210-0ea180ff426f",
   "metadata": {},
   "outputs": [],
   "source": [
    "concat_gdf.shape"
   ]
  },
  {
   "cell_type": "code",
   "execution_count": null,
   "id": "a7a93b89-6086-4b89-93ba-19a0acab4e70",
   "metadata": {},
   "outputs": [],
   "source": [
    "concat_gdf.sample(3)"
   ]
  },
  {
   "cell_type": "code",
   "execution_count": null,
   "id": "05ef5955-3455-4137-8f98-497d7e2b7b95",
   "metadata": {},
   "outputs": [],
   "source": [
    "dissolved_gdf = concat_gdf.dissolve()"
   ]
  },
  {
   "cell_type": "code",
   "execution_count": null,
   "id": "e6cf7a7e-1b6b-4d39-b88a-8dfdcca610af",
   "metadata": {},
   "outputs": [],
   "source": [
    "gdf_area_verde = dissolved_gdf.explode()"
   ]
  },
  {
   "cell_type": "code",
   "execution_count": null,
   "id": "01fa3891-2cf4-41ed-9f82-c45f15411b7a",
   "metadata": {},
   "outputs": [],
   "source": [
    "gdf_area_verde.shape"
   ]
  },
  {
   "cell_type": "markdown",
   "id": "de6a422a-e8b1-492f-a10f-fa493796ca98",
   "metadata": {},
   "source": [
    "# Conferir consistência e compatibilidade"
   ]
  },
  {
   "cell_type": "code",
   "execution_count": null,
   "id": "b3eb64f9-1412-4b3a-ac09-b628692f8975",
   "metadata": {},
   "outputs": [],
   "source": [
    "print(\n",
    "    f\"\"\"Conseguimos ver que após o dissolve e o explode, o número de polígonos cai em {\n",
    "        concat_gdf.shape[0]-gdf_area_verde.shape[0]\n",
    "    }.\"\"\"\n",
    ")"
   ]
  },
  {
   "cell_type": "markdown",
   "id": "a128070b-3783-45a6-9673-3ca3e2bdd7be",
   "metadata": {},
   "source": [
    "Para confirmarmos se deu tudo certo e essa diferença não significa que perdemos área durante as operações, vamos fazer um overlay do gdf_area_verde com os seus gdfs originários, mas o que retornará disso será apenas a diferença, isto é, quais os trechos do gdf original que ficaram de fora do gdf_area_verde, caso algum tenha ficado."
   ]
  },
  {
   "cell_type": "code",
   "execution_count": null,
   "id": "655cff62-8bb7-468a-a051-872e667afad6",
   "metadata": {},
   "outputs": [],
   "source": [
    "confere_parq_mun = gpd.overlay(gdf_parq_mun, gdf_area_verde, how='difference', keep_geom_type=True)"
   ]
  },
  {
   "cell_type": "code",
   "execution_count": null,
   "id": "411be2ec-29a9-4d9a-849f-b82c4249bd5f",
   "metadata": {},
   "outputs": [],
   "source": [
    "confere_parq_mun.shape"
   ]
  },
  {
   "cell_type": "markdown",
   "id": "c546da95-82e2-4e04-820a-9d0e978a8995",
   "metadata": {},
   "source": [
    "# Salvar gdf"
   ]
  },
  {
   "cell_type": "code",
   "execution_count": null,
   "id": "63ebacc0-1b07-4ac1-8d15-6b9aae969c45",
   "metadata": {},
   "outputs": [],
   "source": []
  }
 ],
 "metadata": {
  "kernelspec": {
   "display_name": "Python 3 (ipykernel)",
   "language": "python",
   "name": "python3"
  },
  "language_info": {
   "codemirror_mode": {
    "name": "ipython",
    "version": 3
   },
   "file_extension": ".py",
   "mimetype": "text/x-python",
   "name": "python",
   "nbconvert_exporter": "python",
   "pygments_lexer": "ipython3",
   "version": "3.12.4"
  }
 },
 "nbformat": 4,
 "nbformat_minor": 5
}
