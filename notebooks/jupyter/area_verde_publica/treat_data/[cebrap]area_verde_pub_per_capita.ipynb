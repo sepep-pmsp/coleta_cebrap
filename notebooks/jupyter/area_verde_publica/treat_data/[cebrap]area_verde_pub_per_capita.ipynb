{
 "cells": [
  {
   "cell_type": "code",
   "execution_count": 1,
   "id": "34e6b8f8-6b7f-4369-b215-01c3bc3efd3d",
   "metadata": {},
   "outputs": [
    {
     "name": "stdout",
     "output_type": "stream",
     "text": [
      "O diretorio do seu projeto é coleta_cebrap\n",
      "Caminho absoluto do diretorio encontrado C:\\Users\\x526378\\Desktop\\projetos\\cebrap\\coleta_cebrap\n",
      "Caminho no path.\n"
     ]
    }
   ],
   "source": [
    "from configuracoes_notebooks import set_proj_dir\n",
    "set_proj_dir()"
   ]
  },
  {
   "cell_type": "markdown",
   "id": "9f011e7f-e15a-43e8-bce1-3225da2ea1eb",
   "metadata": {},
   "source": [
    "from teste import diretorio_teste\n",
    "project_path = diretorio_teste()"
   ]
  },
  {
   "cell_type": "code",
   "execution_count": 2,
   "id": "3e02b330-d8a9-4d3b-a903-a57e56271602",
   "metadata": {},
   "outputs": [],
   "source": [
    "import geopandas as gpd\n",
    "import pandas as pd\n",
    "import os\n",
    "\n",
    "from notebooks.jupyter import utils\n",
    "from utils import (\n",
    "    get_data_diretorio,\n",
    "    save_parquet_excel,\n",
    ")"
   ]
  },
  {
   "cell_type": "markdown",
   "id": "fcee40e4-9dad-4690-82cb-e03bad89885f",
   "metadata": {},
   "source": [
    "# Área Verde Pública por habitante (m²/hab)"
   ]
  },
  {
   "cell_type": "code",
   "execution_count": 3,
   "id": "db810e49-b0b0-4bf7-993c-a68ebd5a4a09",
   "metadata": {},
   "outputs": [],
   "source": [
    "data_path = get_data_diretorio()\n",
    "#data_path = os.path.join(diretorio_teste(),'data')"
   ]
  },
  {
   "cell_type": "markdown",
   "id": "63b442ea-1db4-49d1-85a1-8dcf236fb455",
   "metadata": {},
   "source": [
    "# Dependências"
   ]
  },
  {
   "cell_type": "markdown",
   "id": "43407009-0f8b-4c6a-8598-3849596e669b",
   "metadata": {},
   "source": [
    "Este notebook é dependente dos assets resultante do notebook 'area_verde_pub_por_distrito'"
   ]
  },
  {
   "cell_type": "code",
   "execution_count": 4,
   "id": "a5e0f73f-7069-47d4-9e7a-585b23969a3d",
   "metadata": {},
   "outputs": [],
   "source": [
    "assets_path = os.path.join(\n",
    "    data_path,\n",
    "    'assets'\n",
    ")"
   ]
  },
  {
   "cell_type": "code",
   "execution_count": 5,
   "id": "17fbb0d2-5421-4399-9173-9dfe4017b86d",
   "metadata": {},
   "outputs": [],
   "source": [
    "gdf_dist_avp = gpd.read_parquet(\n",
    "    os.path.join(\n",
    "        assets_path,\n",
    "        'areas_verdes_publicas',\n",
    "        'distritos_areas_verdes_publicas.parquet'\n",
    "    )\n",
    ")"
   ]
  },
  {
   "cell_type": "markdown",
   "id": "b7767c83-e1dd-45bc-9e2f-f2276f129822",
   "metadata": {},
   "source": [
    "# Calcular área por habitante(m²/hab)"
   ]
  },
  {
   "cell_type": "code",
   "execution_count": 6,
   "id": "edc41b0b-38c9-48b1-916c-5c9df871f2f7",
   "metadata": {},
   "outputs": [
    {
     "data": {
      "text/html": [
       "<div>\n",
       "<style scoped>\n",
       "    .dataframe tbody tr th:only-of-type {\n",
       "        vertical-align: middle;\n",
       "    }\n",
       "\n",
       "    .dataframe tbody tr th {\n",
       "        vertical-align: top;\n",
       "    }\n",
       "\n",
       "    .dataframe thead th {\n",
       "        text-align: right;\n",
       "    }\n",
       "</style>\n",
       "<table border=\"1\" class=\"dataframe\">\n",
       "  <thead>\n",
       "    <tr style=\"text-align: right;\">\n",
       "      <th></th>\n",
       "      <th>CD_MUN</th>\n",
       "      <th>NM_MUN</th>\n",
       "      <th>CD_DIST</th>\n",
       "      <th>NM_DIST</th>\n",
       "      <th>CD_RGINT</th>\n",
       "      <th>NM_RGINT</th>\n",
       "      <th>CD_RGI</th>\n",
       "      <th>NM_RGI</th>\n",
       "      <th>CD_CONCURB</th>\n",
       "      <th>NM_CONCURB</th>\n",
       "      <th>AREA_KM2</th>\n",
       "      <th>total_pop</th>\n",
       "      <th>total_dom</th>\n",
       "      <th>geometry</th>\n",
       "      <th>area_avp_dist</th>\n",
       "    </tr>\n",
       "  </thead>\n",
       "  <tbody>\n",
       "    <tr>\n",
       "      <th>32</th>\n",
       "      <td>3550308</td>\n",
       "      <td>São Paulo</td>\n",
       "      <td>355030833</td>\n",
       "      <td>IGUATEMI</td>\n",
       "      <td>3501</td>\n",
       "      <td>São Paulo</td>\n",
       "      <td>350001</td>\n",
       "      <td>São Paulo</td>\n",
       "      <td>3550308</td>\n",
       "      <td>São Paulo/SP</td>\n",
       "      <td>19.575990</td>\n",
       "      <td>149700</td>\n",
       "      <td>59935</td>\n",
       "      <td>POLYGON ((353428.165 7387078.597, 353427.529 7...</td>\n",
       "      <td>4.461189e+06</td>\n",
       "    </tr>\n",
       "    <tr>\n",
       "      <th>35</th>\n",
       "      <td>3550308</td>\n",
       "      <td>São Paulo</td>\n",
       "      <td>355030836</td>\n",
       "      <td>ITAIM PAULISTA</td>\n",
       "      <td>3501</td>\n",
       "      <td>São Paulo</td>\n",
       "      <td>350001</td>\n",
       "      <td>São Paulo</td>\n",
       "      <td>3550308</td>\n",
       "      <td>São Paulo/SP</td>\n",
       "      <td>12.217145</td>\n",
       "      <td>205295</td>\n",
       "      <td>78141</td>\n",
       "      <td>POLYGON ((359382.741 7402158.394, 359386.115 7...</td>\n",
       "      <td>7.066866e+05</td>\n",
       "    </tr>\n",
       "  </tbody>\n",
       "</table>\n",
       "</div>"
      ],
      "text/plain": [
       "     CD_MUN     NM_MUN    CD_DIST         NM_DIST CD_RGINT   NM_RGINT  CD_RGI  \\\n",
       "32  3550308  São Paulo  355030833        IGUATEMI     3501  São Paulo  350001   \n",
       "35  3550308  São Paulo  355030836  ITAIM PAULISTA     3501  São Paulo  350001   \n",
       "\n",
       "       NM_RGI CD_CONCURB    NM_CONCURB   AREA_KM2  total_pop total_dom  \\\n",
       "32  São Paulo    3550308  São Paulo/SP  19.575990     149700     59935   \n",
       "35  São Paulo    3550308  São Paulo/SP  12.217145     205295     78141   \n",
       "\n",
       "                                             geometry  area_avp_dist  \n",
       "32  POLYGON ((353428.165 7387078.597, 353427.529 7...   4.461189e+06  \n",
       "35  POLYGON ((359382.741 7402158.394, 359386.115 7...   7.066866e+05  "
      ]
     },
     "execution_count": 6,
     "metadata": {},
     "output_type": "execute_result"
    }
   ],
   "source": [
    "gdf_dist_avp.sample(2)"
   ]
  },
  {
   "cell_type": "code",
   "execution_count": 7,
   "id": "ea453564-7129-46fd-8475-3b232faf34de",
   "metadata": {},
   "outputs": [],
   "source": [
    "gdf_dist_avp['avp_per_capita']=gdf_dist_avp['area_avp_dist']/gdf_dist_avp['total_pop']"
   ]
  },
  {
   "cell_type": "code",
   "execution_count": 8,
   "id": "109d013b-1b82-41f3-9d75-d1e513ed495f",
   "metadata": {},
   "outputs": [
    {
     "data": {
      "text/html": [
       "<div>\n",
       "<style scoped>\n",
       "    .dataframe tbody tr th:only-of-type {\n",
       "        vertical-align: middle;\n",
       "    }\n",
       "\n",
       "    .dataframe tbody tr th {\n",
       "        vertical-align: top;\n",
       "    }\n",
       "\n",
       "    .dataframe thead th {\n",
       "        text-align: right;\n",
       "    }\n",
       "</style>\n",
       "<table border=\"1\" class=\"dataframe\">\n",
       "  <thead>\n",
       "    <tr style=\"text-align: right;\">\n",
       "      <th></th>\n",
       "      <th>CD_MUN</th>\n",
       "      <th>NM_MUN</th>\n",
       "      <th>CD_DIST</th>\n",
       "      <th>NM_DIST</th>\n",
       "      <th>CD_RGINT</th>\n",
       "      <th>NM_RGINT</th>\n",
       "      <th>CD_RGI</th>\n",
       "      <th>NM_RGI</th>\n",
       "      <th>CD_CONCURB</th>\n",
       "      <th>NM_CONCURB</th>\n",
       "      <th>AREA_KM2</th>\n",
       "      <th>total_pop</th>\n",
       "      <th>total_dom</th>\n",
       "      <th>geometry</th>\n",
       "      <th>area_avp_dist</th>\n",
       "      <th>avp_per_capita</th>\n",
       "    </tr>\n",
       "  </thead>\n",
       "  <tbody>\n",
       "    <tr>\n",
       "      <th>85</th>\n",
       "      <td>3550308</td>\n",
       "      <td>São Paulo</td>\n",
       "      <td>355030886</td>\n",
       "      <td>VILA GUILHERME</td>\n",
       "      <td>3501</td>\n",
       "      <td>São Paulo</td>\n",
       "      <td>350001</td>\n",
       "      <td>São Paulo</td>\n",
       "      <td>3550308</td>\n",
       "      <td>São Paulo/SP</td>\n",
       "      <td>7.231334</td>\n",
       "      <td>52587</td>\n",
       "      <td>24265</td>\n",
       "      <td>POLYGON ((336324.23 7397666.362, 336287.973 73...</td>\n",
       "      <td>356871.558329</td>\n",
       "      <td>6.786308</td>\n",
       "    </tr>\n",
       "    <tr>\n",
       "      <th>13</th>\n",
       "      <td>3550308</td>\n",
       "      <td>São Paulo</td>\n",
       "      <td>355030814</td>\n",
       "      <td>CAMBUCI</td>\n",
       "      <td>3501</td>\n",
       "      <td>São Paulo</td>\n",
       "      <td>350001</td>\n",
       "      <td>São Paulo</td>\n",
       "      <td>3550308</td>\n",
       "      <td>São Paulo/SP</td>\n",
       "      <td>3.932713</td>\n",
       "      <td>45163</td>\n",
       "      <td>21929</td>\n",
       "      <td>POLYGON ((335439.705 7392510.798, 335388.234 7...</td>\n",
       "      <td>89518.874507</td>\n",
       "      <td>1.982129</td>\n",
       "    </tr>\n",
       "    <tr>\n",
       "      <th>95</th>\n",
       "      <td>3550308</td>\n",
       "      <td>São Paulo</td>\n",
       "      <td>355030896</td>\n",
       "      <td>LAJEADO</td>\n",
       "      <td>3501</td>\n",
       "      <td>São Paulo</td>\n",
       "      <td>350001</td>\n",
       "      <td>São Paulo</td>\n",
       "      <td>3550308</td>\n",
       "      <td>São Paulo/SP</td>\n",
       "      <td>8.902602</td>\n",
       "      <td>164391</td>\n",
       "      <td>63066</td>\n",
       "      <td>POLYGON ((356021.63 7395589.489, 356021.497 73...</td>\n",
       "      <td>608838.889071</td>\n",
       "      <td>3.703602</td>\n",
       "    </tr>\n",
       "  </tbody>\n",
       "</table>\n",
       "</div>"
      ],
      "text/plain": [
       "     CD_MUN     NM_MUN    CD_DIST         NM_DIST CD_RGINT   NM_RGINT  CD_RGI  \\\n",
       "85  3550308  São Paulo  355030886  VILA GUILHERME     3501  São Paulo  350001   \n",
       "13  3550308  São Paulo  355030814         CAMBUCI     3501  São Paulo  350001   \n",
       "95  3550308  São Paulo  355030896         LAJEADO     3501  São Paulo  350001   \n",
       "\n",
       "       NM_RGI CD_CONCURB    NM_CONCURB  AREA_KM2  total_pop total_dom  \\\n",
       "85  São Paulo    3550308  São Paulo/SP  7.231334      52587     24265   \n",
       "13  São Paulo    3550308  São Paulo/SP  3.932713      45163     21929   \n",
       "95  São Paulo    3550308  São Paulo/SP  8.902602     164391     63066   \n",
       "\n",
       "                                             geometry  area_avp_dist  \\\n",
       "85  POLYGON ((336324.23 7397666.362, 336287.973 73...  356871.558329   \n",
       "13  POLYGON ((335439.705 7392510.798, 335388.234 7...   89518.874507   \n",
       "95  POLYGON ((356021.63 7395589.489, 356021.497 73...  608838.889071   \n",
       "\n",
       "    avp_per_capita  \n",
       "85        6.786308  \n",
       "13        1.982129  \n",
       "95        3.703602  "
      ]
     },
     "execution_count": 8,
     "metadata": {},
     "output_type": "execute_result"
    }
   ],
   "source": [
    "gdf_dist_avp.sample(3)"
   ]
  },
  {
   "cell_type": "code",
   "execution_count": 9,
   "id": "502725f0-497b-4d14-831b-fd4b8d570b4e",
   "metadata": {},
   "outputs": [
    {
     "data": {
      "text/html": [
       "<div>\n",
       "<style scoped>\n",
       "    .dataframe tbody tr th:only-of-type {\n",
       "        vertical-align: middle;\n",
       "    }\n",
       "\n",
       "    .dataframe tbody tr th {\n",
       "        vertical-align: top;\n",
       "    }\n",
       "\n",
       "    .dataframe thead th {\n",
       "        text-align: right;\n",
       "    }\n",
       "</style>\n",
       "<table border=\"1\" class=\"dataframe\">\n",
       "  <thead>\n",
       "    <tr style=\"text-align: right;\">\n",
       "      <th></th>\n",
       "      <th>CD_MUN</th>\n",
       "      <th>NM_MUN</th>\n",
       "      <th>CD_DIST</th>\n",
       "      <th>NM_DIST</th>\n",
       "      <th>CD_RGINT</th>\n",
       "      <th>NM_RGINT</th>\n",
       "      <th>CD_RGI</th>\n",
       "      <th>NM_RGI</th>\n",
       "      <th>CD_CONCURB</th>\n",
       "      <th>NM_CONCURB</th>\n",
       "      <th>AREA_KM2</th>\n",
       "      <th>total_pop</th>\n",
       "      <th>total_dom</th>\n",
       "      <th>geometry</th>\n",
       "      <th>area_avp_dist</th>\n",
       "      <th>avp_per_capita</th>\n",
       "    </tr>\n",
       "  </thead>\n",
       "  <tbody>\n",
       "    <tr>\n",
       "      <th>21</th>\n",
       "      <td>3550308</td>\n",
       "      <td>São Paulo</td>\n",
       "      <td>355030822</td>\n",
       "      <td>CIDADE ADEMAR</td>\n",
       "      <td>3501</td>\n",
       "      <td>São Paulo</td>\n",
       "      <td>350001</td>\n",
       "      <td>São Paulo</td>\n",
       "      <td>3550308</td>\n",
       "      <td>São Paulo/SP</td>\n",
       "      <td>12.23319</td>\n",
       "      <td>249218</td>\n",
       "      <td>103713</td>\n",
       "      <td>POLYGON ((333467.739 7379561.767, 333458.192 7...</td>\n",
       "      <td>143355.764642</td>\n",
       "      <td>0.575222</td>\n",
       "    </tr>\n",
       "  </tbody>\n",
       "</table>\n",
       "</div>"
      ],
      "text/plain": [
       "     CD_MUN     NM_MUN    CD_DIST        NM_DIST CD_RGINT   NM_RGINT  CD_RGI  \\\n",
       "21  3550308  São Paulo  355030822  CIDADE ADEMAR     3501  São Paulo  350001   \n",
       "\n",
       "       NM_RGI CD_CONCURB    NM_CONCURB  AREA_KM2  total_pop total_dom  \\\n",
       "21  São Paulo    3550308  São Paulo/SP  12.23319     249218    103713   \n",
       "\n",
       "                                             geometry  area_avp_dist  \\\n",
       "21  POLYGON ((333467.739 7379561.767, 333458.192 7...  143355.764642   \n",
       "\n",
       "    avp_per_capita  \n",
       "21        0.575222  "
      ]
     },
     "execution_count": 9,
     "metadata": {},
     "output_type": "execute_result"
    }
   ],
   "source": [
    "(\n",
    "    gdf_dist_avp\n",
    "    .loc[\n",
    "        gdf_dist_avp['avp_per_capita']== gdf_dist_avp['avp_per_capita'].min()\n",
    "    ]\n",
    ")"
   ]
  },
  {
   "cell_type": "code",
   "execution_count": 10,
   "id": "6237262d-ad9a-4baa-af45-cf0bf348b4f7",
   "metadata": {
    "scrolled": true
   },
   "outputs": [
    {
     "data": {
      "text/html": [
       "<div>\n",
       "<style scoped>\n",
       "    .dataframe tbody tr th:only-of-type {\n",
       "        vertical-align: middle;\n",
       "    }\n",
       "\n",
       "    .dataframe tbody tr th {\n",
       "        vertical-align: top;\n",
       "    }\n",
       "\n",
       "    .dataframe thead th {\n",
       "        text-align: right;\n",
       "    }\n",
       "</style>\n",
       "<table border=\"1\" class=\"dataframe\">\n",
       "  <thead>\n",
       "    <tr style=\"text-align: right;\">\n",
       "      <th></th>\n",
       "      <th>CD_MUN</th>\n",
       "      <th>NM_MUN</th>\n",
       "      <th>CD_DIST</th>\n",
       "      <th>NM_DIST</th>\n",
       "      <th>CD_RGINT</th>\n",
       "      <th>NM_RGINT</th>\n",
       "      <th>CD_RGI</th>\n",
       "      <th>NM_RGI</th>\n",
       "      <th>CD_CONCURB</th>\n",
       "      <th>NM_CONCURB</th>\n",
       "      <th>AREA_KM2</th>\n",
       "      <th>total_pop</th>\n",
       "      <th>total_dom</th>\n",
       "      <th>geometry</th>\n",
       "      <th>area_avp_dist</th>\n",
       "      <th>avp_per_capita</th>\n",
       "    </tr>\n",
       "  </thead>\n",
       "  <tbody>\n",
       "    <tr>\n",
       "      <th>51</th>\n",
       "      <td>3550308</td>\n",
       "      <td>São Paulo</td>\n",
       "      <td>355030852</td>\n",
       "      <td>MARSILAC</td>\n",
       "      <td>3501</td>\n",
       "      <td>São Paulo</td>\n",
       "      <td>350001</td>\n",
       "      <td>São Paulo</td>\n",
       "      <td>3550308</td>\n",
       "      <td>São Paulo/SP</td>\n",
       "      <td>207.50126</td>\n",
       "      <td>11451</td>\n",
       "      <td>6139</td>\n",
       "      <td>POLYGON ((333016.008 7354600.919, 333056.044 7...</td>\n",
       "      <td>1.979036e+08</td>\n",
       "      <td>17282.645293</td>\n",
       "    </tr>\n",
       "  </tbody>\n",
       "</table>\n",
       "</div>"
      ],
      "text/plain": [
       "     CD_MUN     NM_MUN    CD_DIST   NM_DIST CD_RGINT   NM_RGINT  CD_RGI  \\\n",
       "51  3550308  São Paulo  355030852  MARSILAC     3501  São Paulo  350001   \n",
       "\n",
       "       NM_RGI CD_CONCURB    NM_CONCURB   AREA_KM2  total_pop total_dom  \\\n",
       "51  São Paulo    3550308  São Paulo/SP  207.50126      11451      6139   \n",
       "\n",
       "                                             geometry  area_avp_dist  \\\n",
       "51  POLYGON ((333016.008 7354600.919, 333056.044 7...   1.979036e+08   \n",
       "\n",
       "    avp_per_capita  \n",
       "51    17282.645293  "
      ]
     },
     "execution_count": 10,
     "metadata": {},
     "output_type": "execute_result"
    }
   ],
   "source": [
    "(\n",
    "    gdf_dist_avp\n",
    "    .loc[\n",
    "        gdf_dist_avp['avp_per_capita']== gdf_dist_avp['avp_per_capita'].max()\n",
    "    ]\n",
    ")"
   ]
  },
  {
   "cell_type": "markdown",
   "id": "0c6a1f6c-92e9-48cd-be8d-aecdf38b33a4",
   "metadata": {},
   "source": [
    "# Salvar GDF"
   ]
  },
  {
   "cell_type": "code",
   "execution_count": 11,
   "id": "19d812c2-956c-46f3-a347-6e70da8c5b8e",
   "metadata": {},
   "outputs": [],
   "source": [
    "save_parquet_excel(\n",
    "    gdf_dist_avp,\n",
    "    fname='dist_areas_verdes_publicas_per_capita',\n",
    "    data_path=assets_path,\n",
    "    data_subpath='areas_verdes_publicas'\n",
    ")"
   ]
  }
 ],
 "metadata": {
  "kernelspec": {
   "display_name": "Python 3 (ipykernel)",
   "language": "python",
   "name": "python3"
  },
  "language_info": {
   "codemirror_mode": {
    "name": "ipython",
    "version": 3
   },
   "file_extension": ".py",
   "mimetype": "text/x-python",
   "name": "python",
   "nbconvert_exporter": "python",
   "pygments_lexer": "ipython3",
   "version": "3.12.4"
  }
 },
 "nbformat": 4,
 "nbformat_minor": 5
}
