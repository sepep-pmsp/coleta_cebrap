{
 "cells": [
  {
   "cell_type": "code",
   "execution_count": 1,
   "id": "ef885cc8-99d4-481e-8427-27b6f532fb68",
   "metadata": {},
   "outputs": [
    {
     "name": "stdout",
     "output_type": "stream",
     "text": [
      "D:\\Documentos_Novo\\ADPPSP\\2024\\cebrap\\teste\\coleta_cebrap\n"
     ]
    }
   ],
   "source": [
    "from teste import diretorio_teste\n",
    "project_path= diretorio_teste()"
   ]
  },
  {
   "cell_type": "code",
   "execution_count": 2,
   "id": "3e02b330-d8a9-4d3b-a903-a57e56271602",
   "metadata": {},
   "outputs": [],
   "source": [
    "import geopandas as gpd\n",
    "import pandas as pd\n",
    "import os"
   ]
  },
  {
   "cell_type": "code",
   "execution_count": 3,
   "id": "f202f54f-407e-4a07-a957-eb2b5c2bf6de",
   "metadata": {},
   "outputs": [],
   "source": [
    "data_path = os.path.join(\n",
    "    project_path,\n",
    "    'data'\n",
    ")"
   ]
  },
  {
   "cell_type": "markdown",
   "id": "fcee40e4-9dad-4690-82cb-e03bad89885f",
   "metadata": {},
   "source": [
    "# Área Verde Pública por habitante (m²/hab)"
   ]
  },
  {
   "cell_type": "markdown",
   "id": "63b442ea-1db4-49d1-85a1-8dcf236fb455",
   "metadata": {},
   "source": [
    "# Dependências"
   ]
  },
  {
   "cell_type": "markdown",
   "id": "43407009-0f8b-4c6a-8598-3849596e669b",
   "metadata": {},
   "source": [
    "Este notebook é dependente dos assets resultante dos notebooks 'areas_verdes_publicas' e '../../arborizacao_viaria/carregar_dados/malha_distritos'"
   ]
  },
  {
   "cell_type": "code",
   "execution_count": 4,
   "id": "a5e0f73f-7069-47d4-9e7a-585b23969a3d",
   "metadata": {},
   "outputs": [],
   "source": [
    "assets_path = os.path.join(\n",
    "    data_path,\n",
    "    'assets'\n",
    ")"
   ]
  },
  {
   "cell_type": "code",
   "execution_count": 5,
   "id": "17fbb0d2-5421-4399-9173-9dfe4017b86d",
   "metadata": {},
   "outputs": [],
   "source": [
    "gdf_areas_verdes = gpd.read_parquet(\n",
    "    os.path.join(\n",
    "        assets_path,\n",
    "        'areas_verdes_publicas',\n",
    "        'areas_verdes_publicas.parquet'\n",
    "    )\n",
    ")"
   ]
  },
  {
   "cell_type": "code",
   "execution_count": 6,
   "id": "ac052d63-b5e3-447c-9d17-0fe1272f6f5f",
   "metadata": {},
   "outputs": [],
   "source": [
    "gdf_distritos = gpd.read_parquet(\n",
    "    os.path.join(\n",
    "        assets_path,\n",
    "        'distrito_ibge.parquet'\n",
    "    )\n",
    ")"
   ]
  },
  {
   "cell_type": "markdown",
   "id": "6e7f1326-2425-4fa6-8ba0-03c92ef470db",
   "metadata": {},
   "source": [
    "# Recortar Áreas Verdes por Distrito"
   ]
  },
  {
   "cell_type": "code",
   "execution_count": 7,
   "id": "3ecad439-6ab7-4f3f-9a16-4cc23318817f",
   "metadata": {},
   "outputs": [],
   "source": [
    "areas_verdes_recort = gpd.overlay(\n",
    "    gdf_areas_verdes,\n",
    "    gdf_distritos,\n",
    "    'intersection',\n",
    "    keep_geom_type=True\n",
    ")"
   ]
  },
  {
   "cell_type": "code",
   "execution_count": 9,
   "id": "75b6a597-fb0f-4f33-ae11-edacb5cdb3e9",
   "metadata": {},
   "outputs": [
    {
     "data": {
      "text/html": [
       "<div>\n",
       "<style scoped>\n",
       "    .dataframe tbody tr th:only-of-type {\n",
       "        vertical-align: middle;\n",
       "    }\n",
       "\n",
       "    .dataframe tbody tr th {\n",
       "        vertical-align: top;\n",
       "    }\n",
       "\n",
       "    .dataframe thead th {\n",
       "        text-align: right;\n",
       "    }\n",
       "</style>\n",
       "<table border=\"1\" class=\"dataframe\">\n",
       "  <thead>\n",
       "    <tr style=\"text-align: right;\">\n",
       "      <th></th>\n",
       "      <th>CD_MUN</th>\n",
       "      <th>NM_MUN</th>\n",
       "      <th>CD_DIST</th>\n",
       "      <th>NM_DIST</th>\n",
       "      <th>CD_RGINT</th>\n",
       "      <th>NM_RGINT</th>\n",
       "      <th>CD_RGI</th>\n",
       "      <th>NM_RGI</th>\n",
       "      <th>CD_CONCURB</th>\n",
       "      <th>NM_CONCURB</th>\n",
       "      <th>AREA_KM2</th>\n",
       "      <th>total_pop</th>\n",
       "      <th>total_dom</th>\n",
       "      <th>geometry</th>\n",
       "    </tr>\n",
       "  </thead>\n",
       "  <tbody>\n",
       "    <tr>\n",
       "      <th>10703</th>\n",
       "      <td>3550308</td>\n",
       "      <td>São Paulo</td>\n",
       "      <td>355030873</td>\n",
       "      <td>SAO MATEUS</td>\n",
       "      <td>3501</td>\n",
       "      <td>São Paulo</td>\n",
       "      <td>350001</td>\n",
       "      <td>São Paulo</td>\n",
       "      <td>3550308</td>\n",
       "      <td>São Paulo/SP</td>\n",
       "      <td>12.682299</td>\n",
       "      <td>155682</td>\n",
       "      <td>64726</td>\n",
       "      <td>POLYGON ((350459.843 7387353.17, 350461.641 73...</td>\n",
       "    </tr>\n",
       "    <tr>\n",
       "      <th>6718</th>\n",
       "      <td>3550308</td>\n",
       "      <td>São Paulo</td>\n",
       "      <td>355030890</td>\n",
       "      <td>VILA MARIANA</td>\n",
       "      <td>3501</td>\n",
       "      <td>São Paulo</td>\n",
       "      <td>350001</td>\n",
       "      <td>São Paulo</td>\n",
       "      <td>3550308</td>\n",
       "      <td>São Paulo/SP</td>\n",
       "      <td>8.523343</td>\n",
       "      <td>127286</td>\n",
       "      <td>70691</td>\n",
       "      <td>POLYGON ((334856.685 7390749.488, 334848.329 7...</td>\n",
       "    </tr>\n",
       "  </tbody>\n",
       "</table>\n",
       "</div>"
      ],
      "text/plain": [
       "        CD_MUN     NM_MUN    CD_DIST       NM_DIST CD_RGINT   NM_RGINT  \\\n",
       "10703  3550308  São Paulo  355030873    SAO MATEUS     3501  São Paulo   \n",
       "6718   3550308  São Paulo  355030890  VILA MARIANA     3501  São Paulo   \n",
       "\n",
       "       CD_RGI     NM_RGI CD_CONCURB    NM_CONCURB   AREA_KM2  total_pop  \\\n",
       "10703  350001  São Paulo    3550308  São Paulo/SP  12.682299     155682   \n",
       "6718   350001  São Paulo    3550308  São Paulo/SP   8.523343     127286   \n",
       "\n",
       "      total_dom                                           geometry  \n",
       "10703     64726  POLYGON ((350459.843 7387353.17, 350461.641 73...  \n",
       "6718      70691  POLYGON ((334856.685 7390749.488, 334848.329 7...  "
      ]
     },
     "execution_count": 9,
     "metadata": {},
     "output_type": "execute_result"
    }
   ],
   "source": [
    "areas_verdes_recort.sample(2)"
   ]
  },
  {
   "cell_type": "code",
   "execution_count": null,
   "id": "24bb62a8-58a5-4488-bcfa-47c562c4989f",
   "metadata": {},
   "outputs": [],
   "source": []
  }
 ],
 "metadata": {
  "kernelspec": {
   "display_name": "Python 3 (ipykernel)",
   "language": "python",
   "name": "python3"
  },
  "language_info": {
   "codemirror_mode": {
    "name": "ipython",
    "version": 3
   },
   "file_extension": ".py",
   "mimetype": "text/x-python",
   "name": "python",
   "nbconvert_exporter": "python",
   "pygments_lexer": "ipython3",
   "version": "3.12.4"
  }
 },
 "nbformat": 4,
 "nbformat_minor": 5
}
