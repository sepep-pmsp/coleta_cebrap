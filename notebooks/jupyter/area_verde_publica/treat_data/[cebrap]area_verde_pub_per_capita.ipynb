{
 "cells": [
  {
   "cell_type": "markdown",
   "id": "f612fa95-4346-49e0-8a5c-1008fe69b7c6",
   "metadata": {},
   "source": [
    "from configuracoes_notebooks import set_proj_dir\n",
    "set_proj_dir()"
   ]
  },
  {
   "cell_type": "code",
   "execution_count": 1,
   "id": "6c757b2d-8e08-40a4-b588-44044b681f8d",
   "metadata": {},
   "outputs": [
    {
     "name": "stdout",
     "output_type": "stream",
     "text": [
      "D:\\Documentos_Novo\\ADPPSP\\2024\\cebrap\\teste\\coleta_cebrap\n"
     ]
    }
   ],
   "source": [
    "from teste import diretorio_teste\n",
    "project_path = diretorio_teste()"
   ]
  },
  {
   "cell_type": "code",
   "execution_count": 2,
   "id": "3e02b330-d8a9-4d3b-a903-a57e56271602",
   "metadata": {},
   "outputs": [],
   "source": [
    "import geopandas as gpd\n",
    "import pandas as pd\n",
    "import os\n",
    "\n",
    "from notebooks.jupyter import utils\n",
    "from utils import (\n",
    "    get_data_diretorio,\n",
    "    save_parquet_excel,\n",
    ")"
   ]
  },
  {
   "cell_type": "markdown",
   "id": "fcee40e4-9dad-4690-82cb-e03bad89885f",
   "metadata": {},
   "source": [
    "# Área Verde Pública por habitante (m²/hab)"
   ]
  },
  {
   "cell_type": "code",
   "execution_count": 3,
   "id": "db810e49-b0b0-4bf7-993c-a68ebd5a4a09",
   "metadata": {},
   "outputs": [
    {
     "name": "stdout",
     "output_type": "stream",
     "text": [
      "D:\\Documentos_Novo\\ADPPSP\\2024\\cebrap\\teste\\coleta_cebrap\n"
     ]
    }
   ],
   "source": [
    "#data_path = get_data_diretorio()\n",
    "data_path = os.path.join(\n",
    "    diretorio_teste(),\n",
    "    'data'\n",
    ")"
   ]
  },
  {
   "cell_type": "markdown",
   "id": "63b442ea-1db4-49d1-85a1-8dcf236fb455",
   "metadata": {},
   "source": [
    "# Dependências"
   ]
  },
  {
   "cell_type": "markdown",
   "id": "43407009-0f8b-4c6a-8598-3849596e669b",
   "metadata": {},
   "source": [
    "Este notebook é dependente dos assets resultante do notebook 'area_verde_pub_por_distrito'"
   ]
  },
  {
   "cell_type": "code",
   "execution_count": 4,
   "id": "a5e0f73f-7069-47d4-9e7a-585b23969a3d",
   "metadata": {},
   "outputs": [],
   "source": [
    "assets_path = os.path.join(\n",
    "    data_path,\n",
    "    'assets'\n",
    ")"
   ]
  },
  {
   "cell_type": "code",
   "execution_count": 5,
   "id": "17fbb0d2-5421-4399-9173-9dfe4017b86d",
   "metadata": {},
   "outputs": [],
   "source": [
    "gdf_dist_avp = gpd.read_parquet(\n",
    "    os.path.join(\n",
    "        assets_path,\n",
    "        'areas_verdes_publicas',\n",
    "        'distritos_areas_verdes_publicas.parquet'\n",
    "    )\n",
    ")"
   ]
  },
  {
   "cell_type": "markdown",
   "id": "b7767c83-e1dd-45bc-9e2f-f2276f129822",
   "metadata": {},
   "source": [
    "# Calcular área por habitante(m²/hab)"
   ]
  },
  {
   "cell_type": "code",
   "execution_count": 6,
   "id": "edc41b0b-38c9-48b1-916c-5c9df871f2f7",
   "metadata": {},
   "outputs": [
    {
     "data": {
      "text/html": [
       "<div>\n",
       "<style scoped>\n",
       "    .dataframe tbody tr th:only-of-type {\n",
       "        vertical-align: middle;\n",
       "    }\n",
       "\n",
       "    .dataframe tbody tr th {\n",
       "        vertical-align: top;\n",
       "    }\n",
       "\n",
       "    .dataframe thead th {\n",
       "        text-align: right;\n",
       "    }\n",
       "</style>\n",
       "<table border=\"1\" class=\"dataframe\">\n",
       "  <thead>\n",
       "    <tr style=\"text-align: right;\">\n",
       "      <th></th>\n",
       "      <th>CD_MUN</th>\n",
       "      <th>NM_MUN</th>\n",
       "      <th>CD_DIST</th>\n",
       "      <th>NM_DIST</th>\n",
       "      <th>CD_RGINT</th>\n",
       "      <th>NM_RGINT</th>\n",
       "      <th>CD_RGI</th>\n",
       "      <th>NM_RGI</th>\n",
       "      <th>CD_CONCURB</th>\n",
       "      <th>NM_CONCURB</th>\n",
       "      <th>AREA_KM2</th>\n",
       "      <th>total_pop</th>\n",
       "      <th>total_dom</th>\n",
       "      <th>geometry</th>\n",
       "      <th>area_avp_dist</th>\n",
       "    </tr>\n",
       "  </thead>\n",
       "  <tbody>\n",
       "    <tr>\n",
       "      <th>4</th>\n",
       "      <td>3550308</td>\n",
       "      <td>São Paulo</td>\n",
       "      <td>355030805</td>\n",
       "      <td>ARTUR ALVIM</td>\n",
       "      <td>3501</td>\n",
       "      <td>São Paulo</td>\n",
       "      <td>350001</td>\n",
       "      <td>São Paulo</td>\n",
       "      <td>3550308</td>\n",
       "      <td>São Paulo/SP</td>\n",
       "      <td>6.515567</td>\n",
       "      <td>95575</td>\n",
       "      <td>40976</td>\n",
       "      <td>POLYGON ((348356.559 7394319.135, 348356.078 7...</td>\n",
       "      <td>169413.229877</td>\n",
       "    </tr>\n",
       "    <tr>\n",
       "      <th>79</th>\n",
       "      <td>3550308</td>\n",
       "      <td>São Paulo</td>\n",
       "      <td>355030880</td>\n",
       "      <td>TATUAPE</td>\n",
       "      <td>3501</td>\n",
       "      <td>São Paulo</td>\n",
       "      <td>350001</td>\n",
       "      <td>São Paulo</td>\n",
       "      <td>3550308</td>\n",
       "      <td>São Paulo/SP</td>\n",
       "      <td>8.488643</td>\n",
       "      <td>98601</td>\n",
       "      <td>50666</td>\n",
       "      <td>POLYGON ((340908.108 7394174.561, 340906.88 73...</td>\n",
       "      <td>247225.027664</td>\n",
       "    </tr>\n",
       "  </tbody>\n",
       "</table>\n",
       "</div>"
      ],
      "text/plain": [
       "     CD_MUN     NM_MUN    CD_DIST      NM_DIST CD_RGINT   NM_RGINT  CD_RGI  \\\n",
       "4   3550308  São Paulo  355030805  ARTUR ALVIM     3501  São Paulo  350001   \n",
       "79  3550308  São Paulo  355030880      TATUAPE     3501  São Paulo  350001   \n",
       "\n",
       "       NM_RGI CD_CONCURB    NM_CONCURB  AREA_KM2  total_pop total_dom  \\\n",
       "4   São Paulo    3550308  São Paulo/SP  6.515567      95575     40976   \n",
       "79  São Paulo    3550308  São Paulo/SP  8.488643      98601     50666   \n",
       "\n",
       "                                             geometry  area_avp_dist  \n",
       "4   POLYGON ((348356.559 7394319.135, 348356.078 7...  169413.229877  \n",
       "79  POLYGON ((340908.108 7394174.561, 340906.88 73...  247225.027664  "
      ]
     },
     "execution_count": 6,
     "metadata": {},
     "output_type": "execute_result"
    }
   ],
   "source": [
    "gdf_dist_avp.sample(2)"
   ]
  },
  {
   "cell_type": "code",
   "execution_count": 7,
   "id": "ea453564-7129-46fd-8475-3b232faf34de",
   "metadata": {},
   "outputs": [],
   "source": [
    "gdf_dist_avp['avp_per_capita']=gdf_dist_avp['area_avp_dist']/gdf_dist_avp['total_pop']"
   ]
  },
  {
   "cell_type": "code",
   "execution_count": 8,
   "id": "109d013b-1b82-41f3-9d75-d1e513ed495f",
   "metadata": {},
   "outputs": [
    {
     "data": {
      "text/html": [
       "<div>\n",
       "<style scoped>\n",
       "    .dataframe tbody tr th:only-of-type {\n",
       "        vertical-align: middle;\n",
       "    }\n",
       "\n",
       "    .dataframe tbody tr th {\n",
       "        vertical-align: top;\n",
       "    }\n",
       "\n",
       "    .dataframe thead th {\n",
       "        text-align: right;\n",
       "    }\n",
       "</style>\n",
       "<table border=\"1\" class=\"dataframe\">\n",
       "  <thead>\n",
       "    <tr style=\"text-align: right;\">\n",
       "      <th></th>\n",
       "      <th>CD_MUN</th>\n",
       "      <th>NM_MUN</th>\n",
       "      <th>CD_DIST</th>\n",
       "      <th>NM_DIST</th>\n",
       "      <th>CD_RGINT</th>\n",
       "      <th>NM_RGINT</th>\n",
       "      <th>CD_RGI</th>\n",
       "      <th>NM_RGI</th>\n",
       "      <th>CD_CONCURB</th>\n",
       "      <th>NM_CONCURB</th>\n",
       "      <th>AREA_KM2</th>\n",
       "      <th>total_pop</th>\n",
       "      <th>total_dom</th>\n",
       "      <th>geometry</th>\n",
       "      <th>area_avp_dist</th>\n",
       "      <th>avp_per_capita</th>\n",
       "    </tr>\n",
       "  </thead>\n",
       "  <tbody>\n",
       "    <tr>\n",
       "      <th>31</th>\n",
       "      <td>3550308</td>\n",
       "      <td>São Paulo</td>\n",
       "      <td>355030832</td>\n",
       "      <td>MOEMA</td>\n",
       "      <td>3501</td>\n",
       "      <td>São Paulo</td>\n",
       "      <td>350001</td>\n",
       "      <td>São Paulo</td>\n",
       "      <td>3550308</td>\n",
       "      <td>São Paulo/SP</td>\n",
       "      <td>9.105585</td>\n",
       "      <td>81899</td>\n",
       "      <td>46035</td>\n",
       "      <td>POLYGON ((330022.337 7387312.115, 330021.027 7...</td>\n",
       "      <td>1.587032e+06</td>\n",
       "      <td>19.377913</td>\n",
       "    </tr>\n",
       "    <tr>\n",
       "      <th>66</th>\n",
       "      <td>3550308</td>\n",
       "      <td>São Paulo</td>\n",
       "      <td>355030867</td>\n",
       "      <td>RIO PEQUENO</td>\n",
       "      <td>3501</td>\n",
       "      <td>São Paulo</td>\n",
       "      <td>350001</td>\n",
       "      <td>São Paulo</td>\n",
       "      <td>3550308</td>\n",
       "      <td>São Paulo/SP</td>\n",
       "      <td>9.755869</td>\n",
       "      <td>131631</td>\n",
       "      <td>54686</td>\n",
       "      <td>POLYGON ((322346.814 7391673.431, 322303.81 73...</td>\n",
       "      <td>6.681185e+05</td>\n",
       "      <td>5.075692</td>\n",
       "    </tr>\n",
       "    <tr>\n",
       "      <th>8</th>\n",
       "      <td>3550308</td>\n",
       "      <td>São Paulo</td>\n",
       "      <td>355030809</td>\n",
       "      <td>BOM RETIRO</td>\n",
       "      <td>3501</td>\n",
       "      <td>São Paulo</td>\n",
       "      <td>350001</td>\n",
       "      <td>São Paulo</td>\n",
       "      <td>3550308</td>\n",
       "      <td>São Paulo/SP</td>\n",
       "      <td>4.264301</td>\n",
       "      <td>33520</td>\n",
       "      <td>15050</td>\n",
       "      <td>POLYGON ((332903.374 7396298.673, 332894.772 7...</td>\n",
       "      <td>2.758726e+05</td>\n",
       "      <td>8.230091</td>\n",
       "    </tr>\n",
       "  </tbody>\n",
       "</table>\n",
       "</div>"
      ],
      "text/plain": [
       "     CD_MUN     NM_MUN    CD_DIST      NM_DIST CD_RGINT   NM_RGINT  CD_RGI  \\\n",
       "31  3550308  São Paulo  355030832        MOEMA     3501  São Paulo  350001   \n",
       "66  3550308  São Paulo  355030867  RIO PEQUENO     3501  São Paulo  350001   \n",
       "8   3550308  São Paulo  355030809   BOM RETIRO     3501  São Paulo  350001   \n",
       "\n",
       "       NM_RGI CD_CONCURB    NM_CONCURB  AREA_KM2  total_pop total_dom  \\\n",
       "31  São Paulo    3550308  São Paulo/SP  9.105585      81899     46035   \n",
       "66  São Paulo    3550308  São Paulo/SP  9.755869     131631     54686   \n",
       "8   São Paulo    3550308  São Paulo/SP  4.264301      33520     15050   \n",
       "\n",
       "                                             geometry  area_avp_dist  \\\n",
       "31  POLYGON ((330022.337 7387312.115, 330021.027 7...   1.587032e+06   \n",
       "66  POLYGON ((322346.814 7391673.431, 322303.81 73...   6.681185e+05   \n",
       "8   POLYGON ((332903.374 7396298.673, 332894.772 7...   2.758726e+05   \n",
       "\n",
       "    avp_per_capita  \n",
       "31       19.377913  \n",
       "66        5.075692  \n",
       "8         8.230091  "
      ]
     },
     "execution_count": 8,
     "metadata": {},
     "output_type": "execute_result"
    }
   ],
   "source": [
    "gdf_dist_avp.sample(3)"
   ]
  },
  {
   "cell_type": "code",
   "execution_count": 9,
   "id": "502725f0-497b-4d14-831b-fd4b8d570b4e",
   "metadata": {},
   "outputs": [
    {
     "data": {
      "text/html": [
       "<div>\n",
       "<style scoped>\n",
       "    .dataframe tbody tr th:only-of-type {\n",
       "        vertical-align: middle;\n",
       "    }\n",
       "\n",
       "    .dataframe tbody tr th {\n",
       "        vertical-align: top;\n",
       "    }\n",
       "\n",
       "    .dataframe thead th {\n",
       "        text-align: right;\n",
       "    }\n",
       "</style>\n",
       "<table border=\"1\" class=\"dataframe\">\n",
       "  <thead>\n",
       "    <tr style=\"text-align: right;\">\n",
       "      <th></th>\n",
       "      <th>CD_MUN</th>\n",
       "      <th>NM_MUN</th>\n",
       "      <th>CD_DIST</th>\n",
       "      <th>NM_DIST</th>\n",
       "      <th>CD_RGINT</th>\n",
       "      <th>NM_RGINT</th>\n",
       "      <th>CD_RGI</th>\n",
       "      <th>NM_RGI</th>\n",
       "      <th>CD_CONCURB</th>\n",
       "      <th>NM_CONCURB</th>\n",
       "      <th>AREA_KM2</th>\n",
       "      <th>total_pop</th>\n",
       "      <th>total_dom</th>\n",
       "      <th>geometry</th>\n",
       "      <th>area_avp_dist</th>\n",
       "      <th>avp_per_capita</th>\n",
       "    </tr>\n",
       "  </thead>\n",
       "  <tbody>\n",
       "    <tr>\n",
       "      <th>21</th>\n",
       "      <td>3550308</td>\n",
       "      <td>São Paulo</td>\n",
       "      <td>355030822</td>\n",
       "      <td>CIDADE ADEMAR</td>\n",
       "      <td>3501</td>\n",
       "      <td>São Paulo</td>\n",
       "      <td>350001</td>\n",
       "      <td>São Paulo</td>\n",
       "      <td>3550308</td>\n",
       "      <td>São Paulo/SP</td>\n",
       "      <td>12.23319</td>\n",
       "      <td>249218</td>\n",
       "      <td>103713</td>\n",
       "      <td>POLYGON ((333467.739 7379561.767, 333458.192 7...</td>\n",
       "      <td>108063.548054</td>\n",
       "      <td>0.433611</td>\n",
       "    </tr>\n",
       "  </tbody>\n",
       "</table>\n",
       "</div>"
      ],
      "text/plain": [
       "     CD_MUN     NM_MUN    CD_DIST        NM_DIST CD_RGINT   NM_RGINT  CD_RGI  \\\n",
       "21  3550308  São Paulo  355030822  CIDADE ADEMAR     3501  São Paulo  350001   \n",
       "\n",
       "       NM_RGI CD_CONCURB    NM_CONCURB  AREA_KM2  total_pop total_dom  \\\n",
       "21  São Paulo    3550308  São Paulo/SP  12.23319     249218    103713   \n",
       "\n",
       "                                             geometry  area_avp_dist  \\\n",
       "21  POLYGON ((333467.739 7379561.767, 333458.192 7...  108063.548054   \n",
       "\n",
       "    avp_per_capita  \n",
       "21        0.433611  "
      ]
     },
     "execution_count": 9,
     "metadata": {},
     "output_type": "execute_result"
    }
   ],
   "source": [
    "(\n",
    "    gdf_dist_avp\n",
    "    .loc[\n",
    "        gdf_dist_avp['avp_per_capita']== gdf_dist_avp['avp_per_capita'].min()\n",
    "    ]\n",
    ")"
   ]
  },
  {
   "cell_type": "code",
   "execution_count": 10,
   "id": "6237262d-ad9a-4baa-af45-cf0bf348b4f7",
   "metadata": {
    "scrolled": true
   },
   "outputs": [
    {
     "data": {
      "text/html": [
       "<div>\n",
       "<style scoped>\n",
       "    .dataframe tbody tr th:only-of-type {\n",
       "        vertical-align: middle;\n",
       "    }\n",
       "\n",
       "    .dataframe tbody tr th {\n",
       "        vertical-align: top;\n",
       "    }\n",
       "\n",
       "    .dataframe thead th {\n",
       "        text-align: right;\n",
       "    }\n",
       "</style>\n",
       "<table border=\"1\" class=\"dataframe\">\n",
       "  <thead>\n",
       "    <tr style=\"text-align: right;\">\n",
       "      <th></th>\n",
       "      <th>CD_MUN</th>\n",
       "      <th>NM_MUN</th>\n",
       "      <th>CD_DIST</th>\n",
       "      <th>NM_DIST</th>\n",
       "      <th>CD_RGINT</th>\n",
       "      <th>NM_RGINT</th>\n",
       "      <th>CD_RGI</th>\n",
       "      <th>NM_RGI</th>\n",
       "      <th>CD_CONCURB</th>\n",
       "      <th>NM_CONCURB</th>\n",
       "      <th>AREA_KM2</th>\n",
       "      <th>total_pop</th>\n",
       "      <th>total_dom</th>\n",
       "      <th>geometry</th>\n",
       "      <th>area_avp_dist</th>\n",
       "      <th>avp_per_capita</th>\n",
       "    </tr>\n",
       "  </thead>\n",
       "  <tbody>\n",
       "    <tr>\n",
       "      <th>51</th>\n",
       "      <td>3550308</td>\n",
       "      <td>São Paulo</td>\n",
       "      <td>355030852</td>\n",
       "      <td>MARSILAC</td>\n",
       "      <td>3501</td>\n",
       "      <td>São Paulo</td>\n",
       "      <td>350001</td>\n",
       "      <td>São Paulo</td>\n",
       "      <td>3550308</td>\n",
       "      <td>São Paulo/SP</td>\n",
       "      <td>207.50126</td>\n",
       "      <td>11451</td>\n",
       "      <td>6139</td>\n",
       "      <td>POLYGON ((333016.008 7354600.919, 333056.044 7...</td>\n",
       "      <td>1.979033e+08</td>\n",
       "      <td>17282.620174</td>\n",
       "    </tr>\n",
       "  </tbody>\n",
       "</table>\n",
       "</div>"
      ],
      "text/plain": [
       "     CD_MUN     NM_MUN    CD_DIST   NM_DIST CD_RGINT   NM_RGINT  CD_RGI  \\\n",
       "51  3550308  São Paulo  355030852  MARSILAC     3501  São Paulo  350001   \n",
       "\n",
       "       NM_RGI CD_CONCURB    NM_CONCURB   AREA_KM2  total_pop total_dom  \\\n",
       "51  São Paulo    3550308  São Paulo/SP  207.50126      11451      6139   \n",
       "\n",
       "                                             geometry  area_avp_dist  \\\n",
       "51  POLYGON ((333016.008 7354600.919, 333056.044 7...   1.979033e+08   \n",
       "\n",
       "    avp_per_capita  \n",
       "51    17282.620174  "
      ]
     },
     "execution_count": 10,
     "metadata": {},
     "output_type": "execute_result"
    }
   ],
   "source": [
    "(\n",
    "    gdf_dist_avp\n",
    "    .loc[\n",
    "        gdf_dist_avp['avp_per_capita']== gdf_dist_avp['avp_per_capita'].max()\n",
    "    ]\n",
    ")"
   ]
  },
  {
   "cell_type": "markdown",
   "id": "0c6a1f6c-92e9-48cd-be8d-aecdf38b33a4",
   "metadata": {},
   "source": [
    "# Salvar GDF"
   ]
  },
  {
   "cell_type": "code",
   "execution_count": 11,
   "id": "19d812c2-956c-46f3-a347-6e70da8c5b8e",
   "metadata": {},
   "outputs": [],
   "source": [
    "save_parquet_excel(\n",
    "    gdf_dist_avp,\n",
    "    fname='dist_areas_verdes_publicas_per_capita',\n",
    "    data_path=assets_path,\n",
    "    data_subpath='areas_verdes_publicas'\n",
    ")"
   ]
  }
 ],
 "metadata": {
  "kernelspec": {
   "display_name": "Python 3 (ipykernel)",
   "language": "python",
   "name": "python3"
  },
  "language_info": {
   "codemirror_mode": {
    "name": "ipython",
    "version": 3
   },
   "file_extension": ".py",
   "mimetype": "text/x-python",
   "name": "python",
   "nbconvert_exporter": "python",
   "pygments_lexer": "ipython3",
   "version": "3.12.4"
  }
 },
 "nbformat": 4,
 "nbformat_minor": 5
}
