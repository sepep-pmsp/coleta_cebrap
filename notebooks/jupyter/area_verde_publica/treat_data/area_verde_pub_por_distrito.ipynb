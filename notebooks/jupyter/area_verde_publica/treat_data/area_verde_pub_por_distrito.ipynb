{
 "cells": [
  {
   "cell_type": "code",
   "execution_count": 1,
   "id": "4fa880a4-6421-44f7-baf0-b889546c0cfb",
   "metadata": {},
   "outputs": [
    {
     "name": "stdout",
     "output_type": "stream",
     "text": [
      "O diretorio do seu projeto é coleta_cebrap\n",
      "Caminho absoluto do diretorio encontrado C:\\Users\\x526378\\Desktop\\projetos\\cebrap\\coleta_cebrap\n",
      "Caminho no path.\n"
     ]
    }
   ],
   "source": [
    "from configuracoes_notebooks import set_proj_dir\n",
    "set_proj_dir()"
   ]
  },
  {
   "cell_type": "code",
   "execution_count": 2,
   "id": "3e02b330-d8a9-4d3b-a903-a57e56271602",
   "metadata": {},
   "outputs": [],
   "source": [
    "import geopandas as gpd\n",
    "import pandas as pd\n",
    "import os\n",
    "\n",
    "from notebooks.jupyter import utils\n",
    "from utils import (\n",
    "    get_data_diretorio,\n",
    "    save_parquet_excel,\n",
    ")"
   ]
  },
  {
   "cell_type": "markdown",
   "id": "fcee40e4-9dad-4690-82cb-e03bad89885f",
   "metadata": {},
   "source": [
    "# Área (m²) de Áreas Verdes Públicas por Distrito"
   ]
  },
  {
   "cell_type": "code",
   "execution_count": 3,
   "id": "db810e49-b0b0-4bf7-993c-a68ebd5a4a09",
   "metadata": {},
   "outputs": [],
   "source": [
    "data_path = get_data_diretorio()"
   ]
  },
  {
   "cell_type": "markdown",
   "id": "63b442ea-1db4-49d1-85a1-8dcf236fb455",
   "metadata": {},
   "source": [
    "# Dependências"
   ]
  },
  {
   "cell_type": "markdown",
   "id": "43407009-0f8b-4c6a-8598-3849596e669b",
   "metadata": {},
   "source": [
    "Este notebook é dependente dos assets resultante dos notebooks 'areas_verdes_publicas' e '../../arborizacao_viaria/carregar_dados/malha_distritos'"
   ]
  },
  {
   "cell_type": "code",
   "execution_count": 4,
   "id": "a5e0f73f-7069-47d4-9e7a-585b23969a3d",
   "metadata": {},
   "outputs": [],
   "source": [
    "assets_path = os.path.join(\n",
    "    data_path,\n",
    "    'assets'\n",
    ")"
   ]
  },
  {
   "cell_type": "code",
   "execution_count": 5,
   "id": "17fbb0d2-5421-4399-9173-9dfe4017b86d",
   "metadata": {},
   "outputs": [],
   "source": [
    "gdf_areas_verdes = gpd.read_parquet(\n",
    "    os.path.join(\n",
    "        assets_path,\n",
    "        'areas_verdes_publicas',\n",
    "        'areas_verdes_publicas.parquet'\n",
    "    )\n",
    ")"
   ]
  },
  {
   "cell_type": "code",
   "execution_count": 6,
   "id": "ac052d63-b5e3-447c-9d17-0fe1272f6f5f",
   "metadata": {},
   "outputs": [],
   "source": [
    "gdf_distritos = gpd.read_parquet(\n",
    "    os.path.join(\n",
    "        assets_path,\n",
    "        'distrito_ibge.parquet'\n",
    "    )\n",
    ")"
   ]
  },
  {
   "cell_type": "markdown",
   "id": "6e7f1326-2425-4fa6-8ba0-03c92ef470db",
   "metadata": {},
   "source": [
    "# Recortar Áreas Verdes por Distrito"
   ]
  },
  {
   "cell_type": "code",
   "execution_count": 7,
   "id": "3ecad439-6ab7-4f3f-9a16-4cc23318817f",
   "metadata": {},
   "outputs": [],
   "source": [
    "areas_verdes_recort = gpd.overlay(\n",
    "    gdf_areas_verdes,\n",
    "    gdf_distritos,\n",
    "    'intersection',\n",
    "    keep_geom_type=True\n",
    ")"
   ]
  },
  {
   "cell_type": "code",
   "execution_count": 8,
   "id": "75b6a597-fb0f-4f33-ae11-edacb5cdb3e9",
   "metadata": {},
   "outputs": [
    {
     "data": {
      "text/html": [
       "<div>\n",
       "<style scoped>\n",
       "    .dataframe tbody tr th:only-of-type {\n",
       "        vertical-align: middle;\n",
       "    }\n",
       "\n",
       "    .dataframe tbody tr th {\n",
       "        vertical-align: top;\n",
       "    }\n",
       "\n",
       "    .dataframe thead th {\n",
       "        text-align: right;\n",
       "    }\n",
       "</style>\n",
       "<table border=\"1\" class=\"dataframe\">\n",
       "  <thead>\n",
       "    <tr style=\"text-align: right;\">\n",
       "      <th></th>\n",
       "      <th>area_avp</th>\n",
       "      <th>id_avp</th>\n",
       "      <th>CD_MUN</th>\n",
       "      <th>NM_MUN</th>\n",
       "      <th>CD_DIST</th>\n",
       "      <th>NM_DIST</th>\n",
       "      <th>CD_RGINT</th>\n",
       "      <th>NM_RGINT</th>\n",
       "      <th>CD_RGI</th>\n",
       "      <th>NM_RGI</th>\n",
       "      <th>CD_CONCURB</th>\n",
       "      <th>NM_CONCURB</th>\n",
       "      <th>AREA_KM2</th>\n",
       "      <th>total_pop</th>\n",
       "      <th>total_dom</th>\n",
       "      <th>geometry</th>\n",
       "    </tr>\n",
       "  </thead>\n",
       "  <tbody>\n",
       "    <tr>\n",
       "      <th>3982</th>\n",
       "      <td>1274.536990</td>\n",
       "      <td>3841</td>\n",
       "      <td>3550308</td>\n",
       "      <td>São Paulo</td>\n",
       "      <td>355030835</td>\n",
       "      <td>ITAIM BIBI</td>\n",
       "      <td>3501</td>\n",
       "      <td>São Paulo</td>\n",
       "      <td>350001</td>\n",
       "      <td>São Paulo</td>\n",
       "      <td>3550308</td>\n",
       "      <td>São Paulo/SP</td>\n",
       "      <td>10.030646</td>\n",
       "      <td>101452</td>\n",
       "      <td>60889</td>\n",
       "      <td>POLYGON ((328025.875 7386375.164, 328030.485 7...</td>\n",
       "    </tr>\n",
       "    <tr>\n",
       "      <th>2572</th>\n",
       "      <td>795.736077</td>\n",
       "      <td>2480</td>\n",
       "      <td>3550308</td>\n",
       "      <td>São Paulo</td>\n",
       "      <td>355030863</td>\n",
       "      <td>PIRITUBA</td>\n",
       "      <td>3501</td>\n",
       "      <td>São Paulo</td>\n",
       "      <td>350001</td>\n",
       "      <td>São Paulo</td>\n",
       "      <td>3550308</td>\n",
       "      <td>São Paulo/SP</td>\n",
       "      <td>17.052357</td>\n",
       "      <td>179724</td>\n",
       "      <td>78342</td>\n",
       "      <td>POLYGON ((325568.428 7402276.592, 325571.054 7...</td>\n",
       "    </tr>\n",
       "  </tbody>\n",
       "</table>\n",
       "</div>"
      ],
      "text/plain": [
       "         area_avp  id_avp   CD_MUN     NM_MUN    CD_DIST     NM_DIST CD_RGINT  \\\n",
       "3982  1274.536990    3841  3550308  São Paulo  355030835  ITAIM BIBI     3501   \n",
       "2572   795.736077    2480  3550308  São Paulo  355030863    PIRITUBA     3501   \n",
       "\n",
       "       NM_RGINT  CD_RGI     NM_RGI CD_CONCURB    NM_CONCURB   AREA_KM2  \\\n",
       "3982  São Paulo  350001  São Paulo    3550308  São Paulo/SP  10.030646   \n",
       "2572  São Paulo  350001  São Paulo    3550308  São Paulo/SP  17.052357   \n",
       "\n",
       "      total_pop total_dom                                           geometry  \n",
       "3982     101452     60889  POLYGON ((328025.875 7386375.164, 328030.485 7...  \n",
       "2572     179724     78342  POLYGON ((325568.428 7402276.592, 325571.054 7...  "
      ]
     },
     "execution_count": 8,
     "metadata": {},
     "output_type": "execute_result"
    }
   ],
   "source": [
    "areas_verdes_recort.sample(2)"
   ]
  },
  {
   "cell_type": "markdown",
   "id": "fcc498b2-0a81-4167-8a2c-74a7ef0cd413",
   "metadata": {},
   "source": [
    "# Área dos Polígonos recortados"
   ]
  },
  {
   "cell_type": "code",
   "execution_count": 9,
   "id": "e746046a-04b7-42a3-9674-5e414e50fc50",
   "metadata": {},
   "outputs": [],
   "source": [
    "areas_verdes_recort['area_recort_avp'] = areas_verdes_recort['geometry'].area"
   ]
  },
  {
   "cell_type": "markdown",
   "id": "d4a24a0a-5c36-4ee0-9040-b5ca28a1f513",
   "metadata": {},
   "source": [
    "# Calcular área por distrito"
   ]
  },
  {
   "cell_type": "code",
   "execution_count": 10,
   "id": "734b4355-d2ba-4230-950a-52a03d8bc96b",
   "metadata": {},
   "outputs": [],
   "source": [
    "for distrito in gdf_distritos['CD_DIST']:\n",
    "    area_avp_dist = sum(\n",
    "        areas_verdes_recort['area_recort_avp']\n",
    "        .loc[areas_verdes_recort['CD_DIST']==distrito]\n",
    "    )\n",
    "\n",
    "    gdf_distritos.loc[gdf_distritos['CD_DIST']==distrito,'area_avp_dist']= area_avp_dist\n",
    "    "
   ]
  },
  {
   "cell_type": "code",
   "execution_count": 11,
   "id": "061500a7-b98a-46e6-9dd0-90989fc280c6",
   "metadata": {},
   "outputs": [
    {
     "data": {
      "text/html": [
       "<div>\n",
       "<style scoped>\n",
       "    .dataframe tbody tr th:only-of-type {\n",
       "        vertical-align: middle;\n",
       "    }\n",
       "\n",
       "    .dataframe tbody tr th {\n",
       "        vertical-align: top;\n",
       "    }\n",
       "\n",
       "    .dataframe thead th {\n",
       "        text-align: right;\n",
       "    }\n",
       "</style>\n",
       "<table border=\"1\" class=\"dataframe\">\n",
       "  <thead>\n",
       "    <tr style=\"text-align: right;\">\n",
       "      <th></th>\n",
       "      <th>CD_MUN</th>\n",
       "      <th>NM_MUN</th>\n",
       "      <th>CD_DIST</th>\n",
       "      <th>NM_DIST</th>\n",
       "      <th>CD_RGINT</th>\n",
       "      <th>NM_RGINT</th>\n",
       "      <th>CD_RGI</th>\n",
       "      <th>NM_RGI</th>\n",
       "      <th>CD_CONCURB</th>\n",
       "      <th>NM_CONCURB</th>\n",
       "      <th>AREA_KM2</th>\n",
       "      <th>total_pop</th>\n",
       "      <th>total_dom</th>\n",
       "      <th>geometry</th>\n",
       "      <th>area_avp_dist</th>\n",
       "    </tr>\n",
       "  </thead>\n",
       "  <tbody>\n",
       "    <tr>\n",
       "      <th>78</th>\n",
       "      <td>3550308</td>\n",
       "      <td>São Paulo</td>\n",
       "      <td>355030879</td>\n",
       "      <td>SOCORRO</td>\n",
       "      <td>3501</td>\n",
       "      <td>São Paulo</td>\n",
       "      <td>350001</td>\n",
       "      <td>São Paulo</td>\n",
       "      <td>3550308</td>\n",
       "      <td>São Paulo/SP</td>\n",
       "      <td>12.261579</td>\n",
       "      <td>38051</td>\n",
       "      <td>16549</td>\n",
       "      <td>POLYGON ((326832.519 7378799.896, 326814.871 7...</td>\n",
       "      <td>856760.760121</td>\n",
       "    </tr>\n",
       "    <tr>\n",
       "      <th>81</th>\n",
       "      <td>3550308</td>\n",
       "      <td>São Paulo</td>\n",
       "      <td>355030882</td>\n",
       "      <td>TUCURUVI</td>\n",
       "      <td>3501</td>\n",
       "      <td>São Paulo</td>\n",
       "      <td>350001</td>\n",
       "      <td>São Paulo</td>\n",
       "      <td>3550308</td>\n",
       "      <td>São Paulo/SP</td>\n",
       "      <td>9.448038</td>\n",
       "      <td>99559</td>\n",
       "      <td>46695</td>\n",
       "      <td>POLYGON ((337127.372 7403854.043, 337182.947 7...</td>\n",
       "      <td>149589.056662</td>\n",
       "    </tr>\n",
       "  </tbody>\n",
       "</table>\n",
       "</div>"
      ],
      "text/plain": [
       "     CD_MUN     NM_MUN    CD_DIST   NM_DIST CD_RGINT   NM_RGINT  CD_RGI  \\\n",
       "78  3550308  São Paulo  355030879   SOCORRO     3501  São Paulo  350001   \n",
       "81  3550308  São Paulo  355030882  TUCURUVI     3501  São Paulo  350001   \n",
       "\n",
       "       NM_RGI CD_CONCURB    NM_CONCURB   AREA_KM2  total_pop total_dom  \\\n",
       "78  São Paulo    3550308  São Paulo/SP  12.261579      38051     16549   \n",
       "81  São Paulo    3550308  São Paulo/SP   9.448038      99559     46695   \n",
       "\n",
       "                                             geometry  area_avp_dist  \n",
       "78  POLYGON ((326832.519 7378799.896, 326814.871 7...  856760.760121  \n",
       "81  POLYGON ((337127.372 7403854.043, 337182.947 7...  149589.056662  "
      ]
     },
     "execution_count": 11,
     "metadata": {},
     "output_type": "execute_result"
    }
   ],
   "source": [
    "gdf_distritos.sample(2)"
   ]
  },
  {
   "cell_type": "code",
   "execution_count": 12,
   "id": "82a31a12-6ac7-453c-b571-4a3fe44d2f56",
   "metadata": {},
   "outputs": [
    {
     "data": {
      "text/html": [
       "<div>\n",
       "<style scoped>\n",
       "    .dataframe tbody tr th:only-of-type {\n",
       "        vertical-align: middle;\n",
       "    }\n",
       "\n",
       "    .dataframe tbody tr th {\n",
       "        vertical-align: top;\n",
       "    }\n",
       "\n",
       "    .dataframe thead th {\n",
       "        text-align: right;\n",
       "    }\n",
       "</style>\n",
       "<table border=\"1\" class=\"dataframe\">\n",
       "  <thead>\n",
       "    <tr style=\"text-align: right;\">\n",
       "      <th></th>\n",
       "      <th>CD_MUN</th>\n",
       "      <th>NM_MUN</th>\n",
       "      <th>CD_DIST</th>\n",
       "      <th>NM_DIST</th>\n",
       "      <th>CD_RGINT</th>\n",
       "      <th>NM_RGINT</th>\n",
       "      <th>CD_RGI</th>\n",
       "      <th>NM_RGI</th>\n",
       "      <th>CD_CONCURB</th>\n",
       "      <th>NM_CONCURB</th>\n",
       "      <th>AREA_KM2</th>\n",
       "      <th>total_pop</th>\n",
       "      <th>total_dom</th>\n",
       "      <th>geometry</th>\n",
       "      <th>area_avp_dist</th>\n",
       "    </tr>\n",
       "  </thead>\n",
       "  <tbody>\n",
       "    <tr>\n",
       "      <th>11</th>\n",
       "      <td>3550308</td>\n",
       "      <td>São Paulo</td>\n",
       "      <td>355030812</td>\n",
       "      <td>BUTANTA</td>\n",
       "      <td>3501</td>\n",
       "      <td>São Paulo</td>\n",
       "      <td>350001</td>\n",
       "      <td>São Paulo</td>\n",
       "      <td>3550308</td>\n",
       "      <td>São Paulo/SP</td>\n",
       "      <td>12.887306</td>\n",
       "      <td>51715</td>\n",
       "      <td>25984</td>\n",
       "      <td>POLYGON ((325430.01 7391267.565, 325425.704 73...</td>\n",
       "      <td>809343.01376</td>\n",
       "    </tr>\n",
       "  </tbody>\n",
       "</table>\n",
       "</div>"
      ],
      "text/plain": [
       "     CD_MUN     NM_MUN    CD_DIST  NM_DIST CD_RGINT   NM_RGINT  CD_RGI  \\\n",
       "11  3550308  São Paulo  355030812  BUTANTA     3501  São Paulo  350001   \n",
       "\n",
       "       NM_RGI CD_CONCURB    NM_CONCURB   AREA_KM2  total_pop total_dom  \\\n",
       "11  São Paulo    3550308  São Paulo/SP  12.887306      51715     25984   \n",
       "\n",
       "                                             geometry  area_avp_dist  \n",
       "11  POLYGON ((325430.01 7391267.565, 325425.704 73...   809343.01376  "
      ]
     },
     "execution_count": 12,
     "metadata": {},
     "output_type": "execute_result"
    }
   ],
   "source": [
    "gdf_distritos.loc[gdf_distritos['CD_DIST']=='355030812']"
   ]
  },
  {
   "cell_type": "code",
   "execution_count": 13,
   "id": "a35b7b2c-0abe-4b2b-ab34-5f692c8f58b1",
   "metadata": {},
   "outputs": [
    {
     "data": {
      "text/html": [
       "<div>\n",
       "<style scoped>\n",
       "    .dataframe tbody tr th:only-of-type {\n",
       "        vertical-align: middle;\n",
       "    }\n",
       "\n",
       "    .dataframe tbody tr th {\n",
       "        vertical-align: top;\n",
       "    }\n",
       "\n",
       "    .dataframe thead th {\n",
       "        text-align: right;\n",
       "    }\n",
       "</style>\n",
       "<table border=\"1\" class=\"dataframe\">\n",
       "  <thead>\n",
       "    <tr style=\"text-align: right;\">\n",
       "      <th></th>\n",
       "      <th>area_avp</th>\n",
       "      <th>id_avp</th>\n",
       "      <th>CD_MUN</th>\n",
       "      <th>NM_MUN</th>\n",
       "      <th>CD_DIST</th>\n",
       "      <th>NM_DIST</th>\n",
       "      <th>CD_RGINT</th>\n",
       "      <th>NM_RGINT</th>\n",
       "      <th>CD_RGI</th>\n",
       "      <th>NM_RGI</th>\n",
       "      <th>CD_CONCURB</th>\n",
       "      <th>NM_CONCURB</th>\n",
       "      <th>AREA_KM2</th>\n",
       "      <th>total_pop</th>\n",
       "      <th>total_dom</th>\n",
       "      <th>geometry</th>\n",
       "      <th>area_recort_avp</th>\n",
       "    </tr>\n",
       "  </thead>\n",
       "  <tbody>\n",
       "    <tr>\n",
       "      <th>2086</th>\n",
       "      <td>795.635139</td>\n",
       "      <td>2008</td>\n",
       "      <td>3550308</td>\n",
       "      <td>São Paulo</td>\n",
       "      <td>355030812</td>\n",
       "      <td>BUTANTA</td>\n",
       "      <td>3501</td>\n",
       "      <td>São Paulo</td>\n",
       "      <td>350001</td>\n",
       "      <td>São Paulo</td>\n",
       "      <td>3550308</td>\n",
       "      <td>São Paulo/SP</td>\n",
       "      <td>12.887306</td>\n",
       "      <td>51715</td>\n",
       "      <td>25984</td>\n",
       "      <td>POLYGON ((324299.999 7393820.703, 324301.869 7...</td>\n",
       "      <td>795.635139</td>\n",
       "    </tr>\n",
       "    <tr>\n",
       "      <th>1722</th>\n",
       "      <td>38.470859</td>\n",
       "      <td>1657</td>\n",
       "      <td>3550308</td>\n",
       "      <td>São Paulo</td>\n",
       "      <td>355030812</td>\n",
       "      <td>BUTANTA</td>\n",
       "      <td>3501</td>\n",
       "      <td>São Paulo</td>\n",
       "      <td>350001</td>\n",
       "      <td>São Paulo</td>\n",
       "      <td>3550308</td>\n",
       "      <td>São Paulo/SP</td>\n",
       "      <td>12.887306</td>\n",
       "      <td>51715</td>\n",
       "      <td>25984</td>\n",
       "      <td>POLYGON ((323705.334 7391907.495, 323704.806 7...</td>\n",
       "      <td>38.470859</td>\n",
       "    </tr>\n",
       "  </tbody>\n",
       "</table>\n",
       "</div>"
      ],
      "text/plain": [
       "        area_avp  id_avp   CD_MUN     NM_MUN    CD_DIST  NM_DIST CD_RGINT  \\\n",
       "2086  795.635139    2008  3550308  São Paulo  355030812  BUTANTA     3501   \n",
       "1722   38.470859    1657  3550308  São Paulo  355030812  BUTANTA     3501   \n",
       "\n",
       "       NM_RGINT  CD_RGI     NM_RGI CD_CONCURB    NM_CONCURB   AREA_KM2  \\\n",
       "2086  São Paulo  350001  São Paulo    3550308  São Paulo/SP  12.887306   \n",
       "1722  São Paulo  350001  São Paulo    3550308  São Paulo/SP  12.887306   \n",
       "\n",
       "      total_pop total_dom                                           geometry  \\\n",
       "2086      51715     25984  POLYGON ((324299.999 7393820.703, 324301.869 7...   \n",
       "1722      51715     25984  POLYGON ((323705.334 7391907.495, 323704.806 7...   \n",
       "\n",
       "      area_recort_avp  \n",
       "2086       795.635139  \n",
       "1722        38.470859  "
      ]
     },
     "execution_count": 13,
     "metadata": {},
     "output_type": "execute_result"
    }
   ],
   "source": [
    "confere=areas_verdes_recort.loc[areas_verdes_recort['CD_DIST']=='355030812']\n",
    "confere.sample(2)"
   ]
  },
  {
   "cell_type": "code",
   "execution_count": 14,
   "id": "d7b76915-a25d-47f1-88d6-b4d7d4766e95",
   "metadata": {},
   "outputs": [
    {
     "data": {
      "text/plain": [
       "(332, 17)"
      ]
     },
     "execution_count": 14,
     "metadata": {},
     "output_type": "execute_result"
    }
   ],
   "source": [
    "confere.shape"
   ]
  },
  {
   "cell_type": "code",
   "execution_count": 15,
   "id": "cd8e8d8d-4247-4a19-8448-46bdce735c63",
   "metadata": {},
   "outputs": [
    {
     "data": {
      "text/plain": [
       "809343.0137602623"
      ]
     },
     "execution_count": 15,
     "metadata": {},
     "output_type": "execute_result"
    }
   ],
   "source": [
    "sum(confere['area_recort_avp'])"
   ]
  },
  {
   "cell_type": "markdown",
   "id": "eb3adb5c-9ba2-47dc-bad1-4714908a3d81",
   "metadata": {},
   "source": [
    "# Salvar gdf"
   ]
  },
  {
   "cell_type": "code",
   "execution_count": null,
   "id": "eebe8be6-52dc-4b73-aaa8-d753f99a8191",
   "metadata": {},
   "outputs": [],
   "source": [
    "save_parquet_excel(\n",
    "    gdf_distritos,\n",
    "    fname='distritos_areas_verdes_publicas',\n",
    "    data_path = assets_path\n",
    "    \n",
    ")"
   ]
  }
 ],
 "metadata": {
  "kernelspec": {
   "display_name": "Python 3 (ipykernel)",
   "language": "python",
   "name": "python3"
  },
  "language_info": {
   "codemirror_mode": {
    "name": "ipython",
    "version": 3
   },
   "file_extension": ".py",
   "mimetype": "text/x-python",
   "name": "python",
   "nbconvert_exporter": "python",
   "pygments_lexer": "ipython3",
   "version": "3.12.4"
  }
 },
 "nbformat": 4,
 "nbformat_minor": 5
}
