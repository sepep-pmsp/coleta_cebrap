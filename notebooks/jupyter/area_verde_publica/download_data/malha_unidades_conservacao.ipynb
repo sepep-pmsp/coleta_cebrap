{
 "cells": [
  {
   "cell_type": "code",
   "execution_count": 1,
   "id": "34e4afed-cea7-4a4f-b7e6-d91d41093723",
   "metadata": {},
   "outputs": [
    {
     "name": "stdout",
     "output_type": "stream",
     "text": [
      "O diretorio do seu projeto é coleta_cebrap\n",
      "Caminho absoluto do diretorio encontrado C:\\Users\\x526378\\Desktop\\projetos\\cebrap\\coleta_cebrap\n",
      "Caminho no path.\n"
     ]
    }
   ],
   "source": [
    "from configuracoes_notebooks import set_proj_dir\n",
    "set_proj_dir()"
   ]
  },
  {
   "cell_type": "code",
   "execution_count": 2,
   "id": "2bbcb1f9-4148-40fe-b207-d0b40b911eae",
   "metadata": {},
   "outputs": [],
   "source": [
    "import geopandas as gpd\n",
    "import os\n",
    "\n",
    "from notebooks.jupyter import utils\n",
    "from utils import (\n",
    "    get_data_diretorio,\n",
    "    check_crs,\n",
    "    save_parquet_excel\n",
    ")"
   ]
  },
  {
   "cell_type": "code",
   "execution_count": 3,
   "id": "db810e49-b0b0-4bf7-993c-a68ebd5a4a09",
   "metadata": {},
   "outputs": [],
   "source": [
    "data_path = get_data_diretorio()"
   ]
  },
  {
   "cell_type": "markdown",
   "id": "eaace25a-e02a-4ffa-8c8c-4f52294eab88",
   "metadata": {},
   "source": [
    "# Unidades de Conservação"
   ]
  },
  {
   "cell_type": "markdown",
   "id": "e4984d67-a3a3-441b-92a0-8c97e97f2d0b",
   "metadata": {},
   "source": [
    "Uma das camadas que poderia ser útil para as áreas verdes públicas é a dos Parques e Unidades de Conservação, que deveria estar dispoível no geosampa. Metadados disponíveis em: https://metadados.geosampa.prefeitura.sp.gov.br/geonetwork/srv/por/catalog.search;jsessionid=8F275348DD1C96B9192D87B0FB8EE8B7#/metadata/48f702b4-f2ea-42f4-bacd-5682ae1731e2"
   ]
  },
  {
   "cell_type": "markdown",
   "id": "e6ac8ba9-ff1c-4f35-92f2-272c959b0654",
   "metadata": {},
   "source": [
    "Contudo esta camada está temporariamente indisponível devido a alteração de valores que geravam-na. Após esta alteração ela passou a dar problema e ficou indispomível."
   ]
  },
  {
   "cell_type": "markdown",
   "id": "f088f986-d071-46ec-a24a-08bc3c2c26b1",
   "metadata": {},
   "source": [
    "Um dos nossos colaboradores, Elias Noda, já havia feito análises com esta camada anteriomente, e por isso temos acesso a ela. Contudo é uma versão desatualizada e que não pode ser baixada por todos, já que não está mais acessível."
   ]
  },
  {
   "cell_type": "markdown",
   "id": "c5ab95c3-3d4f-48df-9465-7250b331cc2d",
   "metadata": {},
   "source": [
    "# Importar dados"
   ]
  },
  {
   "cell_type": "code",
   "execution_count": 4,
   "id": "53bc3500-8e71-4418-8179-b3800893703b",
   "metadata": {},
   "outputs": [],
   "source": [
    "gdf_ucs = gpd.read_parquet(\n",
    "    os.path.join(\n",
    "        data_path,\n",
    "        'Unidades_de_Conservacao.parquet'\n",
    "    )\n",
    ")"
   ]
  },
  {
   "cell_type": "code",
   "execution_count": 5,
   "id": "6568452c-4e32-49d6-907d-f22c314bdee5",
   "metadata": {},
   "outputs": [
    {
     "data": {
      "text/html": [
       "<div>\n",
       "<style scoped>\n",
       "    .dataframe tbody tr th:only-of-type {\n",
       "        vertical-align: middle;\n",
       "    }\n",
       "\n",
       "    .dataframe tbody tr th {\n",
       "        vertical-align: top;\n",
       "    }\n",
       "\n",
       "    .dataframe thead th {\n",
       "        text-align: right;\n",
       "    }\n",
       "</style>\n",
       "<table border=\"1\" class=\"dataframe\">\n",
       "  <thead>\n",
       "    <tr style=\"text-align: right;\">\n",
       "      <th></th>\n",
       "      <th>id</th>\n",
       "      <th>cd_identificador</th>\n",
       "      <th>nm_unidade_conservacao</th>\n",
       "      <th>cd_cadparc</th>\n",
       "      <th>tx_tipo_situacao_projeto</th>\n",
       "      <th>tx_tipo_categoria_parque_unidade_conservacao</th>\n",
       "      <th>tx_tipo_classificacao_parque_unidade_conservacao</th>\n",
       "      <th>cd_tipo_situacao_projeto</th>\n",
       "      <th>cd_tipo_categoria_parque_unidade_conservacao</th>\n",
       "      <th>cd_tipo_classificacao_parque_unidade_conservacao</th>\n",
       "      <th>...</th>\n",
       "      <th>tx_tipo_categoria</th>\n",
       "      <th>tx_data_inauguracao</th>\n",
       "      <th>tx_instrumento_legal_criacao</th>\n",
       "      <th>tx_situacao</th>\n",
       "      <th>nm_administrador</th>\n",
       "      <th>qt_area_metro</th>\n",
       "      <th>cd_pde_2022</th>\n",
       "      <th>cd_identificador_cadparcs_area_protecao_apa</th>\n",
       "      <th>nm_esfera_administrativa</th>\n",
       "      <th>nm_area_protecao_ambiental</th>\n",
       "    </tr>\n",
       "  </thead>\n",
       "  <tbody>\n",
       "    <tr>\n",
       "      <th>181</th>\n",
       "      <td>cadparcs_parque_unidade_conservacao.227</td>\n",
       "      <td>NaN</td>\n",
       "      <td>None</td>\n",
       "      <td>None</td>\n",
       "      <td>None</td>\n",
       "      <td>None</td>\n",
       "      <td>None</td>\n",
       "      <td>NaN</td>\n",
       "      <td>NaN</td>\n",
       "      <td>NaN</td>\n",
       "      <td>...</td>\n",
       "      <td>Parque Natural</td>\n",
       "      <td>2020</td>\n",
       "      <td>Dec. 43.329/03 e 50.201/08</td>\n",
       "      <td>Existente</td>\n",
       "      <td>SVMA/CGPABI/DGUC</td>\n",
       "      <td>5375725.0</td>\n",
       "      <td>PQ_IQ_05.1</td>\n",
       "      <td>NaN</td>\n",
       "      <td>None</td>\n",
       "      <td>None</td>\n",
       "    </tr>\n",
       "    <tr>\n",
       "      <th>251</th>\n",
       "      <td>cadparcs_parque_unidade_conservacao.273</td>\n",
       "      <td>NaN</td>\n",
       "      <td>None</td>\n",
       "      <td>None</td>\n",
       "      <td>None</td>\n",
       "      <td>None</td>\n",
       "      <td>None</td>\n",
       "      <td>NaN</td>\n",
       "      <td>NaN</td>\n",
       "      <td>NaN</td>\n",
       "      <td>...</td>\n",
       "      <td>Parque Estadual - UC</td>\n",
       "      <td>1962</td>\n",
       "      <td>Lei Est. 6.884/62 e Dec. Est. 41.626/63</td>\n",
       "      <td>Existente</td>\n",
       "      <td>SEMIL/FF</td>\n",
       "      <td>42277824.0</td>\n",
       "      <td>None</td>\n",
       "      <td>NaN</td>\n",
       "      <td>None</td>\n",
       "      <td>None</td>\n",
       "    </tr>\n",
       "  </tbody>\n",
       "</table>\n",
       "<p>2 rows × 24 columns</p>\n",
       "</div>"
      ],
      "text/plain": [
       "                                          id  cd_identificador  \\\n",
       "181  cadparcs_parque_unidade_conservacao.227               NaN   \n",
       "251  cadparcs_parque_unidade_conservacao.273               NaN   \n",
       "\n",
       "    nm_unidade_conservacao cd_cadparc tx_tipo_situacao_projeto  \\\n",
       "181                   None       None                     None   \n",
       "251                   None       None                     None   \n",
       "\n",
       "    tx_tipo_categoria_parque_unidade_conservacao  \\\n",
       "181                                         None   \n",
       "251                                         None   \n",
       "\n",
       "    tx_tipo_classificacao_parque_unidade_conservacao  \\\n",
       "181                                             None   \n",
       "251                                             None   \n",
       "\n",
       "     cd_tipo_situacao_projeto  cd_tipo_categoria_parque_unidade_conservacao  \\\n",
       "181                       NaN                                           NaN   \n",
       "251                       NaN                                           NaN   \n",
       "\n",
       "     cd_tipo_classificacao_parque_unidade_conservacao  ...  \\\n",
       "181                                               NaN  ...   \n",
       "251                                               NaN  ...   \n",
       "\n",
       "        tx_tipo_categoria tx_data_inauguracao  \\\n",
       "181        Parque Natural                2020   \n",
       "251  Parque Estadual - UC                1962   \n",
       "\n",
       "                tx_instrumento_legal_criacao tx_situacao  nm_administrador  \\\n",
       "181               Dec. 43.329/03 e 50.201/08   Existente  SVMA/CGPABI/DGUC   \n",
       "251  Lei Est. 6.884/62 e Dec. Est. 41.626/63   Existente          SEMIL/FF   \n",
       "\n",
       "    qt_area_metro cd_pde_2022 cd_identificador_cadparcs_area_protecao_apa  \\\n",
       "181     5375725.0  PQ_IQ_05.1                                         NaN   \n",
       "251    42277824.0        None                                         NaN   \n",
       "\n",
       "    nm_esfera_administrativa  nm_area_protecao_ambiental  \n",
       "181                     None                        None  \n",
       "251                     None                        None  \n",
       "\n",
       "[2 rows x 24 columns]"
      ]
     },
     "execution_count": 5,
     "metadata": {},
     "output_type": "execute_result"
    }
   ],
   "source": [
    "gdf_ucs.sample(2)"
   ]
  },
  {
   "cell_type": "markdown",
   "id": "144d7a11-c42a-4bb6-839b-b4debf503b5f",
   "metadata": {},
   "source": [
    "# Padronizaçã de colunas"
   ]
  },
  {
   "cell_type": "markdown",
   "id": "603ae5d5-6cdd-447a-9e46-8c96daf3b717",
   "metadata": {},
   "source": [
    "Como este arquivo não segue os padrões dos outros, vou conferir individualmente as colunas para encontrar as que fazem sentido manter"
   ]
  },
  {
   "cell_type": "markdown",
   "id": "2ed8dff9-651b-4e33-b7b3-869c1b741cd5",
   "metadata": {},
   "source": [
    "## Conferir colunas"
   ]
  },
  {
   "cell_type": "markdown",
   "id": "865bcebe-f3c9-4d9c-a5a0-860cf0cf14b2",
   "metadata": {},
   "source": [
    "### id"
   ]
  },
  {
   "cell_type": "code",
   "execution_count": 6,
   "id": "50df996e-fb87-41fb-affc-cf92ddfdf59d",
   "metadata": {},
   "outputs": [
    {
     "data": {
      "text/plain": [
       "True"
      ]
     },
     "execution_count": 6,
     "metadata": {},
     "output_type": "execute_result"
    }
   ],
   "source": [
    "gdf_ucs['id'].is_unique"
   ]
  },
  {
   "cell_type": "code",
   "execution_count": 7,
   "id": "c46e7df3-467c-4037-8ee5-8800cf4d8d7f",
   "metadata": {},
   "outputs": [
    {
     "data": {
      "text/plain": [
       "0"
      ]
     },
     "execution_count": 7,
     "metadata": {},
     "output_type": "execute_result"
    }
   ],
   "source": [
    "sum(gdf_ucs['id'].isnull())"
   ]
  },
  {
   "cell_type": "markdown",
   "id": "f7d07c71-dab6-407f-bc11-d1e9a2f1b072",
   "metadata": {},
   "source": [
    "### cd_identificador"
   ]
  },
  {
   "cell_type": "code",
   "execution_count": 8,
   "id": "450730e6-21e8-4d99-87f2-c4bedf5d1d2d",
   "metadata": {},
   "outputs": [
    {
     "data": {
      "text/plain": [
       "False"
      ]
     },
     "execution_count": 8,
     "metadata": {},
     "output_type": "execute_result"
    }
   ],
   "source": [
    "gdf_ucs['cd_identificador'].is_unique"
   ]
  },
  {
   "cell_type": "code",
   "execution_count": 9,
   "id": "930a6ae3-ba09-4857-8e6a-dcc3d92214a8",
   "metadata": {},
   "outputs": [
    {
     "data": {
      "text/plain": [
       "23"
      ]
     },
     "execution_count": 9,
     "metadata": {},
     "output_type": "execute_result"
    }
   ],
   "source": [
    "sum(gdf_ucs['cd_identificador'].isnull())"
   ]
  },
  {
   "cell_type": "code",
   "execution_count": 10,
   "id": "354e0607-60c3-4345-97f3-eb7e061f1193",
   "metadata": {},
   "outputs": [
    {
     "data": {
      "text/plain": [
       "<bound method Series.unique of 0      101.0\n",
       "2      104.0\n",
       "3      103.0\n",
       "4      102.0\n",
       "44       NaN\n",
       "94       NaN\n",
       "162      NaN\n",
       "251      NaN\n",
       "353      NaN\n",
       "17       NaN\n",
       "75       NaN\n",
       "83       NaN\n",
       "167      NaN\n",
       "181      NaN\n",
       "318      NaN\n",
       "134      NaN\n",
       "328      NaN\n",
       "312      NaN\n",
       "253      NaN\n",
       "266      NaN\n",
       "267      NaN\n",
       "351      NaN\n",
       "0        NaN\n",
       "1        NaN\n",
       "2        NaN\n",
       "3        NaN\n",
       "5        NaN\n",
       "Name: cd_identificador, dtype: float64>"
      ]
     },
     "execution_count": 10,
     "metadata": {},
     "output_type": "execute_result"
    }
   ],
   "source": [
    "gdf_ucs['cd_identificador'].unique"
   ]
  },
  {
   "cell_type": "markdown",
   "id": "726b360c-b72c-4fa8-85a8-292da263347b",
   "metadata": {},
   "source": [
    "### nm_unidade_conservacao"
   ]
  },
  {
   "cell_type": "code",
   "execution_count": 11,
   "id": "6f5bd60a-b503-47ce-95e5-b72fa8f6e78a",
   "metadata": {},
   "outputs": [
    {
     "data": {
      "text/plain": [
       "False"
      ]
     },
     "execution_count": 11,
     "metadata": {},
     "output_type": "execute_result"
    }
   ],
   "source": [
    "gdf_ucs['nm_unidade_conservacao'].is_unique"
   ]
  },
  {
   "cell_type": "code",
   "execution_count": 12,
   "id": "d8cb9510-93e7-4723-bdbc-02d8706fae81",
   "metadata": {},
   "outputs": [
    {
     "data": {
      "text/plain": [
       "<bound method Series.unique of 0          Anhanguera\n",
       "2         Mata Virgem\n",
       "3      Sítio Curucutu\n",
       "4             Mutinga\n",
       "44               None\n",
       "94               None\n",
       "162              None\n",
       "251              None\n",
       "353              None\n",
       "17               None\n",
       "75               None\n",
       "83               None\n",
       "167              None\n",
       "181              None\n",
       "318              None\n",
       "134              None\n",
       "328              None\n",
       "312              None\n",
       "253              None\n",
       "266              None\n",
       "267              None\n",
       "351              None\n",
       "0                None\n",
       "1                None\n",
       "2                None\n",
       "3                None\n",
       "5                None\n",
       "Name: nm_unidade_conservacao, dtype: object>"
      ]
     },
     "execution_count": 12,
     "metadata": {},
     "output_type": "execute_result"
    }
   ],
   "source": [
    "gdf_ucs['nm_unidade_conservacao'].unique"
   ]
  },
  {
   "cell_type": "markdown",
   "id": "4ede03a8-3608-4d17-8aab-861468874fa7",
   "metadata": {},
   "source": [
    "### cd_cadparc"
   ]
  },
  {
   "cell_type": "code",
   "execution_count": 13,
   "id": "90f1b1d0-20a7-4b94-b370-bb9087563224",
   "metadata": {},
   "outputs": [
    {
     "data": {
      "text/plain": [
       "False"
      ]
     },
     "execution_count": 13,
     "metadata": {},
     "output_type": "execute_result"
    }
   ],
   "source": [
    "gdf_ucs['cd_cadparc'].is_unique"
   ]
  },
  {
   "cell_type": "code",
   "execution_count": 14,
   "id": "3c93f9f6-084d-410e-beb9-1501b0b588b4",
   "metadata": {},
   "outputs": [
    {
     "data": {
      "text/plain": [
       "<bound method Series.unique of 0      UC_PR_01\n",
       "2      UC_PA_05\n",
       "3      UC_PA_06\n",
       "4      UC_PJ_01\n",
       "44         None\n",
       "94         None\n",
       "162        None\n",
       "251        None\n",
       "353        None\n",
       "17         None\n",
       "75         None\n",
       "83         None\n",
       "167        None\n",
       "181        None\n",
       "318        None\n",
       "134        None\n",
       "328        None\n",
       "312        None\n",
       "253        None\n",
       "266        None\n",
       "267        None\n",
       "351        None\n",
       "0          None\n",
       "1          None\n",
       "2          None\n",
       "3          None\n",
       "5          None\n",
       "Name: cd_cadparc, dtype: object>"
      ]
     },
     "execution_count": 14,
     "metadata": {},
     "output_type": "execute_result"
    }
   ],
   "source": [
    "gdf_ucs['cd_cadparc'].unique"
   ]
  },
  {
   "cell_type": "markdown",
   "id": "1cce372c-16ab-427f-8ac0-d878efa8009a",
   "metadata": {},
   "source": [
    "### tx_tipo_situacao_projeto"
   ]
  },
  {
   "cell_type": "markdown",
   "id": "44b761ce-3024-4530-81b3-2b69986dd0e9",
   "metadata": {},
   "source": [
    "Saber se o projeto é existente ou não pode ser um filtro interessante. Contudo não há como ter certeza de que os valores null correspondam a \"não existente\""
   ]
  },
  {
   "cell_type": "code",
   "execution_count": 15,
   "id": "19407521-72be-4823-893e-679b2cfca9d8",
   "metadata": {},
   "outputs": [
    {
     "data": {
      "text/plain": [
       "<bound method Series.unique of 0      Existente\n",
       "2      Existente\n",
       "3      Existente\n",
       "4      Existente\n",
       "44          None\n",
       "94          None\n",
       "162         None\n",
       "251         None\n",
       "353         None\n",
       "17          None\n",
       "75          None\n",
       "83          None\n",
       "167         None\n",
       "181         None\n",
       "318         None\n",
       "134         None\n",
       "328         None\n",
       "312         None\n",
       "253         None\n",
       "266         None\n",
       "267         None\n",
       "351         None\n",
       "0           None\n",
       "1           None\n",
       "2           None\n",
       "3           None\n",
       "5           None\n",
       "Name: tx_tipo_situacao_projeto, dtype: object>"
      ]
     },
     "execution_count": 15,
     "metadata": {},
     "output_type": "execute_result"
    }
   ],
   "source": [
    "gdf_ucs['tx_tipo_situacao_projeto'].unique"
   ]
  },
  {
   "cell_type": "markdown",
   "id": "b30b961f-2c19-41fa-b7cf-e64bec4a6a72",
   "metadata": {},
   "source": [
    "### tx_tipo_categoria_parque_unidade_conservacao"
   ]
  },
  {
   "cell_type": "code",
   "execution_count": 16,
   "id": "ff3c9e6c-24f8-4335-9690-6d89cb5ad19d",
   "metadata": {},
   "outputs": [
    {
     "data": {
      "text/plain": [
       "<bound method Series.unique of 0                     Refúgio de Vida Silvestre\n",
       "2      Reserva Particular do Patrimônio Natural\n",
       "3      Reserva Particular do Patrimônio Natural\n",
       "4      Reserva Particular do Patrimônio Natural\n",
       "44                                         None\n",
       "94                                         None\n",
       "162                                        None\n",
       "251                                        None\n",
       "353                                        None\n",
       "17                                         None\n",
       "75                                         None\n",
       "83                                         None\n",
       "167                                        None\n",
       "181                                        None\n",
       "318                                        None\n",
       "134                                        None\n",
       "328                                        None\n",
       "312                                        None\n",
       "253                                        None\n",
       "266                                        None\n",
       "267                                        None\n",
       "351                                        None\n",
       "0                                          None\n",
       "1                                          None\n",
       "2                                          None\n",
       "3                                          None\n",
       "5                                          None\n",
       "Name: tx_tipo_categoria_parque_unidade_conservacao, dtype: object>"
      ]
     },
     "execution_count": 16,
     "metadata": {},
     "output_type": "execute_result"
    }
   ],
   "source": [
    "gdf_ucs['tx_tipo_categoria_parque_unidade_conservacao'].unique"
   ]
  },
  {
   "cell_type": "markdown",
   "id": "205a7fcf-c93b-435c-a792-8ca354ed951b",
   "metadata": {},
   "source": [
    "### tx_tipo_classificacao_parque_unidade_conservacao"
   ]
  },
  {
   "cell_type": "markdown",
   "id": "8f001456-f2f1-4d46-9d22-4d7352bcfe53",
   "metadata": {},
   "source": [
    "Aparentemente idem ao anterior, portanto será apagado"
   ]
  },
  {
   "cell_type": "code",
   "execution_count": 17,
   "id": "33a2bf80-5b33-442d-93dc-5318e9a03fda",
   "metadata": {},
   "outputs": [
    {
     "data": {
      "text/plain": [
       "<bound method Series.unique of 0                     Refúgio de Vida Silvestre\n",
       "2      Reserva Particular do Patrimônio Natural\n",
       "3      Reserva Particular do Patrimônio Natural\n",
       "4      Reserva Particular do Patrimônio Natural\n",
       "44                                         None\n",
       "94                                         None\n",
       "162                                        None\n",
       "251                                        None\n",
       "353                                        None\n",
       "17                                         None\n",
       "75                                         None\n",
       "83                                         None\n",
       "167                                        None\n",
       "181                                        None\n",
       "318                                        None\n",
       "134                                        None\n",
       "328                                        None\n",
       "312                                        None\n",
       "253                                        None\n",
       "266                                        None\n",
       "267                                        None\n",
       "351                                        None\n",
       "0                                          None\n",
       "1                                          None\n",
       "2                                          None\n",
       "3                                          None\n",
       "5                                          None\n",
       "Name: tx_tipo_classificacao_parque_unidade_conservacao, dtype: object>"
      ]
     },
     "execution_count": 17,
     "metadata": {},
     "output_type": "execute_result"
    }
   ],
   "source": [
    "gdf_ucs['tx_tipo_classificacao_parque_unidade_conservacao'].unique"
   ]
  },
  {
   "cell_type": "markdown",
   "id": "9d7e0016-fa3a-481e-a9cd-d4d92bbb7c36",
   "metadata": {},
   "source": [
    "### cd_tipo_situacao_projeto"
   ]
  },
  {
   "cell_type": "code",
   "execution_count": 18,
   "id": "97e5e301-6efc-41c8-9ac8-89516dd0ed81",
   "metadata": {},
   "outputs": [
    {
     "data": {
      "text/plain": [
       "<bound method Series.unique of 0      2.0\n",
       "2      2.0\n",
       "3      2.0\n",
       "4      2.0\n",
       "44     NaN\n",
       "94     NaN\n",
       "162    NaN\n",
       "251    NaN\n",
       "353    NaN\n",
       "17     NaN\n",
       "75     NaN\n",
       "83     NaN\n",
       "167    NaN\n",
       "181    NaN\n",
       "318    NaN\n",
       "134    NaN\n",
       "328    NaN\n",
       "312    NaN\n",
       "253    NaN\n",
       "266    NaN\n",
       "267    NaN\n",
       "351    NaN\n",
       "0      NaN\n",
       "1      NaN\n",
       "2      NaN\n",
       "3      NaN\n",
       "5      NaN\n",
       "Name: cd_tipo_situacao_projeto, dtype: float64>"
      ]
     },
     "execution_count": 18,
     "metadata": {},
     "output_type": "execute_result"
    }
   ],
   "source": [
    "gdf_ucs['cd_tipo_situacao_projeto'].unique"
   ]
  },
  {
   "cell_type": "markdown",
   "id": "64368326-0cea-4b02-8964-dc3193d9a6c7",
   "metadata": {},
   "source": [
    "### cd_tipo_categoria_parque_unidade_conservacao"
   ]
  },
  {
   "cell_type": "code",
   "execution_count": 19,
   "id": "87dd5652-429a-4a3b-a813-996484c7fac2",
   "metadata": {},
   "outputs": [
    {
     "data": {
      "text/plain": [
       "<bound method Series.unique of 0      7.0\n",
       "2      8.0\n",
       "3      8.0\n",
       "4      8.0\n",
       "44     NaN\n",
       "94     NaN\n",
       "162    NaN\n",
       "251    NaN\n",
       "353    NaN\n",
       "17     NaN\n",
       "75     NaN\n",
       "83     NaN\n",
       "167    NaN\n",
       "181    NaN\n",
       "318    NaN\n",
       "134    NaN\n",
       "328    NaN\n",
       "312    NaN\n",
       "253    NaN\n",
       "266    NaN\n",
       "267    NaN\n",
       "351    NaN\n",
       "0      NaN\n",
       "1      NaN\n",
       "2      NaN\n",
       "3      NaN\n",
       "5      NaN\n",
       "Name: cd_tipo_categoria_parque_unidade_conservacao, dtype: float64>"
      ]
     },
     "execution_count": 19,
     "metadata": {},
     "output_type": "execute_result"
    }
   ],
   "source": [
    "gdf_ucs['cd_tipo_categoria_parque_unidade_conservacao'].unique"
   ]
  },
  {
   "cell_type": "markdown",
   "id": "6d564404-9b11-41ec-9475-9de8505fcc26",
   "metadata": {},
   "source": [
    "### cd_tipo_classificacao_parque_unidade_conservacao"
   ]
  },
  {
   "cell_type": "markdown",
   "id": "e91205db-23f7-4813-88c9-64defb72d386",
   "metadata": {},
   "source": [
    "Apesar de no tx aparentar ser identico ao anterior, como os cds estão diferentes, manterei este para comparação posterior"
   ]
  },
  {
   "cell_type": "code",
   "execution_count": 20,
   "id": "aac761dd-3194-480e-8cbf-4deaa989dac4",
   "metadata": {},
   "outputs": [
    {
     "data": {
      "text/plain": [
       "<bound method Series.unique of 0      2.0\n",
       "2      3.0\n",
       "3      3.0\n",
       "4      3.0\n",
       "44     NaN\n",
       "94     NaN\n",
       "162    NaN\n",
       "251    NaN\n",
       "353    NaN\n",
       "17     NaN\n",
       "75     NaN\n",
       "83     NaN\n",
       "167    NaN\n",
       "181    NaN\n",
       "318    NaN\n",
       "134    NaN\n",
       "328    NaN\n",
       "312    NaN\n",
       "253    NaN\n",
       "266    NaN\n",
       "267    NaN\n",
       "351    NaN\n",
       "0      NaN\n",
       "1      NaN\n",
       "2      NaN\n",
       "3      NaN\n",
       "5      NaN\n",
       "Name: cd_tipo_classificacao_parque_unidade_conservacao, dtype: float64>"
      ]
     },
     "execution_count": 20,
     "metadata": {},
     "output_type": "execute_result"
    }
   ],
   "source": [
    "gdf_ucs['cd_tipo_classificacao_parque_unidade_conservacao'].unique"
   ]
  },
  {
   "cell_type": "markdown",
   "id": "c10a1ad3-f6e3-4b44-9eae-05e8c3722006",
   "metadata": {},
   "source": [
    "### cd_identificador_cadparcs_parque_unidade_conservacao"
   ]
  },
  {
   "cell_type": "code",
   "execution_count": 21,
   "id": "e0fde26c-7236-425f-8446-0c7f2d06dd22",
   "metadata": {},
   "outputs": [
    {
     "data": {
      "text/plain": [
       "False"
      ]
     },
     "execution_count": 21,
     "metadata": {},
     "output_type": "execute_result"
    }
   ],
   "source": [
    "gdf_ucs['cd_identificador_cadparcs_parque_unidade_conservacao'].is_unique"
   ]
  },
  {
   "cell_type": "code",
   "execution_count": 22,
   "id": "da58442a-3dec-471e-9ec0-285ef6260626",
   "metadata": {},
   "outputs": [
    {
     "data": {
      "text/plain": [
       "<bound method Series.unique of 0        NaN\n",
       "2        NaN\n",
       "3        NaN\n",
       "4        NaN\n",
       "44     275.0\n",
       "94     274.0\n",
       "162    283.0\n",
       "251    273.0\n",
       "353    276.0\n",
       "17     360.0\n",
       "75     362.0\n",
       "83     210.0\n",
       "167    361.0\n",
       "181    227.0\n",
       "318    359.0\n",
       "134    380.0\n",
       "328     92.0\n",
       "312    180.0\n",
       "253    293.0\n",
       "266    292.0\n",
       "267    291.0\n",
       "351    290.0\n",
       "0        NaN\n",
       "1        NaN\n",
       "2        NaN\n",
       "3        NaN\n",
       "5        NaN\n",
       "Name: cd_identificador_cadparcs_parque_unidade_conservacao, dtype: float64>"
      ]
     },
     "execution_count": 22,
     "metadata": {},
     "output_type": "execute_result"
    }
   ],
   "source": [
    "gdf_ucs['cd_identificador_cadparcs_parque_unidade_conservacao'].unique"
   ]
  },
  {
   "cell_type": "markdown",
   "id": "f0aa3dba-1675-4e69-9198-54091a144d5a",
   "metadata": {},
   "source": [
    "### nm_area"
   ]
  },
  {
   "cell_type": "code",
   "execution_count": 23,
   "id": "3c7d71d6-3e24-4fef-96c5-a25785bfc985",
   "metadata": {},
   "outputs": [
    {
     "data": {
      "text/plain": [
       "False"
      ]
     },
     "execution_count": 23,
     "metadata": {},
     "output_type": "execute_result"
    }
   ],
   "source": [
    "gdf_ucs['nm_area'].is_unique"
   ]
  },
  {
   "cell_type": "code",
   "execution_count": 24,
   "id": "08bb5658-2342-4d9f-848d-828af467590b",
   "metadata": {},
   "outputs": [
    {
     "data": {
      "text/plain": [
       "<bound method Series.unique of 0                                   None\n",
       "2                                   None\n",
       "3                                   None\n",
       "4                                   None\n",
       "44                    Fontes do Ipiranga\n",
       "94                          Serra do Mar\n",
       "162    Horto Florestal - Alberto Lofgren\n",
       "251                           Cantareira\n",
       "353                              Jaragua\n",
       "17                              Varginha\n",
       "75                             Jaceguava\n",
       "83              Cabeceiras do Aricanduva\n",
       "167                                Itaim\n",
       "181                     Fazenda Do Carmo\n",
       "318                               Borore\n",
       "134                   Cratera De Colonia\n",
       "328                   Cratera De Colonia\n",
       "312                           Anhanguera\n",
       "253                          Mata Virgem\n",
       "266         Solo Sagrado de Guarapiranga\n",
       "267                       Sitio Curucutu\n",
       "351                              Mutinga\n",
       "0                                   None\n",
       "1                                   None\n",
       "2                                   None\n",
       "3                                   None\n",
       "5                                   None\n",
       "Name: nm_area, dtype: object>"
      ]
     },
     "execution_count": 24,
     "metadata": {},
     "output_type": "execute_result"
    }
   ],
   "source": [
    "gdf_ucs['nm_area'].unique"
   ]
  },
  {
   "cell_type": "markdown",
   "id": "06872c67-e102-4bca-ada2-0f17dd3d0910",
   "metadata": {},
   "source": [
    "### tx_tipo_categoria"
   ]
  },
  {
   "cell_type": "code",
   "execution_count": 25,
   "id": "c614edc6-2043-4c3f-8fc1-33df4e865b19",
   "metadata": {},
   "outputs": [
    {
     "data": {
      "text/plain": [
       "<bound method Series.unique of 0                           None\n",
       "2                           None\n",
       "3                           None\n",
       "4                           None\n",
       "44          Parque Estadual - UC\n",
       "94          Parque Estadual - UC\n",
       "162         Parque Estadual - UC\n",
       "251         Parque Estadual - UC\n",
       "353         Parque Estadual - UC\n",
       "17                Parque Natural\n",
       "75                Parque Natural\n",
       "83                Parque Natural\n",
       "167               Parque Natural\n",
       "181               Parque Natural\n",
       "318               Parque Natural\n",
       "134               Parque Natural\n",
       "328               Parque Natural\n",
       "312    Refugio de Vida Silvestre\n",
       "253                         RPPN\n",
       "266                         RPPN\n",
       "267                         RPPN\n",
       "351                         RPPN\n",
       "0                           None\n",
       "1                           None\n",
       "2                           None\n",
       "3                           None\n",
       "5                           None\n",
       "Name: tx_tipo_categoria, dtype: object>"
      ]
     },
     "execution_count": 25,
     "metadata": {},
     "output_type": "execute_result"
    }
   ],
   "source": [
    "gdf_ucs['tx_tipo_categoria'].unique"
   ]
  },
  {
   "cell_type": "markdown",
   "id": "7acd7cc8-890e-4dd9-9294-f1f1cb622e3f",
   "metadata": {},
   "source": [
    "### tx_situacao"
   ]
  },
  {
   "cell_type": "markdown",
   "id": "7e52046f-95ae-4cf8-bca4-cf03eed4b2f7",
   "metadata": {},
   "source": [
    "Acredito que seja uma informação importante, então, apesar de achar que está repetido, irire manter."
   ]
  },
  {
   "cell_type": "code",
   "execution_count": 26,
   "id": "3344aac1-5082-4fde-b0f7-b660861c5233",
   "metadata": {},
   "outputs": [
    {
     "data": {
      "text/plain": [
       "<bound method Series.unique of 0           None\n",
       "2           None\n",
       "3           None\n",
       "4           None\n",
       "44     Existente\n",
       "94     Existente\n",
       "162    Existente\n",
       "251    Existente\n",
       "353    Existente\n",
       "17     Existente\n",
       "75     Existente\n",
       "83     Existente\n",
       "167    Existente\n",
       "181    Existente\n",
       "318    Existente\n",
       "134    Existente\n",
       "328    Existente\n",
       "312    Existente\n",
       "253    Existente\n",
       "266    Existente\n",
       "267    Existente\n",
       "351    Existente\n",
       "0           None\n",
       "1           None\n",
       "2           None\n",
       "3           None\n",
       "5           None\n",
       "Name: tx_situacao, dtype: object>"
      ]
     },
     "execution_count": 26,
     "metadata": {},
     "output_type": "execute_result"
    }
   ],
   "source": [
    "gdf_ucs['tx_situacao'].unique"
   ]
  },
  {
   "cell_type": "markdown",
   "id": "a4105586-863c-4220-9c00-2af1c8b1efdf",
   "metadata": {},
   "source": [
    "### qt_area_metro"
   ]
  },
  {
   "cell_type": "code",
   "execution_count": 27,
   "id": "d5bc6a26-fe7b-4df4-9454-c7a6f69687f8",
   "metadata": {},
   "outputs": [
    {
     "data": {
      "text/plain": [
       "4"
      ]
     },
     "execution_count": 27,
     "metadata": {},
     "output_type": "execute_result"
    }
   ],
   "source": [
    "sum(gdf_ucs['qt_area_metro'].isnull())"
   ]
  },
  {
   "cell_type": "code",
   "execution_count": 28,
   "id": "98a97b09-5006-43a0-99ac-8d72da54c40c",
   "metadata": {},
   "outputs": [
    {
     "data": {
      "text/plain": [
       "0"
      ]
     },
     "execution_count": 28,
     "metadata": {},
     "output_type": "execute_result"
    }
   ],
   "source": [
    "sum(gdf_ucs['geometry'].isnull())"
   ]
  },
  {
   "cell_type": "markdown",
   "id": "e1eef4c3-8277-4db7-ad60-8b53f3864e90",
   "metadata": {},
   "source": [
    "como há 4 valores vazios, prefiro apagar esta coluna e, se necessário, eu crio uma nova a partir da geometria."
   ]
  },
  {
   "cell_type": "markdown",
   "id": "d9ccd10b-e891-46b7-bed9-ab6fe27d3751",
   "metadata": {},
   "source": [
    "### cd_pde_2022"
   ]
  },
  {
   "cell_type": "code",
   "execution_count": 29,
   "id": "75ae320a-9966-4aaa-8fff-599a0a8edbf2",
   "metadata": {},
   "outputs": [
    {
     "data": {
      "text/plain": [
       "False"
      ]
     },
     "execution_count": 29,
     "metadata": {},
     "output_type": "execute_result"
    }
   ],
   "source": [
    "gdf_ucs['cd_pde_2022'].is_unique"
   ]
  },
  {
   "cell_type": "code",
   "execution_count": 30,
   "id": "0aa5a79d-65e4-436a-b78f-8f9b2fbd579f",
   "metadata": {},
   "outputs": [
    {
     "data": {
      "text/plain": [
       "<bound method Series.unique of 0            None\n",
       "2            None\n",
       "3            None\n",
       "4            None\n",
       "44           None\n",
       "94           None\n",
       "162          None\n",
       "251          None\n",
       "353          None\n",
       "17     PQ_CS_23.1\n",
       "75     PQ_PA_09.1\n",
       "83     PQ_SM_03.1\n",
       "167    PQ_PA_07.2\n",
       "181    PQ_IQ_05.1\n",
       "318    PQ_CS_13.1\n",
       "134    PQ_PA_02.2\n",
       "328    PQ_PA_02.1\n",
       "312      UC_PR_01\n",
       "253          None\n",
       "266          None\n",
       "267          None\n",
       "351          None\n",
       "0            None\n",
       "1            None\n",
       "2            None\n",
       "3            None\n",
       "5            None\n",
       "Name: cd_pde_2022, dtype: object>"
      ]
     },
     "execution_count": 30,
     "metadata": {},
     "output_type": "execute_result"
    }
   ],
   "source": [
    "gdf_ucs['cd_pde_2022'].unique"
   ]
  },
  {
   "cell_type": "markdown",
   "id": "ba956b94-2858-4cd7-aea8-07861dc92b56",
   "metadata": {},
   "source": [
    "### cd_identificador_cadparcs_area_protecao_apa"
   ]
  },
  {
   "cell_type": "code",
   "execution_count": 31,
   "id": "72ee8f72-5602-466f-ba25-7ab9e6de052a",
   "metadata": {},
   "outputs": [
    {
     "data": {
      "text/plain": [
       "False"
      ]
     },
     "execution_count": 31,
     "metadata": {},
     "output_type": "execute_result"
    }
   ],
   "source": [
    "gdf_ucs['cd_identificador_cadparcs_area_protecao_apa'].is_unique"
   ]
  },
  {
   "cell_type": "code",
   "execution_count": 32,
   "id": "ec3b8438-39f3-4cc5-ab42-daac8bc9be0a",
   "metadata": {},
   "outputs": [
    {
     "data": {
      "text/plain": [
       "<bound method Series.unique of 0       NaN\n",
       "2       NaN\n",
       "3       NaN\n",
       "4       NaN\n",
       "44      NaN\n",
       "94      NaN\n",
       "162     NaN\n",
       "251     NaN\n",
       "353     NaN\n",
       "17      NaN\n",
       "75      NaN\n",
       "83      NaN\n",
       "167     NaN\n",
       "181     NaN\n",
       "318     NaN\n",
       "134     NaN\n",
       "328     NaN\n",
       "312     NaN\n",
       "253     NaN\n",
       "266     NaN\n",
       "267     NaN\n",
       "351     NaN\n",
       "0      35.0\n",
       "1       1.0\n",
       "2       3.0\n",
       "3       2.0\n",
       "5      34.0\n",
       "Name: cd_identificador_cadparcs_area_protecao_apa, dtype: float64>"
      ]
     },
     "execution_count": 32,
     "metadata": {},
     "output_type": "execute_result"
    }
   ],
   "source": [
    "gdf_ucs['cd_identificador_cadparcs_area_protecao_apa'].unique"
   ]
  },
  {
   "cell_type": "markdown",
   "id": "47ad6947-6a54-4fcb-80d9-13969385519c",
   "metadata": {},
   "source": [
    "### nm_esfera_administrativa"
   ]
  },
  {
   "cell_type": "markdown",
   "id": "3bc0821a-6efe-4e50-9a52-ce8b98931a99",
   "metadata": {},
   "source": [
    "Acredito que esteja repetida"
   ]
  },
  {
   "cell_type": "code",
   "execution_count": 33,
   "id": "f255833c-94ae-49ef-af3e-681916267ebe",
   "metadata": {},
   "outputs": [
    {
     "data": {
      "text/plain": [
       "<bound method Series.unique of 0           None\n",
       "2           None\n",
       "3           None\n",
       "4           None\n",
       "44          None\n",
       "94          None\n",
       "162         None\n",
       "251         None\n",
       "353         None\n",
       "17          None\n",
       "75          None\n",
       "83          None\n",
       "167         None\n",
       "181         None\n",
       "318         None\n",
       "134         None\n",
       "328         None\n",
       "312         None\n",
       "253         None\n",
       "266         None\n",
       "267         None\n",
       "351         None\n",
       "0      Municipal\n",
       "1       Estadual\n",
       "2       Estadual\n",
       "3       Estadual\n",
       "5      Municipal\n",
       "Name: nm_esfera_administrativa, dtype: object>"
      ]
     },
     "execution_count": 33,
     "metadata": {},
     "output_type": "execute_result"
    }
   ],
   "source": [
    "gdf_ucs['nm_esfera_administrativa'].unique"
   ]
  },
  {
   "cell_type": "markdown",
   "id": "6d1c710e-15ef-43e6-9ef2-cf0db5076116",
   "metadata": {},
   "source": [
    "### nm_area_protecao_ambiental"
   ]
  },
  {
   "cell_type": "code",
   "execution_count": 34,
   "id": "98ed5962-212c-4e30-a078-4b6a6202ec32",
   "metadata": {},
   "outputs": [
    {
     "data": {
      "text/plain": [
       "<bound method Series.unique of 0                           None\n",
       "2                           None\n",
       "3                           None\n",
       "4                           None\n",
       "44                          None\n",
       "94                          None\n",
       "162                         None\n",
       "251                         None\n",
       "353                         None\n",
       "17                          None\n",
       "75                          None\n",
       "83                          None\n",
       "167                         None\n",
       "181                         None\n",
       "318                         None\n",
       "134                         None\n",
       "328                         None\n",
       "312                         None\n",
       "253                         None\n",
       "266                         None\n",
       "267                         None\n",
       "351                         None\n",
       "0                 Capivari-Monos\n",
       "1                       Iguatemi\n",
       "2                Varzea do Tiete\n",
       "3      Parque e Fazenda do Carmo\n",
       "5                 Borore-Colonia\n",
       "Name: nm_area_protecao_ambiental, dtype: object>"
      ]
     },
     "execution_count": 34,
     "metadata": {},
     "output_type": "execute_result"
    }
   ],
   "source": [
    "gdf_ucs['nm_area_protecao_ambiental'].unique"
   ]
  },
  {
   "cell_type": "markdown",
   "id": "77c65723-d453-4874-a492-cc9fa890f47e",
   "metadata": {},
   "source": [
    "## Alterar colunas"
   ]
  },
  {
   "cell_type": "code",
   "execution_count": 35,
   "id": "08504581-a0a6-4dfa-8f02-7f58361b08f3",
   "metadata": {},
   "outputs": [
    {
     "data": {
      "text/plain": [
       "Index(['id', 'cd_identificador', 'nm_unidade_conservacao', 'cd_cadparc',\n",
       "       'tx_tipo_situacao_projeto',\n",
       "       'tx_tipo_categoria_parque_unidade_conservacao',\n",
       "       'tx_tipo_classificacao_parque_unidade_conservacao',\n",
       "       'cd_tipo_situacao_projeto',\n",
       "       'cd_tipo_categoria_parque_unidade_conservacao',\n",
       "       'cd_tipo_classificacao_parque_unidade_conservacao', 'dt_atualizacao',\n",
       "       'geometry', 'cd_identificador_cadparcs_parque_unidade_conservacao',\n",
       "       'nm_area', 'tx_tipo_categoria', 'tx_data_inauguracao',\n",
       "       'tx_instrumento_legal_criacao', 'tx_situacao', 'nm_administrador',\n",
       "       'qt_area_metro', 'cd_pde_2022',\n",
       "       'cd_identificador_cadparcs_area_protecao_apa',\n",
       "       'nm_esfera_administrativa', 'nm_area_protecao_ambiental'],\n",
       "      dtype='object')"
      ]
     },
     "execution_count": 35,
     "metadata": {},
     "output_type": "execute_result"
    }
   ],
   "source": [
    "gdf_ucs.columns"
   ]
  },
  {
   "cell_type": "code",
   "execution_count": 36,
   "id": "d769ff0e-7f04-415d-a353-ac73f07605df",
   "metadata": {},
   "outputs": [],
   "source": [
    "drop_ucs_cols={\n",
    "    'cd_identificador',\n",
    "    'cd_cadparc',\n",
    "    'tx_tipo_classificacao_parque_unidade_conservacao',\n",
    "    'dt_atualizacao',\n",
    "    'tx_data_inauguracao',\n",
    "    'tx_instrumento_legal_criacao',\n",
    "    'nm_administrador',\n",
    "    'qt_area_metro'\n",
    "}\n",
    "\n",
    "gdf_ucs.drop(\n",
    "    columns=drop_ucs_cols,\n",
    "    axis=1,\n",
    "    inplace=True\n",
    ")"
   ]
  },
  {
   "cell_type": "code",
   "execution_count": 37,
   "id": "d3f76470-5743-40d8-9c02-e2dd890a1ea7",
   "metadata": {},
   "outputs": [],
   "source": [
    "rename_ucs_cols={\n",
    "    'id' : 'id_uc',\n",
    "    'nm_unidade_conservacao' : 'nm_uc',\n",
    "    'tx_tipo_situacao_projeto' : 'situacao_projeto',\n",
    "    'tx_tipo_categoria_parque_unidade_conservacao' : 'cat_parq_uc',\n",
    "    'cd_tipo_situacao_projeto' : 'cd_situacao_projeto',\n",
    "    'cd_tipo_categoria_parque_unidade_conservacao' : 'cd_cat_parq_uc',\n",
    "    'cd_tipo_classificacao_parque_unidade_conservacao' : 'cd_clasfc_parq_uc',\n",
    "    'cd_identificador_cadparcs_parque_unidade_conservacao': 'cd_cadparcs_parq_uc',\n",
    "    'cd_identificador_cadparcs_area_protecao_apa': 'cd_cadparcs_apa_protec'\n",
    "}\n",
    "\n",
    "gdf_ucs.rename(\n",
    "    columns=rename_ucs_cols,\n",
    "    inplace=True\n",
    ")"
   ]
  },
  {
   "cell_type": "code",
   "execution_count": 38,
   "id": "5a7d210c-de98-45f4-af6a-4b5e7641fc4a",
   "metadata": {},
   "outputs": [
    {
     "data": {
      "text/html": [
       "<div>\n",
       "<style scoped>\n",
       "    .dataframe tbody tr th:only-of-type {\n",
       "        vertical-align: middle;\n",
       "    }\n",
       "\n",
       "    .dataframe tbody tr th {\n",
       "        vertical-align: top;\n",
       "    }\n",
       "\n",
       "    .dataframe thead th {\n",
       "        text-align: right;\n",
       "    }\n",
       "</style>\n",
       "<table border=\"1\" class=\"dataframe\">\n",
       "  <thead>\n",
       "    <tr style=\"text-align: right;\">\n",
       "      <th></th>\n",
       "      <th>id_uc</th>\n",
       "      <th>nm_uc</th>\n",
       "      <th>situacao_projeto</th>\n",
       "      <th>cat_parq_uc</th>\n",
       "      <th>cd_situacao_projeto</th>\n",
       "      <th>cd_cat_parq_uc</th>\n",
       "      <th>cd_clasfc_parq_uc</th>\n",
       "      <th>geometry</th>\n",
       "      <th>cd_cadparcs_parq_uc</th>\n",
       "      <th>nm_area</th>\n",
       "      <th>tx_tipo_categoria</th>\n",
       "      <th>tx_situacao</th>\n",
       "      <th>cd_pde_2022</th>\n",
       "      <th>cd_cadparcs_apa_protec</th>\n",
       "      <th>nm_esfera_administrativa</th>\n",
       "      <th>nm_area_protecao_ambiental</th>\n",
       "    </tr>\n",
       "  </thead>\n",
       "  <tbody>\n",
       "    <tr>\n",
       "      <th>353</th>\n",
       "      <td>cadparcs_parque_unidade_conservacao.276</td>\n",
       "      <td>None</td>\n",
       "      <td>None</td>\n",
       "      <td>None</td>\n",
       "      <td>NaN</td>\n",
       "      <td>NaN</td>\n",
       "      <td>NaN</td>\n",
       "      <td>MULTIPOLYGON (((319490.001 7405853.911, 319585...</td>\n",
       "      <td>276.0</td>\n",
       "      <td>Jaragua</td>\n",
       "      <td>Parque Estadual - UC</td>\n",
       "      <td>Existente</td>\n",
       "      <td>None</td>\n",
       "      <td>NaN</td>\n",
       "      <td>None</td>\n",
       "      <td>None</td>\n",
       "    </tr>\n",
       "    <tr>\n",
       "      <th>162</th>\n",
       "      <td>cadparcs_parque_unidade_conservacao.283</td>\n",
       "      <td>None</td>\n",
       "      <td>None</td>\n",
       "      <td>None</td>\n",
       "      <td>NaN</td>\n",
       "      <td>NaN</td>\n",
       "      <td>NaN</td>\n",
       "      <td>MULTIPOLYGON (((331733.357 7404682.928, 331756...</td>\n",
       "      <td>283.0</td>\n",
       "      <td>Horto Florestal - Alberto Lofgren</td>\n",
       "      <td>Parque Estadual - UC</td>\n",
       "      <td>Existente</td>\n",
       "      <td>None</td>\n",
       "      <td>NaN</td>\n",
       "      <td>None</td>\n",
       "      <td>None</td>\n",
       "    </tr>\n",
       "  </tbody>\n",
       "</table>\n",
       "</div>"
      ],
      "text/plain": [
       "                                       id_uc nm_uc situacao_projeto  \\\n",
       "353  cadparcs_parque_unidade_conservacao.276  None             None   \n",
       "162  cadparcs_parque_unidade_conservacao.283  None             None   \n",
       "\n",
       "    cat_parq_uc  cd_situacao_projeto  cd_cat_parq_uc  cd_clasfc_parq_uc  \\\n",
       "353        None                  NaN             NaN                NaN   \n",
       "162        None                  NaN             NaN                NaN   \n",
       "\n",
       "                                              geometry  cd_cadparcs_parq_uc  \\\n",
       "353  MULTIPOLYGON (((319490.001 7405853.911, 319585...                276.0   \n",
       "162  MULTIPOLYGON (((331733.357 7404682.928, 331756...                283.0   \n",
       "\n",
       "                               nm_area     tx_tipo_categoria tx_situacao  \\\n",
       "353                            Jaragua  Parque Estadual - UC   Existente   \n",
       "162  Horto Florestal - Alberto Lofgren  Parque Estadual - UC   Existente   \n",
       "\n",
       "    cd_pde_2022  cd_cadparcs_apa_protec nm_esfera_administrativa  \\\n",
       "353        None                     NaN                     None   \n",
       "162        None                     NaN                     None   \n",
       "\n",
       "    nm_area_protecao_ambiental  \n",
       "353                       None  \n",
       "162                       None  "
      ]
     },
     "execution_count": 38,
     "metadata": {},
     "output_type": "execute_result"
    }
   ],
   "source": [
    "gdf_ucs.sample(2)"
   ]
  },
  {
   "cell_type": "code",
   "execution_count": null,
   "id": "ebcba9dc-e4b6-46e6-867c-a4ba7fe5dead",
   "metadata": {},
   "outputs": [],
   "source": []
  }
 ],
 "metadata": {
  "kernelspec": {
   "display_name": "Python 3 (ipykernel)",
   "language": "python",
   "name": "python3"
  },
  "language_info": {
   "codemirror_mode": {
    "name": "ipython",
    "version": 3
   },
   "file_extension": ".py",
   "mimetype": "text/x-python",
   "name": "python",
   "nbconvert_exporter": "python",
   "pygments_lexer": "ipython3",
   "version": "3.12.4"
  }
 },
 "nbformat": 4,
 "nbformat_minor": 5
}
