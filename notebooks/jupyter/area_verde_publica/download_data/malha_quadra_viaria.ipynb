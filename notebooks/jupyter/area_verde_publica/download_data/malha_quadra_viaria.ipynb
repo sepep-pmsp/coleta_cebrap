{
 "cells": [
  {
   "cell_type": "code",
   "execution_count": 1,
   "id": "2c3669cf-39fc-4f95-a4a3-bdf97d7581ee",
   "metadata": {},
   "outputs": [],
   "source": [
    "from directory_area_verde_load import definir_diretorio \n",
    "project_path = definir_diretorio()\n",
    "\n",
    "import os\n",
    "\n",
    "from utils import (\n",
    "    get_data_diretorio,\n",
    "    check_crs,\n",
    "    save_parquet_excel\n",
    ")\n",
    "from utils.downloads import (\n",
    "    download_malha_geosampa\n",
    ")"
   ]
  },
  {
   "cell_type": "markdown",
   "id": "ddd90a84-a344-448e-9325-6c73df05bf4f",
   "metadata": {},
   "source": [
    "# Quadra Viária (praças)"
   ]
  },
  {
   "cell_type": "code",
   "execution_count": 2,
   "id": "db810e49-b0b0-4bf7-993c-a68ebd5a4a09",
   "metadata": {},
   "outputs": [],
   "source": [
    "data_path = get_data_diretorio(project_path)"
   ]
  },
  {
   "cell_type": "markdown",
   "id": "76852bf3-c84f-434c-81d7-38afe01bd4b2",
   "metadata": {},
   "source": [
    "Deu problema ao baixar o arquivo, o que deveria ser salvo como uma pasta compactada, foi baixado como um outro tipo de arquivo. Preciso corrigir isso na função depois. "
   ]
  },
  {
   "cell_type": "markdown",
   "id": "ff591f70-4f1b-4707-a70f-3055c6489c82",
   "metadata": {},
   "source": [
    " f'''{os.path.join(\n",
    "                    'vsizip',\n",
    "                    file_apth\n",
    "                )}'''"
   ]
  },
  {
   "cell_type": "markdown",
   "id": "f5a3a59c-4a65-4b3a-b34e-befaa6828484",
   "metadata": {},
   "source": [
    "# Importar dados "
   ]
  },
  {
   "cell_type": "code",
   "execution_count": 3,
   "id": "fd43af03-a3e8-48d1-98ed-da39c002cb05",
   "metadata": {},
   "outputs": [],
   "source": [
    "gdf_quadra= download_malha_geosampa(\n",
    "    'quadra_viaria_editada',\n",
    "    data_path    \n",
    ")"
   ]
  },
  {
   "cell_type": "markdown",
   "id": "c2cbf7bc-bf8d-4f89-868d-c6d95bba9aef",
   "metadata": {},
   "source": [
    "OK, sem a paginação deu certo, vamos tentar com a paginação agora."
   ]
  },
  {
   "cell_type": "markdown",
   "id": "018cc3a5-db96-4c60-8f30-287af655ab5a",
   "metadata": {},
   "source": [
    "Com a paginação está dando errado. Vou confirmar com o Henrique depois qula o motivo disso, já que ele entende melhor o código da paginação melhor que eu."
   ]
  },
  {
   "cell_type": "code",
   "execution_count": 4,
   "id": "abbeefd5-897b-4521-9a3b-46c8afdb465f",
   "metadata": {},
   "outputs": [
    {
     "data": {
      "text/plain": [
       "(30000, 8)"
      ]
     },
     "execution_count": 4,
     "metadata": {},
     "output_type": "execute_result"
    }
   ],
   "source": [
    "gdf_quadra.shape"
   ]
  },
  {
   "cell_type": "code",
   "execution_count": 5,
   "id": "36497744-e5f7-4dfb-b360-006b6df2e9d2",
   "metadata": {},
   "outputs": [
    {
     "data": {
      "text/html": [
       "<div>\n",
       "<style scoped>\n",
       "    .dataframe tbody tr th:only-of-type {\n",
       "        vertical-align: middle;\n",
       "    }\n",
       "\n",
       "    .dataframe tbody tr th {\n",
       "        vertical-align: top;\n",
       "    }\n",
       "\n",
       "    .dataframe thead th {\n",
       "        text-align: right;\n",
       "    }\n",
       "</style>\n",
       "<table border=\"1\" class=\"dataframe\">\n",
       "  <thead>\n",
       "    <tr style=\"text-align: right;\">\n",
       "      <th></th>\n",
       "      <th>cd_identif</th>\n",
       "      <th>cd_identi0</th>\n",
       "      <th>tx_tipo_qu</th>\n",
       "      <th>tx_escala</th>\n",
       "      <th>tx_ano_ref</th>\n",
       "      <th>qt_area_me</th>\n",
       "      <th>sg_fonte_o</th>\n",
       "      <th>geometry</th>\n",
       "    </tr>\n",
       "  </thead>\n",
       "  <tbody>\n",
       "    <tr>\n",
       "      <th>2309</th>\n",
       "      <td>2149</td>\n",
       "      <td>3601</td>\n",
       "      <td>Praca_Canteiro</td>\n",
       "      <td>1:1.000</td>\n",
       "      <td>2017</td>\n",
       "      <td>66</td>\n",
       "      <td>SMUL/GEOINFO</td>\n",
       "      <td>POLYGON ((330978.413 7381803.928, 330993.498 7...</td>\n",
       "    </tr>\n",
       "    <tr>\n",
       "      <th>734</th>\n",
       "      <td>734</td>\n",
       "      <td>934</td>\n",
       "      <td>Praca_Canteiro</td>\n",
       "      <td>1:1.000</td>\n",
       "      <td>2004</td>\n",
       "      <td>3232</td>\n",
       "      <td>SMUL/GEOINFO</td>\n",
       "      <td>POLYGON ((343205.586 7391059.388, 343205.796 7...</td>\n",
       "    </tr>\n",
       "  </tbody>\n",
       "</table>\n",
       "</div>"
      ],
      "text/plain": [
       "      cd_identif  cd_identi0      tx_tipo_qu tx_escala tx_ano_ref  qt_area_me  \\\n",
       "2309        2149        3601  Praca_Canteiro   1:1.000       2017          66   \n",
       "734          734         934  Praca_Canteiro   1:1.000       2004        3232   \n",
       "\n",
       "        sg_fonte_o                                           geometry  \n",
       "2309  SMUL/GEOINFO  POLYGON ((330978.413 7381803.928, 330993.498 7...  \n",
       "734   SMUL/GEOINFO  POLYGON ((343205.586 7391059.388, 343205.796 7...  "
      ]
     },
     "execution_count": 5,
     "metadata": {},
     "output_type": "execute_result"
    }
   ],
   "source": [
    "gdf_quadra.sample(2)"
   ]
  },
  {
   "cell_type": "markdown",
   "id": "144d7a11-c42a-4bb6-839b-b4debf503b5f",
   "metadata": {},
   "source": [
    "## Padronizaçã de colunas"
   ]
  },
  {
   "cell_type": "code",
   "execution_count": 6,
   "id": "b475945b-cb9d-42e3-99c5-b16de134a586",
   "metadata": {},
   "outputs": [],
   "source": [
    "drop_quadra_cols={\n",
    "    'tx_escala',\n",
    "    'tx_ano_ref'\n",
    "}\n",
    "\n",
    "gdf_quadra.drop(\n",
    "    columns=drop_quadra_cols,\n",
    "    axis=1,\n",
    "    inplace=True\n",
    ")"
   ]
  },
  {
   "cell_type": "code",
   "execution_count": 7,
   "id": "97dbfdc1-5264-4e21-88e7-734e0f0125a0",
   "metadata": {},
   "outputs": [],
   "source": [
    "rename_quadra_cols = {\n",
    "    'cd_identif' : 'cd_quadra'\n",
    "}\n",
    "\n",
    "gdf_quadra.rename(\n",
    "    rename_quadra_cols,\n",
    "    axis=1,\n",
    "    inplace=True\n",
    ")"
   ]
  },
  {
   "cell_type": "markdown",
   "id": "cbf2c602-d537-4456-a2d2-9f9bd0e907b4",
   "metadata": {},
   "source": [
    "## Conferir CRS"
   ]
  },
  {
   "cell_type": "code",
   "execution_count": 8,
   "id": "730949cc-bb59-4676-acdc-b277818c0d66",
   "metadata": {},
   "outputs": [],
   "source": [
    "gdf_quadra = check_crs(gdf_quadra)"
   ]
  },
  {
   "cell_type": "markdown",
   "id": "ca24d996-8fb4-48b2-a110-f4cb6861b074",
   "metadata": {},
   "source": [
    "# Filtrar por praças"
   ]
  },
  {
   "cell_type": "code",
   "execution_count": 9,
   "id": "470691dd-dc25-41b6-89d6-660391cae24d",
   "metadata": {},
   "outputs": [
    {
     "data": {
      "text/plain": [
       "Index(['cd_quadra', 'cd_identi0', 'tx_tipo_qu', 'qt_area_me', 'sg_fonte_o',\n",
       "       'geometry'],\n",
       "      dtype='object')"
      ]
     },
     "execution_count": 9,
     "metadata": {},
     "output_type": "execute_result"
    }
   ],
   "source": [
    "gdf_quadra.columns"
   ]
  },
  {
   "cell_type": "code",
   "execution_count": 10,
   "id": "bd4799d3-ab59-4c41-842f-0f760e771666",
   "metadata": {},
   "outputs": [
    {
     "data": {
      "text/plain": [
       "array(['Quadra', 'Praca_Canteiro', 'CET', 'Borda'], dtype=object)"
      ]
     },
     "execution_count": 10,
     "metadata": {},
     "output_type": "execute_result"
    }
   ],
   "source": [
    "gdf_quadra['tx_tipo_qu'].unique()"
   ]
  },
  {
   "cell_type": "markdown",
   "id": "14094f09-b799-4b04-ab65-39df948f78a0",
   "metadata": {},
   "source": [
    "Eu fui orientada a pegar apenas o Praca_Canteiro, mas caso seja interessante, é possível pegar outros tipos também."
   ]
  },
  {
   "cell_type": "code",
   "execution_count": 11,
   "id": "25f2e1e4-6fb9-44c2-9ed6-650c225be5e0",
   "metadata": {},
   "outputs": [],
   "source": [
    "praca = gdf_quadra['tx_tipo_qu'].unique()[1]"
   ]
  },
  {
   "cell_type": "markdown",
   "id": "556514b1-4af0-431d-af16-29132be73e6d",
   "metadata": {},
   "source": [
    "Por algum motivo, quando eu digitava 'Praca_Canteiro', o loc não reconhecia, por isso passei como uma variável, para pegar o nome certinho."
   ]
  },
  {
   "cell_type": "code",
   "execution_count": 12,
   "id": "968751e6-ff4e-4d5b-8a0a-297b81ee4eec",
   "metadata": {},
   "outputs": [],
   "source": [
    "gdf_quadra = gdf_quadra.loc[gdf_quadra['tx_tipo_qu']==praca]"
   ]
  },
  {
   "cell_type": "code",
   "execution_count": 13,
   "id": "9870b1c9-52d7-4962-a6bb-db40f1b4b986",
   "metadata": {},
   "outputs": [
    {
     "data": {
      "text/plain": [
       "(10926, 6)"
      ]
     },
     "execution_count": 13,
     "metadata": {},
     "output_type": "execute_result"
    }
   ],
   "source": [
    "gdf_quadra.shape"
   ]
  },
  {
   "cell_type": "markdown",
   "id": "237ca374-02b8-4dc8-9da0-fe63e0fad4ec",
   "metadata": {},
   "source": [
    "Acredito que após a paginação, o número de praças será maior."
   ]
  },
  {
   "cell_type": "code",
   "execution_count": 14,
   "id": "89af7ac6-0de1-4864-85d5-139f87efef4f",
   "metadata": {},
   "outputs": [
    {
     "data": {
      "text/html": [
       "<div>\n",
       "<style scoped>\n",
       "    .dataframe tbody tr th:only-of-type {\n",
       "        vertical-align: middle;\n",
       "    }\n",
       "\n",
       "    .dataframe tbody tr th {\n",
       "        vertical-align: top;\n",
       "    }\n",
       "\n",
       "    .dataframe thead th {\n",
       "        text-align: right;\n",
       "    }\n",
       "</style>\n",
       "<table border=\"1\" class=\"dataframe\">\n",
       "  <thead>\n",
       "    <tr style=\"text-align: right;\">\n",
       "      <th></th>\n",
       "      <th>cd_quadra</th>\n",
       "      <th>cd_identi0</th>\n",
       "      <th>tx_tipo_qu</th>\n",
       "      <th>qt_area_me</th>\n",
       "      <th>sg_fonte_o</th>\n",
       "      <th>geometry</th>\n",
       "    </tr>\n",
       "  </thead>\n",
       "  <tbody>\n",
       "    <tr>\n",
       "      <th>4280</th>\n",
       "      <td>4005</td>\n",
       "      <td>5853</td>\n",
       "      <td>Praca_Canteiro</td>\n",
       "      <td>78</td>\n",
       "      <td>SMUL/GEOINFO</td>\n",
       "      <td>POLYGON ((340826.318 7394079.827, 340826.263 7...</td>\n",
       "    </tr>\n",
       "    <tr>\n",
       "      <th>8333</th>\n",
       "      <td>8151</td>\n",
       "      <td>11256</td>\n",
       "      <td>Praca_Canteiro</td>\n",
       "      <td>1137</td>\n",
       "      <td>SMUL/GEOINFO</td>\n",
       "      <td>POLYGON ((332799.844 7393868.552, 332806.386 7...</td>\n",
       "    </tr>\n",
       "  </tbody>\n",
       "</table>\n",
       "</div>"
      ],
      "text/plain": [
       "      cd_quadra  cd_identi0      tx_tipo_qu  qt_area_me    sg_fonte_o  \\\n",
       "4280       4005        5853  Praca_Canteiro          78  SMUL/GEOINFO   \n",
       "8333       8151       11256  Praca_Canteiro        1137  SMUL/GEOINFO   \n",
       "\n",
       "                                               geometry  \n",
       "4280  POLYGON ((340826.318 7394079.827, 340826.263 7...  \n",
       "8333  POLYGON ((332799.844 7393868.552, 332806.386 7...  "
      ]
     },
     "execution_count": 14,
     "metadata": {},
     "output_type": "execute_result"
    }
   ],
   "source": [
    "gdf_quadra.sample(2)"
   ]
  },
  {
   "cell_type": "markdown",
   "id": "50cf2ed8-8361-45d2-97c6-d6082d72573f",
   "metadata": {},
   "source": [
    "# Salvar GDF"
   ]
  },
  {
   "cell_type": "code",
   "execution_count": 15,
   "id": "6e388826-ee80-44df-b7e6-4ec3b5a56246",
   "metadata": {},
   "outputs": [],
   "source": [
    "save_parquet_excel(\n",
    "    gdf_quadra, \n",
    "    fname= 'quadra_viaria_editada',\n",
    "    data_path = data_path,\n",
    "    data_subpath = 'assets'\n",
    ")"
   ]
  }
 ],
 "metadata": {
  "kernelspec": {
   "display_name": "Python 3 (ipykernel)",
   "language": "python",
   "name": "python3"
  },
  "language_info": {
   "codemirror_mode": {
    "name": "ipython",
    "version": 3
   },
   "file_extension": ".py",
   "mimetype": "text/x-python",
   "name": "python",
   "nbconvert_exporter": "python",
   "pygments_lexer": "ipython3",
   "version": "3.12.4"
  }
 },
 "nbformat": 4,
 "nbformat_minor": 5
}
