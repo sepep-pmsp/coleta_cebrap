{
 "cells": [
  {
   "cell_type": "code",
   "execution_count": 1,
   "id": "290566d7-c3c8-40a3-b53e-9e5fddabd722",
   "metadata": {},
   "outputs": [],
   "source": [
    "from directory_area_verde_load import definir_diretorio \n",
    "project_path = definir_diretorio()\n",
    "\n",
    "import geopandas as gpd\n",
    "\n",
    "from utils import(\n",
    "    get_data_diretorio,\n",
    "    check_crs,\n",
    "    save_parquet_excel\n",
    ")\n",
    "from utils.downloads import (\n",
    "    download_malha_geosampa\n",
    ")"
   ]
  },
  {
   "cell_type": "markdown",
   "id": "253e4da2-9d19-4498-a0b7-fde0b5477f92",
   "metadata": {},
   "source": [
    "# Terras Indígenas"
   ]
  },
  {
   "cell_type": "code",
   "execution_count": 2,
   "id": "db810e49-b0b0-4bf7-993c-a68ebd5a4a09",
   "metadata": {},
   "outputs": [],
   "source": [
    "data_path = get_data_diretorio(project_path)"
   ]
  },
  {
   "cell_type": "markdown",
   "id": "f5fb20d4-0d13-40b6-9d79-b5f9e4eaeedf",
   "metadata": {},
   "source": [
    "# Importar dados"
   ]
  },
  {
   "cell_type": "code",
   "execution_count": 3,
   "id": "290a425c-9cbc-46d6-ac43-924e16962d5a",
   "metadata": {},
   "outputs": [],
   "source": [
    "gdf_terra_indigena = download_malha_geosampa(\n",
    "    'GEOSAMPA_terra_indigena',\n",
    "    data_path\n",
    ")"
   ]
  },
  {
   "cell_type": "code",
   "execution_count": 4,
   "id": "cfc4980f-0ed8-42ab-921b-7980203a2b5d",
   "metadata": {},
   "outputs": [
    {
     "data": {
      "text/plain": [
       "(6, 7)"
      ]
     },
     "execution_count": 4,
     "metadata": {},
     "output_type": "execute_result"
    }
   ],
   "source": [
    "gdf_terra_indigena.shape"
   ]
  },
  {
   "cell_type": "markdown",
   "id": "6ce7c813-f1c0-4c24-aa20-713b064d60f8",
   "metadata": {},
   "source": [
    "Só tem 6 mesmo?"
   ]
  },
  {
   "cell_type": "code",
   "execution_count": 5,
   "id": "a0db53a6-5f44-49e3-a925-7cc281f64cbe",
   "metadata": {},
   "outputs": [
    {
     "data": {
      "text/html": [
       "<div>\n",
       "<style scoped>\n",
       "    .dataframe tbody tr th:only-of-type {\n",
       "        vertical-align: middle;\n",
       "    }\n",
       "\n",
       "    .dataframe tbody tr th {\n",
       "        vertical-align: top;\n",
       "    }\n",
       "\n",
       "    .dataframe thead th {\n",
       "        text-align: right;\n",
       "    }\n",
       "</style>\n",
       "<table border=\"1\" class=\"dataframe\">\n",
       "  <thead>\n",
       "    <tr style=\"text-align: right;\">\n",
       "      <th></th>\n",
       "      <th>cd_identif</th>\n",
       "      <th>nm_terra_i</th>\n",
       "      <th>nm_etnia</th>\n",
       "      <th>tx_regular</th>\n",
       "      <th>qt_area_te</th>\n",
       "      <th>dt_carga</th>\n",
       "      <th>geometry</th>\n",
       "    </tr>\n",
       "  </thead>\n",
       "  <tbody>\n",
       "    <tr>\n",
       "      <th>0</th>\n",
       "      <td>21</td>\n",
       "      <td>Jaragua</td>\n",
       "      <td>Guarani</td>\n",
       "      <td>Dec. Fed. 94.221/87 - 5.415,01 m²</td>\n",
       "      <td>17481.0</td>\n",
       "      <td>2024-11-05</td>\n",
       "      <td>MULTIPOLYGON (((320768.06 7403992.64, 320774.0...</td>\n",
       "    </tr>\n",
       "    <tr>\n",
       "      <th>1</th>\n",
       "      <td>22</td>\n",
       "      <td>Krukutu</td>\n",
       "      <td>Guarani</td>\n",
       "      <td>Dec. Fed. 94.222/87</td>\n",
       "      <td>283398.0</td>\n",
       "      <td>2024-11-05</td>\n",
       "      <td>POLYGON ((334954.128 7360154.439, 334961.114 7...</td>\n",
       "    </tr>\n",
       "    <tr>\n",
       "      <th>2</th>\n",
       "      <td>24</td>\n",
       "      <td>Rio Branco Itanhaem</td>\n",
       "      <td>Guarani</td>\n",
       "      <td>Dec. Fed. 94.224/87</td>\n",
       "      <td>6366828.0</td>\n",
       "      <td>2024-11-05</td>\n",
       "      <td>POLYGON ((333882.358 7347493.187, 333879.014 7...</td>\n",
       "    </tr>\n",
       "    <tr>\n",
       "      <th>3</th>\n",
       "      <td>19</td>\n",
       "      <td>Guarani da Barragem</td>\n",
       "      <td>Guarani Kaiowa</td>\n",
       "      <td>Dec. Fed. 94.223/87</td>\n",
       "      <td>306567.0</td>\n",
       "      <td>2024-11-05</td>\n",
       "      <td>POLYGON ((332046.984 7359612.262, 332205.072 7...</td>\n",
       "    </tr>\n",
       "    <tr>\n",
       "      <th>4</th>\n",
       "      <td>25</td>\n",
       "      <td>Jaragua</td>\n",
       "      <td>Guarani</td>\n",
       "      <td>Declarada - Portaria MJ 581/15 - 532 ha</td>\n",
       "      <td>4907206.0</td>\n",
       "      <td>2024-11-05</td>\n",
       "      <td>MULTIPOLYGON (((319289.195 7402832.99, 319262....</td>\n",
       "    </tr>\n",
       "    <tr>\n",
       "      <th>5</th>\n",
       "      <td>23</td>\n",
       "      <td>Tenonde Pora</td>\n",
       "      <td>Guarani</td>\n",
       "      <td>Portaria MJ 548/16 - 15.969 ha</td>\n",
       "      <td>73776118.0</td>\n",
       "      <td>2024-11-05</td>\n",
       "      <td>MULTIPOLYGON (((335335.908 7359193.265, 335338...</td>\n",
       "    </tr>\n",
       "  </tbody>\n",
       "</table>\n",
       "</div>"
      ],
      "text/plain": [
       "   cd_identif           nm_terra_i        nm_etnia  \\\n",
       "0          21              Jaragua         Guarani   \n",
       "1          22              Krukutu         Guarani   \n",
       "2          24  Rio Branco Itanhaem         Guarani   \n",
       "3          19  Guarani da Barragem  Guarani Kaiowa   \n",
       "4          25              Jaragua         Guarani   \n",
       "5          23         Tenonde Pora         Guarani   \n",
       "\n",
       "                                tx_regular  qt_area_te   dt_carga  \\\n",
       "0        Dec. Fed. 94.221/87 - 5.415,01 m²     17481.0 2024-11-05   \n",
       "1                      Dec. Fed. 94.222/87    283398.0 2024-11-05   \n",
       "2                      Dec. Fed. 94.224/87   6366828.0 2024-11-05   \n",
       "3                      Dec. Fed. 94.223/87    306567.0 2024-11-05   \n",
       "4  Declarada - Portaria MJ 581/15 - 532 ha   4907206.0 2024-11-05   \n",
       "5           Portaria MJ 548/16 - 15.969 ha  73776118.0 2024-11-05   \n",
       "\n",
       "                                            geometry  \n",
       "0  MULTIPOLYGON (((320768.06 7403992.64, 320774.0...  \n",
       "1  POLYGON ((334954.128 7360154.439, 334961.114 7...  \n",
       "2  POLYGON ((333882.358 7347493.187, 333879.014 7...  \n",
       "3  POLYGON ((332046.984 7359612.262, 332205.072 7...  \n",
       "4  MULTIPOLYGON (((319289.195 7402832.99, 319262....  \n",
       "5  MULTIPOLYGON (((335335.908 7359193.265, 335338...  "
      ]
     },
     "execution_count": 5,
     "metadata": {},
     "output_type": "execute_result"
    }
   ],
   "source": [
    "gdf_terra_indigena"
   ]
  },
  {
   "cell_type": "markdown",
   "id": "144d7a11-c42a-4bb6-839b-b4debf503b5f",
   "metadata": {},
   "source": [
    "## Padronizaçã de colunas"
   ]
  },
  {
   "cell_type": "code",
   "execution_count": 6,
   "id": "bdeea608-41fc-4cc2-9648-941a6f529758",
   "metadata": {},
   "outputs": [],
   "source": [
    "drop_terra_i_cols={\n",
    "    'tx_regular',\n",
    "    'dt_carga'\n",
    "}\n",
    "\n",
    "gdf_terra_indigena.drop(\n",
    "    columns=drop_terra_i_cols,\n",
    "    axis=1,\n",
    "    inplace=True\n",
    ")"
   ]
  },
  {
   "cell_type": "code",
   "execution_count": 7,
   "id": "011825ca-806c-4d90-a44c-eb59654241d6",
   "metadata": {},
   "outputs": [],
   "source": [
    "gdf_terra_indigena.rename(\n",
    "    columns={'cd_identif' : 'cd_terra_i'},\n",
    "    inplace=True\n",
    ")"
   ]
  },
  {
   "cell_type": "markdown",
   "id": "b27ee8ad-68a7-4c5d-a504-ebc02d1a58f4",
   "metadata": {},
   "source": [
    "# Conferir CRS"
   ]
  },
  {
   "cell_type": "code",
   "execution_count": 8,
   "id": "b7c8db8c-e10c-4282-8eaa-e1cd5ae3cff2",
   "metadata": {},
   "outputs": [],
   "source": [
    "gdf_terra_indigena = check_crs(gdf_terra_indigena)"
   ]
  },
  {
   "cell_type": "code",
   "execution_count": 9,
   "id": "36fa4677-34c7-40f9-a398-80cb6c08a7aa",
   "metadata": {},
   "outputs": [
    {
     "data": {
      "text/html": [
       "<div>\n",
       "<style scoped>\n",
       "    .dataframe tbody tr th:only-of-type {\n",
       "        vertical-align: middle;\n",
       "    }\n",
       "\n",
       "    .dataframe tbody tr th {\n",
       "        vertical-align: top;\n",
       "    }\n",
       "\n",
       "    .dataframe thead th {\n",
       "        text-align: right;\n",
       "    }\n",
       "</style>\n",
       "<table border=\"1\" class=\"dataframe\">\n",
       "  <thead>\n",
       "    <tr style=\"text-align: right;\">\n",
       "      <th></th>\n",
       "      <th>cd_terra_i</th>\n",
       "      <th>nm_terra_i</th>\n",
       "      <th>nm_etnia</th>\n",
       "      <th>qt_area_te</th>\n",
       "      <th>geometry</th>\n",
       "    </tr>\n",
       "  </thead>\n",
       "  <tbody>\n",
       "    <tr>\n",
       "      <th>0</th>\n",
       "      <td>21</td>\n",
       "      <td>Jaragua</td>\n",
       "      <td>Guarani</td>\n",
       "      <td>17481.0</td>\n",
       "      <td>MULTIPOLYGON (((320768.06 7403992.64, 320774.0...</td>\n",
       "    </tr>\n",
       "    <tr>\n",
       "      <th>4</th>\n",
       "      <td>25</td>\n",
       "      <td>Jaragua</td>\n",
       "      <td>Guarani</td>\n",
       "      <td>4907206.0</td>\n",
       "      <td>MULTIPOLYGON (((319289.195 7402832.99, 319262....</td>\n",
       "    </tr>\n",
       "  </tbody>\n",
       "</table>\n",
       "</div>"
      ],
      "text/plain": [
       "   cd_terra_i nm_terra_i nm_etnia  qt_area_te  \\\n",
       "0          21    Jaragua  Guarani     17481.0   \n",
       "4          25    Jaragua  Guarani   4907206.0   \n",
       "\n",
       "                                            geometry  \n",
       "0  MULTIPOLYGON (((320768.06 7403992.64, 320774.0...  \n",
       "4  MULTIPOLYGON (((319289.195 7402832.99, 319262....  "
      ]
     },
     "execution_count": 9,
     "metadata": {},
     "output_type": "execute_result"
    }
   ],
   "source": [
    "gdf_terra_indigena.sample(2)\n"
   ]
  },
  {
   "cell_type": "markdown",
   "id": "50cf2ed8-8361-45d2-97c6-d6082d72573f",
   "metadata": {},
   "source": [
    "# Salvar GDF"
   ]
  },
  {
   "cell_type": "code",
   "execution_count": 10,
   "id": "6e388826-ee80-44df-b7e6-4ec3b5a56246",
   "metadata": {},
   "outputs": [],
   "source": [
    "save_parquet_excel(\n",
    "    gdf_terra_indigena, \n",
    "    fname= 'terra_indigena',\n",
    "    data_path = data_path,\n",
    "    data_subpath = 'assets'\n",
    ")"
   ]
  }
 ],
 "metadata": {
  "kernelspec": {
   "display_name": "Python 3 (ipykernel)",
   "language": "python",
   "name": "python3"
  },
  "language_info": {
   "codemirror_mode": {
    "name": "ipython",
    "version": 3
   },
   "file_extension": ".py",
   "mimetype": "text/x-python",
   "name": "python",
   "nbconvert_exporter": "python",
   "pygments_lexer": "ipython3",
   "version": "3.12.4"
  }
 },
 "nbformat": 4,
 "nbformat_minor": 5
}
