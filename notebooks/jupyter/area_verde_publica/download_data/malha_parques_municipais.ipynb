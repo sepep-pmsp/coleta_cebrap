{
 "cells": [
  {
   "cell_type": "code",
   "execution_count": 1,
   "id": "a75b7258-9e6c-4354-8e32-200867aecd3a",
   "metadata": {},
   "outputs": [],
   "source": [
    "from directory_area_verde_load import definir_diretorio \n",
    "project_path = definir_diretorio()\n",
    "\n",
    "from utils import (\n",
    "    get_data_diretorio,\n",
    "    check_crs,\n",
    "    save_parquet_excel,\n",
    ")\n",
    "from utils.downloads import (\n",
    "    download_malha_geosampa\n",
    ")"
   ]
  },
  {
   "cell_type": "markdown",
   "id": "919e6203-eea7-4142-a07c-eb709a66f049",
   "metadata": {},
   "source": [
    "# Parques Municipais"
   ]
  },
  {
   "cell_type": "code",
   "execution_count": 2,
   "id": "db810e49-b0b0-4bf7-993c-a68ebd5a4a09",
   "metadata": {},
   "outputs": [],
   "source": [
    "data_path = get_data_diretorio(project_path)"
   ]
  },
  {
   "cell_type": "markdown",
   "id": "f5a3a59c-4a65-4b3a-b34e-befaa6828484",
   "metadata": {},
   "source": [
    "## Importar dados "
   ]
  },
  {
   "cell_type": "code",
   "execution_count": 3,
   "id": "472809d7-ad78-4faf-b149-e239e785919c",
   "metadata": {},
   "outputs": [],
   "source": [
    "gdf_parques_mun = download_malha_geosampa(\n",
    "    'pde_parque_municipal',\n",
    "    data_path\n",
    ")"
   ]
  },
  {
   "cell_type": "code",
   "execution_count": 4,
   "id": "6298360f-4e20-4635-8400-0b0b2c64fc09",
   "metadata": {},
   "outputs": [
    {
     "data": {
      "text/plain": [
       "(280, 9)"
      ]
     },
     "execution_count": 4,
     "metadata": {},
     "output_type": "execute_result"
    }
   ],
   "source": [
    "gdf_parques_mun.shape"
   ]
  },
  {
   "cell_type": "code",
   "execution_count": 5,
   "id": "7c3b59a7-0963-41bf-afd6-b4f24f39ab97",
   "metadata": {},
   "outputs": [
    {
     "data": {
      "text/html": [
       "<div>\n",
       "<style scoped>\n",
       "    .dataframe tbody tr th:only-of-type {\n",
       "        vertical-align: middle;\n",
       "    }\n",
       "\n",
       "    .dataframe tbody tr th {\n",
       "        vertical-align: top;\n",
       "    }\n",
       "\n",
       "    .dataframe thead th {\n",
       "        text-align: right;\n",
       "    }\n",
       "</style>\n",
       "<table border=\"1\" class=\"dataframe\">\n",
       "  <thead>\n",
       "    <tr style=\"text-align: right;\">\n",
       "      <th></th>\n",
       "      <th>cd_identif</th>\n",
       "      <th>nm_parque</th>\n",
       "      <th>cd_cadparc</th>\n",
       "      <th>tx_tipo_ca</th>\n",
       "      <th>tx_tipo_si</th>\n",
       "      <th>cd_tipo_ca</th>\n",
       "      <th>cd_tipo_si</th>\n",
       "      <th>dt_atualiz</th>\n",
       "      <th>geometry</th>\n",
       "    </tr>\n",
       "  </thead>\n",
       "  <tbody>\n",
       "    <tr>\n",
       "      <th>27</th>\n",
       "      <td>214</td>\n",
       "      <td>Córrego Verde</td>\n",
       "      <td>PQ_PI_04</td>\n",
       "      <td>Parque Linear</td>\n",
       "      <td>Proposto</td>\n",
       "      <td>5</td>\n",
       "      <td>1</td>\n",
       "      <td>2024-10-29</td>\n",
       "      <td>MULTIPOLYGON (((327731.244 7393352.774, 327721...</td>\n",
       "    </tr>\n",
       "    <tr>\n",
       "      <th>266</th>\n",
       "      <td>130</td>\n",
       "      <td>Nair Bello</td>\n",
       "      <td>PQ_IQ_02.2</td>\n",
       "      <td>Parque Linear</td>\n",
       "      <td>Proposto</td>\n",
       "      <td>5</td>\n",
       "      <td>1</td>\n",
       "      <td>2024-10-29</td>\n",
       "      <td>MULTIPOLYGON (((347492.897 7391630.939, 347461...</td>\n",
       "    </tr>\n",
       "  </tbody>\n",
       "</table>\n",
       "</div>"
      ],
      "text/plain": [
       "     cd_identif      nm_parque  cd_cadparc     tx_tipo_ca tx_tipo_si  \\\n",
       "27          214  Córrego Verde    PQ_PI_04  Parque Linear   Proposto   \n",
       "266         130     Nair Bello  PQ_IQ_02.2  Parque Linear   Proposto   \n",
       "\n",
       "     cd_tipo_ca  cd_tipo_si dt_atualiz  \\\n",
       "27            5           1 2024-10-29   \n",
       "266           5           1 2024-10-29   \n",
       "\n",
       "                                              geometry  \n",
       "27   MULTIPOLYGON (((327731.244 7393352.774, 327721...  \n",
       "266  MULTIPOLYGON (((347492.897 7391630.939, 347461...  "
      ]
     },
     "execution_count": 5,
     "metadata": {},
     "output_type": "execute_result"
    }
   ],
   "source": [
    "gdf_parques_mun.sample(2)"
   ]
  },
  {
   "cell_type": "markdown",
   "id": "7ae9e0d4-a62a-45ad-989f-650e18f4e1b3",
   "metadata": {},
   "source": [
    "Na coluna 'tx_tipo_si', acredito que seja a situação do parque. Isso seria relevante? Segue as situações possíveis:"
   ]
  },
  {
   "cell_type": "code",
   "execution_count": 6,
   "id": "e2dd369c-2c16-4320-b7e1-0b9dbffcc3a8",
   "metadata": {},
   "outputs": [
    {
     "data": {
      "text/plain": [
       "array(['Existente', 'Proposto'], dtype=object)"
      ]
     },
     "execution_count": 6,
     "metadata": {},
     "output_type": "execute_result"
    }
   ],
   "source": [
    "gdf_parques_mun['tx_tipo_si'].unique()"
   ]
  },
  {
   "cell_type": "markdown",
   "id": "144d7a11-c42a-4bb6-839b-b4debf503b5f",
   "metadata": {},
   "source": [
    "## Padronizaçã de colunas"
   ]
  },
  {
   "cell_type": "code",
   "execution_count": 7,
   "id": "db7a031a-0ea3-476c-a3f4-031d23a38539",
   "metadata": {},
   "outputs": [],
   "source": [
    "drop_parque_cols={\n",
    "    'cd_cadparc',\n",
    "    'tx_tipo_ca',\n",
    "    'dt_atualiz'\n",
    "}\n",
    "\n",
    "gdf_parques_mun.drop(\n",
    "    columns=drop_parque_cols,\n",
    "    axis=1,\n",
    "    inplace=True\n",
    ")"
   ]
  },
  {
   "cell_type": "code",
   "execution_count": 8,
   "id": "8ed53ecf-9710-4b62-a0c9-65794cfea534",
   "metadata": {},
   "outputs": [],
   "source": [
    "gdf_parques_mun.rename(\n",
    "    columns={'cd_identif' : 'cd_parq_mun'},\n",
    "    inplace=True\n",
    ")"
   ]
  },
  {
   "cell_type": "markdown",
   "id": "cbf2c602-d537-4456-a2d2-9f9bd0e907b4",
   "metadata": {},
   "source": [
    "## Conferir CRS"
   ]
  },
  {
   "cell_type": "code",
   "execution_count": 9,
   "id": "730949cc-bb59-4676-acdc-b277818c0d66",
   "metadata": {},
   "outputs": [],
   "source": [
    "gdf_parques_mun = check_crs(gdf_parques_mun)"
   ]
  },
  {
   "cell_type": "markdown",
   "id": "50cf2ed8-8361-45d2-97c6-d6082d72573f",
   "metadata": {},
   "source": [
    "# Salvar GDF"
   ]
  },
  {
   "cell_type": "code",
   "execution_count": 10,
   "id": "6e388826-ee80-44df-b7e6-4ec3b5a56246",
   "metadata": {},
   "outputs": [],
   "source": [
    "save_parquet_excel(\n",
    "    gdf_parques_mun, \n",
    "    fname= 'parques_municipais',\n",
    "    data_path = data_path,\n",
    "    data_subpath = 'assets'\n",
    ")"
   ]
  }
 ],
 "metadata": {
  "kernelspec": {
   "display_name": "Python 3 (ipykernel)",
   "language": "python",
   "name": "python3"
  },
  "language_info": {
   "codemirror_mode": {
    "name": "ipython",
    "version": 3
   },
   "file_extension": ".py",
   "mimetype": "text/x-python",
   "name": "python",
   "nbconvert_exporter": "python",
   "pygments_lexer": "ipython3",
   "version": "3.12.4"
  }
 },
 "nbformat": 4,
 "nbformat_minor": 5
}
