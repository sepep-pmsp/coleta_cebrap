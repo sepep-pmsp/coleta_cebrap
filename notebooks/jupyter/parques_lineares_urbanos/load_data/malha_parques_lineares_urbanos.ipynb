{
 "cells": [
  {
   "cell_type": "code",
   "execution_count": 1,
   "id": "e3eace4c-0151-40e0-999a-5ceb88a3c3d8",
   "metadata": {},
   "outputs": [
    {
     "name": "stdout",
     "output_type": "stream",
     "text": [
      "O diretorio do seu projeto é coleta_cebrap\n",
      "Caminho absoluto do diretorio encontrado C:\\Users\\x526378\\Desktop\\projetos\\cebrap\\coleta_cebrap\n",
      "Caminho no path.\n"
     ]
    }
   ],
   "source": [
    "from configuracoes_notebooks import set_proj_dir\n",
    "set_proj_dir()"
   ]
  },
  {
   "cell_type": "markdown",
   "id": "29a57900-b5a9-4783-ab91-10756f38fa74",
   "metadata": {},
   "source": [
    "from teste import diretorio_teste\n",
    "project_path=diretorio_teste()"
   ]
  },
  {
   "cell_type": "code",
   "execution_count": 2,
   "id": "8e147046-40ec-46a3-a534-b61cff0a2805",
   "metadata": {},
   "outputs": [],
   "source": [
    "import os\n",
    "import geopandas as gpd\n",
    "import pandas as pd\n",
    "from logging import (\n",
    "    Logger,\n",
    "    getLogger,\n",
    ")\n",
    "Logger=getLogger()\n",
    "\n",
    "from notebooks.jupyter import utils\n",
    "from utils import (\n",
    "    save_parquet_excel,\n",
    "    get_data_diretorio,\n",
    "    check_crs\n",
    ")"
   ]
  },
  {
   "cell_type": "code",
   "execution_count": null,
   "id": "3ecafc16-810c-4454-b17a-78f760e82434",
   "metadata": {},
   "outputs": [],
   "source": []
  },
  {
   "cell_type": "code",
   "execution_count": 3,
   "id": "2957bc2e-db6f-4f38-95ac-bea9c5365e47",
   "metadata": {},
   "outputs": [],
   "source": [
    "data_path = get_data_diretorio()"
   ]
  },
  {
   "cell_type": "markdown",
   "id": "bd6629c0-4aca-43f2-bc4b-3c5aea73eebc",
   "metadata": {},
   "source": [
    "# Parques Urbanos e Lineares"
   ]
  },
  {
   "cell_type": "markdown",
   "id": "38688702-ff3b-474e-beae-863641ebc0c3",
   "metadata": {},
   "source": [
    "# Dependências"
   ]
  },
  {
   "cell_type": "markdown",
   "id": "a8ab6050-6f72-4ff5-9917-35eaf543d732",
   "metadata": {},
   "source": [
    "Este notebook é dependente dos assets resultante dos notebooks '../../area_verde_publica/download_data/malha_parques_municipais.ipynb'"
   ]
  },
  {
   "cell_type": "code",
   "execution_count": 4,
   "id": "a5e0f73f-7069-47d4-9e7a-585b23969a3d",
   "metadata": {},
   "outputs": [],
   "source": [
    "assets_path = os.path.join(\n",
    "    data_path,\n",
    "    'assets'\n",
    ")"
   ]
  },
  {
   "cell_type": "code",
   "execution_count": 5,
   "id": "1cd56ce6-bcc5-4a6e-9bf7-73e1b1cf597d",
   "metadata": {},
   "outputs": [],
   "source": [
    "gdf_parq_mun = gpd.read_parquet(\n",
    "    os.path.join(\n",
    "        assets_path,\n",
    "        'parques_municipais.parquet'\n",
    "    )\n",
    ")"
   ]
  },
  {
   "cell_type": "markdown",
   "id": "a31979e1-62eb-46ba-bee3-11f5d03b5fe7",
   "metadata": {},
   "source": [
    "# Conferir e Filtrar Parques Lineares e Urbanos"
   ]
  },
  {
   "cell_type": "code",
   "execution_count": 6,
   "id": "1fa7cd7b-bda8-4416-bea3-583b9de78f30",
   "metadata": {},
   "outputs": [
    {
     "data": {
      "text/html": [
       "<div>\n",
       "<style scoped>\n",
       "    .dataframe tbody tr th:only-of-type {\n",
       "        vertical-align: middle;\n",
       "    }\n",
       "\n",
       "    .dataframe tbody tr th {\n",
       "        vertical-align: top;\n",
       "    }\n",
       "\n",
       "    .dataframe thead th {\n",
       "        text-align: right;\n",
       "    }\n",
       "</style>\n",
       "<table border=\"1\" class=\"dataframe\">\n",
       "  <thead>\n",
       "    <tr style=\"text-align: right;\">\n",
       "      <th></th>\n",
       "      <th>cd_parq_mun</th>\n",
       "      <th>nm_parque</th>\n",
       "      <th>tx_tipo_ca</th>\n",
       "      <th>tx_tipo_si</th>\n",
       "      <th>cd_tipo_ca</th>\n",
       "      <th>cd_tipo_si</th>\n",
       "      <th>geometry</th>\n",
       "    </tr>\n",
       "  </thead>\n",
       "  <tbody>\n",
       "    <tr>\n",
       "      <th>75</th>\n",
       "      <td>34</td>\n",
       "      <td>Sapé</td>\n",
       "      <td>Parque Linear</td>\n",
       "      <td>Existente</td>\n",
       "      <td>5</td>\n",
       "      <td>2</td>\n",
       "      <td>POLYGON ((320729.853 7390900.271, 320739.122 7...</td>\n",
       "    </tr>\n",
       "    <tr>\n",
       "      <th>201</th>\n",
       "      <td>49</td>\n",
       "      <td>Capadocia</td>\n",
       "      <td>Parque Urbano</td>\n",
       "      <td>Proposto</td>\n",
       "      <td>1</td>\n",
       "      <td>1</td>\n",
       "      <td>MULTIPOLYGON (((322460.535 7385454.782, 322456...</td>\n",
       "    </tr>\n",
       "  </tbody>\n",
       "</table>\n",
       "</div>"
      ],
      "text/plain": [
       "     cd_parq_mun  nm_parque     tx_tipo_ca tx_tipo_si  cd_tipo_ca  cd_tipo_si  \\\n",
       "75            34       Sapé  Parque Linear  Existente           5           2   \n",
       "201           49  Capadocia  Parque Urbano   Proposto           1           1   \n",
       "\n",
       "                                              geometry  \n",
       "75   POLYGON ((320729.853 7390900.271, 320739.122 7...  \n",
       "201  MULTIPOLYGON (((322460.535 7385454.782, 322456...  "
      ]
     },
     "execution_count": 6,
     "metadata": {},
     "output_type": "execute_result"
    }
   ],
   "source": [
    "gdf_parq_mun.sample(2)"
   ]
  },
  {
   "cell_type": "markdown",
   "id": "30d32cef-4d45-4b4c-bc19-51f6875b290d",
   "metadata": {},
   "source": [
    "O gdf_parq_mun tem todos os parques em São Paulo. E há vários que não nos interessam (ps.: para garantir que não tenha problemas por causa da caixa alta ou letra capital, vamos deixar tudo em caixa baixa, em inglês é chamada de lower):"
   ]
  },
  {
   "cell_type": "code",
   "execution_count": 7,
   "id": "5c357529-3eb2-4a36-b2b0-4ea641512ba5",
   "metadata": {},
   "outputs": [],
   "source": [
    "gdf_parq_mun['tx_tipo_ca']=gdf_parq_mun['tx_tipo_ca'].str.lower()"
   ]
  },
  {
   "cell_type": "code",
   "execution_count": 8,
   "id": "86ed1fda-0b80-41c4-b7e5-8e20a105f3c9",
   "metadata": {},
   "outputs": [
    {
     "data": {
      "text/plain": [
       "array(['parque urbano', 'parque orla', 'parque de conservação',\n",
       "       'parque natural', 'parque linear'], dtype=object)"
      ]
     },
     "execution_count": 8,
     "metadata": {},
     "output_type": "execute_result"
    }
   ],
   "source": [
    "uniques=gdf_parq_mun['tx_tipo_ca'].unique()\n",
    "#.str.contains('inear', case=False)\n",
    "uniques"
   ]
  },
  {
   "cell_type": "markdown",
   "id": "3fd346c9-98a5-4103-b175-bce6790098c4",
   "metadata": {},
   "source": [
    "O mais seguro é filtrar pelo cd do tipo de parque. No nosso caso, a coluna [cd_tipo_ca]. Para termos certeza de qual o cd de cada um dos parques, vamos filtrar primeiro procurando similaridade nos textos dos tipos de parques, e então encontrar o cd correspondente."
   ]
  },
  {
   "cell_type": "code",
   "execution_count": 9,
   "id": "6a5ffc42-a22c-4b75-bf39-30795051f69d",
   "metadata": {},
   "outputs": [
    {
     "name": "stdout",
     "output_type": "stream",
     "text": [
      "parque linear | parque urbano\n"
     ]
    }
   ],
   "source": [
    "for u in uniques:\n",
    "    if 'linear' in str(u):\n",
    "        name_linear = u\n",
    "    if 'urb' in str(u):\n",
    "        name_urb=u\n",
    "print (f'{name_linear} | {name_urb}')"
   ]
  },
  {
   "cell_type": "code",
   "execution_count": 10,
   "id": "659ed4e7-aa92-4272-866a-6e9099e7c49d",
   "metadata": {},
   "outputs": [
    {
     "name": "stdout",
     "output_type": "stream",
     "text": [
      "O cd dos parques lineares é 5\n"
     ]
    }
   ],
   "source": [
    "cd_linear=(\n",
    "    gdf_parq_mun\n",
    "    .loc[gdf_parq_mun['tx_tipo_ca']==name_linear, 'cd_tipo_ca']\n",
    "    .unique()\n",
    ")\n",
    "\n",
    "if int(cd_linear.shape[0])==1:\n",
    "    cd_linear = int(cd_linear[0])\n",
    "else:\n",
    "    Logger.error(\n",
    "        f'''Erro: o cd_tipo_ca ({\n",
    "            cd_linear\n",
    "        }) não corresponde completamente ao txt_tipo_ca({\n",
    "            name_linear\n",
    "        })'''\n",
    "    )\n",
    "\n",
    "print(f'O cd dos parques lineares é {cd_linear}')"
   ]
  },
  {
   "cell_type": "code",
   "execution_count": 11,
   "id": "cc273b52-e9c3-45d0-ae8f-3121b776de57",
   "metadata": {},
   "outputs": [
    {
     "name": "stdout",
     "output_type": "stream",
     "text": [
      "O cd dos parques urbanos é 1\n"
     ]
    }
   ],
   "source": [
    "cd_urb = (\n",
    "    gdf_parq_mun\n",
    "    .loc[gdf_parq_mun['tx_tipo_ca']==name_urb, 'cd_tipo_ca']\n",
    "    .unique()\n",
    ")\n",
    "\n",
    "if int(cd_urb.shape[0])==1:\n",
    "    cd_urb = int(cd_urb[0])\n",
    "else:\n",
    "    Logger.error(\n",
    "        f'''Erro: o cd_tipo_ca ({\n",
    "            cd_urb\n",
    "        }) não corresponde completamente ao txt_tipo_ca({\n",
    "            name_urb\n",
    "        })'''\n",
    "    )\n",
    "\n",
    "print(f'O cd dos parques urbanos é {cd_urb}')"
   ]
  },
  {
   "cell_type": "markdown",
   "id": "fe07b9cf-eff7-42de-8a53-2d1642854951",
   "metadata": {},
   "source": [
    "Para unir os dois tipos de dados, vamos concatenar as linhas que correspondem a parques lineares com as linhas que correspondem a parques urbanos:"
   ]
  },
  {
   "cell_type": "code",
   "execution_count": 12,
   "id": "307ea7d9-d865-4fac-9517-955ce218faec",
   "metadata": {},
   "outputs": [],
   "source": [
    "parques_line_urb=pd.concat([\n",
    "    (\n",
    "        gdf_parq_mun\n",
    "        .loc[gdf_parq_mun['cd_tipo_ca']== cd_linear]\n",
    "    ),\n",
    "    (\n",
    "        gdf_parq_mun\n",
    "        .loc[gdf_parq_mun['cd_tipo_ca']==cd_urb]\n",
    "    )\n",
    "])"
   ]
  },
  {
   "cell_type": "code",
   "execution_count": 13,
   "id": "b12926d1-caea-471a-9c7e-06b1cac22299",
   "metadata": {},
   "outputs": [
    {
     "data": {
      "text/html": [
       "<div>\n",
       "<style scoped>\n",
       "    .dataframe tbody tr th:only-of-type {\n",
       "        vertical-align: middle;\n",
       "    }\n",
       "\n",
       "    .dataframe tbody tr th {\n",
       "        vertical-align: top;\n",
       "    }\n",
       "\n",
       "    .dataframe thead th {\n",
       "        text-align: right;\n",
       "    }\n",
       "</style>\n",
       "<table border=\"1\" class=\"dataframe\">\n",
       "  <thead>\n",
       "    <tr style=\"text-align: right;\">\n",
       "      <th></th>\n",
       "      <th>cd_parq_mun</th>\n",
       "      <th>nm_parque</th>\n",
       "      <th>tx_tipo_ca</th>\n",
       "      <th>tx_tipo_si</th>\n",
       "      <th>cd_tipo_ca</th>\n",
       "      <th>cd_tipo_si</th>\n",
       "      <th>geometry</th>\n",
       "    </tr>\n",
       "  </thead>\n",
       "  <tbody>\n",
       "    <tr>\n",
       "      <th>77</th>\n",
       "      <td>15</td>\n",
       "      <td>Aricanduva - Viaduto Badra</td>\n",
       "      <td>parque linear</td>\n",
       "      <td>Existente</td>\n",
       "      <td>5</td>\n",
       "      <td>2</td>\n",
       "      <td>MULTIPOLYGON (((342242.038 7395972.418, 342241...</td>\n",
       "    </tr>\n",
       "    <tr>\n",
       "      <th>96</th>\n",
       "      <td>17</td>\n",
       "      <td>Fonte do Peabiru</td>\n",
       "      <td>parque urbano</td>\n",
       "      <td>Proposto</td>\n",
       "      <td>1</td>\n",
       "      <td>1</td>\n",
       "      <td>POLYGON ((324391.352 7392104.819, 324437.67 73...</td>\n",
       "    </tr>\n",
       "    <tr>\n",
       "      <th>71</th>\n",
       "      <td>155</td>\n",
       "      <td>Nabuco</td>\n",
       "      <td>parque urbano</td>\n",
       "      <td>Existente</td>\n",
       "      <td>1</td>\n",
       "      <td>2</td>\n",
       "      <td>POLYGON ((330686.739 7382244.04, 330694.701 73...</td>\n",
       "    </tr>\n",
       "  </tbody>\n",
       "</table>\n",
       "</div>"
      ],
      "text/plain": [
       "    cd_parq_mun                   nm_parque     tx_tipo_ca tx_tipo_si  \\\n",
       "77           15  Aricanduva - Viaduto Badra  parque linear  Existente   \n",
       "96           17            Fonte do Peabiru  parque urbano   Proposto   \n",
       "71          155                      Nabuco  parque urbano  Existente   \n",
       "\n",
       "    cd_tipo_ca  cd_tipo_si                                           geometry  \n",
       "77           5           2  MULTIPOLYGON (((342242.038 7395972.418, 342241...  \n",
       "96           1           1  POLYGON ((324391.352 7392104.819, 324437.67 73...  \n",
       "71           1           2  POLYGON ((330686.739 7382244.04, 330694.701 73...  "
      ]
     },
     "execution_count": 13,
     "metadata": {},
     "output_type": "execute_result"
    }
   ],
   "source": [
    "parques_line_urb.sample(3)"
   ]
  },
  {
   "cell_type": "code",
   "execution_count": 14,
   "id": "b382703a-d6e4-4dcd-8769-0aecec8aa1ff",
   "metadata": {},
   "outputs": [
    {
     "name": "stdout",
     "output_type": "stream",
     "text": [
      "Há 67 parques que não são nem urbanos, nem lineares\n"
     ]
    }
   ],
   "source": [
    "dif = (gdf_parq_mun.shape[0])-(parques_line_urb.shape[0])\n",
    "print(f'Há {dif} parques que não são nem urbanos, nem lineares')"
   ]
  },
  {
   "cell_type": "markdown",
   "id": "dfe3e839-90f3-454a-a3be-119e80dd61e4",
   "metadata": {},
   "source": [
    "# Conferir CRS"
   ]
  },
  {
   "cell_type": "code",
   "execution_count": 15,
   "id": "94f3c6da-fe67-4e9a-9e5e-007bc4520e64",
   "metadata": {},
   "outputs": [],
   "source": [
    "parques_line_urb= check_crs(parques_line_urb)"
   ]
  },
  {
   "cell_type": "markdown",
   "id": "925ce9a6-4a2f-4dcc-8edc-c038bb862ab1",
   "metadata": {},
   "source": [
    "# Salvar GDF"
   ]
  },
  {
   "cell_type": "code",
   "execution_count": 16,
   "id": "7c18866d-5d22-437c-8a0b-754cd1846a34",
   "metadata": {},
   "outputs": [],
   "source": [
    "save_parquet_excel(\n",
    "    parques_line_urb,\n",
    "    fname='parques_urbanos_e_lineares',\n",
    "    data_path = data_path,\n",
    "    data_subpath = 'assets'\n",
    ")"
   ]
  }
 ],
 "metadata": {
  "kernelspec": {
   "display_name": "Python 3 (ipykernel)",
   "language": "python",
   "name": "python3"
  },
  "language_info": {
   "codemirror_mode": {
    "name": "ipython",
    "version": 3
   },
   "file_extension": ".py",
   "mimetype": "text/x-python",
   "name": "python",
   "nbconvert_exporter": "python",
   "pygments_lexer": "ipython3",
   "version": "3.12.4"
  }
 },
 "nbformat": 4,
 "nbformat_minor": 5
}
