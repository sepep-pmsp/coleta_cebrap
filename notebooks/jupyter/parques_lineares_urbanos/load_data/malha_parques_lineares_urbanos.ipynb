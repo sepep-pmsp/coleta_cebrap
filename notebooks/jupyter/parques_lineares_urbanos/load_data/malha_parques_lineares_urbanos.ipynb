{
 "cells": [
  {
   "cell_type": "code",
   "execution_count": 1,
   "id": "e3eace4c-0151-40e0-999a-5ceb88a3c3d8",
   "metadata": {},
   "outputs": [
    {
     "name": "stdout",
     "output_type": "stream",
     "text": [
      "O diretorio do seu projeto é coleta_cebrap\n",
      "Caminho absoluto do diretorio encontrado C:\\Users\\x526378\\Desktop\\projetos\\cebrap\\coleta_cebrap\n",
      "Caminho no path.\n"
     ]
    }
   ],
   "source": [
    "from configuracoes_notebooks import set_proj_dir\n",
    "set_proj_dir()"
   ]
  },
  {
   "cell_type": "markdown",
   "id": "29a57900-b5a9-4783-ab91-10756f38fa74",
   "metadata": {},
   "source": [
    "from teste import diretorio_teste\n",
    "project_path=diretorio_teste()"
   ]
  },
  {
   "cell_type": "code",
   "execution_count": 2,
   "id": "8e147046-40ec-46a3-a534-b61cff0a2805",
   "metadata": {},
   "outputs": [],
   "source": [
    "import os\n",
    "import geopandas as gpd\n",
    "import pandas as pd\n",
    "from logging import (\n",
    "    Logger,\n",
    "    getLogger,\n",
    ")\n",
    "Logger=getLogger()\n",
    "\n",
    "from notebooks.jupyter import utils\n",
    "from utils import (\n",
    "    save_parquet_excel,\n",
    "    get_data_diretorio,\n",
    ")"
   ]
  },
  {
   "cell_type": "code",
   "execution_count": null,
   "id": "3ecafc16-810c-4454-b17a-78f760e82434",
   "metadata": {},
   "outputs": [],
   "source": []
  },
  {
   "cell_type": "code",
   "execution_count": 3,
   "id": "2957bc2e-db6f-4f38-95ac-bea9c5365e47",
   "metadata": {},
   "outputs": [],
   "source": [
    "data_path = get_data_diretorio()"
   ]
  },
  {
   "cell_type": "markdown",
   "id": "bd6629c0-4aca-43f2-bc4b-3c5aea73eebc",
   "metadata": {},
   "source": [
    "# Parques Urbanos e Lineares"
   ]
  },
  {
   "cell_type": "markdown",
   "id": "38688702-ff3b-474e-beae-863641ebc0c3",
   "metadata": {},
   "source": [
    "# Dependências"
   ]
  },
  {
   "cell_type": "markdown",
   "id": "a8ab6050-6f72-4ff5-9917-35eaf543d732",
   "metadata": {},
   "source": [
    "Este notebook é dependente dos assets resultante dos notebooks '../../area_verde_publica/download_data/malha_parques_municipais.ipynb'"
   ]
  },
  {
   "cell_type": "code",
   "execution_count": 4,
   "id": "a5e0f73f-7069-47d4-9e7a-585b23969a3d",
   "metadata": {},
   "outputs": [],
   "source": [
    "assets_path = os.path.join(\n",
    "    data_path,\n",
    "    'assets'\n",
    ")"
   ]
  },
  {
   "cell_type": "code",
   "execution_count": 5,
   "id": "1cd56ce6-bcc5-4a6e-9bf7-73e1b1cf597d",
   "metadata": {},
   "outputs": [],
   "source": [
    "gdf_parq_mun = gpd.read_parquet(\n",
    "    os.path.join(\n",
    "        assets_path,\n",
    "        'parques_municipais.parquet'\n",
    "    )\n",
    ")"
   ]
  },
  {
   "cell_type": "markdown",
   "id": "a31979e1-62eb-46ba-bee3-11f5d03b5fe7",
   "metadata": {},
   "source": [
    "# Conferir e Filtrar Parques Lineares"
   ]
  },
  {
   "cell_type": "code",
   "execution_count": 6,
   "id": "1fa7cd7b-bda8-4416-bea3-583b9de78f30",
   "metadata": {},
   "outputs": [
    {
     "data": {
      "text/html": [
       "<div>\n",
       "<style scoped>\n",
       "    .dataframe tbody tr th:only-of-type {\n",
       "        vertical-align: middle;\n",
       "    }\n",
       "\n",
       "    .dataframe tbody tr th {\n",
       "        vertical-align: top;\n",
       "    }\n",
       "\n",
       "    .dataframe thead th {\n",
       "        text-align: right;\n",
       "    }\n",
       "</style>\n",
       "<table border=\"1\" class=\"dataframe\">\n",
       "  <thead>\n",
       "    <tr style=\"text-align: right;\">\n",
       "      <th></th>\n",
       "      <th>cd_parq_mun</th>\n",
       "      <th>nm_parque</th>\n",
       "      <th>tx_tipo_ca</th>\n",
       "      <th>tx_tipo_si</th>\n",
       "      <th>cd_tipo_ca</th>\n",
       "      <th>cd_tipo_si</th>\n",
       "      <th>geometry</th>\n",
       "    </tr>\n",
       "  </thead>\n",
       "  <tbody>\n",
       "    <tr>\n",
       "      <th>169</th>\n",
       "      <td>257</td>\n",
       "      <td>Jardim das Laranjeiras</td>\n",
       "      <td>Parque Linear</td>\n",
       "      <td>Proposto</td>\n",
       "      <td>5</td>\n",
       "      <td>1</td>\n",
       "      <td>POLYGON ((353535.736 7389374.47, 353404.403 73...</td>\n",
       "    </tr>\n",
       "    <tr>\n",
       "      <th>153</th>\n",
       "      <td>53</td>\n",
       "      <td>Paraisópolis</td>\n",
       "      <td>Parque Urbano</td>\n",
       "      <td>Existente</td>\n",
       "      <td>1</td>\n",
       "      <td>2</td>\n",
       "      <td>POLYGON ((324486.573 7387090.177, 324547.073 7...</td>\n",
       "    </tr>\n",
       "  </tbody>\n",
       "</table>\n",
       "</div>"
      ],
      "text/plain": [
       "     cd_parq_mun               nm_parque     tx_tipo_ca tx_tipo_si  \\\n",
       "169          257  Jardim das Laranjeiras  Parque Linear   Proposto   \n",
       "153           53            Paraisópolis  Parque Urbano  Existente   \n",
       "\n",
       "     cd_tipo_ca  cd_tipo_si                                           geometry  \n",
       "169           5           1  POLYGON ((353535.736 7389374.47, 353404.403 73...  \n",
       "153           1           2  POLYGON ((324486.573 7387090.177, 324547.073 7...  "
      ]
     },
     "execution_count": 6,
     "metadata": {},
     "output_type": "execute_result"
    }
   ],
   "source": [
    "gdf_parq_mun.sample(2)"
   ]
  },
  {
   "cell_type": "code",
   "execution_count": 7,
   "id": "5c357529-3eb2-4a36-b2b0-4ea641512ba5",
   "metadata": {},
   "outputs": [],
   "source": [
    "gdf_parq_mun['tx_tipo_ca']=gdf_parq_mun['tx_tipo_ca'].str.lower()"
   ]
  },
  {
   "cell_type": "code",
   "execution_count": 8,
   "id": "86ed1fda-0b80-41c4-b7e5-8e20a105f3c9",
   "metadata": {},
   "outputs": [
    {
     "data": {
      "text/plain": [
       "array(['parque urbano', 'parque orla', 'parque de conservação',\n",
       "       'parque natural', 'parque linear'], dtype=object)"
      ]
     },
     "execution_count": 8,
     "metadata": {},
     "output_type": "execute_result"
    }
   ],
   "source": [
    "uniques=gdf_parq_mun['tx_tipo_ca'].unique()\n",
    "#.str.contains('inear', case=False)\n",
    "uniques"
   ]
  },
  {
   "cell_type": "code",
   "execution_count": 9,
   "id": "6a5ffc42-a22c-4b75-bf39-30795051f69d",
   "metadata": {},
   "outputs": [
    {
     "name": "stdout",
     "output_type": "stream",
     "text": [
      "parque linear | parque urbano\n"
     ]
    }
   ],
   "source": [
    "for u in uniques:\n",
    "    if 'linear' in str(u):\n",
    "        name_linear = u\n",
    "    if 'urb' in str(u):\n",
    "        name_urb=u\n",
    "print (f'{name_linear} | {name_urb}')"
   ]
  },
  {
   "cell_type": "markdown",
   "id": "ca27a377-75fb-4b6f-8e14-1d34f5a80270",
   "metadata": {},
   "source": [
    "def get_cd(gdf, name_1, name_2:str='', name_3:str='')->pd.Series:\n",
    "    num = 1\n",
    "    name = name_1\n",
    "    for name !=''\n",
    "        cd =(\n",
    "            gdf.loc[gdf['tx_tipo_ca']==name, 'cd_tipo_ca']\n",
    "            .unique()\n",
    "        )\n",
    "    \n",
    "    \n"
   ]
  },
  {
   "cell_type": "code",
   "execution_count": 10,
   "id": "659ed4e7-aa92-4272-866a-6e9099e7c49d",
   "metadata": {},
   "outputs": [
    {
     "name": "stdout",
     "output_type": "stream",
     "text": [
      "[5]\n"
     ]
    },
    {
     "data": {
      "text/plain": [
       "5"
      ]
     },
     "execution_count": 10,
     "metadata": {},
     "output_type": "execute_result"
    }
   ],
   "source": [
    "cd_linear=(\n",
    "    gdf_parq_mun\n",
    "    .loc[gdf_parq_mun['tx_tipo_ca']==name_linear, 'cd_tipo_ca']\n",
    "    .unique()\n",
    ")\n",
    "\n",
    "print(cd_linear)\n",
    "\n",
    "if int(cd_linear.shape[0])==1:\n",
    "    cd_linear = int(cd_linear[0])\n",
    "else:\n",
    "    Logger.error(\n",
    "        f'''Erro: o cd_tipo_ca ({\n",
    "            cd_linear\n",
    "        }) não corresponde completamente ao txt_tipo_ca({\n",
    "            name_linear\n",
    "        })'''\n",
    "    )\n",
    "\n",
    "cd_linear"
   ]
  },
  {
   "cell_type": "code",
   "execution_count": 11,
   "id": "cc273b52-e9c3-45d0-ae8f-3121b776de57",
   "metadata": {},
   "outputs": [
    {
     "data": {
      "text/plain": [
       "1"
      ]
     },
     "execution_count": 11,
     "metadata": {},
     "output_type": "execute_result"
    }
   ],
   "source": [
    "cd_urb = (\n",
    "    gdf_parq_mun\n",
    "    .loc[gdf_parq_mun['tx_tipo_ca']==name_urb, 'cd_tipo_ca']\n",
    "    .unique()\n",
    ")\n",
    "\n",
    "if int(cd_urb.shape[0])==1:\n",
    "    cd_urb = int(cd_urb[0])\n",
    "else:\n",
    "    Logger.error(\n",
    "        f'''Erro: o cd_tipo_ca ({\n",
    "            cd_urb\n",
    "        }) não corresponde completamente ao txt_tipo_ca({\n",
    "            name_urb\n",
    "        })'''\n",
    "    )\n",
    "\n",
    "cd_urb"
   ]
  },
  {
   "cell_type": "markdown",
   "id": "07dd83b1-e4d8-4de0-a82b-28049143e3ee",
   "metadata": {},
   "source": [
    "Aqui descobrimos que o cd dos parques lineares (presente em cd_tipo_ca) é 5 e dos parques urbanos é . Vamos filtrar pelo cd, pois ele é mais confiável que astr "
   ]
  },
  {
   "cell_type": "code",
   "execution_count": 12,
   "id": "307ea7d9-d865-4fac-9517-955ce218faec",
   "metadata": {},
   "outputs": [
    {
     "ename": "TypeError",
     "evalue": "concat() takes 1 positional argument but 2 were given",
     "output_type": "error",
     "traceback": [
      "\u001b[1;31m---------------------------------------------------------------------------\u001b[0m",
      "\u001b[1;31mTypeError\u001b[0m                                 Traceback (most recent call last)",
      "Cell \u001b[1;32mIn[12], line 1\u001b[0m\n\u001b[1;32m----> 1\u001b[0m parques_lineares\u001b[38;5;241m=\u001b[39m\u001b[43mpd\u001b[49m\u001b[38;5;241;43m.\u001b[39;49m\u001b[43mconcat\u001b[49m\u001b[43m(\u001b[49m\n\u001b[0;32m      2\u001b[0m \u001b[43m    \u001b[49m\u001b[43m(\u001b[49m\n\u001b[0;32m      3\u001b[0m \u001b[43m        \u001b[49m\u001b[43mgdf_parq_mun\u001b[49m\n\u001b[0;32m      4\u001b[0m \u001b[43m        \u001b[49m\u001b[38;5;241;43m.\u001b[39;49m\u001b[43mloc\u001b[49m\u001b[43m[\u001b[49m\u001b[43mgdf_parq_mun\u001b[49m\u001b[43m[\u001b[49m\u001b[38;5;124;43m'\u001b[39;49m\u001b[38;5;124;43mcd_tipo_ca\u001b[39;49m\u001b[38;5;124;43m'\u001b[39;49m\u001b[43m]\u001b[49m\u001b[38;5;241;43m==\u001b[39;49m\u001b[43m \u001b[49m\u001b[43mcd_linear\u001b[49m\u001b[43m]\u001b[49m\n\u001b[0;32m      5\u001b[0m \u001b[43m    \u001b[49m\u001b[43m)\u001b[49m\u001b[43m,\u001b[49m\n\u001b[0;32m      6\u001b[0m \u001b[43m    \u001b[49m\u001b[43m(\u001b[49m\n\u001b[0;32m      7\u001b[0m \u001b[43m        \u001b[49m\u001b[43mgdf_parq_mun\u001b[49m\n\u001b[0;32m      8\u001b[0m \u001b[43m        \u001b[49m\u001b[38;5;241;43m.\u001b[39;49m\u001b[43mloc\u001b[49m\u001b[43m[\u001b[49m\u001b[43mgdf_parq_mun\u001b[49m\u001b[43m[\u001b[49m\u001b[38;5;124;43m'\u001b[39;49m\u001b[38;5;124;43mcd_tipo_ca\u001b[39;49m\u001b[38;5;124;43m'\u001b[39;49m\u001b[43m]\u001b[49m\u001b[38;5;241;43m==\u001b[39;49m\u001b[43mcd_urb\u001b[49m\u001b[43m]\u001b[49m\n\u001b[0;32m      9\u001b[0m \u001b[43m    \u001b[49m\u001b[43m)\u001b[49m\n\u001b[0;32m     10\u001b[0m \u001b[43m)\u001b[49m\n",
      "\u001b[1;31mTypeError\u001b[0m: concat() takes 1 positional argument but 2 were given"
     ]
    }
   ],
   "source": [
    "parques_lineares=pd.concat(\n",
    "    (\n",
    "        gdf_parq_mun\n",
    "        .loc[gdf_parq_mun['cd_tipo_ca']== cd_linear]\n",
    "    ),\n",
    "    (\n",
    "        gdf_parq_mun\n",
    "        .loc[gdf_parq_mun['cd_tipo_ca']==cd_urb]\n",
    "    )\n",
    ")"
   ]
  },
  {
   "cell_type": "code",
   "execution_count": null,
   "id": "1a79a165-b25a-477d-bb2b-83a117ddb7e7",
   "metadata": {},
   "outputs": [],
   "source": [
    "parques_lineares.shape"
   ]
  },
  {
   "cell_type": "code",
   "execution_count": null,
   "id": "b12926d1-caea-471a-9c7e-06b1cac22299",
   "metadata": {},
   "outputs": [],
   "source": [
    "parques_lineares.sample(3)"
   ]
  },
  {
   "cell_type": "markdown",
   "id": "925ce9a6-4a2f-4dcc-8edc-c038bb862ab1",
   "metadata": {},
   "source": [
    "# Salvar GDF"
   ]
  },
  {
   "cell_type": "code",
   "execution_count": null,
   "id": "7c18866d-5d22-437c-8a0b-754cd1846a34",
   "metadata": {},
   "outputs": [],
   "source": [
    "save_parquet_excel(\n",
    "    parques_lineares,\n",
    "    fname='parques_lineares',\n",
    "    data_path = data_path,\n",
    "    data_subpath = 'assets'\n",
    ")"
   ]
  }
 ],
 "metadata": {
  "kernelspec": {
   "display_name": "Python 3 (ipykernel)",
   "language": "python",
   "name": "python3"
  },
  "language_info": {
   "codemirror_mode": {
    "name": "ipython",
    "version": 3
   },
   "file_extension": ".py",
   "mimetype": "text/x-python",
   "name": "python",
   "nbconvert_exporter": "python",
   "pygments_lexer": "ipython3",
   "version": "3.12.4"
  }
 },
 "nbformat": 4,
 "nbformat_minor": 5
}
