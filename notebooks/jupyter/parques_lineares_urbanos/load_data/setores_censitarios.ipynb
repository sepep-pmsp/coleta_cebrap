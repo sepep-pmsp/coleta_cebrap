{
 "cells": [
  {
   "cell_type": "code",
   "execution_count": 1,
   "id": "34e4afed-cea7-4a4f-b7e6-d91d41093723",
   "metadata": {},
   "outputs": [
    {
     "name": "stdout",
     "output_type": "stream",
     "text": [
      "O diretorio do seu projeto é coleta_cebrap\n",
      "Caminho absoluto do diretorio encontrado C:\\Users\\x526378\\Desktop\\projetos\\cebrap\\coleta_cebrap\n",
      "Caminho no path.\n"
     ]
    }
   ],
   "source": [
    "from configuracoes_notebooks import set_proj_dir\n",
    "set_proj_dir()"
   ]
  },
  {
   "cell_type": "code",
   "execution_count": 2,
   "id": "e020fa78-af09-4023-a0f1-885fbdef9288",
   "metadata": {},
   "outputs": [],
   "source": [
    "import os\n",
    "import geopandas as gpd\n",
    "\n",
    "from notebooks.jupyter import utils\n",
    "from utils import (\n",
    "    get_data_diretorio,\n",
    "    check_crs,\n",
    "    save_parquet_excel,\n",
    ")\n",
    "from utils.downloads import _prepare_cache"
   ]
  },
  {
   "cell_type": "code",
   "execution_count": 3,
   "id": "db810e49-b0b0-4bf7-993c-a68ebd5a4a09",
   "metadata": {},
   "outputs": [],
   "source": [
    "data_path = get_data_diretorio()"
   ]
  },
  {
   "cell_type": "code",
   "execution_count": null,
   "id": "29263608-44c5-417a-8883-0a3823e43bdc",
   "metadata": {},
   "outputs": [],
   "source": []
  },
  {
   "cell_type": "code",
   "execution_count": 4,
   "id": "3931e879-1532-40bf-afe6-719c33edb880",
   "metadata": {},
   "outputs": [],
   "source": [
    "cache_path = os.path.join(\n",
    "    data_path,\n",
    "    'cache'\n",
    ")"
   ]
  },
  {
   "cell_type": "markdown",
   "id": "6c2f2dfb-01f2-46f9-85c9-2980b2397903",
   "metadata": {},
   "source": [
    "# Importar dados do IBGE"
   ]
  },
  {
   "cell_type": "code",
   "execution_count": 5,
   "id": "e206a6fc-635d-4c2c-a76c-350a8eceed4f",
   "metadata": {
    "scrolled": true
   },
   "outputs": [
    {
     "name": "stdout",
     "output_type": "stream",
     "text": [
      "helloo\n",
      "C:\\Users\\x526378\\Desktop\\projetos\\cebrap\\coleta_cebrap\\data\\cache\\SP_setores_CD2022.zip\n"
     ]
    }
   ],
   "source": [
    "gdf_setores22= _prepare_cache(\n",
    "    url='http://ftp.ibge.gov.br/Censos/Censo_Demografico_2022/Agregados_por_Setores_Censitarios/malha_com_atributos/setores/shp/UF/SP/SP_setores_CD2022.zip',\n",
    "    name_feature= 'SP_setores_CD2022',\n",
    "    cache_path=cache_path,\n",
    "    paginate=False\n",
    ")"
   ]
  },
  {
   "cell_type": "markdown",
   "id": "31cceff2-4355-4b5c-bab4-a58d5105e6ef",
   "metadata": {},
   "source": [
    "A malha é referente aos setores censitários de todo o estado de São Paulo. Para pegar só o município de São Paulo, precisaremos saber seu cd:"
   ]
  },
  {
   "cell_type": "code",
   "execution_count": 6,
   "id": "fc538c79-8a61-4d82-b67c-00a2db3235f3",
   "metadata": {},
   "outputs": [
    {
     "data": {
      "text/plain": [
       "array(['3550308'], dtype=object)"
      ]
     },
     "execution_count": 6,
     "metadata": {},
     "output_type": "execute_result"
    }
   ],
   "source": [
    "gdf_setores22['CD_MUN'].loc[gdf_setores22['NM_MUN']== 'São Paulo'].unique()"
   ]
  },
  {
   "cell_type": "code",
   "execution_count": 7,
   "id": "61219855-5369-440f-8d3f-cc4bb27a7669",
   "metadata": {},
   "outputs": [],
   "source": [
    "gdf_setores22=gdf_setores22.loc[gdf_setores22['CD_MUN']=='3550308']"
   ]
  },
  {
   "cell_type": "code",
   "execution_count": 8,
   "id": "97305315-4e47-425d-b3ea-ce40e949dfb0",
   "metadata": {},
   "outputs": [
    {
     "data": {
      "text/plain": [
       "Index(['CD_SETOR', 'SITUACAO', 'CD_SIT', 'CD_TIPO', 'AREA_KM2', 'CD_REGIAO',\n",
       "       'NM_REGIAO', 'CD_UF', 'NM_UF', 'CD_MUN', 'NM_MUN', 'CD_DIST', 'NM_DIST',\n",
       "       'CD_SUBDIST', 'NM_SUBDIST', 'CD_BAIRRO', 'NM_BAIRRO', 'CD_NU', 'NM_NU',\n",
       "       'CD_FCU', 'NM_FCU', 'CD_AGLOM', 'NM_AGLOM', 'CD_RGINT', 'NM_RGINT',\n",
       "       'CD_RGI', 'NM_RGI', 'CD_CONCURB', 'NM_CONCURB', 'v0001', 'v0002',\n",
       "       'v0003', 'v0004', 'v0005', 'v0006', 'v0007', 'geometry'],\n",
       "      dtype='object')"
      ]
     },
     "execution_count": 8,
     "metadata": {},
     "output_type": "execute_result"
    }
   ],
   "source": [
    "gdf_setores22.columns"
   ]
  },
  {
   "cell_type": "code",
   "execution_count": 9,
   "id": "7cd5c52e-4890-4270-9e51-448eb9e40290",
   "metadata": {},
   "outputs": [],
   "source": [
    "drop_setores_cols={\n",
    "    'ARE_KM2',\n",
    "    'CD_REGIAO',\n",
    "    'NM_REGIAO',\n",
    "    'CD_UF',\n",
    "    'NM_UF'\n",
    "}\n"
   ]
  },
  {
   "cell_type": "code",
   "execution_count": 10,
   "id": "fc7194b1-33fb-40e5-b3d9-6c4f6c7577f7",
   "metadata": {},
   "outputs": [],
   "source": [
    "drop_cols = [f'v000{i}' for i in range(3,8)]\n",
    "gdf_setores22 = gdf_setores22.drop(columns=drop_cols)"
   ]
  },
  {
   "cell_type": "code",
   "execution_count": 11,
   "id": "df994402-41e8-4236-bfc8-78c17530edf8",
   "metadata": {},
   "outputs": [],
   "source": [
    "rename_setores_cols={\n",
    "    'v0001' : 'total_pop', \n",
    "    'v0002' : 'total_dom'\n",
    "}\n",
    "\n",
    "gdf_setores22.rename(rename_setores_cols, axis=1, inplace=True)"
   ]
  },
  {
   "cell_type": "markdown",
   "id": "cbf2c602-d537-4456-a2d2-9f9bd0e907b4",
   "metadata": {},
   "source": [
    "## Conferir CRS"
   ]
  },
  {
   "cell_type": "code",
   "execution_count": 12,
   "id": "54636e80-788c-4b42-b518-d20dd66b415d",
   "metadata": {},
   "outputs": [
    {
     "name": "stderr",
     "output_type": "stream",
     "text": [
      "O crs do gdf não está correto:EPSG:4674\n"
     ]
    }
   ],
   "source": [
    "gdf_setores22 = check_crs(gdf_setores22)"
   ]
  },
  {
   "cell_type": "markdown",
   "id": "82daabc2-6a8f-47a0-813e-80b881d45462",
   "metadata": {},
   "source": [
    "## Salvar GDF"
   ]
  },
  {
   "cell_type": "code",
   "execution_count": 13,
   "id": "e68bdfad-1d72-4605-9164-40248cbe91b5",
   "metadata": {},
   "outputs": [],
   "source": [
    "save_parquet_excel(\n",
    "    gdf_setores22,\n",
    "    'setores_2022',\n",
    "    data_path,\n",
    "    'assets'\n",
    ")\n",
    "\n"
   ]
  }
 ],
 "metadata": {
  "kernelspec": {
   "display_name": "Python 3 (ipykernel)",
   "language": "python",
   "name": "python3"
  },
  "language_info": {
   "codemirror_mode": {
    "name": "ipython",
    "version": 3
   },
   "file_extension": ".py",
   "mimetype": "text/x-python",
   "name": "python",
   "nbconvert_exporter": "python",
   "pygments_lexer": "ipython3",
   "version": "3.12.4"
  }
 },
 "nbformat": 4,
 "nbformat_minor": 5
}
