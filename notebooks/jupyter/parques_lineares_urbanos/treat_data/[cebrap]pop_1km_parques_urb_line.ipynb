{
 "cells": [
  {
   "cell_type": "code",
   "execution_count": 1,
   "id": "34e4afed-cea7-4a4f-b7e6-d91d41093723",
   "metadata": {},
   "outputs": [
    {
     "name": "stdout",
     "output_type": "stream",
     "text": [
      "O diretorio do seu projeto é coleta_cebrap\n",
      "Caminho absoluto do diretorio encontrado C:\\Users\\x526378\\Desktop\\projetos\\cebrap\\coleta_cebrap\n",
      "Caminho no path.\n"
     ]
    }
   ],
   "source": [
    "from configuracoes_notebooks import set_proj_dir\n",
    "set_proj_dir()"
   ]
  },
  {
   "cell_type": "code",
   "execution_count": 2,
   "id": "e020fa78-af09-4023-a0f1-885fbdef9288",
   "metadata": {},
   "outputs": [],
   "source": [
    "import os\n",
    "import geopandas as gpd\n",
    "import pandas as pd\n",
    "\n",
    "from notebooks.jupyter import utils\n",
    "from utils import (\n",
    "    get_data_diretorio,\n",
    ")\n",
    "from utils.downloads import _prepare_cache"
   ]
  },
  {
   "cell_type": "markdown",
   "id": "ea6ca896-1622-4b68-a363-84e753853668",
   "metadata": {},
   "source": [
    "# População a menos de 1km de parques urbanos e lineares"
   ]
  },
  {
   "cell_type": "code",
   "execution_count": 3,
   "id": "db810e49-b0b0-4bf7-993c-a68ebd5a4a09",
   "metadata": {},
   "outputs": [],
   "source": [
    "data_path = get_data_diretorio()"
   ]
  },
  {
   "cell_type": "code",
   "execution_count": 4,
   "id": "f7495dab-a701-49b1-9532-7c560a9af174",
   "metadata": {},
   "outputs": [],
   "source": [
    "assets_path = os.path.join(\n",
    "    data_path,\n",
    "    'assets'\n",
    ")"
   ]
  },
  {
   "cell_type": "markdown",
   "id": "6c2f2dfb-01f2-46f9-85c9-2980b2397903",
   "metadata": {},
   "source": [
    "# Dependências"
   ]
  },
  {
   "cell_type": "markdown",
   "id": "e1c891a2-214c-4d7b-9189-b2022bcb4310",
   "metadata": {},
   "source": [
    "Este notebook depende dos arquivos resultantes dos notebooks '../load_data/setores_censitario' e '\"\"/malha_parques_lineares_urbanos'"
   ]
  },
  {
   "cell_type": "code",
   "execution_count": 5,
   "id": "e68976e6-25c7-4ed1-888a-b350db9f6a0a",
   "metadata": {
    "scrolled": true
   },
   "outputs": [],
   "source": [
    "gdf_setores22= gpd.read_parquet(\n",
    "    os.path.join(\n",
    "        assets_path,\n",
    "        'setores_2022.parquet'\n",
    "    )\n",
    ")"
   ]
  },
  {
   "cell_type": "code",
   "execution_count": 6,
   "id": "17943793-38d6-4431-9dc6-d8b7ac7f799c",
   "metadata": {},
   "outputs": [
    {
     "data": {
      "text/html": [
       "<div>\n",
       "<style scoped>\n",
       "    .dataframe tbody tr th:only-of-type {\n",
       "        vertical-align: middle;\n",
       "    }\n",
       "\n",
       "    .dataframe tbody tr th {\n",
       "        vertical-align: top;\n",
       "    }\n",
       "\n",
       "    .dataframe thead th {\n",
       "        text-align: right;\n",
       "    }\n",
       "</style>\n",
       "<table border=\"1\" class=\"dataframe\">\n",
       "  <thead>\n",
       "    <tr style=\"text-align: right;\">\n",
       "      <th></th>\n",
       "      <th>CD_SETOR</th>\n",
       "      <th>SITUACAO</th>\n",
       "      <th>CD_SIT</th>\n",
       "      <th>CD_TIPO</th>\n",
       "      <th>AREA_KM2</th>\n",
       "      <th>CD_REGIAO</th>\n",
       "      <th>NM_REGIAO</th>\n",
       "      <th>CD_UF</th>\n",
       "      <th>NM_UF</th>\n",
       "      <th>CD_MUN</th>\n",
       "      <th>...</th>\n",
       "      <th>NM_AGLOM</th>\n",
       "      <th>CD_RGINT</th>\n",
       "      <th>NM_RGINT</th>\n",
       "      <th>CD_RGI</th>\n",
       "      <th>NM_RGI</th>\n",
       "      <th>CD_CONCURB</th>\n",
       "      <th>NM_CONCURB</th>\n",
       "      <th>total_pop</th>\n",
       "      <th>total_dom</th>\n",
       "      <th>geometry</th>\n",
       "    </tr>\n",
       "  </thead>\n",
       "  <tbody>\n",
       "    <tr>\n",
       "      <th>14998</th>\n",
       "      <td>355030850000074</td>\n",
       "      <td>Urbana</td>\n",
       "      <td>1</td>\n",
       "      <td>0</td>\n",
       "      <td>0.056425</td>\n",
       "      <td>3</td>\n",
       "      <td>Sudeste</td>\n",
       "      <td>35</td>\n",
       "      <td>São Paulo</td>\n",
       "      <td>3550308</td>\n",
       "      <td>...</td>\n",
       "      <td>None</td>\n",
       "      <td>3501</td>\n",
       "      <td>São Paulo</td>\n",
       "      <td>350001</td>\n",
       "      <td>São Paulo</td>\n",
       "      <td>3550308</td>\n",
       "      <td>São Paulo/SP</td>\n",
       "      <td>785.0</td>\n",
       "      <td>304.0</td>\n",
       "      <td>POLYGON ((329108.345 7402054.573, 329093.114 7...</td>\n",
       "    </tr>\n",
       "    <tr>\n",
       "      <th>13361</th>\n",
       "      <td>355030845000017</td>\n",
       "      <td>Urbana</td>\n",
       "      <td>1</td>\n",
       "      <td>0</td>\n",
       "      <td>0.020324</td>\n",
       "      <td>3</td>\n",
       "      <td>Sudeste</td>\n",
       "      <td>35</td>\n",
       "      <td>São Paulo</td>\n",
       "      <td>3550308</td>\n",
       "      <td>...</td>\n",
       "      <td>None</td>\n",
       "      <td>3501</td>\n",
       "      <td>São Paulo</td>\n",
       "      <td>350001</td>\n",
       "      <td>São Paulo</td>\n",
       "      <td>3550308</td>\n",
       "      <td>São Paulo/SP</td>\n",
       "      <td>340.0</td>\n",
       "      <td>214.0</td>\n",
       "      <td>POLYGON ((330649.399 7392904.271, 330634.734 7...</td>\n",
       "    </tr>\n",
       "  </tbody>\n",
       "</table>\n",
       "<p>2 rows × 32 columns</p>\n",
       "</div>"
      ],
      "text/plain": [
       "              CD_SETOR SITUACAO CD_SIT CD_TIPO  AREA_KM2 CD_REGIAO NM_REGIAO  \\\n",
       "14998  355030850000074   Urbana      1       0  0.056425         3   Sudeste   \n",
       "13361  355030845000017   Urbana      1       0  0.020324         3   Sudeste   \n",
       "\n",
       "      CD_UF      NM_UF   CD_MUN  ... NM_AGLOM CD_RGINT   NM_RGINT  CD_RGI  \\\n",
       "14998    35  São Paulo  3550308  ...     None     3501  São Paulo  350001   \n",
       "13361    35  São Paulo  3550308  ...     None     3501  São Paulo  350001   \n",
       "\n",
       "          NM_RGI CD_CONCURB    NM_CONCURB total_pop total_dom  \\\n",
       "14998  São Paulo    3550308  São Paulo/SP     785.0     304.0   \n",
       "13361  São Paulo    3550308  São Paulo/SP     340.0     214.0   \n",
       "\n",
       "                                                geometry  \n",
       "14998  POLYGON ((329108.345 7402054.573, 329093.114 7...  \n",
       "13361  POLYGON ((330649.399 7392904.271, 330634.734 7...  \n",
       "\n",
       "[2 rows x 32 columns]"
      ]
     },
     "execution_count": 6,
     "metadata": {},
     "output_type": "execute_result"
    }
   ],
   "source": [
    "gdf_setores22.sample(2)"
   ]
  },
  {
   "cell_type": "code",
   "execution_count": 8,
   "id": "99b4bdb7-1a21-486c-bc9d-82899217b6d6",
   "metadata": {},
   "outputs": [],
   "source": [
    "gdf_parq_urb_line=gpd.read_parquet(\n",
    "    os.path.join(\n",
    "        assets_path,\n",
    "        'parques_urbanos_e_lineares.parquet'\n",
    "    )\n",
    ")"
   ]
  },
  {
   "cell_type": "code",
   "execution_count": 9,
   "id": "651ec631-7525-4ce0-892a-c6c10a38f9fa",
   "metadata": {},
   "outputs": [
    {
     "data": {
      "text/html": [
       "<div>\n",
       "<style scoped>\n",
       "    .dataframe tbody tr th:only-of-type {\n",
       "        vertical-align: middle;\n",
       "    }\n",
       "\n",
       "    .dataframe tbody tr th {\n",
       "        vertical-align: top;\n",
       "    }\n",
       "\n",
       "    .dataframe thead th {\n",
       "        text-align: right;\n",
       "    }\n",
       "</style>\n",
       "<table border=\"1\" class=\"dataframe\">\n",
       "  <thead>\n",
       "    <tr style=\"text-align: right;\">\n",
       "      <th></th>\n",
       "      <th>cd_parq_mun</th>\n",
       "      <th>nm_parque</th>\n",
       "      <th>tx_tipo_ca</th>\n",
       "      <th>tx_tipo_si</th>\n",
       "      <th>cd_tipo_ca</th>\n",
       "      <th>cd_tipo_si</th>\n",
       "      <th>geometry</th>\n",
       "    </tr>\n",
       "  </thead>\n",
       "  <tbody>\n",
       "    <tr>\n",
       "      <th>124</th>\n",
       "      <td>250</td>\n",
       "      <td>Augusta - Prefeito Bruno Covas</td>\n",
       "      <td>parque urbano</td>\n",
       "      <td>Existente</td>\n",
       "      <td>1</td>\n",
       "      <td>2</td>\n",
       "      <td>POLYGON ((331576.14 7394667.323, 331677.257 73...</td>\n",
       "    </tr>\n",
       "    <tr>\n",
       "      <th>102</th>\n",
       "      <td>55</td>\n",
       "      <td>Burle Marx</td>\n",
       "      <td>parque urbano</td>\n",
       "      <td>Existente</td>\n",
       "      <td>1</td>\n",
       "      <td>2</td>\n",
       "      <td>MULTIPOLYGON (((324013.671 7384682.178, 324006...</td>\n",
       "    </tr>\n",
       "  </tbody>\n",
       "</table>\n",
       "</div>"
      ],
      "text/plain": [
       "     cd_parq_mun                       nm_parque     tx_tipo_ca tx_tipo_si  \\\n",
       "124          250  Augusta - Prefeito Bruno Covas  parque urbano  Existente   \n",
       "102           55                      Burle Marx  parque urbano  Existente   \n",
       "\n",
       "     cd_tipo_ca  cd_tipo_si                                           geometry  \n",
       "124           1           2  POLYGON ((331576.14 7394667.323, 331677.257 73...  \n",
       "102           1           2  MULTIPOLYGON (((324013.671 7384682.178, 324006...  "
      ]
     },
     "execution_count": 9,
     "metadata": {},
     "output_type": "execute_result"
    }
   ],
   "source": [
    "gdf_parq_urb_line.sample(2)"
   ]
  },
  {
   "cell_type": "code",
   "execution_count": null,
   "id": "4be275cb-07d8-48e3-9154-6db4b58c687b",
   "metadata": {},
   "outputs": [],
   "source": []
  }
 ],
 "metadata": {
  "kernelspec": {
   "display_name": "Python 3 (ipykernel)",
   "language": "python",
   "name": "python3"
  },
  "language_info": {
   "codemirror_mode": {
    "name": "ipython",
    "version": 3
   },
   "file_extension": ".py",
   "mimetype": "text/x-python",
   "name": "python",
   "nbconvert_exporter": "python",
   "pygments_lexer": "ipython3",
   "version": "3.12.4"
  }
 },
 "nbformat": 4,
 "nbformat_minor": 5
}
