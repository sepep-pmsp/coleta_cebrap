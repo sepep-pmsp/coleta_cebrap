{
 "cells": [
  {
   "cell_type": "code",
   "execution_count": 1,
   "id": "34e4afed-cea7-4a4f-b7e6-d91d41093723",
   "metadata": {},
   "outputs": [
    {
     "name": "stdout",
     "output_type": "stream",
     "text": [
      "O diretorio do seu projeto é coleta_cebrap\n",
      "Caminho absoluto do diretorio encontrado C:\\Users\\x526378\\Desktop\\projetos\\cebrap\\coleta_cebrap\n",
      "Caminho no path.\n"
     ]
    }
   ],
   "source": [
    "from configuracoes_notebooks import set_proj_dir\n",
    "set_proj_dir()"
   ]
  },
  {
   "cell_type": "code",
   "execution_count": 2,
   "id": "e020fa78-af09-4023-a0f1-885fbdef9288",
   "metadata": {},
   "outputs": [],
   "source": [
    "import os\n",
    "import geopandas as gpd\n",
    "import pandas as pd\n",
    "\n",
    "from notebooks.jupyter import utils\n",
    "from utils import (\n",
    "    get_data_diretorio,\n",
    ")\n",
    "from utils.downloads import _prepare_cache"
   ]
  },
  {
   "cell_type": "markdown",
   "id": "ea6ca896-1622-4b68-a363-84e753853668",
   "metadata": {},
   "source": [
    "# População a menos de 1km de parques urbanos e lineares"
   ]
  },
  {
   "cell_type": "markdown",
   "id": "1e750fd1-123e-44e9-89b5-a0e0bfe96934",
   "metadata": {},
   "source": [
    "Pessoas de outras cidades também estão dentro das áreas de 1km de parques, porém optei por não considerá-las ao fazer a contagem."
   ]
  },
  {
   "cell_type": "markdown",
   "id": "4de44ee9-ad66-47e0-be87-98567ca2ae8d",
   "metadata": {},
   "source": [
    "Eu interpretei esse título como <=1km, não como <1km"
   ]
  },
  {
   "cell_type": "code",
   "execution_count": 3,
   "id": "db810e49-b0b0-4bf7-993c-a68ebd5a4a09",
   "metadata": {},
   "outputs": [],
   "source": [
    "data_path = get_data_diretorio()"
   ]
  },
  {
   "cell_type": "code",
   "execution_count": 4,
   "id": "f7495dab-a701-49b1-9532-7c560a9af174",
   "metadata": {},
   "outputs": [],
   "source": [
    "assets_path = os.path.join(\n",
    "    data_path,\n",
    "    'assets'\n",
    ")"
   ]
  },
  {
   "cell_type": "markdown",
   "id": "6c2f2dfb-01f2-46f9-85c9-2980b2397903",
   "metadata": {},
   "source": [
    "# Dependências"
   ]
  },
  {
   "cell_type": "markdown",
   "id": "e1c891a2-214c-4d7b-9189-b2022bcb4310",
   "metadata": {},
   "source": [
    "Este notebook depende dos arquivos resultantes dos notebooks '.overlay_setores22_buff_parq', '../../arborizacao_viaria/carregar_dados/malha_distritos' e '.\"\"/malha_parques_lineares_urbanos'"
   ]
  },
  {
   "cell_type": "code",
   "execution_count": 5,
   "id": "06b70a96-3ffe-4389-a686-e66bf04cce22",
   "metadata": {},
   "outputs": [],
   "source": [
    "gdf_distritos = gpd.read_parquet(\n",
    "    os.path.join(\n",
    "        assets_path,\n",
    "        'distrito_ibge.parquet'\n",
    "    )\n",
    ")"
   ]
  },
  {
   "cell_type": "code",
   "execution_count": 6,
   "id": "99b4bdb7-1a21-486c-bc9d-82899217b6d6",
   "metadata": {},
   "outputs": [],
   "source": [
    "gdf_parq_urb_line=gpd.read_parquet(\n",
    "    os.path.join(\n",
    "        assets_path,\n",
    "        'parques_urbanos_e_lineares.parquet'\n",
    "    )\n",
    ")"
   ]
  },
  {
   "cell_type": "code",
   "execution_count": 7,
   "id": "4be275cb-07d8-48e3-9154-6db4b58c687b",
   "metadata": {},
   "outputs": [],
   "source": [
    "gdf_buffed_setor = gpd.read_parquet(\n",
    "    os.path.join(\n",
    "        assets_path,\n",
    "        'parques_lineares_e_urbanos',\n",
    "        'overlay_setores22_buff_parques_urb_line.parquet'        \n",
    "    )\n",
    ")"
   ]
  },
  {
   "cell_type": "markdown",
   "id": "361a5c3a-94c6-4d1a-a62d-156212146ae9",
   "metadata": {},
   "source": [
    "# sla"
   ]
  },
  {
   "cell_type": "code",
   "execution_count": 8,
   "id": "dd97ca9c-13d9-4c39-a4f0-17eded815bd4",
   "metadata": {},
   "outputs": [
    {
     "data": {
      "text/plain": [
       "Index(['CD_MUN', 'NM_MUN', 'CD_DIST', 'NM_DIST', 'CD_RGINT', 'NM_RGINT',\n",
       "       'CD_RGI', 'NM_RGI', 'CD_CONCURB', 'NM_CONCURB', 'AREA_KM2', 'total_pop',\n",
       "       'total_dom', 'geometry'],\n",
       "      dtype='object')"
      ]
     },
     "execution_count": 8,
     "metadata": {},
     "output_type": "execute_result"
    }
   ],
   "source": [
    "gdf_distritos.columns"
   ]
  },
  {
   "cell_type": "code",
   "execution_count": 9,
   "id": "6b41be55-df67-4d88-845b-2d508b34e3f8",
   "metadata": {},
   "outputs": [],
   "source": [
    "for i, distrito in gdf_distritos.iterrows():\n",
    "     gdf_distritos.loc[gdf_distritos.index==i, 'pop_dist_recort'] =sum(\n",
    "        gdf_buffed_setor\n",
    "        .loc[gdf_buffed_setor['CD_DIST']==distrito['CD_DIST'], 'pop_recort']\n",
    "    )"
   ]
  },
  {
   "cell_type": "code",
   "execution_count": 10,
   "id": "3899267c-bfa7-4439-a2a2-10acbb6e4aba",
   "metadata": {},
   "outputs": [
    {
     "data": {
      "text/html": [
       "<div>\n",
       "<style scoped>\n",
       "    .dataframe tbody tr th:only-of-type {\n",
       "        vertical-align: middle;\n",
       "    }\n",
       "\n",
       "    .dataframe tbody tr th {\n",
       "        vertical-align: top;\n",
       "    }\n",
       "\n",
       "    .dataframe thead th {\n",
       "        text-align: right;\n",
       "    }\n",
       "</style>\n",
       "<table border=\"1\" class=\"dataframe\">\n",
       "  <thead>\n",
       "    <tr style=\"text-align: right;\">\n",
       "      <th></th>\n",
       "      <th>CD_MUN</th>\n",
       "      <th>NM_MUN</th>\n",
       "      <th>CD_DIST</th>\n",
       "      <th>NM_DIST</th>\n",
       "      <th>CD_RGINT</th>\n",
       "      <th>NM_RGINT</th>\n",
       "      <th>CD_RGI</th>\n",
       "      <th>NM_RGI</th>\n",
       "      <th>CD_CONCURB</th>\n",
       "      <th>NM_CONCURB</th>\n",
       "      <th>AREA_KM2</th>\n",
       "      <th>total_pop</th>\n",
       "      <th>total_dom</th>\n",
       "      <th>geometry</th>\n",
       "      <th>pop_dist_recort</th>\n",
       "    </tr>\n",
       "  </thead>\n",
       "  <tbody>\n",
       "  </tbody>\n",
       "</table>\n",
       "</div>"
      ],
      "text/plain": [
       "Empty GeoDataFrame\n",
       "Columns: [CD_MUN, NM_MUN, CD_DIST, NM_DIST, CD_RGINT, NM_RGINT, CD_RGI, NM_RGI, CD_CONCURB, NM_CONCURB, AREA_KM2, total_pop, total_dom, geometry, pop_dist_recort]\n",
       "Index: []"
      ]
     },
     "execution_count": 10,
     "metadata": {},
     "output_type": "execute_result"
    }
   ],
   "source": [
    "valores_unicos = gdf_distritos['pop_dist_recort'].unique()\n",
    "gdf_distritos.loc[~gdf_distritos['pop_dist_recort'].isin(valores_unicos)]"
   ]
  },
  {
   "cell_type": "code",
   "execution_count": 11,
   "id": "3268a392-b3a7-4980-8c53-27b1f64a6b36",
   "metadata": {},
   "outputs": [
    {
     "data": {
      "text/plain": [
       "(96, 15)"
      ]
     },
     "execution_count": 11,
     "metadata": {},
     "output_type": "execute_result"
    }
   ],
   "source": [
    "gdf_distritos.shape"
   ]
  },
  {
   "cell_type": "markdown",
   "id": "9f84dd48-c606-4bed-b90e-576e8d6d53d4",
   "metadata": {},
   "source": [
    "# Conferir "
   ]
  }
 ],
 "metadata": {
  "kernelspec": {
   "display_name": "Python 3 (ipykernel)",
   "language": "python",
   "name": "python3"
  },
  "language_info": {
   "codemirror_mode": {
    "name": "ipython",
    "version": 3
   },
   "file_extension": ".py",
   "mimetype": "text/x-python",
   "name": "python",
   "nbconvert_exporter": "python",
   "pygments_lexer": "ipython3",
   "version": "3.12.4"
  }
 },
 "nbformat": 4,
 "nbformat_minor": 5
}
