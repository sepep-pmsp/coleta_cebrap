{
 "cells": [
  {
   "cell_type": "code",
   "execution_count": 1,
   "id": "34e4afed-cea7-4a4f-b7e6-d91d41093723",
   "metadata": {},
   "outputs": [
    {
     "name": "stdout",
     "output_type": "stream",
     "text": [
      "O diretorio do seu projeto é coleta_cebrap\n",
      "Caminho absoluto do diretorio encontrado C:\\Users\\x526378\\Desktop\\projetos\\cebrap\\coleta_cebrap\n",
      "Caminho no path.\n"
     ]
    }
   ],
   "source": [
    "from configuracoes_notebooks import set_proj_dir\n",
    "set_proj_dir()"
   ]
  },
  {
   "cell_type": "code",
   "execution_count": 2,
   "id": "e020fa78-af09-4023-a0f1-885fbdef9288",
   "metadata": {},
   "outputs": [],
   "source": [
    "import os\n",
    "import geopandas as gpd\n",
    "import pandas as pd\n",
    "\n",
    "from notebooks.jupyter import utils\n",
    "from utils import (\n",
    "    get_data_diretorio,\n",
    "    save_parquet_excel\n",
    ")\n",
    "from utils.downloads import _prepare_cache"
   ]
  },
  {
   "cell_type": "markdown",
   "id": "ea6ca896-1622-4b68-a363-84e753853668",
   "metadata": {},
   "source": [
    "# Intersecção entre setores censitários (2022) e a área de 1km a partir de Parques Urbanos e Lineares (buff)"
   ]
  },
  {
   "cell_type": "markdown",
   "id": "1e750fd1-123e-44e9-89b5-a0e0bfe96934",
   "metadata": {},
   "source": [
    "Pessoas de outras cidades também estão dentro das áreas de 1km de parques, porém optei por não considerá-las ao fazer a contagem."
   ]
  },
  {
   "cell_type": "markdown",
   "id": "4de44ee9-ad66-47e0-be87-98567ca2ae8d",
   "metadata": {},
   "source": [
    "Eu interpretei o indicador como <=1km, não como <1km"
   ]
  },
  {
   "cell_type": "code",
   "execution_count": 3,
   "id": "db810e49-b0b0-4bf7-993c-a68ebd5a4a09",
   "metadata": {},
   "outputs": [],
   "source": [
    "data_path = get_data_diretorio()"
   ]
  },
  {
   "cell_type": "code",
   "execution_count": 4,
   "id": "f7495dab-a701-49b1-9532-7c560a9af174",
   "metadata": {},
   "outputs": [],
   "source": [
    "assets_path = os.path.join(\n",
    "    data_path,\n",
    "    'assets'\n",
    ")"
   ]
  },
  {
   "cell_type": "markdown",
   "id": "6c2f2dfb-01f2-46f9-85c9-2980b2397903",
   "metadata": {},
   "source": [
    "# Dependências"
   ]
  },
  {
   "cell_type": "markdown",
   "id": "e1c891a2-214c-4d7b-9189-b2022bcb4310",
   "metadata": {},
   "source": [
    "Este notebook depende dos arquivos resultantes dos notebooks '.buffed_parques_urb_line' e '../load_data/setores_censitario'"
   ]
  },
  {
   "cell_type": "code",
   "execution_count": 5,
   "id": "4be275cb-07d8-48e3-9154-6db4b58c687b",
   "metadata": {},
   "outputs": [],
   "source": [
    "gdf_buffed_parq = gpd.read_parquet(\n",
    "    os.path.join(\n",
    "        assets_path,\n",
    "        'parques_lineares_e_urbanos',\n",
    "        'area_1km_parques_urbanos_lineares.parquet'        \n",
    "    )\n",
    ")"
   ]
  },
  {
   "cell_type": "code",
   "execution_count": 6,
   "id": "e68976e6-25c7-4ed1-888a-b350db9f6a0a",
   "metadata": {
    "scrolled": true
   },
   "outputs": [],
   "source": [
    "gdf_setores22= gpd.read_parquet(\n",
    "    os.path.join(\n",
    "        assets_path,\n",
    "        'setores_2022.parquet'\n",
    "    )\n",
    ")"
   ]
  },
  {
   "cell_type": "code",
   "execution_count": 7,
   "id": "20cff84f-9b90-4f33-8333-1f7313141ed3",
   "metadata": {},
   "outputs": [
    {
     "data": {
      "text/plain": [
       "(27301, 27)"
      ]
     },
     "execution_count": 7,
     "metadata": {},
     "output_type": "execute_result"
    }
   ],
   "source": [
    "gdf_setores22.shape"
   ]
  },
  {
   "cell_type": "markdown",
   "id": "361a5c3a-94c6-4d1a-a62d-156212146ae9",
   "metadata": {},
   "source": [
    "# Overlay setores por buff"
   ]
  },
  {
   "cell_type": "markdown",
   "id": "db796969-7bd9-43af-aed8-ca72212b5cf5",
   "metadata": {},
   "source": [
    "Antes de interseccionar, precisaremos ter a informação da área da geometria original, para poder fazer o cálculo da porcentagem da área:"
   ]
  },
  {
   "cell_type": "code",
   "execution_count": 8,
   "id": "574eceae-883c-4838-9af4-103e5f12b2d6",
   "metadata": {},
   "outputs": [],
   "source": [
    "gdf_setores22['area_setor']=gdf_setores22['geometry'].area"
   ]
  },
  {
   "cell_type": "markdown",
   "id": "fc778742-f76b-42b7-a19b-ef8a15d3a854",
   "metadata": {},
   "source": [
    "Usando o método overlay, fazemos a intersecção, que exluirá todos os setores que não estão na área do buffer dos parques. Os que estiverem parte dentro e parte fora, serão cortados seguindo a geometria do buff."
   ]
  },
  {
   "cell_type": "code",
   "execution_count": 9,
   "id": "2cce97b0-9a8f-48c8-92af-e8cb698b94fa",
   "metadata": {
    "scrolled": true
   },
   "outputs": [],
   "source": [
    "overlay_buff_setores= gpd.overlay(\n",
    "    gdf_setores22,\n",
    "    gdf_buffed_parq,\n",
    "    how='intersection',\n",
    "    keep_geom_type=True    \n",
    ")"
   ]
  },
  {
   "cell_type": "code",
   "execution_count": 10,
   "id": "5f06bbd7-9449-4248-ad5d-348d0722580f",
   "metadata": {},
   "outputs": [
    {
     "data": {
      "text/plain": [
       "(17752, 28)"
      ]
     },
     "execution_count": 10,
     "metadata": {},
     "output_type": "execute_result"
    }
   ],
   "source": [
    "overlay_buff_setores.shape"
   ]
  },
  {
   "cell_type": "markdown",
   "id": "14154c47-3233-4c29-bbf1-61c6ae38a74f",
   "metadata": {},
   "source": [
    "Para apagarmos as geometrias desprezíveis eu usarei o mesmo padrão que usei para quadras viárias e outras malhas das Áreas Verdes Públicas: desprezar as geometrias menores que 1% da área total do menor setor"
   ]
  },
  {
   "cell_type": "code",
   "execution_count": 11,
   "id": "7b47f6a3-5c81-4f6d-9d2e-836efd5d5ac4",
   "metadata": {},
   "outputs": [],
   "source": [
    "overlay_buff_setores['area_recort']=overlay_buff_setores['geometry'].area"
   ]
  },
  {
   "cell_type": "code",
   "execution_count": 12,
   "id": "ca35ba8e-f949-42fd-a741-58587a2eb1e8",
   "metadata": {},
   "outputs": [
    {
     "data": {
      "text/html": [
       "<div>\n",
       "<style scoped>\n",
       "    .dataframe tbody tr th:only-of-type {\n",
       "        vertical-align: middle;\n",
       "    }\n",
       "\n",
       "    .dataframe tbody tr th {\n",
       "        vertical-align: top;\n",
       "    }\n",
       "\n",
       "    .dataframe thead th {\n",
       "        text-align: right;\n",
       "    }\n",
       "</style>\n",
       "<table border=\"1\" class=\"dataframe\">\n",
       "  <thead>\n",
       "    <tr style=\"text-align: right;\">\n",
       "      <th></th>\n",
       "      <th>CD_SETOR</th>\n",
       "      <th>SITUACAO</th>\n",
       "      <th>CD_SIT</th>\n",
       "      <th>CD_TIPO</th>\n",
       "      <th>CD_MUN</th>\n",
       "      <th>NM_MUN</th>\n",
       "      <th>CD_DIST</th>\n",
       "      <th>NM_DIST</th>\n",
       "      <th>CD_SUBDIST</th>\n",
       "      <th>NM_SUBDIST</th>\n",
       "      <th>...</th>\n",
       "      <th>CD_RGINT</th>\n",
       "      <th>NM_RGINT</th>\n",
       "      <th>CD_RGI</th>\n",
       "      <th>NM_RGI</th>\n",
       "      <th>CD_CONCURB</th>\n",
       "      <th>NM_CONCURB</th>\n",
       "      <th>total_pop</th>\n",
       "      <th>total_dom</th>\n",
       "      <th>geometry</th>\n",
       "      <th>area_setor</th>\n",
       "    </tr>\n",
       "  </thead>\n",
       "  <tbody>\n",
       "    <tr>\n",
       "      <th>22732</th>\n",
       "      <td>355030878000084</td>\n",
       "      <td>Urbana</td>\n",
       "      <td>1</td>\n",
       "      <td>0</td>\n",
       "      <td>3550308</td>\n",
       "      <td>São Paulo</td>\n",
       "      <td>355030878</td>\n",
       "      <td>Sé</td>\n",
       "      <td>35503087800</td>\n",
       "      <td>None</td>\n",
       "      <td>...</td>\n",
       "      <td>3501</td>\n",
       "      <td>São Paulo</td>\n",
       "      <td>350001</td>\n",
       "      <td>São Paulo</td>\n",
       "      <td>3550308</td>\n",
       "      <td>São Paulo/SP</td>\n",
       "      <td>283.0</td>\n",
       "      <td>130.0</td>\n",
       "      <td>POLYGON ((333744.46 7394168.456, 333741.319 73...</td>\n",
       "      <td>246.391634</td>\n",
       "    </tr>\n",
       "  </tbody>\n",
       "</table>\n",
       "<p>1 rows × 28 columns</p>\n",
       "</div>"
      ],
      "text/plain": [
       "              CD_SETOR SITUACAO CD_SIT CD_TIPO   CD_MUN     NM_MUN    CD_DIST  \\\n",
       "22732  355030878000084   Urbana      1       0  3550308  São Paulo  355030878   \n",
       "\n",
       "      NM_DIST   CD_SUBDIST NM_SUBDIST  ... CD_RGINT   NM_RGINT  CD_RGI  \\\n",
       "22732      Sé  35503087800       None  ...     3501  São Paulo  350001   \n",
       "\n",
       "          NM_RGI CD_CONCURB    NM_CONCURB total_pop total_dom  \\\n",
       "22732  São Paulo    3550308  São Paulo/SP     283.0     130.0   \n",
       "\n",
       "                                                geometry  area_setor  \n",
       "22732  POLYGON ((333744.46 7394168.456, 333741.319 73...  246.391634  \n",
       "\n",
       "[1 rows x 28 columns]"
      ]
     },
     "execution_count": 12,
     "metadata": {},
     "output_type": "execute_result"
    }
   ],
   "source": [
    "gdf_setores22.loc[gdf_setores22['area_setor']==gdf_setores22['area_setor'].min()]"
   ]
  },
  {
   "cell_type": "code",
   "execution_count": 13,
   "id": "3d232460-cd18-4453-9590-9ab9a9aeda1f",
   "metadata": {},
   "outputs": [
    {
     "data": {
      "text/plain": [
       "(16, 29)"
      ]
     },
     "execution_count": 13,
     "metadata": {},
     "output_type": "execute_result"
    }
   ],
   "source": [
    "min_setor= float(gdf_setores22['area_setor'].min())\n",
    "min_1pct = min_setor*0.01\n",
    "irrelevants = overlay_buff_setores.loc[overlay_buff_setores['area_recort']<min_1pct]\n",
    "irrelevants.shape"
   ]
  },
  {
   "cell_type": "code",
   "execution_count": 14,
   "id": "62d4958a-e88e-4ebf-b47f-4419f1d09f22",
   "metadata": {},
   "outputs": [
    {
     "data": {
      "text/plain": [
       "(17736, 29)"
      ]
     },
     "execution_count": 14,
     "metadata": {},
     "output_type": "execute_result"
    }
   ],
   "source": [
    "overlay_buff_setores=overlay_buff_setores.loc[overlay_buff_setores['area_recort']>=min_1pct]\n",
    "overlay_buff_setores.shape"
   ]
  },
  {
   "cell_type": "code",
   "execution_count": 15,
   "id": "ce60b19d-25fe-4681-b81e-c72ba6bb4a46",
   "metadata": {},
   "outputs": [
    {
     "name": "stdout",
     "output_type": "stream",
     "text": [
      "9590 setores foram omitidos após a intersecção\n",
      "17711 setores interseccionam com o buff dos parques\n"
     ]
    }
   ],
   "source": [
    "setores_omitidos = gdf_setores22.loc[~gdf_setores22['CD_SETOR'].isin(overlay_buff_setores['CD_SETOR'])]\n",
    "setores_omitidos\n",
    "print(f'{len(setores_omitidos)} setores foram omitidos após a intersecção')\n",
    "print(f'{len(gdf_setores22)-len(setores_omitidos)} setores interseccionam com o buff dos parques')"
   ]
  },
  {
   "cell_type": "markdown",
   "id": "4ed30427-3c75-428a-9e06-8e83c96a9ad1",
   "metadata": {},
   "source": [
    "# Calcular a população"
   ]
  },
  {
   "cell_type": "markdown",
   "id": "7a8dbd4c-6393-4059-bd4d-0b42f9a108d5",
   "metadata": {},
   "source": [
    "Como não temos como saber precisamente onde as pessoas se encontram dentro do setore censitário, estabelecemos por padrão que faremos o cálculo como se elas estivessem distribuídas de forma homogênea no espaço. A partir disso, podemos assumir que a maior % de área do setor, também equivalerá a um recorte com a maior quantidade de pessoas do setor, apesar de isso não necessariamente acontecer na realidade."
   ]
  },
  {
   "cell_type": "markdown",
   "id": "4f086dd1-f9bc-4bae-bae1-4933bc027a79",
   "metadata": {},
   "source": [
    "Para calcular a porcentagem da área do recorte, vamos calcular a área do recorte a partir da geometria atual, e dividí-la pela área total do setor, anteriormente calculada:\n",
    "$$ (\\text{Porcentagem da área do setor})=\\frac{(\\text{área do recorte do setor censitário})}{(\\text{área total do setor censitário})}$$ "
   ]
  },
  {
   "cell_type": "markdown",
   "id": "4a535eb0-4910-477d-80a6-7ad76ae5d3e0",
   "metadata": {},
   "source": [
    "Agora que sabemos a porcentagem da área de cada recorte, podemos multiplicá-la (já que está em decimal) pelo total da população no setor e teremos a quantidade de pessoas nesta \"fatia\". Repare que, por estarmos calculando o número de pessoas, é necessário que seja um número inteiro (ou um número arredondado a 0 casa decimais):\n",
    "$$ \\text{Quantidade de pessoas no recorte do setor} = \\text{quantidade total de pessoas em todo o setor}*\\text{porcentagem da área do setor}$$"
   ]
  },
  {
   "cell_type": "code",
   "execution_count": 16,
   "id": "aecafbf1-ed01-409d-ac1a-51c8e9d08bd0",
   "metadata": {},
   "outputs": [],
   "source": [
    "overlay_buff_setores['percent_area'] = overlay_buff_setores['area_recort']/overlay_buff_setores['area_setor']"
   ]
  },
  {
   "cell_type": "code",
   "execution_count": 17,
   "id": "05642d63-f945-45fb-bb83-c46f4f8d0022",
   "metadata": {},
   "outputs": [],
   "source": [
    "overlay_buff_setores['pop_recort']=round(overlay_buff_setores['total_pop']*overlay_buff_setores['percent_area'], 0)"
   ]
  },
  {
   "cell_type": "markdown",
   "id": "6e284f5f-4a2a-4d13-a364-b6bc79f16e5b",
   "metadata": {},
   "source": [
    "Como esse método de arredondamento não leva em conta os outros recortes para arredondar, é possível que o número de pessoas varie."
   ]
  },
  {
   "cell_type": "code",
   "execution_count": 18,
   "id": "c8b611ef-0572-488b-a501-e60ed138e7a4",
   "metadata": {
    "scrolled": true
   },
   "outputs": [
    {
     "data": {
      "text/html": [
       "<div>\n",
       "<style scoped>\n",
       "    .dataframe tbody tr th:only-of-type {\n",
       "        vertical-align: middle;\n",
       "    }\n",
       "\n",
       "    .dataframe tbody tr th {\n",
       "        vertical-align: top;\n",
       "    }\n",
       "\n",
       "    .dataframe thead th {\n",
       "        text-align: right;\n",
       "    }\n",
       "</style>\n",
       "<table border=\"1\" class=\"dataframe\">\n",
       "  <thead>\n",
       "    <tr style=\"text-align: right;\">\n",
       "      <th></th>\n",
       "      <th>CD_SETOR</th>\n",
       "      <th>SITUACAO</th>\n",
       "      <th>CD_SIT</th>\n",
       "      <th>CD_TIPO</th>\n",
       "      <th>CD_MUN</th>\n",
       "      <th>NM_MUN</th>\n",
       "      <th>CD_DIST</th>\n",
       "      <th>NM_DIST</th>\n",
       "      <th>CD_SUBDIST</th>\n",
       "      <th>NM_SUBDIST</th>\n",
       "      <th>...</th>\n",
       "      <th>NM_RGI</th>\n",
       "      <th>CD_CONCURB</th>\n",
       "      <th>NM_CONCURB</th>\n",
       "      <th>total_pop</th>\n",
       "      <th>total_dom</th>\n",
       "      <th>area_setor</th>\n",
       "      <th>geometry</th>\n",
       "      <th>area_recort</th>\n",
       "      <th>percent_area</th>\n",
       "      <th>pop_recort</th>\n",
       "    </tr>\n",
       "  </thead>\n",
       "  <tbody>\n",
       "    <tr>\n",
       "      <th>4390</th>\n",
       "      <td>355030828000175</td>\n",
       "      <td>Urbana</td>\n",
       "      <td>1</td>\n",
       "      <td>1</td>\n",
       "      <td>3550308</td>\n",
       "      <td>São Paulo</td>\n",
       "      <td>355030828</td>\n",
       "      <td>Ermelino Matarazzo</td>\n",
       "      <td>35503082800</td>\n",
       "      <td>None</td>\n",
       "      <td>...</td>\n",
       "      <td>São Paulo</td>\n",
       "      <td>3550308</td>\n",
       "      <td>São Paulo/SP</td>\n",
       "      <td>191.0</td>\n",
       "      <td>87.0</td>\n",
       "      <td>4980.570719</td>\n",
       "      <td>POLYGON ((347876.394 7401071.328, 347873.532 7...</td>\n",
       "      <td>116.392097</td>\n",
       "      <td>0.023369</td>\n",
       "      <td>4.0</td>\n",
       "    </tr>\n",
       "    <tr>\n",
       "      <th>10624</th>\n",
       "      <td>355030860000299</td>\n",
       "      <td>Urbana</td>\n",
       "      <td>1</td>\n",
       "      <td>0</td>\n",
       "      <td>3550308</td>\n",
       "      <td>São Paulo</td>\n",
       "      <td>355030860</td>\n",
       "      <td>Perdizes</td>\n",
       "      <td>35503086000</td>\n",
       "      <td>None</td>\n",
       "      <td>...</td>\n",
       "      <td>São Paulo</td>\n",
       "      <td>3550308</td>\n",
       "      <td>São Paulo/SP</td>\n",
       "      <td>303.0</td>\n",
       "      <td>128.0</td>\n",
       "      <td>93676.048731</td>\n",
       "      <td>POLYGON ((329108.162 7394773.462, 329096.856 7...</td>\n",
       "      <td>93676.048731</td>\n",
       "      <td>1.000000</td>\n",
       "      <td>303.0</td>\n",
       "    </tr>\n",
       "  </tbody>\n",
       "</table>\n",
       "<p>2 rows × 31 columns</p>\n",
       "</div>"
      ],
      "text/plain": [
       "              CD_SETOR SITUACAO CD_SIT CD_TIPO   CD_MUN     NM_MUN    CD_DIST  \\\n",
       "4390   355030828000175   Urbana      1       1  3550308  São Paulo  355030828   \n",
       "10624  355030860000299   Urbana      1       0  3550308  São Paulo  355030860   \n",
       "\n",
       "                  NM_DIST   CD_SUBDIST NM_SUBDIST  ...     NM_RGI CD_CONCURB  \\\n",
       "4390   Ermelino Matarazzo  35503082800       None  ...  São Paulo    3550308   \n",
       "10624            Perdizes  35503086000       None  ...  São Paulo    3550308   \n",
       "\n",
       "         NM_CONCURB total_pop total_dom    area_setor  \\\n",
       "4390   São Paulo/SP     191.0      87.0   4980.570719   \n",
       "10624  São Paulo/SP     303.0     128.0  93676.048731   \n",
       "\n",
       "                                                geometry   area_recort  \\\n",
       "4390   POLYGON ((347876.394 7401071.328, 347873.532 7...    116.392097   \n",
       "10624  POLYGON ((329108.162 7394773.462, 329096.856 7...  93676.048731   \n",
       "\n",
       "      percent_area pop_recort  \n",
       "4390      0.023369        4.0  \n",
       "10624     1.000000      303.0  \n",
       "\n",
       "[2 rows x 31 columns]"
      ]
     },
     "execution_count": 18,
     "metadata": {},
     "output_type": "execute_result"
    }
   ],
   "source": [
    "overlay_buff_setores.sample(2)"
   ]
  },
  {
   "cell_type": "markdown",
   "id": "8f8cd87d-69bc-47ed-8d47-9f399287bc7a",
   "metadata": {},
   "source": [
    "Para visualizar melhor, vamos procurar só os casos que o setor não está completo:"
   ]
  },
  {
   "cell_type": "code",
   "execution_count": 19,
   "id": "391e4612-d64a-4d07-b078-c8ddafa82e3b",
   "metadata": {},
   "outputs": [
    {
     "data": {
      "text/html": [
       "<div>\n",
       "<style scoped>\n",
       "    .dataframe tbody tr th:only-of-type {\n",
       "        vertical-align: middle;\n",
       "    }\n",
       "\n",
       "    .dataframe tbody tr th {\n",
       "        vertical-align: top;\n",
       "    }\n",
       "\n",
       "    .dataframe thead th {\n",
       "        text-align: right;\n",
       "    }\n",
       "</style>\n",
       "<table border=\"1\" class=\"dataframe\">\n",
       "  <thead>\n",
       "    <tr style=\"text-align: right;\">\n",
       "      <th></th>\n",
       "      <th>CD_SETOR</th>\n",
       "      <th>SITUACAO</th>\n",
       "      <th>CD_SIT</th>\n",
       "      <th>CD_TIPO</th>\n",
       "      <th>CD_MUN</th>\n",
       "      <th>NM_MUN</th>\n",
       "      <th>CD_DIST</th>\n",
       "      <th>NM_DIST</th>\n",
       "      <th>CD_SUBDIST</th>\n",
       "      <th>NM_SUBDIST</th>\n",
       "      <th>...</th>\n",
       "      <th>NM_RGI</th>\n",
       "      <th>CD_CONCURB</th>\n",
       "      <th>NM_CONCURB</th>\n",
       "      <th>total_pop</th>\n",
       "      <th>total_dom</th>\n",
       "      <th>area_setor</th>\n",
       "      <th>geometry</th>\n",
       "      <th>area_recort</th>\n",
       "      <th>percent_area</th>\n",
       "      <th>pop_recort</th>\n",
       "    </tr>\n",
       "  </thead>\n",
       "  <tbody>\n",
       "    <tr>\n",
       "      <th>2108</th>\n",
       "      <td>355030817000387</td>\n",
       "      <td>Urbana</td>\n",
       "      <td>1</td>\n",
       "      <td>0</td>\n",
       "      <td>3550308</td>\n",
       "      <td>São Paulo</td>\n",
       "      <td>355030817</td>\n",
       "      <td>Campo Limpo</td>\n",
       "      <td>35503081700</td>\n",
       "      <td>None</td>\n",
       "      <td>...</td>\n",
       "      <td>São Paulo</td>\n",
       "      <td>3550308</td>\n",
       "      <td>São Paulo/SP</td>\n",
       "      <td>337.0</td>\n",
       "      <td>147.0</td>\n",
       "      <td>24616.716108</td>\n",
       "      <td>POLYGON ((318341.639 7383562.101, 318329.851 7...</td>\n",
       "      <td>279.976184</td>\n",
       "      <td>0.011373</td>\n",
       "      <td>4.0</td>\n",
       "    </tr>\n",
       "    <tr>\n",
       "      <th>2906</th>\n",
       "      <td>355030820000037</td>\n",
       "      <td>Urbana</td>\n",
       "      <td>1</td>\n",
       "      <td>0</td>\n",
       "      <td>3550308</td>\n",
       "      <td>São Paulo</td>\n",
       "      <td>355030820</td>\n",
       "      <td>Carrão</td>\n",
       "      <td>35503082000</td>\n",
       "      <td>None</td>\n",
       "      <td>...</td>\n",
       "      <td>São Paulo</td>\n",
       "      <td>3550308</td>\n",
       "      <td>São Paulo/SP</td>\n",
       "      <td>619.0</td>\n",
       "      <td>272.0</td>\n",
       "      <td>53191.468733</td>\n",
       "      <td>POLYGON ((343126.744 7394050.117, 343130.168 7...</td>\n",
       "      <td>23.778934</td>\n",
       "      <td>0.000447</td>\n",
       "      <td>0.0</td>\n",
       "    </tr>\n",
       "    <tr>\n",
       "      <th>6185</th>\n",
       "      <td>355030835000110</td>\n",
       "      <td>Urbana</td>\n",
       "      <td>1</td>\n",
       "      <td>0</td>\n",
       "      <td>3550308</td>\n",
       "      <td>São Paulo</td>\n",
       "      <td>355030835</td>\n",
       "      <td>Itaim Bibi</td>\n",
       "      <td>35503083500</td>\n",
       "      <td>None</td>\n",
       "      <td>...</td>\n",
       "      <td>São Paulo</td>\n",
       "      <td>3550308</td>\n",
       "      <td>São Paulo/SP</td>\n",
       "      <td>371.0</td>\n",
       "      <td>224.0</td>\n",
       "      <td>16377.669726</td>\n",
       "      <td>POLYGON ((329357.244 7390929.291, 329269.791 7...</td>\n",
       "      <td>8021.777967</td>\n",
       "      <td>0.489800</td>\n",
       "      <td>182.0</td>\n",
       "    </tr>\n",
       "    <tr>\n",
       "      <th>3063</th>\n",
       "      <td>355030821000074</td>\n",
       "      <td>Urbana</td>\n",
       "      <td>1</td>\n",
       "      <td>0</td>\n",
       "      <td>3550308</td>\n",
       "      <td>São Paulo</td>\n",
       "      <td>355030821</td>\n",
       "      <td>Casa Verde</td>\n",
       "      <td>35503082100</td>\n",
       "      <td>None</td>\n",
       "      <td>...</td>\n",
       "      <td>São Paulo</td>\n",
       "      <td>3550308</td>\n",
       "      <td>São Paulo/SP</td>\n",
       "      <td>464.0</td>\n",
       "      <td>209.0</td>\n",
       "      <td>29460.756173</td>\n",
       "      <td>POLYGON ((330125.898 7401316.028, 330134.164 7...</td>\n",
       "      <td>812.375366</td>\n",
       "      <td>0.027575</td>\n",
       "      <td>13.0</td>\n",
       "    </tr>\n",
       "  </tbody>\n",
       "</table>\n",
       "<p>4 rows × 31 columns</p>\n",
       "</div>"
      ],
      "text/plain": [
       "             CD_SETOR SITUACAO CD_SIT CD_TIPO   CD_MUN     NM_MUN    CD_DIST  \\\n",
       "2108  355030817000387   Urbana      1       0  3550308  São Paulo  355030817   \n",
       "2906  355030820000037   Urbana      1       0  3550308  São Paulo  355030820   \n",
       "6185  355030835000110   Urbana      1       0  3550308  São Paulo  355030835   \n",
       "3063  355030821000074   Urbana      1       0  3550308  São Paulo  355030821   \n",
       "\n",
       "          NM_DIST   CD_SUBDIST NM_SUBDIST  ...     NM_RGI CD_CONCURB  \\\n",
       "2108  Campo Limpo  35503081700       None  ...  São Paulo    3550308   \n",
       "2906       Carrão  35503082000       None  ...  São Paulo    3550308   \n",
       "6185   Itaim Bibi  35503083500       None  ...  São Paulo    3550308   \n",
       "3063   Casa Verde  35503082100       None  ...  São Paulo    3550308   \n",
       "\n",
       "        NM_CONCURB total_pop total_dom    area_setor  \\\n",
       "2108  São Paulo/SP     337.0     147.0  24616.716108   \n",
       "2906  São Paulo/SP     619.0     272.0  53191.468733   \n",
       "6185  São Paulo/SP     371.0     224.0  16377.669726   \n",
       "3063  São Paulo/SP     464.0     209.0  29460.756173   \n",
       "\n",
       "                                               geometry  area_recort  \\\n",
       "2108  POLYGON ((318341.639 7383562.101, 318329.851 7...   279.976184   \n",
       "2906  POLYGON ((343126.744 7394050.117, 343130.168 7...    23.778934   \n",
       "6185  POLYGON ((329357.244 7390929.291, 329269.791 7...  8021.777967   \n",
       "3063  POLYGON ((330125.898 7401316.028, 330134.164 7...   812.375366   \n",
       "\n",
       "     percent_area pop_recort  \n",
       "2108     0.011373        4.0  \n",
       "2906     0.000447        0.0  \n",
       "6185     0.489800      182.0  \n",
       "3063     0.027575       13.0  \n",
       "\n",
       "[4 rows x 31 columns]"
      ]
     },
     "execution_count": 19,
     "metadata": {},
     "output_type": "execute_result"
    }
   ],
   "source": [
    "overlay_buff_setores.loc[overlay_buff_setores['percent_area']<=0.99].sample(4)"
   ]
  },
  {
   "cell_type": "markdown",
   "id": "c546da95-82e2-4e04-820a-9d0e978a8995",
   "metadata": {},
   "source": [
    "# Salvar gdf"
   ]
  },
  {
   "cell_type": "code",
   "execution_count": 20,
   "id": "63ebacc0-1b07-4ac1-8d15-6b9aae969c45",
   "metadata": {},
   "outputs": [],
   "source": [
    "save_parquet_excel(\n",
    "    overlay_buff_setores,\n",
    "    fname='overlay_setores22_buff_parques_urb_line',\n",
    "    data_path = assets_path,\n",
    "    data_subpath = 'parques_lineares_e_urbanos'\n",
    ")"
   ]
  }
 ],
 "metadata": {
  "kernelspec": {
   "display_name": "Python 3 (ipykernel)",
   "language": "python",
   "name": "python3"
  },
  "language_info": {
   "codemirror_mode": {
    "name": "ipython",
    "version": 3
   },
   "file_extension": ".py",
   "mimetype": "text/x-python",
   "name": "python",
   "nbconvert_exporter": "python",
   "pygments_lexer": "ipython3",
   "version": "3.12.4"
  }
 },
 "nbformat": 4,
 "nbformat_minor": 5
}
