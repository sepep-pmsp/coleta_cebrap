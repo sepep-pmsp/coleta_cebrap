{
 "cells": [
  {
   "cell_type": "code",
   "execution_count": 1,
   "id": "34e4afed-cea7-4a4f-b7e6-d91d41093723",
   "metadata": {},
   "outputs": [
    {
     "name": "stdout",
     "output_type": "stream",
     "text": [
      "O diretorio do seu projeto é coleta_cebrap\n",
      "Caminho absoluto do diretorio encontrado C:\\Users\\x526378\\Desktop\\projetos\\cebrap\\coleta_cebrap\n",
      "Caminho no path.\n"
     ]
    }
   ],
   "source": [
    "from configuracoes_notebooks import set_proj_dir\n",
    "set_proj_dir()"
   ]
  },
  {
   "cell_type": "code",
   "execution_count": 2,
   "id": "e020fa78-af09-4023-a0f1-885fbdef9288",
   "metadata": {},
   "outputs": [],
   "source": [
    "import os\n",
    "import geopandas as gpd\n",
    "import pandas as pd\n",
    "\n",
    "from notebooks.jupyter import utils\n",
    "from utils import (\n",
    "    get_data_diretorio,\n",
    "    save_parquet_excel\n",
    ")\n",
    "from utils.downloads import _prepare_cache"
   ]
  },
  {
   "cell_type": "markdown",
   "id": "ea6ca896-1622-4b68-a363-84e753853668",
   "metadata": {},
   "source": [
    "# Intersecção entre setores censitários (2022) e a área de 1km a partir de Parques Urbanos e Lineares (buff)"
   ]
  },
  {
   "cell_type": "markdown",
   "id": "1e750fd1-123e-44e9-89b5-a0e0bfe96934",
   "metadata": {},
   "source": [
    "Pessoas de outras cidades também estão dentro das áreas de 1km de parques, porém optei por não considerá-las ao fazer a contagem."
   ]
  },
  {
   "cell_type": "markdown",
   "id": "4de44ee9-ad66-47e0-be87-98567ca2ae8d",
   "metadata": {},
   "source": [
    "Eu interpretei esse título como <=1km, não como <1km"
   ]
  },
  {
   "cell_type": "code",
   "execution_count": 3,
   "id": "db810e49-b0b0-4bf7-993c-a68ebd5a4a09",
   "metadata": {},
   "outputs": [],
   "source": [
    "data_path = get_data_diretorio()"
   ]
  },
  {
   "cell_type": "code",
   "execution_count": 4,
   "id": "f7495dab-a701-49b1-9532-7c560a9af174",
   "metadata": {},
   "outputs": [],
   "source": [
    "assets_path = os.path.join(\n",
    "    data_path,\n",
    "    'assets'\n",
    ")"
   ]
  },
  {
   "cell_type": "markdown",
   "id": "6c2f2dfb-01f2-46f9-85c9-2980b2397903",
   "metadata": {},
   "source": [
    "# Dependências"
   ]
  },
  {
   "cell_type": "markdown",
   "id": "e1c891a2-214c-4d7b-9189-b2022bcb4310",
   "metadata": {},
   "source": [
    "Este notebook depende dos arquivos resultantes dos notebooks '.buffed_parques_urb_line' e '../load_data/setores_censitario'"
   ]
  },
  {
   "cell_type": "code",
   "execution_count": 5,
   "id": "e68976e6-25c7-4ed1-888a-b350db9f6a0a",
   "metadata": {
    "scrolled": true
   },
   "outputs": [],
   "source": [
    "gdf_setores22= gpd.read_parquet(\n",
    "    os.path.join(\n",
    "        assets_path,\n",
    "        'setores_2022.parquet'\n",
    "    )\n",
    ")"
   ]
  },
  {
   "cell_type": "code",
   "execution_count": 6,
   "id": "4be275cb-07d8-48e3-9154-6db4b58c687b",
   "metadata": {},
   "outputs": [],
   "source": [
    "gdf_buffed_parq = gpd.read_parquet(\n",
    "    os.path.join(\n",
    "        assets_path,\n",
    "        'parques_lineares_e_urbanos',\n",
    "        'area_1km_parques_urbanos_lineares.parquet'        \n",
    "    )\n",
    ")"
   ]
  },
  {
   "cell_type": "markdown",
   "id": "361a5c3a-94c6-4d1a-a62d-156212146ae9",
   "metadata": {},
   "source": [
    "# Overlay setores por buff"
   ]
  },
  {
   "cell_type": "code",
   "execution_count": 7,
   "id": "574eceae-883c-4838-9af4-103e5f12b2d6",
   "metadata": {},
   "outputs": [],
   "source": [
    "gdf_setores22['area_setor']=gdf_setores22['geometry'].area"
   ]
  },
  {
   "cell_type": "code",
   "execution_count": 8,
   "id": "2cce97b0-9a8f-48c8-92af-e8cb698b94fa",
   "metadata": {
    "scrolled": true
   },
   "outputs": [],
   "source": [
    "overlay_buff_setores= gpd.overlay(\n",
    "    gdf_setores22,\n",
    "    gdf_buffed_parq,\n",
    "    how='intersection',\n",
    "    keep_geom_type=True    \n",
    ")"
   ]
  },
  {
   "cell_type": "markdown",
   "id": "9f84dd48-c606-4bed-b90e-576e8d6d53d4",
   "metadata": {},
   "source": [
    "# Conferir "
   ]
  },
  {
   "cell_type": "markdown",
   "id": "fdd5a38e-4e4c-4de3-bd75-142c034eaec2",
   "metadata": {},
   "source": [
    "! fazer conferência das geometrias etc"
   ]
  },
  {
   "cell_type": "markdown",
   "id": "4ed30427-3c75-428a-9e06-8e83c96a9ad1",
   "metadata": {},
   "source": [
    "# Calcular a população"
   ]
  },
  {
   "cell_type": "markdown",
   "id": "7a8dbd4c-6393-4059-bd4d-0b42f9a108d5",
   "metadata": {},
   "source": [
    "aqui eu explicarei a metodologia"
   ]
  },
  {
   "cell_type": "code",
   "execution_count": 9,
   "id": "7b47f6a3-5c81-4f6d-9d2e-836efd5d5ac4",
   "metadata": {},
   "outputs": [],
   "source": [
    "overlay_buff_setores['area_recort']=overlay_buff_setores['geometry'].area"
   ]
  },
  {
   "cell_type": "code",
   "execution_count": 10,
   "id": "abc888c6-45e3-483e-a88e-d28f45c56382",
   "metadata": {},
   "outputs": [],
   "source": [
    "overlay_buff_setores['percent_area'] = overlay_buff_setores['area_recort']/overlay_buff_setores['area_setor']"
   ]
  },
  {
   "cell_type": "code",
   "execution_count": 11,
   "id": "05642d63-f945-45fb-bb83-c46f4f8d0022",
   "metadata": {},
   "outputs": [],
   "source": [
    "overlay_buff_setores['pop_recort']=round(overlay_buff_setores['total_pop']*overlay_buff_setores['percent_area'], 0)"
   ]
  },
  {
   "cell_type": "code",
   "execution_count": 12,
   "id": "c8b611ef-0572-488b-a501-e60ed138e7a4",
   "metadata": {},
   "outputs": [
    {
     "data": {
      "text/html": [
       "<div>\n",
       "<style scoped>\n",
       "    .dataframe tbody tr th:only-of-type {\n",
       "        vertical-align: middle;\n",
       "    }\n",
       "\n",
       "    .dataframe tbody tr th {\n",
       "        vertical-align: top;\n",
       "    }\n",
       "\n",
       "    .dataframe thead th {\n",
       "        text-align: right;\n",
       "    }\n",
       "</style>\n",
       "<table border=\"1\" class=\"dataframe\">\n",
       "  <thead>\n",
       "    <tr style=\"text-align: right;\">\n",
       "      <th></th>\n",
       "      <th>CD_SETOR</th>\n",
       "      <th>SITUACAO</th>\n",
       "      <th>CD_SIT</th>\n",
       "      <th>CD_TIPO</th>\n",
       "      <th>CD_MUN</th>\n",
       "      <th>NM_MUN</th>\n",
       "      <th>CD_DIST</th>\n",
       "      <th>NM_DIST</th>\n",
       "      <th>CD_SUBDIST</th>\n",
       "      <th>NM_SUBDIST</th>\n",
       "      <th>...</th>\n",
       "      <th>CD_CONCURB</th>\n",
       "      <th>NM_CONCURB</th>\n",
       "      <th>total_pop</th>\n",
       "      <th>total_dom</th>\n",
       "      <th>area_setor</th>\n",
       "      <th>cd_parq_mun</th>\n",
       "      <th>geometry</th>\n",
       "      <th>area_recort</th>\n",
       "      <th>percent_area</th>\n",
       "      <th>pop_recort</th>\n",
       "    </tr>\n",
       "  </thead>\n",
       "  <tbody>\n",
       "    <tr>\n",
       "      <th>25433</th>\n",
       "      <td>355030867000123</td>\n",
       "      <td>Urbana</td>\n",
       "      <td>1</td>\n",
       "      <td>0</td>\n",
       "      <td>3550308</td>\n",
       "      <td>São Paulo</td>\n",
       "      <td>355030867</td>\n",
       "      <td>Rio Pequeno</td>\n",
       "      <td>35503086700</td>\n",
       "      <td>None</td>\n",
       "      <td>...</td>\n",
       "      <td>3550308</td>\n",
       "      <td>São Paulo/SP</td>\n",
       "      <td>442.0</td>\n",
       "      <td>170.0</td>\n",
       "      <td>36742.772269</td>\n",
       "      <td>34</td>\n",
       "      <td>POLYGON ((321149.664 7391853.468, 321129.075 7...</td>\n",
       "      <td>17773.797015</td>\n",
       "      <td>0.483736</td>\n",
       "      <td>214.0</td>\n",
       "    </tr>\n",
       "    <tr>\n",
       "      <th>19254</th>\n",
       "      <td>355030847000187</td>\n",
       "      <td>Urbana</td>\n",
       "      <td>1</td>\n",
       "      <td>0</td>\n",
       "      <td>3550308</td>\n",
       "      <td>São Paulo</td>\n",
       "      <td>355030847</td>\n",
       "      <td>José Bonifácio</td>\n",
       "      <td>35503084700</td>\n",
       "      <td>None</td>\n",
       "      <td>...</td>\n",
       "      <td>3550308</td>\n",
       "      <td>São Paulo/SP</td>\n",
       "      <td>579.0</td>\n",
       "      <td>224.0</td>\n",
       "      <td>25759.044035</td>\n",
       "      <td>101</td>\n",
       "      <td>POLYGON ((355141.572 7391280.016, 355149.914 7...</td>\n",
       "      <td>25759.044035</td>\n",
       "      <td>1.000000</td>\n",
       "      <td>579.0</td>\n",
       "    </tr>\n",
       "  </tbody>\n",
       "</table>\n",
       "<p>2 rows × 32 columns</p>\n",
       "</div>"
      ],
      "text/plain": [
       "              CD_SETOR SITUACAO CD_SIT CD_TIPO   CD_MUN     NM_MUN    CD_DIST  \\\n",
       "25433  355030867000123   Urbana      1       0  3550308  São Paulo  355030867   \n",
       "19254  355030847000187   Urbana      1       0  3550308  São Paulo  355030847   \n",
       "\n",
       "              NM_DIST   CD_SUBDIST NM_SUBDIST  ... CD_CONCURB    NM_CONCURB  \\\n",
       "25433     Rio Pequeno  35503086700       None  ...    3550308  São Paulo/SP   \n",
       "19254  José Bonifácio  35503084700       None  ...    3550308  São Paulo/SP   \n",
       "\n",
       "      total_pop total_dom    area_setor cd_parq_mun  \\\n",
       "25433     442.0     170.0  36742.772269          34   \n",
       "19254     579.0     224.0  25759.044035         101   \n",
       "\n",
       "                                                geometry   area_recort  \\\n",
       "25433  POLYGON ((321149.664 7391853.468, 321129.075 7...  17773.797015   \n",
       "19254  POLYGON ((355141.572 7391280.016, 355149.914 7...  25759.044035   \n",
       "\n",
       "      percent_area pop_recort  \n",
       "25433     0.483736      214.0  \n",
       "19254     1.000000      579.0  \n",
       "\n",
       "[2 rows x 32 columns]"
      ]
     },
     "execution_count": 12,
     "metadata": {},
     "output_type": "execute_result"
    }
   ],
   "source": [
    "overlay_buff_setores.sample(2)"
   ]
  },
  {
   "cell_type": "markdown",
   "id": "c546da95-82e2-4e04-820a-9d0e978a8995",
   "metadata": {},
   "source": [
    "# Salvar gdf"
   ]
  },
  {
   "cell_type": "code",
   "execution_count": 13,
   "id": "63ebacc0-1b07-4ac1-8d15-6b9aae969c45",
   "metadata": {},
   "outputs": [],
   "source": [
    "save_parquet_excel(\n",
    "    overlay_buff_setores,\n",
    "    fname='overlay_setores22_buff_parques_urb_line',\n",
    "    data_path = assets_path,\n",
    "    data_subpath = 'parques_lineares_e_urbanos'\n",
    ")"
   ]
  }
 ],
 "metadata": {
  "kernelspec": {
   "display_name": "Python 3 (ipykernel)",
   "language": "python",
   "name": "python3"
  },
  "language_info": {
   "codemirror_mode": {
    "name": "ipython",
    "version": 3
   },
   "file_extension": ".py",
   "mimetype": "text/x-python",
   "name": "python",
   "nbconvert_exporter": "python",
   "pygments_lexer": "ipython3",
   "version": "3.12.4"
  }
 },
 "nbformat": 4,
 "nbformat_minor": 5
}
