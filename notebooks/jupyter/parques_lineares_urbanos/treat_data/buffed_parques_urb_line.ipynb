{
 "cells": [
  {
   "cell_type": "code",
   "execution_count": 1,
   "id": "e3eace4c-0151-40e0-999a-5ceb88a3c3d8",
   "metadata": {},
   "outputs": [
    {
     "name": "stdout",
     "output_type": "stream",
     "text": [
      "O diretorio do seu projeto é coleta_cebrap\n",
      "Caminho absoluto do diretorio encontrado C:\\Users\\x526378\\Desktop\\projetos\\cebrap\\coleta_cebrap\n",
      "Caminho no path.\n"
     ]
    }
   ],
   "source": [
    "from configuracoes_notebooks import set_proj_dir\n",
    "set_proj_dir()"
   ]
  },
  {
   "cell_type": "code",
   "execution_count": null,
   "id": "af8b9b86-a320-426d-a5e1-ad37bdb76f4c",
   "metadata": {},
   "outputs": [],
   "source": [
    "import geopandas as gpd\n",
    "import os\n",
    "\n",
    "from notebooks.jupyter import utils\n",
    "from utils import (\n",
    "    get_data_diretorio,\n",
    ")"
   ]
  },
  {
   "cell_type": "markdown",
   "id": "29464df1-214f-493a-9454-b16f7c33351f",
   "metadata": {},
   "source": [
    "# Parques Urbanos e Lineares com buff de 1km"
   ]
  },
  {
   "cell_type": "code",
   "execution_count": null,
   "id": "f75e5757-cc24-4aa4-b95a-5715fdb9dc41",
   "metadata": {},
   "outputs": [],
   "source": [
    "data_path=get_data_diretorio()\n",
    "assets_path= os.path.join(\n",
    "    data_path,\n",
    "    'assets'\n",
    ")"
   ]
  },
  {
   "cell_type": "markdown",
   "id": "7a338301-4ec3-46e1-a088-50b3f675c4da",
   "metadata": {},
   "source": [
    "# Dependências"
   ]
  },
  {
   "cell_type": "markdown",
   "id": "064c2db1-df9e-4b36-8af0-2a93aabdbfd6",
   "metadata": {},
   "source": [
    "Este notebook é dependente do asset resultante do notebook '../load_data/malha_parques_lineares_urbano'"
   ]
  },
  {
   "cell_type": "code",
   "execution_count": null,
   "id": "c564802e-9b09-48b8-97d6-8bec000f4211",
   "metadata": {},
   "outputs": [],
   "source": [
    "gdf_parq_urb_line = gpd.read_parquet(\n",
    "    os.path.join(\n",
    "        assets_path,\n",
    "        'parques_urbanos_e_lineares.parquet'\n",
    "    )\n",
    ")"
   ]
  },
  {
   "cell_type": "markdown",
   "id": "fefa26da-e0dd-4978-b58f-aa8ddee43896",
   "metadata": {},
   "source": [
    "# Buff"
   ]
  },
  {
   "cell_type": "markdown",
   "id": "add59c8a-b59e-479d-8cf6-97e17edb21bb",
   "metadata": {},
   "source": [
    "O buff do geopandas é feito a partir de um raio, usando como método a \"Soma de Minkowski\", ou dilatação morfológica: A+B = {a+b | a E A, b E B}"
   ]
  },
  {
   "cell_type": "code",
   "execution_count": null,
   "id": "829a3684-ac6d-4e75-85de-010d9b78fbd7",
   "metadata": {},
   "outputs": [],
   "source": []
  }
 ],
 "metadata": {
  "kernelspec": {
   "display_name": "Python 3 (ipykernel)",
   "language": "python",
   "name": "python3"
  },
  "language_info": {
   "codemirror_mode": {
    "name": "ipython",
    "version": 3
   },
   "file_extension": ".py",
   "mimetype": "text/x-python",
   "name": "python",
   "nbconvert_exporter": "python",
   "pygments_lexer": "ipython3",
   "version": "3.12.4"
  }
 },
 "nbformat": 4,
 "nbformat_minor": 5
}
