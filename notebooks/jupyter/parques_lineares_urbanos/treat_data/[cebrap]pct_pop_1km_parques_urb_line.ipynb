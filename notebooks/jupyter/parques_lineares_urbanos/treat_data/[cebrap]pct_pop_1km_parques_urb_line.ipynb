{
 "cells": [
  {
   "cell_type": "code",
   "execution_count": 1,
   "id": "34e4afed-cea7-4a4f-b7e6-d91d41093723",
   "metadata": {},
   "outputs": [
    {
     "name": "stdout",
     "output_type": "stream",
     "text": [
      "O diretorio do seu projeto é coleta_cebrap\n",
      "Caminho absoluto do diretorio encontrado C:\\Users\\x526378\\Desktop\\projetos\\cebrap\\coleta_cebrap\n",
      "Caminho no path.\n"
     ]
    }
   ],
   "source": [
    "from configuracoes_notebooks import set_proj_dir\n",
    "set_proj_dir()"
   ]
  },
  {
   "cell_type": "code",
   "execution_count": 2,
   "id": "e020fa78-af09-4023-a0f1-885fbdef9288",
   "metadata": {},
   "outputs": [],
   "source": [
    "import os\n",
    "import geopandas as gpd\n",
    "import pandas as pd\n",
    "\n",
    "from notebooks.jupyter import utils\n",
    "from utils import (\n",
    "    get_data_diretorio,\n",
    "    save_parquet_excel,\n",
    ")\n",
    "from utils.downloads import _prepare_cache"
   ]
  },
  {
   "cell_type": "markdown",
   "id": "ea6ca896-1622-4b68-a363-84e753853668",
   "metadata": {},
   "source": [
    "# População a menos de 1km de parques urbanos e lineares"
   ]
  },
  {
   "cell_type": "markdown",
   "id": "1e750fd1-123e-44e9-89b5-a0e0bfe96934",
   "metadata": {},
   "source": [
    "Pessoas de outras cidades também estão dentro das áreas de 1km de parques, porém optei por não considerá-las ao fazer a contagem."
   ]
  },
  {
   "cell_type": "code",
   "execution_count": 3,
   "id": "db810e49-b0b0-4bf7-993c-a68ebd5a4a09",
   "metadata": {},
   "outputs": [],
   "source": [
    "data_path = get_data_diretorio()"
   ]
  },
  {
   "cell_type": "code",
   "execution_count": 4,
   "id": "f7495dab-a701-49b1-9532-7c560a9af174",
   "metadata": {},
   "outputs": [],
   "source": [
    "assets_path = os.path.join(\n",
    "    data_path,\n",
    "    'assets'\n",
    ")"
   ]
  },
  {
   "cell_type": "markdown",
   "id": "6c2f2dfb-01f2-46f9-85c9-2980b2397903",
   "metadata": {},
   "source": [
    "# Dependências"
   ]
  },
  {
   "cell_type": "markdown",
   "id": "e1c891a2-214c-4d7b-9189-b2022bcb4310",
   "metadata": {},
   "source": [
    "Este notebook depende do arquivo resultante do notebook 'pop_1km_parques_urb_line'"
   ]
  },
  {
   "cell_type": "code",
   "execution_count": 5,
   "id": "ceccca28-eebc-4cbd-8dde-95ea171c3520",
   "metadata": {},
   "outputs": [],
   "source": [
    "gdf_distritos = gpd.read_parquet(\n",
    "    os.path.join(\n",
    "        assets_path,\n",
    "        'parques_lineares_e_urbanos',\n",
    "        'pop_1km_parques_urbanos_lineares.parquet'\n",
    "    )\n",
    ")"
   ]
  },
  {
   "cell_type": "markdown",
   "id": "ab66ea53-434b-42d8-8b60-005d49236ed0",
   "metadata": {},
   "source": [
    "# Calcular a porcentagem da pop_recort"
   ]
  },
  {
   "cell_type": "markdown",
   "id": "cb0609f0-e40f-4b10-b460-a761646a8549",
   "metadata": {},
   "source": [
    "Já temos a quantidade de pessoas por distrito, mas o indicador é: % da população a menos de 1 km de parques urbanos e lineares, que é "
   ]
  },
  {
   "cell_type": "markdown",
   "id": "2fcc78dc-fa24-4093-b853-dc18de89cb03",
   "metadata": {},
   "source": [
    "População total (do distrito) / População a 1km ou menos de parques (no distrito)"
   ]
  },
  {
   "cell_type": "code",
   "execution_count": 6,
   "id": "fce03cc1-0aa5-4819-a116-f215307e8e95",
   "metadata": {},
   "outputs": [],
   "source": [
    "gdf_distritos['pct_pop_recort']= (\n",
    "    gdf_distritos['pop_dist_recort']/gdf_distritos['total_pop']\n",
    ")"
   ]
  },
  {
   "cell_type": "code",
   "execution_count": 7,
   "id": "c4e0a37f-82d4-44d5-9e10-d1cec38000e4",
   "metadata": {},
   "outputs": [
    {
     "data": {
      "text/html": [
       "<div>\n",
       "<style scoped>\n",
       "    .dataframe tbody tr th:only-of-type {\n",
       "        vertical-align: middle;\n",
       "    }\n",
       "\n",
       "    .dataframe tbody tr th {\n",
       "        vertical-align: top;\n",
       "    }\n",
       "\n",
       "    .dataframe thead th {\n",
       "        text-align: right;\n",
       "    }\n",
       "</style>\n",
       "<table border=\"1\" class=\"dataframe\">\n",
       "  <thead>\n",
       "    <tr style=\"text-align: right;\">\n",
       "      <th></th>\n",
       "      <th>CD_MUN</th>\n",
       "      <th>NM_MUN</th>\n",
       "      <th>CD_DIST</th>\n",
       "      <th>NM_DIST</th>\n",
       "      <th>CD_RGINT</th>\n",
       "      <th>NM_RGINT</th>\n",
       "      <th>CD_RGI</th>\n",
       "      <th>NM_RGI</th>\n",
       "      <th>CD_CONCURB</th>\n",
       "      <th>NM_CONCURB</th>\n",
       "      <th>AREA_KM2</th>\n",
       "      <th>total_pop</th>\n",
       "      <th>total_dom</th>\n",
       "      <th>geometry</th>\n",
       "      <th>pop_dist_recort</th>\n",
       "      <th>pct_pop_recort</th>\n",
       "    </tr>\n",
       "  </thead>\n",
       "  <tbody>\n",
       "    <tr>\n",
       "      <th>41</th>\n",
       "      <td>3550308</td>\n",
       "      <td>São Paulo</td>\n",
       "      <td>355030842</td>\n",
       "      <td>JARAGUA</td>\n",
       "      <td>3501</td>\n",
       "      <td>São Paulo</td>\n",
       "      <td>350001</td>\n",
       "      <td>São Paulo</td>\n",
       "      <td>3550308</td>\n",
       "      <td>São Paulo/SP</td>\n",
       "      <td>28.004258</td>\n",
       "      <td>211617</td>\n",
       "      <td>84799</td>\n",
       "      <td>POLYGON ((324277.651 7404843.442, 324281.328 7...</td>\n",
       "      <td>160967.0</td>\n",
       "      <td>0.760652</td>\n",
       "    </tr>\n",
       "    <tr>\n",
       "      <th>65</th>\n",
       "      <td>3550308</td>\n",
       "      <td>São Paulo</td>\n",
       "      <td>355030866</td>\n",
       "      <td>REPUBLICA</td>\n",
       "      <td>3501</td>\n",
       "      <td>São Paulo</td>\n",
       "      <td>350001</td>\n",
       "      <td>São Paulo</td>\n",
       "      <td>3550308</td>\n",
       "      <td>São Paulo/SP</td>\n",
       "      <td>2.323756</td>\n",
       "      <td>60825</td>\n",
       "      <td>42899</td>\n",
       "      <td>POLYGON ((332414.569 7394031.775, 332398.803 7...</td>\n",
       "      <td>60474.0</td>\n",
       "      <td>0.994229</td>\n",
       "    </tr>\n",
       "    <tr>\n",
       "      <th>35</th>\n",
       "      <td>3550308</td>\n",
       "      <td>São Paulo</td>\n",
       "      <td>355030836</td>\n",
       "      <td>ITAIM PAULISTA</td>\n",
       "      <td>3501</td>\n",
       "      <td>São Paulo</td>\n",
       "      <td>350001</td>\n",
       "      <td>São Paulo</td>\n",
       "      <td>3550308</td>\n",
       "      <td>São Paulo/SP</td>\n",
       "      <td>12.217145</td>\n",
       "      <td>205295</td>\n",
       "      <td>78141</td>\n",
       "      <td>POLYGON ((359382.741 7402158.394, 359386.115 7...</td>\n",
       "      <td>204209.0</td>\n",
       "      <td>0.994710</td>\n",
       "    </tr>\n",
       "  </tbody>\n",
       "</table>\n",
       "</div>"
      ],
      "text/plain": [
       "     CD_MUN     NM_MUN    CD_DIST         NM_DIST CD_RGINT   NM_RGINT  CD_RGI  \\\n",
       "41  3550308  São Paulo  355030842         JARAGUA     3501  São Paulo  350001   \n",
       "65  3550308  São Paulo  355030866       REPUBLICA     3501  São Paulo  350001   \n",
       "35  3550308  São Paulo  355030836  ITAIM PAULISTA     3501  São Paulo  350001   \n",
       "\n",
       "       NM_RGI CD_CONCURB    NM_CONCURB   AREA_KM2  total_pop total_dom  \\\n",
       "41  São Paulo    3550308  São Paulo/SP  28.004258     211617     84799   \n",
       "65  São Paulo    3550308  São Paulo/SP   2.323756      60825     42899   \n",
       "35  São Paulo    3550308  São Paulo/SP  12.217145     205295     78141   \n",
       "\n",
       "                                             geometry  pop_dist_recort  \\\n",
       "41  POLYGON ((324277.651 7404843.442, 324281.328 7...         160967.0   \n",
       "65  POLYGON ((332414.569 7394031.775, 332398.803 7...          60474.0   \n",
       "35  POLYGON ((359382.741 7402158.394, 359386.115 7...         204209.0   \n",
       "\n",
       "    pct_pop_recort  \n",
       "41        0.760652  \n",
       "65        0.994229  \n",
       "35        0.994710  "
      ]
     },
     "execution_count": 7,
     "metadata": {},
     "output_type": "execute_result"
    }
   ],
   "source": [
    "gdf_distritos.sample(3)"
   ]
  },
  {
   "cell_type": "markdown",
   "id": "647d15b2-89b2-4a4a-82c6-16dbf3304a80",
   "metadata": {},
   "source": [
    "# Conferir"
   ]
  },
  {
   "cell_type": "markdown",
   "id": "4b9df7cc-c42a-4958-8621-47cf741d92a0",
   "metadata": {},
   "source": [
    "Novamente vamos checar vendo se os mínimos e máximos fazem sentido."
   ]
  },
  {
   "cell_type": "markdown",
   "id": "1608cdb4-99c6-4613-ae66-dac88103338d",
   "metadata": {},
   "source": [
    "Aqui tem os distritos que não tem nenhuma pessoa a 1km ou menos de parques lineares e urbanos."
   ]
  },
  {
   "cell_type": "code",
   "execution_count": 8,
   "id": "3e3b0020-9941-4457-8179-05c2ab4f4383",
   "metadata": {},
   "outputs": [
    {
     "data": {
      "text/html": [
       "<div>\n",
       "<style scoped>\n",
       "    .dataframe tbody tr th:only-of-type {\n",
       "        vertical-align: middle;\n",
       "    }\n",
       "\n",
       "    .dataframe tbody tr th {\n",
       "        vertical-align: top;\n",
       "    }\n",
       "\n",
       "    .dataframe thead th {\n",
       "        text-align: right;\n",
       "    }\n",
       "</style>\n",
       "<table border=\"1\" class=\"dataframe\">\n",
       "  <thead>\n",
       "    <tr style=\"text-align: right;\">\n",
       "      <th></th>\n",
       "      <th>CD_MUN</th>\n",
       "      <th>NM_MUN</th>\n",
       "      <th>CD_DIST</th>\n",
       "      <th>NM_DIST</th>\n",
       "      <th>CD_RGINT</th>\n",
       "      <th>NM_RGINT</th>\n",
       "      <th>CD_RGI</th>\n",
       "      <th>NM_RGI</th>\n",
       "      <th>CD_CONCURB</th>\n",
       "      <th>NM_CONCURB</th>\n",
       "      <th>AREA_KM2</th>\n",
       "      <th>total_pop</th>\n",
       "      <th>total_dom</th>\n",
       "      <th>geometry</th>\n",
       "      <th>pop_dist_recort</th>\n",
       "      <th>pct_pop_recort</th>\n",
       "    </tr>\n",
       "  </thead>\n",
       "  <tbody>\n",
       "    <tr>\n",
       "      <th>51</th>\n",
       "      <td>3550308</td>\n",
       "      <td>São Paulo</td>\n",
       "      <td>355030852</td>\n",
       "      <td>MARSILAC</td>\n",
       "      <td>3501</td>\n",
       "      <td>São Paulo</td>\n",
       "      <td>350001</td>\n",
       "      <td>São Paulo</td>\n",
       "      <td>3550308</td>\n",
       "      <td>São Paulo/SP</td>\n",
       "      <td>207.501260</td>\n",
       "      <td>11451</td>\n",
       "      <td>6139</td>\n",
       "      <td>POLYGON ((333016.008 7354600.919, 333056.044 7...</td>\n",
       "      <td>0.0</td>\n",
       "      <td>0.0</td>\n",
       "    </tr>\n",
       "    <tr>\n",
       "      <th>67</th>\n",
       "      <td>3550308</td>\n",
       "      <td>São Paulo</td>\n",
       "      <td>355030868</td>\n",
       "      <td>SACOMA</td>\n",
       "      <td>3501</td>\n",
       "      <td>São Paulo</td>\n",
       "      <td>350001</td>\n",
       "      <td>São Paulo</td>\n",
       "      <td>3550308</td>\n",
       "      <td>São Paulo/SP</td>\n",
       "      <td>14.610797</td>\n",
       "      <td>261436</td>\n",
       "      <td>113894</td>\n",
       "      <td>POLYGON ((338605.158 7385601.06, 338598.678 73...</td>\n",
       "      <td>0.0</td>\n",
       "      <td>0.0</td>\n",
       "    </tr>\n",
       "    <tr>\n",
       "      <th>78</th>\n",
       "      <td>3550308</td>\n",
       "      <td>São Paulo</td>\n",
       "      <td>355030879</td>\n",
       "      <td>SOCORRO</td>\n",
       "      <td>3501</td>\n",
       "      <td>São Paulo</td>\n",
       "      <td>350001</td>\n",
       "      <td>São Paulo</td>\n",
       "      <td>3550308</td>\n",
       "      <td>São Paulo/SP</td>\n",
       "      <td>12.261579</td>\n",
       "      <td>38051</td>\n",
       "      <td>16549</td>\n",
       "      <td>POLYGON ((326832.519 7378799.896, 326814.871 7...</td>\n",
       "      <td>0.0</td>\n",
       "      <td>0.0</td>\n",
       "    </tr>\n",
       "  </tbody>\n",
       "</table>\n",
       "</div>"
      ],
      "text/plain": [
       "     CD_MUN     NM_MUN    CD_DIST   NM_DIST CD_RGINT   NM_RGINT  CD_RGI  \\\n",
       "51  3550308  São Paulo  355030852  MARSILAC     3501  São Paulo  350001   \n",
       "67  3550308  São Paulo  355030868    SACOMA     3501  São Paulo  350001   \n",
       "78  3550308  São Paulo  355030879   SOCORRO     3501  São Paulo  350001   \n",
       "\n",
       "       NM_RGI CD_CONCURB    NM_CONCURB    AREA_KM2  total_pop total_dom  \\\n",
       "51  São Paulo    3550308  São Paulo/SP  207.501260      11451      6139   \n",
       "67  São Paulo    3550308  São Paulo/SP   14.610797     261436    113894   \n",
       "78  São Paulo    3550308  São Paulo/SP   12.261579      38051     16549   \n",
       "\n",
       "                                             geometry  pop_dist_recort  \\\n",
       "51  POLYGON ((333016.008 7354600.919, 333056.044 7...              0.0   \n",
       "67  POLYGON ((338605.158 7385601.06, 338598.678 73...              0.0   \n",
       "78  POLYGON ((326832.519 7378799.896, 326814.871 7...              0.0   \n",
       "\n",
       "    pct_pop_recort  \n",
       "51             0.0  \n",
       "67             0.0  \n",
       "78             0.0  "
      ]
     },
     "execution_count": 8,
     "metadata": {},
     "output_type": "execute_result"
    }
   ],
   "source": [
    "(\n",
    "    gdf_distritos\n",
    "    .loc[gdf_distritos['pct_pop_recort']==gdf_distritos['pct_pop_recort']\n",
    "    .min()]\n",
    ")"
   ]
  },
  {
   "cell_type": "markdown",
   "id": "1ac3c5c6-efb7-4a10-82ad-52498d11fc04",
   "metadata": {},
   "source": [
    "Aqui é o distrito com a menor quantidade de pessoas a 1km ou menos de parques lineares e urbanos, menos os que estão zerados"
   ]
  },
  {
   "cell_type": "code",
   "execution_count": 9,
   "id": "79ef9817-e53b-4ca9-9a6e-4864846bf959",
   "metadata": {},
   "outputs": [
    {
     "data": {
      "text/html": [
       "<div>\n",
       "<style scoped>\n",
       "    .dataframe tbody tr th:only-of-type {\n",
       "        vertical-align: middle;\n",
       "    }\n",
       "\n",
       "    .dataframe tbody tr th {\n",
       "        vertical-align: top;\n",
       "    }\n",
       "\n",
       "    .dataframe thead th {\n",
       "        text-align: right;\n",
       "    }\n",
       "</style>\n",
       "<table border=\"1\" class=\"dataframe\">\n",
       "  <thead>\n",
       "    <tr style=\"text-align: right;\">\n",
       "      <th></th>\n",
       "      <th>CD_MUN</th>\n",
       "      <th>NM_MUN</th>\n",
       "      <th>CD_DIST</th>\n",
       "      <th>NM_DIST</th>\n",
       "      <th>CD_RGINT</th>\n",
       "      <th>NM_RGINT</th>\n",
       "      <th>CD_RGI</th>\n",
       "      <th>NM_RGI</th>\n",
       "      <th>CD_CONCURB</th>\n",
       "      <th>NM_CONCURB</th>\n",
       "      <th>AREA_KM2</th>\n",
       "      <th>total_pop</th>\n",
       "      <th>total_dom</th>\n",
       "      <th>geometry</th>\n",
       "      <th>pop_dist_recort</th>\n",
       "      <th>pct_pop_recort</th>\n",
       "    </tr>\n",
       "  </thead>\n",
       "  <tbody>\n",
       "    <tr>\n",
       "      <th>26</th>\n",
       "      <td>3550308</td>\n",
       "      <td>São Paulo</td>\n",
       "      <td>355030827</td>\n",
       "      <td>CURSINO</td>\n",
       "      <td>3501</td>\n",
       "      <td>São Paulo</td>\n",
       "      <td>350001</td>\n",
       "      <td>São Paulo</td>\n",
       "      <td>3550308</td>\n",
       "      <td>São Paulo/SP</td>\n",
       "      <td>12.060052</td>\n",
       "      <td>103171</td>\n",
       "      <td>46155</td>\n",
       "      <td>POLYGON ((335822.146 7385759.521, 335833.043 7...</td>\n",
       "      <td>131.0</td>\n",
       "      <td>0.00127</td>\n",
       "    </tr>\n",
       "  </tbody>\n",
       "</table>\n",
       "</div>"
      ],
      "text/plain": [
       "     CD_MUN     NM_MUN    CD_DIST  NM_DIST CD_RGINT   NM_RGINT  CD_RGI  \\\n",
       "26  3550308  São Paulo  355030827  CURSINO     3501  São Paulo  350001   \n",
       "\n",
       "       NM_RGI CD_CONCURB    NM_CONCURB   AREA_KM2  total_pop total_dom  \\\n",
       "26  São Paulo    3550308  São Paulo/SP  12.060052     103171     46155   \n",
       "\n",
       "                                             geometry  pop_dist_recort  \\\n",
       "26  POLYGON ((335822.146 7385759.521, 335833.043 7...            131.0   \n",
       "\n",
       "    pct_pop_recort  \n",
       "26         0.00127  "
      ]
     },
     "execution_count": 9,
     "metadata": {},
     "output_type": "execute_result"
    }
   ],
   "source": [
    "distritos_sem0=gdf_distritos.loc[gdf_distritos['pct_pop_recort']!=0.0]\n",
    "(\n",
    "    distritos_sem0\n",
    "    .loc[distritos_sem0['pct_pop_recort']==distritos_sem0['pct_pop_recort']\n",
    "    .min()]\n",
    ")"
   ]
  },
  {
   "cell_type": "markdown",
   "id": "cfac5950-a8dc-41d4-a4bd-9ed025d6547a",
   "metadata": {},
   "source": [
    "Aqui vemos o distrito com a maior quantidade de pessoas a 1km ou menos dos parques."
   ]
  },
  {
   "cell_type": "code",
   "execution_count": 10,
   "id": "46552443-c8d4-40df-a3d1-3825f548705b",
   "metadata": {
    "scrolled": true
   },
   "outputs": [
    {
     "data": {
      "text/html": [
       "<div>\n",
       "<style scoped>\n",
       "    .dataframe tbody tr th:only-of-type {\n",
       "        vertical-align: middle;\n",
       "    }\n",
       "\n",
       "    .dataframe tbody tr th {\n",
       "        vertical-align: top;\n",
       "    }\n",
       "\n",
       "    .dataframe thead th {\n",
       "        text-align: right;\n",
       "    }\n",
       "</style>\n",
       "<table border=\"1\" class=\"dataframe\">\n",
       "  <thead>\n",
       "    <tr style=\"text-align: right;\">\n",
       "      <th></th>\n",
       "      <th>CD_MUN</th>\n",
       "      <th>NM_MUN</th>\n",
       "      <th>CD_DIST</th>\n",
       "      <th>NM_DIST</th>\n",
       "      <th>CD_RGINT</th>\n",
       "      <th>NM_RGINT</th>\n",
       "      <th>CD_RGI</th>\n",
       "      <th>NM_RGI</th>\n",
       "      <th>CD_CONCURB</th>\n",
       "      <th>NM_CONCURB</th>\n",
       "      <th>AREA_KM2</th>\n",
       "      <th>total_pop</th>\n",
       "      <th>total_dom</th>\n",
       "      <th>geometry</th>\n",
       "      <th>pop_dist_recort</th>\n",
       "      <th>pct_pop_recort</th>\n",
       "    </tr>\n",
       "  </thead>\n",
       "  <tbody>\n",
       "    <tr>\n",
       "      <th>64</th>\n",
       "      <td>3550308</td>\n",
       "      <td>São Paulo</td>\n",
       "      <td>355030865</td>\n",
       "      <td>RAPOSO TAVARES</td>\n",
       "      <td>3501</td>\n",
       "      <td>São Paulo</td>\n",
       "      <td>350001</td>\n",
       "      <td>São Paulo</td>\n",
       "      <td>3550308</td>\n",
       "      <td>São Paulo/SP</td>\n",
       "      <td>12.164313</td>\n",
       "      <td>117738</td>\n",
       "      <td>49006</td>\n",
       "      <td>POLYGON ((319022.919 7388900.499, 318990.285 7...</td>\n",
       "      <td>117738.0</td>\n",
       "      <td>1.0</td>\n",
       "    </tr>\n",
       "    <tr>\n",
       "      <th>93</th>\n",
       "      <td>3550308</td>\n",
       "      <td>São Paulo</td>\n",
       "      <td>355030894</td>\n",
       "      <td>VILA SONIA</td>\n",
       "      <td>3501</td>\n",
       "      <td>São Paulo</td>\n",
       "      <td>350001</td>\n",
       "      <td>São Paulo</td>\n",
       "      <td>3550308</td>\n",
       "      <td>São Paulo/SP</td>\n",
       "      <td>10.066693</td>\n",
       "      <td>123748</td>\n",
       "      <td>53826</td>\n",
       "      <td>POLYGON ((323710.87 7387720.911, 323703.262 73...</td>\n",
       "      <td>123748.0</td>\n",
       "      <td>1.0</td>\n",
       "    </tr>\n",
       "  </tbody>\n",
       "</table>\n",
       "</div>"
      ],
      "text/plain": [
       "     CD_MUN     NM_MUN    CD_DIST         NM_DIST CD_RGINT   NM_RGINT  CD_RGI  \\\n",
       "64  3550308  São Paulo  355030865  RAPOSO TAVARES     3501  São Paulo  350001   \n",
       "93  3550308  São Paulo  355030894      VILA SONIA     3501  São Paulo  350001   \n",
       "\n",
       "       NM_RGI CD_CONCURB    NM_CONCURB   AREA_KM2  total_pop total_dom  \\\n",
       "64  São Paulo    3550308  São Paulo/SP  12.164313     117738     49006   \n",
       "93  São Paulo    3550308  São Paulo/SP  10.066693     123748     53826   \n",
       "\n",
       "                                             geometry  pop_dist_recort  \\\n",
       "64  POLYGON ((319022.919 7388900.499, 318990.285 7...         117738.0   \n",
       "93  POLYGON ((323710.87 7387720.911, 323703.262 73...         123748.0   \n",
       "\n",
       "    pct_pop_recort  \n",
       "64             1.0  \n",
       "93             1.0  "
      ]
     },
     "execution_count": 10,
     "metadata": {},
     "output_type": "execute_result"
    }
   ],
   "source": [
    "(\n",
    "    gdf_distritos\n",
    "    .loc[gdf_distritos['pct_pop_recort']==gdf_distritos['pct_pop_recort']\n",
    "    .max()]\n",
    ")"
   ]
  },
  {
   "cell_type": "markdown",
   "id": "1266af8a-ab16-4df9-a55b-cb4b23a900d2",
   "metadata": {},
   "source": [
    "# Salvar"
   ]
  },
  {
   "cell_type": "code",
   "execution_count": 11,
   "id": "98c7d53f-dfeb-4749-9ee8-9300193f3c6e",
   "metadata": {},
   "outputs": [],
   "source": [
    "save_parquet_excel(\n",
    "    gdf_distritos,\n",
    "    'pct_pop_1km_parques_urbanos_lineares',\n",
    "    assets_path,\n",
    "    'parques_lineares_e_urbanos'\n",
    ")"
   ]
  },
  {
   "cell_type": "code",
   "execution_count": null,
   "id": "9f4df614-b675-4548-b42f-cddd7db1c17c",
   "metadata": {},
   "outputs": [],
   "source": []
  }
 ],
 "metadata": {
  "kernelspec": {
   "display_name": "Python 3 (ipykernel)",
   "language": "python",
   "name": "python3"
  },
  "language_info": {
   "codemirror_mode": {
    "name": "ipython",
    "version": 3
   },
   "file_extension": ".py",
   "mimetype": "text/x-python",
   "name": "python",
   "nbconvert_exporter": "python",
   "pygments_lexer": "ipython3",
   "version": "3.12.4"
  }
 },
 "nbformat": 4,
 "nbformat_minor": 5
}
