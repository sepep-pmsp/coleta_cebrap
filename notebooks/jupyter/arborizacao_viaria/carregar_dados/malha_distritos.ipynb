{
 "cells": [
  {
   "cell_type": "code",
   "execution_count": 1,
   "id": "be83ee45-2cb8-4797-a03a-02fce491717b",
   "metadata": {},
   "outputs": [],
   "source": [
    "from arb_via_load_directory import definir_diretorio\n",
    "project_path = definir_diretorio()\n",
    "\n",
    "import geopandas as gpd\n",
    "from os.path import join\n",
    "from unidecode import unidecode\n",
    "\n",
    "from utils import (\n",
    "    save_parquet_excel,\n",
    "    check_crs,\n",
    "    diretorio,\n",
    "    get_data_diretorio,\n",
    ")\n",
    "from utils.downloads import (\n",
    "    _prepare_cache, \n",
    "    download_malha_geosampa,\n",
    ")"
   ]
  },
  {
   "cell_type": "code",
   "execution_count": 2,
   "id": "db810e49-b0b0-4bf7-993c-a68ebd5a4a09",
   "metadata": {},
   "outputs": [],
   "source": [
    "data_path = get_data_diretorio(project_path)"
   ]
  },
  {
   "cell_type": "markdown",
   "id": "a7c08f69-6e6b-41d0-8ff3-5e97952ebe4f",
   "metadata": {},
   "source": [
    "# Declarar variáveis"
   ]
  },
  {
   "cell_type": "code",
   "execution_count": 3,
   "id": "31401b34-24d4-473b-ab63-f109bc3f1f78",
   "metadata": {},
   "outputs": [],
   "source": [
    "gdf_distritos_ibge = gpd.GeoDataFrame()\n",
    "gdf_distritos = gpd.GeoDataFrame()"
   ]
  },
  {
   "cell_type": "markdown",
   "id": "ed1c6a1f-c56a-446a-9994-91c614bf83be",
   "metadata": {},
   "source": [
    "# IBGE"
   ]
  },
  {
   "cell_type": "markdown",
   "id": "f5a3a59c-4a65-4b3a-b34e-befaa6828484",
   "metadata": {},
   "source": [
    "## Importar dados "
   ]
  },
  {
   "cell_type": "markdown",
   "id": "e8095c5d-8c39-46c7-beff-a7ca1506a692",
   "metadata": {},
   "source": [
    "Inicialmente, a malha dos distritos vinha do geosampa. Contudo, por conta das incompatibilidades das malhas e, principalmente, como a malha do IBGE já vem com a informação dos km^2 e população, optei por utilizá-la."
   ]
  },
  {
   "cell_type": "markdown",
   "id": "0b10626f-2e41-49ab-aa5a-8321b1578364",
   "metadata": {},
   "source": [
    "(Porém, ao final deste notebook ainda há o carregamento da malha do geosampa)"
   ]
  },
  {
   "cell_type": "code",
   "execution_count": 4,
   "id": "869b8eef-91ba-4d5f-b5de-3f9c292a1011",
   "metadata": {},
   "outputs": [],
   "source": [
    "cache_path = join(\n",
    "    data_path, \n",
    "    'cache'\n",
    ")"
   ]
  },
  {
   "cell_type": "code",
   "execution_count": 5,
   "id": "fd43af03-a3e8-48d1-98ed-da39c002cb05",
   "metadata": {},
   "outputs": [],
   "source": [
    "gdf_distritos_ibge = _prepare_cache(\n",
    "    url='http://ftp.ibge.gov.br/Censos/Censo_Demografico_2022/Agregados_por_Setores_Censitarios/malha_com_atributos/distritos/shp/UF/SP/SP_distritos_CD2022.zip',\n",
    "    name_feature= 'distritos_ibge',\n",
    "    cache_path=cache_path\n",
    ")"
   ]
  },
  {
   "cell_type": "markdown",
   "id": "25e8d11b-e842-4536-b23d-5605fe691089",
   "metadata": {},
   "source": [
    "No caso dos distritos do IBGE, é preciso pegar apenas os da cidade de São Paulo, já que vêm os do Estado inteiro."
   ]
  },
  {
   "cell_type": "code",
   "execution_count": 6,
   "id": "7163c8f3-0797-4a8c-aebc-ccc1699d9f68",
   "metadata": {},
   "outputs": [],
   "source": [
    "\n",
    "gdf_distritos_ibge = (\n",
    "    gdf_distritos_ibge\n",
    "    .loc[gdf_distritos_ibge['CD_MUN']=='3550308']\n",
    ")"
   ]
  },
  {
   "cell_type": "markdown",
   "id": "144d7a11-c42a-4bb6-839b-b4debf503b5f",
   "metadata": {},
   "source": [
    "## Padronizaçã de colunas"
   ]
  },
  {
   "cell_type": "markdown",
   "id": "03caabe4-a77f-4ec1-aa9c-d7a7f1a84048",
   "metadata": {},
   "source": [
    "### Nome das colunas"
   ]
  },
  {
   "cell_type": "markdown",
   "id": "f119a089-5eda-47c5-992e-e8b7938dcef7",
   "metadata": {},
   "source": [
    "Originalmente, muitas das colunas dos gdfs que serão interseccionados têm nomes repetidos, ou estavam vazias. Para que isso não faça com que a análise das tabelas seja confusa, apagaremos as colunas que julgadas desnecessárias, e renomearemos as necessárias."
   ]
  },
  {
   "cell_type": "code",
   "execution_count": 7,
   "id": "01f6a303-95fe-4f3c-a2e2-ab4b1173dbb7",
   "metadata": {},
   "outputs": [
    {
     "data": {
      "text/plain": [
       "Index(['CD_REGIAO', 'NM_REGIAO', 'CD_UF', 'NM_UF', 'CD_MUN', 'NM_MUN',\n",
       "       'CD_DIST', 'NM_DIST', 'CD_RGINT', 'NM_RGINT', 'CD_RGI', 'NM_RGI',\n",
       "       'CD_CONCURB', 'NM_CONCURB', 'AREA_KM2', 'v0001', 'v0002', 'v0003',\n",
       "       'v0004', 'v0005', 'v0006', 'v0007', 'geometry'],\n",
       "      dtype='object')"
      ]
     },
     "execution_count": 7,
     "metadata": {},
     "output_type": "execute_result"
    }
   ],
   "source": [
    "gdf_distritos_ibge.columns"
   ]
  },
  {
   "cell_type": "code",
   "execution_count": 8,
   "id": "4848b2bf-037a-4a22-96a4-55d7b502bcd4",
   "metadata": {},
   "outputs": [],
   "source": [
    "drop_distritos_cols={\n",
    "    'CD_REGIAO',\n",
    "    'NM_REGIAO',\n",
    "    'CD_UF',\n",
    "    'NM_UF',\n",
    "}\n",
    "\n",
    "gdf_distritos_ibge=gdf_distritos_ibge.drop(columns=drop_distritos_cols)"
   ]
  },
  {
   "cell_type": "code",
   "execution_count": 9,
   "id": "fc7194b1-33fb-40e5-b3d9-6c4f6c7577f7",
   "metadata": {},
   "outputs": [],
   "source": [
    "drop_cols = [f'v000{i}' for i in range(3,8)]\n",
    "gdf_distritos_ibge = gdf_distritos_ibge.drop(columns=drop_cols)"
   ]
  },
  {
   "cell_type": "code",
   "execution_count": 10,
   "id": "df994402-41e8-4236-bfc8-78c17530edf8",
   "metadata": {},
   "outputs": [],
   "source": [
    "rename_distrito_ibge_cols={\n",
    "    'v0001' : 'total_pop', \n",
    "    'v0002' : 'total_dom'\n",
    "}\n",
    "\n",
    "gdf_distritos_ibge.rename(rename_distrito_ibge_cols, axis=1, inplace=True)"
   ]
  },
  {
   "cell_type": "markdown",
   "id": "aca1546c-bdba-458f-8a1f-41b828b75c2d",
   "metadata": {},
   "source": [
    "### Conteúdo das colunas"
   ]
  },
  {
   "cell_type": "markdown",
   "id": "2007c8b8-e1cc-45ae-85e5-ae2965d4d03a",
   "metadata": {},
   "source": [
    "Quando formos realizar operações entre distritos e outras malhas, caso a outra malha não tenha a informação do CD_DIST, as comparações precisarão ser feitas a partir da coluna 'NM_DIST'. Portante seu conteúdo deve ser padronizado também:"
   ]
  },
  {
   "cell_type": "code",
   "execution_count": 11,
   "id": "c04cb55d-8a3b-4ee7-a462-c8a98ea45877",
   "metadata": {},
   "outputs": [],
   "source": [
    "gdf_distritos_ibge['NM_DIST']=gdf_distritos_ibge['NM_DIST'].str.upper()\n"
   ]
  },
  {
   "cell_type": "code",
   "execution_count": 12,
   "id": "3c9b0c15-e528-44ec-ba55-2bde66fc92db",
   "metadata": {},
   "outputs": [],
   "source": [
    "for value in gdf_distritos_ibge['NM_DIST']:\n",
    "    (\n",
    "        gdf_distritos_ibge\n",
    "        .loc[gdf_distritos_ibge['NM_DIST'] == value, 'NM_DIST']\n",
    "    ) = unidecode(value)"
   ]
  },
  {
   "cell_type": "markdown",
   "id": "f33ebded-90fc-471e-88a8-03c57cba24de",
   "metadata": {},
   "source": [
    "Alguns dos valores que precisam ser inteiros estão constando como str e precisam ser padronizados também:"
   ]
  },
  {
   "cell_type": "code",
   "execution_count": 13,
   "id": "66ed99a5-8a11-40a2-8a20-d1c38064d9b2",
   "metadata": {},
   "outputs": [],
   "source": [
    "gdf_distritos_ibge['total_pop'] = (\n",
    "    gdf_distritos_ibge['total_pop']\n",
    "    .astype(int)\n",
    ")"
   ]
  },
  {
   "cell_type": "markdown",
   "id": "cbf2c602-d537-4456-a2d2-9f9bd0e907b4",
   "metadata": {},
   "source": [
    "## Conferir CRS"
   ]
  },
  {
   "cell_type": "code",
   "execution_count": 14,
   "id": "54636e80-788c-4b42-b518-d20dd66b415d",
   "metadata": {},
   "outputs": [
    {
     "name": "stderr",
     "output_type": "stream",
     "text": [
      "O crs do gdf não está correto:EPSG:4674\n"
     ]
    }
   ],
   "source": [
    "gdf_distritos_ibge = check_crs(gdf_distritos_ibge)"
   ]
  },
  {
   "cell_type": "markdown",
   "id": "82daabc2-6a8f-47a0-813e-80b881d45462",
   "metadata": {},
   "source": [
    "## Salvar GDF"
   ]
  },
  {
   "cell_type": "code",
   "execution_count": 15,
   "id": "e68bdfad-1d72-4605-9164-40248cbe91b5",
   "metadata": {},
   "outputs": [],
   "source": [
    "save_parquet_excel(\n",
    "    gdf_distritos_ibge,\n",
    "    'distrito_ibge',\n",
    "    data_path,\n",
    "    'assets'\n",
    ")\n",
    "\n"
   ]
  }
 ],
 "metadata": {
  "kernelspec": {
   "display_name": "Python 3 (ipykernel)",
   "language": "python",
   "name": "python3"
  },
  "language_info": {
   "codemirror_mode": {
    "name": "ipython",
    "version": 3
   },
   "file_extension": ".py",
   "mimetype": "text/x-python",
   "name": "python",
   "nbconvert_exporter": "python",
   "pygments_lexer": "ipython3",
   "version": "3.12.4"
  }
 },
 "nbformat": 4,
 "nbformat_minor": 5
}
