{
 "cells": [
  {
   "cell_type": "code",
   "execution_count": 1,
   "id": "34e4afed-cea7-4a4f-b7e6-d91d41093723",
   "metadata": {},
   "outputs": [
    {
     "name": "stdout",
     "output_type": "stream",
     "text": [
      "O diretorio do seu projeto é coleta_cebrap\n",
      "Caminho absoluto do diretorio encontrado C:\\Users\\x526378\\Desktop\\projetos\\cebrap\\coleta_cebrap\n",
      "Caminho no path.\n"
     ]
    }
   ],
   "source": [
    "from configuracoes_notebooks import set_proj_dir\n",
    "set_proj_dir()"
   ]
  },
  {
   "cell_type": "code",
   "execution_count": 2,
   "id": "be83ee45-2cb8-4797-a03a-02fce491717b",
   "metadata": {},
   "outputs": [],
   "source": [
    "import geopandas as gpd\n",
    "import pandas as pd\n",
    "import os\n",
    "from os.path import join\n",
    "\n",
    "from notebooks.jupyter.utils import (\n",
    "    save_parquet_excel,\n",
    "    check_crs,\n",
    "    get_data_diretorio,\n",
    "    diretorio,\n",
    ")\n",
    "from notebooks.jupyter.utils.downloads import(\n",
    "    download_malha_geosampa,\n",
    ")"
   ]
  },
  {
   "cell_type": "markdown",
   "id": "fb30b4ad-4907-4237-811a-5802ca71e9a7",
   "metadata": {},
   "source": [
    "# Arborização Viária"
   ]
  },
  {
   "cell_type": "markdown",
   "id": "f5a3a59c-4a65-4b3a-b34e-befaa6828484",
   "metadata": {},
   "source": [
    "## Importar dados "
   ]
  },
  {
   "cell_type": "code",
   "execution_count": 3,
   "id": "db810e49-b0b0-4bf7-993c-a68ebd5a4a09",
   "metadata": {},
   "outputs": [],
   "source": [
    "data_path = get_data_diretorio()"
   ]
  },
  {
   "cell_type": "code",
   "execution_count": 4,
   "id": "bb170e61-75a5-4bd1-9115-e07c3eed3ef4",
   "metadata": {
    "scrolled": true
   },
   "outputs": [
    {
     "name": "stdout",
     "output_type": "stream",
     "text": [
      "Carregando arquivo em cache\n"
     ]
    }
   ],
   "source": [
    "cache_path = join(\n",
    "    data_path, \n",
    "    'cache'\n",
    ")\n",
    "cache_full_path = os.path.join(\n",
    "        cache_path,\n",
    "        'arvore_concat.parquet'\n",
    "    )\n",
    "if os.path.exists(\n",
    "    cache_full_path\n",
    "):\n",
    "    print('Carregando arquivo em cache')\n",
    "    gdf_arvore = gpd.read_parquet(cache_full_path)\n",
    "else:\n",
    "    gdf_arvore = download_malha_geosampa('arvore', cache_path, True)"
   ]
  },
  {
   "cell_type": "code",
   "execution_count": 5,
   "id": "3aa3b0ba-749d-4650-8807-3bafa96d85d1",
   "metadata": {},
   "outputs": [
    {
     "data": {
      "text/plain": [
       "(652976, 22)"
      ]
     },
     "execution_count": 5,
     "metadata": {},
     "output_type": "execute_result"
    }
   ],
   "source": [
    "gdf_arvore.shape"
   ]
  },
  {
   "cell_type": "code",
   "execution_count": 6,
   "id": "c0c2105d-bf2d-4521-bf81-8dc7a570019d",
   "metadata": {
    "scrolled": true
   },
   "outputs": [
    {
     "data": {
      "text/html": [
       "<div>\n",
       "<style scoped>\n",
       "    .dataframe tbody tr th:only-of-type {\n",
       "        vertical-align: middle;\n",
       "    }\n",
       "\n",
       "    .dataframe tbody tr th {\n",
       "        vertical-align: top;\n",
       "    }\n",
       "\n",
       "    .dataframe thead th {\n",
       "        text-align: right;\n",
       "    }\n",
       "</style>\n",
       "<table border=\"1\" class=\"dataframe\">\n",
       "  <thead>\n",
       "    <tr style=\"text-align: right;\">\n",
       "      <th></th>\n",
       "      <th>cd_identif</th>\n",
       "      <th>nm_vulgar_</th>\n",
       "      <th>dc_nm_popu</th>\n",
       "      <th>cd_especie</th>\n",
       "      <th>dc_especie</th>\n",
       "      <th>cd_identi0</th>\n",
       "      <th>cd_tipo_po</th>\n",
       "      <th>dc_tipo_po</th>\n",
       "      <th>qt_diametr</th>\n",
       "      <th>qt_altura_</th>\n",
       "      <th>...</th>\n",
       "      <th>dc_tipo_es</th>\n",
       "      <th>nm_logrado</th>\n",
       "      <th>nr_logrado</th>\n",
       "      <th>sg_distrit</th>\n",
       "      <th>nm_distrit</th>\n",
       "      <th>nm_subpref</th>\n",
       "      <th>cd_inspeca</th>\n",
       "      <th>dt_inspeca</th>\n",
       "      <th>dt_atualiz</th>\n",
       "      <th>geometry</th>\n",
       "    </tr>\n",
       "  </thead>\n",
       "  <tbody>\n",
       "    <tr>\n",
       "      <th>143436</th>\n",
       "      <td>228417</td>\n",
       "      <td>None</td>\n",
       "      <td>None</td>\n",
       "      <td>NaN</td>\n",
       "      <td>None</td>\n",
       "      <td>None</td>\n",
       "      <td>NaN</td>\n",
       "      <td>None</td>\n",
       "      <td>NaN</td>\n",
       "      <td>NaN</td>\n",
       "      <td>...</td>\n",
       "      <td>None</td>\n",
       "      <td>None</td>\n",
       "      <td>NaN</td>\n",
       "      <td>SAU</td>\n",
       "      <td>SAUDE</td>\n",
       "      <td>VILA MARIANA</td>\n",
       "      <td>NaN</td>\n",
       "      <td>NaT</td>\n",
       "      <td>NaT</td>\n",
       "      <td>POINT (333779.109 7388193.652)</td>\n",
       "    </tr>\n",
       "    <tr>\n",
       "      <th>407413</th>\n",
       "      <td>466009</td>\n",
       "      <td>None</td>\n",
       "      <td>None</td>\n",
       "      <td>NaN</td>\n",
       "      <td>None</td>\n",
       "      <td>None</td>\n",
       "      <td>NaN</td>\n",
       "      <td>None</td>\n",
       "      <td>NaN</td>\n",
       "      <td>NaN</td>\n",
       "      <td>...</td>\n",
       "      <td>None</td>\n",
       "      <td>None</td>\n",
       "      <td>NaN</td>\n",
       "      <td>VSO</td>\n",
       "      <td>VILA SONIA</td>\n",
       "      <td>BUTANTA</td>\n",
       "      <td>NaN</td>\n",
       "      <td>NaT</td>\n",
       "      <td>NaT</td>\n",
       "      <td>POINT (321549.162 7387416.132)</td>\n",
       "    </tr>\n",
       "    <tr>\n",
       "      <th>329705</th>\n",
       "      <td>396074</td>\n",
       "      <td>None</td>\n",
       "      <td>None</td>\n",
       "      <td>NaN</td>\n",
       "      <td>None</td>\n",
       "      <td>None</td>\n",
       "      <td>NaN</td>\n",
       "      <td>None</td>\n",
       "      <td>NaN</td>\n",
       "      <td>NaN</td>\n",
       "      <td>...</td>\n",
       "      <td>None</td>\n",
       "      <td>None</td>\n",
       "      <td>NaN</td>\n",
       "      <td>PQC</td>\n",
       "      <td>PARQUE DO CARMO</td>\n",
       "      <td>ITAQUERA</td>\n",
       "      <td>NaN</td>\n",
       "      <td>NaT</td>\n",
       "      <td>NaT</td>\n",
       "      <td>POINT (352043.171 7393524.837)</td>\n",
       "    </tr>\n",
       "  </tbody>\n",
       "</table>\n",
       "<p>3 rows × 22 columns</p>\n",
       "</div>"
      ],
      "text/plain": [
       "       cd_identif nm_vulgar_ dc_nm_popu  cd_especie dc_especie cd_identi0  \\\n",
       "143436     228417       None       None         NaN       None       None   \n",
       "407413     466009       None       None         NaN       None       None   \n",
       "329705     396074       None       None         NaN       None       None   \n",
       "\n",
       "        cd_tipo_po dc_tipo_po  qt_diametr  qt_altura_  ...  dc_tipo_es  \\\n",
       "143436         NaN       None         NaN         NaN  ...        None   \n",
       "407413         NaN       None         NaN         NaN  ...        None   \n",
       "329705         NaN       None         NaN         NaN  ...        None   \n",
       "\n",
       "        nm_logrado nr_logrado sg_distrit       nm_distrit    nm_subpref  \\\n",
       "143436        None        NaN        SAU            SAUDE  VILA MARIANA   \n",
       "407413        None        NaN        VSO       VILA SONIA       BUTANTA   \n",
       "329705        None        NaN        PQC  PARQUE DO CARMO      ITAQUERA   \n",
       "\n",
       "       cd_inspeca dt_inspeca  dt_atualiz                        geometry  \n",
       "143436        NaN        NaT         NaT  POINT (333779.109 7388193.652)  \n",
       "407413        NaN        NaT         NaT  POINT (321549.162 7387416.132)  \n",
       "329705        NaN        NaT         NaT  POINT (352043.171 7393524.837)  \n",
       "\n",
       "[3 rows x 22 columns]"
      ]
     },
     "execution_count": 6,
     "metadata": {},
     "output_type": "execute_result"
    }
   ],
   "source": [
    "gdf_arvore.sample(3)"
   ]
  },
  {
   "cell_type": "markdown",
   "id": "144d7a11-c42a-4bb6-839b-b4debf503b5f",
   "metadata": {},
   "source": [
    "## Padronizaçã de colunas"
   ]
  },
  {
   "cell_type": "markdown",
   "id": "f119a089-5eda-47c5-992e-e8b7938dcef7",
   "metadata": {},
   "source": [
    "Originalmente, muitas das colunas dos gdfs que serão interseccionados têm nomes repetidos, ou estavam vazias. Para que isso não faça com que a análise das tabelas seja confusa, apagaremos as colunas que julgadas desnecessárias, e renomearemos as necessárias."
   ]
  },
  {
   "cell_type": "code",
   "execution_count": 7,
   "id": "e44fcc3a-30d7-40a7-a227-3211fffe017f",
   "metadata": {},
   "outputs": [],
   "source": [
    "drop_arvore_cols = {\n",
    "    'nm_vulgar_', \n",
    "    'dc_nm_popu', \n",
    "    'cd_especie', \n",
    "    'dc_especie',\n",
    "    'cd_identi0', \n",
    "    'cd_tipo_po', \n",
    "    'dc_tipo_po', \n",
    "    'qt_diametr', \n",
    "    'qt_altura_',\n",
    "    'qt_diamet0', \n",
    "    'cd_tipo_es', \n",
    "    'dc_tipo_es', \n",
    "    'nm_logrado', \n",
    "    'nr_logrado',\n",
    "    'cd_inspeca',\n",
    "    'dt_inspeca',\n",
    "    'dt_atualiz'\n",
    "}\n",
    "\n",
    "gdf_arvore.drop(columns=drop_arvore_cols, axis=1, inplace=True)"
   ]
  },
  {
   "cell_type": "code",
   "execution_count": 8,
   "id": "13a4a0e1-b036-4ad9-81a0-5dc9d3525345",
   "metadata": {},
   "outputs": [],
   "source": [
    "rename_arvore_cols = {\n",
    "    'sg_distrit' : 'sg_dist_arv', \n",
    "    'nm_distrit' : 'nm_dist_arv'\n",
    "}\n",
    "\n",
    "gdf_arvore.rename(rename_arvore_cols, axis=1, inplace=True)"
   ]
  },
  {
   "cell_type": "markdown",
   "id": "cbf2c602-d537-4456-a2d2-9f9bd0e907b4",
   "metadata": {},
   "source": [
    "## Conferir CRS"
   ]
  },
  {
   "cell_type": "code",
   "execution_count": 9,
   "id": "54636e80-788c-4b42-b518-d20dd66b415d",
   "metadata": {},
   "outputs": [],
   "source": [
    "gdf_arvore = check_crs(gdf_arvore)"
   ]
  },
  {
   "cell_type": "markdown",
   "id": "82daabc2-6a8f-47a0-813e-80b881d45462",
   "metadata": {},
   "source": [
    "## Salvar GDF"
   ]
  },
  {
   "cell_type": "markdown",
   "id": "a39155e9-62bf-4d6c-961b-c57758bab09c",
   "metadata": {},
   "source": [
    "Será que eu não poderia colocar um if pra, caso tenha sido lido o cache E a já tenha o gdf salvo, só ler ele... acho que faz mais sentido, mas fica depois pra refatoração."
   ]
  },
  {
   "cell_type": "code",
   "execution_count": 10,
   "id": "6e388826-ee80-44df-b7e6-4ec3b5a56246",
   "metadata": {},
   "outputs": [],
   "source": [
    "save_parquet_excel(\n",
    "    gdf_arvore, \n",
    "    'malha_arborizacao_viaria',\n",
    "    data_path,\n",
    "    data_subpath='assets' \n",
    ")"
   ]
  },
  {
   "cell_type": "code",
   "execution_count": 11,
   "id": "28c5c92d-4b6c-46dc-8c21-d8f01f9da833",
   "metadata": {},
   "outputs": [
    {
     "data": {
      "text/html": [
       "<div>\n",
       "<style scoped>\n",
       "    .dataframe tbody tr th:only-of-type {\n",
       "        vertical-align: middle;\n",
       "    }\n",
       "\n",
       "    .dataframe tbody tr th {\n",
       "        vertical-align: top;\n",
       "    }\n",
       "\n",
       "    .dataframe thead th {\n",
       "        text-align: right;\n",
       "    }\n",
       "</style>\n",
       "<table border=\"1\" class=\"dataframe\">\n",
       "  <thead>\n",
       "    <tr style=\"text-align: right;\">\n",
       "      <th></th>\n",
       "      <th>cd_identif</th>\n",
       "      <th>sg_dist_arv</th>\n",
       "      <th>nm_dist_arv</th>\n",
       "      <th>nm_subpref</th>\n",
       "      <th>geometry</th>\n",
       "    </tr>\n",
       "  </thead>\n",
       "  <tbody>\n",
       "    <tr>\n",
       "      <th>374215</th>\n",
       "      <td>436131</td>\n",
       "      <td>SRA</td>\n",
       "      <td>SAO RAFAEL</td>\n",
       "      <td>SAO MATEUS</td>\n",
       "      <td>POINT (349909.519 7385758.637)</td>\n",
       "    </tr>\n",
       "    <tr>\n",
       "      <th>497648</th>\n",
       "      <td>547217</td>\n",
       "      <td>JDS</td>\n",
       "      <td>JARDIM SAO LUIS</td>\n",
       "      <td>M BOI MIRIM</td>\n",
       "      <td>POINT (321967.953 7382552.424)</td>\n",
       "    </tr>\n",
       "    <tr>\n",
       "      <th>395857</th>\n",
       "      <td>455609</td>\n",
       "      <td>JDH</td>\n",
       "      <td>JARDIM HELENA</td>\n",
       "      <td>SAO MIGUEL</td>\n",
       "      <td>POINT (356022.785 7401629.601)</td>\n",
       "    </tr>\n",
       "  </tbody>\n",
       "</table>\n",
       "</div>"
      ],
      "text/plain": [
       "       cd_identif sg_dist_arv      nm_dist_arv   nm_subpref  \\\n",
       "374215     436131         SRA       SAO RAFAEL   SAO MATEUS   \n",
       "497648     547217         JDS  JARDIM SAO LUIS  M BOI MIRIM   \n",
       "395857     455609         JDH    JARDIM HELENA   SAO MIGUEL   \n",
       "\n",
       "                              geometry  \n",
       "374215  POINT (349909.519 7385758.637)  \n",
       "497648  POINT (321967.953 7382552.424)  \n",
       "395857  POINT (356022.785 7401629.601)  "
      ]
     },
     "execution_count": 11,
     "metadata": {},
     "output_type": "execute_result"
    }
   ],
   "source": [
    "gdf_arvore.sample(3)"
   ]
  }
 ],
 "metadata": {
  "kernelspec": {
   "display_name": "Python 3 (ipykernel)",
   "language": "python",
   "name": "python3"
  },
  "language_info": {
   "codemirror_mode": {
    "name": "ipython",
    "version": 3
   },
   "file_extension": ".py",
   "mimetype": "text/x-python",
   "name": "python",
   "nbconvert_exporter": "python",
   "pygments_lexer": "ipython3",
   "version": "3.12.4"
  }
 },
 "nbformat": 4,
 "nbformat_minor": 5
}
