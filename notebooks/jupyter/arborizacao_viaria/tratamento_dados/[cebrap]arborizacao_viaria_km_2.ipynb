{
 "cells": [
  {
   "cell_type": "code",
   "execution_count": 1,
   "id": "34e4afed-cea7-4a4f-b7e6-d91d41093723",
   "metadata": {},
   "outputs": [
    {
     "name": "stdout",
     "output_type": "stream",
     "text": [
      "O diretorio do seu projeto é coleta_cebrap\n",
      "Caminho absoluto do diretorio encontrado C:\\Users\\x526378\\Desktop\\projetos\\cebrap\\coleta_cebrap\n",
      "Caminho no path.\n"
     ]
    }
   ],
   "source": [
    "from configuracoes_notebooks import set_proj_dir\n",
    "set_proj_dir()"
   ]
  },
  {
   "cell_type": "code",
   "execution_count": 2,
   "id": "8c43c901-2636-4b83-8ad9-9e35a42b0be3",
   "metadata": {},
   "outputs": [],
   "source": [
    "import geopandas as gpd\n",
    "from os.path import join\n",
    "\n",
    "from notebooks.jupyter.utils import (\n",
    "    save_parquet_excel,\n",
    "    diretorio,\n",
    "    get_data_diretorio,\n",
    ")"
   ]
  },
  {
   "cell_type": "code",
   "execution_count": 3,
   "id": "db810e49-b0b0-4bf7-993c-a68ebd5a4a09",
   "metadata": {},
   "outputs": [],
   "source": [
    "data_path = get_data_diretorio()"
   ]
  },
  {
   "cell_type": "markdown",
   "id": "61c44bf9-95f8-4cb0-8b7e-81cbf0b7d53c",
   "metadata": {},
   "source": [
    "# Dependências"
   ]
  },
  {
   "cell_type": "markdown",
   "id": "b5bcad15-6855-481b-a8fc-0315f3fa3110",
   "metadata": {},
   "source": [
    "Carregar o gdf anteriormente criado, durante o cálculo de quantidade de árvores no viário"
   ]
  },
  {
   "cell_type": "code",
   "execution_count": 4,
   "id": "1d64e55d-1adc-4536-a93a-f8fcee7e60df",
   "metadata": {},
   "outputs": [],
   "source": [
    "dist_arv_path = join(\n",
    "    data_path,\n",
    "    'assets',\n",
    "    'arborizacao_viaria', \n",
    "    'qtd_distrito_arv_viario.parquet'\n",
    ")\n",
    "gdf_distrito_arv = gpd.read_parquet(\n",
    "    dist_arv_path\n",
    ")"
   ]
  },
  {
   "cell_type": "markdown",
   "id": "8f870857-c3ac-4a1f-801f-41b01899fa25",
   "metadata": {},
   "source": [
    "# Cálculo por km²"
   ]
  },
  {
   "cell_type": "markdown",
   "id": "2cb835d3-4284-4fa6-8ab9-fee1d240c6c5",
   "metadata": {},
   "source": [
    "Para saber quantas árvores no viário há por km², precisamos dividir a quantidade de árvores pela área (qtd de árvores/área em km²):"
   ]
  },
  {
   "cell_type": "code",
   "execution_count": 5,
   "id": "e57e1fe2-a8b5-4993-b294-e0718b7ebaaf",
   "metadata": {},
   "outputs": [],
   "source": [
    "gdf_distrito_arv['arv_km_2'] = (\n",
    "    gdf_distrito_arv['qtd_arv_viario']/gdf_distrito_arv['AREA_KM2']\n",
    ")"
   ]
  },
  {
   "cell_type": "markdown",
   "id": "fe3d6240-1643-4f67-aabf-c56d5d5339c5",
   "metadata": {
    "jp-MarkdownHeadingCollapsed": true
   },
   "source": [
    "Já para ao município inteiro temos:"
   ]
  },
  {
   "cell_type": "code",
   "execution_count": 6,
   "id": "cb8f4055-e0d2-4993-92de-2985dc19b84b",
   "metadata": {},
   "outputs": [],
   "source": [
    "sp_km_2 = sum(gdf_distrito_arv['AREA_KM2'])\n",
    "sp_arv_total = sum(gdf_distrito_arv['qtd_arv_viario'])\n",
    "sp_arv_km_2 = sp_arv_total/sp_km_2"
   ]
  },
  {
   "cell_type": "code",
   "execution_count": 7,
   "id": "9ae0cbe0-9966-42c0-9f92-ea1935e96699",
   "metadata": {},
   "outputs": [
    {
     "name": "stdout",
     "output_type": "stream",
     "text": [
      "São 652976 árvores no viário em São Paulo e, considerando a área de 1521.201587 Km², há aproximadamente 429.2501 árvores por Km²\n"
     ]
    }
   ],
   "source": [
    "print(f'São {sp_arv_total} árvores no viário em São Paulo e, considerando a área de {sp_km_2} Km², há aproximadamente {round(sp_arv_km_2, 4)} árvores por Km²')"
   ]
  },
  {
   "cell_type": "markdown",
   "id": "44aec47b-2abd-4edf-9246-07472fc09db4",
   "metadata": {},
   "source": [
    "# Salvar gdf"
   ]
  },
  {
   "cell_type": "code",
   "execution_count": 8,
   "id": "94900b90-9e26-4fb1-9439-7f2381ea6ff3",
   "metadata": {},
   "outputs": [
    {
     "data": {
      "text/html": [
       "<div>\n",
       "<style scoped>\n",
       "    .dataframe tbody tr th:only-of-type {\n",
       "        vertical-align: middle;\n",
       "    }\n",
       "\n",
       "    .dataframe tbody tr th {\n",
       "        vertical-align: top;\n",
       "    }\n",
       "\n",
       "    .dataframe thead th {\n",
       "        text-align: right;\n",
       "    }\n",
       "</style>\n",
       "<table border=\"1\" class=\"dataframe\">\n",
       "  <thead>\n",
       "    <tr style=\"text-align: right;\">\n",
       "      <th></th>\n",
       "      <th>CD_MUN</th>\n",
       "      <th>NM_MUN</th>\n",
       "      <th>CD_DIST</th>\n",
       "      <th>NM_DIST</th>\n",
       "      <th>CD_RGINT</th>\n",
       "      <th>NM_RGINT</th>\n",
       "      <th>CD_RGI</th>\n",
       "      <th>NM_RGI</th>\n",
       "      <th>CD_CONCURB</th>\n",
       "      <th>NM_CONCURB</th>\n",
       "      <th>AREA_KM2</th>\n",
       "      <th>total_pop</th>\n",
       "      <th>total_dom</th>\n",
       "      <th>geometry</th>\n",
       "      <th>qtd_arv_viario</th>\n",
       "      <th>arv_km_2</th>\n",
       "    </tr>\n",
       "  </thead>\n",
       "  <tbody>\n",
       "    <tr>\n",
       "      <th>76</th>\n",
       "      <td>3550308</td>\n",
       "      <td>São Paulo</td>\n",
       "      <td>355030877</td>\n",
       "      <td>SAUDE</td>\n",
       "      <td>3501</td>\n",
       "      <td>São Paulo</td>\n",
       "      <td>350001</td>\n",
       "      <td>São Paulo</td>\n",
       "      <td>3550308</td>\n",
       "      <td>São Paulo/SP</td>\n",
       "      <td>9.237295</td>\n",
       "      <td>128469</td>\n",
       "      <td>65598</td>\n",
       "      <td>POLYGON ((332835.435 7389140.186, 333003.906 7...</td>\n",
       "      <td>10953</td>\n",
       "      <td>1185.736708</td>\n",
       "    </tr>\n",
       "    <tr>\n",
       "      <th>49</th>\n",
       "      <td>3550308</td>\n",
       "      <td>São Paulo</td>\n",
       "      <td>355030850</td>\n",
       "      <td>LIMAO</td>\n",
       "      <td>3501</td>\n",
       "      <td>São Paulo</td>\n",
       "      <td>350001</td>\n",
       "      <td>São Paulo</td>\n",
       "      <td>3550308</td>\n",
       "      <td>São Paulo/SP</td>\n",
       "      <td>6.410216</td>\n",
       "      <td>82373</td>\n",
       "      <td>35758</td>\n",
       "      <td>POLYGON ((329252.593 7398526.75, 328918.838 73...</td>\n",
       "      <td>4514</td>\n",
       "      <td>704.188384</td>\n",
       "    </tr>\n",
       "    <tr>\n",
       "      <th>75</th>\n",
       "      <td>3550308</td>\n",
       "      <td>São Paulo</td>\n",
       "      <td>355030876</td>\n",
       "      <td>SAPOPEMBA</td>\n",
       "      <td>3501</td>\n",
       "      <td>São Paulo</td>\n",
       "      <td>350001</td>\n",
       "      <td>São Paulo</td>\n",
       "      <td>3550308</td>\n",
       "      <td>São Paulo/SP</td>\n",
       "      <td>13.618175</td>\n",
       "      <td>266715</td>\n",
       "      <td>105579</td>\n",
       "      <td>POLYGON ((345916.57 7386712.024, 345909.731 73...</td>\n",
       "      <td>8256</td>\n",
       "      <td>606.248652</td>\n",
       "    </tr>\n",
       "  </tbody>\n",
       "</table>\n",
       "</div>"
      ],
      "text/plain": [
       "     CD_MUN     NM_MUN    CD_DIST    NM_DIST CD_RGINT   NM_RGINT  CD_RGI  \\\n",
       "76  3550308  São Paulo  355030877      SAUDE     3501  São Paulo  350001   \n",
       "49  3550308  São Paulo  355030850      LIMAO     3501  São Paulo  350001   \n",
       "75  3550308  São Paulo  355030876  SAPOPEMBA     3501  São Paulo  350001   \n",
       "\n",
       "       NM_RGI CD_CONCURB    NM_CONCURB   AREA_KM2  total_pop total_dom  \\\n",
       "76  São Paulo    3550308  São Paulo/SP   9.237295     128469     65598   \n",
       "49  São Paulo    3550308  São Paulo/SP   6.410216      82373     35758   \n",
       "75  São Paulo    3550308  São Paulo/SP  13.618175     266715    105579   \n",
       "\n",
       "                                             geometry  qtd_arv_viario  \\\n",
       "76  POLYGON ((332835.435 7389140.186, 333003.906 7...           10953   \n",
       "49  POLYGON ((329252.593 7398526.75, 328918.838 73...            4514   \n",
       "75  POLYGON ((345916.57 7386712.024, 345909.731 73...            8256   \n",
       "\n",
       "       arv_km_2  \n",
       "76  1185.736708  \n",
       "49   704.188384  \n",
       "75   606.248652  "
      ]
     },
     "execution_count": 8,
     "metadata": {},
     "output_type": "execute_result"
    }
   ],
   "source": [
    "gdf_distrito_arv.sample(3)"
   ]
  },
  {
   "cell_type": "code",
   "execution_count": 9,
   "id": "6e388826-ee80-44df-b7e6-4ec3b5a56246",
   "metadata": {
    "scrolled": true
   },
   "outputs": [],
   "source": [
    "save_parquet_excel(\n",
    "    gdf_distrito_arv, \n",
    "    fname= 'dist_arv_km_2',\n",
    "    data_path = data_path,\n",
    "    data_subpath = join(\n",
    "        'assets',\n",
    "        'arborizacao_viaria'\n",
    "    )\n",
    ")"
   ]
  }
 ],
 "metadata": {
  "kernelspec": {
   "display_name": "Python 3 (ipykernel)",
   "language": "python",
   "name": "python3"
  },
  "language_info": {
   "codemirror_mode": {
    "name": "ipython",
    "version": 3
   },
   "file_extension": ".py",
   "mimetype": "text/x-python",
   "name": "python",
   "nbconvert_exporter": "python",
   "pygments_lexer": "ipython3",
   "version": "3.12.4"
  }
 },
 "nbformat": 4,
 "nbformat_minor": 5
}
