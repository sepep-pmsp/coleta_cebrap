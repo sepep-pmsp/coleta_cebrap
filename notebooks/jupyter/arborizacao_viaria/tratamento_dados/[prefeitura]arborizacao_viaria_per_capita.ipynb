{
 "cells": [
  {
   "cell_type": "code",
   "execution_count": 1,
   "id": "d580f998-208d-48bf-98d9-e3cf578635d0",
   "metadata": {},
   "outputs": [],
   "source": [
    "import sys\n",
    "import os\n",
    "diretorio_atual = os.getcwd()\n",
    "sys.path.append(os.path.join(\n",
    "    diretorio_atual, \n",
    "    '..', \n",
    "    '..'\n",
    "))\n",
    "import geopandas as gpd\n",
    "import pandas as pd\n",
    "from os.path import join\n",
    "\n",
    "from utils import (\n",
    "    save_parquet_excel,\n",
    "    diretorio,\n",
    "    get_data_diretorio,\n",
    ")\n",
    "    "
   ]
  },
  {
   "cell_type": "markdown",
   "id": "61c44bf9-95f8-4cb0-8b7e-81cbf0b7d53c",
   "metadata": {},
   "source": [
    "# Importar dados"
   ]
  },
  {
   "cell_type": "markdown",
   "id": "b5bcad15-6855-481b-a8fc-0315f3fa3110",
   "metadata": {},
   "source": [
    "Carregar o gdf anteriormente criado, durante o cálculo de quantidade de árvores no viário"
   ]
  },
  {
   "cell_type": "code",
   "execution_count": 2,
   "id": "db810e49-b0b0-4bf7-993c-a68ebd5a4a09",
   "metadata": {},
   "outputs": [],
   "source": [
    "project_path = diretorio(diretorio_atual)\n",
    "data_path = get_data_diretorio(diretorio_atual)"
   ]
  },
  {
   "cell_type": "code",
   "execution_count": 3,
   "id": "1d64e55d-1adc-4536-a93a-f8fcee7e60df",
   "metadata": {},
   "outputs": [],
   "source": [
    "dist_arv_path = join(\n",
    "    data_path,\n",
    "    'assets',\n",
    "    'arborizacao_viaria', \n",
    "    'qtd_distrito_arv_viario.parquet'\n",
    ")\n",
    "gdf_distrito_arv = gpd.read_parquet(\n",
    "    dist_arv_path\n",
    ")"
   ]
  },
  {
   "cell_type": "markdown",
   "id": "8f870857-c3ac-4a1f-801f-41b01899fa25",
   "metadata": {},
   "source": [
    "# Cálculo per capita"
   ]
  },
  {
   "cell_type": "markdown",
   "id": "2cb835d3-4284-4fa6-8ab9-fee1d240c6c5",
   "metadata": {},
   "source": [
    "Para saber quantas árvores no viário há, per capita, ou seja, por pessoa, precisamos dividir a quantidade de árvores pela de pessoas (qtd de árvores/qtd de pessoas):"
   ]
  },
  {
   "cell_type": "code",
   "execution_count": 4,
   "id": "e57e1fe2-a8b5-4993-b294-e0718b7ebaaf",
   "metadata": {},
   "outputs": [],
   "source": [
    "gdf_distrito_arv['arv_per_capita'] = (\n",
    "    gdf_distrito_arv['qtd_arv_viario']/gdf_distrito_arv['total_pop']\n",
    ")"
   ]
  },
  {
   "cell_type": "markdown",
   "id": "fe3d6240-1643-4f67-aabf-c56d5d5339c5",
   "metadata": {
    "jp-MarkdownHeadingCollapsed": true
   },
   "source": [
    "Já para ao município inteiro temos:"
   ]
  },
  {
   "cell_type": "code",
   "execution_count": 5,
   "id": "cb8f4055-e0d2-4993-92de-2985dc19b84b",
   "metadata": {},
   "outputs": [],
   "source": [
    "sp_pop = sum(gdf_distrito_arv['total_pop'])\n",
    "sp_arv_total = sum(gdf_distrito_arv['qtd_arv_viario'])\n",
    "sp_arv_per_capita= sp_arv_total/sp_pop"
   ]
  },
  {
   "cell_type": "code",
   "execution_count": 6,
   "id": "9ae0cbe0-9966-42c0-9f92-ea1935e96699",
   "metadata": {},
   "outputs": [
    {
     "name": "stdout",
     "output_type": "stream",
     "text": [
      "Em São Paulo há 11451999 pessoas e 652976 árvores no viário, totalizando aproximadamente 0.057 árvores per capita\n"
     ]
    }
   ],
   "source": [
    "print(f'Em São Paulo há {sp_pop} pessoas e {sp_arv_total} árvores no viário, totalizando aproximadamente {round((sp_arv_per_capita), 4)} árvores per capita')"
   ]
  },
  {
   "cell_type": "markdown",
   "id": "44aec47b-2abd-4edf-9246-07472fc09db4",
   "metadata": {},
   "source": [
    "# Salvar gdf"
   ]
  },
  {
   "cell_type": "code",
   "execution_count": 7,
   "id": "861888e6-8eab-4652-a9e5-29a561141b8d",
   "metadata": {},
   "outputs": [
    {
     "data": {
      "text/html": [
       "<div>\n",
       "<style scoped>\n",
       "    .dataframe tbody tr th:only-of-type {\n",
       "        vertical-align: middle;\n",
       "    }\n",
       "\n",
       "    .dataframe tbody tr th {\n",
       "        vertical-align: top;\n",
       "    }\n",
       "\n",
       "    .dataframe thead th {\n",
       "        text-align: right;\n",
       "    }\n",
       "</style>\n",
       "<table border=\"1\" class=\"dataframe\">\n",
       "  <thead>\n",
       "    <tr style=\"text-align: right;\">\n",
       "      <th></th>\n",
       "      <th>CD_REGIAO</th>\n",
       "      <th>NM_REGIAO</th>\n",
       "      <th>CD_UF</th>\n",
       "      <th>NM_UF</th>\n",
       "      <th>CD_MUN</th>\n",
       "      <th>NM_MUN</th>\n",
       "      <th>CD_DIST</th>\n",
       "      <th>NM_DIST</th>\n",
       "      <th>CD_RGINT</th>\n",
       "      <th>NM_RGINT</th>\n",
       "      <th>CD_RGI</th>\n",
       "      <th>NM_RGI</th>\n",
       "      <th>CD_CONCURB</th>\n",
       "      <th>NM_CONCURB</th>\n",
       "      <th>AREA_KM2</th>\n",
       "      <th>total_pop</th>\n",
       "      <th>total_dom</th>\n",
       "      <th>geometry</th>\n",
       "      <th>qtd_arv_viario</th>\n",
       "      <th>arv_per_capita</th>\n",
       "    </tr>\n",
       "  </thead>\n",
       "  <tbody>\n",
       "    <tr>\n",
       "      <th>80</th>\n",
       "      <td>3</td>\n",
       "      <td>Sudeste</td>\n",
       "      <td>35</td>\n",
       "      <td>São Paulo</td>\n",
       "      <td>3550308</td>\n",
       "      <td>São Paulo</td>\n",
       "      <td>355030881</td>\n",
       "      <td>TREMEMBE</td>\n",
       "      <td>3501</td>\n",
       "      <td>São Paulo</td>\n",
       "      <td>350001</td>\n",
       "      <td>São Paulo</td>\n",
       "      <td>3550308</td>\n",
       "      <td>São Paulo/SP</td>\n",
       "      <td>57.709814</td>\n",
       "      <td>196563</td>\n",
       "      <td>78219</td>\n",
       "      <td>POLYGON ((338977.39 7414197.122, 338983.98 741...</td>\n",
       "      <td>6990</td>\n",
       "      <td>0.035561</td>\n",
       "    </tr>\n",
       "    <tr>\n",
       "      <th>50</th>\n",
       "      <td>3</td>\n",
       "      <td>Sudeste</td>\n",
       "      <td>35</td>\n",
       "      <td>São Paulo</td>\n",
       "      <td>3550308</td>\n",
       "      <td>São Paulo</td>\n",
       "      <td>355030851</td>\n",
       "      <td>MANDAQUI</td>\n",
       "      <td>3501</td>\n",
       "      <td>São Paulo</td>\n",
       "      <td>350001</td>\n",
       "      <td>São Paulo</td>\n",
       "      <td>3550308</td>\n",
       "      <td>São Paulo/SP</td>\n",
       "      <td>13.202709</td>\n",
       "      <td>103665</td>\n",
       "      <td>45143</td>\n",
       "      <td>POLYGON ((332902.165 7405221.112, 332904.48 74...</td>\n",
       "      <td>5785</td>\n",
       "      <td>0.055805</td>\n",
       "    </tr>\n",
       "    <tr>\n",
       "      <th>56</th>\n",
       "      <td>3</td>\n",
       "      <td>Sudeste</td>\n",
       "      <td>35</td>\n",
       "      <td>São Paulo</td>\n",
       "      <td>3550308</td>\n",
       "      <td>São Paulo</td>\n",
       "      <td>355030857</td>\n",
       "      <td>PARQUE DO CARMO</td>\n",
       "      <td>3501</td>\n",
       "      <td>São Paulo</td>\n",
       "      <td>350001</td>\n",
       "      <td>São Paulo</td>\n",
       "      <td>3550308</td>\n",
       "      <td>São Paulo/SP</td>\n",
       "      <td>15.650945</td>\n",
       "      <td>74677</td>\n",
       "      <td>30378</td>\n",
       "      <td>POLYGON ((351246.547 7389761.772, 351233.56 73...</td>\n",
       "      <td>4398</td>\n",
       "      <td>0.058894</td>\n",
       "    </tr>\n",
       "  </tbody>\n",
       "</table>\n",
       "</div>"
      ],
      "text/plain": [
       "   CD_REGIAO NM_REGIAO CD_UF      NM_UF   CD_MUN     NM_MUN    CD_DIST  \\\n",
       "80         3   Sudeste    35  São Paulo  3550308  São Paulo  355030881   \n",
       "50         3   Sudeste    35  São Paulo  3550308  São Paulo  355030851   \n",
       "56         3   Sudeste    35  São Paulo  3550308  São Paulo  355030857   \n",
       "\n",
       "            NM_DIST CD_RGINT   NM_RGINT  CD_RGI     NM_RGI CD_CONCURB  \\\n",
       "80         TREMEMBE     3501  São Paulo  350001  São Paulo    3550308   \n",
       "50         MANDAQUI     3501  São Paulo  350001  São Paulo    3550308   \n",
       "56  PARQUE DO CARMO     3501  São Paulo  350001  São Paulo    3550308   \n",
       "\n",
       "      NM_CONCURB   AREA_KM2  total_pop total_dom  \\\n",
       "80  São Paulo/SP  57.709814     196563     78219   \n",
       "50  São Paulo/SP  13.202709     103665     45143   \n",
       "56  São Paulo/SP  15.650945      74677     30378   \n",
       "\n",
       "                                             geometry  qtd_arv_viario  \\\n",
       "80  POLYGON ((338977.39 7414197.122, 338983.98 741...            6990   \n",
       "50  POLYGON ((332902.165 7405221.112, 332904.48 74...            5785   \n",
       "56  POLYGON ((351246.547 7389761.772, 351233.56 73...            4398   \n",
       "\n",
       "    arv_per_capita  \n",
       "80        0.035561  \n",
       "50        0.055805  \n",
       "56        0.058894  "
      ]
     },
     "execution_count": 7,
     "metadata": {},
     "output_type": "execute_result"
    }
   ],
   "source": [
    "gdf_distrito_arv.sample(3)"
   ]
  },
  {
   "cell_type": "code",
   "execution_count": 8,
   "id": "6e388826-ee80-44df-b7e6-4ec3b5a56246",
   "metadata": {
    "scrolled": true
   },
   "outputs": [],
   "source": [
    "save_parquet_excel(\n",
    "    gdf_distrito_arv, \n",
    "    fname= 'distrito_arv_viario_per_capita',\n",
    "    data_path = data_path,\n",
    "    data_subpath = join(\n",
    "        'assets',\n",
    "        'arborizacao_viaria'\n",
    "    )\n",
    ")"
   ]
  }
 ],
 "metadata": {
  "kernelspec": {
   "display_name": "Python 3 (ipykernel)",
   "language": "python",
   "name": "python3"
  },
  "language_info": {
   "codemirror_mode": {
    "name": "ipython",
    "version": 3
   },
   "file_extension": ".py",
   "mimetype": "text/x-python",
   "name": "python",
   "nbconvert_exporter": "python",
   "pygments_lexer": "ipython3",
   "version": "3.12.4"
  }
 },
 "nbformat": 4,
 "nbformat_minor": 5
}
