{
 "cells": [
  {
   "cell_type": "code",
   "execution_count": 1,
   "id": "34e4afed-cea7-4a4f-b7e6-d91d41093723",
   "metadata": {},
   "outputs": [
    {
     "name": "stdout",
     "output_type": "stream",
     "text": [
      "O diretorio do seu projeto é coleta_cebrap\n",
      "Caminho absoluto do diretorio encontrado C:\\Users\\x526378\\Desktop\\projetos\\cebrap\\coleta_cebrap\n",
      "Caminho no path.\n"
     ]
    }
   ],
   "source": [
    "from configuracoes_notebooks import set_proj_dir\n",
    "set_proj_dir()"
   ]
  },
  {
   "cell_type": "code",
   "execution_count": 2,
   "id": "d580f998-208d-48bf-98d9-e3cf578635d0",
   "metadata": {},
   "outputs": [],
   "source": [
    "import geopandas as gpd\n",
    "import pandas as pd\n",
    "from os.path import join\n",
    "\n",
    "from notebooks.jupyter.utils import (\n",
    "    save_parquet_excel,\n",
    "    diretorio,\n",
    "    get_data_diretorio,\n",
    ")\n",
    "    "
   ]
  },
  {
   "cell_type": "code",
   "execution_count": 3,
   "id": "db810e49-b0b0-4bf7-993c-a68ebd5a4a09",
   "metadata": {},
   "outputs": [],
   "source": [
    "data_path = get_data_diretorio()"
   ]
  },
  {
   "cell_type": "markdown",
   "id": "61c44bf9-95f8-4cb0-8b7e-81cbf0b7d53c",
   "metadata": {},
   "source": [
    "# Dependências"
   ]
  },
  {
   "cell_type": "markdown",
   "id": "b5bcad15-6855-481b-a8fc-0315f3fa3110",
   "metadata": {},
   "source": [
    "Carregar o gdf anteriormente criado, durante o cálculo de quantidade de árvores no viário"
   ]
  },
  {
   "cell_type": "code",
   "execution_count": 4,
   "id": "1d64e55d-1adc-4536-a93a-f8fcee7e60df",
   "metadata": {},
   "outputs": [],
   "source": [
    "dist_arv_path = join(\n",
    "    data_path,\n",
    "    'assets',\n",
    "    'arborizacao_viaria', \n",
    "    'qtd_distrito_arv_viario.parquet'\n",
    ")\n",
    "gdf_distrito_arv = gpd.read_parquet(\n",
    "    dist_arv_path\n",
    ")"
   ]
  },
  {
   "cell_type": "markdown",
   "id": "8f870857-c3ac-4a1f-801f-41b01899fa25",
   "metadata": {},
   "source": [
    "# Cálculo per capita"
   ]
  },
  {
   "cell_type": "markdown",
   "id": "2cb835d3-4284-4fa6-8ab9-fee1d240c6c5",
   "metadata": {},
   "source": [
    "Para saber quantas árvores no viário há, per capita, ou seja, por pessoa, precisamos dividir a quantidade de árvores pela de pessoas (qtd de árvores/qtd de pessoas):"
   ]
  },
  {
   "cell_type": "code",
   "execution_count": 5,
   "id": "e57e1fe2-a8b5-4993-b294-e0718b7ebaaf",
   "metadata": {},
   "outputs": [],
   "source": [
    "gdf_distrito_arv['arv_per_capita'] = (\n",
    "    gdf_distrito_arv['qtd_arv_viario']/gdf_distrito_arv['total_pop']\n",
    ")"
   ]
  },
  {
   "cell_type": "markdown",
   "id": "fe3d6240-1643-4f67-aabf-c56d5d5339c5",
   "metadata": {
    "jp-MarkdownHeadingCollapsed": true
   },
   "source": [
    "Já para ao município inteiro temos:"
   ]
  },
  {
   "cell_type": "code",
   "execution_count": 6,
   "id": "cb8f4055-e0d2-4993-92de-2985dc19b84b",
   "metadata": {},
   "outputs": [],
   "source": [
    "sp_pop = sum(gdf_distrito_arv['total_pop'])\n",
    "sp_arv_total = sum(gdf_distrito_arv['qtd_arv_viario'])\n",
    "sp_arv_per_capita= sp_arv_total/sp_pop"
   ]
  },
  {
   "cell_type": "code",
   "execution_count": 7,
   "id": "9ae0cbe0-9966-42c0-9f92-ea1935e96699",
   "metadata": {},
   "outputs": [
    {
     "name": "stdout",
     "output_type": "stream",
     "text": [
      "Em São Paulo há 11451999 pessoas e 652976 árvores no viário, totalizando aproximadamente 0.057 árvores per capita\n"
     ]
    }
   ],
   "source": [
    "print(f'Em São Paulo há {sp_pop} pessoas e {sp_arv_total} árvores no viário, totalizando aproximadamente {round((sp_arv_per_capita), 4)} árvores per capita')"
   ]
  },
  {
   "cell_type": "markdown",
   "id": "44aec47b-2abd-4edf-9246-07472fc09db4",
   "metadata": {},
   "source": [
    "# Salvar gdf"
   ]
  },
  {
   "cell_type": "code",
   "execution_count": 8,
   "id": "861888e6-8eab-4652-a9e5-29a561141b8d",
   "metadata": {},
   "outputs": [
    {
     "data": {
      "text/html": [
       "<div>\n",
       "<style scoped>\n",
       "    .dataframe tbody tr th:only-of-type {\n",
       "        vertical-align: middle;\n",
       "    }\n",
       "\n",
       "    .dataframe tbody tr th {\n",
       "        vertical-align: top;\n",
       "    }\n",
       "\n",
       "    .dataframe thead th {\n",
       "        text-align: right;\n",
       "    }\n",
       "</style>\n",
       "<table border=\"1\" class=\"dataframe\">\n",
       "  <thead>\n",
       "    <tr style=\"text-align: right;\">\n",
       "      <th></th>\n",
       "      <th>CD_MUN</th>\n",
       "      <th>NM_MUN</th>\n",
       "      <th>CD_DIST</th>\n",
       "      <th>NM_DIST</th>\n",
       "      <th>CD_RGINT</th>\n",
       "      <th>NM_RGINT</th>\n",
       "      <th>CD_RGI</th>\n",
       "      <th>NM_RGI</th>\n",
       "      <th>CD_CONCURB</th>\n",
       "      <th>NM_CONCURB</th>\n",
       "      <th>AREA_KM2</th>\n",
       "      <th>total_pop</th>\n",
       "      <th>total_dom</th>\n",
       "      <th>geometry</th>\n",
       "      <th>qtd_arv_viario</th>\n",
       "      <th>arv_per_capita</th>\n",
       "    </tr>\n",
       "  </thead>\n",
       "  <tbody>\n",
       "    <tr>\n",
       "      <th>44</th>\n",
       "      <td>3550308</td>\n",
       "      <td>São Paulo</td>\n",
       "      <td>355030845</td>\n",
       "      <td>JARDIM PAULISTA</td>\n",
       "      <td>3501</td>\n",
       "      <td>São Paulo</td>\n",
       "      <td>350001</td>\n",
       "      <td>São Paulo</td>\n",
       "      <td>3550308</td>\n",
       "      <td>São Paulo/SP</td>\n",
       "      <td>6.252253</td>\n",
       "      <td>81859</td>\n",
       "      <td>52762</td>\n",
       "      <td>POLYGON ((331457.96 7392387.166, 331375.025 73...</td>\n",
       "      <td>9665</td>\n",
       "      <td>0.118069</td>\n",
       "    </tr>\n",
       "    <tr>\n",
       "      <th>26</th>\n",
       "      <td>3550308</td>\n",
       "      <td>São Paulo</td>\n",
       "      <td>355030827</td>\n",
       "      <td>CURSINO</td>\n",
       "      <td>3501</td>\n",
       "      <td>São Paulo</td>\n",
       "      <td>350001</td>\n",
       "      <td>São Paulo</td>\n",
       "      <td>3550308</td>\n",
       "      <td>São Paulo/SP</td>\n",
       "      <td>12.060052</td>\n",
       "      <td>103171</td>\n",
       "      <td>46155</td>\n",
       "      <td>POLYGON ((335822.146 7385759.521, 335833.043 7...</td>\n",
       "      <td>7363</td>\n",
       "      <td>0.071367</td>\n",
       "    </tr>\n",
       "    <tr>\n",
       "      <th>25</th>\n",
       "      <td>3550308</td>\n",
       "      <td>São Paulo</td>\n",
       "      <td>355030826</td>\n",
       "      <td>CONSOLACAO</td>\n",
       "      <td>3501</td>\n",
       "      <td>São Paulo</td>\n",
       "      <td>350001</td>\n",
       "      <td>São Paulo</td>\n",
       "      <td>3550308</td>\n",
       "      <td>São Paulo/SP</td>\n",
       "      <td>3.786948</td>\n",
       "      <td>53144</td>\n",
       "      <td>35777</td>\n",
       "      <td>POLYGON ((331116.481 7395552.671, 331137.408 7...</td>\n",
       "      <td>4895</td>\n",
       "      <td>0.092108</td>\n",
       "    </tr>\n",
       "  </tbody>\n",
       "</table>\n",
       "</div>"
      ],
      "text/plain": [
       "     CD_MUN     NM_MUN    CD_DIST          NM_DIST CD_RGINT   NM_RGINT  \\\n",
       "44  3550308  São Paulo  355030845  JARDIM PAULISTA     3501  São Paulo   \n",
       "26  3550308  São Paulo  355030827          CURSINO     3501  São Paulo   \n",
       "25  3550308  São Paulo  355030826       CONSOLACAO     3501  São Paulo   \n",
       "\n",
       "    CD_RGI     NM_RGI CD_CONCURB    NM_CONCURB   AREA_KM2  total_pop  \\\n",
       "44  350001  São Paulo    3550308  São Paulo/SP   6.252253      81859   \n",
       "26  350001  São Paulo    3550308  São Paulo/SP  12.060052     103171   \n",
       "25  350001  São Paulo    3550308  São Paulo/SP   3.786948      53144   \n",
       "\n",
       "   total_dom                                           geometry  \\\n",
       "44     52762  POLYGON ((331457.96 7392387.166, 331375.025 73...   \n",
       "26     46155  POLYGON ((335822.146 7385759.521, 335833.043 7...   \n",
       "25     35777  POLYGON ((331116.481 7395552.671, 331137.408 7...   \n",
       "\n",
       "    qtd_arv_viario  arv_per_capita  \n",
       "44            9665        0.118069  \n",
       "26            7363        0.071367  \n",
       "25            4895        0.092108  "
      ]
     },
     "execution_count": 8,
     "metadata": {},
     "output_type": "execute_result"
    }
   ],
   "source": [
    "gdf_distrito_arv.sample(3)"
   ]
  },
  {
   "cell_type": "code",
   "execution_count": 9,
   "id": "6e388826-ee80-44df-b7e6-4ec3b5a56246",
   "metadata": {
    "scrolled": true
   },
   "outputs": [],
   "source": [
    "save_parquet_excel(\n",
    "    gdf_distrito_arv, \n",
    "    fname= 'distrito_arv_viario_per_capita',\n",
    "    data_path = data_path,\n",
    "    data_subpath = join(\n",
    "        'assets',\n",
    "        'arborizacao_viaria'\n",
    "    )\n",
    ")"
   ]
  }
 ],
 "metadata": {
  "kernelspec": {
   "display_name": "Python 3 (ipykernel)",
   "language": "python",
   "name": "python3"
  },
  "language_info": {
   "codemirror_mode": {
    "name": "ipython",
    "version": 3
   },
   "file_extension": ".py",
   "mimetype": "text/x-python",
   "name": "python",
   "nbconvert_exporter": "python",
   "pygments_lexer": "ipython3",
   "version": "3.12.4"
  }
 },
 "nbformat": 4,
 "nbformat_minor": 5
}
