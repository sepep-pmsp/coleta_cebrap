{
 "cells": [
  {
   "cell_type": "code",
   "execution_count": 1,
   "id": "be83ee45-2cb8-4797-a03a-02fce491717b",
   "metadata": {},
   "outputs": [
    {
     "name": "stdout",
     "output_type": "stream",
     "text": [
      "C:\\Users\\x526378\\Desktop\\projetos\\cebrap\\coleta_cebrap\\notebooks\n"
     ]
    }
   ],
   "source": [
    "import sys\n",
    "import os\n",
    "diretorio_atual = os.getcwd()\n",
    "sys.path.append(os.path.join(diretorio_atual, '..', '..'))\n",
    "\n",
    "import geopandas as gpd\n",
    "import pandas as pd\n",
    "import os\n",
    "from os.path import join\n",
    "\n",
    "from utils import (\n",
    "    save_parquet,\n",
    ")\n",
    "from utils.downloads import(\n",
    "    download_malha_geosampa,\n",
    ")"
   ]
  },
  {
   "cell_type": "markdown",
   "id": "fb30b4ad-4907-4237-811a-5802ca71e9a7",
   "metadata": {},
   "source": [
    "# Arborização Viária"
   ]
  },
  {
   "cell_type": "markdown",
   "id": "f5a3a59c-4a65-4b3a-b34e-befaa6828484",
   "metadata": {},
   "source": [
    "## Importar dados "
   ]
  },
  {
   "cell_type": "code",
   "execution_count": 2,
   "id": "21fcf344-f500-4599-8c15-601a313b2db7",
   "metadata": {},
   "outputs": [
    {
     "data": {
      "text/plain": [
       "'C:\\\\Users\\\\x526378\\\\Desktop\\\\projetos\\\\cebrap\\\\coleta_cebrap\\\\notebooks\\\\jupyter\\\\dependencies'"
      ]
     },
     "execution_count": 2,
     "metadata": {},
     "output_type": "execute_result"
    }
   ],
   "source": [
    "diretorio_atual2 = os.getcwd()\n",
    "diretorio_atual2"
   ]
  },
  {
   "cell_type": "code",
   "execution_count": 3,
   "id": "db810e49-b0b0-4bf7-993c-a68ebd5a4a09",
   "metadata": {},
   "outputs": [
    {
     "data": {
      "text/plain": [
       "'C:\\\\Users\\\\x526378\\\\Desktop\\\\projetos\\\\cebrap\\\\coleta_cebrap\\\\notebooks\\\\data'"
      ]
     },
     "execution_count": 3,
     "metadata": {},
     "output_type": "execute_result"
    }
   ],
   "source": [
    "project_path = os.path.abspath(os.path.join(os.getcwd(), '..', '..'))\n",
    "data_path = os.path.join(project_path, 'data')\n",
    "data_path"
   ]
  },
  {
   "cell_type": "code",
   "execution_count": 4,
   "id": "bb170e61-75a5-4bd1-9115-e07c3eed3ef4",
   "metadata": {},
   "outputs": [
    {
     "name": "stdout",
     "output_type": "stream",
     "text": [
      "Carregando arquivo em cache\n"
     ]
    }
   ],
   "source": [
    "cache_path = join(data_path, 'cache', 'arvore_concat.parquet')\n",
    "if os.path.exists(cache_path):\n",
    "    print('Carregando arquivo em cache')\n",
    "    gdf_arvore = gpd.read_parquet(cache_path)\n",
    "else:\n",
    "    gdf_arvore = download_malha_geosampa('arvore', True)"
   ]
  },
  {
   "cell_type": "code",
   "execution_count": 5,
   "id": "3aa3b0ba-749d-4650-8807-3bafa96d85d1",
   "metadata": {},
   "outputs": [
    {
     "data": {
      "text/plain": [
       "(652976, 22)"
      ]
     },
     "execution_count": 5,
     "metadata": {},
     "output_type": "execute_result"
    }
   ],
   "source": [
    "gdf_arvore.shape"
   ]
  },
  {
   "cell_type": "code",
   "execution_count": 6,
   "id": "c0c2105d-bf2d-4521-bf81-8dc7a570019d",
   "metadata": {},
   "outputs": [
    {
     "data": {
      "text/html": [
       "<div>\n",
       "<style scoped>\n",
       "    .dataframe tbody tr th:only-of-type {\n",
       "        vertical-align: middle;\n",
       "    }\n",
       "\n",
       "    .dataframe tbody tr th {\n",
       "        vertical-align: top;\n",
       "    }\n",
       "\n",
       "    .dataframe thead th {\n",
       "        text-align: right;\n",
       "    }\n",
       "</style>\n",
       "<table border=\"1\" class=\"dataframe\">\n",
       "  <thead>\n",
       "    <tr style=\"text-align: right;\">\n",
       "      <th></th>\n",
       "      <th>cd_identif</th>\n",
       "      <th>nm_vulgar_</th>\n",
       "      <th>dc_nm_popu</th>\n",
       "      <th>cd_especie</th>\n",
       "      <th>dc_especie</th>\n",
       "      <th>cd_identi0</th>\n",
       "      <th>cd_tipo_po</th>\n",
       "      <th>dc_tipo_po</th>\n",
       "      <th>qt_diametr</th>\n",
       "      <th>qt_altura_</th>\n",
       "      <th>...</th>\n",
       "      <th>dc_tipo_es</th>\n",
       "      <th>nm_logrado</th>\n",
       "      <th>nr_logrado</th>\n",
       "      <th>sg_distrit</th>\n",
       "      <th>nm_distrit</th>\n",
       "      <th>nm_subpref</th>\n",
       "      <th>cd_inspeca</th>\n",
       "      <th>dt_inspeca</th>\n",
       "      <th>dt_atualiz</th>\n",
       "      <th>geometry</th>\n",
       "    </tr>\n",
       "  </thead>\n",
       "  <tbody>\n",
       "    <tr>\n",
       "      <th>365557</th>\n",
       "      <td>42834</td>\n",
       "      <td>None</td>\n",
       "      <td>None</td>\n",
       "      <td>NaN</td>\n",
       "      <td>None</td>\n",
       "      <td>None</td>\n",
       "      <td>NaN</td>\n",
       "      <td>None</td>\n",
       "      <td>NaN</td>\n",
       "      <td>NaN</td>\n",
       "      <td>...</td>\n",
       "      <td>None</td>\n",
       "      <td>None</td>\n",
       "      <td>NaN</td>\n",
       "      <td>SAC</td>\n",
       "      <td>SACOMA</td>\n",
       "      <td>IPIRANGA</td>\n",
       "      <td>NaN</td>\n",
       "      <td>NaT</td>\n",
       "      <td>NaT</td>\n",
       "      <td>POINT (338053.659 7384647.408)</td>\n",
       "    </tr>\n",
       "    <tr>\n",
       "      <th>578666</th>\n",
       "      <td>620122</td>\n",
       "      <td>None</td>\n",
       "      <td>None</td>\n",
       "      <td>NaN</td>\n",
       "      <td>None</td>\n",
       "      <td>None</td>\n",
       "      <td>NaN</td>\n",
       "      <td>None</td>\n",
       "      <td>NaN</td>\n",
       "      <td>NaN</td>\n",
       "      <td>...</td>\n",
       "      <td>None</td>\n",
       "      <td>None</td>\n",
       "      <td>NaN</td>\n",
       "      <td>API</td>\n",
       "      <td>ALTO DE PINHEIROS</td>\n",
       "      <td>PINHEIROS</td>\n",
       "      <td>NaN</td>\n",
       "      <td>NaT</td>\n",
       "      <td>NaT</td>\n",
       "      <td>POINT (325946.426 7394428.437)</td>\n",
       "    </tr>\n",
       "    <tr>\n",
       "      <th>34509</th>\n",
       "      <td>130385</td>\n",
       "      <td>None</td>\n",
       "      <td>None</td>\n",
       "      <td>NaN</td>\n",
       "      <td>None</td>\n",
       "      <td>None</td>\n",
       "      <td>NaN</td>\n",
       "      <td>None</td>\n",
       "      <td>NaN</td>\n",
       "      <td>NaN</td>\n",
       "      <td>...</td>\n",
       "      <td>None</td>\n",
       "      <td>None</td>\n",
       "      <td>NaN</td>\n",
       "      <td>LAP</td>\n",
       "      <td>LAPA</td>\n",
       "      <td>LAPA</td>\n",
       "      <td>NaN</td>\n",
       "      <td>NaT</td>\n",
       "      <td>NaT</td>\n",
       "      <td>POINT (324584.161 7396216.685)</td>\n",
       "    </tr>\n",
       "  </tbody>\n",
       "</table>\n",
       "<p>3 rows × 22 columns</p>\n",
       "</div>"
      ],
      "text/plain": [
       "       cd_identif nm_vulgar_ dc_nm_popu  cd_especie dc_especie cd_identi0  \\\n",
       "365557      42834       None       None         NaN       None       None   \n",
       "578666     620122       None       None         NaN       None       None   \n",
       "34509      130385       None       None         NaN       None       None   \n",
       "\n",
       "        cd_tipo_po dc_tipo_po  qt_diametr  qt_altura_  ...  dc_tipo_es  \\\n",
       "365557         NaN       None         NaN         NaN  ...        None   \n",
       "578666         NaN       None         NaN         NaN  ...        None   \n",
       "34509          NaN       None         NaN         NaN  ...        None   \n",
       "\n",
       "        nm_logrado nr_logrado sg_distrit         nm_distrit nm_subpref  \\\n",
       "365557        None        NaN        SAC             SACOMA   IPIRANGA   \n",
       "578666        None        NaN        API  ALTO DE PINHEIROS  PINHEIROS   \n",
       "34509         None        NaN        LAP               LAPA       LAPA   \n",
       "\n",
       "       cd_inspeca dt_inspeca  dt_atualiz                        geometry  \n",
       "365557        NaN        NaT         NaT  POINT (338053.659 7384647.408)  \n",
       "578666        NaN        NaT         NaT  POINT (325946.426 7394428.437)  \n",
       "34509         NaN        NaT         NaT  POINT (324584.161 7396216.685)  \n",
       "\n",
       "[3 rows x 22 columns]"
      ]
     },
     "execution_count": 6,
     "metadata": {},
     "output_type": "execute_result"
    }
   ],
   "source": [
    "gdf_arvore.sample(3)"
   ]
  },
  {
   "cell_type": "markdown",
   "id": "144d7a11-c42a-4bb6-839b-b4debf503b5f",
   "metadata": {},
   "source": [
    "## Padronizaçã de colunas"
   ]
  },
  {
   "cell_type": "markdown",
   "id": "f119a089-5eda-47c5-992e-e8b7938dcef7",
   "metadata": {},
   "source": [
    "Originalmente, muitas das colunas dos gdfs que serão interseccionados têm nomes repetidos, ou estavam vazias. Para que isso não faça com que a análise das tabelas seja confusa, apagaremos as colunas que julgadas desnecessárias, e renomearemos as necessárias."
   ]
  },
  {
   "cell_type": "code",
   "execution_count": 7,
   "id": "e44fcc3a-30d7-40a7-a227-3211fffe017f",
   "metadata": {},
   "outputs": [],
   "source": [
    "drop_arvore_cols = {\n",
    "    'nm_vulgar_', \n",
    "    'dc_nm_popu', \n",
    "    'cd_especie', \n",
    "    'dc_especie',\n",
    "    'cd_identi0', \n",
    "    'cd_tipo_po', \n",
    "    'dc_tipo_po', \n",
    "    'qt_diametr', \n",
    "    'qt_altura_',\n",
    "    'qt_diamet0', \n",
    "    'cd_tipo_es', \n",
    "    'dc_tipo_es', \n",
    "    'nm_logrado', \n",
    "    'nr_logrado',\n",
    "    'cd_inspeca',\n",
    "    'dt_inspeca',\n",
    "    'dt_atualiz'\n",
    "}\n",
    "\n",
    "gdf_arvore.drop(columns=drop_arvore_cols, axis=1, inplace=True)"
   ]
  },
  {
   "cell_type": "code",
   "execution_count": 8,
   "id": "13a4a0e1-b036-4ad9-81a0-5dc9d3525345",
   "metadata": {},
   "outputs": [],
   "source": [
    "rename_arvore_cols = {\n",
    "    'sg_distrit' : 'sg_dist_arv', \n",
    "    'nm_distrit' : 'nm_dist_arv'\n",
    "}\n",
    "\n",
    "gdf_arvore.rename(rename_arvore_cols, axis=1, inplace=True)"
   ]
  },
  {
   "cell_type": "markdown",
   "id": "82daabc2-6a8f-47a0-813e-80b881d45462",
   "metadata": {},
   "source": [
    "## Salvar GDF"
   ]
  },
  {
   "cell_type": "code",
   "execution_count": 9,
   "id": "6e388826-ee80-44df-b7e6-4ec3b5a56246",
   "metadata": {},
   "outputs": [],
   "source": [
    "save_parquet(\n",
    "    gdf_arvore, \n",
    "    'malha_arborizacao_viaria',\n",
    "    data_subpath='assets' \n",
    ")"
   ]
  },
  {
   "cell_type": "code",
   "execution_count": 10,
   "id": "28c5c92d-4b6c-46dc-8c21-d8f01f9da833",
   "metadata": {},
   "outputs": [
    {
     "data": {
      "text/html": [
       "<div>\n",
       "<style scoped>\n",
       "    .dataframe tbody tr th:only-of-type {\n",
       "        vertical-align: middle;\n",
       "    }\n",
       "\n",
       "    .dataframe tbody tr th {\n",
       "        vertical-align: top;\n",
       "    }\n",
       "\n",
       "    .dataframe thead th {\n",
       "        text-align: right;\n",
       "    }\n",
       "</style>\n",
       "<table border=\"1\" class=\"dataframe\">\n",
       "  <thead>\n",
       "    <tr style=\"text-align: right;\">\n",
       "      <th></th>\n",
       "      <th>cd_identif</th>\n",
       "      <th>sg_dist_arv</th>\n",
       "      <th>nm_dist_arv</th>\n",
       "      <th>nm_subpref</th>\n",
       "      <th>geometry</th>\n",
       "    </tr>\n",
       "  </thead>\n",
       "  <tbody>\n",
       "    <tr>\n",
       "      <th>479375</th>\n",
       "      <td>530771</td>\n",
       "      <td>CAD</td>\n",
       "      <td>CIDADE ADEMAR</td>\n",
       "      <td>CIDADE ADEMAR</td>\n",
       "      <td>POINT (330269.527 7381725.555)</td>\n",
       "    </tr>\n",
       "    <tr>\n",
       "      <th>466156</th>\n",
       "      <td>518877</td>\n",
       "      <td>JAB</td>\n",
       "      <td>JABAQUARA</td>\n",
       "      <td>JABAQUARA</td>\n",
       "      <td>POINT (332558.759 7385221.963)</td>\n",
       "    </tr>\n",
       "    <tr>\n",
       "      <th>413265</th>\n",
       "      <td>471276</td>\n",
       "      <td>VSO</td>\n",
       "      <td>VILA SONIA</td>\n",
       "      <td>BUTANTA</td>\n",
       "      <td>POINT (321729.715 7388641.233)</td>\n",
       "    </tr>\n",
       "  </tbody>\n",
       "</table>\n",
       "</div>"
      ],
      "text/plain": [
       "       cd_identif sg_dist_arv    nm_dist_arv     nm_subpref  \\\n",
       "479375     530771         CAD  CIDADE ADEMAR  CIDADE ADEMAR   \n",
       "466156     518877         JAB      JABAQUARA      JABAQUARA   \n",
       "413265     471276         VSO     VILA SONIA        BUTANTA   \n",
       "\n",
       "                              geometry  \n",
       "479375  POINT (330269.527 7381725.555)  \n",
       "466156  POINT (332558.759 7385221.963)  \n",
       "413265  POINT (321729.715 7388641.233)  "
      ]
     },
     "execution_count": 10,
     "metadata": {},
     "output_type": "execute_result"
    }
   ],
   "source": [
    "gdf_arvore.sample(3)"
   ]
  }
 ],
 "metadata": {
  "kernelspec": {
   "display_name": "Python 3 (ipykernel)",
   "language": "python",
   "name": "python3"
  },
  "language_info": {
   "codemirror_mode": {
    "name": "ipython",
    "version": 3
   },
   "file_extension": ".py",
   "mimetype": "text/x-python",
   "name": "python",
   "nbconvert_exporter": "python",
   "pygments_lexer": "ipython3",
   "version": "3.12.4"
  }
 },
 "nbformat": 4,
 "nbformat_minor": 5
}
