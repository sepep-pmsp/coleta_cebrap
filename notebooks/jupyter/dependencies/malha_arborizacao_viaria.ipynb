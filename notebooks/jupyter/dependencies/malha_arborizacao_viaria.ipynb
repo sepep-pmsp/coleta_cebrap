{
 "cells": [
  {
   "cell_type": "code",
   "execution_count": 1,
   "id": "be83ee45-2cb8-4797-a03a-02fce491717b",
   "metadata": {},
   "outputs": [
    {
     "name": "stdout",
     "output_type": "stream",
     "text": [
      "D:\\Documentos_Novo\\ADPPSP\\2024\\cebrap\\coleta_cebrap\\notebooks\n"
     ]
    }
   ],
   "source": [
    "import sys\n",
    "import os\n",
    "diretorio_atual = os.getcwd()\n",
    "sys.path.append(os.path.join(\n",
    "    diretorio_atual, \n",
    "    '..', \n",
    "    '..'\n",
    "))\n",
    "\n",
    "import geopandas as gpd\n",
    "import pandas as pd\n",
    "import os\n",
    "from os.path import join\n",
    "\n",
    "from utils import (\n",
    "    save_parquet,\n",
    "    check_crs,\n",
    ")\n",
    "from utils.downloads import(\n",
    "    download_malha_geosampa,\n",
    ")\n"
   ]
  },
  {
   "cell_type": "markdown",
   "id": "fb30b4ad-4907-4237-811a-5802ca71e9a7",
   "metadata": {},
   "source": [
    "# Arborização Viária"
   ]
  },
  {
   "cell_type": "markdown",
   "id": "f5a3a59c-4a65-4b3a-b34e-befaa6828484",
   "metadata": {},
   "source": [
    "## Importar dados "
   ]
  },
  {
   "cell_type": "code",
   "execution_count": 2,
   "id": "db810e49-b0b0-4bf7-993c-a68ebd5a4a09",
   "metadata": {},
   "outputs": [],
   "source": [
    "project_path = os.path.abspath(os.path.join(os.getcwd(), '..', '..'))\n",
    "data_path = os.path.join(project_path, 'data')"
   ]
  },
  {
   "cell_type": "code",
   "execution_count": 3,
   "id": "bb170e61-75a5-4bd1-9115-e07c3eed3ef4",
   "metadata": {},
   "outputs": [
    {
     "name": "stdout",
     "output_type": "stream",
     "text": [
      "Carregando arquivo em cache\n"
     ]
    }
   ],
   "source": [
    "cache_path = join(data_path, 'cache', 'arvore_concat.parquet')\n",
    "if os.path.exists(cache_path):\n",
    "    print('Carregando arquivo em cache')\n",
    "    gdf_arvore = gpd.read_parquet(cache_path)\n",
    "else:\n",
    "    gdf_arvore = download_malha_geosampa('arvore', True)"
   ]
  },
  {
   "cell_type": "code",
   "execution_count": 4,
   "id": "3aa3b0ba-749d-4650-8807-3bafa96d85d1",
   "metadata": {},
   "outputs": [
    {
     "data": {
      "text/plain": [
       "(652976, 22)"
      ]
     },
     "execution_count": 4,
     "metadata": {},
     "output_type": "execute_result"
    }
   ],
   "source": [
    "gdf_arvore.shape"
   ]
  },
  {
   "cell_type": "code",
   "execution_count": 5,
   "id": "c0c2105d-bf2d-4521-bf81-8dc7a570019d",
   "metadata": {},
   "outputs": [
    {
     "data": {
      "text/html": [
       "<div>\n",
       "<style scoped>\n",
       "    .dataframe tbody tr th:only-of-type {\n",
       "        vertical-align: middle;\n",
       "    }\n",
       "\n",
       "    .dataframe tbody tr th {\n",
       "        vertical-align: top;\n",
       "    }\n",
       "\n",
       "    .dataframe thead th {\n",
       "        text-align: right;\n",
       "    }\n",
       "</style>\n",
       "<table border=\"1\" class=\"dataframe\">\n",
       "  <thead>\n",
       "    <tr style=\"text-align: right;\">\n",
       "      <th></th>\n",
       "      <th>cd_identif</th>\n",
       "      <th>nm_vulgar_</th>\n",
       "      <th>dc_nm_popu</th>\n",
       "      <th>cd_especie</th>\n",
       "      <th>dc_especie</th>\n",
       "      <th>cd_identi0</th>\n",
       "      <th>cd_tipo_po</th>\n",
       "      <th>dc_tipo_po</th>\n",
       "      <th>qt_diametr</th>\n",
       "      <th>qt_altura_</th>\n",
       "      <th>...</th>\n",
       "      <th>dc_tipo_es</th>\n",
       "      <th>nm_logrado</th>\n",
       "      <th>nr_logrado</th>\n",
       "      <th>sg_distrit</th>\n",
       "      <th>nm_distrit</th>\n",
       "      <th>nm_subpref</th>\n",
       "      <th>cd_inspeca</th>\n",
       "      <th>dt_inspeca</th>\n",
       "      <th>dt_atualiz</th>\n",
       "      <th>geometry</th>\n",
       "    </tr>\n",
       "  </thead>\n",
       "  <tbody>\n",
       "    <tr>\n",
       "      <th>335687</th>\n",
       "      <td>401457</td>\n",
       "      <td>None</td>\n",
       "      <td>None</td>\n",
       "      <td>NaN</td>\n",
       "      <td>None</td>\n",
       "      <td>None</td>\n",
       "      <td>NaN</td>\n",
       "      <td>None</td>\n",
       "      <td>NaN</td>\n",
       "      <td>NaN</td>\n",
       "      <td>...</td>\n",
       "      <td>None</td>\n",
       "      <td>None</td>\n",
       "      <td>NaN</td>\n",
       "      <td>CLD</td>\n",
       "      <td>CIDADE LIDER</td>\n",
       "      <td>ITAQUERA</td>\n",
       "      <td>NaN</td>\n",
       "      <td>NaT</td>\n",
       "      <td>NaT</td>\n",
       "      <td>POINT (349321.685 7392790.549)</td>\n",
       "    </tr>\n",
       "    <tr>\n",
       "      <th>78203</th>\n",
       "      <td>169710</td>\n",
       "      <td>None</td>\n",
       "      <td>None</td>\n",
       "      <td>NaN</td>\n",
       "      <td>None</td>\n",
       "      <td>None</td>\n",
       "      <td>NaN</td>\n",
       "      <td>None</td>\n",
       "      <td>NaN</td>\n",
       "      <td>NaN</td>\n",
       "      <td>...</td>\n",
       "      <td>None</td>\n",
       "      <td>None</td>\n",
       "      <td>NaN</td>\n",
       "      <td>CBE</td>\n",
       "      <td>CAMPO BELO</td>\n",
       "      <td>SANTO AMARO</td>\n",
       "      <td>NaN</td>\n",
       "      <td>NaT</td>\n",
       "      <td>NaT</td>\n",
       "      <td>POINT (329282.359 7386894.191)</td>\n",
       "    </tr>\n",
       "    <tr>\n",
       "      <th>179148</th>\n",
       "      <td>260575</td>\n",
       "      <td>None</td>\n",
       "      <td>None</td>\n",
       "      <td>NaN</td>\n",
       "      <td>None</td>\n",
       "      <td>None</td>\n",
       "      <td>NaN</td>\n",
       "      <td>None</td>\n",
       "      <td>NaN</td>\n",
       "      <td>NaN</td>\n",
       "      <td>...</td>\n",
       "      <td>None</td>\n",
       "      <td>None</td>\n",
       "      <td>NaN</td>\n",
       "      <td>FRE</td>\n",
       "      <td>FREGUESIA DO O</td>\n",
       "      <td>FREGUESIA-BRASILANDIA</td>\n",
       "      <td>NaN</td>\n",
       "      <td>NaT</td>\n",
       "      <td>NaT</td>\n",
       "      <td>POINT (327792.281 7400281.281)</td>\n",
       "    </tr>\n",
       "  </tbody>\n",
       "</table>\n",
       "<p>3 rows × 22 columns</p>\n",
       "</div>"
      ],
      "text/plain": [
       "       cd_identif nm_vulgar_ dc_nm_popu  cd_especie dc_especie cd_identi0  \\\n",
       "335687     401457       None       None         NaN       None       None   \n",
       "78203      169710       None       None         NaN       None       None   \n",
       "179148     260575       None       None         NaN       None       None   \n",
       "\n",
       "        cd_tipo_po dc_tipo_po  qt_diametr  qt_altura_  ...  dc_tipo_es  \\\n",
       "335687         NaN       None         NaN         NaN  ...        None   \n",
       "78203          NaN       None         NaN         NaN  ...        None   \n",
       "179148         NaN       None         NaN         NaN  ...        None   \n",
       "\n",
       "        nm_logrado nr_logrado sg_distrit      nm_distrit  \\\n",
       "335687        None        NaN        CLD    CIDADE LIDER   \n",
       "78203         None        NaN        CBE      CAMPO BELO   \n",
       "179148        None        NaN        FRE  FREGUESIA DO O   \n",
       "\n",
       "                   nm_subpref cd_inspeca dt_inspeca  dt_atualiz  \\\n",
       "335687               ITAQUERA        NaN        NaT         NaT   \n",
       "78203             SANTO AMARO        NaN        NaT         NaT   \n",
       "179148  FREGUESIA-BRASILANDIA        NaN        NaT         NaT   \n",
       "\n",
       "                              geometry  \n",
       "335687  POINT (349321.685 7392790.549)  \n",
       "78203   POINT (329282.359 7386894.191)  \n",
       "179148  POINT (327792.281 7400281.281)  \n",
       "\n",
       "[3 rows x 22 columns]"
      ]
     },
     "execution_count": 5,
     "metadata": {},
     "output_type": "execute_result"
    }
   ],
   "source": [
    "gdf_arvore.sample(3)"
   ]
  },
  {
   "cell_type": "markdown",
   "id": "144d7a11-c42a-4bb6-839b-b4debf503b5f",
   "metadata": {},
   "source": [
    "## Padronizaçã de colunas"
   ]
  },
  {
   "cell_type": "markdown",
   "id": "f119a089-5eda-47c5-992e-e8b7938dcef7",
   "metadata": {},
   "source": [
    "Originalmente, muitas das colunas dos gdfs que serão interseccionados têm nomes repetidos, ou estavam vazias. Para que isso não faça com que a análise das tabelas seja confusa, apagaremos as colunas que julgadas desnecessárias, e renomearemos as necessárias."
   ]
  },
  {
   "cell_type": "code",
   "execution_count": 6,
   "id": "e44fcc3a-30d7-40a7-a227-3211fffe017f",
   "metadata": {},
   "outputs": [],
   "source": [
    "drop_arvore_cols = {\n",
    "    'nm_vulgar_', \n",
    "    'dc_nm_popu', \n",
    "    'cd_especie', \n",
    "    'dc_especie',\n",
    "    'cd_identi0', \n",
    "    'cd_tipo_po', \n",
    "    'dc_tipo_po', \n",
    "    'qt_diametr', \n",
    "    'qt_altura_',\n",
    "    'qt_diamet0', \n",
    "    'cd_tipo_es', \n",
    "    'dc_tipo_es', \n",
    "    'nm_logrado', \n",
    "    'nr_logrado',\n",
    "    'cd_inspeca',\n",
    "    'dt_inspeca',\n",
    "    'dt_atualiz'\n",
    "}\n",
    "\n",
    "gdf_arvore.drop(columns=drop_arvore_cols, axis=1, inplace=True)"
   ]
  },
  {
   "cell_type": "code",
   "execution_count": 7,
   "id": "13a4a0e1-b036-4ad9-81a0-5dc9d3525345",
   "metadata": {},
   "outputs": [],
   "source": [
    "rename_arvore_cols = {\n",
    "    'sg_distrit' : 'sg_dist_arv', \n",
    "    'nm_distrit' : 'nm_dist_arv'\n",
    "}\n",
    "\n",
    "gdf_arvore.rename(rename_arvore_cols, axis=1, inplace=True)"
   ]
  },
  {
   "cell_type": "markdown",
   "id": "cbf2c602-d537-4456-a2d2-9f9bd0e907b4",
   "metadata": {},
   "source": [
    "## Conferir CRS"
   ]
  },
  {
   "cell_type": "code",
   "execution_count": 8,
   "id": "54636e80-788c-4b42-b518-d20dd66b415d",
   "metadata": {},
   "outputs": [],
   "source": [
    "gdf_arvore = check_crs(gdf_arvore)"
   ]
  },
  {
   "cell_type": "markdown",
   "id": "82daabc2-6a8f-47a0-813e-80b881d45462",
   "metadata": {},
   "source": [
    "## Salvar GDF"
   ]
  },
  {
   "cell_type": "code",
   "execution_count": 9,
   "id": "6e388826-ee80-44df-b7e6-4ec3b5a56246",
   "metadata": {},
   "outputs": [],
   "source": [
    "save_parquet(\n",
    "    gdf_arvore, \n",
    "    'malha_arborizacao_viaria',\n",
    "    data_subpath='assets' \n",
    ")"
   ]
  },
  {
   "cell_type": "code",
   "execution_count": 10,
   "id": "28c5c92d-4b6c-46dc-8c21-d8f01f9da833",
   "metadata": {},
   "outputs": [
    {
     "data": {
      "text/html": [
       "<div>\n",
       "<style scoped>\n",
       "    .dataframe tbody tr th:only-of-type {\n",
       "        vertical-align: middle;\n",
       "    }\n",
       "\n",
       "    .dataframe tbody tr th {\n",
       "        vertical-align: top;\n",
       "    }\n",
       "\n",
       "    .dataframe thead th {\n",
       "        text-align: right;\n",
       "    }\n",
       "</style>\n",
       "<table border=\"1\" class=\"dataframe\">\n",
       "  <thead>\n",
       "    <tr style=\"text-align: right;\">\n",
       "      <th></th>\n",
       "      <th>cd_identif</th>\n",
       "      <th>sg_dist_arv</th>\n",
       "      <th>nm_dist_arv</th>\n",
       "      <th>nm_subpref</th>\n",
       "      <th>geometry</th>\n",
       "    </tr>\n",
       "  </thead>\n",
       "  <tbody>\n",
       "    <tr>\n",
       "      <th>51248</th>\n",
       "      <td>145450</td>\n",
       "      <td>CGR</td>\n",
       "      <td>CAMPO GRANDE</td>\n",
       "      <td>SANTO AMARO</td>\n",
       "      <td>POINT (328372.822 7383285.838)</td>\n",
       "    </tr>\n",
       "    <tr>\n",
       "      <th>24526</th>\n",
       "      <td>12140</td>\n",
       "      <td>REP</td>\n",
       "      <td>REPUBLICA</td>\n",
       "      <td>SE</td>\n",
       "      <td>POINT (332862.005 7394475.782)</td>\n",
       "    </tr>\n",
       "    <tr>\n",
       "      <th>37178</th>\n",
       "      <td>132788</td>\n",
       "      <td>LAP</td>\n",
       "      <td>LAPA</td>\n",
       "      <td>LAPA</td>\n",
       "      <td>POINT (326452.859 7397233.77)</td>\n",
       "    </tr>\n",
       "  </tbody>\n",
       "</table>\n",
       "</div>"
      ],
      "text/plain": [
       "      cd_identif sg_dist_arv   nm_dist_arv   nm_subpref  \\\n",
       "51248     145450         CGR  CAMPO GRANDE  SANTO AMARO   \n",
       "24526      12140         REP     REPUBLICA           SE   \n",
       "37178     132788         LAP          LAPA         LAPA   \n",
       "\n",
       "                             geometry  \n",
       "51248  POINT (328372.822 7383285.838)  \n",
       "24526  POINT (332862.005 7394475.782)  \n",
       "37178   POINT (326452.859 7397233.77)  "
      ]
     },
     "execution_count": 10,
     "metadata": {},
     "output_type": "execute_result"
    }
   ],
   "source": [
    "gdf_arvore.sample(3)"
   ]
  }
 ],
 "metadata": {
  "kernelspec": {
   "display_name": "Python 3 (ipykernel)",
   "language": "python",
   "name": "python3"
  },
  "language_info": {
   "codemirror_mode": {
    "name": "ipython",
    "version": 3
   },
   "file_extension": ".py",
   "mimetype": "text/x-python",
   "name": "python",
   "nbconvert_exporter": "python",
   "pygments_lexer": "ipython3",
   "version": "3.12.4"
  }
 },
 "nbformat": 4,
 "nbformat_minor": 5
}
